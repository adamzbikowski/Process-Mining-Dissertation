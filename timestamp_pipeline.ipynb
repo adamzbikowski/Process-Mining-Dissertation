{
  "cells": [
    {
      "cell_type": "markdown",
      "metadata": {
        "id": "view-in-github",
        "colab_type": "text"
      },
      "source": [
        "<a href=\"https://colab.research.google.com/github/adamzbikowski/Process-Mining-Dissertation/blob/main/timestamp_pipeline.ipynb\" target=\"_parent\"><img src=\"https://colab.research.google.com/assets/colab-badge.svg\" alt=\"Open In Colab\"/></a>"
      ]
    },
    {
      "cell_type": "markdown",
      "metadata": {
        "id": "_vJIqfLeCjHP"
      },
      "source": [
        "# Pipeline 1: predicting missing values for activity"
      ]
    },
    {
      "cell_type": "markdown",
      "source": [
        "##Section 0: Customisation"
      ],
      "metadata": {
        "id": "LZGZm2vxOFBT"
      }
    },
    {
      "cell_type": "markdown",
      "source": [
        "**Note on usage:**\n",
        "To customise the pipeline, only alter the parameters in this section."
      ],
      "metadata": {
        "id": "uuEFUnhyPLSz"
      }
    },
    {
      "cell_type": "code",
      "source": [
        "# The following parameters can be customised:\n",
        "\n",
        "# change depending on which branch the queries have been pushed to\n",
        "BRANCH = \"sql-queries\" \n",
        "\n",
        "# change this to change which query is being used\n",
        "QUERY_NAME = \"el_hypertension.sql\"\n",
        "\n",
        "# this assumes that the user has access to the mimic-iii dataset\n",
        "# through google BigQuery\n",
        "# replace project name to the project containing mimic-iii\n",
        "PROJECT_NAME = \"processmining-367815\" \n",
        "\n",
        "# change to alter the number of random traces being selected\n",
        "# set value to None in order to use the full dataset\n",
        "NUM_TRACES = 10000\n",
        "\n",
        "# IGNORE if event log does not include procedures\n",
        "# set to false if  \n",
        "CATEGORICAL_PROCEDURES = False\n",
        "\n",
        "# change to alter the prefix/suffix length\n",
        "PREFIX_LENGTH = 4\n",
        "\n",
        "# change to alter the size of the test and validation sets\n",
        "TEST_SIZE = 0.2\n",
        "VALIDATION_SIZE = 0.2\n",
        "\n",
        "# change to tune hyperparameters\n",
        "\n",
        "\n",
        "\n",
        "\n"
      ],
      "metadata": {
        "id": "7SRLZ8SUOEMp"
      },
      "execution_count": 253,
      "outputs": []
    },
    {
      "cell_type": "markdown",
      "metadata": {
        "id": "L27GXRjHCjHV"
      },
      "source": [
        "## Section 1: Loading event log"
      ]
    },
    {
      "cell_type": "markdown",
      "source": [
        "###1.1"
      ],
      "metadata": {
        "id": "9vuR0FKfBtms"
      }
    },
    {
      "cell_type": "code",
      "source": [
        "# installing prerequisites\n",
        "# certain packages are not installed by default on google colab\n",
        "!pip install pm4py\n",
        "!pip install -q -U keras-tuner"
      ],
      "metadata": {
        "colab": {
          "base_uri": "https://localhost:8080/"
        },
        "id": "JtmZ3GBVDj-s",
        "outputId": "685ebf37-a875-4d4c-e958-5268cbb5eed9"
      },
      "execution_count": 98,
      "outputs": [
        {
          "output_type": "stream",
          "name": "stdout",
          "text": [
            "Looking in indexes: https://pypi.org/simple, https://us-python.pkg.dev/colab-wheels/public/simple/\n",
            "Requirement already satisfied: pm4py in /usr/local/lib/python3.10/dist-packages (2.7.3)\n",
            "Requirement already satisfied: deprecation in /usr/local/lib/python3.10/dist-packages (from pm4py) (2.1.0)\n",
            "Requirement already satisfied: scipy in /usr/local/lib/python3.10/dist-packages (from pm4py) (1.10.1)\n",
            "Requirement already satisfied: intervaltree in /usr/local/lib/python3.10/dist-packages (from pm4py) (3.1.0)\n",
            "Requirement already satisfied: pytz in /usr/local/lib/python3.10/dist-packages (from pm4py) (2022.7.1)\n",
            "Requirement already satisfied: stringdist in /usr/local/lib/python3.10/dist-packages (from pm4py) (1.0.9)\n",
            "Requirement already satisfied: tqdm in /usr/local/lib/python3.10/dist-packages (from pm4py) (4.65.0)\n",
            "Requirement already satisfied: matplotlib in /usr/local/lib/python3.10/dist-packages (from pm4py) (3.7.1)\n",
            "Requirement already satisfied: cvxopt in /usr/local/lib/python3.10/dist-packages (from pm4py) (1.3.0)\n",
            "Requirement already satisfied: networkx in /usr/local/lib/python3.10/dist-packages (from pm4py) (3.1)\n",
            "Requirement already satisfied: graphviz in /usr/local/lib/python3.10/dist-packages (from pm4py) (0.20.1)\n",
            "Requirement already satisfied: pydotplus in /usr/local/lib/python3.10/dist-packages (from pm4py) (2.0.2)\n",
            "Requirement already satisfied: numpy in /usr/local/lib/python3.10/dist-packages (from pm4py) (1.24.3)\n",
            "Requirement already satisfied: pandas in /usr/local/lib/python3.10/dist-packages (from pm4py) (1.5.3)\n",
            "Requirement already satisfied: lxml in /usr/local/lib/python3.10/dist-packages (from pm4py) (4.9.2)\n",
            "Requirement already satisfied: packaging in /usr/local/lib/python3.10/dist-packages (from deprecation->pm4py) (23.1)\n",
            "Requirement already satisfied: sortedcontainers<3.0,>=2.0 in /usr/local/lib/python3.10/dist-packages (from intervaltree->pm4py) (2.4.0)\n",
            "Requirement already satisfied: cycler>=0.10 in /usr/local/lib/python3.10/dist-packages (from matplotlib->pm4py) (0.11.0)\n",
            "Requirement already satisfied: pillow>=6.2.0 in /usr/local/lib/python3.10/dist-packages (from matplotlib->pm4py) (8.4.0)\n",
            "Requirement already satisfied: contourpy>=1.0.1 in /usr/local/lib/python3.10/dist-packages (from matplotlib->pm4py) (1.0.7)\n",
            "Requirement already satisfied: fonttools>=4.22.0 in /usr/local/lib/python3.10/dist-packages (from matplotlib->pm4py) (4.39.3)\n",
            "Requirement already satisfied: python-dateutil>=2.7 in /usr/local/lib/python3.10/dist-packages (from matplotlib->pm4py) (2.8.2)\n",
            "Requirement already satisfied: pyparsing>=2.3.1 in /usr/local/lib/python3.10/dist-packages (from matplotlib->pm4py) (3.0.9)\n",
            "Requirement already satisfied: kiwisolver>=1.0.1 in /usr/local/lib/python3.10/dist-packages (from matplotlib->pm4py) (1.4.4)\n",
            "Requirement already satisfied: six>=1.5 in /usr/local/lib/python3.10/dist-packages (from python-dateutil>=2.7->matplotlib->pm4py) (1.16.0)\n"
          ]
        }
      ]
    },
    {
      "cell_type": "code",
      "source": [
        "from google.colab import auth\n",
        "auth.authenticate_user()"
      ],
      "metadata": {
        "id": "IrTL5G7bD7W6"
      },
      "execution_count": 99,
      "outputs": []
    },
    {
      "cell_type": "code",
      "source": [
        "\n",
        "from google.cloud import bigquery\n",
        "client = bigquery.Client(project=PROJECT_NAME)"
      ],
      "metadata": {
        "id": "-aNc-OmPEAZq"
      },
      "execution_count": 100,
      "outputs": []
    },
    {
      "cell_type": "code",
      "source": [
        "import requests\n",
        "\n",
        "# read a query from the github repository\n",
        "url = f\"https://raw.githubusercontent.com/adamzbikowski/Process-Mining-Dissertation/{BRANCH}/sql_queries/{QUERY_NAME}\"\n",
        "query_bytes = requests.get(url).content\n",
        "\n",
        "# we must now decode this to turn the query into a string \n",
        "query = query_bytes.decode(\"utf-8\")"
      ],
      "metadata": {
        "id": "cLK5sJ_qwY5W"
      },
      "execution_count": 101,
      "outputs": []
    },
    {
      "cell_type": "markdown",
      "source": [
        "###1.2"
      ],
      "metadata": {
        "id": "77eoZypCBrLK"
      }
    },
    {
      "cell_type": "code",
      "execution_count": 102,
      "metadata": {
        "colab": {
          "base_uri": "https://localhost:8080/",
          "height": 0
        },
        "id": "CmSHODCZCjHW",
        "outputId": "00145e93-02ae-4a6d-e37e-a65fc9b81f76"
      },
      "outputs": [
        {
          "output_type": "execute_result",
          "data": {
            "text/plain": [
              "        patient  activity           timestamp\n",
              "0        120290  Dialysis 2201-02-09 01:41:00\n",
              "1        120290  Dialysis 2201-02-13 22:31:00\n",
              "2        136056  Dialysis 2190-02-16 10:30:00\n",
              "3        136056  Dialysis 2190-02-11 18:35:00\n",
              "4        136056  Dialysis 2190-02-13 20:30:00\n",
              "...         ...       ...                 ...\n",
              "127266   116847        IV 2195-03-05 18:31:00\n",
              "127267   155516        IV 2103-09-21 03:00:00\n",
              "127268   177751        IV 2189-02-09 20:00:00\n",
              "127269   121528        IV 2174-04-12 15:55:00\n",
              "127270   128608        IV 2152-12-06 16:00:00\n",
              "\n",
              "[127271 rows x 3 columns]"
            ],
            "text/html": [
              "\n",
              "  <div id=\"df-edaa59ef-42b0-4baf-af55-b7e2b8445bce\">\n",
              "    <div class=\"colab-df-container\">\n",
              "      <div>\n",
              "<style scoped>\n",
              "    .dataframe tbody tr th:only-of-type {\n",
              "        vertical-align: middle;\n",
              "    }\n",
              "\n",
              "    .dataframe tbody tr th {\n",
              "        vertical-align: top;\n",
              "    }\n",
              "\n",
              "    .dataframe thead th {\n",
              "        text-align: right;\n",
              "    }\n",
              "</style>\n",
              "<table border=\"1\" class=\"dataframe\">\n",
              "  <thead>\n",
              "    <tr style=\"text-align: right;\">\n",
              "      <th></th>\n",
              "      <th>patient</th>\n",
              "      <th>activity</th>\n",
              "      <th>timestamp</th>\n",
              "    </tr>\n",
              "  </thead>\n",
              "  <tbody>\n",
              "    <tr>\n",
              "      <th>0</th>\n",
              "      <td>120290</td>\n",
              "      <td>Dialysis</td>\n",
              "      <td>2201-02-09 01:41:00</td>\n",
              "    </tr>\n",
              "    <tr>\n",
              "      <th>1</th>\n",
              "      <td>120290</td>\n",
              "      <td>Dialysis</td>\n",
              "      <td>2201-02-13 22:31:00</td>\n",
              "    </tr>\n",
              "    <tr>\n",
              "      <th>2</th>\n",
              "      <td>136056</td>\n",
              "      <td>Dialysis</td>\n",
              "      <td>2190-02-16 10:30:00</td>\n",
              "    </tr>\n",
              "    <tr>\n",
              "      <th>3</th>\n",
              "      <td>136056</td>\n",
              "      <td>Dialysis</td>\n",
              "      <td>2190-02-11 18:35:00</td>\n",
              "    </tr>\n",
              "    <tr>\n",
              "      <th>4</th>\n",
              "      <td>136056</td>\n",
              "      <td>Dialysis</td>\n",
              "      <td>2190-02-13 20:30:00</td>\n",
              "    </tr>\n",
              "    <tr>\n",
              "      <th>...</th>\n",
              "      <td>...</td>\n",
              "      <td>...</td>\n",
              "      <td>...</td>\n",
              "    </tr>\n",
              "    <tr>\n",
              "      <th>127266</th>\n",
              "      <td>116847</td>\n",
              "      <td>IV</td>\n",
              "      <td>2195-03-05 18:31:00</td>\n",
              "    </tr>\n",
              "    <tr>\n",
              "      <th>127267</th>\n",
              "      <td>155516</td>\n",
              "      <td>IV</td>\n",
              "      <td>2103-09-21 03:00:00</td>\n",
              "    </tr>\n",
              "    <tr>\n",
              "      <th>127268</th>\n",
              "      <td>177751</td>\n",
              "      <td>IV</td>\n",
              "      <td>2189-02-09 20:00:00</td>\n",
              "    </tr>\n",
              "    <tr>\n",
              "      <th>127269</th>\n",
              "      <td>121528</td>\n",
              "      <td>IV</td>\n",
              "      <td>2174-04-12 15:55:00</td>\n",
              "    </tr>\n",
              "    <tr>\n",
              "      <th>127270</th>\n",
              "      <td>128608</td>\n",
              "      <td>IV</td>\n",
              "      <td>2152-12-06 16:00:00</td>\n",
              "    </tr>\n",
              "  </tbody>\n",
              "</table>\n",
              "<p>127271 rows × 3 columns</p>\n",
              "</div>\n",
              "      <button class=\"colab-df-convert\" onclick=\"convertToInteractive('df-edaa59ef-42b0-4baf-af55-b7e2b8445bce')\"\n",
              "              title=\"Convert this dataframe to an interactive table.\"\n",
              "              style=\"display:none;\">\n",
              "        \n",
              "  <svg xmlns=\"http://www.w3.org/2000/svg\" height=\"24px\"viewBox=\"0 0 24 24\"\n",
              "       width=\"24px\">\n",
              "    <path d=\"M0 0h24v24H0V0z\" fill=\"none\"/>\n",
              "    <path d=\"M18.56 5.44l.94 2.06.94-2.06 2.06-.94-2.06-.94-.94-2.06-.94 2.06-2.06.94zm-11 1L8.5 8.5l.94-2.06 2.06-.94-2.06-.94L8.5 2.5l-.94 2.06-2.06.94zm10 10l.94 2.06.94-2.06 2.06-.94-2.06-.94-.94-2.06-.94 2.06-2.06.94z\"/><path d=\"M17.41 7.96l-1.37-1.37c-.4-.4-.92-.59-1.43-.59-.52 0-1.04.2-1.43.59L10.3 9.45l-7.72 7.72c-.78.78-.78 2.05 0 2.83L4 21.41c.39.39.9.59 1.41.59.51 0 1.02-.2 1.41-.59l7.78-7.78 2.81-2.81c.8-.78.8-2.07 0-2.86zM5.41 20L4 18.59l7.72-7.72 1.47 1.35L5.41 20z\"/>\n",
              "  </svg>\n",
              "      </button>\n",
              "      \n",
              "  <style>\n",
              "    .colab-df-container {\n",
              "      display:flex;\n",
              "      flex-wrap:wrap;\n",
              "      gap: 12px;\n",
              "    }\n",
              "\n",
              "    .colab-df-convert {\n",
              "      background-color: #E8F0FE;\n",
              "      border: none;\n",
              "      border-radius: 50%;\n",
              "      cursor: pointer;\n",
              "      display: none;\n",
              "      fill: #1967D2;\n",
              "      height: 32px;\n",
              "      padding: 0 0 0 0;\n",
              "      width: 32px;\n",
              "    }\n",
              "\n",
              "    .colab-df-convert:hover {\n",
              "      background-color: #E2EBFA;\n",
              "      box-shadow: 0px 1px 2px rgba(60, 64, 67, 0.3), 0px 1px 3px 1px rgba(60, 64, 67, 0.15);\n",
              "      fill: #174EA6;\n",
              "    }\n",
              "\n",
              "    [theme=dark] .colab-df-convert {\n",
              "      background-color: #3B4455;\n",
              "      fill: #D2E3FC;\n",
              "    }\n",
              "\n",
              "    [theme=dark] .colab-df-convert:hover {\n",
              "      background-color: #434B5C;\n",
              "      box-shadow: 0px 1px 3px 1px rgba(0, 0, 0, 0.15);\n",
              "      filter: drop-shadow(0px 1px 2px rgba(0, 0, 0, 0.3));\n",
              "      fill: #FFFFFF;\n",
              "    }\n",
              "  </style>\n",
              "\n",
              "      <script>\n",
              "        const buttonEl =\n",
              "          document.querySelector('#df-edaa59ef-42b0-4baf-af55-b7e2b8445bce button.colab-df-convert');\n",
              "        buttonEl.style.display =\n",
              "          google.colab.kernel.accessAllowed ? 'block' : 'none';\n",
              "\n",
              "        async function convertToInteractive(key) {\n",
              "          const element = document.querySelector('#df-edaa59ef-42b0-4baf-af55-b7e2b8445bce');\n",
              "          const dataTable =\n",
              "            await google.colab.kernel.invokeFunction('convertToInteractive',\n",
              "                                                     [key], {});\n",
              "          if (!dataTable) return;\n",
              "\n",
              "          const docLinkHtml = 'Like what you see? Visit the ' +\n",
              "            '<a target=\"_blank\" href=https://colab.research.google.com/notebooks/data_table.ipynb>data table notebook</a>'\n",
              "            + ' to learn more about interactive tables.';\n",
              "          element.innerHTML = '';\n",
              "          dataTable['output_type'] = 'display_data';\n",
              "          await google.colab.output.renderOutput(dataTable, element);\n",
              "          const docLink = document.createElement('div');\n",
              "          docLink.innerHTML = docLinkHtml;\n",
              "          element.appendChild(docLink);\n",
              "        }\n",
              "      </script>\n",
              "    </div>\n",
              "  </div>\n",
              "  "
            ]
          },
          "metadata": {},
          "execution_count": 102
        }
      ],
      "source": [
        "import pandas as pd\n",
        "\n",
        "# loading event log from mimic-iii using bigQuery\n",
        "event_log = client.query(query).to_dataframe()\n",
        "# convert timestamp from object to datetime64\n",
        "event_log[\"timestamp\"] = pd.to_datetime(event_log[\"timestamp\"])\n",
        "event_log\n"
      ]
    },
    {
      "cell_type": "markdown",
      "metadata": {
        "id": "E5nBYFkHCjHY"
      },
      "source": [
        "## Section 2: Process Discovery"
      ]
    },
    {
      "cell_type": "code",
      "execution_count": 103,
      "metadata": {
        "colab": {
          "base_uri": "https://localhost:8080/"
        },
        "id": "q__4BhKCCjHY",
        "outputId": "6cb5ad17-523b-409b-91b8-9bef46df2664"
      },
      "outputs": [
        {
          "output_type": "stream",
          "name": "stderr",
          "text": [
            "<ipython-input-103-aedec179434f>:3: DeprecatedWarning: format_dataframe is deprecated as of 2.3.0 and will be removed in 3.0.0. the format_dataframe function does not need application anymore.\n",
            "  event_log = pm.format_dataframe(event_log, case_id='patient', activity_key='activity', timestamp_key='timestamp')\n"
          ]
        },
        {
          "output_type": "stream",
          "name": "stdout",
          "text": [
            "Number of cases: 20696\n",
            "Number of events: 127271\n",
            "Start events: {'Admitted': 20390, 'Entered ICU': 265, 'Discharged': 23, 'Ventilation': 18}\n",
            "End events: {'Discharged': 17501, 'Left ICU': 3193, 'Admitted': 2}\n"
          ]
        }
      ],
      "source": [
        "import pm4py as pm\n",
        "\n",
        "event_log = pm.format_dataframe(event_log, case_id='patient', activity_key='activity', timestamp_key='timestamp')\n",
        "# lets get some information about the event log\n",
        "n_events = len(event_log)\n",
        "n_cases = len(event_log.patient.unique())\n",
        "start_events = pm.get_start_activities(event_log)\n",
        "end_events = pm.get_end_activities(event_log)\n",
        "print(f\"Number of cases: {n_cases}\\nNumber of events: {n_events}\")\n",
        "print(f\"Start events: {start_events}\\nEnd events: {end_events}\")\n"
      ]
    },
    {
      "cell_type": "code",
      "execution_count": 104,
      "metadata": {
        "id": "aETYaI3-CjHZ"
      },
      "outputs": [],
      "source": [
        "# lets improve the event log by filtering out the cases that do not start or end with a patient being admitted or discharged\n",
        "# this will simplify the model\n",
        "# filtered_log = deepcopy(event_log)\n",
        "event_log = pm.filter_start_activities(event_log, ['Admitted'])\n",
        "event_log = pm.filter_end_activities(event_log,['Discharged'])\n",
        "# event_log = pm.filter_variants_top_k(event_log,50)\n",
        "# event_log = pm.filter_variants_by_coverage_percentage(event_log, 0.1)"
      ]
    },
    {
      "cell_type": "code",
      "source": [
        "import matplotlib.pyplot as plt\n",
        "\n",
        "trace_lengths = pm.stats.get_all_case_durations(event_log)\n",
        "plt.hist(trace_lengths)\n",
        "plt.show()"
      ],
      "metadata": {
        "id": "co3lSxKs1MVl",
        "outputId": "f3849e27-7a68-4128-8b53-c8631752f3f5",
        "colab": {
          "base_uri": "https://localhost:8080/",
          "height": 0
        }
      },
      "execution_count": 105,
      "outputs": [
        {
          "output_type": "display_data",
          "data": {
            "text/plain": [
              "<Figure size 640x480 with 1 Axes>"
            ],
            "image/png": "[encoded data removed]"
          },
          "metadata": {}
        }
      ]
    },
    {
      "cell_type": "code",
      "source": [
        "import math\n",
        "sorted_lengths = sorted(trace_lengths, reverse=True)\n",
        "print(max(sorted_lengths))\n",
        "pct = math.ceil(len(sorted_lengths) * 0.1)\n",
        "# print(pct)\n",
        "sorted_lengths = sorted_lengths[pct:]\n",
        "max_length = max(sorted_lengths)\n",
        "# print(len(sorted_lengths))\n",
        "print(max_length)\n",
        "\n",
        "# filter by performance\n",
        "event_log = pm.filter_case_performance(event_log, 0, max_length)"
      ],
      "metadata": {
        "id": "X7XyPWE9m_hd",
        "outputId": "e3dec11f-d5e7-476a-e2d5-0530e90f93aa",
        "colab": {
          "base_uri": "https://localhost:8080/"
        }
      },
      "execution_count": 106,
      "outputs": [
        {
          "output_type": "stream",
          "name": "stdout",
          "text": [
            "25458660.0\n",
            "1493100.0\n"
          ]
        }
      ]
    },
    {
      "cell_type": "code",
      "source": [
        "n_events = len(event_log)\n",
        "n_cases = len(event_log.patient.unique())\n",
        "start_events = pm.get_start_activities(event_log)\n",
        "end_events = pm.get_end_activities(event_log)\n",
        "print(f\"Number of cases: {n_cases}\\nNumber of events: {n_events}\")\n",
        "print(f\"Start events: {start_events}\\nEnd events: {end_events}\")"
      ],
      "metadata": {
        "id": "5O3FQUeLAHW3",
        "outputId": "6a59588f-a397-4fd3-8406-3cad537d7b14",
        "colab": {
          "base_uri": "https://localhost:8080/"
        }
      },
      "execution_count": 107,
      "outputs": [
        {
          "output_type": "stream",
          "name": "stdout",
          "text": [
            "Number of cases: 15513\n",
            "Number of events: 89479\n",
            "Start events: {'Admitted': 15513}\n",
            "End events: {'Discharged': 15513}\n"
          ]
        }
      ]
    },
    {
      "cell_type": "code",
      "execution_count": 108,
      "metadata": {
        "id": "boYeNhZuCjHa"
      },
      "outputs": [],
      "source": [
        "net, initial_marking, final_marking = pm.discover_petri_net_alpha(event_log)"
      ]
    },
    {
      "cell_type": "code",
      "execution_count": 109,
      "metadata": {
        "colab": {
          "base_uri": "https://localhost:8080/",
          "height": 0
        },
        "id": "IIdzSIvdCjHa",
        "outputId": "6000ebcd-053a-442b-e488-b3fe7ca92cd4"
      },
      "outputs": [
        {
          "output_type": "display_data",
          "data": {
            "image/png": "[encoded data removed]",
            "text/plain": [
              "<IPython.core.display.Image object>"
            ]
          },
          "metadata": {}
        }
      ],
      "source": [
        "import graphviz\n",
        "pm.view_petri_net(petri_net=net)"
      ]
    },
    {
      "cell_type": "code",
      "source": [
        "# inductive miner\n",
        "# much better result than when using alpha miner, petri net \n",
        "net, initial_marking, final_marking = pm.discover_petri_net_inductive(event_log)\n",
        "pm.view_petri_net(petri_net=net)"
      ],
      "metadata": {
        "id": "f6fgpjqRKw67",
        "outputId": "5168fcc9-5f1f-4845-f9b2-6c9b6f982771",
        "colab": {
          "base_uri": "https://localhost:8080/",
          "height": 0
        }
      },
      "execution_count": 110,
      "outputs": [
        {
          "output_type": "display_data",
          "data": {
            "image/png": "[encoded data removed]",
            "text/plain": [
              "<IPython.core.display.Image object>"
            ]
          },
          "metadata": {}
        }
      ]
    },
    {
      "cell_type": "code",
      "source": [
        "# heuristic miner\n",
        "heu_net = pm.discover_heuristics_net(event_log, dependency_threshold=0.99)\n",
        "pm.view_heuristics_net(heu_net)"
      ],
      "metadata": {
        "id": "SXk4_DHFLDpB",
        "outputId": "a39dfe9c-0634-41fe-f5e4-7fcd2abcd9b6",
        "colab": {
          "base_uri": "https://localhost:8080/",
          "height": 0
        }
      },
      "execution_count": 111,
      "outputs": [
        {
          "output_type": "display_data",
          "data": {
            "image/png": "[encoded data removed]",
            "text/plain": [
              "<IPython.core.display.Image object>"
            ]
          },
          "metadata": {}
        }
      ]
    },
    {
      "cell_type": "code",
      "source": [
        "# petri net from heuristics miner\n",
        "net, im, fm = pm.discover_petri_net_heuristics(event_log, dependency_threshold=0.99)\n",
        "pm.view_petri_net(net, im, fm)"
      ],
      "metadata": {
        "id": "EZOGRFF2LHwh",
        "outputId": "f79e2887-8e82-4216-f5aa-f4b7213eea3a",
        "colab": {
          "base_uri": "https://localhost:8080/",
          "height": 0
        }
      },
      "execution_count": 112,
      "outputs": [
        {
          "output_type": "display_data",
          "data": {
            "image/png": "[encoded data removed]",
            "text/plain": [
              "<IPython.core.display.Image object>"
            ]
          },
          "metadata": {}
        }
      ]
    },
    {
      "cell_type": "markdown",
      "source": [
        "##Section 3: Preprocessing Data"
      ],
      "metadata": {
        "id": "c10XPg4ThBDc"
      }
    },
    {
      "cell_type": "code",
      "source": [
        "from pandas.core.window.ewm import partial\n",
        "import random\n",
        "\n",
        "def partial_log(el, n):\n",
        "\n",
        "  # select the first n cases to test the LSTM methodology\n",
        "  # lets first add a trace column to the event_log\n",
        "  el['trace'] = el.groupby(['patient']).ngroup()\n",
        "  el = el[['trace', 'activity', 'timestamp' ]].reset_index(drop=True)\n",
        "  # if n is None, return full event log\n",
        "  if n is None:\n",
        "    return el\n",
        "\n",
        "  # initialise random seed and array of traces\n",
        "  # random.seed(9)\n",
        "  random_traces = []\n",
        "\n",
        "  for i in range(0,n):\n",
        "    random_traces.append(random.randrange(0,n_cases))\n",
        "\n",
        "  partial_el = el[el['trace'].isin(random_traces)]\n",
        "  return partial_el\n"
      ],
      "metadata": {
        "id": "xZKy1dEdhIal"
      },
      "execution_count": 254,
      "outputs": []
    },
    {
      "cell_type": "code",
      "source": [
        "partial_el = partial_log(event_log, NUM_TRACES)\n",
        "partial_el"
      ],
      "metadata": {
        "id": "cqk_MMkrhaNz",
        "outputId": "83fa8c8b-c92a-4172-d02a-499bba2af9e1",
        "colab": {
          "base_uri": "https://localhost:8080/",
          "height": 0
        }
      },
      "execution_count": 255,
      "outputs": [
        {
          "output_type": "execute_result",
          "data": {
            "text/plain": [
              "       trace     activity           timestamp\n",
              "0          0     Admitted 2150-04-17 15:34:00\n",
              "1          0  Entered ICU 2150-04-17 15:35:42\n",
              "2          0           IV 2150-04-17 17:56:00\n",
              "3          0           IV 2150-04-17 18:05:00\n",
              "4          0           IV 2150-04-17 20:00:00\n",
              "...      ...          ...                 ...\n",
              "89470  15510   Discharged 2191-06-11 14:00:00\n",
              "89471  15511     Admitted 2188-10-30 16:55:00\n",
              "89472  15511  Entered ICU 2188-10-30 16:55:35\n",
              "89473  15511     Left ICU 2188-10-31 16:14:16\n",
              "89474  15511   Discharged 2188-11-02 12:40:00\n",
              "\n",
              "[42249 rows x 3 columns]"
            ],
            "text/html": [
              "\n",
              "  <div id=\"df-16fd236d-2d97-491f-b60a-80f812cca48b\">\n",
              "    <div class=\"colab-df-container\">\n",
              "      <div>\n",
              "<style scoped>\n",
              "    .dataframe tbody tr th:only-of-type {\n",
              "        vertical-align: middle;\n",
              "    }\n",
              "\n",
              "    .dataframe tbody tr th {\n",
              "        vertical-align: top;\n",
              "    }\n",
              "\n",
              "    .dataframe thead th {\n",
              "        text-align: right;\n",
              "    }\n",
              "</style>\n",
              "<table border=\"1\" class=\"dataframe\">\n",
              "  <thead>\n",
              "    <tr style=\"text-align: right;\">\n",
              "      <th></th>\n",
              "      <th>trace</th>\n",
              "      <th>activity</th>\n",
              "      <th>timestamp</th>\n",
              "    </tr>\n",
              "  </thead>\n",
              "  <tbody>\n",
              "    <tr>\n",
              "      <th>0</th>\n",
              "      <td>0</td>\n",
              "      <td>Admitted</td>\n",
              "      <td>2150-04-17 15:34:00</td>\n",
              "    </tr>\n",
              "    <tr>\n",
              "      <th>1</th>\n",
              "      <td>0</td>\n",
              "      <td>Entered ICU</td>\n",
              "      <td>2150-04-17 15:35:42</td>\n",
              "    </tr>\n",
              "    <tr>\n",
              "      <th>2</th>\n",
              "      <td>0</td>\n",
              "      <td>IV</td>\n",
              "      <td>2150-04-17 17:56:00</td>\n",
              "    </tr>\n",
              "    <tr>\n",
              "      <th>3</th>\n",
              "      <td>0</td>\n",
              "      <td>IV</td>\n",
              "      <td>2150-04-17 18:05:00</td>\n",
              "    </tr>\n",
              "    <tr>\n",
              "      <th>4</th>\n",
              "      <td>0</td>\n",
              "      <td>IV</td>\n",
              "      <td>2150-04-17 20:00:00</td>\n",
              "    </tr>\n",
              "    <tr>\n",
              "      <th>...</th>\n",
              "      <td>...</td>\n",
              "      <td>...</td>\n",
              "      <td>...</td>\n",
              "    </tr>\n",
              "    <tr>\n",
              "      <th>89470</th>\n",
              "      <td>15510</td>\n",
              "      <td>Discharged</td>\n",
              "      <td>2191-06-11 14:00:00</td>\n",
              "    </tr>\n",
              "    <tr>\n",
              "      <th>89471</th>\n",
              "      <td>15511</td>\n",
              "      <td>Admitted</td>\n",
              "      <td>2188-10-30 16:55:00</td>\n",
              "    </tr>\n",
              "    <tr>\n",
              "      <th>89472</th>\n",
              "      <td>15511</td>\n",
              "      <td>Entered ICU</td>\n",
              "      <td>2188-10-30 16:55:35</td>\n",
              "    </tr>\n",
              "    <tr>\n",
              "      <th>89473</th>\n",
              "      <td>15511</td>\n",
              "      <td>Left ICU</td>\n",
              "      <td>2188-10-31 16:14:16</td>\n",
              "    </tr>\n",
              "    <tr>\n",
              "      <th>89474</th>\n",
              "      <td>15511</td>\n",
              "      <td>Discharged</td>\n",
              "      <td>2188-11-02 12:40:00</td>\n",
              "    </tr>\n",
              "  </tbody>\n",
              "</table>\n",
              "<p>42249 rows × 3 columns</p>\n",
              "</div>\n",
              "      <button class=\"colab-df-convert\" onclick=\"convertToInteractive('df-16fd236d-2d97-491f-b60a-80f812cca48b')\"\n",
              "              title=\"Convert this dataframe to an interactive table.\"\n",
              "              style=\"display:none;\">\n",
              "        \n",
              "  <svg xmlns=\"http://www.w3.org/2000/svg\" height=\"24px\"viewBox=\"0 0 24 24\"\n",
              "       width=\"24px\">\n",
              "    <path d=\"M0 0h24v24H0V0z\" fill=\"none\"/>\n",
              "    <path d=\"M18.56 5.44l.94 2.06.94-2.06 2.06-.94-2.06-.94-.94-2.06-.94 2.06-2.06.94zm-11 1L8.5 8.5l.94-2.06 2.06-.94-2.06-.94L8.5 2.5l-.94 2.06-2.06.94zm10 10l.94 2.06.94-2.06 2.06-.94-2.06-.94-.94-2.06-.94 2.06-2.06.94z\"/><path d=\"M17.41 7.96l-1.37-1.37c-.4-.4-.92-.59-1.43-.59-.52 0-1.04.2-1.43.59L10.3 9.45l-7.72 7.72c-.78.78-.78 2.05 0 2.83L4 21.41c.39.39.9.59 1.41.59.51 0 1.02-.2 1.41-.59l7.78-7.78 2.81-2.81c.8-.78.8-2.07 0-2.86zM5.41 20L4 18.59l7.72-7.72 1.47 1.35L5.41 20z\"/>\n",
              "  </svg>\n",
              "      </button>\n",
              "      \n",
              "  <style>\n",
              "    .colab-df-container {\n",
              "      display:flex;\n",
              "      flex-wrap:wrap;\n",
              "      gap: 12px;\n",
              "    }\n",
              "\n",
              "    .colab-df-convert {\n",
              "      background-color: #E8F0FE;\n",
              "      border: none;\n",
              "      border-radius: 50%;\n",
              "      cursor: pointer;\n",
              "      display: none;\n",
              "      fill: #1967D2;\n",
              "      height: 32px;\n",
              "      padding: 0 0 0 0;\n",
              "      width: 32px;\n",
              "    }\n",
              "\n",
              "    .colab-df-convert:hover {\n",
              "      background-color: #E2EBFA;\n",
              "      box-shadow: 0px 1px 2px rgba(60, 64, 67, 0.3), 0px 1px 3px 1px rgba(60, 64, 67, 0.15);\n",
              "      fill: #174EA6;\n",
              "    }\n",
              "\n",
              "    [theme=dark] .colab-df-convert {\n",
              "      background-color: #3B4455;\n",
              "      fill: #D2E3FC;\n",
              "    }\n",
              "\n",
              "    [theme=dark] .colab-df-convert:hover {\n",
              "      background-color: #434B5C;\n",
              "      box-shadow: 0px 1px 3px 1px rgba(0, 0, 0, 0.15);\n",
              "      filter: drop-shadow(0px 1px 2px rgba(0, 0, 0, 0.3));\n",
              "      fill: #FFFFFF;\n",
              "    }\n",
              "  </style>\n",
              "\n",
              "      <script>\n",
              "        const buttonEl =\n",
              "          document.querySelector('#df-16fd236d-2d97-491f-b60a-80f812cca48b button.colab-df-convert');\n",
              "        buttonEl.style.display =\n",
              "          google.colab.kernel.accessAllowed ? 'block' : 'none';\n",
              "\n",
              "        async function convertToInteractive(key) {\n",
              "          const element = document.querySelector('#df-16fd236d-2d97-491f-b60a-80f812cca48b');\n",
              "          const dataTable =\n",
              "            await google.colab.kernel.invokeFunction('convertToInteractive',\n",
              "                                                     [key], {});\n",
              "          if (!dataTable) return;\n",
              "\n",
              "          const docLinkHtml = 'Like what you see? Visit the ' +\n",
              "            '<a target=\"_blank\" href=https://colab.research.google.com/notebooks/data_table.ipynb>data table notebook</a>'\n",
              "            + ' to learn more about interactive tables.';\n",
              "          element.innerHTML = '';\n",
              "          dataTable['output_type'] = 'display_data';\n",
              "          await google.colab.output.renderOutput(dataTable, element);\n",
              "          const docLink = document.createElement('div');\n",
              "          docLink.innerHTML = docLinkHtml;\n",
              "          element.appendChild(docLink);\n",
              "        }\n",
              "      </script>\n",
              "    </div>\n",
              "  </div>\n",
              "  "
            ]
          },
          "metadata": {},
          "execution_count": 255
        }
      ]
    },
    {
      "cell_type": "code",
      "source": [
        "# lets represent each activity using a statically defined number\n",
        "# this will prevent the need for using an embedding layer when traing the LSTM\n",
        "unique_activities = partial_el['activity'].unique()\n",
        "n_activities = len(unique_activities) + 1\n",
        "encode_activity = {unique_activities[i-1] : f'{i}' for i in range(1,n_activities)}\n",
        "\n",
        "# lets also create a second dictionary that will be used to decode predicted activities\n",
        "decode_activity = {f'{i}' : unique_activities[i-1] for i in range(1, len(unique_activities)+ 1)}\n",
        "encode_activity, decode_activity"
      ],
      "metadata": {
        "colab": {
          "base_uri": "https://localhost:8080/"
        },
        "id": "S16otFNLY06l",
        "outputId": "f42203f2-a49e-42d2-8d14-0766b6ec1437"
      },
      "execution_count": 256,
      "outputs": [
        {
          "output_type": "execute_result",
          "data": {
            "text/plain": [
              "({'Admitted': '1',\n",
              "  'Entered ICU': '2',\n",
              "  'IV': '3',\n",
              "  'Left ICU': '4',\n",
              "  'Discharged': '5',\n",
              "  'Ventilation': '6',\n",
              "  'Dialysis': '7'},\n",
              " {'1': 'Admitted',\n",
              "  '2': 'Entered ICU',\n",
              "  '3': 'IV',\n",
              "  '4': 'Left ICU',\n",
              "  '5': 'Discharged',\n",
              "  '6': 'Ventilation',\n",
              "  '7': 'Dialysis'})"
            ]
          },
          "metadata": {},
          "execution_count": 256
        }
      ]
    },
    {
      "cell_type": "code",
      "source": [
        "from sklearn.model_selection import train_test_split\n",
        "# select train and test traces\n",
        "unique_traces = partial_el['trace'].unique()\n",
        "train_traces, test_traces = train_test_split(unique_traces, test_size=TEST_SIZE, random_state=9)\n",
        "\n",
        "train_el = partial_el.loc[partial_el['trace'].isin(train_traces)]\n",
        "test_el = partial_el.loc[partial_el['trace'].isin(test_traces)]\n",
        "test_el"
      ],
      "metadata": {
        "id": "ZB_RL3cqhqRz",
        "outputId": "14c4dd17-91be-4ab9-c3fa-360ed0341775",
        "colab": {
          "base_uri": "https://localhost:8080/",
          "height": 0
        }
      },
      "execution_count": 257,
      "outputs": [
        {
          "output_type": "execute_result",
          "data": {
            "text/plain": [
              "       trace     activity           timestamp\n",
              "96        16     Admitted 2126-11-01 17:47:00\n",
              "97        16  Entered ICU 2126-11-01 17:47:40\n",
              "98        16           IV 2126-11-01 17:53:00\n",
              "99        16           IV 2126-11-01 17:55:00\n",
              "100       16           IV 2126-11-01 17:56:00\n",
              "...      ...          ...                 ...\n",
              "89398  15498   Discharged 2196-05-13 16:30:00\n",
              "89429  15503     Admitted 2183-03-24 03:13:00\n",
              "89430  15503  Entered ICU 2183-03-24 03:14:33\n",
              "89431  15503     Left ICU 2183-03-27 14:28:43\n",
              "89432  15503   Discharged 2183-03-28 16:08:00\n",
              "\n",
              "[8459 rows x 3 columns]"
            ],
            "text/html": [
              "\n",
              "  <div id=\"df-db24ad09-5ecc-4247-ba78-a50a28af78b5\">\n",
              "    <div class=\"colab-df-container\">\n",
              "      <div>\n",
              "<style scoped>\n",
              "    .dataframe tbody tr th:only-of-type {\n",
              "        vertical-align: middle;\n",
              "    }\n",
              "\n",
              "    .dataframe tbody tr th {\n",
              "        vertical-align: top;\n",
              "    }\n",
              "\n",
              "    .dataframe thead th {\n",
              "        text-align: right;\n",
              "    }\n",
              "</style>\n",
              "<table border=\"1\" class=\"dataframe\">\n",
              "  <thead>\n",
              "    <tr style=\"text-align: right;\">\n",
              "      <th></th>\n",
              "      <th>trace</th>\n",
              "      <th>activity</th>\n",
              "      <th>timestamp</th>\n",
              "    </tr>\n",
              "  </thead>\n",
              "  <tbody>\n",
              "    <tr>\n",
              "      <th>96</th>\n",
              "      <td>16</td>\n",
              "      <td>Admitted</td>\n",
              "      <td>2126-11-01 17:47:00</td>\n",
              "    </tr>\n",
              "    <tr>\n",
              "      <th>97</th>\n",
              "      <td>16</td>\n",
              "      <td>Entered ICU</td>\n",
              "      <td>2126-11-01 17:47:40</td>\n",
              "    </tr>\n",
              "    <tr>\n",
              "      <th>98</th>\n",
              "      <td>16</td>\n",
              "      <td>IV</td>\n",
              "      <td>2126-11-01 17:53:00</td>\n",
              "    </tr>\n",
              "    <tr>\n",
              "      <th>99</th>\n",
              "      <td>16</td>\n",
              "      <td>IV</td>\n",
              "      <td>2126-11-01 17:55:00</td>\n",
              "    </tr>\n",
              "    <tr>\n",
              "      <th>100</th>\n",
              "      <td>16</td>\n",
              "      <td>IV</td>\n",
              "      <td>2126-11-01 17:56:00</td>\n",
              "    </tr>\n",
              "    <tr>\n",
              "      <th>...</th>\n",
              "      <td>...</td>\n",
              "      <td>...</td>\n",
              "      <td>...</td>\n",
              "    </tr>\n",
              "    <tr>\n",
              "      <th>89398</th>\n",
              "      <td>15498</td>\n",
              "      <td>Discharged</td>\n",
              "      <td>2196-05-13 16:30:00</td>\n",
              "    </tr>\n",
              "    <tr>\n",
              "      <th>89429</th>\n",
              "      <td>15503</td>\n",
              "      <td>Admitted</td>\n",
              "      <td>2183-03-24 03:13:00</td>\n",
              "    </tr>\n",
              "    <tr>\n",
              "      <th>89430</th>\n",
              "      <td>15503</td>\n",
              "      <td>Entered ICU</td>\n",
              "      <td>2183-03-24 03:14:33</td>\n",
              "    </tr>\n",
              "    <tr>\n",
              "      <th>89431</th>\n",
              "      <td>15503</td>\n",
              "      <td>Left ICU</td>\n",
              "      <td>2183-03-27 14:28:43</td>\n",
              "    </tr>\n",
              "    <tr>\n",
              "      <th>89432</th>\n",
              "      <td>15503</td>\n",
              "      <td>Discharged</td>\n",
              "      <td>2183-03-28 16:08:00</td>\n",
              "    </tr>\n",
              "  </tbody>\n",
              "</table>\n",
              "<p>8459 rows × 3 columns</p>\n",
              "</div>\n",
              "      <button class=\"colab-df-convert\" onclick=\"convertToInteractive('df-db24ad09-5ecc-4247-ba78-a50a28af78b5')\"\n",
              "              title=\"Convert this dataframe to an interactive table.\"\n",
              "              style=\"display:none;\">\n",
              "        \n",
              "  <svg xmlns=\"http://www.w3.org/2000/svg\" height=\"24px\"viewBox=\"0 0 24 24\"\n",
              "       width=\"24px\">\n",
              "    <path d=\"M0 0h24v24H0V0z\" fill=\"none\"/>\n",
              "    <path d=\"M18.56 5.44l.94 2.06.94-2.06 2.06-.94-2.06-.94-.94-2.06-.94 2.06-2.06.94zm-11 1L8.5 8.5l.94-2.06 2.06-.94-2.06-.94L8.5 2.5l-.94 2.06-2.06.94zm10 10l.94 2.06.94-2.06 2.06-.94-2.06-.94-.94-2.06-.94 2.06-2.06.94z\"/><path d=\"M17.41 7.96l-1.37-1.37c-.4-.4-.92-.59-1.43-.59-.52 0-1.04.2-1.43.59L10.3 9.45l-7.72 7.72c-.78.78-.78 2.05 0 2.83L4 21.41c.39.39.9.59 1.41.59.51 0 1.02-.2 1.41-.59l7.78-7.78 2.81-2.81c.8-.78.8-2.07 0-2.86zM5.41 20L4 18.59l7.72-7.72 1.47 1.35L5.41 20z\"/>\n",
              "  </svg>\n",
              "      </button>\n",
              "      \n",
              "  <style>\n",
              "    .colab-df-container {\n",
              "      display:flex;\n",
              "      flex-wrap:wrap;\n",
              "      gap: 12px;\n",
              "    }\n",
              "\n",
              "    .colab-df-convert {\n",
              "      background-color: #E8F0FE;\n",
              "      border: none;\n",
              "      border-radius: 50%;\n",
              "      cursor: pointer;\n",
              "      display: none;\n",
              "      fill: #1967D2;\n",
              "      height: 32px;\n",
              "      padding: 0 0 0 0;\n",
              "      width: 32px;\n",
              "    }\n",
              "\n",
              "    .colab-df-convert:hover {\n",
              "      background-color: #E2EBFA;\n",
              "      box-shadow: 0px 1px 2px rgba(60, 64, 67, 0.3), 0px 1px 3px 1px rgba(60, 64, 67, 0.15);\n",
              "      fill: #174EA6;\n",
              "    }\n",
              "\n",
              "    [theme=dark] .colab-df-convert {\n",
              "      background-color: #3B4455;\n",
              "      fill: #D2E3FC;\n",
              "    }\n",
              "\n",
              "    [theme=dark] .colab-df-convert:hover {\n",
              "      background-color: #434B5C;\n",
              "      box-shadow: 0px 1px 3px 1px rgba(0, 0, 0, 0.15);\n",
              "      filter: drop-shadow(0px 1px 2px rgba(0, 0, 0, 0.3));\n",
              "      fill: #FFFFFF;\n",
              "    }\n",
              "  </style>\n",
              "\n",
              "      <script>\n",
              "        const buttonEl =\n",
              "          document.querySelector('#df-db24ad09-5ecc-4247-ba78-a50a28af78b5 button.colab-df-convert');\n",
              "        buttonEl.style.display =\n",
              "          google.colab.kernel.accessAllowed ? 'block' : 'none';\n",
              "\n",
              "        async function convertToInteractive(key) {\n",
              "          const element = document.querySelector('#df-db24ad09-5ecc-4247-ba78-a50a28af78b5');\n",
              "          const dataTable =\n",
              "            await google.colab.kernel.invokeFunction('convertToInteractive',\n",
              "                                                     [key], {});\n",
              "          if (!dataTable) return;\n",
              "\n",
              "          const docLinkHtml = 'Like what you see? Visit the ' +\n",
              "            '<a target=\"_blank\" href=https://colab.research.google.com/notebooks/data_table.ipynb>data table notebook</a>'\n",
              "            + ' to learn more about interactive tables.';\n",
              "          element.innerHTML = '';\n",
              "          dataTable['output_type'] = 'display_data';\n",
              "          await google.colab.output.renderOutput(dataTable, element);\n",
              "          const docLink = document.createElement('div');\n",
              "          docLink.innerHTML = docLinkHtml;\n",
              "          element.appendChild(docLink);\n",
              "        }\n",
              "      </script>\n",
              "    </div>\n",
              "  </div>\n",
              "  "
            ]
          },
          "metadata": {},
          "execution_count": 257
        }
      ]
    },
    {
      "cell_type": "code",
      "source": [
        "# find the first timestamp in dataset\n",
        "# start_time = partial_el['timestamp'].min()"
      ],
      "metadata": {
        "id": "lfJB8-x8ePWY"
      },
      "execution_count": 258,
      "outputs": []
    },
    {
      "cell_type": "code",
      "source": [
        "import numpy as np\n",
        "\n",
        "# transform train data into prefix, suffix and label\n",
        "def label_train(el):\n",
        "  prefix_arr, suffix_arr, prefix_times_arr, suffix_times_arr, label_arr, label_times_arr = [], [], [], [], [], []\n",
        "  start_times, end_times = [], []\n",
        "  labeled_arr = []\n",
        "  unique_traces = el['trace'].unique()\n",
        "  \n",
        "  for t in unique_traces:\n",
        "    df = el[:][el.trace == t].sort_values(by='timestamp')\n",
        "    activities, timestamps = [], []\n",
        "\n",
        "    for i in df.index:\n",
        "      activity = encode_activity.get(df['activity'][i])\n",
        "      activities.append(activity)\n",
        "      timestamp = df['timestamp'][i]\n",
        "      # timestamp = (df['timestamp'][i] - start_time).total_seconds() / 10_000_000_000\n",
        "      timestamps.append(timestamp)\n",
        "    \n",
        "    start_time = timestamps[0]\n",
        "    end_time = timestamps[-1]\n",
        "    length = len(activities)\n",
        "    \n",
        "    for i in range(length):\n",
        "      timestamps[i] = (timestamps[i] - start_time).total_seconds() / max_length \n",
        "      # / 3600 / 1000\n",
        "    \n",
        "\n",
        "    for i in range(length):\n",
        "      label = activities[i]\n",
        "      time_label = timestamps[i]\n",
        "      prefix = activities[:i]\n",
        "      prefix_times = timestamps[:i]\n",
        "\n",
        "      suffix = []\n",
        "      suffix_times = []\n",
        "\n",
        "      if i != length - 1:\n",
        "        suffix = activities[i+1:]\n",
        "        suffix_times = timestamps[i+1:]\n",
        "\n",
        "      padding = []\n",
        "\n",
        "      while len(prefix) + len(padding) < PREFIX_LENGTH:\n",
        "        padding.append('0')\n",
        "      \n",
        "      prefix = padding + prefix\n",
        "        \n",
        "      padding = []\n",
        "      \n",
        "      while len(prefix_times) + len(padding) < PREFIX_LENGTH:\n",
        "        padding.append(0.0)\n",
        "      \n",
        "      prefix_times =  padding + prefix_times\n",
        "\n",
        "      while len(suffix) < PREFIX_LENGTH:\n",
        "        suffix.append('0')\n",
        "\n",
        "      while len(suffix_times) < PREFIX_LENGTH:\n",
        "        suffix_times.append(0.0)\n",
        "      \n",
        "      prefix_arr.append(np.array(prefix[0:PREFIX_LENGTH], dtype=int))\n",
        "      suffix_arr.append(np.array(suffix[0:PREFIX_LENGTH], dtype=int))\n",
        "      prefix_times_arr.append(np.array(prefix_times[0:PREFIX_LENGTH]))\n",
        "      suffix_times_arr.append(np.array(suffix_times[0:PREFIX_LENGTH]))\n",
        "      label_arr.append(label)\n",
        "      label_times_arr.append(time_label)\n",
        "      start_times.append(start_time)\n",
        "      end_times.append(end_time)\n",
        "\n",
        "  return pd.DataFrame({'prefix' : prefix_arr, \n",
        "                       'suffix' : suffix_arr,\n",
        "                       'prefix times' : prefix_times_arr,\n",
        "                       'suffix times' : suffix_times_arr,\n",
        "                       'activity label' : label_arr,\n",
        "                       'time label': label_times_arr,\n",
        "                       'start times': start_times,\n",
        "                       'end times': end_times\n",
        "                       })\n",
        "  \n",
        "\n",
        "labeled_train_el = label_train(train_el)\n",
        "labeled_train_el"
      ],
      "metadata": {
        "colab": {
          "base_uri": "https://localhost:8080/",
          "height": 0
        },
        "id": "iLduBudKXWNT",
        "outputId": "55600afa-d8a3-42c7-df01-07e6a874b3b3"
      },
      "execution_count": 259,
      "outputs": [
        {
          "output_type": "execute_result",
          "data": {
            "text/plain": [
              "             prefix        suffix  \\\n",
              "0      [0, 0, 0, 0]  [2, 3, 3, 3]   \n",
              "1      [0, 0, 0, 1]  [3, 3, 3, 4]   \n",
              "2      [0, 0, 1, 2]  [3, 3, 4, 5]   \n",
              "3      [0, 1, 2, 3]  [3, 4, 5, 0]   \n",
              "4      [1, 2, 3, 3]  [4, 5, 0, 0]   \n",
              "...             ...           ...   \n",
              "33785  [1, 2, 3, 4]  [0, 0, 0, 0]   \n",
              "33786  [0, 0, 0, 0]  [2, 4, 5, 0]   \n",
              "33787  [0, 0, 0, 1]  [4, 5, 0, 0]   \n",
              "33788  [0, 0, 1, 2]  [5, 0, 0, 0]   \n",
              "33789  [0, 1, 2, 4]  [0, 0, 0, 0]   \n",
              "\n",
              "                                            prefix times  \\\n",
              "0                                   [0.0, 0.0, 0.0, 0.0]   \n",
              "1                                   [0.0, 0.0, 0.0, 0.0]   \n",
              "2                  [0.0, 0.0, 0.0, 6.83142455294354e-05]   \n",
              "3      [0.0, 0.0, 6.83142455294354e-05, 0.00570624874...   \n",
              "4      [0.0, 6.83142455294354e-05, 0.0057062487442234...   \n",
              "...                                                  ...   \n",
              "33785  [0.0, 2.344116268166901e-05, 0.000442033353425...   \n",
              "33786                               [0.0, 0.0, 0.0, 0.0]   \n",
              "33787                               [0.0, 0.0, 0.0, 0.0]   \n",
              "33788             [0.0, 0.0, 0.0, 2.344116268166901e-05]   \n",
              "33789  [0.0, 0.0, 2.344116268166901e-05, 0.0562293215...   \n",
              "\n",
              "                                            suffix times activity label  \\\n",
              "0      [6.83142455294354e-05, 0.005706248744223427, 0...              1   \n",
              "1      [0.005706248744223427, 0.0060679123970263215, ...              2   \n",
              "2      [0.0060679123970263215, 0.010689170182841068, ...              3   \n",
              "3      [0.010689170182841068, 0.1124720380416583, 0.2...              3   \n",
              "4      [0.1124720380416583, 0.2361261804299779, 0.0, ...              3   \n",
              "...                                                  ...            ...   \n",
              "33785                               [0.0, 0.0, 0.0, 0.0]              5   \n",
              "33786  [2.344116268166901e-05, 0.05622932154577724, 0...              1   \n",
              "33787  [0.05622932154577724, 0.16335141651597349, 0.0...              2   \n",
              "33788               [0.16335141651597349, 0.0, 0.0, 0.0]              4   \n",
              "33789                               [0.0, 0.0, 0.0, 0.0]              5   \n",
              "\n",
              "       time label         start times           end times  \n",
              "0        0.000000 2150-04-17 15:34:00 2150-04-21 17:30:00  \n",
              "1        0.000068 2150-04-17 15:34:00 2150-04-21 17:30:00  \n",
              "2        0.005706 2150-04-17 15:34:00 2150-04-21 17:30:00  \n",
              "3        0.006068 2150-04-17 15:34:00 2150-04-21 17:30:00  \n",
              "4        0.010689 2150-04-17 15:34:00 2150-04-21 17:30:00  \n",
              "...           ...                 ...                 ...  \n",
              "33785    0.165602 2191-06-08 17:19:00 2191-06-11 14:00:00  \n",
              "33786    0.000000 2188-10-30 16:55:00 2188-11-02 12:40:00  \n",
              "33787    0.000023 2188-10-30 16:55:00 2188-11-02 12:40:00  \n",
              "33788    0.056229 2188-10-30 16:55:00 2188-11-02 12:40:00  \n",
              "33789    0.163351 2188-10-30 16:55:00 2188-11-02 12:40:00  \n",
              "\n",
              "[33790 rows x 8 columns]"
            ],
            "text/html": [
              "\n",
              "  <div id=\"df-f06b7410-b47e-49f4-b700-b4dd0db86855\">\n",
              "    <div class=\"colab-df-container\">\n",
              "      <div>\n",
              "<style scoped>\n",
              "    .dataframe tbody tr th:only-of-type {\n",
              "        vertical-align: middle;\n",
              "    }\n",
              "\n",
              "    .dataframe tbody tr th {\n",
              "        vertical-align: top;\n",
              "    }\n",
              "\n",
              "    .dataframe thead th {\n",
              "        text-align: right;\n",
              "    }\n",
              "</style>\n",
              "<table border=\"1\" class=\"dataframe\">\n",
              "  <thead>\n",
              "    <tr style=\"text-align: right;\">\n",
              "      <th></th>\n",
              "      <th>prefix</th>\n",
              "      <th>suffix</th>\n",
              "      <th>prefix times</th>\n",
              "      <th>suffix times</th>\n",
              "      <th>activity label</th>\n",
              "      <th>time label</th>\n",
              "      <th>start times</th>\n",
              "      <th>end times</th>\n",
              "    </tr>\n",
              "  </thead>\n",
              "  <tbody>\n",
              "    <tr>\n",
              "      <th>0</th>\n",
              "      <td>[0, 0, 0, 0]</td>\n",
              "      <td>[2, 3, 3, 3]</td>\n",
              "      <td>[0.0, 0.0, 0.0, 0.0]</td>\n",
              "      <td>[6.83142455294354e-05, 0.005706248744223427, 0...</td>\n",
              "      <td>1</td>\n",
              "      <td>0.000000</td>\n",
              "      <td>2150-04-17 15:34:00</td>\n",
              "      <td>2150-04-21 17:30:00</td>\n",
              "    </tr>\n",
              "    <tr>\n",
              "      <th>1</th>\n",
              "      <td>[0, 0, 0, 1]</td>\n",
              "      <td>[3, 3, 3, 4]</td>\n",
              "      <td>[0.0, 0.0, 0.0, 0.0]</td>\n",
              "      <td>[0.005706248744223427, 0.0060679123970263215, ...</td>\n",
              "      <td>2</td>\n",
              "      <td>0.000068</td>\n",
              "      <td>2150-04-17 15:34:00</td>\n",
              "      <td>2150-04-21 17:30:00</td>\n",
              "    </tr>\n",
              "    <tr>\n",
              "      <th>2</th>\n",
              "      <td>[0, 0, 1, 2]</td>\n",
              "      <td>[3, 3, 4, 5]</td>\n",
              "      <td>[0.0, 0.0, 0.0, 6.83142455294354e-05]</td>\n",
              "      <td>[0.0060679123970263215, 0.010689170182841068, ...</td>\n",
              "      <td>3</td>\n",
              "      <td>0.005706</td>\n",
              "      <td>2150-04-17 15:34:00</td>\n",
              "      <td>2150-04-21 17:30:00</td>\n",
              "    </tr>\n",
              "    <tr>\n",
              "      <th>3</th>\n",
              "      <td>[0, 1, 2, 3]</td>\n",
              "      <td>[3, 4, 5, 0]</td>\n",
              "      <td>[0.0, 0.0, 6.83142455294354e-05, 0.00570624874...</td>\n",
              "      <td>[0.010689170182841068, 0.1124720380416583, 0.2...</td>\n",
              "      <td>3</td>\n",
              "      <td>0.006068</td>\n",
              "      <td>2150-04-17 15:34:00</td>\n",
              "      <td>2150-04-21 17:30:00</td>\n",
              "    </tr>\n",
              "    <tr>\n",
              "      <th>4</th>\n",
              "      <td>[1, 2, 3, 3]</td>\n",
              "      <td>[4, 5, 0, 0]</td>\n",
              "      <td>[0.0, 6.83142455294354e-05, 0.0057062487442234...</td>\n",
              "      <td>[0.1124720380416583, 0.2361261804299779, 0.0, ...</td>\n",
              "      <td>3</td>\n",
              "      <td>0.010689</td>\n",
              "      <td>2150-04-17 15:34:00</td>\n",
              "      <td>2150-04-21 17:30:00</td>\n",
              "    </tr>\n",
              "    <tr>\n",
              "      <th>...</th>\n",
              "      <td>...</td>\n",
              "      <td>...</td>\n",
              "      <td>...</td>\n",
              "      <td>...</td>\n",
              "      <td>...</td>\n",
              "      <td>...</td>\n",
              "      <td>...</td>\n",
              "      <td>...</td>\n",
              "    </tr>\n",
              "    <tr>\n",
              "      <th>33785</th>\n",
              "      <td>[1, 2, 3, 4]</td>\n",
              "      <td>[0, 0, 0, 0]</td>\n",
              "      <td>[0.0, 2.344116268166901e-05, 0.000442033353425...</td>\n",
              "      <td>[0.0, 0.0, 0.0, 0.0]</td>\n",
              "      <td>5</td>\n",
              "      <td>0.165602</td>\n",
              "      <td>2191-06-08 17:19:00</td>\n",
              "      <td>2191-06-11 14:00:00</td>\n",
              "    </tr>\n",
              "    <tr>\n",
              "      <th>33786</th>\n",
              "      <td>[0, 0, 0, 0]</td>\n",
              "      <td>[2, 4, 5, 0]</td>\n",
              "      <td>[0.0, 0.0, 0.0, 0.0]</td>\n",
              "      <td>[2.344116268166901e-05, 0.05622932154577724, 0...</td>\n",
              "      <td>1</td>\n",
              "      <td>0.000000</td>\n",
              "      <td>2188-10-30 16:55:00</td>\n",
              "      <td>2188-11-02 12:40:00</td>\n",
              "    </tr>\n",
              "    <tr>\n",
              "      <th>33787</th>\n",
              "      <td>[0, 0, 0, 1]</td>\n",
              "      <td>[4, 5, 0, 0]</td>\n",
              "      <td>[0.0, 0.0, 0.0, 0.0]</td>\n",
              "      <td>[0.05622932154577724, 0.16335141651597349, 0.0...</td>\n",
              "      <td>2</td>\n",
              "      <td>0.000023</td>\n",
              "      <td>2188-10-30 16:55:00</td>\n",
              "      <td>2188-11-02 12:40:00</td>\n",
              "    </tr>\n",
              "    <tr>\n",
              "      <th>33788</th>\n",
              "      <td>[0, 0, 1, 2]</td>\n",
              "      <td>[5, 0, 0, 0]</td>\n",
              "      <td>[0.0, 0.0, 0.0, 2.344116268166901e-05]</td>\n",
              "      <td>[0.16335141651597349, 0.0, 0.0, 0.0]</td>\n",
              "      <td>4</td>\n",
              "      <td>0.056229</td>\n",
              "      <td>2188-10-30 16:55:00</td>\n",
              "      <td>2188-11-02 12:40:00</td>\n",
              "    </tr>\n",
              "    <tr>\n",
              "      <th>33789</th>\n",
              "      <td>[0, 1, 2, 4]</td>\n",
              "      <td>[0, 0, 0, 0]</td>\n",
              "      <td>[0.0, 0.0, 2.344116268166901e-05, 0.0562293215...</td>\n",
              "      <td>[0.0, 0.0, 0.0, 0.0]</td>\n",
              "      <td>5</td>\n",
              "      <td>0.163351</td>\n",
              "      <td>2188-10-30 16:55:00</td>\n",
              "      <td>2188-11-02 12:40:00</td>\n",
              "    </tr>\n",
              "  </tbody>\n",
              "</table>\n",
              "<p>33790 rows × 8 columns</p>\n",
              "</div>\n",
              "      <button class=\"colab-df-convert\" onclick=\"convertToInteractive('df-f06b7410-b47e-49f4-b700-b4dd0db86855')\"\n",
              "              title=\"Convert this dataframe to an interactive table.\"\n",
              "              style=\"display:none;\">\n",
              "        \n",
              "  <svg xmlns=\"http://www.w3.org/2000/svg\" height=\"24px\"viewBox=\"0 0 24 24\"\n",
              "       width=\"24px\">\n",
              "    <path d=\"M0 0h24v24H0V0z\" fill=\"none\"/>\n",
              "    <path d=\"M18.56 5.44l.94 2.06.94-2.06 2.06-.94-2.06-.94-.94-2.06-.94 2.06-2.06.94zm-11 1L8.5 8.5l.94-2.06 2.06-.94-2.06-.94L8.5 2.5l-.94 2.06-2.06.94zm10 10l.94 2.06.94-2.06 2.06-.94-2.06-.94-.94-2.06-.94 2.06-2.06.94z\"/><path d=\"M17.41 7.96l-1.37-1.37c-.4-.4-.92-.59-1.43-.59-.52 0-1.04.2-1.43.59L10.3 9.45l-7.72 7.72c-.78.78-.78 2.05 0 2.83L4 21.41c.39.39.9.59 1.41.59.51 0 1.02-.2 1.41-.59l7.78-7.78 2.81-2.81c.8-.78.8-2.07 0-2.86zM5.41 20L4 18.59l7.72-7.72 1.47 1.35L5.41 20z\"/>\n",
              "  </svg>\n",
              "      </button>\n",
              "      \n",
              "  <style>\n",
              "    .colab-df-container {\n",
              "      display:flex;\n",
              "      flex-wrap:wrap;\n",
              "      gap: 12px;\n",
              "    }\n",
              "\n",
              "    .colab-df-convert {\n",
              "      background-color: #E8F0FE;\n",
              "      border: none;\n",
              "      border-radius: 50%;\n",
              "      cursor: pointer;\n",
              "      display: none;\n",
              "      fill: #1967D2;\n",
              "      height: 32px;\n",
              "      padding: 0 0 0 0;\n",
              "      width: 32px;\n",
              "    }\n",
              "\n",
              "    .colab-df-convert:hover {\n",
              "      background-color: #E2EBFA;\n",
              "      box-shadow: 0px 1px 2px rgba(60, 64, 67, 0.3), 0px 1px 3px 1px rgba(60, 64, 67, 0.15);\n",
              "      fill: #174EA6;\n",
              "    }\n",
              "\n",
              "    [theme=dark] .colab-df-convert {\n",
              "      background-color: #3B4455;\n",
              "      fill: #D2E3FC;\n",
              "    }\n",
              "\n",
              "    [theme=dark] .colab-df-convert:hover {\n",
              "      background-color: #434B5C;\n",
              "      box-shadow: 0px 1px 3px 1px rgba(0, 0, 0, 0.15);\n",
              "      filter: drop-shadow(0px 1px 2px rgba(0, 0, 0, 0.3));\n",
              "      fill: #FFFFFF;\n",
              "    }\n",
              "  </style>\n",
              "\n",
              "      <script>\n",
              "        const buttonEl =\n",
              "          document.querySelector('#df-f06b7410-b47e-49f4-b700-b4dd0db86855 button.colab-df-convert');\n",
              "        buttonEl.style.display =\n",
              "          google.colab.kernel.accessAllowed ? 'block' : 'none';\n",
              "\n",
              "        async function convertToInteractive(key) {\n",
              "          const element = document.querySelector('#df-f06b7410-b47e-49f4-b700-b4dd0db86855');\n",
              "          const dataTable =\n",
              "            await google.colab.kernel.invokeFunction('convertToInteractive',\n",
              "                                                     [key], {});\n",
              "          if (!dataTable) return;\n",
              "\n",
              "          const docLinkHtml = 'Like what you see? Visit the ' +\n",
              "            '<a target=\"_blank\" href=https://colab.research.google.com/notebooks/data_table.ipynb>data table notebook</a>'\n",
              "            + ' to learn more about interactive tables.';\n",
              "          element.innerHTML = '';\n",
              "          dataTable['output_type'] = 'display_data';\n",
              "          await google.colab.output.renderOutput(dataTable, element);\n",
              "          const docLink = document.createElement('div');\n",
              "          docLink.innerHTML = docLinkHtml;\n",
              "          element.appendChild(docLink);\n",
              "        }\n",
              "      </script>\n",
              "    </div>\n",
              "  </div>\n",
              "  "
            ]
          },
          "metadata": {},
          "execution_count": 259
        }
      ]
    },
    {
      "cell_type": "code",
      "source": [
        "labeled_train_el['time label'].max()"
      ],
      "metadata": {
        "colab": {
          "base_uri": "https://localhost:8080/"
        },
        "id": "LsqCjA5PsMGd",
        "outputId": "1d922650-d5ea-46f3-d2e2-b3400f808733"
      },
      "execution_count": 260,
      "outputs": [
        {
          "output_type": "execute_result",
          "data": {
            "text/plain": [
              "0.9993972272453285"
            ]
          },
          "metadata": {},
          "execution_count": 260
        }
      ]
    },
    {
      "cell_type": "code",
      "source": [
        "labeled_train_el, validation_el = train_test_split(labeled_train_el, test_size=VALIDATION_SIZE, random_state=9)"
      ],
      "metadata": {
        "id": "l-bYZPLwZcl3"
      },
      "execution_count": 261,
      "outputs": []
    },
    {
      "cell_type": "code",
      "source": [
        "def format_input(el):\n",
        "  prefix_x = np.array(el['prefix'])\n",
        "  prefix_x = np.stack(prefix_x)\n",
        "  prefix_x = prefix_x.reshape(prefix_x.shape[0], prefix_x.shape[1], 1)\n",
        "  \n",
        "  suffix_x = np.array(el['suffix'])\n",
        "  suffix_x = np.stack(suffix_x)\n",
        "  suffix_x = suffix_x.reshape(suffix_x.shape[0], suffix_x.shape[1], 1)\n",
        "\n",
        "  start_times = np.array(el['start times'])\n",
        "\n",
        "  prefix_t = np.array(el['prefix times'])\n",
        "  suffix_t = np.array(el['suffix times'])\n",
        "\n",
        "   \n",
        "  prefix_t = np.stack(prefix_t)\n",
        "  prefix_t = prefix_t.reshape(prefix_t.shape[0], prefix_t.shape[1], 1)\n",
        "\n",
        "  suffix_t = np.stack(suffix_t)\n",
        "  suffix_t = suffix_t.reshape(suffix_t.shape[0], suffix_t.shape[1], 1)\n",
        "\n",
        "  x = np.concatenate(([prefix_x], [suffix_x], [prefix_t], [suffix_t]))\n",
        "\n",
        "  y = np.array(el['time label'])\n",
        "  y = np.stack(y)\n",
        "\n",
        "  return x, y, start_times"
      ],
      "metadata": {
        "id": "WF5l1Nm8Zh5Z"
      },
      "execution_count": 262,
      "outputs": []
    },
    {
      "cell_type": "code",
      "source": [
        "train_x, train_y, _ = format_input(labeled_train_el)\n",
        "validation_x, validation_y, _ = format_input(validation_el)\n",
        "# validation_x"
      ],
      "metadata": {
        "id": "G5Id6edeemp8"
      },
      "execution_count": 263,
      "outputs": []
    },
    {
      "cell_type": "code",
      "source": [
        "from copy import deepcopy\n",
        "\n",
        "def random_remove(el):\n",
        "  unique_traces_test = el['trace'].unique()\n",
        "  traces = {x : pd.DataFrame() for x in unique_traces_test}\n",
        "  df = pd.DataFrame(columns=['trace', 'activity', 'timestamp'])\n",
        "  random.seed = (9)\n",
        "  targets = []\n",
        "\n",
        "  for t in unique_traces_test:\n",
        "    traces[t] = deepcopy(test_el[:][test_el.trace == t])\n",
        "    trace_df = traces[t].sort_values(by='timestamp')\n",
        "    rand_index = random.randrange(1,len(trace_df.index))\n",
        "    targets.append(trace_df.iat[rand_index,2])\n",
        "    trace_df.iat[rand_index, 2] = np.nan\n",
        "    df = pd.concat([df, trace_df])\n",
        "\n",
        "  return df, targets"
      ],
      "metadata": {
        "id": "aw2gXPwQ5BpM"
      },
      "execution_count": 264,
      "outputs": []
    },
    {
      "cell_type": "code",
      "source": [
        "test_x, test_y = random_remove(test_el)\n",
        "test_x"
      ],
      "metadata": {
        "colab": {
          "base_uri": "https://localhost:8080/",
          "height": 0
        },
        "id": "myjROhrWcnV0",
        "outputId": "657e8e82-484f-4b10-d7c7-df3a75dfd676"
      },
      "execution_count": 265,
      "outputs": [
        {
          "output_type": "execute_result",
          "data": {
            "text/plain": [
              "       trace     activity           timestamp\n",
              "96        16     Admitted 2126-11-01 17:47:00\n",
              "97        16  Entered ICU 2126-11-01 17:47:40\n",
              "98        16           IV 2126-11-01 17:53:00\n",
              "99        16           IV 2126-11-01 17:55:00\n",
              "100       16           IV                 NaT\n",
              "...      ...          ...                 ...\n",
              "89398  15498   Discharged 2196-05-13 16:30:00\n",
              "89429  15503     Admitted 2183-03-24 03:13:00\n",
              "89430  15503  Entered ICU                 NaT\n",
              "89431  15503     Left ICU 2183-03-27 14:28:43\n",
              "89432  15503   Discharged 2183-03-28 16:08:00\n",
              "\n",
              "[8459 rows x 3 columns]"
            ],
            "text/html": [
              "\n",
              "  <div id=\"df-ea9b97a0-79e0-4725-85b5-78b263ba54d0\">\n",
              "    <div class=\"colab-df-container\">\n",
              "      <div>\n",
              "<style scoped>\n",
              "    .dataframe tbody tr th:only-of-type {\n",
              "        vertical-align: middle;\n",
              "    }\n",
              "\n",
              "    .dataframe tbody tr th {\n",
              "        vertical-align: top;\n",
              "    }\n",
              "\n",
              "    .dataframe thead th {\n",
              "        text-align: right;\n",
              "    }\n",
              "</style>\n",
              "<table border=\"1\" class=\"dataframe\">\n",
              "  <thead>\n",
              "    <tr style=\"text-align: right;\">\n",
              "      <th></th>\n",
              "      <th>trace</th>\n",
              "      <th>activity</th>\n",
              "      <th>timestamp</th>\n",
              "    </tr>\n",
              "  </thead>\n",
              "  <tbody>\n",
              "    <tr>\n",
              "      <th>96</th>\n",
              "      <td>16</td>\n",
              "      <td>Admitted</td>\n",
              "      <td>2126-11-01 17:47:00</td>\n",
              "    </tr>\n",
              "    <tr>\n",
              "      <th>97</th>\n",
              "      <td>16</td>\n",
              "      <td>Entered ICU</td>\n",
              "      <td>2126-11-01 17:47:40</td>\n",
              "    </tr>\n",
              "    <tr>\n",
              "      <th>98</th>\n",
              "      <td>16</td>\n",
              "      <td>IV</td>\n",
              "      <td>2126-11-01 17:53:00</td>\n",
              "    </tr>\n",
              "    <tr>\n",
              "      <th>99</th>\n",
              "      <td>16</td>\n",
              "      <td>IV</td>\n",
              "      <td>2126-11-01 17:55:00</td>\n",
              "    </tr>\n",
              "    <tr>\n",
              "      <th>100</th>\n",
              "      <td>16</td>\n",
              "      <td>IV</td>\n",
              "      <td>NaT</td>\n",
              "    </tr>\n",
              "    <tr>\n",
              "      <th>...</th>\n",
              "      <td>...</td>\n",
              "      <td>...</td>\n",
              "      <td>...</td>\n",
              "    </tr>\n",
              "    <tr>\n",
              "      <th>89398</th>\n",
              "      <td>15498</td>\n",
              "      <td>Discharged</td>\n",
              "      <td>2196-05-13 16:30:00</td>\n",
              "    </tr>\n",
              "    <tr>\n",
              "      <th>89429</th>\n",
              "      <td>15503</td>\n",
              "      <td>Admitted</td>\n",
              "      <td>2183-03-24 03:13:00</td>\n",
              "    </tr>\n",
              "    <tr>\n",
              "      <th>89430</th>\n",
              "      <td>15503</td>\n",
              "      <td>Entered ICU</td>\n",
              "      <td>NaT</td>\n",
              "    </tr>\n",
              "    <tr>\n",
              "      <th>89431</th>\n",
              "      <td>15503</td>\n",
              "      <td>Left ICU</td>\n",
              "      <td>2183-03-27 14:28:43</td>\n",
              "    </tr>\n",
              "    <tr>\n",
              "      <th>89432</th>\n",
              "      <td>15503</td>\n",
              "      <td>Discharged</td>\n",
              "      <td>2183-03-28 16:08:00</td>\n",
              "    </tr>\n",
              "  </tbody>\n",
              "</table>\n",
              "<p>8459 rows × 3 columns</p>\n",
              "</div>\n",
              "      <button class=\"colab-df-convert\" onclick=\"convertToInteractive('df-ea9b97a0-79e0-4725-85b5-78b263ba54d0')\"\n",
              "              title=\"Convert this dataframe to an interactive table.\"\n",
              "              style=\"display:none;\">\n",
              "        \n",
              "  <svg xmlns=\"http://www.w3.org/2000/svg\" height=\"24px\"viewBox=\"0 0 24 24\"\n",
              "       width=\"24px\">\n",
              "    <path d=\"M0 0h24v24H0V0z\" fill=\"none\"/>\n",
              "    <path d=\"M18.56 5.44l.94 2.06.94-2.06 2.06-.94-2.06-.94-.94-2.06-.94 2.06-2.06.94zm-11 1L8.5 8.5l.94-2.06 2.06-.94-2.06-.94L8.5 2.5l-.94 2.06-2.06.94zm10 10l.94 2.06.94-2.06 2.06-.94-2.06-.94-.94-2.06-.94 2.06-2.06.94z\"/><path d=\"M17.41 7.96l-1.37-1.37c-.4-.4-.92-.59-1.43-.59-.52 0-1.04.2-1.43.59L10.3 9.45l-7.72 7.72c-.78.78-.78 2.05 0 2.83L4 21.41c.39.39.9.59 1.41.59.51 0 1.02-.2 1.41-.59l7.78-7.78 2.81-2.81c.8-.78.8-2.07 0-2.86zM5.41 20L4 18.59l7.72-7.72 1.47 1.35L5.41 20z\"/>\n",
              "  </svg>\n",
              "      </button>\n",
              "      \n",
              "  <style>\n",
              "    .colab-df-container {\n",
              "      display:flex;\n",
              "      flex-wrap:wrap;\n",
              "      gap: 12px;\n",
              "    }\n",
              "\n",
              "    .colab-df-convert {\n",
              "      background-color: #E8F0FE;\n",
              "      border: none;\n",
              "      border-radius: 50%;\n",
              "      cursor: pointer;\n",
              "      display: none;\n",
              "      fill: #1967D2;\n",
              "      height: 32px;\n",
              "      padding: 0 0 0 0;\n",
              "      width: 32px;\n",
              "    }\n",
              "\n",
              "    .colab-df-convert:hover {\n",
              "      background-color: #E2EBFA;\n",
              "      box-shadow: 0px 1px 2px rgba(60, 64, 67, 0.3), 0px 1px 3px 1px rgba(60, 64, 67, 0.15);\n",
              "      fill: #174EA6;\n",
              "    }\n",
              "\n",
              "    [theme=dark] .colab-df-convert {\n",
              "      background-color: #3B4455;\n",
              "      fill: #D2E3FC;\n",
              "    }\n",
              "\n",
              "    [theme=dark] .colab-df-convert:hover {\n",
              "      background-color: #434B5C;\n",
              "      box-shadow: 0px 1px 3px 1px rgba(0, 0, 0, 0.15);\n",
              "      filter: drop-shadow(0px 1px 2px rgba(0, 0, 0, 0.3));\n",
              "      fill: #FFFFFF;\n",
              "    }\n",
              "  </style>\n",
              "\n",
              "      <script>\n",
              "        const buttonEl =\n",
              "          document.querySelector('#df-ea9b97a0-79e0-4725-85b5-78b263ba54d0 button.colab-df-convert');\n",
              "        buttonEl.style.display =\n",
              "          google.colab.kernel.accessAllowed ? 'block' : 'none';\n",
              "\n",
              "        async function convertToInteractive(key) {\n",
              "          const element = document.querySelector('#df-ea9b97a0-79e0-4725-85b5-78b263ba54d0');\n",
              "          const dataTable =\n",
              "            await google.colab.kernel.invokeFunction('convertToInteractive',\n",
              "                                                     [key], {});\n",
              "          if (!dataTable) return;\n",
              "\n",
              "          const docLinkHtml = 'Like what you see? Visit the ' +\n",
              "            '<a target=\"_blank\" href=https://colab.research.google.com/notebooks/data_table.ipynb>data table notebook</a>'\n",
              "            + ' to learn more about interactive tables.';\n",
              "          element.innerHTML = '';\n",
              "          dataTable['output_type'] = 'display_data';\n",
              "          await google.colab.output.renderOutput(dataTable, element);\n",
              "          const docLink = document.createElement('div');\n",
              "          docLink.innerHTML = docLinkHtml;\n",
              "          element.appendChild(docLink);\n",
              "        }\n",
              "      </script>\n",
              "    </div>\n",
              "  </div>\n",
              "  "
            ]
          },
          "metadata": {},
          "execution_count": 265
        }
      ]
    },
    {
      "cell_type": "markdown",
      "source": [
        "##Section 4: Predicting the correct sequence order"
      ],
      "metadata": {
        "id": "CHgmNtQSii_2"
      }
    },
    {
      "cell_type": "markdown",
      "source": [
        "###4.1 Creating process model using training set"
      ],
      "metadata": {
        "id": "VhAgmEJFjtl_"
      }
    },
    {
      "cell_type": "code",
      "source": [
        "# format train event log as pm4py event log\n",
        "train_log = pm.format_dataframe(train_el, case_id='trace', activity_key='activity', timestamp_key='timestamp')\n",
        "# petri net from heuristics miner\n",
        "heuristic_net, heuristic_im, heuristic_fm = pm.discover_petri_net_heuristics(train_log)\n",
        "pm.view_petri_net(heuristic_net, heuristic_im, heuristic_fm)"
      ],
      "metadata": {
        "colab": {
          "base_uri": "https://localhost:8080/",
          "height": 0
        },
        "id": "9JBvFAoztWov",
        "outputId": "29a0ee69-014e-4f58-8d02-1b6dec1a9595"
      },
      "execution_count": 266,
      "outputs": [
        {
          "output_type": "stream",
          "name": "stderr",
          "text": [
            "<ipython-input-266-fa2d3316df74>:2: DeprecatedWarning: format_dataframe is deprecated as of 2.3.0 and will be removed in 3.0.0. the format_dataframe function does not need application anymore.\n",
            "  train_log = pm.format_dataframe(train_el, case_id='trace', activity_key='activity', timestamp_key='timestamp')\n",
            "/usr/local/lib/python3.10/dist-packages/pm4py/utils.py:75: SettingWithCopyWarning: \n",
            "A value is trying to be set on a copy of a slice from a DataFrame.\n",
            "Try using .loc[row_indexer,col_indexer] = value instead\n",
            "\n",
            "See the caveats in the documentation: https://pandas.pydata.org/pandas-docs/stable/user_guide/indexing.html#returning-a-view-versus-a-copy\n",
            "  df[constants.CASE_CONCEPT_NAME] = df[case_id]\n",
            "/usr/local/lib/python3.10/dist-packages/pm4py/utils.py:79: SettingWithCopyWarning: \n",
            "A value is trying to be set on a copy of a slice from a DataFrame.\n",
            "Try using .loc[row_indexer,col_indexer] = value instead\n",
            "\n",
            "See the caveats in the documentation: https://pandas.pydata.org/pandas-docs/stable/user_guide/indexing.html#returning-a-view-versus-a-copy\n",
            "  df[xes_constants.DEFAULT_NAME_KEY] = df[activity_key]\n",
            "/usr/local/lib/python3.10/dist-packages/pm4py/utils.py:83: SettingWithCopyWarning: \n",
            "A value is trying to be set on a copy of a slice from a DataFrame.\n",
            "Try using .loc[row_indexer,col_indexer] = value instead\n",
            "\n",
            "See the caveats in the documentation: https://pandas.pydata.org/pandas-docs/stable/user_guide/indexing.html#returning-a-view-versus-a-copy\n",
            "  df[xes_constants.DEFAULT_TIMESTAMP_KEY] = df[timestamp_key]\n"
          ]
        },
        {
          "output_type": "display_data",
          "data": {
            "image/png": "[encoded data removed]",
            "text/plain": [
              "<IPython.core.display.Image object>"
            ]
          },
          "metadata": {}
        }
      ]
    },
    {
      "cell_type": "code",
      "source": [
        "# inductive_net, inductive_im, inductive_fm = pm.discover_petri_net_inductive(train_log)\n",
        "# pm.view_petri_net(petri_net=inductive_net)"
      ],
      "metadata": {
        "id": "ZsoRG_eOtXPK"
      },
      "execution_count": 267,
      "outputs": []
    },
    {
      "cell_type": "code",
      "source": [
        "# alpha_net, alpha_im, alpha_fm = pm.discover_petri_net_alpha_plus(train_log)\n",
        "# pm.view_petri_net(petri_net=alpha_net)"
      ],
      "metadata": {
        "id": "24dB3K991MGa"
      },
      "execution_count": 268,
      "outputs": []
    },
    {
      "cell_type": "markdown",
      "source": [
        "###4.2"
      ],
      "metadata": {
        "id": "898qyZ_ojy3l"
      }
    },
    {
      "cell_type": "code",
      "source": [
        "def replay_trace(el, pn, im, fm):\n",
        "  # log = pm.format_dataframe(el, case_id='trace', activity_key='activity', timestamp_key='timestamp')\n",
        "  replay_result_token = pm.fitness_token_based_replay(el, pn, im, fm, case_id_key='trace', activity_key='activity', timestamp_key='timestamp')\n",
        "  # replay_result_alignments = pm.fitness_alignments(el, pn, im, fm, case_id_key='trace', activity_key='activity', timestamp_key='timestamp')\n",
        "  # print(replay_result_alignments)\n",
        "  # return replay_result_token['average_trace_fitness'], replay_result_alignments['average_trace_fitness']\n",
        "  return replay_result_token['average_trace_fitness'], 0"
      ],
      "metadata": {
        "id": "kxcCEUnoyaKg"
      },
      "execution_count": 269,
      "outputs": []
    },
    {
      "cell_type": "code",
      "source": [
        "def generate_traces(sequence, missing, trace, pn, im, fm):\n",
        "    timestamps = sequence['timestamp'].tolist()\n",
        "    if missing.iat[0,1] == 'Admitted':\n",
        "      return pd.concat([missing,sequence], ignore_index=True), pd.concat([missing,sequence], ignore_index=True) \n",
        "    if missing.iat[0,1] == 'Discharged':\n",
        "      return pd.concat([sequence,missing], ignore_index=True), pd.concat([sequence,missing], ignore_index=True)\n",
        "     \n",
        "    trace_length = len(timestamps) -1\n",
        "    best_fitness_token = 0\n",
        "    best_fitness_alignments = 0\n",
        "    best_trace_token = None\n",
        "    best_trace_alignments = None\n",
        "\n",
        "    for i in range(1,trace_length+1):\n",
        "\n",
        "      df = pd.concat([sequence.head(i), missing, sequence.tail(trace_length-i+1)], ignore_index=True)\n",
        "      inputed_df = deepcopy(df)\n",
        "      previous_timestamp = inputed_df.iat[i-1,2]\n",
        "      next_timestamp = inputed_df.iat[i+1,2]\n",
        "      inputed_timestamp = previous_timestamp + (next_timestamp-previous_timestamp)/2 \n",
        "      inputed_df.iat[i,2] = inputed_timestamp\n",
        "      # print(inputed_df)\n",
        "      fitness_token, fitness_alignments = replay_trace(inputed_df, pn, im, fm)\n",
        "\n",
        "      # fitness = 1\n",
        "      if fitness_token > best_fitness_token:\n",
        "        best_fitness_token = fitness_token\n",
        "        best_trace_token = df\n",
        "      \n",
        "      if fitness_alignments > best_fitness_alignments:\n",
        "        best_fitness_alignments = fitness_alignments\n",
        "        best_trace_alignments = df\n",
        "\n",
        "\n",
        "    return best_trace_token, best_trace_alignments\n"
      ],
      "metadata": {
        "id": "3QwgE2INhV1d"
      },
      "execution_count": 270,
      "outputs": []
    },
    {
      "cell_type": "code",
      "source": [
        "def predict_sequences(el, pn, im, fm):\n",
        "  df_token = pd.DataFrame(columns=['trace','activity','timestamp'])\n",
        "  df_alignments = pd.DataFrame(columns=['trace','activity','timestamp'])\n",
        "\n",
        "  unique_traces = el['trace'].unique()\n",
        "\n",
        "  for t in unique_traces:\n",
        "    trace_df = el[:][test_el.trace == t]\n",
        "    sequence = trace_df.loc[trace_df['timestamp'].notna()]\n",
        "    missing = trace_df.loc[trace_df['timestamp'].isna()]\n",
        "    # print(t)\n",
        "    predicted_trace = generate_traces(sequence, missing, t, pn, im, fm)\n",
        "    df_token = pd.concat([df_token,predicted_trace[0]], ignore_index=True)\n",
        "    df_alignments = pd.concat([df_alignments, predicted_trace[1]], ignore_index=True)\n",
        "\n",
        "  return df_token, df_alignments\n",
        "\n"
      ],
      "metadata": {
        "id": "XIDNk1Kli3JM"
      },
      "execution_count": 271,
      "outputs": []
    },
    {
      "cell_type": "code",
      "source": [
        "# alpha_sequences_token, alpha_sequences_alignments = predict_sequences(test_x, alpha_net, alpha_im, alpha_fm)\n",
        "heuristic_sequences_token, _ = predict_sequences(test_x, heuristic_net, heuristic_im, heuristic_fm)\n",
        "# inductive_sequences_token, inductive_sequences_alignments = predict_sequences(test_x, inductive_net, inductive_im, inductive_fm)"
      ],
      "metadata": {
        "id": "tcvX3ct79QT9"
      },
      "execution_count": 272,
      "outputs": []
    },
    {
      "cell_type": "markdown",
      "source": [
        "###4.3 evaluate sequence prediction"
      ],
      "metadata": {
        "id": "BNIAn_cQ2NPX"
      }
    },
    {
      "cell_type": "code",
      "source": [
        "def evaluate_sequences(predicted, targets):\n",
        "  correct, incorrect, error = 0, 0, 0\n",
        "  unique_traces = targets['trace'].unique()\n",
        "  \n",
        "  for trace in unique_traces:\n",
        "    t = targets[:][targets.trace == trace]\n",
        "    target = t.index[t['timestamp'].isnull()][0]\n",
        "    p = predicted[:][predicted.trace == trace]\n",
        "    prediction = p.index[p['timestamp'].isnull()][0]\n",
        "    \n",
        "    if prediction == target:\n",
        "      correct += 1\n",
        "    else:\n",
        "      incorrect += 1\n",
        "      error += (prediction - target)**2\n",
        "    \n",
        "\n",
        "  accuracy = correct / (correct + incorrect)\n",
        "  rmse = (error / len(unique_traces)) ** 0.5\n",
        "\n",
        "  return accuracy, rmse\n",
        "\n",
        "\n",
        "print(f\"Heuristic token based replay: {evaluate_sequences(test_x.reset_index(), heuristic_sequences_token.reset_index())}\")\n",
        "# print(f\"Inductive token based replay: {evaluate_sequences(test_x.reset_index(), inductive_sequences_token.reset_index())}\")\n",
        "# print(f\"Alpha token based replay: {evaluate_sequences(test_x.reset_index(), alpha_sequences_token.reset_index())}\")\n",
        "\n",
        "# print(f\"Heuristic alignments: {evaluate_sequences(test_x.reset_index(), heuristic_sequences_alignments.reset_index())}\")\n",
        "# print(f\"Inductive alignments: {evaluate_sequences(test_x.reset_index(), inductive_sequences_alignments.reset_index())}\")\n",
        "# print(f\"Alpha alignments: {evaluate_sequences(test_x.reset_index(), alpha_sequences_alignments.reset_index())}\")\n",
        "\n",
        "\n",
        "\n"
      ],
      "metadata": {
        "colab": {
          "base_uri": "https://localhost:8080/"
        },
        "id": "RBZfdgbp2cRv",
        "outputId": "6f8d5417-212b-4c76-de4d-97ac5d12b598"
      },
      "execution_count": 273,
      "outputs": [
        {
          "output_type": "stream",
          "name": "stdout",
          "text": [
            "Heuristic token based replay: (0.6963921034717495, 1.7747568122653021)\n"
          ]
        }
      ]
    },
    {
      "cell_type": "markdown",
      "source": [
        "###4.4 Finish pre-processing test data"
      ],
      "metadata": {
        "id": "2zE4Ifig2jD2"
      }
    },
    {
      "cell_type": "code",
      "source": [
        "def label_test(el):\n",
        "  prefix_arr, suffix_arr, prefix_times_arr, suffix_times_arr, label_arr, label_times_arr = [], [], [], [], [], []\n",
        "  start_times, end_times = [], []\n",
        "  labeled_arr = []\n",
        "  unique_traces = el['trace'].unique()\n",
        "\n",
        "  for t in unique_traces:\n",
        "    df = el[:][el.trace == t]\n",
        "    activities, timestamps = [], []\n",
        "\n",
        "    for i in df.index:\n",
        "      activity = encode_activity.get(df['activity'][i])\n",
        "      activities.append(activity)\n",
        "\n",
        "      timestamp = df['timestamp'][i]\n",
        "      # if pd.isnull(timestamp):\n",
        "      timestamp =  df['timestamp'][i]\n",
        "      timestamps.append(timestamp)\n",
        "    \n",
        "    # print(timestamps)\n",
        "\n",
        "    length = len(timestamps)\n",
        "    \n",
        "    start_time = pd.NaT\n",
        "    end_time = pd.NaT\n",
        "\n",
        "    if not pd.isnull(timestamps[0]):\n",
        "      start_time = timestamps[0]\n",
        "      for i in range(length):\n",
        "        if not pd.isnull(timestamps[i]):\n",
        "          timestamps[i] = (timestamps[i] - start_time).total_seconds() / max_length  \n",
        "          # / 3600 / 1000\n",
        "\n",
        "    order = 0\n",
        "    for i in range(length):\n",
        "      if pd.isnull(timestamps[i]):\n",
        "        order = i\n",
        "        break\n",
        "\n",
        "    # print(order)\n",
        "\n",
        "    label = activities[order]\n",
        "    time_label = timestamps[order]\n",
        "    prefix = activities[:order]\n",
        "    prefix_times = timestamps[:order]\n",
        "\n",
        "    # print(prefix_times)\n",
        "\n",
        "    suffix, suffix_times = [], []\n",
        "\n",
        "    if i != length - 1:\n",
        "      suffix = activities[i+1:]\n",
        "      suffix_times = timestamps[i+1:]\n",
        "\n",
        "    padding = []\n",
        "\n",
        "    while len(prefix) + len(padding) < PREFIX_LENGTH:\n",
        "      padding.append('0')\n",
        "    \n",
        "    prefix = padding + prefix\n",
        "      \n",
        "    padding = []\n",
        "    \n",
        "    while len(prefix_times) + len(padding) < PREFIX_LENGTH:\n",
        "      padding.append(0.0)\n",
        "    \n",
        "    prefix_times =  padding + prefix_times\n",
        "\n",
        "    while len(suffix) < PREFIX_LENGTH:\n",
        "      suffix.append('0')\n",
        "\n",
        "    while len(suffix_times) < PREFIX_LENGTH:\n",
        "      suffix_times.append(0.0)\n",
        "\n",
        "    # f = '%Y-%d-%m %H:%M:%S'\n",
        "    # for i in range(PREFIX_LENGTH):\n",
        "    #   try:\n",
        "    #     prefix_times[i] = pd.to_datetime(prefix_times[i], format=f).value\n",
        "    #     # suffix_times[i] = pd.to_datetime(suffix_times[i], format=f).value\n",
        "    #   except ValueError:\n",
        "    #     continue\n",
        "\n",
        "    # for i in range(PREFIX_LENGTH):\n",
        "    #   try:\n",
        "    #     # prefix_times[i] = pd.to_datetime(prefix_times[i], format=f).value\n",
        "    #     suffix_times[i] = pd.to_datetime(suffix_times[i], format=f).value\n",
        "    #   except ValueError:\n",
        "    #     continue\n",
        "\n",
        "    prefix_arr.append(np.array(prefix[0:PREFIX_LENGTH], dtype=int))\n",
        "    suffix_arr.append(np.array(suffix[0:PREFIX_LENGTH], dtype=int))\n",
        "    prefix_times_arr.append(np.array(prefix_times[:PREFIX_LENGTH], dtype=np.double))\n",
        "    suffix_times_arr.append(np.array(suffix_times[:PREFIX_LENGTH], dtype=np.double))\n",
        "    label_arr.append(label)\n",
        "    label_times_arr.append(time_label)\n",
        "    start_times.append(start_time)\n",
        "    end_times.append(end_time)\n",
        "\n",
        "  return pd.DataFrame({'prefix' : prefix_arr, \n",
        "                       'suffix' : suffix_arr,\n",
        "                       'prefix times' : prefix_times_arr,\n",
        "                       'suffix times' : suffix_times_arr,\n",
        "                       'activity label' : label_arr,\n",
        "                       'time label': label_times_arr,\n",
        "                       'start times': start_times,\n",
        "                       'end times': end_times})\n"
      ],
      "metadata": {
        "id": "nuX1AP8SDtC9"
      },
      "execution_count": 274,
      "outputs": []
    },
    {
      "cell_type": "code",
      "source": [
        "labeled_test = label_test(heuristic_sequences_token)\n",
        "test_x, _, test_start_times = format_input(labeled_test)\n",
        "labeled_test"
      ],
      "metadata": {
        "id": "JVx9Ff9Jkb-D",
        "colab": {
          "base_uri": "https://localhost:8080/",
          "height": 0
        },
        "outputId": "db90ba86-f420-4070-817f-99e7aaf4dad7"
      },
      "execution_count": 275,
      "outputs": [
        {
          "output_type": "execute_result",
          "data": {
            "text/plain": [
              "            prefix        suffix  \\\n",
              "0     [0, 0, 1, 2]  [3, 3, 6, 3]   \n",
              "1     [0, 1, 2, 4]  [0, 0, 0, 0]   \n",
              "2     [1, 2, 6, 3]  [0, 0, 0, 0]   \n",
              "3     [0, 0, 1, 2]  [5, 0, 0, 0]   \n",
              "4     [0, 0, 1, 3]  [4, 5, 0, 0]   \n",
              "...            ...           ...   \n",
              "1464  [0, 1, 2, 4]  [0, 0, 0, 0]   \n",
              "1465  [0, 0, 1, 2]  [5, 0, 0, 0]   \n",
              "1466  [0, 0, 1, 2]  [5, 0, 0, 0]   \n",
              "1467  [0, 0, 1, 2]  [3, 3, 4, 5]   \n",
              "1468  [0, 0, 0, 1]  [4, 5, 0, 0]   \n",
              "\n",
              "                                           prefix times  \\\n",
              "0               [0.0, 0.0, 0.0, 2.6789900207621727e-05]   \n",
              "1     [0.0, 0.0, 6.362601299310161e-05, 0.0882861161...   \n",
              "2     [0.0, 0.09659768267363204, 0.10496282901346192...   \n",
              "3                 [0.0, 0.0, 0.0, 0.013942803563056728]   \n",
              "4                   [0.0, 0.0, 0.0, 0.0054249547920434]   \n",
              "...                                                 ...   \n",
              "1464  [0.0, 0.0, 4.0854597816623135e-05, 0.329654410...   \n",
              "1465              [0.0, 0.0, 0.0, 0.022151898734177215]   \n",
              "1466            [0.0, 0.0, 0.0, 2.0762172660906838e-05]   \n",
              "1467             [0.0, 0.0, 0.0, 4.219409282700422e-05]   \n",
              "1468                               [0.0, 0.0, 0.0, 0.0]   \n",
              "\n",
              "                                           suffix times activity label  \\\n",
              "0     [0.00024110910186859555, 0.0003214788024914607...              3   \n",
              "1                                  [0.0, 0.0, 0.0, 0.0]              5   \n",
              "2                                  [0.0, 0.0, 0.0, 0.0]              5   \n",
              "3                  [0.26284910588708055, 0.0, 0.0, 0.0]              4   \n",
              "4     [0.06620788962561114, 0.33148483021900743, 0.0...              2   \n",
              "...                                                 ...            ...   \n",
              "1464                               [0.0, 0.0, 0.0, 0.0]              5   \n",
              "1465                [0.7643158529234478, 0.0, 0.0, 0.0]              4   \n",
              "1466               [0.25778581474784007, 0.0, 0.0, 0.0]              4   \n",
              "1467  [0.005826803295157726, 0.0058669881454691585, ...              3   \n",
              "1468  [0.200752126448329, 0.26260799678521196, 0.0, ...              2   \n",
              "\n",
              "     time label         start times end times  \n",
              "0           NaT 2126-11-01 17:47:00       NaT  \n",
              "1           NaT 2136-07-14 05:45:00       NaT  \n",
              "2           NaT 2200-02-24 19:13:00       NaT  \n",
              "3           NaT 2162-10-10 04:51:00       NaT  \n",
              "4           NaT 2146-12-22 21:02:00       NaT  \n",
              "...         ...                 ...       ...  \n",
              "1464        NaT 2197-03-10 00:28:00       NaT  \n",
              "1465        NaT 2158-06-28 08:00:00       NaT  \n",
              "1466        NaT 2132-01-09 01:05:00       NaT  \n",
              "1467        NaT 2196-05-10 12:35:00       NaT  \n",
              "1468        NaT 2183-03-24 03:13:00       NaT  \n",
              "\n",
              "[1469 rows x 8 columns]"
            ],
            "text/html": [
              "\n",
              "  <div id=\"df-532a1556-a7f9-4ec7-9d4a-d2088fd181ff\">\n",
              "    <div class=\"colab-df-container\">\n",
              "      <div>\n",
              "<style scoped>\n",
              "    .dataframe tbody tr th:only-of-type {\n",
              "        vertical-align: middle;\n",
              "    }\n",
              "\n",
              "    .dataframe tbody tr th {\n",
              "        vertical-align: top;\n",
              "    }\n",
              "\n",
              "    .dataframe thead th {\n",
              "        text-align: right;\n",
              "    }\n",
              "</style>\n",
              "<table border=\"1\" class=\"dataframe\">\n",
              "  <thead>\n",
              "    <tr style=\"text-align: right;\">\n",
              "      <th></th>\n",
              "      <th>prefix</th>\n",
              "      <th>suffix</th>\n",
              "      <th>prefix times</th>\n",
              "      <th>suffix times</th>\n",
              "      <th>activity label</th>\n",
              "      <th>time label</th>\n",
              "      <th>start times</th>\n",
              "      <th>end times</th>\n",
              "    </tr>\n",
              "  </thead>\n",
              "  <tbody>\n",
              "    <tr>\n",
              "      <th>0</th>\n",
              "      <td>[0, 0, 1, 2]</td>\n",
              "      <td>[3, 3, 6, 3]</td>\n",
              "      <td>[0.0, 0.0, 0.0, 2.6789900207621727e-05]</td>\n",
              "      <td>[0.00024110910186859555, 0.0003214788024914607...</td>\n",
              "      <td>3</td>\n",
              "      <td>NaT</td>\n",
              "      <td>2126-11-01 17:47:00</td>\n",
              "      <td>NaT</td>\n",
              "    </tr>\n",
              "    <tr>\n",
              "      <th>1</th>\n",
              "      <td>[0, 1, 2, 4]</td>\n",
              "      <td>[0, 0, 0, 0]</td>\n",
              "      <td>[0.0, 0.0, 6.362601299310161e-05, 0.0882861161...</td>\n",
              "      <td>[0.0, 0.0, 0.0, 0.0]</td>\n",
              "      <td>5</td>\n",
              "      <td>NaT</td>\n",
              "      <td>2136-07-14 05:45:00</td>\n",
              "      <td>NaT</td>\n",
              "    </tr>\n",
              "    <tr>\n",
              "      <th>2</th>\n",
              "      <td>[1, 2, 6, 3]</td>\n",
              "      <td>[0, 0, 0, 0]</td>\n",
              "      <td>[0.0, 0.09659768267363204, 0.10496282901346192...</td>\n",
              "      <td>[0.0, 0.0, 0.0, 0.0]</td>\n",
              "      <td>5</td>\n",
              "      <td>NaT</td>\n",
              "      <td>2200-02-24 19:13:00</td>\n",
              "      <td>NaT</td>\n",
              "    </tr>\n",
              "    <tr>\n",
              "      <th>3</th>\n",
              "      <td>[0, 0, 1, 2]</td>\n",
              "      <td>[5, 0, 0, 0]</td>\n",
              "      <td>[0.0, 0.0, 0.0, 0.013942803563056728]</td>\n",
              "      <td>[0.26284910588708055, 0.0, 0.0, 0.0]</td>\n",
              "      <td>4</td>\n",
              "      <td>NaT</td>\n",
              "      <td>2162-10-10 04:51:00</td>\n",
              "      <td>NaT</td>\n",
              "    </tr>\n",
              "    <tr>\n",
              "      <th>4</th>\n",
              "      <td>[0, 0, 1, 3]</td>\n",
              "      <td>[4, 5, 0, 0]</td>\n",
              "      <td>[0.0, 0.0, 0.0, 0.0054249547920434]</td>\n",
              "      <td>[0.06620788962561114, 0.33148483021900743, 0.0...</td>\n",
              "      <td>2</td>\n",
              "      <td>NaT</td>\n",
              "      <td>2146-12-22 21:02:00</td>\n",
              "      <td>NaT</td>\n",
              "    </tr>\n",
              "    <tr>\n",
              "      <th>...</th>\n",
              "      <td>...</td>\n",
              "      <td>...</td>\n",
              "      <td>...</td>\n",
              "      <td>...</td>\n",
              "      <td>...</td>\n",
              "      <td>...</td>\n",
              "      <td>...</td>\n",
              "      <td>...</td>\n",
              "    </tr>\n",
              "    <tr>\n",
              "      <th>1464</th>\n",
              "      <td>[0, 1, 2, 4]</td>\n",
              "      <td>[0, 0, 0, 0]</td>\n",
              "      <td>[0.0, 0.0, 4.0854597816623135e-05, 0.329654410...</td>\n",
              "      <td>[0.0, 0.0, 0.0, 0.0]</td>\n",
              "      <td>5</td>\n",
              "      <td>NaT</td>\n",
              "      <td>2197-03-10 00:28:00</td>\n",
              "      <td>NaT</td>\n",
              "    </tr>\n",
              "    <tr>\n",
              "      <th>1465</th>\n",
              "      <td>[0, 0, 1, 2]</td>\n",
              "      <td>[5, 0, 0, 0]</td>\n",
              "      <td>[0.0, 0.0, 0.0, 0.022151898734177215]</td>\n",
              "      <td>[0.7643158529234478, 0.0, 0.0, 0.0]</td>\n",
              "      <td>4</td>\n",
              "      <td>NaT</td>\n",
              "      <td>2158-06-28 08:00:00</td>\n",
              "      <td>NaT</td>\n",
              "    </tr>\n",
              "    <tr>\n",
              "      <th>1466</th>\n",
              "      <td>[0, 0, 1, 2]</td>\n",
              "      <td>[5, 0, 0, 0]</td>\n",
              "      <td>[0.0, 0.0, 0.0, 2.0762172660906838e-05]</td>\n",
              "      <td>[0.25778581474784007, 0.0, 0.0, 0.0]</td>\n",
              "      <td>4</td>\n",
              "      <td>NaT</td>\n",
              "      <td>2132-01-09 01:05:00</td>\n",
              "      <td>NaT</td>\n",
              "    </tr>\n",
              "    <tr>\n",
              "      <th>1467</th>\n",
              "      <td>[0, 0, 1, 2]</td>\n",
              "      <td>[3, 3, 4, 5]</td>\n",
              "      <td>[0.0, 0.0, 0.0, 4.219409282700422e-05]</td>\n",
              "      <td>[0.005826803295157726, 0.0058669881454691585, ...</td>\n",
              "      <td>3</td>\n",
              "      <td>NaT</td>\n",
              "      <td>2196-05-10 12:35:00</td>\n",
              "      <td>NaT</td>\n",
              "    </tr>\n",
              "    <tr>\n",
              "      <th>1468</th>\n",
              "      <td>[0, 0, 0, 1]</td>\n",
              "      <td>[4, 5, 0, 0]</td>\n",
              "      <td>[0.0, 0.0, 0.0, 0.0]</td>\n",
              "      <td>[0.200752126448329, 0.26260799678521196, 0.0, ...</td>\n",
              "      <td>2</td>\n",
              "      <td>NaT</td>\n",
              "      <td>2183-03-24 03:13:00</td>\n",
              "      <td>NaT</td>\n",
              "    </tr>\n",
              "  </tbody>\n",
              "</table>\n",
              "<p>1469 rows × 8 columns</p>\n",
              "</div>\n",
              "      <button class=\"colab-df-convert\" onclick=\"convertToInteractive('df-532a1556-a7f9-4ec7-9d4a-d2088fd181ff')\"\n",
              "              title=\"Convert this dataframe to an interactive table.\"\n",
              "              style=\"display:none;\">\n",
              "        \n",
              "  <svg xmlns=\"http://www.w3.org/2000/svg\" height=\"24px\"viewBox=\"0 0 24 24\"\n",
              "       width=\"24px\">\n",
              "    <path d=\"M0 0h24v24H0V0z\" fill=\"none\"/>\n",
              "    <path d=\"M18.56 5.44l.94 2.06.94-2.06 2.06-.94-2.06-.94-.94-2.06-.94 2.06-2.06.94zm-11 1L8.5 8.5l.94-2.06 2.06-.94-2.06-.94L8.5 2.5l-.94 2.06-2.06.94zm10 10l.94 2.06.94-2.06 2.06-.94-2.06-.94-.94-2.06-.94 2.06-2.06.94z\"/><path d=\"M17.41 7.96l-1.37-1.37c-.4-.4-.92-.59-1.43-.59-.52 0-1.04.2-1.43.59L10.3 9.45l-7.72 7.72c-.78.78-.78 2.05 0 2.83L4 21.41c.39.39.9.59 1.41.59.51 0 1.02-.2 1.41-.59l7.78-7.78 2.81-2.81c.8-.78.8-2.07 0-2.86zM5.41 20L4 18.59l7.72-7.72 1.47 1.35L5.41 20z\"/>\n",
              "  </svg>\n",
              "      </button>\n",
              "      \n",
              "  <style>\n",
              "    .colab-df-container {\n",
              "      display:flex;\n",
              "      flex-wrap:wrap;\n",
              "      gap: 12px;\n",
              "    }\n",
              "\n",
              "    .colab-df-convert {\n",
              "      background-color: #E8F0FE;\n",
              "      border: none;\n",
              "      border-radius: 50%;\n",
              "      cursor: pointer;\n",
              "      display: none;\n",
              "      fill: #1967D2;\n",
              "      height: 32px;\n",
              "      padding: 0 0 0 0;\n",
              "      width: 32px;\n",
              "    }\n",
              "\n",
              "    .colab-df-convert:hover {\n",
              "      background-color: #E2EBFA;\n",
              "      box-shadow: 0px 1px 2px rgba(60, 64, 67, 0.3), 0px 1px 3px 1px rgba(60, 64, 67, 0.15);\n",
              "      fill: #174EA6;\n",
              "    }\n",
              "\n",
              "    [theme=dark] .colab-df-convert {\n",
              "      background-color: #3B4455;\n",
              "      fill: #D2E3FC;\n",
              "    }\n",
              "\n",
              "    [theme=dark] .colab-df-convert:hover {\n",
              "      background-color: #434B5C;\n",
              "      box-shadow: 0px 1px 3px 1px rgba(0, 0, 0, 0.15);\n",
              "      filter: drop-shadow(0px 1px 2px rgba(0, 0, 0, 0.3));\n",
              "      fill: #FFFFFF;\n",
              "    }\n",
              "  </style>\n",
              "\n",
              "      <script>\n",
              "        const buttonEl =\n",
              "          document.querySelector('#df-532a1556-a7f9-4ec7-9d4a-d2088fd181ff button.colab-df-convert');\n",
              "        buttonEl.style.display =\n",
              "          google.colab.kernel.accessAllowed ? 'block' : 'none';\n",
              "\n",
              "        async function convertToInteractive(key) {\n",
              "          const element = document.querySelector('#df-532a1556-a7f9-4ec7-9d4a-d2088fd181ff');\n",
              "          const dataTable =\n",
              "            await google.colab.kernel.invokeFunction('convertToInteractive',\n",
              "                                                     [key], {});\n",
              "          if (!dataTable) return;\n",
              "\n",
              "          const docLinkHtml = 'Like what you see? Visit the ' +\n",
              "            '<a target=\"_blank\" href=https://colab.research.google.com/notebooks/data_table.ipynb>data table notebook</a>'\n",
              "            + ' to learn more about interactive tables.';\n",
              "          element.innerHTML = '';\n",
              "          dataTable['output_type'] = 'display_data';\n",
              "          await google.colab.output.renderOutput(dataTable, element);\n",
              "          const docLink = document.createElement('div');\n",
              "          docLink.innerHTML = docLinkHtml;\n",
              "          element.appendChild(docLink);\n",
              "        }\n",
              "      </script>\n",
              "    </div>\n",
              "  </div>\n",
              "  "
            ]
          },
          "metadata": {},
          "execution_count": 275
        }
      ]
    },
    {
      "cell_type": "code",
      "source": [
        "test_start_times"
      ],
      "metadata": {
        "colab": {
          "base_uri": "https://localhost:8080/"
        },
        "id": "iTRO2JYJyLq7",
        "outputId": "ec89dcc6-29b6-4526-c931-d1021519c885"
      },
      "execution_count": 276,
      "outputs": [
        {
          "output_type": "execute_result",
          "data": {
            "text/plain": [
              "array(['2126-11-01T17:47:00.000000000', '2136-07-14T05:45:00.000000000',\n",
              "       '2200-02-24T19:13:00.000000000', ...,\n",
              "       '2132-01-09T01:05:00.000000000', '2196-05-10T12:35:00.000000000',\n",
              "       '2183-03-24T03:13:00.000000000'], dtype='datetime64[ns]')"
            ]
          },
          "metadata": {},
          "execution_count": 276
        }
      ]
    },
    {
      "cell_type": "markdown",
      "source": [
        "##Section 5: Naiive timestamp imputation method"
      ],
      "metadata": {
        "id": "OKfnF1bd_nO5"
      }
    },
    {
      "cell_type": "code",
      "source": [
        "# calculate mean time delta for discharge and admission\n",
        "def admission_discharge_delta(el):\n",
        "  discharge_delta, admission_delta = 0, 0\n",
        "  unique_traces = el['trace'].unique()\n",
        "  n = len(unique_traces)\n",
        "\n",
        "  for t in unique_traces:\n",
        "    df = el[:][el.trace == t]\n",
        "    timestamps = [], []\n",
        "\n",
        "    for i in df.index:\n",
        "      timestamp = (df['timestamp'][i]).total_seconds()\n",
        "      timestamps.append(timestamp)\n",
        "    \n",
        "    admission_delta += timestamps[1] - timestamps[0]\n",
        "    discharge_delta += timestamps[-1] - timestamps[-2]\n",
        "\n",
        "  mean_admission_delta = admission_delta/n\n",
        "  mean_discharge_delta = discharge_delta/n\n",
        "\n",
        "\n",
        "  # return \n",
        "\n",
        "  \n",
        "\n",
        "\n",
        "admission_discharge_delta(train_x)"
      ],
      "metadata": {
        "id": "pnClausIwflV",
        "colab": {
          "base_uri": "https://localhost:8080/",
          "height": 339
        },
        "outputId": "67f541da-cfe8-4021-9d00-32640f6ebb0c"
      },
      "execution_count": 198,
      "outputs": [
        {
          "output_type": "error",
          "ename": "IndexError",
          "evalue": "ignored",
          "traceback": [
            "\u001b[0;31m---------------------------------------------------------------------------\u001b[0m",
            "\u001b[0;31mIndexError\u001b[0m                                Traceback (most recent call last)",
            "\u001b[0;32m<ipython-input-198-8b9507c21729>\u001b[0m in \u001b[0;36m<cell line: 27>\u001b[0;34m()\u001b[0m\n\u001b[1;32m     25\u001b[0m \u001b[0;34m\u001b[0m\u001b[0m\n\u001b[1;32m     26\u001b[0m \u001b[0;34m\u001b[0m\u001b[0m\n\u001b[0;32m---> 27\u001b[0;31m \u001b[0madmission_discharge_delta\u001b[0m\u001b[0;34m(\u001b[0m\u001b[0mtrain_x\u001b[0m\u001b[0;34m)\u001b[0m\u001b[0;34m\u001b[0m\u001b[0;34m\u001b[0m\u001b[0m\n\u001b[0m",
            "\u001b[0;32m<ipython-input-198-8b9507c21729>\u001b[0m in \u001b[0;36madmission_discharge_delta\u001b[0;34m(el)\u001b[0m\n\u001b[1;32m      2\u001b[0m \u001b[0;32mdef\u001b[0m \u001b[0madmission_discharge_delta\u001b[0m\u001b[0;34m(\u001b[0m\u001b[0mel\u001b[0m\u001b[0;34m)\u001b[0m\u001b[0;34m:\u001b[0m\u001b[0;34m\u001b[0m\u001b[0;34m\u001b[0m\u001b[0m\n\u001b[1;32m      3\u001b[0m   \u001b[0mdischarge_delta\u001b[0m\u001b[0;34m,\u001b[0m \u001b[0madmission_delta\u001b[0m \u001b[0;34m=\u001b[0m \u001b[0;36m0\u001b[0m\u001b[0;34m,\u001b[0m \u001b[0;36m0\u001b[0m\u001b[0;34m\u001b[0m\u001b[0;34m\u001b[0m\u001b[0m\n\u001b[0;32m----> 4\u001b[0;31m   \u001b[0munique_traces\u001b[0m \u001b[0;34m=\u001b[0m \u001b[0mel\u001b[0m\u001b[0;34m[\u001b[0m\u001b[0;34m'trace'\u001b[0m\u001b[0;34m]\u001b[0m\u001b[0;34m.\u001b[0m\u001b[0munique\u001b[0m\u001b[0;34m(\u001b[0m\u001b[0;34m)\u001b[0m\u001b[0;34m\u001b[0m\u001b[0;34m\u001b[0m\u001b[0m\n\u001b[0m\u001b[1;32m      5\u001b[0m   \u001b[0mn\u001b[0m \u001b[0;34m=\u001b[0m \u001b[0mlen\u001b[0m\u001b[0;34m(\u001b[0m\u001b[0munique_traces\u001b[0m\u001b[0;34m)\u001b[0m\u001b[0;34m\u001b[0m\u001b[0;34m\u001b[0m\u001b[0m\n\u001b[1;32m      6\u001b[0m \u001b[0;34m\u001b[0m\u001b[0m\n",
            "\u001b[0;31mIndexError\u001b[0m: only integers, slices (`:`), ellipsis (`...`), numpy.newaxis (`None`) and integer or boolean arrays are valid indices"
          ]
        }
      ]
    },
    {
      "cell_type": "code",
      "source": [
        "def naiive(p, s):\n",
        "  predictions = []\n",
        "  for i in range(len(p)):\n",
        "    # print(i,':')\n",
        "    # print(p[i][-1])\n",
        "    # print(start_time + pd.to_timedelta(p[i][-1] * 10_000_000_000, unit='s'))\n",
        "    # print(s[i][0])\n",
        "    # print(start_time + pd.to_timedelta(s[i][0] * 10_000_000_000, unit='s'))\n",
        "\n",
        "    if p[i][-1] != 0.0 and s[i][0] != 0:\n",
        "      prediction = p[i][-1] + (s[i][0] - p[i][-1])/2\n",
        "      seconds = test_start_times[i] + pd.to_timedelta(prediction * max_length, unit='s')\n",
        "      predictions.append(seconds)\n",
        "    else:\n",
        "      predictions.append(-1)\n",
        "\n",
        "  return predictions\n",
        "    \n",
        "naiive_predictions = naiive(test_x[2], test_x[3])"
      ],
      "metadata": {
        "id": "WkThQzTwGa-O"
      },
      "execution_count": null,
      "outputs": []
    },
    {
      "cell_type": "code",
      "source": [
        "# def evaluate"
      ],
      "metadata": {
        "id": "Zzw2Mk9Zm9Al"
      },
      "execution_count": null,
      "outputs": []
    },
    {
      "cell_type": "markdown",
      "source": [
        "## Section 6: Predicting timestamp using LSTM "
      ],
      "metadata": {
        "id": "fAXPa0BGfVFz"
      }
    },
    {
      "cell_type": "markdown",
      "source": [
        "###6.1 Testing architectures"
      ],
      "metadata": {
        "id": "2NmrrfFaEimk"
      }
    },
    {
      "cell_type": "code",
      "source": [
        "from keras.layers import LSTM, Dense, Bidirectional, average, Input, concatenate, Dropout\n",
        "from keras import Model\n",
        "\n",
        "prefix_input = Input(shape=(PREFIX_LENGTH, 1), name='prefix_input')\n",
        "suffix_input = Input(shape=(PREFIX_LENGTH, 1), name='suffix_input')\n",
        "\n",
        "lstm_layer = LSTM(32)\n",
        "\n",
        "prefix_layer = Bidirectional(lstm_layer, name='prefix_lstm')(prefix_input)\n",
        "suffix_layer = Bidirectional(lstm_layer, name='suffix_lstm')(suffix_input)\n",
        "\n",
        "dropout_prefix = Dropout(0.2)(prefix_layer)\n",
        "dropout_suffix = Dropout(0.2)(suffix_layer)\n",
        "\n",
        "merged = concatenate([dropout_prefix, dropout_suffix], name='merged')\n",
        "\n",
        "output = Dense(1, name='output')(merged)\n",
        "\n",
        "td_LSTM = Model(inputs=[prefix_input, suffix_input], outputs=output)\n",
        "td_LSTM.compile(loss='mse', optimizer='adam', metrics=['mse'])\n",
        "td_LSTM.summary()\n",
        "td_LSTM.fit((train_x[2], train_x[3]), train_y,  validation_data=((validation_x[2], validation_x[3]), validation_y), epochs=10)"
      ],
      "metadata": {
        "colab": {
          "base_uri": "https://localhost:8080/"
        },
        "id": "Gl7xygcnCTJX",
        "outputId": "6e9eadea-15f4-4447-ed90-aa5d44f4af14"
      },
      "execution_count": 85,
      "outputs": [
        {
          "output_type": "stream",
          "name": "stdout",
          "text": [
            "Model: \"model_3\"\n",
            "__________________________________________________________________________________________________\n",
            " Layer (type)                   Output Shape         Param #     Connected to                     \n",
            "==================================================================================================\n",
            " prefix_input (InputLayer)      [(None, 5, 1)]       0           []                               \n",
            "                                                                                                  \n",
            " suffix_input (InputLayer)      [(None, 5, 1)]       0           []                               \n",
            "                                                                                                  \n",
            " prefix_lstm (Bidirectional)    (None, 64)           8704        ['prefix_input[0][0]']           \n",
            "                                                                                                  \n",
            " suffix_lstm (Bidirectional)    (None, 64)           8704        ['suffix_input[0][0]']           \n",
            "                                                                                                  \n",
            " dropout_8 (Dropout)            (None, 64)           0           ['prefix_lstm[0][0]']            \n",
            "                                                                                                  \n",
            " dropout_9 (Dropout)            (None, 64)           0           ['suffix_lstm[0][0]']            \n",
            "                                                                                                  \n",
            " merged (Concatenate)           (None, 128)          0           ['dropout_8[0][0]',              \n",
            "                                                                  'dropout_9[0][0]']              \n",
            "                                                                                                  \n",
            " output (Dense)                 (None, 1)            129         ['merged[0][0]']                 \n",
            "                                                                                                  \n",
            "==================================================================================================\n",
            "Total params: 17,537\n",
            "Trainable params: 17,537\n",
            "Non-trainable params: 0\n",
            "__________________________________________________________________________________________________\n",
            "Epoch 1/10\n",
            "13/13 [==============================] - 13s 365ms/step - loss: 0.0384 - mse: 0.0384 - val_loss: 0.0501 - val_mse: 0.0501\n",
            "Epoch 2/10\n",
            "13/13 [==============================] - 1s 46ms/step - loss: 0.0320 - mse: 0.0320 - val_loss: 0.0473 - val_mse: 0.0473\n",
            "Epoch 3/10\n",
            "13/13 [==============================] - 1s 91ms/step - loss: 0.0290 - mse: 0.0290 - val_loss: 0.0457 - val_mse: 0.0457\n",
            "Epoch 4/10\n",
            "13/13 [==============================] - 1s 79ms/step - loss: 0.0267 - mse: 0.0267 - val_loss: 0.0418 - val_mse: 0.0418\n",
            "Epoch 5/10\n",
            "13/13 [==============================] - 1s 54ms/step - loss: 0.0246 - mse: 0.0246 - val_loss: 0.0375 - val_mse: 0.0375\n",
            "Epoch 6/10\n",
            "13/13 [==============================] - 1s 40ms/step - loss: 0.0219 - mse: 0.0219 - val_loss: 0.0345 - val_mse: 0.0345\n",
            "Epoch 7/10\n",
            "13/13 [==============================] - 0s 27ms/step - loss: 0.0195 - mse: 0.0195 - val_loss: 0.0323 - val_mse: 0.0323\n",
            "Epoch 8/10\n",
            "13/13 [==============================] - 0s 27ms/step - loss: 0.0194 - mse: 0.0194 - val_loss: 0.0325 - val_mse: 0.0325\n",
            "Epoch 9/10\n",
            "13/13 [==============================] - 0s 32ms/step - loss: 0.0186 - mse: 0.0186 - val_loss: 0.0318 - val_mse: 0.0318\n",
            "Epoch 10/10\n",
            "13/13 [==============================] - 0s 39ms/step - loss: 0.0182 - mse: 0.0182 - val_loss: 0.0319 - val_mse: 0.0319\n"
          ]
        },
        {
          "output_type": "execute_result",
          "data": {
            "text/plain": [
              "<keras.callbacks.History at 0x7ff320770790>"
            ]
          },
          "metadata": {},
          "execution_count": 85
        }
      ]
    },
    {
      "cell_type": "code",
      "source": [
        "from keras.layers import LSTM, Dense, Bidirectional, average, Input, concatenate, Dropout\n",
        "from keras import Model\n",
        "\n",
        "\n",
        "prefix_events_input = Input(shape=(PREFIX_LENGTH, 1), name='prefix_events_input')\n",
        "suffix_events_input = Input(shape=(PREFIX_LENGTH, 1), name='suffix_events_input')\n",
        "\n",
        "prefix_deltas_input = Input(shape=(PREFIX_LENGTH, 1), name='prefix_deltas_input')\n",
        "suffix_deltas_input = Input(shape=(PREFIX_LENGTH, 1), name='suffix_deltas_input')\n",
        "\n",
        "merged_prefix = concatenate([prefix_events_input, prefix_deltas_input], axis=-1)\n",
        "merged_suffix = concatenate([suffix_events_input, suffix_deltas_input], axis=-1)\n",
        "\n",
        "lstm_layer = LSTM(32)\n",
        "\n",
        "prefix_layer = Bidirectional(lstm_layer, name='prefix_lstm')(merged_prefix)\n",
        "suffix_layer = Bidirectional(lstm_layer, name='suffix_lstm')(merged_suffix)\n",
        "\n",
        "dropout_prefix = Dropout(0.2)(prefix_layer)\n",
        "dropout_suffix = Dropout(0.2)(suffix_layer)\n",
        "\n",
        "merged = concatenate([dropout_prefix, dropout_suffix], name='merged')\n",
        "\n",
        "output = Dense(1, name='output')(merged)\n",
        "\n",
        "bi_LSTM_td = Model(\n",
        "    inputs=[prefix_events_input, suffix_events_input, prefix_deltas_input, suffix_deltas_input],\n",
        "    outputs=output)\n",
        "\n",
        "bi_LSTM_td.compile(loss='mse', optimizer='adam', metrics=['mse'])\n",
        "bi_LSTM_td.summary()\n",
        "bi_LSTM_td.fit(\n",
        "    (train_x[0], train_x[1], train_x[2], train_x[3]),\n",
        "    train_y,\n",
        "    validation_data=((validation_x[0], validation_x[1], validation_x[2], validation_x[3]),\n",
        "                     validation_y), epochs=10)\n",
        "\n"
      ],
      "metadata": {
        "colab": {
          "base_uri": "https://localhost:8080/"
        },
        "id": "F-OL6l7_CEFo",
        "outputId": "e58bd966-421f-40c3-96b1-fc12e7e623a2"
      },
      "execution_count": 86,
      "outputs": [
        {
          "output_type": "stream",
          "name": "stdout",
          "text": [
            "Model: \"model_4\"\n",
            "__________________________________________________________________________________________________\n",
            " Layer (type)                   Output Shape         Param #     Connected to                     \n",
            "==================================================================================================\n",
            " prefix_events_input (InputLaye  [(None, 5, 1)]      0           []                               \n",
            " r)                                                                                               \n",
            "                                                                                                  \n",
            " prefix_deltas_input (InputLaye  [(None, 5, 1)]      0           []                               \n",
            " r)                                                                                               \n",
            "                                                                                                  \n",
            " suffix_events_input (InputLaye  [(None, 5, 1)]      0           []                               \n",
            " r)                                                                                               \n",
            "                                                                                                  \n",
            " suffix_deltas_input (InputLaye  [(None, 5, 1)]      0           []                               \n",
            " r)                                                                                               \n",
            "                                                                                                  \n",
            " concatenate_2 (Concatenate)    (None, 5, 2)         0           ['prefix_events_input[0][0]',    \n",
            "                                                                  'prefix_deltas_input[0][0]']    \n",
            "                                                                                                  \n",
            " concatenate_3 (Concatenate)    (None, 5, 2)         0           ['suffix_events_input[0][0]',    \n",
            "                                                                  'suffix_deltas_input[0][0]']    \n",
            "                                                                                                  \n",
            " prefix_lstm (Bidirectional)    (None, 64)           8960        ['concatenate_2[0][0]']          \n",
            "                                                                                                  \n",
            " suffix_lstm (Bidirectional)    (None, 64)           8960        ['concatenate_3[0][0]']          \n",
            "                                                                                                  \n",
            " dropout_10 (Dropout)           (None, 64)           0           ['prefix_lstm[0][0]']            \n",
            "                                                                                                  \n",
            " dropout_11 (Dropout)           (None, 64)           0           ['suffix_lstm[0][0]']            \n",
            "                                                                                                  \n",
            " merged (Concatenate)           (None, 128)          0           ['dropout_10[0][0]',             \n",
            "                                                                  'dropout_11[0][0]']             \n",
            "                                                                                                  \n",
            " output (Dense)                 (None, 1)            129         ['merged[0][0]']                 \n",
            "                                                                                                  \n",
            "==================================================================================================\n",
            "Total params: 18,049\n",
            "Trainable params: 18,049\n",
            "Non-trainable params: 0\n",
            "__________________________________________________________________________________________________\n",
            "Epoch 1/10\n",
            "13/13 [==============================] - 15s 286ms/step - loss: 0.0423 - mse: 0.0423 - val_loss: 0.0394 - val_mse: 0.0394\n",
            "Epoch 2/10\n",
            "13/13 [==============================] - 1s 38ms/step - loss: 0.0351 - mse: 0.0351 - val_loss: 0.0330 - val_mse: 0.0330\n",
            "Epoch 3/10\n",
            "13/13 [==============================] - 0s 30ms/step - loss: 0.0291 - mse: 0.0291 - val_loss: 0.0308 - val_mse: 0.0308\n",
            "Epoch 4/10\n",
            "13/13 [==============================] - 0s 30ms/step - loss: 0.0296 - mse: 0.0296 - val_loss: 0.0264 - val_mse: 0.0264\n",
            "Epoch 5/10\n",
            "13/13 [==============================] - 0s 35ms/step - loss: 0.0247 - mse: 0.0247 - val_loss: 0.0244 - val_mse: 0.0244\n",
            "Epoch 6/10\n",
            "13/13 [==============================] - 0s 36ms/step - loss: 0.0213 - mse: 0.0213 - val_loss: 0.0242 - val_mse: 0.0242\n",
            "Epoch 7/10\n",
            "13/13 [==============================] - 0s 15ms/step - loss: 0.0214 - mse: 0.0214 - val_loss: 0.0208 - val_mse: 0.0208\n",
            "Epoch 8/10\n",
            "13/13 [==============================] - 0s 15ms/step - loss: 0.0179 - mse: 0.0179 - val_loss: 0.0198 - val_mse: 0.0198\n",
            "Epoch 9/10\n",
            "13/13 [==============================] - 0s 30ms/step - loss: 0.0176 - mse: 0.0176 - val_loss: 0.0185 - val_mse: 0.0185\n",
            "Epoch 10/10\n",
            "13/13 [==============================] - 0s 30ms/step - loss: 0.0166 - mse: 0.0166 - val_loss: 0.0201 - val_mse: 0.0201\n"
          ]
        },
        {
          "output_type": "execute_result",
          "data": {
            "text/plain": [
              "<keras.callbacks.History at 0x7ff320af7af0>"
            ]
          },
          "metadata": {},
          "execution_count": 86
        }
      ]
    },
    {
      "cell_type": "markdown",
      "source": [
        "###6.2 best architecture"
      ],
      "metadata": {
        "id": "DJW_DgzVGnuj"
      }
    },
    {
      "cell_type": "code",
      "source": [
        "from keras.layers import Dropout, Input, Bidirectional, LSTM, average, Dense, concatenate\n",
        "from keras import Model\n",
        "\n",
        "prefix_events_input = Input(shape=(PREFIX_LENGTH, 1), name='prefix_events_input')\n",
        "suffix_events_input = Input(shape=(PREFIX_LENGTH, 1), name='suffix_events_input')\n",
        "\n",
        "prefix_times_input = Input(shape=(PREFIX_LENGTH, 1), name='prefix_times_input')\n",
        "suffix_times_input = Input(shape=(PREFIX_LENGTH, 1), name='suffix_times_input')\n",
        "\n",
        "lstm_layer = LSTM(32)\n",
        "\n",
        "prefix_events_lstm = Bidirectional(lstm_layer, name='prefix_events_lstm')(prefix_events_input)\n",
        "suffix_events_lstm = Bidirectional(lstm_layer, name='suffix_events_lstm')(suffix_events_input)\n",
        "prefix_times_lstm = Bidirectional(lstm_layer, name='prefix_times_lstm')(prefix_times_input)\n",
        "suffix_times_lstm = Bidirectional(lstm_layer, name='suffix_times_lstm')(suffix_times_input)\n",
        "\n",
        "\n",
        "dropout_prefix_events = Dropout(0.2)(prefix_events_lstm)\n",
        "dropout_suffix_events = Dropout(0.2)(suffix_events_lstm)\n",
        "dropout_prefix_times = Dropout(0.2)(prefix_times_lstm)\n",
        "dropout_suffix_times = Dropout(0.2)(suffix_times_lstm)\n",
        "\n",
        "\n",
        "merged = concatenate([dropout_prefix_events, dropout_suffix_events, dropout_prefix_times, dropout_suffix_times], name='merged')\n",
        "\n",
        "output = Dense(1, name='output')(merged)\n",
        "\n",
        "best_model = Model(\n",
        "    inputs=[prefix_events_input, suffix_events_input, prefix_times_input, suffix_times_input],\n",
        "\n",
        "    outputs=output)\n",
        "best_model.compile(loss='mse', optimizer='adam', metrics=['mse'])\n",
        "best_model.summary()\n",
        "best_model.fit(\n",
        "    (train_x[0], train_x[1], train_x[2], train_x[3]),\n",
        "    train_y,\n",
        "    validation_data=((validation_x[0], validation_x[1], validation_x[2], validation_x[3]),\n",
        "                     validation_y), epochs=10)\n"
      ],
      "metadata": {
        "colab": {
          "base_uri": "https://localhost:8080/"
        },
        "id": "vF6fv5kYfctS",
        "outputId": "93dffb49-b40f-4fed-b290-3d40095bb1fb"
      },
      "execution_count": 251,
      "outputs": [
        {
          "output_type": "stream",
          "name": "stdout",
          "text": [
            "Model: \"model_5\"\n",
            "__________________________________________________________________________________________________\n",
            " Layer (type)                   Output Shape         Param #     Connected to                     \n",
            "==================================================================================================\n",
            " prefix_events_input (InputLaye  [(None, 5, 1)]      0           []                               \n",
            " r)                                                                                               \n",
            "                                                                                                  \n",
            " suffix_events_input (InputLaye  [(None, 5, 1)]      0           []                               \n",
            " r)                                                                                               \n",
            "                                                                                                  \n",
            " prefix_times_input (InputLayer  [(None, 5, 1)]      0           []                               \n",
            " )                                                                                                \n",
            "                                                                                                  \n",
            " suffix_times_input (InputLayer  [(None, 5, 1)]      0           []                               \n",
            " )                                                                                                \n",
            "                                                                                                  \n",
            " prefix_events_lstm (Bidirectio  (None, 64)          8704        ['prefix_events_input[0][0]']    \n",
            " nal)                                                                                             \n",
            "                                                                                                  \n",
            " suffix_events_lstm (Bidirectio  (None, 64)          8704        ['suffix_events_input[0][0]']    \n",
            " nal)                                                                                             \n",
            "                                                                                                  \n",
            " prefix_times_lstm (Bidirection  (None, 64)          8704        ['prefix_times_input[0][0]']     \n",
            " al)                                                                                              \n",
            "                                                                                                  \n",
            " suffix_times_lstm (Bidirection  (None, 64)          8704        ['suffix_times_input[0][0]']     \n",
            " al)                                                                                              \n",
            "                                                                                                  \n",
            " dropout_20 (Dropout)           (None, 64)           0           ['prefix_events_lstm[0][0]']     \n",
            "                                                                                                  \n",
            " dropout_21 (Dropout)           (None, 64)           0           ['suffix_events_lstm[0][0]']     \n",
            "                                                                                                  \n",
            " dropout_22 (Dropout)           (None, 64)           0           ['prefix_times_lstm[0][0]']      \n",
            "                                                                                                  \n",
            " dropout_23 (Dropout)           (None, 64)           0           ['suffix_times_lstm[0][0]']      \n",
            "                                                                                                  \n",
            " merged (Concatenate)           (None, 256)          0           ['dropout_20[0][0]',             \n",
            "                                                                  'dropout_21[0][0]',             \n",
            "                                                                  'dropout_22[0][0]',             \n",
            "                                                                  'dropout_23[0][0]']             \n",
            "                                                                                                  \n",
            " output (Dense)                 (None, 1)            257         ['merged[0][0]']                 \n",
            "                                                                                                  \n",
            "==================================================================================================\n",
            "Total params: 35,073\n",
            "Trainable params: 35,073\n",
            "Non-trainable params: 0\n",
            "__________________________________________________________________________________________________\n",
            "Epoch 1/10\n",
            "847/847 [==============================] - 47s 35ms/step - loss: 0.0138 - mse: 0.0138 - val_loss: 0.0094 - val_mse: 0.0094\n",
            "Epoch 2/10\n",
            "847/847 [==============================] - 23s 28ms/step - loss: 0.0098 - mse: 0.0098 - val_loss: 0.0091 - val_mse: 0.0091\n",
            "Epoch 3/10\n",
            "847/847 [==============================] - 24s 28ms/step - loss: 0.0094 - mse: 0.0094 - val_loss: 0.0099 - val_mse: 0.0099\n",
            "Epoch 4/10\n",
            "847/847 [==============================] - 22s 26ms/step - loss: 0.0093 - mse: 0.0093 - val_loss: 0.0089 - val_mse: 0.0089\n",
            "Epoch 5/10\n",
            "847/847 [==============================] - 25s 29ms/step - loss: 0.0093 - mse: 0.0093 - val_loss: 0.0090 - val_mse: 0.0090\n",
            "Epoch 6/10\n",
            "847/847 [==============================] - 22s 26ms/step - loss: 0.0092 - mse: 0.0092 - val_loss: 0.0092 - val_mse: 0.0092\n",
            "Epoch 7/10\n",
            "847/847 [==============================] - 24s 28ms/step - loss: 0.0092 - mse: 0.0092 - val_loss: 0.0089 - val_mse: 0.0089\n",
            "Epoch 8/10\n",
            "847/847 [==============================] - 22s 26ms/step - loss: 0.0091 - mse: 0.0091 - val_loss: 0.0089 - val_mse: 0.0089\n",
            "Epoch 9/10\n",
            "847/847 [==============================] - 21s 25ms/step - loss: 0.0091 - mse: 0.0091 - val_loss: 0.0088 - val_mse: 0.0088\n",
            "Epoch 10/10\n",
            "847/847 [==============================] - 23s 27ms/step - loss: 0.0092 - mse: 0.0092 - val_loss: 0.0088 - val_mse: 0.0088\n"
          ]
        },
        {
          "output_type": "execute_result",
          "data": {
            "text/plain": [
              "<keras.callbacks.History at 0x7ff30dbf1360>"
            ]
          },
          "metadata": {},
          "execution_count": 251
        }
      ]
    },
    {
      "cell_type": "markdown",
      "source": [
        "###6.3 hyperparameter tuning"
      ],
      "metadata": {
        "id": "hkn4ELHyEYhN"
      }
    },
    {
      "cell_type": "code",
      "source": [
        "import keras_tuner as kt\n",
        "\n",
        "def build_model(hp):\n",
        "  prefix_events_input = Input(shape=(PREFIX_LENGTH, 1), name='prefix_events_input')\n",
        "  suffix_events_input = Input(shape=(PREFIX_LENGTH, 1), name='suffix_events_input')\n",
        "\n",
        "  prefix_deltas_input = Input(shape=(PREFIX_LENGTH, 1), name='prefix_deltas_input')\n",
        "  suffix_deltas_input = Input(shape=(PREFIX_LENGTH, 1), name='suffix_deltas_input')\n",
        "\n",
        "\n",
        "  lstm_units = hp.Int('units', min_value=32, max_value=128, step=32)\n",
        "  lstm_layer = LSTM(lstm_units)\n",
        "\n",
        "  prefix_events_lstm = Bidirectional(lstm_layer, name='prefix_events_lstm')(prefix_events_input)\n",
        "  suffix_events_lstm = Bidirectional(lstm_layer, name='suffix_events_lstm')(suffix_events_input)\n",
        "  prefix_deltas_lstm = Bidirectional(lstm_layer, name='prefix_deltas_lstm')(prefix_deltas_input)\n",
        "  suffix_deltas_lstm = Bidirectional(lstm_layer, name='suffix_deltas_lstm')(suffix_deltas_input)\n",
        "\n",
        "  dropout_rates = [0.0,0.1,0.2,0.3,0.4,0.5]\n",
        "\n",
        "  dropout_rate_1 = hp.Choice('rate_1', values=dropout_rates)\n",
        "  dropout_rate_2 = hp.Choice('rate_2', values=dropout_rates)\n",
        "  dropout_rate_3 = hp.Choice('rate_3', values=dropout_rates)\n",
        "  dropout_rate_4 = hp.Choice('rate_4', values=dropout_rates)\n",
        "\n",
        "\n",
        "  dropout_prefix_events = Dropout(dropout_rate_1)(prefix_events_lstm)\n",
        "  dropout_suffix_events = Dropout(dropout_rate_2)(suffix_events_lstm)\n",
        "  dropout_prefix_deltas = Dropout(dropout_rate_3)(prefix_deltas_lstm)\n",
        "  dropout_suffix_deltas = Dropout(dropout_rate_4)(suffix_deltas_lstm)\n",
        "\n",
        "\n",
        "\n",
        "  merged = average([dropout_prefix_events, dropout_suffix_events, dropout_prefix_deltas, dropout_suffix_deltas], name='merged')\n",
        "\n",
        "  output = Dense(1, name='output')(merged)\n",
        "\n",
        "  model = Model(\n",
        "      inputs=[prefix_events_input, suffix_events_input, prefix_deltas_input, suffix_deltas_input],\n",
        "      outputs=output)\n",
        "\n",
        "  model.compile(loss='mse', optimizer='adam', metrics=['mse'])\n",
        "  \n",
        "  return model\n",
        "  \n",
        "build_model(kt.HyperParameters())"
      ],
      "metadata": {
        "colab": {
          "base_uri": "https://localhost:8080/"
        },
        "id": "W06SOh5DEUf1",
        "outputId": "5a397463-d84d-4477-b8aa-59e61d4f3153"
      },
      "execution_count": 281,
      "outputs": [
        {
          "output_type": "execute_result",
          "data": {
            "text/plain": [
              "<keras.engine.functional.Functional at 0x7ff32639c460>"
            ]
          },
          "metadata": {},
          "execution_count": 281
        }
      ]
    },
    {
      "cell_type": "code",
      "source": [
        "import tensorflow as tf\n",
        "\n",
        "tuner = kt.Hyperband(\n",
        "    hypermodel=build_model,\n",
        "    objective='val_mse',\n",
        "    max_epochs=10,\n",
        "    seed=9\n",
        ")\n",
        "\n",
        "stop_early = tf.keras.callbacks.EarlyStopping(monitor='val_loss', patience=5)\n",
        "\n",
        "tuner.search(\n",
        "    (train_x[0], train_x[1], train_x[2], train_x[3]),\n",
        "    train_y,\n",
        "    validation_data=((validation_x[0], validation_x[1], validation_x[2], validation_x[3]),\n",
        "    validation_y),\n",
        "    epochs=10,\n",
        "    callbacks=[stop_early]\n",
        ")"
      ],
      "metadata": {
        "colab": {
          "base_uri": "https://localhost:8080/"
        },
        "id": "06q40WLGFhrE",
        "outputId": "a435e11d-72c3-4c20-8764-14a79a32d4f9"
      },
      "execution_count": 282,
      "outputs": [
        {
          "output_type": "stream",
          "name": "stdout",
          "text": [
            "Trial 26 Complete [00h 03m 42s]\n",
            "val_mse: 0.009365555830299854\n",
            "\n",
            "Best val_mse So Far: 0.009101568721234798\n",
            "Total elapsed time: 01h 06m 25s\n"
          ]
        }
      ]
    },
    {
      "cell_type": "code",
      "source": [
        "best_hps=tuner.get_best_hyperparameters(num_trials=1)[0]\n",
        "best_hyperparameters = tuner.get_best_hyperparameters(1)[0]\n",
        "best_hyperparameters.values\n",
        "# {'units': 64,\n",
        "#  'rate_1': 0.0,\n",
        "#  'rate_2': 0.3,\n",
        "#  'rate_3': 0.0,\n",
        "#  'rate_4': 0.5,\n",
        "#  'tuner/epochs': 10,\n",
        "#  'tuner/initial_epoch': 0,\n",
        "#  'tuner/bracket': 0,\n",
        "#  'tuner/round': 0}"
      ],
      "metadata": {
        "id": "sWFoqAlohabT",
        "outputId": "23e0b399-70e0-436d-c0c4-1aad82bf7c22",
        "colab": {
          "base_uri": "https://localhost:8080/"
        }
      },
      "execution_count": 283,
      "outputs": [
        {
          "output_type": "execute_result",
          "data": {
            "text/plain": [
              "{'units': 64,\n",
              " 'rate_1': 0.0,\n",
              " 'rate_2': 0.3,\n",
              " 'rate_3': 0.0,\n",
              " 'rate_4': 0.5,\n",
              " 'tuner/epochs': 10,\n",
              " 'tuner/initial_epoch': 0,\n",
              " 'tuner/bracket': 0,\n",
              " 'tuner/round': 0}"
            ]
          },
          "metadata": {},
          "execution_count": 283
        }
      ]
    },
    {
      "cell_type": "markdown",
      "source": [
        "###6.4 Best Model"
      ],
      "metadata": {
        "id": "puQLVjq1hkbC"
      }
    },
    {
      "cell_type": "code",
      "source": [
        "from keras.layers import Dropout, Input, Bidirectional, LSTM, average, Dense, concatenate\n",
        "from keras import Model\n",
        "\n",
        "prefix_events_input = Input(shape=(PREFIX_LENGTH, 1), name='prefix_events_input')\n",
        "suffix_events_input = Input(shape=(PREFIX_LENGTH, 1), name='suffix_events_input')\n",
        "\n",
        "prefix_times_input = Input(shape=(PREFIX_LENGTH, 1), name='prefix_times_input')\n",
        "suffix_times_input = Input(shape=(PREFIX_LENGTH, 1), name='suffix_times_input')\n",
        "\n",
        "lstm_layer = LSTM(64)\n",
        "\n",
        "prefix_events_lstm = Bidirectional(lstm_layer, name='prefix_events_lstm')(prefix_events_input)\n",
        "suffix_events_lstm = Bidirectional(lstm_layer, name='suffix_events_lstm')(suffix_events_input)\n",
        "prefix_times_lstm = Bidirectional(lstm_layer, name='prefix_times_lstm')(prefix_times_input)\n",
        "suffix_times_lstm = Bidirectional(lstm_layer, name='suffix_times_lstm')(suffix_times_input)\n",
        "\n",
        "\n",
        "dropout_prefix_events = Dropout(0.0)(prefix_events_lstm)\n",
        "dropout_suffix_events = Dropout(0.3)(suffix_events_lstm)\n",
        "dropout_prefix_times = Dropout(0.0)(prefix_times_lstm)\n",
        "dropout_suffix_times = Dropout(0.5)(suffix_times_lstm)\n",
        "\n",
        "\n",
        "merged = concatenate([dropout_prefix_events, dropout_suffix_events, dropout_prefix_times, dropout_suffix_times], name='merged')\n",
        "\n",
        "output = Dense(1, name='output')(merged)\n",
        "\n",
        "best_model = Model(\n",
        "    inputs=[prefix_events_input, suffix_events_input, prefix_times_input, suffix_times_input],\n",
        "\n",
        "    outputs=output)\n",
        "best_model.compile(loss='mse', optimizer='adam', metrics=['mse'])\n",
        "best_model.summary()\n",
        "history = best_model.fit(\n",
        "    (train_x[0], train_x[1], train_x[2], train_x[3]),\n",
        "    train_y,\n",
        "    validation_data=((validation_x[0], validation_x[1], validation_x[2], validation_x[3]),\n",
        "                     validation_y), epochs=50)\n"
      ],
      "metadata": {
        "id": "dTlRApxThjn6",
        "outputId": "20aaeca7-7f74-4a4b-bf92-ec5eeca35800",
        "colab": {
          "base_uri": "https://localhost:8080/"
        }
      },
      "execution_count": 284,
      "outputs": [
        {
          "output_type": "stream",
          "name": "stdout",
          "text": [
            "Model: \"model_1\"\n",
            "__________________________________________________________________________________________________\n",
            " Layer (type)                   Output Shape         Param #     Connected to                     \n",
            "==================================================================================================\n",
            " prefix_events_input (InputLaye  [(None, 4, 1)]      0           []                               \n",
            " r)                                                                                               \n",
            "                                                                                                  \n",
            " suffix_events_input (InputLaye  [(None, 4, 1)]      0           []                               \n",
            " r)                                                                                               \n",
            "                                                                                                  \n",
            " prefix_times_input (InputLayer  [(None, 4, 1)]      0           []                               \n",
            " )                                                                                                \n",
            "                                                                                                  \n",
            " suffix_times_input (InputLayer  [(None, 4, 1)]      0           []                               \n",
            " )                                                                                                \n",
            "                                                                                                  \n",
            " prefix_events_lstm (Bidirectio  (None, 128)         33792       ['prefix_events_input[0][0]']    \n",
            " nal)                                                                                             \n",
            "                                                                                                  \n",
            " suffix_events_lstm (Bidirectio  (None, 128)         33792       ['suffix_events_input[0][0]']    \n",
            " nal)                                                                                             \n",
            "                                                                                                  \n",
            " prefix_times_lstm (Bidirection  (None, 128)         33792       ['prefix_times_input[0][0]']     \n",
            " al)                                                                                              \n",
            "                                                                                                  \n",
            " suffix_times_lstm (Bidirection  (None, 128)         33792       ['suffix_times_input[0][0]']     \n",
            " al)                                                                                              \n",
            "                                                                                                  \n",
            " dropout_4 (Dropout)            (None, 128)          0           ['prefix_events_lstm[0][0]']     \n",
            "                                                                                                  \n",
            " dropout_5 (Dropout)            (None, 128)          0           ['suffix_events_lstm[0][0]']     \n",
            "                                                                                                  \n",
            " dropout_6 (Dropout)            (None, 128)          0           ['prefix_times_lstm[0][0]']      \n",
            "                                                                                                  \n",
            " dropout_7 (Dropout)            (None, 128)          0           ['suffix_times_lstm[0][0]']      \n",
            "                                                                                                  \n",
            " merged (Concatenate)           (None, 512)          0           ['dropout_4[0][0]',              \n",
            "                                                                  'dropout_5[0][0]',              \n",
            "                                                                  'dropout_6[0][0]',              \n",
            "                                                                  'dropout_7[0][0]']              \n",
            "                                                                                                  \n",
            " output (Dense)                 (None, 1)            513         ['merged[0][0]']                 \n",
            "                                                                                                  \n",
            "==================================================================================================\n",
            "Total params: 135,681\n",
            "Trainable params: 135,681\n",
            "Non-trainable params: 0\n",
            "__________________________________________________________________________________________________\n",
            "Epoch 1/50\n",
            "845/845 [==============================] - 46s 33ms/step - loss: 0.0120 - mse: 0.0120 - val_loss: 0.0096 - val_mse: 0.0096\n",
            "Epoch 2/50\n",
            "845/845 [==============================] - 22s 26ms/step - loss: 0.0099 - mse: 0.0099 - val_loss: 0.0094 - val_mse: 0.0094\n",
            "Epoch 3/50\n",
            "845/845 [==============================] - 24s 29ms/step - loss: 0.0097 - mse: 0.0097 - val_loss: 0.0098 - val_mse: 0.0098\n",
            "Epoch 4/50\n",
            "845/845 [==============================] - 24s 28ms/step - loss: 0.0096 - mse: 0.0096 - val_loss: 0.0098 - val_mse: 0.0098\n",
            "Epoch 5/50\n",
            "845/845 [==============================] - 24s 28ms/step - loss: 0.0095 - mse: 0.0095 - val_loss: 0.0093 - val_mse: 0.0093\n",
            "Epoch 6/50\n",
            "845/845 [==============================] - 25s 30ms/step - loss: 0.0094 - mse: 0.0094 - val_loss: 0.0093 - val_mse: 0.0093\n",
            "Epoch 7/50\n",
            "845/845 [==============================] - 24s 28ms/step - loss: 0.0094 - mse: 0.0094 - val_loss: 0.0094 - val_mse: 0.0094\n",
            "Epoch 8/50\n",
            "845/845 [==============================] - 24s 28ms/step - loss: 0.0094 - mse: 0.0094 - val_loss: 0.0093 - val_mse: 0.0093\n",
            "Epoch 9/50\n",
            "845/845 [==============================] - 22s 26ms/step - loss: 0.0094 - mse: 0.0094 - val_loss: 0.0093 - val_mse: 0.0093\n",
            "Epoch 10/50\n",
            "845/845 [==============================] - 26s 30ms/step - loss: 0.0093 - mse: 0.0093 - val_loss: 0.0094 - val_mse: 0.0094\n",
            "Epoch 11/50\n",
            "845/845 [==============================] - 22s 26ms/step - loss: 0.0093 - mse: 0.0093 - val_loss: 0.0096 - val_mse: 0.0096\n",
            "Epoch 12/50\n",
            "845/845 [==============================] - 25s 30ms/step - loss: 0.0093 - mse: 0.0093 - val_loss: 0.0092 - val_mse: 0.0092\n",
            "Epoch 13/50\n",
            "845/845 [==============================] - 22s 26ms/step - loss: 0.0093 - mse: 0.0093 - val_loss: 0.0093 - val_mse: 0.0093\n",
            "Epoch 14/50\n",
            "845/845 [==============================] - 23s 27ms/step - loss: 0.0093 - mse: 0.0093 - val_loss: 0.0092 - val_mse: 0.0092\n",
            "Epoch 15/50\n",
            "845/845 [==============================] - 24s 29ms/step - loss: 0.0093 - mse: 0.0093 - val_loss: 0.0093 - val_mse: 0.0093\n",
            "Epoch 16/50\n",
            "845/845 [==============================] - 26s 31ms/step - loss: 0.0093 - mse: 0.0093 - val_loss: 0.0092 - val_mse: 0.0092\n",
            "Epoch 17/50\n",
            "845/845 [==============================] - 30s 35ms/step - loss: 0.0092 - mse: 0.0092 - val_loss: 0.0091 - val_mse: 0.0091\n",
            "Epoch 18/50\n",
            "845/845 [==============================] - 25s 30ms/step - loss: 0.0093 - mse: 0.0093 - val_loss: 0.0092 - val_mse: 0.0092\n",
            "Epoch 19/50\n",
            "845/845 [==============================] - 22s 26ms/step - loss: 0.0092 - mse: 0.0092 - val_loss: 0.0094 - val_mse: 0.0094\n",
            "Epoch 20/50\n",
            "845/845 [==============================] - 23s 27ms/step - loss: 0.0092 - mse: 0.0092 - val_loss: 0.0096 - val_mse: 0.0096\n",
            "Epoch 21/50\n",
            "845/845 [==============================] - 24s 29ms/step - loss: 0.0092 - mse: 0.0092 - val_loss: 0.0092 - val_mse: 0.0092\n",
            "Epoch 22/50\n",
            "845/845 [==============================] - 22s 26ms/step - loss: 0.0092 - mse: 0.0092 - val_loss: 0.0091 - val_mse: 0.0091\n",
            "Epoch 23/50\n",
            "845/845 [==============================] - 25s 30ms/step - loss: 0.0092 - mse: 0.0092 - val_loss: 0.0091 - val_mse: 0.0091\n",
            "Epoch 24/50\n",
            "845/845 [==============================] - 22s 26ms/step - loss: 0.0092 - mse: 0.0092 - val_loss: 0.0092 - val_mse: 0.0092\n",
            "Epoch 25/50\n",
            "845/845 [==============================] - 24s 29ms/step - loss: 0.0092 - mse: 0.0092 - val_loss: 0.0091 - val_mse: 0.0091\n",
            "Epoch 26/50\n",
            "845/845 [==============================] - 23s 27ms/step - loss: 0.0092 - mse: 0.0092 - val_loss: 0.0092 - val_mse: 0.0092\n",
            "Epoch 27/50\n",
            "845/845 [==============================] - 23s 27ms/step - loss: 0.0092 - mse: 0.0092 - val_loss: 0.0093 - val_mse: 0.0093\n",
            "Epoch 28/50\n",
            "845/845 [==============================] - 25s 29ms/step - loss: 0.0092 - mse: 0.0092 - val_loss: 0.0093 - val_mse: 0.0093\n",
            "Epoch 29/50\n",
            "845/845 [==============================] - 22s 26ms/step - loss: 0.0092 - mse: 0.0092 - val_loss: 0.0092 - val_mse: 0.0092\n",
            "Epoch 30/50\n",
            "845/845 [==============================] - 25s 30ms/step - loss: 0.0092 - mse: 0.0092 - val_loss: 0.0092 - val_mse: 0.0092\n",
            "Epoch 31/50\n",
            "845/845 [==============================] - 23s 27ms/step - loss: 0.0092 - mse: 0.0092 - val_loss: 0.0093 - val_mse: 0.0093\n",
            "Epoch 32/50\n",
            "845/845 [==============================] - 24s 28ms/step - loss: 0.0092 - mse: 0.0092 - val_loss: 0.0092 - val_mse: 0.0092\n",
            "Epoch 33/50\n",
            "845/845 [==============================] - 24s 28ms/step - loss: 0.0092 - mse: 0.0092 - val_loss: 0.0094 - val_mse: 0.0094\n",
            "Epoch 34/50\n",
            "845/845 [==============================] - 22s 27ms/step - loss: 0.0092 - mse: 0.0092 - val_loss: 0.0091 - val_mse: 0.0091\n",
            "Epoch 35/50\n",
            "845/845 [==============================] - 25s 30ms/step - loss: 0.0092 - mse: 0.0092 - val_loss: 0.0092 - val_mse: 0.0092\n",
            "Epoch 36/50\n",
            "845/845 [==============================] - 22s 27ms/step - loss: 0.0091 - mse: 0.0091 - val_loss: 0.0094 - val_mse: 0.0094\n",
            "Epoch 37/50\n",
            "845/845 [==============================] - 25s 30ms/step - loss: 0.0091 - mse: 0.0091 - val_loss: 0.0091 - val_mse: 0.0091\n",
            "Epoch 38/50\n",
            "845/845 [==============================] - 22s 26ms/step - loss: 0.0091 - mse: 0.0091 - val_loss: 0.0091 - val_mse: 0.0091\n",
            "Epoch 39/50\n",
            "845/845 [==============================] - 23s 27ms/step - loss: 0.0091 - mse: 0.0091 - val_loss: 0.0091 - val_mse: 0.0091\n",
            "Epoch 40/50\n",
            "845/845 [==============================] - 25s 29ms/step - loss: 0.0091 - mse: 0.0091 - val_loss: 0.0092 - val_mse: 0.0092\n",
            "Epoch 41/50\n",
            "845/845 [==============================] - 23s 27ms/step - loss: 0.0091 - mse: 0.0091 - val_loss: 0.0091 - val_mse: 0.0091\n",
            "Epoch 42/50\n",
            "845/845 [==============================] - 25s 30ms/step - loss: 0.0091 - mse: 0.0091 - val_loss: 0.0092 - val_mse: 0.0092\n",
            "Epoch 43/50\n",
            "845/845 [==============================] - 22s 27ms/step - loss: 0.0091 - mse: 0.0091 - val_loss: 0.0091 - val_mse: 0.0091\n",
            "Epoch 44/50\n",
            "845/845 [==============================] - 25s 29ms/step - loss: 0.0091 - mse: 0.0091 - val_loss: 0.0093 - val_mse: 0.0093\n",
            "Epoch 45/50\n",
            "845/845 [==============================] - 23s 27ms/step - loss: 0.0091 - mse: 0.0091 - val_loss: 0.0091 - val_mse: 0.0091\n",
            "Epoch 46/50\n",
            "845/845 [==============================] - 22s 27ms/step - loss: 0.0091 - mse: 0.0091 - val_loss: 0.0092 - val_mse: 0.0092\n",
            "Epoch 47/50\n",
            "845/845 [==============================] - 25s 30ms/step - loss: 0.0091 - mse: 0.0091 - val_loss: 0.0091 - val_mse: 0.0091\n",
            "Epoch 48/50\n",
            "845/845 [==============================] - 23s 27ms/step - loss: 0.0091 - mse: 0.0091 - val_loss: 0.0091 - val_mse: 0.0091\n",
            "Epoch 49/50\n",
            "845/845 [==============================] - 25s 30ms/step - loss: 0.0091 - mse: 0.0091 - val_loss: 0.0090 - val_mse: 0.0090\n",
            "Epoch 50/50\n",
            "845/845 [==============================] - 22s 26ms/step - loss: 0.0091 - mse: 0.0091 - val_loss: 0.0092 - val_mse: 0.0092\n"
          ]
        }
      ]
    },
    {
      "cell_type": "code",
      "source": [
        "import keras\n",
        "from matplotlib import pyplot as plt\n",
        "# plt.plot([i * 100 for i in history.history['accuracy']])\n",
        "# plt.plot([i * 100 for i in history.history['val_accuracy']])\n",
        "\n",
        "fig, ax = plt.subplots()\n",
        "x = list(range(1,51))\n",
        "ax.plot(x, [i for i in history.history['mse']]\n",
        ")\n",
        "ax.plot(x, [i for i in history.history['val_mse']]\n",
        ")\n",
        "\n",
        "# Find the maximum value and its index\n",
        "ymax = np.min([i for i in history.history['val_mse']])\n",
        "imax = np.argmin([i for i in history.history['val_mse']])\n",
        "\n",
        "# Annotate the maximum value\n",
        "ax.annotate(f'Minimu MSE: {round(ymax,2)} \\nEpoch: {x[imax]}\\n', \n",
        "            xy=(x[imax], ymax), xytext=(x[imax]-40, ymax+0.001),\n",
        "            arrowprops=dict(facecolor='black', arrowstyle='->'))\n",
        "\n",
        "plt.title('MSE per Epoch')\n",
        "plt.ylabel('MSE')\n",
        "plt.xlabel('Epoch')\n",
        "plt.legend(['Training', 'Validation'], loc='upper right')\n",
        "\n",
        "plt.show()"
      ],
      "metadata": {
        "id": "Uiq1vM9Ajn_r",
        "outputId": "67f805d6-f125-4228-de43-136096ea44d9",
        "colab": {
          "base_uri": "https://localhost:8080/",
          "height": 472
        }
      },
      "execution_count": 298,
      "outputs": [
        {
          "output_type": "display_data",
          "data": {
            "text/plain": [
              "<Figure size 640x480 with 1 Axes>"
            ],
            "image/png": "[encoded data removed]"
          },
          "metadata": {}
        }
      ]
    },
    {
      "cell_type": "markdown",
      "source": [
        "##Section 7: Evaluating the model"
      ],
      "metadata": {
        "id": "VotFhI5bGfMF"
      }
    },
    {
      "cell_type": "code",
      "source": [
        "def mean_squared_error(predictions):\n",
        "  seconds, minutes, hours, days = 0, 0, 0, 0\n",
        "  for p, t in zip(predictions, test_y):\n",
        "    if p != -1:\n",
        "      seconds += (p-t).total_seconds() ** 2\n",
        "  seconds = (seconds / len(predictions)) ** 0.5\n",
        "  minutes = seconds / 60\n",
        "  hours = minutes / 60\n",
        "  days = hours / 24\n",
        "  years = days / 365\n",
        "  \n",
        "  return seconds, minutes, hours, days, years\n"
      ],
      "metadata": {
        "id": "7hLNOIxM16mx"
      },
      "execution_count": 145,
      "outputs": []
    },
    {
      "cell_type": "code",
      "source": [
        "def predict(model, inputs=4):\n",
        "  predictions = None\n",
        "  if inputs == 4:\n",
        "    predictions = model.predict([test_x[0], test_x[1], test_x[2], test_x[3]])\n",
        "  elif inputs == 2:\n",
        "    predictions = model.predict([test_x[2], test_x[3]])\n",
        "  predicted_times = []\n",
        "  for i in range(len(predictions)):\n",
        "    seconds = test_start_times[i] + pd.to_timedelta(predictions[i] * max_length, unit='s')\n",
        "    predicted_times.append(seconds)\n",
        "  return predicted_times\n",
        "\n"
      ],
      "metadata": {
        "id": "730zCXoSGe8-"
      },
      "execution_count": 146,
      "outputs": []
    },
    {
      "cell_type": "code",
      "source": [
        "predictions_0 = predict(td_LSTM, 2)\n",
        "mean_squared_error(predictions_0)"
      ],
      "metadata": {
        "id": "DL89Lrc7DVE-"
      },
      "execution_count": null,
      "outputs": []
    },
    {
      "cell_type": "code",
      "source": [
        "predictions_1 = predict(bi_LSTM_td)\n",
        "mean_squared_error(predictions_1)"
      ],
      "metadata": {
        "id": "pXcbncU8DUvm"
      },
      "execution_count": null,
      "outputs": []
    },
    {
      "cell_type": "code",
      "source": [
        "predictions_2 = predict(best_model)\n",
        "mean_squared_error(predictions_2)"
      ],
      "metadata": {
        "id": "mwdqcbnxso_7",
        "outputId": "8cb12628-d59d-47f5-e130-36ce71734cdc",
        "colab": {
          "base_uri": "https://localhost:8080/"
        }
      },
      "execution_count": 252,
      "outputs": [
        {
          "output_type": "stream",
          "name": "stdout",
          "text": [
            "46/46 [==============================] - 4s 5ms/step\n"
          ]
        },
        {
          "output_type": "execute_result",
          "data": {
            "text/plain": [
              "(Float64Index([186466.15081734635], dtype='float64'),\n",
              " Float64Index([3107.769180289106], dtype='float64'),\n",
              " Float64Index([51.79615300481843], dtype='float64'),\n",
              " Float64Index([2.1581730418674345], dtype='float64'),\n",
              " Float64Index([0.005912802854431328], dtype='float64'))"
            ]
          },
          "metadata": {},
          "execution_count": 252
        }
      ]
    },
    {
      "cell_type": "code",
      "source": [
        "# mean_squared_error(naiive_predictions)"
      ],
      "metadata": {
        "id": "SMLcJ-OazhXK"
      },
      "execution_count": null,
      "outputs": []
    }
  ],
  "metadata": {
    "kernelspec": {
      "display_name": "Python 3",
      "language": "python",
      "name": "python3"
    },
    "language_info": {
      "codemirror_mode": {
        "name": "ipython",
        "version": 3
      },
      "file_extension": ".py",
      "mimetype": "text/x-python",
      "name": "python",
      "nbconvert_exporter": "python",
      "pygments_lexer": "ipython3",
      "version": "3.10.2"
    },
    "orig_nbformat": 4,
    "vscode": {
      "interpreter": {
        "hash": "668626f72d98c3d20278a861d4c9cd1e9608e85361f1e74d685459c6ce5f80f9"
      }
    },
    "colab": {
      "provenance": [],
      "include_colab_link": true
    },
    "gpuClass": "standard",
    "accelerator": "TPU"
  },
  "nbformat": 4,
  "nbformat_minor": 0
}