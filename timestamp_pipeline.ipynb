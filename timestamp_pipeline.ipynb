{
  "cells": [
    {
      "cell_type": "markdown",
      "metadata": {
        "id": "view-in-github",
        "colab_type": "text"
      },
      "source": [
        "<a href=\"https://colab.research.google.com/github/adamzbikowski/Process-Mining-Dissertation/blob/main/timestamp_pipeline.ipynb\" target=\"_parent\"><img src=\"https://colab.research.google.com/assets/colab-badge.svg\" alt=\"Open In Colab\"/></a>"
      ]
    },
    {
      "cell_type": "markdown",
      "metadata": {
        "id": "_vJIqfLeCjHP"
      },
      "source": [
        "# Pipeline 1: predicting missing values for activity"
      ]
    },
    {
      "cell_type": "markdown",
      "source": [
        "##Section 0: Customisation"
      ],
      "metadata": {
        "id": "LZGZm2vxOFBT"
      }
    },
    {
      "cell_type": "markdown",
      "source": [
        "**Note on usage:**\n",
        "To customise the pipeline, only alter the parameters in this section."
      ],
      "metadata": {
        "id": "uuEFUnhyPLSz"
      }
    },
    {
      "cell_type": "code",
      "source": [
        "# The following parameters can be customised:\n",
        "\n",
        "# change depending on which branch the queries have been pushed to\n",
        "BRANCH = \"sql-queries\" \n",
        "\n",
        "# change this to change which query is being used\n",
        "QUERY_NAME = \"el_4.sql\"\n",
        "\n",
        "# this assumes that the user has access to the mimic-iii dataset\n",
        "# through google BigQuery\n",
        "# replace project name to the project containing mimic-iii\n",
        "PROJECT_NAME = \"processmining-367815\" \n",
        "\n",
        "# change to alter the number of random traces being selected\n",
        "# set value to None in order to use the full dataset\n",
        "NUM_TRACES = 1000\n",
        "\n",
        "# IGNORE if event log does not include procedures\n",
        "# set to false if  \n",
        "CATEGORICAL_PROCEDURES = False\n",
        "\n",
        "# change to alter the prefix/suffix length\n",
        "PREFIX_LENGTH = 3\n",
        "\n",
        "# change to alter the size of the test and validation sets\n",
        "TEST_SIZE = 0.2\n",
        "VALIDATION_SIZE = 0.2\n",
        "\n",
        "# change to tune hyperparameters\n",
        "\n",
        "\n",
        "\n",
        "\n"
      ],
      "metadata": {
        "id": "7SRLZ8SUOEMp"
      },
      "execution_count": 78,
      "outputs": []
    },
    {
      "cell_type": "markdown",
      "metadata": {
        "id": "L27GXRjHCjHV"
      },
      "source": [
        "## Section 1: Loading event log"
      ]
    },
    {
      "cell_type": "markdown",
      "source": [
        "###1.1"
      ],
      "metadata": {
        "id": "9vuR0FKfBtms"
      }
    },
    {
      "cell_type": "code",
      "source": [
        "# installing prerequisites\n",
        "# certain packages are not installed by default on google colab\n",
        "!pip install pm4py\n",
        "!pip install -q -U keras-tuner"
      ],
      "metadata": {
        "colab": {
          "base_uri": "https://localhost:8080/"
        },
        "id": "JtmZ3GBVDj-s",
        "outputId": "359fbadb-9837-41aa-8384-bef349e8b342"
      },
      "execution_count": 2,
      "outputs": [
        {
          "output_type": "stream",
          "name": "stdout",
          "text": [
            "Looking in indexes: https://pypi.org/simple, https://us-python.pkg.dev/colab-wheels/public/simple/\n",
            "Collecting pm4py\n",
            "  Downloading pm4py-2.7.3-py3-none-any.whl (1.7 MB)\n",
            "\u001b[2K     \u001b[90m━━━━━━━━━━━━━━━━━━━━━━━━━━━━━━━━━━━━━━━━\u001b[0m \u001b[32m1.7/1.7 MB\u001b[0m \u001b[31m20.8 MB/s\u001b[0m eta \u001b[36m0:00:00\u001b[0m\n",
            "\u001b[?25hRequirement already satisfied: pandas in /usr/local/lib/python3.9/dist-packages (from pm4py) (1.5.3)\n",
            "Requirement already satisfied: networkx in /usr/local/lib/python3.9/dist-packages (from pm4py) (3.1)\n",
            "Requirement already satisfied: graphviz in /usr/local/lib/python3.9/dist-packages (from pm4py) (0.20.1)\n",
            "Requirement already satisfied: lxml in /usr/local/lib/python3.9/dist-packages (from pm4py) (4.9.2)\n",
            "Collecting stringdist\n",
            "  Downloading StringDist-1.0.9.tar.gz (7.4 kB)\n",
            "  Preparing metadata (setup.py) ... \u001b[?25l\u001b[?25hdone\n",
            "Requirement already satisfied: matplotlib in /usr/local/lib/python3.9/dist-packages (from pm4py) (3.7.1)\n",
            "Requirement already satisfied: scipy in /usr/local/lib/python3.9/dist-packages (from pm4py) (1.10.1)\n",
            "Requirement already satisfied: cvxopt in /usr/local/lib/python3.9/dist-packages (from pm4py) (1.3.0)\n",
            "Requirement already satisfied: numpy in /usr/local/lib/python3.9/dist-packages (from pm4py) (1.22.4)\n",
            "Collecting intervaltree\n",
            "  Downloading intervaltree-3.1.0.tar.gz (32 kB)\n",
            "  Preparing metadata (setup.py) ... \u001b[?25l\u001b[?25hdone\n",
            "Requirement already satisfied: pytz in /usr/local/lib/python3.9/dist-packages (from pm4py) (2022.7.1)\n",
            "Requirement already satisfied: pydotplus in /usr/local/lib/python3.9/dist-packages (from pm4py) (2.0.2)\n",
            "Collecting deprecation\n",
            "  Downloading deprecation-2.1.0-py2.py3-none-any.whl (11 kB)\n",
            "Requirement already satisfied: tqdm in /usr/local/lib/python3.9/dist-packages (from pm4py) (4.65.0)\n",
            "Requirement already satisfied: packaging in /usr/local/lib/python3.9/dist-packages (from deprecation->pm4py) (23.0)\n",
            "Requirement already satisfied: sortedcontainers<3.0,>=2.0 in /usr/local/lib/python3.9/dist-packages (from intervaltree->pm4py) (2.4.0)\n",
            "Requirement already satisfied: importlib-resources>=3.2.0 in /usr/local/lib/python3.9/dist-packages (from matplotlib->pm4py) (5.12.0)\n",
            "Requirement already satisfied: python-dateutil>=2.7 in /usr/local/lib/python3.9/dist-packages (from matplotlib->pm4py) (2.8.2)\n",
            "Requirement already satisfied: fonttools>=4.22.0 in /usr/local/lib/python3.9/dist-packages (from matplotlib->pm4py) (4.39.3)\n",
            "Requirement already satisfied: cycler>=0.10 in /usr/local/lib/python3.9/dist-packages (from matplotlib->pm4py) (0.11.0)\n",
            "Requirement already satisfied: kiwisolver>=1.0.1 in /usr/local/lib/python3.9/dist-packages (from matplotlib->pm4py) (1.4.4)\n",
            "Requirement already satisfied: contourpy>=1.0.1 in /usr/local/lib/python3.9/dist-packages (from matplotlib->pm4py) (1.0.7)\n",
            "Requirement already satisfied: pillow>=6.2.0 in /usr/local/lib/python3.9/dist-packages (from matplotlib->pm4py) (8.4.0)\n",
            "Requirement already satisfied: pyparsing>=2.3.1 in /usr/local/lib/python3.9/dist-packages (from matplotlib->pm4py) (3.0.9)\n",
            "Requirement already satisfied: zipp>=3.1.0 in /usr/local/lib/python3.9/dist-packages (from importlib-resources>=3.2.0->matplotlib->pm4py) (3.15.0)\n",
            "Requirement already satisfied: six>=1.5 in /usr/local/lib/python3.9/dist-packages (from python-dateutil>=2.7->matplotlib->pm4py) (1.16.0)\n",
            "Building wheels for collected packages: intervaltree, stringdist\n",
            "  Building wheel for intervaltree (setup.py) ... \u001b[?25l\u001b[?25hdone\n",
            "  Created wheel for intervaltree: filename=intervaltree-3.1.0-py2.py3-none-any.whl size=26114 sha256=a1fa5c5d4563394ade8656514f8e45c3d8e7f40b868b6a4300a5ea6f87cb3dd5\n",
            "  Stored in directory: /root/.cache/pip/wheels/ab/fa/1b/75d9a713279796785711bd0bad8334aaace560c0bd28830c8c\n",
            "  Building wheel for stringdist (setup.py) ... \u001b[?25l\u001b[?25hdone\n",
            "  Created wheel for stringdist: filename=StringDist-1.0.9-cp39-cp39-linux_x86_64.whl size=24711 sha256=0658afa7fae1e501905bc1b9cd31be4b75ff6d508b8c449b0428d2361606ef77\n",
            "  Stored in directory: /root/.cache/pip/wheels/77/24/44/b12b9612fd07e141e6b4f1bb2001c621515bd0cac1014a783a\n",
            "Successfully built intervaltree stringdist\n",
            "Installing collected packages: stringdist, intervaltree, deprecation, pm4py\n",
            "Successfully installed deprecation-2.1.0 intervaltree-3.1.0 pm4py-2.7.3 stringdist-1.0.9\n",
            "\u001b[2K     \u001b[90m━━━━━━━━━━━━━━━━━━━━━━━━━━━━━━━━━━━━━━━\u001b[0m \u001b[32m176.1/176.1 kB\u001b[0m \u001b[31m4.7 MB/s\u001b[0m eta \u001b[36m0:00:00\u001b[0m\n",
            "\u001b[?25h"
          ]
        }
      ]
    },
    {
      "cell_type": "code",
      "source": [
        "from google.colab import auth\n",
        "auth.authenticate_user()"
      ],
      "metadata": {
        "id": "IrTL5G7bD7W6"
      },
      "execution_count": 79,
      "outputs": []
    },
    {
      "cell_type": "code",
      "source": [
        "\n",
        "from google.cloud import bigquery\n",
        "client = bigquery.Client(project=PROJECT_NAME)"
      ],
      "metadata": {
        "id": "-aNc-OmPEAZq"
      },
      "execution_count": 80,
      "outputs": []
    },
    {
      "cell_type": "code",
      "source": [
        "import requests\n",
        "\n",
        "# read a query from the github repository\n",
        "url = f\"https://raw.githubusercontent.com/adamzbikowski/Process-Mining-Dissertation/{BRANCH}/sql_queries/{QUERY_NAME}\"\n",
        "query_bytes = requests.get(url).content\n",
        "\n",
        "# we must now decode this to turn the query into a string \n",
        "query = query_bytes.decode(\"utf-8\")"
      ],
      "metadata": {
        "id": "cLK5sJ_qwY5W"
      },
      "execution_count": 81,
      "outputs": []
    },
    {
      "cell_type": "markdown",
      "source": [
        "###1.2"
      ],
      "metadata": {
        "id": "77eoZypCBrLK"
      }
    },
    {
      "cell_type": "code",
      "execution_count": 82,
      "metadata": {
        "colab": {
          "base_uri": "https://localhost:8080/",
          "height": 0
        },
        "id": "CmSHODCZCjHW",
        "outputId": "3fe02539-ac14-44ef-8d72-6a046bb4d29e"
      },
      "outputs": [
        {
          "output_type": "execute_result",
          "data": {
            "text/plain": [
              "        patient    activity           timestamp\n",
              "0        108811    Left ICU 2170-08-16 14:02:15\n",
              "1        108811    Left ICU 2170-08-19 11:28:19\n",
              "2        153771    Left ICU 2166-07-25 15:19:16\n",
              "3        155415    Left ICU 2163-07-27 21:53:00\n",
              "4        188869    Left ICU 2170-06-22 18:49:28\n",
              "...         ...         ...                 ...\n",
              "175609   109352  Discharged 2167-04-16 17:10:00\n",
              "175610   166032  Discharged 2198-09-20 21:16:00\n",
              "175611   120514  Discharged 2163-09-09 17:30:00\n",
              "175612   175280  Discharged 2204-01-25 14:20:00\n",
              "175613   178280  Discharged 2193-06-01 14:29:00\n",
              "\n",
              "[175614 rows x 3 columns]"
            ],
            "text/html": [
              "\n",
              "  <div id=\"df-5230922d-dc82-4582-bee9-625802f88cb9\">\n",
              "    <div class=\"colab-df-container\">\n",
              "      <div>\n",
              "<style scoped>\n",
              "    .dataframe tbody tr th:only-of-type {\n",
              "        vertical-align: middle;\n",
              "    }\n",
              "\n",
              "    .dataframe tbody tr th {\n",
              "        vertical-align: top;\n",
              "    }\n",
              "\n",
              "    .dataframe thead th {\n",
              "        text-align: right;\n",
              "    }\n",
              "</style>\n",
              "<table border=\"1\" class=\"dataframe\">\n",
              "  <thead>\n",
              "    <tr style=\"text-align: right;\">\n",
              "      <th></th>\n",
              "      <th>patient</th>\n",
              "      <th>activity</th>\n",
              "      <th>timestamp</th>\n",
              "    </tr>\n",
              "  </thead>\n",
              "  <tbody>\n",
              "    <tr>\n",
              "      <th>0</th>\n",
              "      <td>108811</td>\n",
              "      <td>Left ICU</td>\n",
              "      <td>2170-08-16 14:02:15</td>\n",
              "    </tr>\n",
              "    <tr>\n",
              "      <th>1</th>\n",
              "      <td>108811</td>\n",
              "      <td>Left ICU</td>\n",
              "      <td>2170-08-19 11:28:19</td>\n",
              "    </tr>\n",
              "    <tr>\n",
              "      <th>2</th>\n",
              "      <td>153771</td>\n",
              "      <td>Left ICU</td>\n",
              "      <td>2166-07-25 15:19:16</td>\n",
              "    </tr>\n",
              "    <tr>\n",
              "      <th>3</th>\n",
              "      <td>155415</td>\n",
              "      <td>Left ICU</td>\n",
              "      <td>2163-07-27 21:53:00</td>\n",
              "    </tr>\n",
              "    <tr>\n",
              "      <th>4</th>\n",
              "      <td>188869</td>\n",
              "      <td>Left ICU</td>\n",
              "      <td>2170-06-22 18:49:28</td>\n",
              "    </tr>\n",
              "    <tr>\n",
              "      <th>...</th>\n",
              "      <td>...</td>\n",
              "      <td>...</td>\n",
              "      <td>...</td>\n",
              "    </tr>\n",
              "    <tr>\n",
              "      <th>175609</th>\n",
              "      <td>109352</td>\n",
              "      <td>Discharged</td>\n",
              "      <td>2167-04-16 17:10:00</td>\n",
              "    </tr>\n",
              "    <tr>\n",
              "      <th>175610</th>\n",
              "      <td>166032</td>\n",
              "      <td>Discharged</td>\n",
              "      <td>2198-09-20 21:16:00</td>\n",
              "    </tr>\n",
              "    <tr>\n",
              "      <th>175611</th>\n",
              "      <td>120514</td>\n",
              "      <td>Discharged</td>\n",
              "      <td>2163-09-09 17:30:00</td>\n",
              "    </tr>\n",
              "    <tr>\n",
              "      <th>175612</th>\n",
              "      <td>175280</td>\n",
              "      <td>Discharged</td>\n",
              "      <td>2204-01-25 14:20:00</td>\n",
              "    </tr>\n",
              "    <tr>\n",
              "      <th>175613</th>\n",
              "      <td>178280</td>\n",
              "      <td>Discharged</td>\n",
              "      <td>2193-06-01 14:29:00</td>\n",
              "    </tr>\n",
              "  </tbody>\n",
              "</table>\n",
              "<p>175614 rows × 3 columns</p>\n",
              "</div>\n",
              "      <button class=\"colab-df-convert\" onclick=\"convertToInteractive('df-5230922d-dc82-4582-bee9-625802f88cb9')\"\n",
              "              title=\"Convert this dataframe to an interactive table.\"\n",
              "              style=\"display:none;\">\n",
              "        \n",
              "  <svg xmlns=\"http://www.w3.org/2000/svg\" height=\"24px\"viewBox=\"0 0 24 24\"\n",
              "       width=\"24px\">\n",
              "    <path d=\"M0 0h24v24H0V0z\" fill=\"none\"/>\n",
              "    <path d=\"M18.56 5.44l.94 2.06.94-2.06 2.06-.94-2.06-.94-.94-2.06-.94 2.06-2.06.94zm-11 1L8.5 8.5l.94-2.06 2.06-.94-2.06-.94L8.5 2.5l-.94 2.06-2.06.94zm10 10l.94 2.06.94-2.06 2.06-.94-2.06-.94-.94-2.06-.94 2.06-2.06.94z\"/><path d=\"M17.41 7.96l-1.37-1.37c-.4-.4-.92-.59-1.43-.59-.52 0-1.04.2-1.43.59L10.3 9.45l-7.72 7.72c-.78.78-.78 2.05 0 2.83L4 21.41c.39.39.9.59 1.41.59.51 0 1.02-.2 1.41-.59l7.78-7.78 2.81-2.81c.8-.78.8-2.07 0-2.86zM5.41 20L4 18.59l7.72-7.72 1.47 1.35L5.41 20z\"/>\n",
              "  </svg>\n",
              "      </button>\n",
              "      \n",
              "  <style>\n",
              "    .colab-df-container {\n",
              "      display:flex;\n",
              "      flex-wrap:wrap;\n",
              "      gap: 12px;\n",
              "    }\n",
              "\n",
              "    .colab-df-convert {\n",
              "      background-color: #E8F0FE;\n",
              "      border: none;\n",
              "      border-radius: 50%;\n",
              "      cursor: pointer;\n",
              "      display: none;\n",
              "      fill: #1967D2;\n",
              "      height: 32px;\n",
              "      padding: 0 0 0 0;\n",
              "      width: 32px;\n",
              "    }\n",
              "\n",
              "    .colab-df-convert:hover {\n",
              "      background-color: #E2EBFA;\n",
              "      box-shadow: 0px 1px 2px rgba(60, 64, 67, 0.3), 0px 1px 3px 1px rgba(60, 64, 67, 0.15);\n",
              "      fill: #174EA6;\n",
              "    }\n",
              "\n",
              "    [theme=dark] .colab-df-convert {\n",
              "      background-color: #3B4455;\n",
              "      fill: #D2E3FC;\n",
              "    }\n",
              "\n",
              "    [theme=dark] .colab-df-convert:hover {\n",
              "      background-color: #434B5C;\n",
              "      box-shadow: 0px 1px 3px 1px rgba(0, 0, 0, 0.15);\n",
              "      filter: drop-shadow(0px 1px 2px rgba(0, 0, 0, 0.3));\n",
              "      fill: #FFFFFF;\n",
              "    }\n",
              "  </style>\n",
              "\n",
              "      <script>\n",
              "        const buttonEl =\n",
              "          document.querySelector('#df-5230922d-dc82-4582-bee9-625802f88cb9 button.colab-df-convert');\n",
              "        buttonEl.style.display =\n",
              "          google.colab.kernel.accessAllowed ? 'block' : 'none';\n",
              "\n",
              "        async function convertToInteractive(key) {\n",
              "          const element = document.querySelector('#df-5230922d-dc82-4582-bee9-625802f88cb9');\n",
              "          const dataTable =\n",
              "            await google.colab.kernel.invokeFunction('convertToInteractive',\n",
              "                                                     [key], {});\n",
              "          if (!dataTable) return;\n",
              "\n",
              "          const docLinkHtml = 'Like what you see? Visit the ' +\n",
              "            '<a target=\"_blank\" href=https://colab.research.google.com/notebooks/data_table.ipynb>data table notebook</a>'\n",
              "            + ' to learn more about interactive tables.';\n",
              "          element.innerHTML = '';\n",
              "          dataTable['output_type'] = 'display_data';\n",
              "          await google.colab.output.renderOutput(dataTable, element);\n",
              "          const docLink = document.createElement('div');\n",
              "          docLink.innerHTML = docLinkHtml;\n",
              "          element.appendChild(docLink);\n",
              "        }\n",
              "      </script>\n",
              "    </div>\n",
              "  </div>\n",
              "  "
            ]
          },
          "metadata": {},
          "execution_count": 82
        }
      ],
      "source": [
        "import pandas as pd\n",
        "\n",
        "# loading event log from mimic-iii using bigQuery\n",
        "event_log = client.query(query).to_dataframe()\n",
        "# convert timestamp from object to datetime64\n",
        "event_log[\"timestamp\"] = pd.to_datetime(event_log[\"timestamp\"])\n",
        "event_log\n"
      ]
    },
    {
      "cell_type": "markdown",
      "metadata": {
        "id": "E5nBYFkHCjHY"
      },
      "source": [
        "## Section 2: Process Discovery"
      ]
    },
    {
      "cell_type": "code",
      "execution_count": 83,
      "metadata": {
        "colab": {
          "base_uri": "https://localhost:8080/"
        },
        "id": "q__4BhKCCjHY",
        "outputId": "4e96c73f-5766-4dc4-e592-b914e4399470"
      },
      "outputs": [
        {
          "output_type": "stream",
          "name": "stderr",
          "text": [
            "<ipython-input-83-aedec179434f>:3: DeprecatedWarning: format_dataframe is deprecated as of 2.3.0 and will be removed in 3.0.0. the format_dataframe function does not need application anymore.\n",
            "  event_log = pm.format_dataframe(event_log, case_id='patient', activity_key='activity', timestamp_key='timestamp')\n",
            "/usr/local/lib/python3.9/dist-packages/pm4py/utils.py:91: SettingWithCopyWarning: \n",
            "A value is trying to be set on a copy of a slice from a DataFrame.\n",
            "Try using .loc[row_indexer,col_indexer] = value instead\n",
            "\n",
            "See the caveats in the documentation: https://pandas.pydata.org/pandas-docs/stable/user_guide/indexing.html#returning-a-view-versus-a-copy\n",
            "  df[constants.CASE_CONCEPT_NAME] = df[constants.CASE_CONCEPT_NAME].astype(\"string\")\n",
            "/usr/local/lib/python3.9/dist-packages/pm4py/utils.py:93: SettingWithCopyWarning: \n",
            "A value is trying to be set on a copy of a slice from a DataFrame.\n",
            "Try using .loc[row_indexer,col_indexer] = value instead\n",
            "\n",
            "See the caveats in the documentation: https://pandas.pydata.org/pandas-docs/stable/user_guide/indexing.html#returning-a-view-versus-a-copy\n",
            "  df[xes_constants.DEFAULT_NAME_KEY] = df[xes_constants.DEFAULT_NAME_KEY].astype(\"string\")\n"
          ]
        },
        {
          "output_type": "stream",
          "name": "stdout",
          "text": [
            "Number of cases: 42652\n",
            "Number of events: 175612\n",
            "Start events: {'Admitted': 41946, 'Entered ICU': 650, 'Discharged': 56}\n",
            "End events: {'Discharged': 35137, 'Left ICU': 7510, 'Admitted': 5}\n"
          ]
        }
      ],
      "source": [
        "import pm4py as pm\n",
        "\n",
        "event_log = pm.format_dataframe(event_log, case_id='patient', activity_key='activity', timestamp_key='timestamp')\n",
        "# lets get some information about the event log\n",
        "n_events = len(event_log)\n",
        "n_cases = len(event_log.patient.unique())\n",
        "start_events = pm.get_start_activities(event_log)\n",
        "end_events = pm.get_end_activities(event_log)\n",
        "print(f\"Number of cases: {n_cases}\\nNumber of events: {n_events}\")\n",
        "print(f\"Start events: {start_events}\\nEnd events: {end_events}\")\n"
      ]
    },
    {
      "cell_type": "code",
      "execution_count": 84,
      "metadata": {
        "id": "aETYaI3-CjHZ"
      },
      "outputs": [],
      "source": [
        "# lets improve the event log by filtering out the cases that do not start or end with a patient being admitted or discharged\n",
        "# this will simplify the model\n",
        "# filtered_log = deepcopy(event_log)\n",
        "event_log = pm.filter_start_activities(event_log, ['Admitted'])\n",
        "event_log = pm.filter_end_activities(event_log,['Discharged'])\n",
        "# event_log = pm.filter_variants_top_k(event_log,50)\n",
        "# event_log = pm.filter_variants_by_coverage_percentage(event_log, 0.1)"
      ]
    },
    {
      "cell_type": "code",
      "source": [
        "n_events = len(event_log)\n",
        "n_cases = len(event_log.patient.unique())\n",
        "start_events = pm.get_start_activities(event_log)\n",
        "end_events = pm.get_end_activities(event_log)\n",
        "print(f\"Number of cases: {n_cases}\\nNumber of events: {n_events}\")\n",
        "print(f\"Start events: {start_events}\\nEnd events: {end_events}\")"
      ],
      "metadata": {
        "id": "5O3FQUeLAHW3",
        "outputId": "6bbdd741-7514-4ffb-9996-ae018f906715",
        "colab": {
          "base_uri": "https://localhost:8080/"
        }
      },
      "execution_count": 85,
      "outputs": [
        {
          "output_type": "stream",
          "name": "stdout",
          "text": [
            "Number of cases: 34516\n",
            "Number of events: 141410\n",
            "Start events: {'Admitted': 34516}\n",
            "End events: {'Discharged': 34516}\n"
          ]
        }
      ]
    },
    {
      "cell_type": "code",
      "execution_count": 86,
      "metadata": {
        "id": "boYeNhZuCjHa"
      },
      "outputs": [],
      "source": [
        "net, initial_marking, final_marking = pm.discover_petri_net_alpha(event_log)"
      ]
    },
    {
      "cell_type": "code",
      "execution_count": 87,
      "metadata": {
        "colab": {
          "base_uri": "https://localhost:8080/",
          "height": 0
        },
        "id": "IIdzSIvdCjHa",
        "outputId": "2cb1d983-8b7e-4f99-a16c-295cea10a5d1"
      },
      "outputs": [
        {
          "output_type": "display_data",
          "data": {
            "image/png": "[encoded data removed]",
            "text/plain": [
              "<IPython.core.display.Image object>"
            ]
          },
          "metadata": {}
        }
      ],
      "source": [
        "import graphviz\n",
        "pm.view_petri_net(petri_net=net)"
      ]
    },
    {
      "cell_type": "code",
      "source": [
        "# inductive miner\n",
        "# much better result than when using alpha miner, petri net \n",
        "net, initial_marking, final_marking = pm.discover_petri_net_inductive(event_log)\n",
        "pm.view_petri_net(petri_net=net)"
      ],
      "metadata": {
        "id": "f6fgpjqRKw67",
        "outputId": "cebd5e69-d0f3-43c1-b267-d5884eaa01b8",
        "colab": {
          "base_uri": "https://localhost:8080/",
          "height": 0
        }
      },
      "execution_count": 88,
      "outputs": [
        {
          "output_type": "display_data",
          "data": {
            "image/png": "[encoded data removed]",
            "text/plain": [
              "<IPython.core.display.Image object>"
            ]
          },
          "metadata": {}
        }
      ]
    },
    {
      "cell_type": "code",
      "source": [
        "# heuristic miner\n",
        "heu_net = pm.discover_heuristics_net(event_log, dependency_threshold=0.99)\n",
        "pm.view_heuristics_net(heu_net)"
      ],
      "metadata": {
        "id": "SXk4_DHFLDpB",
        "outputId": "1b70d367-ef3f-494d-e057-bf386ca36ab5",
        "colab": {
          "base_uri": "https://localhost:8080/",
          "height": 0
        }
      },
      "execution_count": 89,
      "outputs": [
        {
          "output_type": "display_data",
          "data": {
            "image/png": "[encoded data removed]",
            "text/plain": [
              "<IPython.core.display.Image object>"
            ]
          },
          "metadata": {}
        }
      ]
    },
    {
      "cell_type": "code",
      "source": [
        "# petri net from heuristics miner\n",
        "net, im, fm = pm.discover_petri_net_heuristics(event_log, dependency_threshold=0.99)\n",
        "pm.view_petri_net(net, im, fm)"
      ],
      "metadata": {
        "id": "EZOGRFF2LHwh",
        "outputId": "b72c9be6-096e-424f-97b9-d14226603950",
        "colab": {
          "base_uri": "https://localhost:8080/",
          "height": 0
        }
      },
      "execution_count": 90,
      "outputs": [
        {
          "output_type": "display_data",
          "data": {
            "image/png": "[encoded data removed]",
            "text/plain": [
              "<IPython.core.display.Image object>"
            ]
          },
          "metadata": {}
        }
      ]
    },
    {
      "cell_type": "markdown",
      "source": [
        "##Section 3: Preprocessing Data"
      ],
      "metadata": {
        "id": "c10XPg4ThBDc"
      }
    },
    {
      "cell_type": "code",
      "source": [
        "from pandas.core.window.ewm import partial\n",
        "import random\n",
        "\n",
        "def partial_log(el, n):\n",
        "\n",
        "  # select the first n cases to test the LSTM methodology\n",
        "  # lets first add a trace column to the event_log\n",
        "  el['trace'] = el.groupby(['patient']).ngroup()\n",
        "  el = el[['trace', 'activity', 'timestamp' ]].reset_index(drop=True)\n",
        "  # if n is None, return full event log\n",
        "  if n is None:\n",
        "    return el\n",
        "\n",
        "  # initialise random seed and array of traces\n",
        "  # random.seed(9)\n",
        "  random_traces = []\n",
        "\n",
        "  for i in range(0,n):\n",
        "    random_traces.append(random.randrange(0,n_cases))\n",
        "\n",
        "  partial_el = el[el['trace'].isin(random_traces)]\n",
        "  return partial_el\n"
      ],
      "metadata": {
        "id": "xZKy1dEdhIal"
      },
      "execution_count": 91,
      "outputs": []
    },
    {
      "cell_type": "code",
      "source": [
        "partial_el = partial_log(event_log, NUM_TRACES)\n",
        "partial_el"
      ],
      "metadata": {
        "id": "cqk_MMkrhaNz",
        "outputId": "6d982e93-d7da-4f0d-8537-92599c27d32e",
        "colab": {
          "base_uri": "https://localhost:8080/",
          "height": 424
        }
      },
      "execution_count": 92,
      "outputs": [
        {
          "output_type": "execute_result",
          "data": {
            "text/plain": [
              "        trace     activity           timestamp\n",
              "112        27     Admitted 2129-03-04 10:55:00\n",
              "113        27  Entered ICU 2129-03-04 10:55:42\n",
              "114        27     Left ICU 2129-03-05 13:25:26\n",
              "115        27   Discharged 2129-03-06 12:30:00\n",
              "236        58     Admitted 2115-01-20 17:01:00\n",
              "...       ...          ...                 ...\n",
              "141191  34464   Discharged 2197-03-16 18:40:00\n",
              "141342  34499     Admitted 2181-04-07 10:52:00\n",
              "141343  34499  Entered ICU 2181-04-07 10:53:54\n",
              "141344  34499     Left ICU 2181-04-08 21:17:17\n",
              "141345  34499   Discharged 2181-04-10 20:36:00\n",
              "\n",
              "[4016 rows x 3 columns]"
            ],
            "text/html": [
              "\n",
              "  <div id=\"df-ff810207-6a46-4fdf-9a9f-0263e0b7a2a5\">\n",
              "    <div class=\"colab-df-container\">\n",
              "      <div>\n",
              "<style scoped>\n",
              "    .dataframe tbody tr th:only-of-type {\n",
              "        vertical-align: middle;\n",
              "    }\n",
              "\n",
              "    .dataframe tbody tr th {\n",
              "        vertical-align: top;\n",
              "    }\n",
              "\n",
              "    .dataframe thead th {\n",
              "        text-align: right;\n",
              "    }\n",
              "</style>\n",
              "<table border=\"1\" class=\"dataframe\">\n",
              "  <thead>\n",
              "    <tr style=\"text-align: right;\">\n",
              "      <th></th>\n",
              "      <th>trace</th>\n",
              "      <th>activity</th>\n",
              "      <th>timestamp</th>\n",
              "    </tr>\n",
              "  </thead>\n",
              "  <tbody>\n",
              "    <tr>\n",
              "      <th>112</th>\n",
              "      <td>27</td>\n",
              "      <td>Admitted</td>\n",
              "      <td>2129-03-04 10:55:00</td>\n",
              "    </tr>\n",
              "    <tr>\n",
              "      <th>113</th>\n",
              "      <td>27</td>\n",
              "      <td>Entered ICU</td>\n",
              "      <td>2129-03-04 10:55:42</td>\n",
              "    </tr>\n",
              "    <tr>\n",
              "      <th>114</th>\n",
              "      <td>27</td>\n",
              "      <td>Left ICU</td>\n",
              "      <td>2129-03-05 13:25:26</td>\n",
              "    </tr>\n",
              "    <tr>\n",
              "      <th>115</th>\n",
              "      <td>27</td>\n",
              "      <td>Discharged</td>\n",
              "      <td>2129-03-06 12:30:00</td>\n",
              "    </tr>\n",
              "    <tr>\n",
              "      <th>236</th>\n",
              "      <td>58</td>\n",
              "      <td>Admitted</td>\n",
              "      <td>2115-01-20 17:01:00</td>\n",
              "    </tr>\n",
              "    <tr>\n",
              "      <th>...</th>\n",
              "      <td>...</td>\n",
              "      <td>...</td>\n",
              "      <td>...</td>\n",
              "    </tr>\n",
              "    <tr>\n",
              "      <th>141191</th>\n",
              "      <td>34464</td>\n",
              "      <td>Discharged</td>\n",
              "      <td>2197-03-16 18:40:00</td>\n",
              "    </tr>\n",
              "    <tr>\n",
              "      <th>141342</th>\n",
              "      <td>34499</td>\n",
              "      <td>Admitted</td>\n",
              "      <td>2181-04-07 10:52:00</td>\n",
              "    </tr>\n",
              "    <tr>\n",
              "      <th>141343</th>\n",
              "      <td>34499</td>\n",
              "      <td>Entered ICU</td>\n",
              "      <td>2181-04-07 10:53:54</td>\n",
              "    </tr>\n",
              "    <tr>\n",
              "      <th>141344</th>\n",
              "      <td>34499</td>\n",
              "      <td>Left ICU</td>\n",
              "      <td>2181-04-08 21:17:17</td>\n",
              "    </tr>\n",
              "    <tr>\n",
              "      <th>141345</th>\n",
              "      <td>34499</td>\n",
              "      <td>Discharged</td>\n",
              "      <td>2181-04-10 20:36:00</td>\n",
              "    </tr>\n",
              "  </tbody>\n",
              "</table>\n",
              "<p>4016 rows × 3 columns</p>\n",
              "</div>\n",
              "      <button class=\"colab-df-convert\" onclick=\"convertToInteractive('df-ff810207-6a46-4fdf-9a9f-0263e0b7a2a5')\"\n",
              "              title=\"Convert this dataframe to an interactive table.\"\n",
              "              style=\"display:none;\">\n",
              "        \n",
              "  <svg xmlns=\"http://www.w3.org/2000/svg\" height=\"24px\"viewBox=\"0 0 24 24\"\n",
              "       width=\"24px\">\n",
              "    <path d=\"M0 0h24v24H0V0z\" fill=\"none\"/>\n",
              "    <path d=\"M18.56 5.44l.94 2.06.94-2.06 2.06-.94-2.06-.94-.94-2.06-.94 2.06-2.06.94zm-11 1L8.5 8.5l.94-2.06 2.06-.94-2.06-.94L8.5 2.5l-.94 2.06-2.06.94zm10 10l.94 2.06.94-2.06 2.06-.94-2.06-.94-.94-2.06-.94 2.06-2.06.94z\"/><path d=\"M17.41 7.96l-1.37-1.37c-.4-.4-.92-.59-1.43-.59-.52 0-1.04.2-1.43.59L10.3 9.45l-7.72 7.72c-.78.78-.78 2.05 0 2.83L4 21.41c.39.39.9.59 1.41.59.51 0 1.02-.2 1.41-.59l7.78-7.78 2.81-2.81c.8-.78.8-2.07 0-2.86zM5.41 20L4 18.59l7.72-7.72 1.47 1.35L5.41 20z\"/>\n",
              "  </svg>\n",
              "      </button>\n",
              "      \n",
              "  <style>\n",
              "    .colab-df-container {\n",
              "      display:flex;\n",
              "      flex-wrap:wrap;\n",
              "      gap: 12px;\n",
              "    }\n",
              "\n",
              "    .colab-df-convert {\n",
              "      background-color: #E8F0FE;\n",
              "      border: none;\n",
              "      border-radius: 50%;\n",
              "      cursor: pointer;\n",
              "      display: none;\n",
              "      fill: #1967D2;\n",
              "      height: 32px;\n",
              "      padding: 0 0 0 0;\n",
              "      width: 32px;\n",
              "    }\n",
              "\n",
              "    .colab-df-convert:hover {\n",
              "      background-color: #E2EBFA;\n",
              "      box-shadow: 0px 1px 2px rgba(60, 64, 67, 0.3), 0px 1px 3px 1px rgba(60, 64, 67, 0.15);\n",
              "      fill: #174EA6;\n",
              "    }\n",
              "\n",
              "    [theme=dark] .colab-df-convert {\n",
              "      background-color: #3B4455;\n",
              "      fill: #D2E3FC;\n",
              "    }\n",
              "\n",
              "    [theme=dark] .colab-df-convert:hover {\n",
              "      background-color: #434B5C;\n",
              "      box-shadow: 0px 1px 3px 1px rgba(0, 0, 0, 0.15);\n",
              "      filter: drop-shadow(0px 1px 2px rgba(0, 0, 0, 0.3));\n",
              "      fill: #FFFFFF;\n",
              "    }\n",
              "  </style>\n",
              "\n",
              "      <script>\n",
              "        const buttonEl =\n",
              "          document.querySelector('#df-ff810207-6a46-4fdf-9a9f-0263e0b7a2a5 button.colab-df-convert');\n",
              "        buttonEl.style.display =\n",
              "          google.colab.kernel.accessAllowed ? 'block' : 'none';\n",
              "\n",
              "        async function convertToInteractive(key) {\n",
              "          const element = document.querySelector('#df-ff810207-6a46-4fdf-9a9f-0263e0b7a2a5');\n",
              "          const dataTable =\n",
              "            await google.colab.kernel.invokeFunction('convertToInteractive',\n",
              "                                                     [key], {});\n",
              "          if (!dataTable) return;\n",
              "\n",
              "          const docLinkHtml = 'Like what you see? Visit the ' +\n",
              "            '<a target=\"_blank\" href=https://colab.research.google.com/notebooks/data_table.ipynb>data table notebook</a>'\n",
              "            + ' to learn more about interactive tables.';\n",
              "          element.innerHTML = '';\n",
              "          dataTable['output_type'] = 'display_data';\n",
              "          await google.colab.output.renderOutput(dataTable, element);\n",
              "          const docLink = document.createElement('div');\n",
              "          docLink.innerHTML = docLinkHtml;\n",
              "          element.appendChild(docLink);\n",
              "        }\n",
              "      </script>\n",
              "    </div>\n",
              "  </div>\n",
              "  "
            ]
          },
          "metadata": {},
          "execution_count": 92
        }
      ]
    },
    {
      "cell_type": "code",
      "source": [
        "# lets represent each activity using a statically defined number\n",
        "# this will prevent the need for using an embedding layer when traing the LSTM\n",
        "unique_activities = partial_el['activity'].unique()\n",
        "n_activities = len(unique_activities) + 1\n",
        "encode_activity = {unique_activities[i-1] : f'{i}' for i in range(1,n_activities)}\n",
        "\n",
        "# lets also create a second dictionary that will be used to decode predicted activities\n",
        "decode_activity = {f'{i}' : unique_activities[i-1] for i in range(1, len(unique_activities)+ 1)}\n",
        "encode_activity, decode_activity"
      ],
      "metadata": {
        "colab": {
          "base_uri": "https://localhost:8080/"
        },
        "id": "S16otFNLY06l",
        "outputId": "e60473ab-7822-4392-a7e8-ecc5f9560045"
      },
      "execution_count": 93,
      "outputs": [
        {
          "output_type": "execute_result",
          "data": {
            "text/plain": [
              "({'Admitted': '1', 'Entered ICU': '2', 'Left ICU': '3', 'Discharged': '4'},\n",
              " {'1': 'Admitted', '2': 'Entered ICU', '3': 'Left ICU', '4': 'Discharged'})"
            ]
          },
          "metadata": {},
          "execution_count": 93
        }
      ]
    },
    {
      "cell_type": "code",
      "source": [
        "from sklearn.model_selection import train_test_split\n",
        "# select train and test traces\n",
        "unique_traces = partial_el['trace'].unique()\n",
        "train_traces, test_traces = train_test_split(unique_traces, test_size=TEST_SIZE, random_state=9)\n",
        "\n",
        "train_el = partial_el.loc[partial_el['trace'].isin(train_traces)]\n",
        "test_el = partial_el.loc[partial_el['trace'].isin(test_traces)]\n",
        "test_el"
      ],
      "metadata": {
        "id": "ZB_RL3cqhqRz",
        "outputId": "c683b50a-432e-4977-f283-7311d7261462",
        "colab": {
          "base_uri": "https://localhost:8080/",
          "height": 424
        }
      },
      "execution_count": 94,
      "outputs": [
        {
          "output_type": "execute_result",
          "data": {
            "text/plain": [
              "        trace     activity           timestamp\n",
              "780       189     Admitted 2196-12-02 12:00:00\n",
              "781       189  Entered ICU 2196-12-03 20:12:41\n",
              "782       189     Left ICU 2196-12-06 18:13:52\n",
              "783       189   Discharged 2196-12-11 16:00:00\n",
              "2218      539     Admitted 2165-09-13 07:15:00\n",
              "...       ...          ...                 ...\n",
              "140151  34210   Discharged 2164-01-10 16:44:00\n",
              "141342  34499     Admitted 2181-04-07 10:52:00\n",
              "141343  34499  Entered ICU 2181-04-07 10:53:54\n",
              "141344  34499     Left ICU 2181-04-08 21:17:17\n",
              "141345  34499   Discharged 2181-04-10 20:36:00\n",
              "\n",
              "[784 rows x 3 columns]"
            ],
            "text/html": [
              "\n",
              "  <div id=\"df-8190e744-fbc4-4af1-a84e-d8f32aa69ec2\">\n",
              "    <div class=\"colab-df-container\">\n",
              "      <div>\n",
              "<style scoped>\n",
              "    .dataframe tbody tr th:only-of-type {\n",
              "        vertical-align: middle;\n",
              "    }\n",
              "\n",
              "    .dataframe tbody tr th {\n",
              "        vertical-align: top;\n",
              "    }\n",
              "\n",
              "    .dataframe thead th {\n",
              "        text-align: right;\n",
              "    }\n",
              "</style>\n",
              "<table border=\"1\" class=\"dataframe\">\n",
              "  <thead>\n",
              "    <tr style=\"text-align: right;\">\n",
              "      <th></th>\n",
              "      <th>trace</th>\n",
              "      <th>activity</th>\n",
              "      <th>timestamp</th>\n",
              "    </tr>\n",
              "  </thead>\n",
              "  <tbody>\n",
              "    <tr>\n",
              "      <th>780</th>\n",
              "      <td>189</td>\n",
              "      <td>Admitted</td>\n",
              "      <td>2196-12-02 12:00:00</td>\n",
              "    </tr>\n",
              "    <tr>\n",
              "      <th>781</th>\n",
              "      <td>189</td>\n",
              "      <td>Entered ICU</td>\n",
              "      <td>2196-12-03 20:12:41</td>\n",
              "    </tr>\n",
              "    <tr>\n",
              "      <th>782</th>\n",
              "      <td>189</td>\n",
              "      <td>Left ICU</td>\n",
              "      <td>2196-12-06 18:13:52</td>\n",
              "    </tr>\n",
              "    <tr>\n",
              "      <th>783</th>\n",
              "      <td>189</td>\n",
              "      <td>Discharged</td>\n",
              "      <td>2196-12-11 16:00:00</td>\n",
              "    </tr>\n",
              "    <tr>\n",
              "      <th>2218</th>\n",
              "      <td>539</td>\n",
              "      <td>Admitted</td>\n",
              "      <td>2165-09-13 07:15:00</td>\n",
              "    </tr>\n",
              "    <tr>\n",
              "      <th>...</th>\n",
              "      <td>...</td>\n",
              "      <td>...</td>\n",
              "      <td>...</td>\n",
              "    </tr>\n",
              "    <tr>\n",
              "      <th>140151</th>\n",
              "      <td>34210</td>\n",
              "      <td>Discharged</td>\n",
              "      <td>2164-01-10 16:44:00</td>\n",
              "    </tr>\n",
              "    <tr>\n",
              "      <th>141342</th>\n",
              "      <td>34499</td>\n",
              "      <td>Admitted</td>\n",
              "      <td>2181-04-07 10:52:00</td>\n",
              "    </tr>\n",
              "    <tr>\n",
              "      <th>141343</th>\n",
              "      <td>34499</td>\n",
              "      <td>Entered ICU</td>\n",
              "      <td>2181-04-07 10:53:54</td>\n",
              "    </tr>\n",
              "    <tr>\n",
              "      <th>141344</th>\n",
              "      <td>34499</td>\n",
              "      <td>Left ICU</td>\n",
              "      <td>2181-04-08 21:17:17</td>\n",
              "    </tr>\n",
              "    <tr>\n",
              "      <th>141345</th>\n",
              "      <td>34499</td>\n",
              "      <td>Discharged</td>\n",
              "      <td>2181-04-10 20:36:00</td>\n",
              "    </tr>\n",
              "  </tbody>\n",
              "</table>\n",
              "<p>784 rows × 3 columns</p>\n",
              "</div>\n",
              "      <button class=\"colab-df-convert\" onclick=\"convertToInteractive('df-8190e744-fbc4-4af1-a84e-d8f32aa69ec2')\"\n",
              "              title=\"Convert this dataframe to an interactive table.\"\n",
              "              style=\"display:none;\">\n",
              "        \n",
              "  <svg xmlns=\"http://www.w3.org/2000/svg\" height=\"24px\"viewBox=\"0 0 24 24\"\n",
              "       width=\"24px\">\n",
              "    <path d=\"M0 0h24v24H0V0z\" fill=\"none\"/>\n",
              "    <path d=\"M18.56 5.44l.94 2.06.94-2.06 2.06-.94-2.06-.94-.94-2.06-.94 2.06-2.06.94zm-11 1L8.5 8.5l.94-2.06 2.06-.94-2.06-.94L8.5 2.5l-.94 2.06-2.06.94zm10 10l.94 2.06.94-2.06 2.06-.94-2.06-.94-.94-2.06-.94 2.06-2.06.94z\"/><path d=\"M17.41 7.96l-1.37-1.37c-.4-.4-.92-.59-1.43-.59-.52 0-1.04.2-1.43.59L10.3 9.45l-7.72 7.72c-.78.78-.78 2.05 0 2.83L4 21.41c.39.39.9.59 1.41.59.51 0 1.02-.2 1.41-.59l7.78-7.78 2.81-2.81c.8-.78.8-2.07 0-2.86zM5.41 20L4 18.59l7.72-7.72 1.47 1.35L5.41 20z\"/>\n",
              "  </svg>\n",
              "      </button>\n",
              "      \n",
              "  <style>\n",
              "    .colab-df-container {\n",
              "      display:flex;\n",
              "      flex-wrap:wrap;\n",
              "      gap: 12px;\n",
              "    }\n",
              "\n",
              "    .colab-df-convert {\n",
              "      background-color: #E8F0FE;\n",
              "      border: none;\n",
              "      border-radius: 50%;\n",
              "      cursor: pointer;\n",
              "      display: none;\n",
              "      fill: #1967D2;\n",
              "      height: 32px;\n",
              "      padding: 0 0 0 0;\n",
              "      width: 32px;\n",
              "    }\n",
              "\n",
              "    .colab-df-convert:hover {\n",
              "      background-color: #E2EBFA;\n",
              "      box-shadow: 0px 1px 2px rgba(60, 64, 67, 0.3), 0px 1px 3px 1px rgba(60, 64, 67, 0.15);\n",
              "      fill: #174EA6;\n",
              "    }\n",
              "\n",
              "    [theme=dark] .colab-df-convert {\n",
              "      background-color: #3B4455;\n",
              "      fill: #D2E3FC;\n",
              "    }\n",
              "\n",
              "    [theme=dark] .colab-df-convert:hover {\n",
              "      background-color: #434B5C;\n",
              "      box-shadow: 0px 1px 3px 1px rgba(0, 0, 0, 0.15);\n",
              "      filter: drop-shadow(0px 1px 2px rgba(0, 0, 0, 0.3));\n",
              "      fill: #FFFFFF;\n",
              "    }\n",
              "  </style>\n",
              "\n",
              "      <script>\n",
              "        const buttonEl =\n",
              "          document.querySelector('#df-8190e744-fbc4-4af1-a84e-d8f32aa69ec2 button.colab-df-convert');\n",
              "        buttonEl.style.display =\n",
              "          google.colab.kernel.accessAllowed ? 'block' : 'none';\n",
              "\n",
              "        async function convertToInteractive(key) {\n",
              "          const element = document.querySelector('#df-8190e744-fbc4-4af1-a84e-d8f32aa69ec2');\n",
              "          const dataTable =\n",
              "            await google.colab.kernel.invokeFunction('convertToInteractive',\n",
              "                                                     [key], {});\n",
              "          if (!dataTable) return;\n",
              "\n",
              "          const docLinkHtml = 'Like what you see? Visit the ' +\n",
              "            '<a target=\"_blank\" href=https://colab.research.google.com/notebooks/data_table.ipynb>data table notebook</a>'\n",
              "            + ' to learn more about interactive tables.';\n",
              "          element.innerHTML = '';\n",
              "          dataTable['output_type'] = 'display_data';\n",
              "          await google.colab.output.renderOutput(dataTable, element);\n",
              "          const docLink = document.createElement('div');\n",
              "          docLink.innerHTML = docLinkHtml;\n",
              "          element.appendChild(docLink);\n",
              "        }\n",
              "      </script>\n",
              "    </div>\n",
              "  </div>\n",
              "  "
            ]
          },
          "metadata": {},
          "execution_count": 94
        }
      ]
    },
    {
      "cell_type": "code",
      "source": [
        "# find the first timestamp in dataset\n",
        "# start_time = partial_el['timestamp'].min()"
      ],
      "metadata": {
        "id": "lfJB8-x8ePWY"
      },
      "execution_count": 95,
      "outputs": []
    },
    {
      "cell_type": "code",
      "source": [
        "import numpy as np\n",
        "\n",
        "# transform train data into prefix, suffix and label\n",
        "def label_train(el):\n",
        "  prefix_arr, suffix_arr, prefix_times_arr, suffix_times_arr, label_arr, label_times_arr = [], [], [], [], [], []\n",
        "  start_times, end_times = [], []\n",
        "  labeled_arr = []\n",
        "  unique_traces = el['trace'].unique()\n",
        "  \n",
        "  for t in unique_traces:\n",
        "    df = el[:][el.trace == t].sort_values(by='timestamp')\n",
        "    activities, timestamps = [], []\n",
        "\n",
        "    for i in df.index:\n",
        "      activity = encode_activity.get(df['activity'][i])\n",
        "      activities.append(activity)\n",
        "      timestamp = df['timestamp'][i]\n",
        "      # timestamp = (df['timestamp'][i] - start_time).total_seconds() / 10_000_000_000\n",
        "      timestamps.append(timestamp)\n",
        "    \n",
        "    start_time = timestamps[0]\n",
        "    end_time = timestamps[-1]\n",
        "    length = len(activities)\n",
        "    \n",
        "    for i in range(length):\n",
        "      timestamps[i] = (timestamps[i] - start_time).total_seconds()  / 3600 / 1000\n",
        "    \n",
        "\n",
        "    for i in range(length):\n",
        "      label = activities[i]\n",
        "      time_label = timestamps[i]\n",
        "      prefix = activities[:i]\n",
        "      prefix_times = timestamps[:i]\n",
        "\n",
        "      suffix = []\n",
        "      suffix_times = []\n",
        "\n",
        "      if i != length - 1:\n",
        "        suffix = activities[i+1:]\n",
        "        suffix_times = timestamps[i+1:]\n",
        "\n",
        "      padding = []\n",
        "\n",
        "      while len(prefix) + len(padding) < PREFIX_LENGTH:\n",
        "        padding.append('0')\n",
        "      \n",
        "      prefix = padding + prefix\n",
        "        \n",
        "      padding = []\n",
        "      \n",
        "      while len(prefix_times) + len(padding) < PREFIX_LENGTH:\n",
        "        padding.append(0.0)\n",
        "      \n",
        "      prefix_times =  padding + prefix_times\n",
        "\n",
        "      while len(suffix) < PREFIX_LENGTH:\n",
        "        suffix.append('0')\n",
        "\n",
        "      while len(suffix_times) < PREFIX_LENGTH:\n",
        "        suffix_times.append(0.0)\n",
        "      \n",
        "      prefix_arr.append(np.array(prefix[0:PREFIX_LENGTH], dtype=int))\n",
        "      suffix_arr.append(np.array(suffix[0:PREFIX_LENGTH], dtype=int))\n",
        "      prefix_times_arr.append(np.array(prefix_times[0:PREFIX_LENGTH]))\n",
        "      suffix_times_arr.append(np.array(suffix_times[0:PREFIX_LENGTH]))\n",
        "      label_arr.append(label)\n",
        "      label_times_arr.append(time_label)\n",
        "      start_times.append(start_time)\n",
        "      end_times.append(end_time)\n",
        "\n",
        "  return pd.DataFrame({'prefix' : prefix_arr, \n",
        "                       'suffix' : suffix_arr,\n",
        "                       'prefix times' : prefix_times_arr,\n",
        "                       'suffix times' : suffix_times_arr,\n",
        "                       'activity label' : label_arr,\n",
        "                       'time label': label_times_arr,\n",
        "                       'start times': start_times,\n",
        "                       'end times': end_times\n",
        "                       })\n",
        "  \n",
        "\n",
        "labeled_train_el = label_train(train_el)\n",
        "labeled_train_el"
      ],
      "metadata": {
        "colab": {
          "base_uri": "https://localhost:8080/",
          "height": 424
        },
        "id": "iLduBudKXWNT",
        "outputId": "a5b250ea-abfc-44c3-d5ce-7b10eb5f330c"
      },
      "execution_count": 96,
      "outputs": [
        {
          "output_type": "execute_result",
          "data": {
            "text/plain": [
              "         prefix     suffix                                       prefix times  \\\n",
              "0     [0, 0, 0]  [2, 3, 4]                                    [0.0, 0.0, 0.0]   \n",
              "1     [0, 0, 1]  [3, 4, 0]                                    [0.0, 0.0, 0.0]   \n",
              "2     [0, 1, 2]  [4, 0, 0]                 [0.0, 0.0, 1.1666666666666668e-05]   \n",
              "3     [1, 2, 3]  [0, 0, 0]  [0.0, 1.1666666666666668e-05, 0.02650722222222...   \n",
              "4     [0, 0, 0]  [2, 3, 4]                                    [0.0, 0.0, 0.0]   \n",
              "...         ...        ...                                                ...   \n",
              "3227  [1, 2, 3]  [0, 0, 0]    [0.0, 0.04369194444444444, 0.17531083333333333]   \n",
              "3228  [0, 0, 0]  [2, 3, 4]                                    [0.0, 0.0, 0.0]   \n",
              "3229  [0, 0, 1]  [3, 4, 0]                                    [0.0, 0.0, 0.0]   \n",
              "3230  [0, 1, 2]  [4, 0, 0]                 [0.0, 0.0, 1.6944444444444446e-05]   \n",
              "3231  [1, 2, 3]  [0, 0, 0]  [0.0, 1.6944444444444446e-05, 0.13672416666666...   \n",
              "\n",
              "                                           suffix times activity label  \\\n",
              "0     [1.1666666666666668e-05, 0.02650722222222222, ...              1   \n",
              "1       [0.02650722222222222, 0.04958333333333333, 0.0]              2   \n",
              "2                       [0.04958333333333333, 0.0, 0.0]              3   \n",
              "3                                       [0.0, 0.0, 0.0]              4   \n",
              "4     [3.555555555555555e-05, 0.04894055555555556, 0...              1   \n",
              "...                                                 ...            ...   \n",
              "3227                                    [0.0, 0.0, 0.0]              4   \n",
              "3228  [1.6944444444444446e-05, 0.13672416666666667, ...              1   \n",
              "3229    [0.13672416666666667, 0.16219999999999998, 0.0]              2   \n",
              "3230                    [0.16219999999999998, 0.0, 0.0]              3   \n",
              "3231                                    [0.0, 0.0, 0.0]              4   \n",
              "\n",
              "      time label         start times           end times  \n",
              "0       0.000000 2129-03-04 10:55:00 2129-03-06 12:30:00  \n",
              "1       0.000012 2129-03-04 10:55:00 2129-03-06 12:30:00  \n",
              "2       0.026507 2129-03-04 10:55:00 2129-03-06 12:30:00  \n",
              "3       0.049583 2129-03-04 10:55:00 2129-03-06 12:30:00  \n",
              "4       0.000000 2115-01-20 17:01:00 2115-01-31 16:30:00  \n",
              "...          ...                 ...                 ...  \n",
              "3227    0.812567 2183-07-27 09:56:00 2183-08-30 06:30:00  \n",
              "3228    0.000000 2197-03-10 00:28:00 2197-03-16 18:40:00  \n",
              "3229    0.000017 2197-03-10 00:28:00 2197-03-16 18:40:00  \n",
              "3230    0.136724 2197-03-10 00:28:00 2197-03-16 18:40:00  \n",
              "3231    0.162200 2197-03-10 00:28:00 2197-03-16 18:40:00  \n",
              "\n",
              "[3232 rows x 8 columns]"
            ],
            "text/html": [
              "\n",
              "  <div id=\"df-1761e692-eccc-4c34-9aaf-3e98493c9a7b\">\n",
              "    <div class=\"colab-df-container\">\n",
              "      <div>\n",
              "<style scoped>\n",
              "    .dataframe tbody tr th:only-of-type {\n",
              "        vertical-align: middle;\n",
              "    }\n",
              "\n",
              "    .dataframe tbody tr th {\n",
              "        vertical-align: top;\n",
              "    }\n",
              "\n",
              "    .dataframe thead th {\n",
              "        text-align: right;\n",
              "    }\n",
              "</style>\n",
              "<table border=\"1\" class=\"dataframe\">\n",
              "  <thead>\n",
              "    <tr style=\"text-align: right;\">\n",
              "      <th></th>\n",
              "      <th>prefix</th>\n",
              "      <th>suffix</th>\n",
              "      <th>prefix times</th>\n",
              "      <th>suffix times</th>\n",
              "      <th>activity label</th>\n",
              "      <th>time label</th>\n",
              "      <th>start times</th>\n",
              "      <th>end times</th>\n",
              "    </tr>\n",
              "  </thead>\n",
              "  <tbody>\n",
              "    <tr>\n",
              "      <th>0</th>\n",
              "      <td>[0, 0, 0]</td>\n",
              "      <td>[2, 3, 4]</td>\n",
              "      <td>[0.0, 0.0, 0.0]</td>\n",
              "      <td>[1.1666666666666668e-05, 0.02650722222222222, ...</td>\n",
              "      <td>1</td>\n",
              "      <td>0.000000</td>\n",
              "      <td>2129-03-04 10:55:00</td>\n",
              "      <td>2129-03-06 12:30:00</td>\n",
              "    </tr>\n",
              "    <tr>\n",
              "      <th>1</th>\n",
              "      <td>[0, 0, 1]</td>\n",
              "      <td>[3, 4, 0]</td>\n",
              "      <td>[0.0, 0.0, 0.0]</td>\n",
              "      <td>[0.02650722222222222, 0.04958333333333333, 0.0]</td>\n",
              "      <td>2</td>\n",
              "      <td>0.000012</td>\n",
              "      <td>2129-03-04 10:55:00</td>\n",
              "      <td>2129-03-06 12:30:00</td>\n",
              "    </tr>\n",
              "    <tr>\n",
              "      <th>2</th>\n",
              "      <td>[0, 1, 2]</td>\n",
              "      <td>[4, 0, 0]</td>\n",
              "      <td>[0.0, 0.0, 1.1666666666666668e-05]</td>\n",
              "      <td>[0.04958333333333333, 0.0, 0.0]</td>\n",
              "      <td>3</td>\n",
              "      <td>0.026507</td>\n",
              "      <td>2129-03-04 10:55:00</td>\n",
              "      <td>2129-03-06 12:30:00</td>\n",
              "    </tr>\n",
              "    <tr>\n",
              "      <th>3</th>\n",
              "      <td>[1, 2, 3]</td>\n",
              "      <td>[0, 0, 0]</td>\n",
              "      <td>[0.0, 1.1666666666666668e-05, 0.02650722222222...</td>\n",
              "      <td>[0.0, 0.0, 0.0]</td>\n",
              "      <td>4</td>\n",
              "      <td>0.049583</td>\n",
              "      <td>2129-03-04 10:55:00</td>\n",
              "      <td>2129-03-06 12:30:00</td>\n",
              "    </tr>\n",
              "    <tr>\n",
              "      <th>4</th>\n",
              "      <td>[0, 0, 0]</td>\n",
              "      <td>[2, 3, 4]</td>\n",
              "      <td>[0.0, 0.0, 0.0]</td>\n",
              "      <td>[3.555555555555555e-05, 0.04894055555555556, 0...</td>\n",
              "      <td>1</td>\n",
              "      <td>0.000000</td>\n",
              "      <td>2115-01-20 17:01:00</td>\n",
              "      <td>2115-01-31 16:30:00</td>\n",
              "    </tr>\n",
              "    <tr>\n",
              "      <th>...</th>\n",
              "      <td>...</td>\n",
              "      <td>...</td>\n",
              "      <td>...</td>\n",
              "      <td>...</td>\n",
              "      <td>...</td>\n",
              "      <td>...</td>\n",
              "      <td>...</td>\n",
              "      <td>...</td>\n",
              "    </tr>\n",
              "    <tr>\n",
              "      <th>3227</th>\n",
              "      <td>[1, 2, 3]</td>\n",
              "      <td>[0, 0, 0]</td>\n",
              "      <td>[0.0, 0.04369194444444444, 0.17531083333333333]</td>\n",
              "      <td>[0.0, 0.0, 0.0]</td>\n",
              "      <td>4</td>\n",
              "      <td>0.812567</td>\n",
              "      <td>2183-07-27 09:56:00</td>\n",
              "      <td>2183-08-30 06:30:00</td>\n",
              "    </tr>\n",
              "    <tr>\n",
              "      <th>3228</th>\n",
              "      <td>[0, 0, 0]</td>\n",
              "      <td>[2, 3, 4]</td>\n",
              "      <td>[0.0, 0.0, 0.0]</td>\n",
              "      <td>[1.6944444444444446e-05, 0.13672416666666667, ...</td>\n",
              "      <td>1</td>\n",
              "      <td>0.000000</td>\n",
              "      <td>2197-03-10 00:28:00</td>\n",
              "      <td>2197-03-16 18:40:00</td>\n",
              "    </tr>\n",
              "    <tr>\n",
              "      <th>3229</th>\n",
              "      <td>[0, 0, 1]</td>\n",
              "      <td>[3, 4, 0]</td>\n",
              "      <td>[0.0, 0.0, 0.0]</td>\n",
              "      <td>[0.13672416666666667, 0.16219999999999998, 0.0]</td>\n",
              "      <td>2</td>\n",
              "      <td>0.000017</td>\n",
              "      <td>2197-03-10 00:28:00</td>\n",
              "      <td>2197-03-16 18:40:00</td>\n",
              "    </tr>\n",
              "    <tr>\n",
              "      <th>3230</th>\n",
              "      <td>[0, 1, 2]</td>\n",
              "      <td>[4, 0, 0]</td>\n",
              "      <td>[0.0, 0.0, 1.6944444444444446e-05]</td>\n",
              "      <td>[0.16219999999999998, 0.0, 0.0]</td>\n",
              "      <td>3</td>\n",
              "      <td>0.136724</td>\n",
              "      <td>2197-03-10 00:28:00</td>\n",
              "      <td>2197-03-16 18:40:00</td>\n",
              "    </tr>\n",
              "    <tr>\n",
              "      <th>3231</th>\n",
              "      <td>[1, 2, 3]</td>\n",
              "      <td>[0, 0, 0]</td>\n",
              "      <td>[0.0, 1.6944444444444446e-05, 0.13672416666666...</td>\n",
              "      <td>[0.0, 0.0, 0.0]</td>\n",
              "      <td>4</td>\n",
              "      <td>0.162200</td>\n",
              "      <td>2197-03-10 00:28:00</td>\n",
              "      <td>2197-03-16 18:40:00</td>\n",
              "    </tr>\n",
              "  </tbody>\n",
              "</table>\n",
              "<p>3232 rows × 8 columns</p>\n",
              "</div>\n",
              "      <button class=\"colab-df-convert\" onclick=\"convertToInteractive('df-1761e692-eccc-4c34-9aaf-3e98493c9a7b')\"\n",
              "              title=\"Convert this dataframe to an interactive table.\"\n",
              "              style=\"display:none;\">\n",
              "        \n",
              "  <svg xmlns=\"http://www.w3.org/2000/svg\" height=\"24px\"viewBox=\"0 0 24 24\"\n",
              "       width=\"24px\">\n",
              "    <path d=\"M0 0h24v24H0V0z\" fill=\"none\"/>\n",
              "    <path d=\"M18.56 5.44l.94 2.06.94-2.06 2.06-.94-2.06-.94-.94-2.06-.94 2.06-2.06.94zm-11 1L8.5 8.5l.94-2.06 2.06-.94-2.06-.94L8.5 2.5l-.94 2.06-2.06.94zm10 10l.94 2.06.94-2.06 2.06-.94-2.06-.94-.94-2.06-.94 2.06-2.06.94z\"/><path d=\"M17.41 7.96l-1.37-1.37c-.4-.4-.92-.59-1.43-.59-.52 0-1.04.2-1.43.59L10.3 9.45l-7.72 7.72c-.78.78-.78 2.05 0 2.83L4 21.41c.39.39.9.59 1.41.59.51 0 1.02-.2 1.41-.59l7.78-7.78 2.81-2.81c.8-.78.8-2.07 0-2.86zM5.41 20L4 18.59l7.72-7.72 1.47 1.35L5.41 20z\"/>\n",
              "  </svg>\n",
              "      </button>\n",
              "      \n",
              "  <style>\n",
              "    .colab-df-container {\n",
              "      display:flex;\n",
              "      flex-wrap:wrap;\n",
              "      gap: 12px;\n",
              "    }\n",
              "\n",
              "    .colab-df-convert {\n",
              "      background-color: #E8F0FE;\n",
              "      border: none;\n",
              "      border-radius: 50%;\n",
              "      cursor: pointer;\n",
              "      display: none;\n",
              "      fill: #1967D2;\n",
              "      height: 32px;\n",
              "      padding: 0 0 0 0;\n",
              "      width: 32px;\n",
              "    }\n",
              "\n",
              "    .colab-df-convert:hover {\n",
              "      background-color: #E2EBFA;\n",
              "      box-shadow: 0px 1px 2px rgba(60, 64, 67, 0.3), 0px 1px 3px 1px rgba(60, 64, 67, 0.15);\n",
              "      fill: #174EA6;\n",
              "    }\n",
              "\n",
              "    [theme=dark] .colab-df-convert {\n",
              "      background-color: #3B4455;\n",
              "      fill: #D2E3FC;\n",
              "    }\n",
              "\n",
              "    [theme=dark] .colab-df-convert:hover {\n",
              "      background-color: #434B5C;\n",
              "      box-shadow: 0px 1px 3px 1px rgba(0, 0, 0, 0.15);\n",
              "      filter: drop-shadow(0px 1px 2px rgba(0, 0, 0, 0.3));\n",
              "      fill: #FFFFFF;\n",
              "    }\n",
              "  </style>\n",
              "\n",
              "      <script>\n",
              "        const buttonEl =\n",
              "          document.querySelector('#df-1761e692-eccc-4c34-9aaf-3e98493c9a7b button.colab-df-convert');\n",
              "        buttonEl.style.display =\n",
              "          google.colab.kernel.accessAllowed ? 'block' : 'none';\n",
              "\n",
              "        async function convertToInteractive(key) {\n",
              "          const element = document.querySelector('#df-1761e692-eccc-4c34-9aaf-3e98493c9a7b');\n",
              "          const dataTable =\n",
              "            await google.colab.kernel.invokeFunction('convertToInteractive',\n",
              "                                                     [key], {});\n",
              "          if (!dataTable) return;\n",
              "\n",
              "          const docLinkHtml = 'Like what you see? Visit the ' +\n",
              "            '<a target=\"_blank\" href=https://colab.research.google.com/notebooks/data_table.ipynb>data table notebook</a>'\n",
              "            + ' to learn more about interactive tables.';\n",
              "          element.innerHTML = '';\n",
              "          dataTable['output_type'] = 'display_data';\n",
              "          await google.colab.output.renderOutput(dataTable, element);\n",
              "          const docLink = document.createElement('div');\n",
              "          docLink.innerHTML = docLinkHtml;\n",
              "          element.appendChild(docLink);\n",
              "        }\n",
              "      </script>\n",
              "    </div>\n",
              "  </div>\n",
              "  "
            ]
          },
          "metadata": {},
          "execution_count": 96
        }
      ]
    },
    {
      "cell_type": "code",
      "source": [
        "labeled_train_el['time label'].max()"
      ],
      "metadata": {
        "id": "LsqCjA5PsMGd",
        "outputId": "6b5ca5ac-9235-43a0-edda-07a756a2dfe0",
        "colab": {
          "base_uri": "https://localhost:8080/"
        }
      },
      "execution_count": 97,
      "outputs": [
        {
          "output_type": "execute_result",
          "data": {
            "text/plain": [
              "2.582516666666667"
            ]
          },
          "metadata": {},
          "execution_count": 97
        }
      ]
    },
    {
      "cell_type": "code",
      "source": [
        "labeled_train_el, validation_el = train_test_split(labeled_train_el, test_size=VALIDATION_SIZE, random_state=9)"
      ],
      "metadata": {
        "id": "l-bYZPLwZcl3"
      },
      "execution_count": 98,
      "outputs": []
    },
    {
      "cell_type": "code",
      "source": [
        "def format_input(el):\n",
        "  prefix_x = np.array(el['prefix'])\n",
        "  prefix_x = np.stack(prefix_x)\n",
        "  prefix_x = prefix_x.reshape(prefix_x.shape[0], prefix_x.shape[1], 1)\n",
        "  \n",
        "  suffix_x = np.array(el['suffix'])\n",
        "  suffix_x = np.stack(suffix_x)\n",
        "  suffix_x = suffix_x.reshape(suffix_x.shape[0], suffix_x.shape[1], 1)\n",
        "\n",
        "  start_times = np.array(el['start times'])\n",
        "\n",
        "  prefix_t = np.array(el['prefix times'])\n",
        "  suffix_t = np.array(el['suffix times'])\n",
        "\n",
        "   \n",
        "  prefix_t = np.stack(prefix_t)\n",
        "  prefix_t = prefix_t.reshape(prefix_t.shape[0], prefix_t.shape[1], 1)\n",
        "\n",
        "  suffix_t = np.stack(suffix_t)\n",
        "  suffix_t = suffix_t.reshape(suffix_t.shape[0], suffix_t.shape[1], 1)\n",
        "\n",
        "  x = np.concatenate(([prefix_x], [suffix_x], [prefix_t], [suffix_t]))\n",
        "\n",
        "  y = np.array(el['time label'])\n",
        "  y = np.stack(y)\n",
        "\n",
        "  return x, y, start_times"
      ],
      "metadata": {
        "id": "WF5l1Nm8Zh5Z"
      },
      "execution_count": 135,
      "outputs": []
    },
    {
      "cell_type": "code",
      "source": [
        "train_x, train_y, _ = format_input(labeled_train_el)\n",
        "validation_x, validation_y, _ = format_input(validation_el)\n",
        "# validation_x"
      ],
      "metadata": {
        "id": "G5Id6edeemp8"
      },
      "execution_count": 136,
      "outputs": []
    },
    {
      "cell_type": "code",
      "source": [
        "from copy import deepcopy\n",
        "\n",
        "def random_remove(el):\n",
        "  unique_traces_test = el['trace'].unique()\n",
        "  traces = {x : pd.DataFrame() for x in unique_traces_test}\n",
        "  df = pd.DataFrame(columns=['trace', 'activity', 'timestamp'])\n",
        "  random.seed = (9)\n",
        "  targets = []\n",
        "\n",
        "  for t in unique_traces_test:\n",
        "    traces[t] = deepcopy(test_el[:][test_el.trace == t])\n",
        "    trace_df = traces[t].sort_values(by='timestamp')\n",
        "    rand_index = random.randrange(1,len(trace_df.index))\n",
        "    targets.append(trace_df.iat[rand_index,2])\n",
        "    trace_df.iat[rand_index, 2] = np.nan\n",
        "    df = pd.concat([df, trace_df])\n",
        "\n",
        "  return df, targets"
      ],
      "metadata": {
        "id": "aw2gXPwQ5BpM"
      },
      "execution_count": 114,
      "outputs": []
    },
    {
      "cell_type": "code",
      "source": [
        "test_x, test_y = random_remove(test_el)\n",
        "test_x"
      ],
      "metadata": {
        "colab": {
          "base_uri": "https://localhost:8080/",
          "height": 424
        },
        "id": "myjROhrWcnV0",
        "outputId": "8844fc18-b7a6-4957-c7b1-b540fc1eea50"
      },
      "execution_count": 115,
      "outputs": [
        {
          "output_type": "execute_result",
          "data": {
            "text/plain": [
              "        trace     activity           timestamp\n",
              "780       189     Admitted 2196-12-02 12:00:00\n",
              "781       189  Entered ICU 2196-12-03 20:12:41\n",
              "782       189     Left ICU 2196-12-06 18:13:52\n",
              "783       189   Discharged                 NaT\n",
              "2218      539     Admitted 2165-09-13 07:15:00\n",
              "...       ...          ...                 ...\n",
              "140151  34210   Discharged 2164-01-10 16:44:00\n",
              "141342  34499     Admitted 2181-04-07 10:52:00\n",
              "141343  34499  Entered ICU 2181-04-07 10:53:54\n",
              "141344  34499     Left ICU 2181-04-08 21:17:17\n",
              "141345  34499   Discharged                 NaT\n",
              "\n",
              "[784 rows x 3 columns]"
            ],
            "text/html": [
              "\n",
              "  <div id=\"df-6416fc75-97bd-46b5-9306-f3a246771eca\">\n",
              "    <div class=\"colab-df-container\">\n",
              "      <div>\n",
              "<style scoped>\n",
              "    .dataframe tbody tr th:only-of-type {\n",
              "        vertical-align: middle;\n",
              "    }\n",
              "\n",
              "    .dataframe tbody tr th {\n",
              "        vertical-align: top;\n",
              "    }\n",
              "\n",
              "    .dataframe thead th {\n",
              "        text-align: right;\n",
              "    }\n",
              "</style>\n",
              "<table border=\"1\" class=\"dataframe\">\n",
              "  <thead>\n",
              "    <tr style=\"text-align: right;\">\n",
              "      <th></th>\n",
              "      <th>trace</th>\n",
              "      <th>activity</th>\n",
              "      <th>timestamp</th>\n",
              "    </tr>\n",
              "  </thead>\n",
              "  <tbody>\n",
              "    <tr>\n",
              "      <th>780</th>\n",
              "      <td>189</td>\n",
              "      <td>Admitted</td>\n",
              "      <td>2196-12-02 12:00:00</td>\n",
              "    </tr>\n",
              "    <tr>\n",
              "      <th>781</th>\n",
              "      <td>189</td>\n",
              "      <td>Entered ICU</td>\n",
              "      <td>2196-12-03 20:12:41</td>\n",
              "    </tr>\n",
              "    <tr>\n",
              "      <th>782</th>\n",
              "      <td>189</td>\n",
              "      <td>Left ICU</td>\n",
              "      <td>2196-12-06 18:13:52</td>\n",
              "    </tr>\n",
              "    <tr>\n",
              "      <th>783</th>\n",
              "      <td>189</td>\n",
              "      <td>Discharged</td>\n",
              "      <td>NaT</td>\n",
              "    </tr>\n",
              "    <tr>\n",
              "      <th>2218</th>\n",
              "      <td>539</td>\n",
              "      <td>Admitted</td>\n",
              "      <td>2165-09-13 07:15:00</td>\n",
              "    </tr>\n",
              "    <tr>\n",
              "      <th>...</th>\n",
              "      <td>...</td>\n",
              "      <td>...</td>\n",
              "      <td>...</td>\n",
              "    </tr>\n",
              "    <tr>\n",
              "      <th>140151</th>\n",
              "      <td>34210</td>\n",
              "      <td>Discharged</td>\n",
              "      <td>2164-01-10 16:44:00</td>\n",
              "    </tr>\n",
              "    <tr>\n",
              "      <th>141342</th>\n",
              "      <td>34499</td>\n",
              "      <td>Admitted</td>\n",
              "      <td>2181-04-07 10:52:00</td>\n",
              "    </tr>\n",
              "    <tr>\n",
              "      <th>141343</th>\n",
              "      <td>34499</td>\n",
              "      <td>Entered ICU</td>\n",
              "      <td>2181-04-07 10:53:54</td>\n",
              "    </tr>\n",
              "    <tr>\n",
              "      <th>141344</th>\n",
              "      <td>34499</td>\n",
              "      <td>Left ICU</td>\n",
              "      <td>2181-04-08 21:17:17</td>\n",
              "    </tr>\n",
              "    <tr>\n",
              "      <th>141345</th>\n",
              "      <td>34499</td>\n",
              "      <td>Discharged</td>\n",
              "      <td>NaT</td>\n",
              "    </tr>\n",
              "  </tbody>\n",
              "</table>\n",
              "<p>784 rows × 3 columns</p>\n",
              "</div>\n",
              "      <button class=\"colab-df-convert\" onclick=\"convertToInteractive('df-6416fc75-97bd-46b5-9306-f3a246771eca')\"\n",
              "              title=\"Convert this dataframe to an interactive table.\"\n",
              "              style=\"display:none;\">\n",
              "        \n",
              "  <svg xmlns=\"http://www.w3.org/2000/svg\" height=\"24px\"viewBox=\"0 0 24 24\"\n",
              "       width=\"24px\">\n",
              "    <path d=\"M0 0h24v24H0V0z\" fill=\"none\"/>\n",
              "    <path d=\"M18.56 5.44l.94 2.06.94-2.06 2.06-.94-2.06-.94-.94-2.06-.94 2.06-2.06.94zm-11 1L8.5 8.5l.94-2.06 2.06-.94-2.06-.94L8.5 2.5l-.94 2.06-2.06.94zm10 10l.94 2.06.94-2.06 2.06-.94-2.06-.94-.94-2.06-.94 2.06-2.06.94z\"/><path d=\"M17.41 7.96l-1.37-1.37c-.4-.4-.92-.59-1.43-.59-.52 0-1.04.2-1.43.59L10.3 9.45l-7.72 7.72c-.78.78-.78 2.05 0 2.83L4 21.41c.39.39.9.59 1.41.59.51 0 1.02-.2 1.41-.59l7.78-7.78 2.81-2.81c.8-.78.8-2.07 0-2.86zM5.41 20L4 18.59l7.72-7.72 1.47 1.35L5.41 20z\"/>\n",
              "  </svg>\n",
              "      </button>\n",
              "      \n",
              "  <style>\n",
              "    .colab-df-container {\n",
              "      display:flex;\n",
              "      flex-wrap:wrap;\n",
              "      gap: 12px;\n",
              "    }\n",
              "\n",
              "    .colab-df-convert {\n",
              "      background-color: #E8F0FE;\n",
              "      border: none;\n",
              "      border-radius: 50%;\n",
              "      cursor: pointer;\n",
              "      display: none;\n",
              "      fill: #1967D2;\n",
              "      height: 32px;\n",
              "      padding: 0 0 0 0;\n",
              "      width: 32px;\n",
              "    }\n",
              "\n",
              "    .colab-df-convert:hover {\n",
              "      background-color: #E2EBFA;\n",
              "      box-shadow: 0px 1px 2px rgba(60, 64, 67, 0.3), 0px 1px 3px 1px rgba(60, 64, 67, 0.15);\n",
              "      fill: #174EA6;\n",
              "    }\n",
              "\n",
              "    [theme=dark] .colab-df-convert {\n",
              "      background-color: #3B4455;\n",
              "      fill: #D2E3FC;\n",
              "    }\n",
              "\n",
              "    [theme=dark] .colab-df-convert:hover {\n",
              "      background-color: #434B5C;\n",
              "      box-shadow: 0px 1px 3px 1px rgba(0, 0, 0, 0.15);\n",
              "      filter: drop-shadow(0px 1px 2px rgba(0, 0, 0, 0.3));\n",
              "      fill: #FFFFFF;\n",
              "    }\n",
              "  </style>\n",
              "\n",
              "      <script>\n",
              "        const buttonEl =\n",
              "          document.querySelector('#df-6416fc75-97bd-46b5-9306-f3a246771eca button.colab-df-convert');\n",
              "        buttonEl.style.display =\n",
              "          google.colab.kernel.accessAllowed ? 'block' : 'none';\n",
              "\n",
              "        async function convertToInteractive(key) {\n",
              "          const element = document.querySelector('#df-6416fc75-97bd-46b5-9306-f3a246771eca');\n",
              "          const dataTable =\n",
              "            await google.colab.kernel.invokeFunction('convertToInteractive',\n",
              "                                                     [key], {});\n",
              "          if (!dataTable) return;\n",
              "\n",
              "          const docLinkHtml = 'Like what you see? Visit the ' +\n",
              "            '<a target=\"_blank\" href=https://colab.research.google.com/notebooks/data_table.ipynb>data table notebook</a>'\n",
              "            + ' to learn more about interactive tables.';\n",
              "          element.innerHTML = '';\n",
              "          dataTable['output_type'] = 'display_data';\n",
              "          await google.colab.output.renderOutput(dataTable, element);\n",
              "          const docLink = document.createElement('div');\n",
              "          docLink.innerHTML = docLinkHtml;\n",
              "          element.appendChild(docLink);\n",
              "        }\n",
              "      </script>\n",
              "    </div>\n",
              "  </div>\n",
              "  "
            ]
          },
          "metadata": {},
          "execution_count": 115
        }
      ]
    },
    {
      "cell_type": "markdown",
      "source": [
        "##Section 4: Predicting the correct sequence order"
      ],
      "metadata": {
        "id": "CHgmNtQSii_2"
      }
    },
    {
      "cell_type": "markdown",
      "source": [
        "###4.1 Creating process model using training set"
      ],
      "metadata": {
        "id": "VhAgmEJFjtl_"
      }
    },
    {
      "cell_type": "code",
      "source": [
        "# format train event log as pm4py event log\n",
        "train_log = pm.format_dataframe(train_el, case_id='trace', activity_key='activity', timestamp_key='timestamp')\n",
        "# petri net from heuristics miner\n",
        "heuristic_net, heuristic_im, heuristic_fm = pm.discover_petri_net_heuristics(train_log)\n",
        "pm.view_petri_net(heuristic_net, heuristic_im, heuristic_fm)"
      ],
      "metadata": {
        "colab": {
          "base_uri": "https://localhost:8080/",
          "height": 457
        },
        "id": "9JBvFAoztWov",
        "outputId": "5fbaf384-1043-4c84-8284-0a1eab2838ae"
      },
      "execution_count": 116,
      "outputs": [
        {
          "output_type": "stream",
          "name": "stderr",
          "text": [
            "<ipython-input-116-fa2d3316df74>:2: DeprecatedWarning: format_dataframe is deprecated as of 2.3.0 and will be removed in 3.0.0. the format_dataframe function does not need application anymore.\n",
            "  train_log = pm.format_dataframe(train_el, case_id='trace', activity_key='activity', timestamp_key='timestamp')\n",
            "/usr/local/lib/python3.9/dist-packages/pm4py/utils.py:75: SettingWithCopyWarning: \n",
            "A value is trying to be set on a copy of a slice from a DataFrame.\n",
            "Try using .loc[row_indexer,col_indexer] = value instead\n",
            "\n",
            "See the caveats in the documentation: https://pandas.pydata.org/pandas-docs/stable/user_guide/indexing.html#returning-a-view-versus-a-copy\n",
            "  df[constants.CASE_CONCEPT_NAME] = df[case_id]\n",
            "/usr/local/lib/python3.9/dist-packages/pm4py/utils.py:79: SettingWithCopyWarning: \n",
            "A value is trying to be set on a copy of a slice from a DataFrame.\n",
            "Try using .loc[row_indexer,col_indexer] = value instead\n",
            "\n",
            "See the caveats in the documentation: https://pandas.pydata.org/pandas-docs/stable/user_guide/indexing.html#returning-a-view-versus-a-copy\n",
            "  df[xes_constants.DEFAULT_NAME_KEY] = df[activity_key]\n",
            "/usr/local/lib/python3.9/dist-packages/pm4py/utils.py:83: SettingWithCopyWarning: \n",
            "A value is trying to be set on a copy of a slice from a DataFrame.\n",
            "Try using .loc[row_indexer,col_indexer] = value instead\n",
            "\n",
            "See the caveats in the documentation: https://pandas.pydata.org/pandas-docs/stable/user_guide/indexing.html#returning-a-view-versus-a-copy\n",
            "  df[xes_constants.DEFAULT_TIMESTAMP_KEY] = df[timestamp_key]\n"
          ]
        },
        {
          "output_type": "display_data",
          "data": {
            "image/png": "[encoded data removed]",
            "text/plain": [
              "<IPython.core.display.Image object>"
            ]
          },
          "metadata": {}
        }
      ]
    },
    {
      "cell_type": "code",
      "source": [
        "inductive_net, inductive_im, inductive_fm = pm.discover_petri_net_inductive(train_log)\n",
        "pm.view_petri_net(petri_net=inductive_net)"
      ],
      "metadata": {
        "id": "ZsoRG_eOtXPK",
        "colab": {
          "base_uri": "https://localhost:8080/",
          "height": 330
        },
        "outputId": "300bf12f-6af8-4689-c2c2-1ce028b45acb"
      },
      "execution_count": 117,
      "outputs": [
        {
          "output_type": "display_data",
          "data": {
            "image/png": "[encoded data removed]",
            "text/plain": [
              "<IPython.core.display.Image object>"
            ]
          },
          "metadata": {}
        }
      ]
    },
    {
      "cell_type": "code",
      "source": [
        "alpha_net, alpha_im, alpha_fm = pm.discover_petri_net_alpha_plus(train_log)\n",
        "pm.view_petri_net(petri_net=alpha_net)"
      ],
      "metadata": {
        "colab": {
          "base_uri": "https://localhost:8080/",
          "height": 259
        },
        "id": "24dB3K991MGa",
        "outputId": "cf5ae237-53ad-436a-ccee-4a03db29923e"
      },
      "execution_count": 118,
      "outputs": [
        {
          "output_type": "stream",
          "name": "stderr",
          "text": [
            "<ipython-input-118-1ff381e6b524>:1: DeprecatedWarning: discover_petri_net_alpha_plus is deprecated as of 2.3.0 and will be removed in 3.0.0. this method will be removed in a future release.\n",
            "  alpha_net, alpha_im, alpha_fm = pm.discover_petri_net_alpha_plus(train_log)\n"
          ]
        },
        {
          "output_type": "display_data",
          "data": {
            "image/png": "[encoded data removed]",
            "text/plain": [
              "<IPython.core.display.Image object>"
            ]
          },
          "metadata": {}
        }
      ]
    },
    {
      "cell_type": "markdown",
      "source": [
        "###4.2"
      ],
      "metadata": {
        "id": "898qyZ_ojy3l"
      }
    },
    {
      "cell_type": "code",
      "source": [
        "def replay_trace(el, pn, im, fm):\n",
        "  # log = pm.format_dataframe(el, case_id='trace', activity_key='activity', timestamp_key='timestamp')\n",
        "  replay_result_token = pm.fitness_token_based_replay(el, pn, im, fm, case_id_key='trace', activity_key='activity', timestamp_key='timestamp')\n",
        "  replay_result_alignments = pm.fitness_alignments(el, pn, im, fm, case_id_key='trace', activity_key='activity', timestamp_key='timestamp')\n",
        "  # print(replay_result_alignments)\n",
        "  return replay_result_token['average_trace_fitness'], replay_result_alignments['average_trace_fitness']"
      ],
      "metadata": {
        "id": "kxcCEUnoyaKg"
      },
      "execution_count": 119,
      "outputs": []
    },
    {
      "cell_type": "code",
      "source": [
        "def generate_traces(sequence, missing, trace, pn, im, fm):\n",
        "    timestamps = sequence['timestamp'].tolist()\n",
        "    if missing.iat[0,1] == 'Admitted':\n",
        "      return pd.concat([missing,sequence], ignore_index=True), pd.concat([missing,sequence], ignore_index=True) \n",
        "    if missing.iat[0,1] == 'Discharged':\n",
        "      return pd.concat([sequence,missing], ignore_index=True), pd.concat([sequence,missing], ignore_index=True)\n",
        "     \n",
        "    trace_length = len(timestamps) -1\n",
        "    best_fitness_token = 0\n",
        "    best_fitness_alignments = 0\n",
        "    best_trace_token = None\n",
        "    best_trace_alignments = None\n",
        "\n",
        "    for i in range(1,trace_length+1):\n",
        "\n",
        "      df = pd.concat([sequence.head(i), missing, sequence.tail(trace_length-i+1)], ignore_index=True)\n",
        "      inputed_df = deepcopy(df)\n",
        "      previous_timestamp = inputed_df.iat[i-1,2]\n",
        "      next_timestamp = inputed_df.iat[i+1,2]\n",
        "      inputed_timestamp = previous_timestamp + (next_timestamp-previous_timestamp)/2 \n",
        "      inputed_df.iat[i,2] = inputed_timestamp\n",
        "      # print(inputed_df)\n",
        "      fitness_token, fitness_alignments = replay_trace(inputed_df, pn, im, fm)\n",
        "\n",
        "      # fitness = 1\n",
        "      if fitness_token > best_fitness_token:\n",
        "        best_fitness_token = fitness_token\n",
        "        best_trace_token = df\n",
        "      \n",
        "      if fitness_alignments > best_fitness_alignments:\n",
        "        best_fitness_alignments = fitness_alignments\n",
        "        best_trace_alignments = df\n",
        "\n",
        "\n",
        "    return best_trace_token, best_trace_alignments\n"
      ],
      "metadata": {
        "id": "3QwgE2INhV1d"
      },
      "execution_count": 120,
      "outputs": []
    },
    {
      "cell_type": "code",
      "source": [
        "def predict_sequences(el, pn, im, fm):\n",
        "  df_token = pd.DataFrame(columns=['trace','activity','timestamp'])\n",
        "  df_alignments = pd.DataFrame(columns=['trace','activity','timestamp'])\n",
        "\n",
        "  unique_traces = el['trace'].unique()\n",
        "\n",
        "  for t in unique_traces:\n",
        "    trace_df = el[:][test_el.trace == t]\n",
        "    sequence = trace_df.loc[trace_df['timestamp'].notna()]\n",
        "    missing = trace_df.loc[trace_df['timestamp'].isna()]\n",
        "    # print(t)\n",
        "    predicted_trace = generate_traces(sequence, missing, t, pn, im, fm)\n",
        "    df_token = pd.concat([df_token,predicted_trace[0]], ignore_index=True)\n",
        "    df_alignments = pd.concat([df_alignments, predicted_trace[1]], ignore_index=True)\n",
        "\n",
        "  return df_token, df_alignments\n",
        "\n"
      ],
      "metadata": {
        "id": "XIDNk1Kli3JM"
      },
      "execution_count": 121,
      "outputs": []
    },
    {
      "cell_type": "code",
      "source": [
        "alpha_sequences_token, alpha_sequences_alignments = predict_sequences(test_x, alpha_net, alpha_im, alpha_fm)\n",
        "heuristic_sequences_token, heuristic_sequences_alignments = predict_sequences(test_x, heuristic_net, heuristic_im, heuristic_fm)\n",
        "inductive_sequences_token, inductive_sequences_alignments = predict_sequences(test_x, inductive_net, inductive_im, inductive_fm)"
      ],
      "metadata": {
        "id": "tcvX3ct79QT9"
      },
      "execution_count": 122,
      "outputs": []
    },
    {
      "cell_type": "markdown",
      "source": [
        "###4.3 evaluate sequence prediction"
      ],
      "metadata": {
        "id": "BNIAn_cQ2NPX"
      }
    },
    {
      "cell_type": "code",
      "source": [
        "def evaluate_sequences(predicted, targets):\n",
        "  correct, incorrect, error = 0, 0, 0\n",
        "  unique_traces = targets['trace'].unique()\n",
        "  \n",
        "  for trace in unique_traces:\n",
        "    t = targets[:][targets.trace == trace]\n",
        "    target = t.index[t['timestamp'].isnull()][0]\n",
        "    p = predicted[:][predicted.trace == trace]\n",
        "    prediction = p.index[p['timestamp'].isnull()][0]\n",
        "    \n",
        "    if prediction == target:\n",
        "      correct += 1\n",
        "    else:\n",
        "      incorrect += 1\n",
        "      error += (prediction - target)**2\n",
        "    \n",
        "\n",
        "  accuracy = correct / (correct + incorrect)\n",
        "  rmse = (error / len(unique_traces)) ** 0.5\n",
        "\n",
        "  return accuracy, rmse\n",
        "\n",
        "\n",
        "print(f\"Heuristic token based replay: {evaluate_sequences(test_x.reset_index(), heuristic_sequences_token.reset_index())}\")\n",
        "print(f\"Inductive token based replay: {evaluate_sequences(test_x.reset_index(), inductive_sequences_token.reset_index())}\")\n",
        "print(f\"Alpha token based replay: {evaluate_sequences(test_x.reset_index(), alpha_sequences_token.reset_index())}\")\n",
        "\n",
        "print(f\"Heuristic alignments: {evaluate_sequences(test_x.reset_index(), heuristic_sequences_alignments.reset_index())}\")\n",
        "print(f\"Inductive alignments: {evaluate_sequences(test_x.reset_index(), inductive_sequences_alignments.reset_index())}\")\n",
        "print(f\"Alpha alignments: {evaluate_sequences(test_x.reset_index(), alpha_sequences_alignments.reset_index())}\")\n",
        "\n",
        "\n",
        "\n"
      ],
      "metadata": {
        "colab": {
          "base_uri": "https://localhost:8080/"
        },
        "id": "RBZfdgbp2cRv",
        "outputId": "f65c4f8f-6488-442b-e0ee-f6063abfbea1"
      },
      "execution_count": 123,
      "outputs": [
        {
          "output_type": "stream",
          "name": "stdout",
          "text": [
            "Heuristic token based replay: (1.0, 0.0)\n",
            "Inductive token based replay: (1.0, 0.0)\n",
            "Alpha token based replay: (1.0, 0.0)\n",
            "Heuristic alignments: (0.9949238578680203, 0.21374114996372892)\n",
            "Inductive alignments: (1.0, 0.0)\n",
            "Alpha alignments: (1.0, 0.0)\n"
          ]
        }
      ]
    },
    {
      "cell_type": "markdown",
      "source": [
        "###4.4 Finish pre-processing test data"
      ],
      "metadata": {
        "id": "2zE4Ifig2jD2"
      }
    },
    {
      "cell_type": "code",
      "source": [
        "def label_test(el):\n",
        "  prefix_arr, suffix_arr, prefix_times_arr, suffix_times_arr, label_arr, label_times_arr = [], [], [], [], [], []\n",
        "  start_times, end_times = [], []\n",
        "  labeled_arr = []\n",
        "  unique_traces = el['trace'].unique()\n",
        "\n",
        "  for t in unique_traces:\n",
        "    df = el[:][el.trace == t]\n",
        "    activities, timestamps = [], []\n",
        "\n",
        "    for i in df.index:\n",
        "      activity = encode_activity.get(df['activity'][i])\n",
        "      activities.append(activity)\n",
        "\n",
        "      timestamp = df['timestamp'][i]\n",
        "      # if pd.isnull(timestamp):\n",
        "      timestamp =  df['timestamp'][i]\n",
        "      timestamps.append(timestamp)\n",
        "    \n",
        "    # print(timestamps)\n",
        "\n",
        "    length = len(timestamps)\n",
        "    \n",
        "    start_time = pd.NaT\n",
        "    end_time = pd.NaT\n",
        "\n",
        "    if not pd.isnull(timestamps[0]):\n",
        "      start_time = timestamps[0]\n",
        "      for i in range(length):\n",
        "        if not pd.isnull(timestamps[i]):\n",
        "          timestamps[i] = (timestamps[i] - start_time).total_seconds()  / 3600 / 1000\n",
        "\n",
        "    order = 0\n",
        "    for i in range(length):\n",
        "      if pd.isnull(timestamps[i]):\n",
        "        order = i\n",
        "        break\n",
        "\n",
        "    # print(order)\n",
        "\n",
        "    label = activities[order]\n",
        "    time_label = timestamps[order]\n",
        "    prefix = activities[:order]\n",
        "    prefix_times = timestamps[:order]\n",
        "\n",
        "    # print(prefix_times)\n",
        "\n",
        "    suffix, suffix_times = [], []\n",
        "\n",
        "    if i != length - 1:\n",
        "      suffix = activities[i+1:]\n",
        "      suffix_times = timestamps[i+1:]\n",
        "\n",
        "    padding = []\n",
        "\n",
        "    while len(prefix) + len(padding) < PREFIX_LENGTH:\n",
        "      padding.append('0')\n",
        "    \n",
        "    prefix = padding + prefix\n",
        "      \n",
        "    padding = []\n",
        "    \n",
        "    while len(prefix_times) + len(padding) < PREFIX_LENGTH:\n",
        "      padding.append(0.0)\n",
        "    \n",
        "    prefix_times =  padding + prefix_times\n",
        "\n",
        "    while len(suffix) < PREFIX_LENGTH:\n",
        "      suffix.append('0')\n",
        "\n",
        "    while len(suffix_times) < PREFIX_LENGTH:\n",
        "      suffix_times.append(0.0)\n",
        "\n",
        "    # f = '%Y-%d-%m %H:%M:%S'\n",
        "    # for i in range(PREFIX_LENGTH):\n",
        "    #   try:\n",
        "    #     prefix_times[i] = pd.to_datetime(prefix_times[i], format=f).value\n",
        "    #     # suffix_times[i] = pd.to_datetime(suffix_times[i], format=f).value\n",
        "    #   except ValueError:\n",
        "    #     continue\n",
        "\n",
        "    # for i in range(PREFIX_LENGTH):\n",
        "    #   try:\n",
        "    #     # prefix_times[i] = pd.to_datetime(prefix_times[i], format=f).value\n",
        "    #     suffix_times[i] = pd.to_datetime(suffix_times[i], format=f).value\n",
        "    #   except ValueError:\n",
        "    #     continue\n",
        "\n",
        "    prefix_arr.append(np.array(prefix[0:PREFIX_LENGTH], dtype=int))\n",
        "    suffix_arr.append(np.array(suffix[0:PREFIX_LENGTH], dtype=int))\n",
        "    prefix_times_arr.append(np.array(prefix_times[:PREFIX_LENGTH], dtype=np.double))\n",
        "    suffix_times_arr.append(np.array(suffix_times[:PREFIX_LENGTH], dtype=np.double))\n",
        "    label_arr.append(label)\n",
        "    label_times_arr.append(time_label)\n",
        "    start_times.append(start_time)\n",
        "    end_times.append(end_time)\n",
        "\n",
        "  return pd.DataFrame({'prefix' : prefix_arr, \n",
        "                       'suffix' : suffix_arr,\n",
        "                       'prefix times' : prefix_times_arr,\n",
        "                       'suffix times' : suffix_times_arr,\n",
        "                       'activity label' : label_arr,\n",
        "                       'time label': label_times_arr,\n",
        "                       'start times': start_times,\n",
        "                       'end times': end_times})\n"
      ],
      "metadata": {
        "id": "nuX1AP8SDtC9"
      },
      "execution_count": 133,
      "outputs": []
    },
    {
      "cell_type": "code",
      "source": [
        "labeled_test = label_test(heuristic_sequences_token)\n",
        "test_x, _, test_start_times = format_input(labeled_test)\n",
        "labeled_test"
      ],
      "metadata": {
        "id": "JVx9Ff9Jkb-D",
        "colab": {
          "base_uri": "https://localhost:8080/",
          "height": 424
        },
        "outputId": "c99630f4-83ee-44c3-9f9b-6df446882529"
      },
      "execution_count": 137,
      "outputs": [
        {
          "output_type": "execute_result",
          "data": {
            "text/plain": [
              "        prefix     suffix                                       prefix times  \\\n",
              "0    [1, 2, 3]  [0, 0, 0]    [0.0, 0.032211388888888894, 0.1022311111111111]   \n",
              "1    [0, 0, 1]  [3, 4, 0]                                    [0.0, 0.0, 0.0]   \n",
              "2    [0, 1, 2]  [4, 0, 0]                   [0.0, 0.0, 0.005763333333333334]   \n",
              "3    [0, 0, 1]  [3, 4, 0]                                    [0.0, 0.0, 0.0]   \n",
              "4    [0, 1, 2]  [4, 0, 0]                  [0.0, 0.0, 2.138888888888889e-05]   \n",
              "..         ...        ...                                                ...   \n",
              "192  [0, 0, 1]  [0, 0, 0]                                    [0.0, 0.0, 0.0]   \n",
              "193  [0, 0, 1]  [3, 4, 0]                                    [0.0, 0.0, 0.0]   \n",
              "194  [0, 0, 1]  [3, 4, 0]                                    [0.0, 0.0, 0.0]   \n",
              "195  [0, 0, 1]  [3, 4, 0]                                    [0.0, 0.0, 0.0]   \n",
              "196  [1, 2, 3]  [0, 0, 0]  [0.0, 3.1666666666666666e-05, 0.03442138888888...   \n",
              "\n",
              "                                      suffix times activity label time label  \\\n",
              "0                                  [0.0, 0.0, 0.0]              4        NaT   \n",
              "1              [0.12200777777777777, 0.19775, 0.0]              2        NaT   \n",
              "2                              [0.10905, 0.0, 0.0]              3        NaT   \n",
              "3            [0.0587575, 0.22188333333333332, 0.0]              2        NaT   \n",
              "4                  [0.21106666666666665, 0.0, 0.0]              3        NaT   \n",
              "..                                             ...            ...        ...   \n",
              "192                                [0.0, 0.0, 0.0]              4        NaT   \n",
              "193  [0.7427999999999999, 0.8409833333333333, 0.0]              2        NaT   \n",
              "194             [0.06407888888888888, 0.1584, 0.0]              2        NaT   \n",
              "195             [0.07741972222222222, 0.1201, 0.0]              2        NaT   \n",
              "196                                [0.0, 0.0, 0.0]              4        NaT   \n",
              "\n",
              "            start times end times  \n",
              "0   2196-12-02 12:00:00       NaT  \n",
              "1   2165-09-13 07:15:00       NaT  \n",
              "2   2182-06-06 07:15:00       NaT  \n",
              "3   2129-01-24 07:15:00       NaT  \n",
              "4   2187-07-04 20:11:00       NaT  \n",
              "..                  ...       ...  \n",
              "192 2180-04-12 02:43:00       NaT  \n",
              "193 2150-05-05 13:23:00       NaT  \n",
              "194 2132-09-15 00:36:00       NaT  \n",
              "195 2164-01-05 16:38:00       NaT  \n",
              "196 2181-04-07 10:52:00       NaT  \n",
              "\n",
              "[197 rows x 8 columns]"
            ],
            "text/html": [
              "\n",
              "  <div id=\"df-6cdc79a0-ad9c-4fe9-916a-1879825b48de\">\n",
              "    <div class=\"colab-df-container\">\n",
              "      <div>\n",
              "<style scoped>\n",
              "    .dataframe tbody tr th:only-of-type {\n",
              "        vertical-align: middle;\n",
              "    }\n",
              "\n",
              "    .dataframe tbody tr th {\n",
              "        vertical-align: top;\n",
              "    }\n",
              "\n",
              "    .dataframe thead th {\n",
              "        text-align: right;\n",
              "    }\n",
              "</style>\n",
              "<table border=\"1\" class=\"dataframe\">\n",
              "  <thead>\n",
              "    <tr style=\"text-align: right;\">\n",
              "      <th></th>\n",
              "      <th>prefix</th>\n",
              "      <th>suffix</th>\n",
              "      <th>prefix times</th>\n",
              "      <th>suffix times</th>\n",
              "      <th>activity label</th>\n",
              "      <th>time label</th>\n",
              "      <th>start times</th>\n",
              "      <th>end times</th>\n",
              "    </tr>\n",
              "  </thead>\n",
              "  <tbody>\n",
              "    <tr>\n",
              "      <th>0</th>\n",
              "      <td>[1, 2, 3]</td>\n",
              "      <td>[0, 0, 0]</td>\n",
              "      <td>[0.0, 0.032211388888888894, 0.1022311111111111]</td>\n",
              "      <td>[0.0, 0.0, 0.0]</td>\n",
              "      <td>4</td>\n",
              "      <td>NaT</td>\n",
              "      <td>2196-12-02 12:00:00</td>\n",
              "      <td>NaT</td>\n",
              "    </tr>\n",
              "    <tr>\n",
              "      <th>1</th>\n",
              "      <td>[0, 0, 1]</td>\n",
              "      <td>[3, 4, 0]</td>\n",
              "      <td>[0.0, 0.0, 0.0]</td>\n",
              "      <td>[0.12200777777777777, 0.19775, 0.0]</td>\n",
              "      <td>2</td>\n",
              "      <td>NaT</td>\n",
              "      <td>2165-09-13 07:15:00</td>\n",
              "      <td>NaT</td>\n",
              "    </tr>\n",
              "    <tr>\n",
              "      <th>2</th>\n",
              "      <td>[0, 1, 2]</td>\n",
              "      <td>[4, 0, 0]</td>\n",
              "      <td>[0.0, 0.0, 0.005763333333333334]</td>\n",
              "      <td>[0.10905, 0.0, 0.0]</td>\n",
              "      <td>3</td>\n",
              "      <td>NaT</td>\n",
              "      <td>2182-06-06 07:15:00</td>\n",
              "      <td>NaT</td>\n",
              "    </tr>\n",
              "    <tr>\n",
              "      <th>3</th>\n",
              "      <td>[0, 0, 1]</td>\n",
              "      <td>[3, 4, 0]</td>\n",
              "      <td>[0.0, 0.0, 0.0]</td>\n",
              "      <td>[0.0587575, 0.22188333333333332, 0.0]</td>\n",
              "      <td>2</td>\n",
              "      <td>NaT</td>\n",
              "      <td>2129-01-24 07:15:00</td>\n",
              "      <td>NaT</td>\n",
              "    </tr>\n",
              "    <tr>\n",
              "      <th>4</th>\n",
              "      <td>[0, 1, 2]</td>\n",
              "      <td>[4, 0, 0]</td>\n",
              "      <td>[0.0, 0.0, 2.138888888888889e-05]</td>\n",
              "      <td>[0.21106666666666665, 0.0, 0.0]</td>\n",
              "      <td>3</td>\n",
              "      <td>NaT</td>\n",
              "      <td>2187-07-04 20:11:00</td>\n",
              "      <td>NaT</td>\n",
              "    </tr>\n",
              "    <tr>\n",
              "      <th>...</th>\n",
              "      <td>...</td>\n",
              "      <td>...</td>\n",
              "      <td>...</td>\n",
              "      <td>...</td>\n",
              "      <td>...</td>\n",
              "      <td>...</td>\n",
              "      <td>...</td>\n",
              "      <td>...</td>\n",
              "    </tr>\n",
              "    <tr>\n",
              "      <th>192</th>\n",
              "      <td>[0, 0, 1]</td>\n",
              "      <td>[0, 0, 0]</td>\n",
              "      <td>[0.0, 0.0, 0.0]</td>\n",
              "      <td>[0.0, 0.0, 0.0]</td>\n",
              "      <td>4</td>\n",
              "      <td>NaT</td>\n",
              "      <td>2180-04-12 02:43:00</td>\n",
              "      <td>NaT</td>\n",
              "    </tr>\n",
              "    <tr>\n",
              "      <th>193</th>\n",
              "      <td>[0, 0, 1]</td>\n",
              "      <td>[3, 4, 0]</td>\n",
              "      <td>[0.0, 0.0, 0.0]</td>\n",
              "      <td>[0.7427999999999999, 0.8409833333333333, 0.0]</td>\n",
              "      <td>2</td>\n",
              "      <td>NaT</td>\n",
              "      <td>2150-05-05 13:23:00</td>\n",
              "      <td>NaT</td>\n",
              "    </tr>\n",
              "    <tr>\n",
              "      <th>194</th>\n",
              "      <td>[0, 0, 1]</td>\n",
              "      <td>[3, 4, 0]</td>\n",
              "      <td>[0.0, 0.0, 0.0]</td>\n",
              "      <td>[0.06407888888888888, 0.1584, 0.0]</td>\n",
              "      <td>2</td>\n",
              "      <td>NaT</td>\n",
              "      <td>2132-09-15 00:36:00</td>\n",
              "      <td>NaT</td>\n",
              "    </tr>\n",
              "    <tr>\n",
              "      <th>195</th>\n",
              "      <td>[0, 0, 1]</td>\n",
              "      <td>[3, 4, 0]</td>\n",
              "      <td>[0.0, 0.0, 0.0]</td>\n",
              "      <td>[0.07741972222222222, 0.1201, 0.0]</td>\n",
              "      <td>2</td>\n",
              "      <td>NaT</td>\n",
              "      <td>2164-01-05 16:38:00</td>\n",
              "      <td>NaT</td>\n",
              "    </tr>\n",
              "    <tr>\n",
              "      <th>196</th>\n",
              "      <td>[1, 2, 3]</td>\n",
              "      <td>[0, 0, 0]</td>\n",
              "      <td>[0.0, 3.1666666666666666e-05, 0.03442138888888...</td>\n",
              "      <td>[0.0, 0.0, 0.0]</td>\n",
              "      <td>4</td>\n",
              "      <td>NaT</td>\n",
              "      <td>2181-04-07 10:52:00</td>\n",
              "      <td>NaT</td>\n",
              "    </tr>\n",
              "  </tbody>\n",
              "</table>\n",
              "<p>197 rows × 8 columns</p>\n",
              "</div>\n",
              "      <button class=\"colab-df-convert\" onclick=\"convertToInteractive('df-6cdc79a0-ad9c-4fe9-916a-1879825b48de')\"\n",
              "              title=\"Convert this dataframe to an interactive table.\"\n",
              "              style=\"display:none;\">\n",
              "        \n",
              "  <svg xmlns=\"http://www.w3.org/2000/svg\" height=\"24px\"viewBox=\"0 0 24 24\"\n",
              "       width=\"24px\">\n",
              "    <path d=\"M0 0h24v24H0V0z\" fill=\"none\"/>\n",
              "    <path d=\"M18.56 5.44l.94 2.06.94-2.06 2.06-.94-2.06-.94-.94-2.06-.94 2.06-2.06.94zm-11 1L8.5 8.5l.94-2.06 2.06-.94-2.06-.94L8.5 2.5l-.94 2.06-2.06.94zm10 10l.94 2.06.94-2.06 2.06-.94-2.06-.94-.94-2.06-.94 2.06-2.06.94z\"/><path d=\"M17.41 7.96l-1.37-1.37c-.4-.4-.92-.59-1.43-.59-.52 0-1.04.2-1.43.59L10.3 9.45l-7.72 7.72c-.78.78-.78 2.05 0 2.83L4 21.41c.39.39.9.59 1.41.59.51 0 1.02-.2 1.41-.59l7.78-7.78 2.81-2.81c.8-.78.8-2.07 0-2.86zM5.41 20L4 18.59l7.72-7.72 1.47 1.35L5.41 20z\"/>\n",
              "  </svg>\n",
              "      </button>\n",
              "      \n",
              "  <style>\n",
              "    .colab-df-container {\n",
              "      display:flex;\n",
              "      flex-wrap:wrap;\n",
              "      gap: 12px;\n",
              "    }\n",
              "\n",
              "    .colab-df-convert {\n",
              "      background-color: #E8F0FE;\n",
              "      border: none;\n",
              "      border-radius: 50%;\n",
              "      cursor: pointer;\n",
              "      display: none;\n",
              "      fill: #1967D2;\n",
              "      height: 32px;\n",
              "      padding: 0 0 0 0;\n",
              "      width: 32px;\n",
              "    }\n",
              "\n",
              "    .colab-df-convert:hover {\n",
              "      background-color: #E2EBFA;\n",
              "      box-shadow: 0px 1px 2px rgba(60, 64, 67, 0.3), 0px 1px 3px 1px rgba(60, 64, 67, 0.15);\n",
              "      fill: #174EA6;\n",
              "    }\n",
              "\n",
              "    [theme=dark] .colab-df-convert {\n",
              "      background-color: #3B4455;\n",
              "      fill: #D2E3FC;\n",
              "    }\n",
              "\n",
              "    [theme=dark] .colab-df-convert:hover {\n",
              "      background-color: #434B5C;\n",
              "      box-shadow: 0px 1px 3px 1px rgba(0, 0, 0, 0.15);\n",
              "      filter: drop-shadow(0px 1px 2px rgba(0, 0, 0, 0.3));\n",
              "      fill: #FFFFFF;\n",
              "    }\n",
              "  </style>\n",
              "\n",
              "      <script>\n",
              "        const buttonEl =\n",
              "          document.querySelector('#df-6cdc79a0-ad9c-4fe9-916a-1879825b48de button.colab-df-convert');\n",
              "        buttonEl.style.display =\n",
              "          google.colab.kernel.accessAllowed ? 'block' : 'none';\n",
              "\n",
              "        async function convertToInteractive(key) {\n",
              "          const element = document.querySelector('#df-6cdc79a0-ad9c-4fe9-916a-1879825b48de');\n",
              "          const dataTable =\n",
              "            await google.colab.kernel.invokeFunction('convertToInteractive',\n",
              "                                                     [key], {});\n",
              "          if (!dataTable) return;\n",
              "\n",
              "          const docLinkHtml = 'Like what you see? Visit the ' +\n",
              "            '<a target=\"_blank\" href=https://colab.research.google.com/notebooks/data_table.ipynb>data table notebook</a>'\n",
              "            + ' to learn more about interactive tables.';\n",
              "          element.innerHTML = '';\n",
              "          dataTable['output_type'] = 'display_data';\n",
              "          await google.colab.output.renderOutput(dataTable, element);\n",
              "          const docLink = document.createElement('div');\n",
              "          docLink.innerHTML = docLinkHtml;\n",
              "          element.appendChild(docLink);\n",
              "        }\n",
              "      </script>\n",
              "    </div>\n",
              "  </div>\n",
              "  "
            ]
          },
          "metadata": {},
          "execution_count": 137
        }
      ]
    },
    {
      "cell_type": "code",
      "source": [
        "test_start_times"
      ],
      "metadata": {
        "id": "iTRO2JYJyLq7",
        "outputId": "7c6d8ab2-eb74-4309-af81-3931a6478e73",
        "colab": {
          "base_uri": "https://localhost:8080/"
        }
      },
      "execution_count": 138,
      "outputs": [
        {
          "output_type": "execute_result",
          "data": {
            "text/plain": [
              "array(['2196-12-02T12:00:00.000000000', '2165-09-13T07:15:00.000000000',\n",
              "       '2182-06-06T07:15:00.000000000', '2129-01-24T07:15:00.000000000',\n",
              "       '2187-07-04T20:11:00.000000000', '2181-12-19T20:08:00.000000000',\n",
              "       '2125-08-16T09:30:00.000000000', '2190-09-08T07:15:00.000000000',\n",
              "       '2147-12-08T06:46:00.000000000', '2191-12-11T00:20:00.000000000',\n",
              "       '2107-01-10T22:02:00.000000000', '2187-02-08T18:12:00.000000000',\n",
              "       '2152-08-27T02:08:00.000000000', '2139-04-20T11:45:00.000000000',\n",
              "       '2136-07-24T14:00:00.000000000', '2200-03-18T18:11:00.000000000',\n",
              "       '2125-06-14T19:26:00.000000000', '2187-02-04T17:40:00.000000000',\n",
              "       '2148-09-04T20:06:00.000000000', '2191-08-23T13:03:00.000000000',\n",
              "       '2193-03-28T18:34:00.000000000', '2123-01-25T16:04:00.000000000',\n",
              "       '2163-01-01T09:05:00.000000000', '2167-02-15T14:38:00.000000000',\n",
              "       '2173-02-11T14:44:00.000000000', '2175-11-20T09:01:00.000000000',\n",
              "       '2149-12-16T08:43:00.000000000', '2160-03-23T11:27:00.000000000',\n",
              "       '2191-03-03T15:08:00.000000000', '2165-12-19T12:19:00.000000000',\n",
              "       '2120-01-08T12:43:00.000000000', '2115-07-04T15:48:00.000000000',\n",
              "       '2205-05-02T11:54:00.000000000', '2178-07-22T08:41:00.000000000',\n",
              "       '2188-05-27T12:58:00.000000000', '2154-10-16T17:04:00.000000000',\n",
              "       '2157-06-11T07:52:00.000000000', '2173-06-30T21:33:00.000000000',\n",
              "       '2182-03-29T16:32:00.000000000', '2169-07-27T17:59:00.000000000',\n",
              "       '2112-01-31T22:44:00.000000000', '2156-02-27T22:49:00.000000000',\n",
              "       '2181-09-05T12:00:00.000000000', '2152-05-24T00:47:00.000000000',\n",
              "       '2170-05-21T11:48:00.000000000', '2195-10-16T11:17:00.000000000',\n",
              "       '2196-08-01T18:20:00.000000000', '2149-02-18T16:12:00.000000000',\n",
              "       '2161-08-04T22:54:00.000000000', '2178-08-18T07:15:00.000000000',\n",
              "       '2167-09-02T11:55:00.000000000', '2143-04-22T17:14:00.000000000',\n",
              "       '2120-11-30T18:46:00.000000000', '2159-10-16T07:15:00.000000000',\n",
              "       '2139-03-15T16:53:00.000000000', '2121-11-07T12:37:00.000000000',\n",
              "       '2156-03-23T11:30:00.000000000', '2159-05-12T18:09:00.000000000',\n",
              "       '2156-08-24T12:00:00.000000000', '2164-07-28T23:40:00.000000000',\n",
              "       '2179-09-21T12:13:00.000000000', '2142-01-08T06:36:00.000000000',\n",
              "       '2102-10-17T20:28:00.000000000', '2197-11-28T20:07:00.000000000',\n",
              "       '2199-09-30T21:38:00.000000000', '2154-06-16T16:10:00.000000000',\n",
              "       '2150-08-04T20:56:00.000000000', '2167-09-19T18:40:00.000000000',\n",
              "       '2176-08-03T22:06:00.000000000', '2151-02-22T18:38:00.000000000',\n",
              "       '2172-02-18T07:15:00.000000000', '2175-09-22T16:04:00.000000000',\n",
              "       '2112-04-03T18:59:00.000000000', '2162-12-09T19:06:00.000000000',\n",
              "       '2147-11-20T16:12:00.000000000', '2134-07-18T23:21:00.000000000',\n",
              "       '2109-07-06T14:00:00.000000000', '2127-03-16T22:35:00.000000000',\n",
              "       '2196-06-13T22:12:00.000000000', '2173-03-18T20:19:00.000000000',\n",
              "       '2135-01-20T02:25:00.000000000', '2113-11-05T16:04:00.000000000',\n",
              "       '2186-10-03T17:48:00.000000000', '2135-09-12T07:15:00.000000000',\n",
              "       '2155-04-11T16:23:00.000000000', '2137-09-21T17:30:00.000000000',\n",
              "       '2174-02-04T09:15:00.000000000', '2125-05-02T08:00:00.000000000',\n",
              "       '2127-05-14T14:10:00.000000000', '2134-01-16T15:10:00.000000000',\n",
              "       '2182-04-08T07:15:00.000000000', '2199-07-04T18:19:00.000000000',\n",
              "       '2124-10-28T22:13:00.000000000', '2102-08-22T00:39:00.000000000',\n",
              "       '2185-09-12T13:20:00.000000000', '2183-12-29T10:54:00.000000000',\n",
              "       '2117-04-21T14:01:00.000000000', '2134-12-29T16:10:00.000000000',\n",
              "       '2125-04-18T12:30:00.000000000', '2174-10-02T21:40:00.000000000',\n",
              "       '2121-04-06T17:14:00.000000000', '2154-04-21T00:06:00.000000000',\n",
              "       '2170-03-07T02:36:00.000000000', '2168-04-13T08:00:00.000000000',\n",
              "       '2115-10-08T22:08:00.000000000', '2156-06-27T04:43:00.000000000',\n",
              "       '2113-06-13T13:31:00.000000000', '2100-12-05T02:25:00.000000000',\n",
              "       '2150-07-26T15:21:00.000000000', '2176-10-02T20:26:00.000000000',\n",
              "       '2140-08-31T19:05:00.000000000', '2189-02-11T03:52:00.000000000',\n",
              "       '2104-03-26T14:32:00.000000000', '2140-12-28T08:00:00.000000000',\n",
              "       '2192-10-26T16:05:00.000000000', '2118-03-27T20:46:00.000000000',\n",
              "       '2180-02-02T16:47:00.000000000', '2173-08-27T01:17:00.000000000',\n",
              "       '2101-04-11T22:44:00.000000000', '2125-01-09T17:16:00.000000000',\n",
              "       '2102-05-12T07:15:00.000000000', '2104-09-22T14:53:00.000000000',\n",
              "       '2201-11-07T18:36:00.000000000', '2184-07-19T09:18:00.000000000',\n",
              "       '2165-02-24T22:37:00.000000000', '2178-06-06T05:43:00.000000000',\n",
              "       '2160-09-09T20:58:00.000000000', '2117-01-31T14:39:00.000000000',\n",
              "       '2160-05-24T22:12:00.000000000', '2124-06-05T07:15:00.000000000',\n",
              "       '2176-07-16T07:15:00.000000000', '2183-01-28T15:31:00.000000000',\n",
              "       '2166-01-28T07:15:00.000000000', '2118-03-18T14:03:00.000000000',\n",
              "       '2131-12-18T18:46:00.000000000', '2107-11-29T09:05:00.000000000',\n",
              "       '2163-12-15T21:14:00.000000000', '2154-12-13T18:31:00.000000000',\n",
              "       '2204-02-13T13:17:00.000000000', '2119-05-08T21:01:00.000000000',\n",
              "       '2146-10-31T05:47:00.000000000', '2172-11-18T04:31:00.000000000',\n",
              "       '2181-03-08T07:30:00.000000000', '2171-04-02T11:45:00.000000000',\n",
              "       '2106-06-18T22:00:00.000000000', '2164-05-15T12:13:00.000000000',\n",
              "       '2204-01-20T16:12:00.000000000', '2118-07-26T07:15:00.000000000',\n",
              "       '2125-07-11T20:36:00.000000000', '2156-06-02T08:00:00.000000000',\n",
              "       '2105-07-23T18:26:00.000000000', '2118-04-03T17:47:00.000000000',\n",
              "       '2173-03-18T23:43:00.000000000', '2114-08-18T23:50:00.000000000',\n",
              "       '2103-06-23T19:14:00.000000000', '2185-10-07T18:24:00.000000000',\n",
              "       '2183-05-27T15:27:00.000000000', '2139-06-27T23:16:00.000000000',\n",
              "       '2177-07-27T18:11:00.000000000', '2108-06-22T12:24:00.000000000',\n",
              "       '2201-02-06T18:41:00.000000000', '2113-08-30T15:53:00.000000000',\n",
              "       '2105-07-06T08:00:00.000000000', '2106-07-08T08:00:00.000000000',\n",
              "       '2129-03-03T23:08:00.000000000', '2144-10-22T19:30:00.000000000',\n",
              "       '2178-07-02T17:16:00.000000000', '2154-11-25T14:14:00.000000000',\n",
              "       '2125-08-19T00:22:00.000000000', '2126-05-16T20:00:00.000000000',\n",
              "       '2155-07-17T02:19:00.000000000', '2155-01-14T07:15:00.000000000',\n",
              "       '2106-11-07T19:52:00.000000000', '2140-11-07T09:24:00.000000000',\n",
              "       '2133-12-21T23:52:00.000000000', '2121-10-02T02:51:00.000000000',\n",
              "       '2197-09-13T08:00:00.000000000', '2150-05-26T15:30:00.000000000',\n",
              "       '2182-09-28T20:00:00.000000000', '2139-11-24T15:29:00.000000000',\n",
              "       '2142-08-20T07:15:00.000000000', '2177-08-20T17:48:00.000000000',\n",
              "       '2189-09-25T14:50:00.000000000', '2142-02-06T20:50:00.000000000',\n",
              "       '2126-03-06T22:33:00.000000000', '2179-02-11T17:58:00.000000000',\n",
              "       '2178-07-31T06:33:00.000000000', '2192-10-11T13:30:00.000000000',\n",
              "       '2189-06-26T19:03:00.000000000', '2146-12-09T21:15:00.000000000',\n",
              "       '2134-09-16T15:39:00.000000000', '2178-09-17T15:44:00.000000000',\n",
              "       '2180-04-12T02:43:00.000000000', '2150-05-05T13:23:00.000000000',\n",
              "       '2132-09-15T00:36:00.000000000', '2164-01-05T16:38:00.000000000',\n",
              "       '2181-04-07T10:52:00.000000000'], dtype='datetime64[ns]')"
            ]
          },
          "metadata": {},
          "execution_count": 138
        }
      ]
    },
    {
      "cell_type": "markdown",
      "source": [
        "##Section 5: Naiive timestamp imputation method"
      ],
      "metadata": {
        "id": "OKfnF1bd_nO5"
      }
    },
    {
      "cell_type": "code",
      "source": [
        "# calculate mean time delta for discharge and admission\n",
        "def admission_discharge_delta(el):\n",
        "  discharge_delta, admission_delta = 0, 0\n",
        "  unique_traces = el['trace'].unique()\n",
        "  n = len(unique_traces)\n",
        "\n",
        "  for t in unique_traces:\n",
        "    df = el[:][el.trace == t]\n",
        "    timestamps = [], []\n",
        "\n",
        "    for i in df.index:\n",
        "      timestamp = (df['timestamp'][i]).total_seconds()\n",
        "      timestamps.append(timestamp)\n",
        "    \n",
        "    admission_delta += timestamps[1] - timestamps[0]\n",
        "    discharge_delta += timestamps[-1] - timestamps[-2]\n",
        "\n",
        "  mean_admission_delta = admission_delta/n\n",
        "  mean_discharge_delta = discharge_delta/n\n",
        "\n",
        "\n",
        "  # return \n",
        "\n",
        "  \n",
        "\n",
        "\n",
        "admission_discharge_delta(train_x)"
      ],
      "metadata": {
        "id": "pnClausIwflV"
      },
      "execution_count": null,
      "outputs": []
    },
    {
      "cell_type": "code",
      "source": [
        "def naiive(p, s):\n",
        "  predictions = []\n",
        "  for i in range(len(p)):\n",
        "    # print(i,':')\n",
        "    # print(p[i][-1])\n",
        "    # print(start_time + pd.to_timedelta(p[i][-1] * 10_000_000_000, unit='s'))\n",
        "    # print(s[i][0])\n",
        "    # print(start_time + pd.to_timedelta(s[i][0] * 10_000_000_000, unit='s'))\n",
        "\n",
        "    if p[i][-1] != 0.0 and s[i][0] != 0:\n",
        "      prediction = p[i][-1] + (s[i][0] - p[i][-1])/2\n",
        "      seconds = test_start_times[i] + pd.to_timedelta(prediction * 3600 * 1000, unit='s')\n",
        "      predictions.append(seconds)\n",
        "    else:\n",
        "      predictions.append(-1)\n",
        "\n",
        "  return predictions\n",
        "    \n",
        "naiive_predictions = naiive(test_x[2], test_x[3])"
      ],
      "metadata": {
        "id": "WkThQzTwGa-O"
      },
      "execution_count": 145,
      "outputs": []
    },
    {
      "cell_type": "code",
      "source": [
        "# def evaluate"
      ],
      "metadata": {
        "id": "Zzw2Mk9Zm9Al"
      },
      "execution_count": null,
      "outputs": []
    },
    {
      "cell_type": "markdown",
      "source": [
        "## Section 6: Predicting timestamp using LSTM "
      ],
      "metadata": {
        "id": "fAXPa0BGfVFz"
      }
    },
    {
      "cell_type": "code",
      "source": [
        "from keras.layers import Dropout, Input, Bidirectional, LSTM, average, Dense, concatenate\n",
        "from keras import Model\n",
        "\n",
        "prefix_events_input = Input(shape=(PREFIX_LENGTH, 1), name='prefix_events_input')\n",
        "suffix_events_input = Input(shape=(PREFIX_LENGTH, 1), name='suffix_events_input')\n",
        "\n",
        "prefix_times_input = Input(shape=(PREFIX_LENGTH, 1), name='prefix_times_input')\n",
        "suffix_times_input = Input(shape=(PREFIX_LENGTH, 1), name='suffix_times_input')\n",
        "\n",
        "lstm_layer = LSTM(96)\n",
        "\n",
        "prefix_events_lstm = Bidirectional(lstm_layer, name='prefix_events_lstm')(prefix_events_input)\n",
        "suffix_events_lstm = Bidirectional(lstm_layer, name='suffix_events_lstm')(suffix_events_input)\n",
        "prefix_times_lstm = Bidirectional(lstm_layer, name='prefix_times_lstm')(prefix_times_input)\n",
        "suffix_times_lstm = Bidirectional(lstm_layer, name='suffix_times_lstm')(suffix_times_input)\n",
        "\n",
        "\n",
        "dropout_prefix_events = Dropout(0)(prefix_events_lstm)\n",
        "dropout_suffix_events = Dropout(0)(suffix_events_lstm)\n",
        "dropout_prefix_times = Dropout(0)(prefix_times_lstm)\n",
        "dropout_suffix_times = Dropout(0)(suffix_times_lstm)\n",
        "\n",
        "\n",
        "merged = concatenate([dropout_prefix_events, dropout_suffix_events, dropout_prefix_times, dropout_suffix_times], name='merged')\n",
        "# merged = concatenate([dropout_prefix_times, dropout_suffix_times], name='merged')\n",
        "\n",
        "\n",
        "output = Dense(1, name='output')(merged)\n",
        "\n",
        "best_model = Model(\n",
        "    inputs=[prefix_events_input, suffix_events_input, prefix_times_input, suffix_times_input],\n",
        "    # inputs=[prefix_times_input, suffix_times_input],\n",
        "\n",
        "    outputs=output)\n",
        "best_model.compile(loss='mse', optimizer='adam', metrics=['mse'])\n",
        "best_model.summary()\n",
        "best_model.fit(\n",
        "    (train_x[0], train_x[1], train_x[2], train_x[3]),\n",
        "    # (train_x[2], train_x[3]),\n",
        "    train_y,\n",
        "    validation_data=((validation_x[0], validation_x[1], validation_x[2], validation_x[3]),\n",
        "    # validation_data=((validation_x[2], validation_x[3]),\n",
        "                     validation_y), epochs=10)\n"
      ],
      "metadata": {
        "colab": {
          "base_uri": "https://localhost:8080/"
        },
        "id": "vF6fv5kYfctS",
        "outputId": "986e801d-a8d5-4b5d-aac3-35b2ce2c1e01"
      },
      "execution_count": 139,
      "outputs": [
        {
          "output_type": "stream",
          "name": "stdout",
          "text": [
            "Model: \"model_2\"\n",
            "__________________________________________________________________________________________________\n",
            " Layer (type)                   Output Shape         Param #     Connected to                     \n",
            "==================================================================================================\n",
            " prefix_events_input (InputLaye  [(None, 3, 1)]      0           []                               \n",
            " r)                                                                                               \n",
            "                                                                                                  \n",
            " suffix_events_input (InputLaye  [(None, 3, 1)]      0           []                               \n",
            " r)                                                                                               \n",
            "                                                                                                  \n",
            " prefix_times_input (InputLayer  [(None, 3, 1)]      0           []                               \n",
            " )                                                                                                \n",
            "                                                                                                  \n",
            " suffix_times_input (InputLayer  [(None, 3, 1)]      0           []                               \n",
            " )                                                                                                \n",
            "                                                                                                  \n",
            " prefix_events_lstm (Bidirectio  (None, 192)         75264       ['prefix_events_input[0][0]']    \n",
            " nal)                                                                                             \n",
            "                                                                                                  \n",
            " suffix_events_lstm (Bidirectio  (None, 192)         75264       ['suffix_events_input[0][0]']    \n",
            " nal)                                                                                             \n",
            "                                                                                                  \n",
            " prefix_times_lstm (Bidirection  (None, 192)         75264       ['prefix_times_input[0][0]']     \n",
            " al)                                                                                              \n",
            "                                                                                                  \n",
            " suffix_times_lstm (Bidirection  (None, 192)         75264       ['suffix_times_input[0][0]']     \n",
            " al)                                                                                              \n",
            "                                                                                                  \n",
            " dropout_8 (Dropout)            (None, 192)          0           ['prefix_events_lstm[0][0]']     \n",
            "                                                                                                  \n",
            " dropout_9 (Dropout)            (None, 192)          0           ['suffix_events_lstm[0][0]']     \n",
            "                                                                                                  \n",
            " dropout_10 (Dropout)           (None, 192)          0           ['prefix_times_lstm[0][0]']      \n",
            "                                                                                                  \n",
            " dropout_11 (Dropout)           (None, 192)          0           ['suffix_times_lstm[0][0]']      \n",
            "                                                                                                  \n",
            " merged (Concatenate)           (None, 768)          0           ['dropout_8[0][0]',              \n",
            "                                                                  'dropout_9[0][0]',              \n",
            "                                                                  'dropout_10[0][0]',             \n",
            "                                                                  'dropout_11[0][0]']             \n",
            "                                                                                                  \n",
            " output (Dense)                 (None, 1)            769         ['merged[0][0]']                 \n",
            "                                                                                                  \n",
            "==================================================================================================\n",
            "Total params: 301,825\n",
            "Trainable params: 301,825\n",
            "Non-trainable params: 0\n",
            "__________________________________________________________________________________________________\n",
            "Epoch 1/10\n",
            "81/81 [==============================] - 23s 54ms/step - loss: 0.0203 - mse: 0.0203 - val_loss: 0.0099 - val_mse: 0.0099\n",
            "Epoch 2/10\n",
            "81/81 [==============================] - 1s 14ms/step - loss: 0.0136 - mse: 0.0136 - val_loss: 0.0082 - val_mse: 0.0082\n",
            "Epoch 3/10\n",
            "81/81 [==============================] - 1s 14ms/step - loss: 0.0128 - mse: 0.0128 - val_loss: 0.0086 - val_mse: 0.0086\n",
            "Epoch 4/10\n",
            "81/81 [==============================] - 1s 15ms/step - loss: 0.0126 - mse: 0.0126 - val_loss: 0.0071 - val_mse: 0.0071\n",
            "Epoch 5/10\n",
            "81/81 [==============================] - 1s 15ms/step - loss: 0.0124 - mse: 0.0124 - val_loss: 0.0078 - val_mse: 0.0078\n",
            "Epoch 6/10\n",
            "81/81 [==============================] - 1s 14ms/step - loss: 0.0122 - mse: 0.0122 - val_loss: 0.0072 - val_mse: 0.0072\n",
            "Epoch 7/10\n",
            "81/81 [==============================] - 1s 14ms/step - loss: 0.0120 - mse: 0.0120 - val_loss: 0.0080 - val_mse: 0.0080\n",
            "Epoch 8/10\n",
            "81/81 [==============================] - 2s 20ms/step - loss: 0.0118 - mse: 0.0118 - val_loss: 0.0069 - val_mse: 0.0069\n",
            "Epoch 9/10\n",
            "81/81 [==============================] - 2s 22ms/step - loss: 0.0121 - mse: 0.0121 - val_loss: 0.0067 - val_mse: 0.0067\n",
            "Epoch 10/10\n",
            "81/81 [==============================] - 1s 16ms/step - loss: 0.0120 - mse: 0.0120 - val_loss: 0.0070 - val_mse: 0.0070\n"
          ]
        },
        {
          "output_type": "execute_result",
          "data": {
            "text/plain": [
              "<keras.callbacks.History at 0x7fbb60496970>"
            ]
          },
          "metadata": {},
          "execution_count": 139
        }
      ]
    },
    {
      "cell_type": "markdown",
      "source": [
        "##Section 7: Evaluating the model"
      ],
      "metadata": {
        "id": "VotFhI5bGfMF"
      }
    },
    {
      "cell_type": "code",
      "source": [
        "def mean_squared_error(predictions):\n",
        "  seconds, minutes, hours, days = 0, 0, 0, 0\n",
        "  for p, t in zip(predictions, test_y):\n",
        "    if p != -1:\n",
        "      seconds += (p-t).total_seconds() ** 2\n",
        "  seconds = (seconds / len(predictions)) ** 0.5\n",
        "  minutes = seconds / 60\n",
        "  hours = minutes / 60\n",
        "  days = hours / 24\n",
        "  years = days / 365\n",
        "  \n",
        "  return seconds, minutes, hours, days, years\n"
      ],
      "metadata": {
        "id": "7hLNOIxM16mx"
      },
      "execution_count": 147,
      "outputs": []
    },
    {
      "cell_type": "code",
      "source": [
        "def predict(model):\n",
        "  predictions = model.predict([test_x[0], test_x[1], test_x[2], test_x[3]])\n",
        "  predicted_times = []\n",
        "  for i in range(len(predictions)):\n",
        "    seconds = test_start_times[i] + pd.to_timedelta(predictions[i] * 3600 * 1000, unit='s')\n",
        "    predicted_times.append(seconds)\n",
        "  return predicted_times\n",
        "predictions = predict(best_model)"
      ],
      "metadata": {
        "id": "730zCXoSGe8-",
        "colab": {
          "base_uri": "https://localhost:8080/"
        },
        "outputId": "b1aeaafb-670c-446b-a1aa-f7dd9977c08f"
      },
      "execution_count": 142,
      "outputs": [
        {
          "output_type": "stream",
          "name": "stdout",
          "text": [
            "7/7 [==============================] - 4s 9ms/step\n"
          ]
        }
      ]
    },
    {
      "cell_type": "code",
      "source": [
        "mean_squared_error(predictions)"
      ],
      "metadata": {
        "id": "mwdqcbnxso_7",
        "outputId": "b8b5475b-0506-4136-a394-dca83fc576b1",
        "colab": {
          "base_uri": "https://localhost:8080/"
        }
      },
      "execution_count": 148,
      "outputs": [
        {
          "output_type": "execute_result",
          "data": {
            "text/plain": [
              "(Float64Index([551489.4444241604], dtype='float64'),\n",
              " Float64Index([9191.490740402673], dtype='float64'),\n",
              " Float64Index([153.19151234004454], dtype='float64'),\n",
              " Float64Index([6.382979680835189], dtype='float64'),\n",
              " Float64Index([0.017487615563932024], dtype='float64'))"
            ]
          },
          "metadata": {},
          "execution_count": 148
        }
      ]
    },
    {
      "cell_type": "code",
      "source": [
        "mean_squared_error(naiive_predictions)"
      ],
      "metadata": {
        "id": "SMLcJ-OazhXK",
        "outputId": "beed0487-aa3d-4a3a-8b10-b7151bbb51e1",
        "colab": {
          "base_uri": "https://localhost:8080/"
        }
      },
      "execution_count": 149,
      "outputs": [
        {
          "output_type": "execute_result",
          "data": {
            "text/plain": [
              "(Float64Index([311820.0870856019], dtype='float64'),\n",
              " Float64Index([5197.001451426698], dtype='float64'),\n",
              " Float64Index([86.61669085711164], dtype='float64'),\n",
              " Float64Index([3.609028785712985], dtype='float64'),\n",
              " Float64Index([0.009887750097843795], dtype='float64'))"
            ]
          },
          "metadata": {},
          "execution_count": 149
        }
      ]
    }
  ],
  "metadata": {
    "kernelspec": {
      "display_name": "Python 3",
      "language": "python",
      "name": "python3"
    },
    "language_info": {
      "codemirror_mode": {
        "name": "ipython",
        "version": 3
      },
      "file_extension": ".py",
      "mimetype": "text/x-python",
      "name": "python",
      "nbconvert_exporter": "python",
      "pygments_lexer": "ipython3",
      "version": "3.10.2"
    },
    "orig_nbformat": 4,
    "vscode": {
      "interpreter": {
        "hash": "668626f72d98c3d20278a861d4c9cd1e9608e85361f1e74d685459c6ce5f80f9"
      }
    },
    "colab": {
      "provenance": [],
      "include_colab_link": true
    },
    "gpuClass": "standard",
    "accelerator": "GPU"
  },
  "nbformat": 4,
  "nbformat_minor": 0
}