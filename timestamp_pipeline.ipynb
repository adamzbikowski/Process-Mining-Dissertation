{
  "cells": [
    {
      "cell_type": "markdown",
      "metadata": {
        "id": "view-in-github",
        "colab_type": "text"
      },
      "source": [
        "<a href=\"https://colab.research.google.com/github/adamzbikowski/Process-Mining-Dissertation/blob/main/timestamp_pipeline.ipynb\" target=\"_parent\"><img src=\"https://colab.research.google.com/assets/colab-badge.svg\" alt=\"Open In Colab\"/></a>"
      ]
    },
    {
      "cell_type": "markdown",
      "metadata": {
        "id": "_vJIqfLeCjHP"
      },
      "source": [
        "# Pipeline 1: predicting missing values for activity"
      ]
    },
    {
      "cell_type": "markdown",
      "source": [
        "##Section 0: Customisation"
      ],
      "metadata": {
        "id": "LZGZm2vxOFBT"
      }
    },
    {
      "cell_type": "markdown",
      "source": [
        "**Note on usage:**\n",
        "To customise the pipeline, only alter the parameters in this section."
      ],
      "metadata": {
        "id": "uuEFUnhyPLSz"
      }
    },
    {
      "cell_type": "code",
      "source": [
        "# The following parameters can be customised:\n",
        "\n",
        "# change depending on which branch the queries have been pushed to\n",
        "BRANCH = \"sql-queries\" \n",
        "\n",
        "# change this to change which query is being used\n",
        "QUERY_NAME = \"el_hypertension_4.sql\"\n",
        "\n",
        "# this assumes that the user has access to the mimic-iii dataset\n",
        "# through google BigQuery\n",
        "# replace project name to the project containing mimic-iii\n",
        "PROJECT_NAME = \"processmining-367815\" \n",
        "\n",
        "# change to alter the number of random traces being selected\n",
        "# set value to None in order to use the full dataset\n",
        "NUM_TRACES = 10000\n",
        "\n",
        "# IGNORE if event log does not include procedures\n",
        "# set to false if  \n",
        "CATEGORICAL_PROCEDURES = False\n",
        "\n",
        "# change to alter the prefix/suffix length\n",
        "PREFIX_LENGTH = 5\n",
        "\n",
        "# change to alter the size of the test and validation sets\n",
        "TEST_SIZE = 0.2\n",
        "VALIDATION_SIZE = 0.2\n",
        "\n",
        "# change to tune hyperparameters\n",
        "\n",
        "\n",
        "\n",
        "\n"
      ],
      "metadata": {
        "id": "7SRLZ8SUOEMp"
      },
      "execution_count": 119,
      "outputs": []
    },
    {
      "cell_type": "markdown",
      "metadata": {
        "id": "L27GXRjHCjHV"
      },
      "source": [
        "## Section 1: Loading event log"
      ]
    },
    {
      "cell_type": "markdown",
      "source": [
        "###1.1"
      ],
      "metadata": {
        "id": "9vuR0FKfBtms"
      }
    },
    {
      "cell_type": "code",
      "source": [
        "# installing prerequisites\n",
        "# certain packages are not installed by default on google colab\n",
        "!pip install pm4py\n",
        "!pip install -q -U keras-tuner"
      ],
      "metadata": {
        "colab": {
          "base_uri": "https://localhost:8080/"
        },
        "id": "JtmZ3GBVDj-s",
        "outputId": "d0e3a013-fb50-4cbf-edbc-ec7068b287e6"
      },
      "execution_count": 120,
      "outputs": [
        {
          "output_type": "stream",
          "name": "stdout",
          "text": [
            "Looking in indexes: https://pypi.org/simple, https://us-python.pkg.dev/colab-wheels/public/simple/\n",
            "Requirement already satisfied: pm4py in /usr/local/lib/python3.9/dist-packages (2.7.3)\n",
            "Requirement already satisfied: scipy in /usr/local/lib/python3.9/dist-packages (from pm4py) (1.10.1)\n",
            "Requirement already satisfied: pytz in /usr/local/lib/python3.9/dist-packages (from pm4py) (2022.7.1)\n",
            "Requirement already satisfied: deprecation in /usr/local/lib/python3.9/dist-packages (from pm4py) (2.1.0)\n",
            "Requirement already satisfied: lxml in /usr/local/lib/python3.9/dist-packages (from pm4py) (4.9.2)\n",
            "Requirement already satisfied: matplotlib in /usr/local/lib/python3.9/dist-packages (from pm4py) (3.7.1)\n",
            "Requirement already satisfied: cvxopt in /usr/local/lib/python3.9/dist-packages (from pm4py) (1.3.0)\n",
            "Requirement already satisfied: pydotplus in /usr/local/lib/python3.9/dist-packages (from pm4py) (2.0.2)\n",
            "Requirement already satisfied: tqdm in /usr/local/lib/python3.9/dist-packages (from pm4py) (4.65.0)\n",
            "Requirement already satisfied: stringdist in /usr/local/lib/python3.9/dist-packages (from pm4py) (1.0.9)\n",
            "Requirement already satisfied: pandas in /usr/local/lib/python3.9/dist-packages (from pm4py) (1.5.3)\n",
            "Requirement already satisfied: graphviz in /usr/local/lib/python3.9/dist-packages (from pm4py) (0.20.1)\n",
            "Requirement already satisfied: intervaltree in /usr/local/lib/python3.9/dist-packages (from pm4py) (3.1.0)\n",
            "Requirement already satisfied: numpy in /usr/local/lib/python3.9/dist-packages (from pm4py) (1.22.4)\n",
            "Requirement already satisfied: networkx in /usr/local/lib/python3.9/dist-packages (from pm4py) (3.1)\n",
            "Requirement already satisfied: packaging in /usr/local/lib/python3.9/dist-packages (from deprecation->pm4py) (23.0)\n",
            "Requirement already satisfied: sortedcontainers<3.0,>=2.0 in /usr/local/lib/python3.9/dist-packages (from intervaltree->pm4py) (2.4.0)\n",
            "Requirement already satisfied: cycler>=0.10 in /usr/local/lib/python3.9/dist-packages (from matplotlib->pm4py) (0.11.0)\n",
            "Requirement already satisfied: importlib-resources>=3.2.0 in /usr/local/lib/python3.9/dist-packages (from matplotlib->pm4py) (5.12.0)\n",
            "Requirement already satisfied: pillow>=6.2.0 in /usr/local/lib/python3.9/dist-packages (from matplotlib->pm4py) (8.4.0)\n",
            "Requirement already satisfied: contourpy>=1.0.1 in /usr/local/lib/python3.9/dist-packages (from matplotlib->pm4py) (1.0.7)\n",
            "Requirement already satisfied: kiwisolver>=1.0.1 in /usr/local/lib/python3.9/dist-packages (from matplotlib->pm4py) (1.4.4)\n",
            "Requirement already satisfied: pyparsing>=2.3.1 in /usr/local/lib/python3.9/dist-packages (from matplotlib->pm4py) (3.0.9)\n",
            "Requirement already satisfied: fonttools>=4.22.0 in /usr/local/lib/python3.9/dist-packages (from matplotlib->pm4py) (4.39.3)\n",
            "Requirement already satisfied: python-dateutil>=2.7 in /usr/local/lib/python3.9/dist-packages (from matplotlib->pm4py) (2.8.2)\n",
            "Requirement already satisfied: zipp>=3.1.0 in /usr/local/lib/python3.9/dist-packages (from importlib-resources>=3.2.0->matplotlib->pm4py) (3.15.0)\n",
            "Requirement already satisfied: six>=1.5 in /usr/local/lib/python3.9/dist-packages (from python-dateutil>=2.7->matplotlib->pm4py) (1.16.0)\n"
          ]
        }
      ]
    },
    {
      "cell_type": "code",
      "source": [
        "from google.colab import auth\n",
        "auth.authenticate_user()"
      ],
      "metadata": {
        "id": "IrTL5G7bD7W6"
      },
      "execution_count": 121,
      "outputs": []
    },
    {
      "cell_type": "code",
      "source": [
        "\n",
        "from google.cloud import bigquery\n",
        "client = bigquery.Client(project=PROJECT_NAME)"
      ],
      "metadata": {
        "id": "-aNc-OmPEAZq"
      },
      "execution_count": 122,
      "outputs": []
    },
    {
      "cell_type": "code",
      "source": [
        "import requests\n",
        "\n",
        "# read a query from the github repository\n",
        "url = f\"https://raw.githubusercontent.com/adamzbikowski/Process-Mining-Dissertation/{BRANCH}/sql_queries/{QUERY_NAME}\"\n",
        "query_bytes = requests.get(url).content\n",
        "\n",
        "# we must now decode this to turn the query into a string \n",
        "query = query_bytes.decode(\"utf-8\")"
      ],
      "metadata": {
        "id": "cLK5sJ_qwY5W"
      },
      "execution_count": 123,
      "outputs": []
    },
    {
      "cell_type": "markdown",
      "source": [
        "###1.2"
      ],
      "metadata": {
        "id": "77eoZypCBrLK"
      }
    },
    {
      "cell_type": "code",
      "execution_count": 124,
      "metadata": {
        "colab": {
          "base_uri": "https://localhost:8080/",
          "height": 0
        },
        "id": "CmSHODCZCjHW",
        "outputId": "2cf32db1-0515-43f9-ed63-6e5c8635479e"
      },
      "outputs": [
        {
          "output_type": "execute_result",
          "data": {
            "text/plain": [
              "       patient     activity           timestamp\n",
              "0       155415  Entered ICU 2163-07-26 20:57:00\n",
              "1       188869  Entered ICU 2170-06-15 03:59:34\n",
              "2       103901  Entered ICU 2168-01-05 17:21:50\n",
              "3       131177  Entered ICU 2192-07-30 17:48:59\n",
              "4       185356  Entered ICU 2154-01-07 13:10:51\n",
              "...        ...          ...                 ...\n",
              "84433   101826     Admitted 2127-12-16 17:36:00\n",
              "84434   112256     Admitted 2178-04-05 20:04:00\n",
              "84435   148054     Admitted 2134-02-16 23:59:00\n",
              "84436   122230     Admitted 2135-06-19 14:00:00\n",
              "84437   178246     Admitted 2134-10-29 07:15:00\n",
              "\n",
              "[84438 rows x 3 columns]"
            ],
            "text/html": [
              "\n",
              "  <div id=\"df-06e4e10e-d94f-4f28-80c9-1468edccc243\">\n",
              "    <div class=\"colab-df-container\">\n",
              "      <div>\n",
              "<style scoped>\n",
              "    .dataframe tbody tr th:only-of-type {\n",
              "        vertical-align: middle;\n",
              "    }\n",
              "\n",
              "    .dataframe tbody tr th {\n",
              "        vertical-align: top;\n",
              "    }\n",
              "\n",
              "    .dataframe thead th {\n",
              "        text-align: right;\n",
              "    }\n",
              "</style>\n",
              "<table border=\"1\" class=\"dataframe\">\n",
              "  <thead>\n",
              "    <tr style=\"text-align: right;\">\n",
              "      <th></th>\n",
              "      <th>patient</th>\n",
              "      <th>activity</th>\n",
              "      <th>timestamp</th>\n",
              "    </tr>\n",
              "  </thead>\n",
              "  <tbody>\n",
              "    <tr>\n",
              "      <th>0</th>\n",
              "      <td>155415</td>\n",
              "      <td>Entered ICU</td>\n",
              "      <td>2163-07-26 20:57:00</td>\n",
              "    </tr>\n",
              "    <tr>\n",
              "      <th>1</th>\n",
              "      <td>188869</td>\n",
              "      <td>Entered ICU</td>\n",
              "      <td>2170-06-15 03:59:34</td>\n",
              "    </tr>\n",
              "    <tr>\n",
              "      <th>2</th>\n",
              "      <td>103901</td>\n",
              "      <td>Entered ICU</td>\n",
              "      <td>2168-01-05 17:21:50</td>\n",
              "    </tr>\n",
              "    <tr>\n",
              "      <th>3</th>\n",
              "      <td>131177</td>\n",
              "      <td>Entered ICU</td>\n",
              "      <td>2192-07-30 17:48:59</td>\n",
              "    </tr>\n",
              "    <tr>\n",
              "      <th>4</th>\n",
              "      <td>185356</td>\n",
              "      <td>Entered ICU</td>\n",
              "      <td>2154-01-07 13:10:51</td>\n",
              "    </tr>\n",
              "    <tr>\n",
              "      <th>...</th>\n",
              "      <td>...</td>\n",
              "      <td>...</td>\n",
              "      <td>...</td>\n",
              "    </tr>\n",
              "    <tr>\n",
              "      <th>84433</th>\n",
              "      <td>101826</td>\n",
              "      <td>Admitted</td>\n",
              "      <td>2127-12-16 17:36:00</td>\n",
              "    </tr>\n",
              "    <tr>\n",
              "      <th>84434</th>\n",
              "      <td>112256</td>\n",
              "      <td>Admitted</td>\n",
              "      <td>2178-04-05 20:04:00</td>\n",
              "    </tr>\n",
              "    <tr>\n",
              "      <th>84435</th>\n",
              "      <td>148054</td>\n",
              "      <td>Admitted</td>\n",
              "      <td>2134-02-16 23:59:00</td>\n",
              "    </tr>\n",
              "    <tr>\n",
              "      <th>84436</th>\n",
              "      <td>122230</td>\n",
              "      <td>Admitted</td>\n",
              "      <td>2135-06-19 14:00:00</td>\n",
              "    </tr>\n",
              "    <tr>\n",
              "      <th>84437</th>\n",
              "      <td>178246</td>\n",
              "      <td>Admitted</td>\n",
              "      <td>2134-10-29 07:15:00</td>\n",
              "    </tr>\n",
              "  </tbody>\n",
              "</table>\n",
              "<p>84438 rows × 3 columns</p>\n",
              "</div>\n",
              "      <button class=\"colab-df-convert\" onclick=\"convertToInteractive('df-06e4e10e-d94f-4f28-80c9-1468edccc243')\"\n",
              "              title=\"Convert this dataframe to an interactive table.\"\n",
              "              style=\"display:none;\">\n",
              "        \n",
              "  <svg xmlns=\"http://www.w3.org/2000/svg\" height=\"24px\"viewBox=\"0 0 24 24\"\n",
              "       width=\"24px\">\n",
              "    <path d=\"M0 0h24v24H0V0z\" fill=\"none\"/>\n",
              "    <path d=\"M18.56 5.44l.94 2.06.94-2.06 2.06-.94-2.06-.94-.94-2.06-.94 2.06-2.06.94zm-11 1L8.5 8.5l.94-2.06 2.06-.94-2.06-.94L8.5 2.5l-.94 2.06-2.06.94zm10 10l.94 2.06.94-2.06 2.06-.94-2.06-.94-.94-2.06-.94 2.06-2.06.94z\"/><path d=\"M17.41 7.96l-1.37-1.37c-.4-.4-.92-.59-1.43-.59-.52 0-1.04.2-1.43.59L10.3 9.45l-7.72 7.72c-.78.78-.78 2.05 0 2.83L4 21.41c.39.39.9.59 1.41.59.51 0 1.02-.2 1.41-.59l7.78-7.78 2.81-2.81c.8-.78.8-2.07 0-2.86zM5.41 20L4 18.59l7.72-7.72 1.47 1.35L5.41 20z\"/>\n",
              "  </svg>\n",
              "      </button>\n",
              "      \n",
              "  <style>\n",
              "    .colab-df-container {\n",
              "      display:flex;\n",
              "      flex-wrap:wrap;\n",
              "      gap: 12px;\n",
              "    }\n",
              "\n",
              "    .colab-df-convert {\n",
              "      background-color: #E8F0FE;\n",
              "      border: none;\n",
              "      border-radius: 50%;\n",
              "      cursor: pointer;\n",
              "      display: none;\n",
              "      fill: #1967D2;\n",
              "      height: 32px;\n",
              "      padding: 0 0 0 0;\n",
              "      width: 32px;\n",
              "    }\n",
              "\n",
              "    .colab-df-convert:hover {\n",
              "      background-color: #E2EBFA;\n",
              "      box-shadow: 0px 1px 2px rgba(60, 64, 67, 0.3), 0px 1px 3px 1px rgba(60, 64, 67, 0.15);\n",
              "      fill: #174EA6;\n",
              "    }\n",
              "\n",
              "    [theme=dark] .colab-df-convert {\n",
              "      background-color: #3B4455;\n",
              "      fill: #D2E3FC;\n",
              "    }\n",
              "\n",
              "    [theme=dark] .colab-df-convert:hover {\n",
              "      background-color: #434B5C;\n",
              "      box-shadow: 0px 1px 3px 1px rgba(0, 0, 0, 0.15);\n",
              "      filter: drop-shadow(0px 1px 2px rgba(0, 0, 0, 0.3));\n",
              "      fill: #FFFFFF;\n",
              "    }\n",
              "  </style>\n",
              "\n",
              "      <script>\n",
              "        const buttonEl =\n",
              "          document.querySelector('#df-06e4e10e-d94f-4f28-80c9-1468edccc243 button.colab-df-convert');\n",
              "        buttonEl.style.display =\n",
              "          google.colab.kernel.accessAllowed ? 'block' : 'none';\n",
              "\n",
              "        async function convertToInteractive(key) {\n",
              "          const element = document.querySelector('#df-06e4e10e-d94f-4f28-80c9-1468edccc243');\n",
              "          const dataTable =\n",
              "            await google.colab.kernel.invokeFunction('convertToInteractive',\n",
              "                                                     [key], {});\n",
              "          if (!dataTable) return;\n",
              "\n",
              "          const docLinkHtml = 'Like what you see? Visit the ' +\n",
              "            '<a target=\"_blank\" href=https://colab.research.google.com/notebooks/data_table.ipynb>data table notebook</a>'\n",
              "            + ' to learn more about interactive tables.';\n",
              "          element.innerHTML = '';\n",
              "          dataTable['output_type'] = 'display_data';\n",
              "          await google.colab.output.renderOutput(dataTable, element);\n",
              "          const docLink = document.createElement('div');\n",
              "          docLink.innerHTML = docLinkHtml;\n",
              "          element.appendChild(docLink);\n",
              "        }\n",
              "      </script>\n",
              "    </div>\n",
              "  </div>\n",
              "  "
            ]
          },
          "metadata": {},
          "execution_count": 124
        }
      ],
      "source": [
        "import pandas as pd\n",
        "\n",
        "# loading event log from mimic-iii using bigQuery\n",
        "event_log = client.query(query).to_dataframe()\n",
        "# convert timestamp from object to datetime64\n",
        "event_log[\"timestamp\"] = pd.to_datetime(event_log[\"timestamp\"])\n",
        "event_log\n"
      ]
    },
    {
      "cell_type": "markdown",
      "metadata": {
        "id": "E5nBYFkHCjHY"
      },
      "source": [
        "## Section 2: Process Discovery"
      ]
    },
    {
      "cell_type": "code",
      "execution_count": 125,
      "metadata": {
        "colab": {
          "base_uri": "https://localhost:8080/"
        },
        "id": "q__4BhKCCjHY",
        "outputId": "d195b42f-4e87-440d-8e00-3f7984e58d0f"
      },
      "outputs": [
        {
          "output_type": "stream",
          "name": "stderr",
          "text": [
            "<ipython-input-125-aedec179434f>:3: DeprecatedWarning: format_dataframe is deprecated as of 2.3.0 and will be removed in 3.0.0. the format_dataframe function does not need application anymore.\n",
            "  event_log = pm.format_dataframe(event_log, case_id='patient', activity_key='activity', timestamp_key='timestamp')\n"
          ]
        },
        {
          "output_type": "stream",
          "name": "stdout",
          "text": [
            "Number of cases: 20696\n",
            "Number of events: 84438\n",
            "Start events: {'Admitted': 20321, 'Entered ICU': 352, 'Discharged': 23}\n",
            "End events: {'Discharged': 17501, 'Left ICU': 3193, 'Admitted': 2}\n"
          ]
        }
      ],
      "source": [
        "import pm4py as pm\n",
        "\n",
        "event_log = pm.format_dataframe(event_log, case_id='patient', activity_key='activity', timestamp_key='timestamp')\n",
        "# lets get some information about the event log\n",
        "n_events = len(event_log)\n",
        "n_cases = len(event_log.patient.unique())\n",
        "start_events = pm.get_start_activities(event_log)\n",
        "end_events = pm.get_end_activities(event_log)\n",
        "print(f\"Number of cases: {n_cases}\\nNumber of events: {n_events}\")\n",
        "print(f\"Start events: {start_events}\\nEnd events: {end_events}\")\n"
      ]
    },
    {
      "cell_type": "code",
      "execution_count": 126,
      "metadata": {
        "id": "aETYaI3-CjHZ"
      },
      "outputs": [],
      "source": [
        "# lets improve the event log by filtering out the cases that do not start or end with a patient being admitted or discharged\n",
        "# this will simplify the model\n",
        "# filtered_log = deepcopy(event_log)\n",
        "event_log = pm.filter_start_activities(event_log, ['Admitted'])\n",
        "event_log = pm.filter_end_activities(event_log,['Discharged'])\n",
        "# event_log = pm.filter_variants_top_k(event_log,50)\n",
        "# event_log = pm.filter_variants_by_coverage_percentage(event_log, 0.1)"
      ]
    },
    {
      "cell_type": "code",
      "source": [
        "import matplotlib.pyplot as plt\n",
        "\n",
        "trace_lengths = pm.stats.get_all_case_durations(event_log)\n",
        "plt.hist(trace_lengths)\n",
        "plt.show()"
      ],
      "metadata": {
        "id": "co3lSxKs1MVl",
        "outputId": "85ce020f-58ff-4036-c909-b7e61d68bf35",
        "colab": {
          "base_uri": "https://localhost:8080/",
          "height": 448
        }
      },
      "execution_count": 127,
      "outputs": [
        {
          "output_type": "display_data",
          "data": {
            "text/plain": [
              "<Figure size 640x480 with 1 Axes>"
            ],
            "image/png": "[encoded data removed]"
          },
          "metadata": {}
        }
      ]
    },
    {
      "cell_type": "code",
      "source": [
        "import math\n",
        "sorted_lengths = sorted(trace_lengths, reverse=True)\n",
        "print(max(sorted_lengths))\n",
        "pct = math.ceil(len(sorted_lengths) * 0.1)\n",
        "# print(pct)\n",
        "sorted_lengths = sorted_lengths[pct:]\n",
        "max_length = max(sorted_lengths)\n",
        "# print(len(sorted_lengths))\n",
        "print(max_length)\n",
        "\n",
        "# filter by performance\n",
        "event_log = pm.filter_case_performance(event_log, 0, max_length)"
      ],
      "metadata": {
        "id": "X7XyPWE9m_hd",
        "outputId": "1ee032b6-2a1d-44b4-a092-13b9f3e90f01",
        "colab": {
          "base_uri": "https://localhost:8080/"
        }
      },
      "execution_count": 128,
      "outputs": [
        {
          "output_type": "stream",
          "name": "stdout",
          "text": [
            "25458660.0\n",
            "1493160.0\n"
          ]
        }
      ]
    },
    {
      "cell_type": "code",
      "source": [
        "n_events = len(event_log)\n",
        "n_cases = len(event_log.patient.unique())\n",
        "start_events = pm.get_start_activities(event_log)\n",
        "end_events = pm.get_end_activities(event_log)\n",
        "print(f\"Number of cases: {n_cases}\\nNumber of events: {n_events}\")\n",
        "print(f\"Start events: {start_events}\\nEnd events: {end_events}\")"
      ],
      "metadata": {
        "id": "5O3FQUeLAHW3",
        "outputId": "828a982d-fd4e-44bb-fbfd-980bb0402b90",
        "colab": {
          "base_uri": "https://localhost:8080/"
        }
      },
      "execution_count": 129,
      "outputs": [
        {
          "output_type": "stream",
          "name": "stdout",
          "text": [
            "Number of cases: 15446\n",
            "Number of events: 61904\n",
            "Start events: {'Admitted': 15446}\n",
            "End events: {'Discharged': 15446}\n"
          ]
        }
      ]
    },
    {
      "cell_type": "code",
      "execution_count": 130,
      "metadata": {
        "id": "boYeNhZuCjHa"
      },
      "outputs": [],
      "source": [
        "net, initial_marking, final_marking = pm.discover_petri_net_alpha(event_log)"
      ]
    },
    {
      "cell_type": "code",
      "execution_count": 131,
      "metadata": {
        "colab": {
          "base_uri": "https://localhost:8080/",
          "height": 196
        },
        "id": "IIdzSIvdCjHa",
        "outputId": "b6dc437c-ead3-405a-8810-f7caf4e7d690"
      },
      "outputs": [
        {
          "output_type": "display_data",
          "data": {
            "image/png": "[encoded data removed]",
            "text/plain": [
              "<IPython.core.display.Image object>"
            ]
          },
          "metadata": {}
        }
      ],
      "source": [
        "import graphviz\n",
        "pm.view_petri_net(petri_net=net)"
      ]
    },
    {
      "cell_type": "code",
      "source": [
        "# inductive miner\n",
        "# much better result than when using alpha miner, petri net \n",
        "net, initial_marking, final_marking = pm.discover_petri_net_inductive(event_log)\n",
        "pm.view_petri_net(petri_net=net)"
      ],
      "metadata": {
        "id": "f6fgpjqRKw67",
        "outputId": "42be5561-89b0-4341-c27b-8b19615de56d",
        "colab": {
          "base_uri": "https://localhost:8080/",
          "height": 218
        }
      },
      "execution_count": 132,
      "outputs": [
        {
          "output_type": "display_data",
          "data": {
            "image/png": "[encoded data removed]",
            "text/plain": [
              "<IPython.core.display.Image object>"
            ]
          },
          "metadata": {}
        }
      ]
    },
    {
      "cell_type": "code",
      "source": [
        "# heuristic miner\n",
        "heu_net = pm.discover_heuristics_net(event_log, dependency_threshold=0.99)\n",
        "pm.view_heuristics_net(heu_net)"
      ],
      "metadata": {
        "id": "SXk4_DHFLDpB",
        "outputId": "01a3d9ba-f7fb-4c1f-e17f-3998706af12c",
        "colab": {
          "base_uri": "https://localhost:8080/",
          "height": 656
        }
      },
      "execution_count": 133,
      "outputs": [
        {
          "output_type": "display_data",
          "data": {
            "image/png": "[encoded data removed]",
            "text/plain": [
              "<IPython.core.display.Image object>"
            ]
          },
          "metadata": {}
        }
      ]
    },
    {
      "cell_type": "code",
      "source": [
        "# petri net from heuristics miner\n",
        "net, im, fm = pm.discover_petri_net_heuristics(event_log, dependency_threshold=0.99)\n",
        "pm.view_petri_net(net, im, fm)"
      ],
      "metadata": {
        "id": "EZOGRFF2LHwh",
        "outputId": "fb2cd90f-ef52-4d69-dfd1-9ac27eabd96b",
        "colab": {
          "base_uri": "https://localhost:8080/",
          "height": 110
        }
      },
      "execution_count": 134,
      "outputs": [
        {
          "output_type": "display_data",
          "data": {
            "image/png": "[encoded data removed]",
            "text/plain": [
              "<IPython.core.display.Image object>"
            ]
          },
          "metadata": {}
        }
      ]
    },
    {
      "cell_type": "markdown",
      "source": [
        "##Section 3: Preprocessing Data"
      ],
      "metadata": {
        "id": "c10XPg4ThBDc"
      }
    },
    {
      "cell_type": "code",
      "source": [
        "from pandas.core.window.ewm import partial\n",
        "import random\n",
        "\n",
        "def partial_log(el, n):\n",
        "\n",
        "  # select the first n cases to test the LSTM methodology\n",
        "  # lets first add a trace column to the event_log\n",
        "  el['trace'] = el.groupby(['patient']).ngroup()\n",
        "  el = el[['trace', 'activity', 'timestamp' ]].reset_index(drop=True)\n",
        "  # if n is None, return full event log\n",
        "  if n is None:\n",
        "    return el\n",
        "\n",
        "  # initialise random seed and array of traces\n",
        "  # random.seed(9)\n",
        "  random_traces = []\n",
        "\n",
        "  for i in range(0,n):\n",
        "    random_traces.append(random.randrange(0,n_cases))\n",
        "\n",
        "  partial_el = el[el['trace'].isin(random_traces)]\n",
        "  return partial_el\n"
      ],
      "metadata": {
        "id": "xZKy1dEdhIal"
      },
      "execution_count": 135,
      "outputs": []
    },
    {
      "cell_type": "code",
      "source": [
        "partial_el = partial_log(event_log, NUM_TRACES)\n",
        "partial_el"
      ],
      "metadata": {
        "id": "cqk_MMkrhaNz",
        "outputId": "b4497a75-908a-40b8-a383-6a33047ee86f",
        "colab": {
          "base_uri": "https://localhost:8080/",
          "height": 0
        }
      },
      "execution_count": 136,
      "outputs": [
        {
          "output_type": "execute_result",
          "data": {
            "text/plain": [
              "       trace     activity           timestamp\n",
              "0          0     Admitted 2150-04-17 15:34:00\n",
              "1          0  Entered ICU 2150-04-17 15:35:42\n",
              "2          0     Left ICU 2150-04-19 14:12:52\n",
              "3          0   Discharged 2150-04-21 17:30:00\n",
              "4          1     Admitted 2145-03-31 05:33:00\n",
              "...      ...          ...                 ...\n",
              "61899  15444   Discharged 2188-11-02 12:40:00\n",
              "61900  15445     Admitted 2119-02-18 16:26:00\n",
              "61901  15445  Entered ICU 2119-02-20 10:04:39\n",
              "61902  15445     Left ICU 2119-02-21 11:34:20\n",
              "61903  15445   Discharged 2119-02-24 14:25:00\n",
              "\n",
              "[29550 rows x 3 columns]"
            ],
            "text/html": [
              "\n",
              "  <div id=\"df-f2b8c122-20ae-4c40-9a12-b2e66b30a7ba\">\n",
              "    <div class=\"colab-df-container\">\n",
              "      <div>\n",
              "<style scoped>\n",
              "    .dataframe tbody tr th:only-of-type {\n",
              "        vertical-align: middle;\n",
              "    }\n",
              "\n",
              "    .dataframe tbody tr th {\n",
              "        vertical-align: top;\n",
              "    }\n",
              "\n",
              "    .dataframe thead th {\n",
              "        text-align: right;\n",
              "    }\n",
              "</style>\n",
              "<table border=\"1\" class=\"dataframe\">\n",
              "  <thead>\n",
              "    <tr style=\"text-align: right;\">\n",
              "      <th></th>\n",
              "      <th>trace</th>\n",
              "      <th>activity</th>\n",
              "      <th>timestamp</th>\n",
              "    </tr>\n",
              "  </thead>\n",
              "  <tbody>\n",
              "    <tr>\n",
              "      <th>0</th>\n",
              "      <td>0</td>\n",
              "      <td>Admitted</td>\n",
              "      <td>2150-04-17 15:34:00</td>\n",
              "    </tr>\n",
              "    <tr>\n",
              "      <th>1</th>\n",
              "      <td>0</td>\n",
              "      <td>Entered ICU</td>\n",
              "      <td>2150-04-17 15:35:42</td>\n",
              "    </tr>\n",
              "    <tr>\n",
              "      <th>2</th>\n",
              "      <td>0</td>\n",
              "      <td>Left ICU</td>\n",
              "      <td>2150-04-19 14:12:52</td>\n",
              "    </tr>\n",
              "    <tr>\n",
              "      <th>3</th>\n",
              "      <td>0</td>\n",
              "      <td>Discharged</td>\n",
              "      <td>2150-04-21 17:30:00</td>\n",
              "    </tr>\n",
              "    <tr>\n",
              "      <th>4</th>\n",
              "      <td>1</td>\n",
              "      <td>Admitted</td>\n",
              "      <td>2145-03-31 05:33:00</td>\n",
              "    </tr>\n",
              "    <tr>\n",
              "      <th>...</th>\n",
              "      <td>...</td>\n",
              "      <td>...</td>\n",
              "      <td>...</td>\n",
              "    </tr>\n",
              "    <tr>\n",
              "      <th>61899</th>\n",
              "      <td>15444</td>\n",
              "      <td>Discharged</td>\n",
              "      <td>2188-11-02 12:40:00</td>\n",
              "    </tr>\n",
              "    <tr>\n",
              "      <th>61900</th>\n",
              "      <td>15445</td>\n",
              "      <td>Admitted</td>\n",
              "      <td>2119-02-18 16:26:00</td>\n",
              "    </tr>\n",
              "    <tr>\n",
              "      <th>61901</th>\n",
              "      <td>15445</td>\n",
              "      <td>Entered ICU</td>\n",
              "      <td>2119-02-20 10:04:39</td>\n",
              "    </tr>\n",
              "    <tr>\n",
              "      <th>61902</th>\n",
              "      <td>15445</td>\n",
              "      <td>Left ICU</td>\n",
              "      <td>2119-02-21 11:34:20</td>\n",
              "    </tr>\n",
              "    <tr>\n",
              "      <th>61903</th>\n",
              "      <td>15445</td>\n",
              "      <td>Discharged</td>\n",
              "      <td>2119-02-24 14:25:00</td>\n",
              "    </tr>\n",
              "  </tbody>\n",
              "</table>\n",
              "<p>29550 rows × 3 columns</p>\n",
              "</div>\n",
              "      <button class=\"colab-df-convert\" onclick=\"convertToInteractive('df-f2b8c122-20ae-4c40-9a12-b2e66b30a7ba')\"\n",
              "              title=\"Convert this dataframe to an interactive table.\"\n",
              "              style=\"display:none;\">\n",
              "        \n",
              "  <svg xmlns=\"http://www.w3.org/2000/svg\" height=\"24px\"viewBox=\"0 0 24 24\"\n",
              "       width=\"24px\">\n",
              "    <path d=\"M0 0h24v24H0V0z\" fill=\"none\"/>\n",
              "    <path d=\"M18.56 5.44l.94 2.06.94-2.06 2.06-.94-2.06-.94-.94-2.06-.94 2.06-2.06.94zm-11 1L8.5 8.5l.94-2.06 2.06-.94-2.06-.94L8.5 2.5l-.94 2.06-2.06.94zm10 10l.94 2.06.94-2.06 2.06-.94-2.06-.94-.94-2.06-.94 2.06-2.06.94z\"/><path d=\"M17.41 7.96l-1.37-1.37c-.4-.4-.92-.59-1.43-.59-.52 0-1.04.2-1.43.59L10.3 9.45l-7.72 7.72c-.78.78-.78 2.05 0 2.83L4 21.41c.39.39.9.59 1.41.59.51 0 1.02-.2 1.41-.59l7.78-7.78 2.81-2.81c.8-.78.8-2.07 0-2.86zM5.41 20L4 18.59l7.72-7.72 1.47 1.35L5.41 20z\"/>\n",
              "  </svg>\n",
              "      </button>\n",
              "      \n",
              "  <style>\n",
              "    .colab-df-container {\n",
              "      display:flex;\n",
              "      flex-wrap:wrap;\n",
              "      gap: 12px;\n",
              "    }\n",
              "\n",
              "    .colab-df-convert {\n",
              "      background-color: #E8F0FE;\n",
              "      border: none;\n",
              "      border-radius: 50%;\n",
              "      cursor: pointer;\n",
              "      display: none;\n",
              "      fill: #1967D2;\n",
              "      height: 32px;\n",
              "      padding: 0 0 0 0;\n",
              "      width: 32px;\n",
              "    }\n",
              "\n",
              "    .colab-df-convert:hover {\n",
              "      background-color: #E2EBFA;\n",
              "      box-shadow: 0px 1px 2px rgba(60, 64, 67, 0.3), 0px 1px 3px 1px rgba(60, 64, 67, 0.15);\n",
              "      fill: #174EA6;\n",
              "    }\n",
              "\n",
              "    [theme=dark] .colab-df-convert {\n",
              "      background-color: #3B4455;\n",
              "      fill: #D2E3FC;\n",
              "    }\n",
              "\n",
              "    [theme=dark] .colab-df-convert:hover {\n",
              "      background-color: #434B5C;\n",
              "      box-shadow: 0px 1px 3px 1px rgba(0, 0, 0, 0.15);\n",
              "      filter: drop-shadow(0px 1px 2px rgba(0, 0, 0, 0.3));\n",
              "      fill: #FFFFFF;\n",
              "    }\n",
              "  </style>\n",
              "\n",
              "      <script>\n",
              "        const buttonEl =\n",
              "          document.querySelector('#df-f2b8c122-20ae-4c40-9a12-b2e66b30a7ba button.colab-df-convert');\n",
              "        buttonEl.style.display =\n",
              "          google.colab.kernel.accessAllowed ? 'block' : 'none';\n",
              "\n",
              "        async function convertToInteractive(key) {\n",
              "          const element = document.querySelector('#df-f2b8c122-20ae-4c40-9a12-b2e66b30a7ba');\n",
              "          const dataTable =\n",
              "            await google.colab.kernel.invokeFunction('convertToInteractive',\n",
              "                                                     [key], {});\n",
              "          if (!dataTable) return;\n",
              "\n",
              "          const docLinkHtml = 'Like what you see? Visit the ' +\n",
              "            '<a target=\"_blank\" href=https://colab.research.google.com/notebooks/data_table.ipynb>data table notebook</a>'\n",
              "            + ' to learn more about interactive tables.';\n",
              "          element.innerHTML = '';\n",
              "          dataTable['output_type'] = 'display_data';\n",
              "          await google.colab.output.renderOutput(dataTable, element);\n",
              "          const docLink = document.createElement('div');\n",
              "          docLink.innerHTML = docLinkHtml;\n",
              "          element.appendChild(docLink);\n",
              "        }\n",
              "      </script>\n",
              "    </div>\n",
              "  </div>\n",
              "  "
            ]
          },
          "metadata": {},
          "execution_count": 136
        }
      ]
    },
    {
      "cell_type": "code",
      "source": [
        "# lets represent each activity using a statically defined number\n",
        "# this will prevent the need for using an embedding layer when traing the LSTM\n",
        "unique_activities = partial_el['activity'].unique()\n",
        "n_activities = len(unique_activities) + 1\n",
        "encode_activity = {unique_activities[i-1] : f'{i}' for i in range(1,n_activities)}\n",
        "\n",
        "# lets also create a second dictionary that will be used to decode predicted activities\n",
        "decode_activity = {f'{i}' : unique_activities[i-1] for i in range(1, len(unique_activities)+ 1)}\n",
        "encode_activity, decode_activity"
      ],
      "metadata": {
        "colab": {
          "base_uri": "https://localhost:8080/"
        },
        "id": "S16otFNLY06l",
        "outputId": "825af6ec-6cae-49ea-e0a0-ac49f3604ad6"
      },
      "execution_count": 137,
      "outputs": [
        {
          "output_type": "execute_result",
          "data": {
            "text/plain": [
              "({'Admitted': '1', 'Entered ICU': '2', 'Left ICU': '3', 'Discharged': '4'},\n",
              " {'1': 'Admitted', '2': 'Entered ICU', '3': 'Left ICU', '4': 'Discharged'})"
            ]
          },
          "metadata": {},
          "execution_count": 137
        }
      ]
    },
    {
      "cell_type": "code",
      "source": [
        "from sklearn.model_selection import train_test_split\n",
        "# select train and test traces\n",
        "unique_traces = partial_el['trace'].unique()\n",
        "train_traces, test_traces = train_test_split(unique_traces, test_size=TEST_SIZE, random_state=9)\n",
        "\n",
        "train_el = partial_el.loc[partial_el['trace'].isin(train_traces)]\n",
        "test_el = partial_el.loc[partial_el['trace'].isin(test_traces)]\n",
        "test_el"
      ],
      "metadata": {
        "id": "ZB_RL3cqhqRz",
        "outputId": "9bbaab2f-1ec9-4e9d-b1b6-78194d08e9de",
        "colab": {
          "base_uri": "https://localhost:8080/",
          "height": 0
        }
      },
      "execution_count": 138,
      "outputs": [
        {
          "output_type": "execute_result",
          "data": {
            "text/plain": [
              "       trace     activity           timestamp\n",
              "72        18     Admitted 2118-05-07 00:43:00\n",
              "73        18  Entered ICU 2118-05-07 00:44:53\n",
              "74        18     Left ICU 2118-05-08 21:38:36\n",
              "75        18   Discharged 2118-05-19 15:54:00\n",
              "128       32     Admitted 2200-02-24 19:13:00\n",
              "...      ...          ...                 ...\n",
              "61875  15438   Discharged 2101-09-08 13:30:00\n",
              "61880  15440     Admitted 2201-01-26 07:15:00\n",
              "61881  15440  Entered ICU 2201-01-27 18:12:36\n",
              "61882  15440     Left ICU 2201-01-31 16:48:30\n",
              "61883  15440   Discharged 2201-02-06 12:45:00\n",
              "\n",
              "[5890 rows x 3 columns]"
            ],
            "text/html": [
              "\n",
              "  <div id=\"df-f6522d92-5af4-476b-926a-d6098d21f941\">\n",
              "    <div class=\"colab-df-container\">\n",
              "      <div>\n",
              "<style scoped>\n",
              "    .dataframe tbody tr th:only-of-type {\n",
              "        vertical-align: middle;\n",
              "    }\n",
              "\n",
              "    .dataframe tbody tr th {\n",
              "        vertical-align: top;\n",
              "    }\n",
              "\n",
              "    .dataframe thead th {\n",
              "        text-align: right;\n",
              "    }\n",
              "</style>\n",
              "<table border=\"1\" class=\"dataframe\">\n",
              "  <thead>\n",
              "    <tr style=\"text-align: right;\">\n",
              "      <th></th>\n",
              "      <th>trace</th>\n",
              "      <th>activity</th>\n",
              "      <th>timestamp</th>\n",
              "    </tr>\n",
              "  </thead>\n",
              "  <tbody>\n",
              "    <tr>\n",
              "      <th>72</th>\n",
              "      <td>18</td>\n",
              "      <td>Admitted</td>\n",
              "      <td>2118-05-07 00:43:00</td>\n",
              "    </tr>\n",
              "    <tr>\n",
              "      <th>73</th>\n",
              "      <td>18</td>\n",
              "      <td>Entered ICU</td>\n",
              "      <td>2118-05-07 00:44:53</td>\n",
              "    </tr>\n",
              "    <tr>\n",
              "      <th>74</th>\n",
              "      <td>18</td>\n",
              "      <td>Left ICU</td>\n",
              "      <td>2118-05-08 21:38:36</td>\n",
              "    </tr>\n",
              "    <tr>\n",
              "      <th>75</th>\n",
              "      <td>18</td>\n",
              "      <td>Discharged</td>\n",
              "      <td>2118-05-19 15:54:00</td>\n",
              "    </tr>\n",
              "    <tr>\n",
              "      <th>128</th>\n",
              "      <td>32</td>\n",
              "      <td>Admitted</td>\n",
              "      <td>2200-02-24 19:13:00</td>\n",
              "    </tr>\n",
              "    <tr>\n",
              "      <th>...</th>\n",
              "      <td>...</td>\n",
              "      <td>...</td>\n",
              "      <td>...</td>\n",
              "    </tr>\n",
              "    <tr>\n",
              "      <th>61875</th>\n",
              "      <td>15438</td>\n",
              "      <td>Discharged</td>\n",
              "      <td>2101-09-08 13:30:00</td>\n",
              "    </tr>\n",
              "    <tr>\n",
              "      <th>61880</th>\n",
              "      <td>15440</td>\n",
              "      <td>Admitted</td>\n",
              "      <td>2201-01-26 07:15:00</td>\n",
              "    </tr>\n",
              "    <tr>\n",
              "      <th>61881</th>\n",
              "      <td>15440</td>\n",
              "      <td>Entered ICU</td>\n",
              "      <td>2201-01-27 18:12:36</td>\n",
              "    </tr>\n",
              "    <tr>\n",
              "      <th>61882</th>\n",
              "      <td>15440</td>\n",
              "      <td>Left ICU</td>\n",
              "      <td>2201-01-31 16:48:30</td>\n",
              "    </tr>\n",
              "    <tr>\n",
              "      <th>61883</th>\n",
              "      <td>15440</td>\n",
              "      <td>Discharged</td>\n",
              "      <td>2201-02-06 12:45:00</td>\n",
              "    </tr>\n",
              "  </tbody>\n",
              "</table>\n",
              "<p>5890 rows × 3 columns</p>\n",
              "</div>\n",
              "      <button class=\"colab-df-convert\" onclick=\"convertToInteractive('df-f6522d92-5af4-476b-926a-d6098d21f941')\"\n",
              "              title=\"Convert this dataframe to an interactive table.\"\n",
              "              style=\"display:none;\">\n",
              "        \n",
              "  <svg xmlns=\"http://www.w3.org/2000/svg\" height=\"24px\"viewBox=\"0 0 24 24\"\n",
              "       width=\"24px\">\n",
              "    <path d=\"M0 0h24v24H0V0z\" fill=\"none\"/>\n",
              "    <path d=\"M18.56 5.44l.94 2.06.94-2.06 2.06-.94-2.06-.94-.94-2.06-.94 2.06-2.06.94zm-11 1L8.5 8.5l.94-2.06 2.06-.94-2.06-.94L8.5 2.5l-.94 2.06-2.06.94zm10 10l.94 2.06.94-2.06 2.06-.94-2.06-.94-.94-2.06-.94 2.06-2.06.94z\"/><path d=\"M17.41 7.96l-1.37-1.37c-.4-.4-.92-.59-1.43-.59-.52 0-1.04.2-1.43.59L10.3 9.45l-7.72 7.72c-.78.78-.78 2.05 0 2.83L4 21.41c.39.39.9.59 1.41.59.51 0 1.02-.2 1.41-.59l7.78-7.78 2.81-2.81c.8-.78.8-2.07 0-2.86zM5.41 20L4 18.59l7.72-7.72 1.47 1.35L5.41 20z\"/>\n",
              "  </svg>\n",
              "      </button>\n",
              "      \n",
              "  <style>\n",
              "    .colab-df-container {\n",
              "      display:flex;\n",
              "      flex-wrap:wrap;\n",
              "      gap: 12px;\n",
              "    }\n",
              "\n",
              "    .colab-df-convert {\n",
              "      background-color: #E8F0FE;\n",
              "      border: none;\n",
              "      border-radius: 50%;\n",
              "      cursor: pointer;\n",
              "      display: none;\n",
              "      fill: #1967D2;\n",
              "      height: 32px;\n",
              "      padding: 0 0 0 0;\n",
              "      width: 32px;\n",
              "    }\n",
              "\n",
              "    .colab-df-convert:hover {\n",
              "      background-color: #E2EBFA;\n",
              "      box-shadow: 0px 1px 2px rgba(60, 64, 67, 0.3), 0px 1px 3px 1px rgba(60, 64, 67, 0.15);\n",
              "      fill: #174EA6;\n",
              "    }\n",
              "\n",
              "    [theme=dark] .colab-df-convert {\n",
              "      background-color: #3B4455;\n",
              "      fill: #D2E3FC;\n",
              "    }\n",
              "\n",
              "    [theme=dark] .colab-df-convert:hover {\n",
              "      background-color: #434B5C;\n",
              "      box-shadow: 0px 1px 3px 1px rgba(0, 0, 0, 0.15);\n",
              "      filter: drop-shadow(0px 1px 2px rgba(0, 0, 0, 0.3));\n",
              "      fill: #FFFFFF;\n",
              "    }\n",
              "  </style>\n",
              "\n",
              "      <script>\n",
              "        const buttonEl =\n",
              "          document.querySelector('#df-f6522d92-5af4-476b-926a-d6098d21f941 button.colab-df-convert');\n",
              "        buttonEl.style.display =\n",
              "          google.colab.kernel.accessAllowed ? 'block' : 'none';\n",
              "\n",
              "        async function convertToInteractive(key) {\n",
              "          const element = document.querySelector('#df-f6522d92-5af4-476b-926a-d6098d21f941');\n",
              "          const dataTable =\n",
              "            await google.colab.kernel.invokeFunction('convertToInteractive',\n",
              "                                                     [key], {});\n",
              "          if (!dataTable) return;\n",
              "\n",
              "          const docLinkHtml = 'Like what you see? Visit the ' +\n",
              "            '<a target=\"_blank\" href=https://colab.research.google.com/notebooks/data_table.ipynb>data table notebook</a>'\n",
              "            + ' to learn more about interactive tables.';\n",
              "          element.innerHTML = '';\n",
              "          dataTable['output_type'] = 'display_data';\n",
              "          await google.colab.output.renderOutput(dataTable, element);\n",
              "          const docLink = document.createElement('div');\n",
              "          docLink.innerHTML = docLinkHtml;\n",
              "          element.appendChild(docLink);\n",
              "        }\n",
              "      </script>\n",
              "    </div>\n",
              "  </div>\n",
              "  "
            ]
          },
          "metadata": {},
          "execution_count": 138
        }
      ]
    },
    {
      "cell_type": "code",
      "source": [
        "# find the first timestamp in dataset\n",
        "# start_time = partial_el['timestamp'].min()"
      ],
      "metadata": {
        "id": "lfJB8-x8ePWY"
      },
      "execution_count": 139,
      "outputs": []
    },
    {
      "cell_type": "code",
      "source": [
        "import numpy as np\n",
        "\n",
        "# transform train data into prefix, suffix and label\n",
        "def label_train(el):\n",
        "  prefix_arr, suffix_arr, prefix_times_arr, suffix_times_arr, label_arr, label_times_arr = [], [], [], [], [], []\n",
        "  start_times, end_times = [], []\n",
        "  labeled_arr = []\n",
        "  unique_traces = el['trace'].unique()\n",
        "  \n",
        "  for t in unique_traces:\n",
        "    df = el[:][el.trace == t].sort_values(by='timestamp')\n",
        "    activities, timestamps = [], []\n",
        "\n",
        "    for i in df.index:\n",
        "      activity = encode_activity.get(df['activity'][i])\n",
        "      activities.append(activity)\n",
        "      timestamp = df['timestamp'][i]\n",
        "      # timestamp = (df['timestamp'][i] - start_time).total_seconds() / 10_000_000_000\n",
        "      timestamps.append(timestamp)\n",
        "    \n",
        "    start_time = timestamps[0]\n",
        "    end_time = timestamps[-1]\n",
        "    length = len(activities)\n",
        "    \n",
        "    for i in range(length):\n",
        "      timestamps[i] = (timestamps[i] - start_time).total_seconds() / max_length \n",
        "      # / 3600 / 1000\n",
        "    \n",
        "\n",
        "    for i in range(length):\n",
        "      label = activities[i]\n",
        "      time_label = timestamps[i]\n",
        "      prefix = activities[:i]\n",
        "      prefix_times = timestamps[:i]\n",
        "\n",
        "      suffix = []\n",
        "      suffix_times = []\n",
        "\n",
        "      if i != length - 1:\n",
        "        suffix = activities[i+1:]\n",
        "        suffix_times = timestamps[i+1:]\n",
        "\n",
        "      padding = []\n",
        "\n",
        "      while len(prefix) + len(padding) < PREFIX_LENGTH:\n",
        "        padding.append('0')\n",
        "      \n",
        "      prefix = padding + prefix\n",
        "        \n",
        "      padding = []\n",
        "      \n",
        "      while len(prefix_times) + len(padding) < PREFIX_LENGTH:\n",
        "        padding.append(0.0)\n",
        "      \n",
        "      prefix_times =  padding + prefix_times\n",
        "\n",
        "      while len(suffix) < PREFIX_LENGTH:\n",
        "        suffix.append('0')\n",
        "\n",
        "      while len(suffix_times) < PREFIX_LENGTH:\n",
        "        suffix_times.append(0.0)\n",
        "      \n",
        "      prefix_arr.append(np.array(prefix[0:PREFIX_LENGTH], dtype=int))\n",
        "      suffix_arr.append(np.array(suffix[0:PREFIX_LENGTH], dtype=int))\n",
        "      prefix_times_arr.append(np.array(prefix_times[0:PREFIX_LENGTH]))\n",
        "      suffix_times_arr.append(np.array(suffix_times[0:PREFIX_LENGTH]))\n",
        "      label_arr.append(label)\n",
        "      label_times_arr.append(time_label)\n",
        "      start_times.append(start_time)\n",
        "      end_times.append(end_time)\n",
        "\n",
        "  return pd.DataFrame({'prefix' : prefix_arr, \n",
        "                       'suffix' : suffix_arr,\n",
        "                       'prefix times' : prefix_times_arr,\n",
        "                       'suffix times' : suffix_times_arr,\n",
        "                       'activity label' : label_arr,\n",
        "                       'time label': label_times_arr,\n",
        "                       'start times': start_times,\n",
        "                       'end times': end_times\n",
        "                       })\n",
        "  \n",
        "\n",
        "labeled_train_el = label_train(train_el)\n",
        "labeled_train_el"
      ],
      "metadata": {
        "colab": {
          "base_uri": "https://localhost:8080/",
          "height": 0
        },
        "id": "iLduBudKXWNT",
        "outputId": "0e0dd69a-f88c-4971-ce31-f8158d5c08c6"
      },
      "execution_count": 140,
      "outputs": [
        {
          "output_type": "execute_result",
          "data": {
            "text/plain": [
              "                prefix           suffix  \\\n",
              "0      [0, 0, 0, 0, 0]  [2, 3, 4, 0, 0]   \n",
              "1      [0, 0, 0, 0, 1]  [3, 4, 0, 0, 0]   \n",
              "2      [0, 0, 0, 1, 2]  [4, 0, 0, 0, 0]   \n",
              "3      [0, 0, 1, 2, 3]  [0, 0, 0, 0, 0]   \n",
              "4      [0, 0, 0, 0, 0]  [2, 3, 4, 0, 0]   \n",
              "...                ...              ...   \n",
              "23655  [0, 0, 1, 2, 3]  [0, 0, 0, 0, 0]   \n",
              "23656  [0, 0, 0, 0, 0]  [2, 3, 4, 0, 0]   \n",
              "23657  [0, 0, 0, 0, 1]  [3, 4, 0, 0, 0]   \n",
              "23658  [0, 0, 0, 1, 2]  [4, 0, 0, 0, 0]   \n",
              "23659  [0, 0, 1, 2, 3]  [0, 0, 0, 0, 0]   \n",
              "\n",
              "                                            prefix times  \\\n",
              "0                              [0.0, 0.0, 0.0, 0.0, 0.0]   \n",
              "1                              [0.0, 0.0, 0.0, 0.0, 0.0]   \n",
              "2            [0.0, 0.0, 0.0, 0.0, 6.831150044201559e-05]   \n",
              "3      [0.0, 0.0, 0.0, 6.831150044201559e-05, 0.11246...   \n",
              "4                              [0.0, 0.0, 0.0, 0.0, 0.0]   \n",
              "...                                                  ...   \n",
              "23655  [0.0, 0.0, 0.0, 2.344022073990731e-05, 0.05622...   \n",
              "23656                          [0.0, 0.0, 0.0, 0.0, 0.0]   \n",
              "23657                          [0.0, 0.0, 0.0, 0.0, 0.0]   \n",
              "23658          [0.0, 0.0, 0.0, 0.0, 0.10040384151731897]   \n",
              "23659  [0.0, 0.0, 0.0, 0.10040384151731897, 0.1618714...   \n",
              "\n",
              "                                            suffix times activity label  \\\n",
              "0      [6.831150044201559e-05, 0.11246751855126041, 0...              1   \n",
              "1      [0.11246751855126041, 0.2361166921160492, 0.0,...              2   \n",
              "2               [0.2361166921160492, 0.0, 0.0, 0.0, 0.0]              3   \n",
              "3                              [0.0, 0.0, 0.0, 0.0, 0.0]              4   \n",
              "4      [0.011427442471001099, 0.24866055881486243, 0....              1   \n",
              "...                                                  ...            ...   \n",
              "23655                          [0.0, 0.0, 0.0, 0.0, 0.0]              4   \n",
              "23656  [0.10040384151731897, 0.1618714672238742, 0.34...              1   \n",
              "23657  [0.1618714672238742, 0.3423209836856064, 0.0, ...              2   \n",
              "23658           [0.3423209836856064, 0.0, 0.0, 0.0, 0.0]              3   \n",
              "23659                          [0.0, 0.0, 0.0, 0.0, 0.0]              4   \n",
              "\n",
              "       time label         start times           end times  \n",
              "0        0.000000 2150-04-17 15:34:00 2150-04-21 17:30:00  \n",
              "1        0.000068 2150-04-17 15:34:00 2150-04-21 17:30:00  \n",
              "2        0.112468 2150-04-17 15:34:00 2150-04-21 17:30:00  \n",
              "3        0.236117 2150-04-17 15:34:00 2150-04-21 17:30:00  \n",
              "4        0.000000 2145-03-31 05:33:00 2145-04-07 12:40:00  \n",
              "...           ...                 ...                 ...  \n",
              "23655    0.163345 2188-10-30 16:55:00 2188-11-02 12:40:00  \n",
              "23656    0.000000 2119-02-18 16:26:00 2119-02-24 14:25:00  \n",
              "23657    0.100404 2119-02-18 16:26:00 2119-02-24 14:25:00  \n",
              "23658    0.161871 2119-02-18 16:26:00 2119-02-24 14:25:00  \n",
              "23659    0.342321 2119-02-18 16:26:00 2119-02-24 14:25:00  \n",
              "\n",
              "[23660 rows x 8 columns]"
            ],
            "text/html": [
              "\n",
              "  <div id=\"df-91d15e88-f0aa-47ae-b023-96671e6f6f12\">\n",
              "    <div class=\"colab-df-container\">\n",
              "      <div>\n",
              "<style scoped>\n",
              "    .dataframe tbody tr th:only-of-type {\n",
              "        vertical-align: middle;\n",
              "    }\n",
              "\n",
              "    .dataframe tbody tr th {\n",
              "        vertical-align: top;\n",
              "    }\n",
              "\n",
              "    .dataframe thead th {\n",
              "        text-align: right;\n",
              "    }\n",
              "</style>\n",
              "<table border=\"1\" class=\"dataframe\">\n",
              "  <thead>\n",
              "    <tr style=\"text-align: right;\">\n",
              "      <th></th>\n",
              "      <th>prefix</th>\n",
              "      <th>suffix</th>\n",
              "      <th>prefix times</th>\n",
              "      <th>suffix times</th>\n",
              "      <th>activity label</th>\n",
              "      <th>time label</th>\n",
              "      <th>start times</th>\n",
              "      <th>end times</th>\n",
              "    </tr>\n",
              "  </thead>\n",
              "  <tbody>\n",
              "    <tr>\n",
              "      <th>0</th>\n",
              "      <td>[0, 0, 0, 0, 0]</td>\n",
              "      <td>[2, 3, 4, 0, 0]</td>\n",
              "      <td>[0.0, 0.0, 0.0, 0.0, 0.0]</td>\n",
              "      <td>[6.831150044201559e-05, 0.11246751855126041, 0...</td>\n",
              "      <td>1</td>\n",
              "      <td>0.000000</td>\n",
              "      <td>2150-04-17 15:34:00</td>\n",
              "      <td>2150-04-21 17:30:00</td>\n",
              "    </tr>\n",
              "    <tr>\n",
              "      <th>1</th>\n",
              "      <td>[0, 0, 0, 0, 1]</td>\n",
              "      <td>[3, 4, 0, 0, 0]</td>\n",
              "      <td>[0.0, 0.0, 0.0, 0.0, 0.0]</td>\n",
              "      <td>[0.11246751855126041, 0.2361166921160492, 0.0,...</td>\n",
              "      <td>2</td>\n",
              "      <td>0.000068</td>\n",
              "      <td>2150-04-17 15:34:00</td>\n",
              "      <td>2150-04-21 17:30:00</td>\n",
              "    </tr>\n",
              "    <tr>\n",
              "      <th>2</th>\n",
              "      <td>[0, 0, 0, 1, 2]</td>\n",
              "      <td>[4, 0, 0, 0, 0]</td>\n",
              "      <td>[0.0, 0.0, 0.0, 0.0, 6.831150044201559e-05]</td>\n",
              "      <td>[0.2361166921160492, 0.0, 0.0, 0.0, 0.0]</td>\n",
              "      <td>3</td>\n",
              "      <td>0.112468</td>\n",
              "      <td>2150-04-17 15:34:00</td>\n",
              "      <td>2150-04-21 17:30:00</td>\n",
              "    </tr>\n",
              "    <tr>\n",
              "      <th>3</th>\n",
              "      <td>[0, 0, 1, 2, 3]</td>\n",
              "      <td>[0, 0, 0, 0, 0]</td>\n",
              "      <td>[0.0, 0.0, 0.0, 6.831150044201559e-05, 0.11246...</td>\n",
              "      <td>[0.0, 0.0, 0.0, 0.0, 0.0]</td>\n",
              "      <td>4</td>\n",
              "      <td>0.236117</td>\n",
              "      <td>2150-04-17 15:34:00</td>\n",
              "      <td>2150-04-21 17:30:00</td>\n",
              "    </tr>\n",
              "    <tr>\n",
              "      <th>4</th>\n",
              "      <td>[0, 0, 0, 0, 0]</td>\n",
              "      <td>[2, 3, 4, 0, 0]</td>\n",
              "      <td>[0.0, 0.0, 0.0, 0.0, 0.0]</td>\n",
              "      <td>[0.011427442471001099, 0.24866055881486243, 0....</td>\n",
              "      <td>1</td>\n",
              "      <td>0.000000</td>\n",
              "      <td>2145-03-31 05:33:00</td>\n",
              "      <td>2145-04-07 12:40:00</td>\n",
              "    </tr>\n",
              "    <tr>\n",
              "      <th>...</th>\n",
              "      <td>...</td>\n",
              "      <td>...</td>\n",
              "      <td>...</td>\n",
              "      <td>...</td>\n",
              "      <td>...</td>\n",
              "      <td>...</td>\n",
              "      <td>...</td>\n",
              "      <td>...</td>\n",
              "    </tr>\n",
              "    <tr>\n",
              "      <th>23655</th>\n",
              "      <td>[0, 0, 1, 2, 3]</td>\n",
              "      <td>[0, 0, 0, 0, 0]</td>\n",
              "      <td>[0.0, 0.0, 0.0, 2.344022073990731e-05, 0.05622...</td>\n",
              "      <td>[0.0, 0.0, 0.0, 0.0, 0.0]</td>\n",
              "      <td>4</td>\n",
              "      <td>0.163345</td>\n",
              "      <td>2188-10-30 16:55:00</td>\n",
              "      <td>2188-11-02 12:40:00</td>\n",
              "    </tr>\n",
              "    <tr>\n",
              "      <th>23656</th>\n",
              "      <td>[0, 0, 0, 0, 0]</td>\n",
              "      <td>[2, 3, 4, 0, 0]</td>\n",
              "      <td>[0.0, 0.0, 0.0, 0.0, 0.0]</td>\n",
              "      <td>[0.10040384151731897, 0.1618714672238742, 0.34...</td>\n",
              "      <td>1</td>\n",
              "      <td>0.000000</td>\n",
              "      <td>2119-02-18 16:26:00</td>\n",
              "      <td>2119-02-24 14:25:00</td>\n",
              "    </tr>\n",
              "    <tr>\n",
              "      <th>23657</th>\n",
              "      <td>[0, 0, 0, 0, 1]</td>\n",
              "      <td>[3, 4, 0, 0, 0]</td>\n",
              "      <td>[0.0, 0.0, 0.0, 0.0, 0.0]</td>\n",
              "      <td>[0.1618714672238742, 0.3423209836856064, 0.0, ...</td>\n",
              "      <td>2</td>\n",
              "      <td>0.100404</td>\n",
              "      <td>2119-02-18 16:26:00</td>\n",
              "      <td>2119-02-24 14:25:00</td>\n",
              "    </tr>\n",
              "    <tr>\n",
              "      <th>23658</th>\n",
              "      <td>[0, 0, 0, 1, 2]</td>\n",
              "      <td>[4, 0, 0, 0, 0]</td>\n",
              "      <td>[0.0, 0.0, 0.0, 0.0, 0.10040384151731897]</td>\n",
              "      <td>[0.3423209836856064, 0.0, 0.0, 0.0, 0.0]</td>\n",
              "      <td>3</td>\n",
              "      <td>0.161871</td>\n",
              "      <td>2119-02-18 16:26:00</td>\n",
              "      <td>2119-02-24 14:25:00</td>\n",
              "    </tr>\n",
              "    <tr>\n",
              "      <th>23659</th>\n",
              "      <td>[0, 0, 1, 2, 3]</td>\n",
              "      <td>[0, 0, 0, 0, 0]</td>\n",
              "      <td>[0.0, 0.0, 0.0, 0.10040384151731897, 0.1618714...</td>\n",
              "      <td>[0.0, 0.0, 0.0, 0.0, 0.0]</td>\n",
              "      <td>4</td>\n",
              "      <td>0.342321</td>\n",
              "      <td>2119-02-18 16:26:00</td>\n",
              "      <td>2119-02-24 14:25:00</td>\n",
              "    </tr>\n",
              "  </tbody>\n",
              "</table>\n",
              "<p>23660 rows × 8 columns</p>\n",
              "</div>\n",
              "      <button class=\"colab-df-convert\" onclick=\"convertToInteractive('df-91d15e88-f0aa-47ae-b023-96671e6f6f12')\"\n",
              "              title=\"Convert this dataframe to an interactive table.\"\n",
              "              style=\"display:none;\">\n",
              "        \n",
              "  <svg xmlns=\"http://www.w3.org/2000/svg\" height=\"24px\"viewBox=\"0 0 24 24\"\n",
              "       width=\"24px\">\n",
              "    <path d=\"M0 0h24v24H0V0z\" fill=\"none\"/>\n",
              "    <path d=\"M18.56 5.44l.94 2.06.94-2.06 2.06-.94-2.06-.94-.94-2.06-.94 2.06-2.06.94zm-11 1L8.5 8.5l.94-2.06 2.06-.94-2.06-.94L8.5 2.5l-.94 2.06-2.06.94zm10 10l.94 2.06.94-2.06 2.06-.94-2.06-.94-.94-2.06-.94 2.06-2.06.94z\"/><path d=\"M17.41 7.96l-1.37-1.37c-.4-.4-.92-.59-1.43-.59-.52 0-1.04.2-1.43.59L10.3 9.45l-7.72 7.72c-.78.78-.78 2.05 0 2.83L4 21.41c.39.39.9.59 1.41.59.51 0 1.02-.2 1.41-.59l7.78-7.78 2.81-2.81c.8-.78.8-2.07 0-2.86zM5.41 20L4 18.59l7.72-7.72 1.47 1.35L5.41 20z\"/>\n",
              "  </svg>\n",
              "      </button>\n",
              "      \n",
              "  <style>\n",
              "    .colab-df-container {\n",
              "      display:flex;\n",
              "      flex-wrap:wrap;\n",
              "      gap: 12px;\n",
              "    }\n",
              "\n",
              "    .colab-df-convert {\n",
              "      background-color: #E8F0FE;\n",
              "      border: none;\n",
              "      border-radius: 50%;\n",
              "      cursor: pointer;\n",
              "      display: none;\n",
              "      fill: #1967D2;\n",
              "      height: 32px;\n",
              "      padding: 0 0 0 0;\n",
              "      width: 32px;\n",
              "    }\n",
              "\n",
              "    .colab-df-convert:hover {\n",
              "      background-color: #E2EBFA;\n",
              "      box-shadow: 0px 1px 2px rgba(60, 64, 67, 0.3), 0px 1px 3px 1px rgba(60, 64, 67, 0.15);\n",
              "      fill: #174EA6;\n",
              "    }\n",
              "\n",
              "    [theme=dark] .colab-df-convert {\n",
              "      background-color: #3B4455;\n",
              "      fill: #D2E3FC;\n",
              "    }\n",
              "\n",
              "    [theme=dark] .colab-df-convert:hover {\n",
              "      background-color: #434B5C;\n",
              "      box-shadow: 0px 1px 3px 1px rgba(0, 0, 0, 0.15);\n",
              "      filter: drop-shadow(0px 1px 2px rgba(0, 0, 0, 0.3));\n",
              "      fill: #FFFFFF;\n",
              "    }\n",
              "  </style>\n",
              "\n",
              "      <script>\n",
              "        const buttonEl =\n",
              "          document.querySelector('#df-91d15e88-f0aa-47ae-b023-96671e6f6f12 button.colab-df-convert');\n",
              "        buttonEl.style.display =\n",
              "          google.colab.kernel.accessAllowed ? 'block' : 'none';\n",
              "\n",
              "        async function convertToInteractive(key) {\n",
              "          const element = document.querySelector('#df-91d15e88-f0aa-47ae-b023-96671e6f6f12');\n",
              "          const dataTable =\n",
              "            await google.colab.kernel.invokeFunction('convertToInteractive',\n",
              "                                                     [key], {});\n",
              "          if (!dataTable) return;\n",
              "\n",
              "          const docLinkHtml = 'Like what you see? Visit the ' +\n",
              "            '<a target=\"_blank\" href=https://colab.research.google.com/notebooks/data_table.ipynb>data table notebook</a>'\n",
              "            + ' to learn more about interactive tables.';\n",
              "          element.innerHTML = '';\n",
              "          dataTable['output_type'] = 'display_data';\n",
              "          await google.colab.output.renderOutput(dataTable, element);\n",
              "          const docLink = document.createElement('div');\n",
              "          docLink.innerHTML = docLinkHtml;\n",
              "          element.appendChild(docLink);\n",
              "        }\n",
              "      </script>\n",
              "    </div>\n",
              "  </div>\n",
              "  "
            ]
          },
          "metadata": {},
          "execution_count": 140
        }
      ]
    },
    {
      "cell_type": "code",
      "source": [
        "labeled_train_el['time label'].max()"
      ],
      "metadata": {
        "colab": {
          "base_uri": "https://localhost:8080/"
        },
        "id": "LsqCjA5PsMGd",
        "outputId": "4a2cd98f-72f1-4513-f7f9-c17d3f5dbf0a"
      },
      "execution_count": 141,
      "outputs": [
        {
          "output_type": "execute_result",
          "data": {
            "text/plain": [
              "0.999357068231134"
            ]
          },
          "metadata": {},
          "execution_count": 141
        }
      ]
    },
    {
      "cell_type": "code",
      "source": [
        "labeled_train_el, validation_el = train_test_split(labeled_train_el, test_size=VALIDATION_SIZE, random_state=9)"
      ],
      "metadata": {
        "id": "l-bYZPLwZcl3"
      },
      "execution_count": 142,
      "outputs": []
    },
    {
      "cell_type": "code",
      "source": [
        "def format_input(el):\n",
        "  prefix_x = np.array(el['prefix'])\n",
        "  prefix_x = np.stack(prefix_x)\n",
        "  prefix_x = prefix_x.reshape(prefix_x.shape[0], prefix_x.shape[1], 1)\n",
        "  \n",
        "  suffix_x = np.array(el['suffix'])\n",
        "  suffix_x = np.stack(suffix_x)\n",
        "  suffix_x = suffix_x.reshape(suffix_x.shape[0], suffix_x.shape[1], 1)\n",
        "\n",
        "  start_times = np.array(el['start times'])\n",
        "\n",
        "  prefix_t = np.array(el['prefix times'])\n",
        "  suffix_t = np.array(el['suffix times'])\n",
        "\n",
        "   \n",
        "  prefix_t = np.stack(prefix_t)\n",
        "  prefix_t = prefix_t.reshape(prefix_t.shape[0], prefix_t.shape[1], 1)\n",
        "\n",
        "  suffix_t = np.stack(suffix_t)\n",
        "  suffix_t = suffix_t.reshape(suffix_t.shape[0], suffix_t.shape[1], 1)\n",
        "\n",
        "  x = np.concatenate(([prefix_x], [suffix_x], [prefix_t], [suffix_t]))\n",
        "\n",
        "  y = np.array(el['time label'])\n",
        "  y = np.stack(y)\n",
        "\n",
        "  return x, y, start_times"
      ],
      "metadata": {
        "id": "WF5l1Nm8Zh5Z"
      },
      "execution_count": 143,
      "outputs": []
    },
    {
      "cell_type": "code",
      "source": [
        "train_x, train_y, _ = format_input(labeled_train_el)\n",
        "validation_x, validation_y, _ = format_input(validation_el)\n",
        "# validation_x"
      ],
      "metadata": {
        "id": "G5Id6edeemp8"
      },
      "execution_count": 144,
      "outputs": []
    },
    {
      "cell_type": "code",
      "source": [
        "from copy import deepcopy\n",
        "\n",
        "def random_remove(el):\n",
        "  unique_traces_test = el['trace'].unique()\n",
        "  traces = {x : pd.DataFrame() for x in unique_traces_test}\n",
        "  df = pd.DataFrame(columns=['trace', 'activity', 'timestamp'])\n",
        "  random.seed = (9)\n",
        "  targets = []\n",
        "\n",
        "  for t in unique_traces_test:\n",
        "    traces[t] = deepcopy(test_el[:][test_el.trace == t])\n",
        "    trace_df = traces[t].sort_values(by='timestamp')\n",
        "    rand_index = random.randrange(1,len(trace_df.index))\n",
        "    targets.append(trace_df.iat[rand_index,2])\n",
        "    trace_df.iat[rand_index, 2] = np.nan\n",
        "    df = pd.concat([df, trace_df])\n",
        "\n",
        "  return df, targets"
      ],
      "metadata": {
        "id": "aw2gXPwQ5BpM"
      },
      "execution_count": 145,
      "outputs": []
    },
    {
      "cell_type": "code",
      "source": [
        "test_x, test_y = random_remove(test_el)\n",
        "test_x"
      ],
      "metadata": {
        "colab": {
          "base_uri": "https://localhost:8080/",
          "height": 0
        },
        "id": "myjROhrWcnV0",
        "outputId": "a3e12312-1fba-48e7-c67e-d540baef99fe"
      },
      "execution_count": 146,
      "outputs": [
        {
          "output_type": "execute_result",
          "data": {
            "text/plain": [
              "       trace     activity           timestamp\n",
              "72        18     Admitted 2118-05-07 00:43:00\n",
              "73        18  Entered ICU                 NaT\n",
              "74        18     Left ICU 2118-05-08 21:38:36\n",
              "75        18   Discharged 2118-05-19 15:54:00\n",
              "128       32     Admitted 2200-02-24 19:13:00\n",
              "...      ...          ...                 ...\n",
              "61875  15438   Discharged 2101-09-08 13:30:00\n",
              "61880  15440     Admitted 2201-01-26 07:15:00\n",
              "61881  15440  Entered ICU 2201-01-27 18:12:36\n",
              "61882  15440     Left ICU 2201-01-31 16:48:30\n",
              "61883  15440   Discharged                 NaT\n",
              "\n",
              "[5890 rows x 3 columns]"
            ],
            "text/html": [
              "\n",
              "  <div id=\"df-21d0eb52-893f-41eb-9a77-e2cefb0dc4ac\">\n",
              "    <div class=\"colab-df-container\">\n",
              "      <div>\n",
              "<style scoped>\n",
              "    .dataframe tbody tr th:only-of-type {\n",
              "        vertical-align: middle;\n",
              "    }\n",
              "\n",
              "    .dataframe tbody tr th {\n",
              "        vertical-align: top;\n",
              "    }\n",
              "\n",
              "    .dataframe thead th {\n",
              "        text-align: right;\n",
              "    }\n",
              "</style>\n",
              "<table border=\"1\" class=\"dataframe\">\n",
              "  <thead>\n",
              "    <tr style=\"text-align: right;\">\n",
              "      <th></th>\n",
              "      <th>trace</th>\n",
              "      <th>activity</th>\n",
              "      <th>timestamp</th>\n",
              "    </tr>\n",
              "  </thead>\n",
              "  <tbody>\n",
              "    <tr>\n",
              "      <th>72</th>\n",
              "      <td>18</td>\n",
              "      <td>Admitted</td>\n",
              "      <td>2118-05-07 00:43:00</td>\n",
              "    </tr>\n",
              "    <tr>\n",
              "      <th>73</th>\n",
              "      <td>18</td>\n",
              "      <td>Entered ICU</td>\n",
              "      <td>NaT</td>\n",
              "    </tr>\n",
              "    <tr>\n",
              "      <th>74</th>\n",
              "      <td>18</td>\n",
              "      <td>Left ICU</td>\n",
              "      <td>2118-05-08 21:38:36</td>\n",
              "    </tr>\n",
              "    <tr>\n",
              "      <th>75</th>\n",
              "      <td>18</td>\n",
              "      <td>Discharged</td>\n",
              "      <td>2118-05-19 15:54:00</td>\n",
              "    </tr>\n",
              "    <tr>\n",
              "      <th>128</th>\n",
              "      <td>32</td>\n",
              "      <td>Admitted</td>\n",
              "      <td>2200-02-24 19:13:00</td>\n",
              "    </tr>\n",
              "    <tr>\n",
              "      <th>...</th>\n",
              "      <td>...</td>\n",
              "      <td>...</td>\n",
              "      <td>...</td>\n",
              "    </tr>\n",
              "    <tr>\n",
              "      <th>61875</th>\n",
              "      <td>15438</td>\n",
              "      <td>Discharged</td>\n",
              "      <td>2101-09-08 13:30:00</td>\n",
              "    </tr>\n",
              "    <tr>\n",
              "      <th>61880</th>\n",
              "      <td>15440</td>\n",
              "      <td>Admitted</td>\n",
              "      <td>2201-01-26 07:15:00</td>\n",
              "    </tr>\n",
              "    <tr>\n",
              "      <th>61881</th>\n",
              "      <td>15440</td>\n",
              "      <td>Entered ICU</td>\n",
              "      <td>2201-01-27 18:12:36</td>\n",
              "    </tr>\n",
              "    <tr>\n",
              "      <th>61882</th>\n",
              "      <td>15440</td>\n",
              "      <td>Left ICU</td>\n",
              "      <td>2201-01-31 16:48:30</td>\n",
              "    </tr>\n",
              "    <tr>\n",
              "      <th>61883</th>\n",
              "      <td>15440</td>\n",
              "      <td>Discharged</td>\n",
              "      <td>NaT</td>\n",
              "    </tr>\n",
              "  </tbody>\n",
              "</table>\n",
              "<p>5890 rows × 3 columns</p>\n",
              "</div>\n",
              "      <button class=\"colab-df-convert\" onclick=\"convertToInteractive('df-21d0eb52-893f-41eb-9a77-e2cefb0dc4ac')\"\n",
              "              title=\"Convert this dataframe to an interactive table.\"\n",
              "              style=\"display:none;\">\n",
              "        \n",
              "  <svg xmlns=\"http://www.w3.org/2000/svg\" height=\"24px\"viewBox=\"0 0 24 24\"\n",
              "       width=\"24px\">\n",
              "    <path d=\"M0 0h24v24H0V0z\" fill=\"none\"/>\n",
              "    <path d=\"M18.56 5.44l.94 2.06.94-2.06 2.06-.94-2.06-.94-.94-2.06-.94 2.06-2.06.94zm-11 1L8.5 8.5l.94-2.06 2.06-.94-2.06-.94L8.5 2.5l-.94 2.06-2.06.94zm10 10l.94 2.06.94-2.06 2.06-.94-2.06-.94-.94-2.06-.94 2.06-2.06.94z\"/><path d=\"M17.41 7.96l-1.37-1.37c-.4-.4-.92-.59-1.43-.59-.52 0-1.04.2-1.43.59L10.3 9.45l-7.72 7.72c-.78.78-.78 2.05 0 2.83L4 21.41c.39.39.9.59 1.41.59.51 0 1.02-.2 1.41-.59l7.78-7.78 2.81-2.81c.8-.78.8-2.07 0-2.86zM5.41 20L4 18.59l7.72-7.72 1.47 1.35L5.41 20z\"/>\n",
              "  </svg>\n",
              "      </button>\n",
              "      \n",
              "  <style>\n",
              "    .colab-df-container {\n",
              "      display:flex;\n",
              "      flex-wrap:wrap;\n",
              "      gap: 12px;\n",
              "    }\n",
              "\n",
              "    .colab-df-convert {\n",
              "      background-color: #E8F0FE;\n",
              "      border: none;\n",
              "      border-radius: 50%;\n",
              "      cursor: pointer;\n",
              "      display: none;\n",
              "      fill: #1967D2;\n",
              "      height: 32px;\n",
              "      padding: 0 0 0 0;\n",
              "      width: 32px;\n",
              "    }\n",
              "\n",
              "    .colab-df-convert:hover {\n",
              "      background-color: #E2EBFA;\n",
              "      box-shadow: 0px 1px 2px rgba(60, 64, 67, 0.3), 0px 1px 3px 1px rgba(60, 64, 67, 0.15);\n",
              "      fill: #174EA6;\n",
              "    }\n",
              "\n",
              "    [theme=dark] .colab-df-convert {\n",
              "      background-color: #3B4455;\n",
              "      fill: #D2E3FC;\n",
              "    }\n",
              "\n",
              "    [theme=dark] .colab-df-convert:hover {\n",
              "      background-color: #434B5C;\n",
              "      box-shadow: 0px 1px 3px 1px rgba(0, 0, 0, 0.15);\n",
              "      filter: drop-shadow(0px 1px 2px rgba(0, 0, 0, 0.3));\n",
              "      fill: #FFFFFF;\n",
              "    }\n",
              "  </style>\n",
              "\n",
              "      <script>\n",
              "        const buttonEl =\n",
              "          document.querySelector('#df-21d0eb52-893f-41eb-9a77-e2cefb0dc4ac button.colab-df-convert');\n",
              "        buttonEl.style.display =\n",
              "          google.colab.kernel.accessAllowed ? 'block' : 'none';\n",
              "\n",
              "        async function convertToInteractive(key) {\n",
              "          const element = document.querySelector('#df-21d0eb52-893f-41eb-9a77-e2cefb0dc4ac');\n",
              "          const dataTable =\n",
              "            await google.colab.kernel.invokeFunction('convertToInteractive',\n",
              "                                                     [key], {});\n",
              "          if (!dataTable) return;\n",
              "\n",
              "          const docLinkHtml = 'Like what you see? Visit the ' +\n",
              "            '<a target=\"_blank\" href=https://colab.research.google.com/notebooks/data_table.ipynb>data table notebook</a>'\n",
              "            + ' to learn more about interactive tables.';\n",
              "          element.innerHTML = '';\n",
              "          dataTable['output_type'] = 'display_data';\n",
              "          await google.colab.output.renderOutput(dataTable, element);\n",
              "          const docLink = document.createElement('div');\n",
              "          docLink.innerHTML = docLinkHtml;\n",
              "          element.appendChild(docLink);\n",
              "        }\n",
              "      </script>\n",
              "    </div>\n",
              "  </div>\n",
              "  "
            ]
          },
          "metadata": {},
          "execution_count": 146
        }
      ]
    },
    {
      "cell_type": "markdown",
      "source": [
        "##Section 4: Predicting the correct sequence order"
      ],
      "metadata": {
        "id": "CHgmNtQSii_2"
      }
    },
    {
      "cell_type": "markdown",
      "source": [
        "###4.1 Creating process model using training set"
      ],
      "metadata": {
        "id": "VhAgmEJFjtl_"
      }
    },
    {
      "cell_type": "code",
      "source": [
        "# format train event log as pm4py event log\n",
        "train_log = pm.format_dataframe(train_el, case_id='trace', activity_key='activity', timestamp_key='timestamp')\n",
        "# petri net from heuristics miner\n",
        "heuristic_net, heuristic_im, heuristic_fm = pm.discover_petri_net_heuristics(train_log)\n",
        "pm.view_petri_net(heuristic_net, heuristic_im, heuristic_fm)"
      ],
      "metadata": {
        "colab": {
          "base_uri": "https://localhost:8080/",
          "height": 0
        },
        "id": "9JBvFAoztWov",
        "outputId": "178ff074-ebb3-45c1-f57c-f807bcde49e2"
      },
      "execution_count": 147,
      "outputs": [
        {
          "output_type": "stream",
          "name": "stderr",
          "text": [
            "<ipython-input-147-fa2d3316df74>:2: DeprecatedWarning: format_dataframe is deprecated as of 2.3.0 and will be removed in 3.0.0. the format_dataframe function does not need application anymore.\n",
            "  train_log = pm.format_dataframe(train_el, case_id='trace', activity_key='activity', timestamp_key='timestamp')\n",
            "/usr/local/lib/python3.9/dist-packages/pm4py/utils.py:75: SettingWithCopyWarning: \n",
            "A value is trying to be set on a copy of a slice from a DataFrame.\n",
            "Try using .loc[row_indexer,col_indexer] = value instead\n",
            "\n",
            "See the caveats in the documentation: https://pandas.pydata.org/pandas-docs/stable/user_guide/indexing.html#returning-a-view-versus-a-copy\n",
            "  df[constants.CASE_CONCEPT_NAME] = df[case_id]\n",
            "/usr/local/lib/python3.9/dist-packages/pm4py/utils.py:79: SettingWithCopyWarning: \n",
            "A value is trying to be set on a copy of a slice from a DataFrame.\n",
            "Try using .loc[row_indexer,col_indexer] = value instead\n",
            "\n",
            "See the caveats in the documentation: https://pandas.pydata.org/pandas-docs/stable/user_guide/indexing.html#returning-a-view-versus-a-copy\n",
            "  df[xes_constants.DEFAULT_NAME_KEY] = df[activity_key]\n",
            "/usr/local/lib/python3.9/dist-packages/pm4py/utils.py:83: SettingWithCopyWarning: \n",
            "A value is trying to be set on a copy of a slice from a DataFrame.\n",
            "Try using .loc[row_indexer,col_indexer] = value instead\n",
            "\n",
            "See the caveats in the documentation: https://pandas.pydata.org/pandas-docs/stable/user_guide/indexing.html#returning-a-view-versus-a-copy\n",
            "  df[xes_constants.DEFAULT_TIMESTAMP_KEY] = df[timestamp_key]\n"
          ]
        },
        {
          "output_type": "display_data",
          "data": {
            "image/png": "[encoded data removed]",
            "text/plain": [
              "<IPython.core.display.Image object>"
            ]
          },
          "metadata": {}
        }
      ]
    },
    {
      "cell_type": "code",
      "source": [
        "inductive_net, inductive_im, inductive_fm = pm.discover_petri_net_inductive(train_log)\n",
        "pm.view_petri_net(petri_net=inductive_net)"
      ],
      "metadata": {
        "id": "ZsoRG_eOtXPK",
        "colab": {
          "base_uri": "https://localhost:8080/",
          "height": 0
        },
        "outputId": "edf37e42-98ca-4fda-ff31-aab6531badfb"
      },
      "execution_count": 148,
      "outputs": [
        {
          "output_type": "display_data",
          "data": {
            "image/png": "[encoded data removed]",
            "text/plain": [
              "<IPython.core.display.Image object>"
            ]
          },
          "metadata": {}
        }
      ]
    },
    {
      "cell_type": "code",
      "source": [
        "alpha_net, alpha_im, alpha_fm = pm.discover_petri_net_alpha_plus(train_log)\n",
        "pm.view_petri_net(petri_net=alpha_net)"
      ],
      "metadata": {
        "colab": {
          "base_uri": "https://localhost:8080/",
          "height": 0
        },
        "id": "24dB3K991MGa",
        "outputId": "a5d77cc7-57d3-400c-d5c2-653589e35f91"
      },
      "execution_count": 149,
      "outputs": [
        {
          "output_type": "stream",
          "name": "stderr",
          "text": [
            "<ipython-input-149-1ff381e6b524>:1: DeprecatedWarning: discover_petri_net_alpha_plus is deprecated as of 2.3.0 and will be removed in 3.0.0. this method will be removed in a future release.\n",
            "  alpha_net, alpha_im, alpha_fm = pm.discover_petri_net_alpha_plus(train_log)\n"
          ]
        },
        {
          "output_type": "display_data",
          "data": {
            "image/png": "[encoded data removed]",
            "text/plain": [
              "<IPython.core.display.Image object>"
            ]
          },
          "metadata": {}
        }
      ]
    },
    {
      "cell_type": "markdown",
      "source": [
        "###4.2"
      ],
      "metadata": {
        "id": "898qyZ_ojy3l"
      }
    },
    {
      "cell_type": "code",
      "source": [
        "def replay_trace(el, pn, im, fm):\n",
        "  # log = pm.format_dataframe(el, case_id='trace', activity_key='activity', timestamp_key='timestamp')\n",
        "  replay_result_token = pm.fitness_token_based_replay(el, pn, im, fm, case_id_key='trace', activity_key='activity', timestamp_key='timestamp')\n",
        "  replay_result_alignments = pm.fitness_alignments(el, pn, im, fm, case_id_key='trace', activity_key='activity', timestamp_key='timestamp')\n",
        "  # print(replay_result_alignments)\n",
        "  return replay_result_token['average_trace_fitness'], replay_result_alignments['average_trace_fitness']"
      ],
      "metadata": {
        "id": "kxcCEUnoyaKg"
      },
      "execution_count": 150,
      "outputs": []
    },
    {
      "cell_type": "code",
      "source": [
        "def generate_traces(sequence, missing, trace, pn, im, fm):\n",
        "    timestamps = sequence['timestamp'].tolist()\n",
        "    if missing.iat[0,1] == 'Admitted':\n",
        "      return pd.concat([missing,sequence], ignore_index=True), pd.concat([missing,sequence], ignore_index=True) \n",
        "    if missing.iat[0,1] == 'Discharged':\n",
        "      return pd.concat([sequence,missing], ignore_index=True), pd.concat([sequence,missing], ignore_index=True)\n",
        "     \n",
        "    trace_length = len(timestamps) -1\n",
        "    best_fitness_token = 0\n",
        "    best_fitness_alignments = 0\n",
        "    best_trace_token = None\n",
        "    best_trace_alignments = None\n",
        "\n",
        "    for i in range(1,trace_length+1):\n",
        "\n",
        "      df = pd.concat([sequence.head(i), missing, sequence.tail(trace_length-i+1)], ignore_index=True)\n",
        "      inputed_df = deepcopy(df)\n",
        "      previous_timestamp = inputed_df.iat[i-1,2]\n",
        "      next_timestamp = inputed_df.iat[i+1,2]\n",
        "      inputed_timestamp = previous_timestamp + (next_timestamp-previous_timestamp)/2 \n",
        "      inputed_df.iat[i,2] = inputed_timestamp\n",
        "      # print(inputed_df)\n",
        "      fitness_token, fitness_alignments = replay_trace(inputed_df, pn, im, fm)\n",
        "\n",
        "      # fitness = 1\n",
        "      if fitness_token > best_fitness_token:\n",
        "        best_fitness_token = fitness_token\n",
        "        best_trace_token = df\n",
        "      \n",
        "      if fitness_alignments > best_fitness_alignments:\n",
        "        best_fitness_alignments = fitness_alignments\n",
        "        best_trace_alignments = df\n",
        "\n",
        "\n",
        "    return best_trace_token, best_trace_alignments\n"
      ],
      "metadata": {
        "id": "3QwgE2INhV1d"
      },
      "execution_count": 151,
      "outputs": []
    },
    {
      "cell_type": "code",
      "source": [
        "def predict_sequences(el, pn, im, fm):\n",
        "  df_token = pd.DataFrame(columns=['trace','activity','timestamp'])\n",
        "  df_alignments = pd.DataFrame(columns=['trace','activity','timestamp'])\n",
        "\n",
        "  unique_traces = el['trace'].unique()\n",
        "\n",
        "  for t in unique_traces:\n",
        "    trace_df = el[:][test_el.trace == t]\n",
        "    sequence = trace_df.loc[trace_df['timestamp'].notna()]\n",
        "    missing = trace_df.loc[trace_df['timestamp'].isna()]\n",
        "    # print(t)\n",
        "    predicted_trace = generate_traces(sequence, missing, t, pn, im, fm)\n",
        "    df_token = pd.concat([df_token,predicted_trace[0]], ignore_index=True)\n",
        "    df_alignments = pd.concat([df_alignments, predicted_trace[1]], ignore_index=True)\n",
        "\n",
        "  return df_token, df_alignments\n",
        "\n"
      ],
      "metadata": {
        "id": "XIDNk1Kli3JM"
      },
      "execution_count": 152,
      "outputs": []
    },
    {
      "cell_type": "code",
      "source": [
        "alpha_sequences_token, alpha_sequences_alignments = predict_sequences(test_x, alpha_net, alpha_im, alpha_fm)\n",
        "heuristic_sequences_token, heuristic_sequences_alignments = predict_sequences(test_x, heuristic_net, heuristic_im, heuristic_fm)\n",
        "inductive_sequences_token, inductive_sequences_alignments = predict_sequences(test_x, inductive_net, inductive_im, inductive_fm)"
      ],
      "metadata": {
        "id": "tcvX3ct79QT9"
      },
      "execution_count": 153,
      "outputs": []
    },
    {
      "cell_type": "markdown",
      "source": [
        "###4.3 evaluate sequence prediction"
      ],
      "metadata": {
        "id": "BNIAn_cQ2NPX"
      }
    },
    {
      "cell_type": "code",
      "source": [
        "def evaluate_sequences(predicted, targets):\n",
        "  correct, incorrect, error = 0, 0, 0\n",
        "  unique_traces = targets['trace'].unique()\n",
        "  \n",
        "  for trace in unique_traces:\n",
        "    t = targets[:][targets.trace == trace]\n",
        "    target = t.index[t['timestamp'].isnull()][0]\n",
        "    p = predicted[:][predicted.trace == trace]\n",
        "    prediction = p.index[p['timestamp'].isnull()][0]\n",
        "    \n",
        "    if prediction == target:\n",
        "      correct += 1\n",
        "    else:\n",
        "      incorrect += 1\n",
        "      error += (prediction - target)**2\n",
        "    \n",
        "\n",
        "  accuracy = correct / (correct + incorrect)\n",
        "  rmse = (error / len(unique_traces)) ** 0.5\n",
        "\n",
        "  return accuracy, rmse\n",
        "\n",
        "\n",
        "print(f\"Heuristic token based replay: {evaluate_sequences(test_x.reset_index(), heuristic_sequences_token.reset_index())}\")\n",
        "print(f\"Inductive token based replay: {evaluate_sequences(test_x.reset_index(), inductive_sequences_token.reset_index())}\")\n",
        "print(f\"Alpha token based replay: {evaluate_sequences(test_x.reset_index(), alpha_sequences_token.reset_index())}\")\n",
        "\n",
        "print(f\"Heuristic alignments: {evaluate_sequences(test_x.reset_index(), heuristic_sequences_alignments.reset_index())}\")\n",
        "print(f\"Inductive alignments: {evaluate_sequences(test_x.reset_index(), inductive_sequences_alignments.reset_index())}\")\n",
        "print(f\"Alpha alignments: {evaluate_sequences(test_x.reset_index(), alpha_sequences_alignments.reset_index())}\")\n",
        "\n",
        "\n",
        "\n"
      ],
      "metadata": {
        "colab": {
          "base_uri": "https://localhost:8080/"
        },
        "id": "RBZfdgbp2cRv",
        "outputId": "c616e893-6836-41e5-ff0b-840307bdd087"
      },
      "execution_count": 154,
      "outputs": [
        {
          "output_type": "stream",
          "name": "stdout",
          "text": [
            "Heuristic token based replay: (0.9959349593495935, 0.12751534261266767)\n",
            "Inductive token based replay: (1.0, 0.0)\n",
            "Alpha token based replay: (1.0, 0.0)\n",
            "Heuristic alignments: (0.9830623306233063, 0.3155843721336013)\n",
            "Inductive alignments: (1.0, 0.0)\n",
            "Alpha alignments: (1.0, 0.0)\n"
          ]
        }
      ]
    },
    {
      "cell_type": "markdown",
      "source": [
        "###4.4 Finish pre-processing test data"
      ],
      "metadata": {
        "id": "2zE4Ifig2jD2"
      }
    },
    {
      "cell_type": "code",
      "source": [
        "def label_test(el):\n",
        "  prefix_arr, suffix_arr, prefix_times_arr, suffix_times_arr, label_arr, label_times_arr = [], [], [], [], [], []\n",
        "  start_times, end_times = [], []\n",
        "  labeled_arr = []\n",
        "  unique_traces = el['trace'].unique()\n",
        "\n",
        "  for t in unique_traces:\n",
        "    df = el[:][el.trace == t]\n",
        "    activities, timestamps = [], []\n",
        "\n",
        "    for i in df.index:\n",
        "      activity = encode_activity.get(df['activity'][i])\n",
        "      activities.append(activity)\n",
        "\n",
        "      timestamp = df['timestamp'][i]\n",
        "      # if pd.isnull(timestamp):\n",
        "      timestamp =  df['timestamp'][i]\n",
        "      timestamps.append(timestamp)\n",
        "    \n",
        "    # print(timestamps)\n",
        "\n",
        "    length = len(timestamps)\n",
        "    \n",
        "    start_time = pd.NaT\n",
        "    end_time = pd.NaT\n",
        "\n",
        "    if not pd.isnull(timestamps[0]):\n",
        "      start_time = timestamps[0]\n",
        "      for i in range(length):\n",
        "        if not pd.isnull(timestamps[i]):\n",
        "          timestamps[i] = (timestamps[i] - start_time).total_seconds() / max_length  \n",
        "          # / 3600 / 1000\n",
        "\n",
        "    order = 0\n",
        "    for i in range(length):\n",
        "      if pd.isnull(timestamps[i]):\n",
        "        order = i\n",
        "        break\n",
        "\n",
        "    # print(order)\n",
        "\n",
        "    label = activities[order]\n",
        "    time_label = timestamps[order]\n",
        "    prefix = activities[:order]\n",
        "    prefix_times = timestamps[:order]\n",
        "\n",
        "    # print(prefix_times)\n",
        "\n",
        "    suffix, suffix_times = [], []\n",
        "\n",
        "    if i != length - 1:\n",
        "      suffix = activities[i+1:]\n",
        "      suffix_times = timestamps[i+1:]\n",
        "\n",
        "    padding = []\n",
        "\n",
        "    while len(prefix) + len(padding) < PREFIX_LENGTH:\n",
        "      padding.append('0')\n",
        "    \n",
        "    prefix = padding + prefix\n",
        "      \n",
        "    padding = []\n",
        "    \n",
        "    while len(prefix_times) + len(padding) < PREFIX_LENGTH:\n",
        "      padding.append(0.0)\n",
        "    \n",
        "    prefix_times =  padding + prefix_times\n",
        "\n",
        "    while len(suffix) < PREFIX_LENGTH:\n",
        "      suffix.append('0')\n",
        "\n",
        "    while len(suffix_times) < PREFIX_LENGTH:\n",
        "      suffix_times.append(0.0)\n",
        "\n",
        "    # f = '%Y-%d-%m %H:%M:%S'\n",
        "    # for i in range(PREFIX_LENGTH):\n",
        "    #   try:\n",
        "    #     prefix_times[i] = pd.to_datetime(prefix_times[i], format=f).value\n",
        "    #     # suffix_times[i] = pd.to_datetime(suffix_times[i], format=f).value\n",
        "    #   except ValueError:\n",
        "    #     continue\n",
        "\n",
        "    # for i in range(PREFIX_LENGTH):\n",
        "    #   try:\n",
        "    #     # prefix_times[i] = pd.to_datetime(prefix_times[i], format=f).value\n",
        "    #     suffix_times[i] = pd.to_datetime(suffix_times[i], format=f).value\n",
        "    #   except ValueError:\n",
        "    #     continue\n",
        "\n",
        "    prefix_arr.append(np.array(prefix[0:PREFIX_LENGTH], dtype=int))\n",
        "    suffix_arr.append(np.array(suffix[0:PREFIX_LENGTH], dtype=int))\n",
        "    prefix_times_arr.append(np.array(prefix_times[:PREFIX_LENGTH], dtype=np.double))\n",
        "    suffix_times_arr.append(np.array(suffix_times[:PREFIX_LENGTH], dtype=np.double))\n",
        "    label_arr.append(label)\n",
        "    label_times_arr.append(time_label)\n",
        "    start_times.append(start_time)\n",
        "    end_times.append(end_time)\n",
        "\n",
        "  return pd.DataFrame({'prefix' : prefix_arr, \n",
        "                       'suffix' : suffix_arr,\n",
        "                       'prefix times' : prefix_times_arr,\n",
        "                       'suffix times' : suffix_times_arr,\n",
        "                       'activity label' : label_arr,\n",
        "                       'time label': label_times_arr,\n",
        "                       'start times': start_times,\n",
        "                       'end times': end_times})\n"
      ],
      "metadata": {
        "id": "nuX1AP8SDtC9"
      },
      "execution_count": 155,
      "outputs": []
    },
    {
      "cell_type": "code",
      "source": [
        "labeled_test = label_test(heuristic_sequences_token)\n",
        "test_x, _, test_start_times = format_input(labeled_test)\n",
        "labeled_test"
      ],
      "metadata": {
        "id": "JVx9Ff9Jkb-D",
        "colab": {
          "base_uri": "https://localhost:8080/",
          "height": 0
        },
        "outputId": "43d04ab9-0e78-498b-d6c2-d71910dbbb14"
      },
      "execution_count": 156,
      "outputs": [
        {
          "output_type": "execute_result",
          "data": {
            "text/plain": [
              "               prefix           suffix  \\\n",
              "0     [0, 0, 0, 0, 1]  [3, 4, 0, 0, 0]   \n",
              "1     [0, 0, 0, 1, 2]  [4, 0, 0, 0, 0]   \n",
              "2     [0, 0, 0, 1, 2]  [4, 0, 0, 0, 0]   \n",
              "3     [0, 0, 0, 1, 2]  [4, 0, 0, 0, 0]   \n",
              "4     [0, 0, 0, 0, 1]  [3, 4, 0, 0, 0]   \n",
              "...               ...              ...   \n",
              "1471  [0, 0, 1, 2, 3]  [0, 0, 0, 0, 0]   \n",
              "1472  [0, 0, 0, 0, 1]  [3, 4, 0, 0, 0]   \n",
              "1473  [0, 0, 0, 1, 2]  [4, 0, 0, 0, 0]   \n",
              "1474  [0, 0, 0, 1, 2]  [4, 0, 0, 0, 0]   \n",
              "1475  [0, 0, 1, 2, 3]  [0, 0, 0, 0, 0]   \n",
              "\n",
              "                                           prefix times  \\\n",
              "0                             [0.0, 0.0, 0.0, 0.0, 0.0]   \n",
              "1             [0.0, 0.0, 0.0, 0.0, 0.09659380106619518]   \n",
              "2          [0.0, 0.0, 0.0, 0.0, 3.3486029628439016e-05]   \n",
              "3            [0.0, 0.0, 0.0, 0.0, 5.42473679980712e-05]   \n",
              "4                             [0.0, 0.0, 0.0, 0.0, 0.0]   \n",
              "...                                                 ...   \n",
              "1471  [0.0, 0.0, 0.0, 6.76417798494468e-05, 0.190498...   \n",
              "1472                          [0.0, 0.0, 0.0, 0.0, 0.0]   \n",
              "1473        [0.0, 0.0, 0.0, 0.0, 4.219239733183316e-05]   \n",
              "1474         [0.0, 0.0, 0.0, 0.0, 0.054242010233330654]   \n",
              "1475  [0.0, 0.0, 0.0, 0.08428835489833642, 0.3123643...   \n",
              "\n",
              "                                           suffix times activity label  \\\n",
              "0     [0.10831792975970425, 0.7309732379651209, 0.0,...              2   \n",
              "1             [0.45981676444587316, 0.0, 0.0, 0.0, 0.0]              3   \n",
              "2             [0.15964799485654585, 0.0, 0.0, 0.0, 0.0]              3   \n",
              "3             [0.42694687776259743, 0.0, 0.0, 0.0, 0.0]              3   \n",
              "4     [0.1598100672399475, 0.8596399582094351, 0.0, ...              2   \n",
              "...                                                 ...            ...   \n",
              "1471                          [0.0, 0.0, 0.0, 0.0, 0.0]              4   \n",
              "1472  [0.4708926036057757, 0.7519488869243751, 0.0, ...              2   \n",
              "1473          [0.18303463794904765, 0.0, 0.0, 0.0, 0.0]              3   \n",
              "1474           [0.9180663827051354, 0.0, 0.0, 0.0, 0.0]              3   \n",
              "1475                          [0.0, 0.0, 0.0, 0.0, 0.0]              4   \n",
              "\n",
              "     time label         start times end times  \n",
              "0           NaT 2118-05-07 00:43:00       NaT  \n",
              "1           NaT 2200-02-24 19:13:00       NaT  \n",
              "2           NaT 2196-07-26 23:45:00       NaT  \n",
              "3           NaT 2155-07-22 02:25:00       NaT  \n",
              "4           NaT 2103-02-19 23:07:00       NaT  \n",
              "...         ...                 ...       ...  \n",
              "1471        NaT 2201-05-21 15:11:00       NaT  \n",
              "1472        NaT 2185-12-07 17:07:00       NaT  \n",
              "1473        NaT 2196-05-10 12:35:00       NaT  \n",
              "1474        NaT 2101-08-23 16:43:00       NaT  \n",
              "1475        NaT 2201-01-26 07:15:00       NaT  \n",
              "\n",
              "[1476 rows x 8 columns]"
            ],
            "text/html": [
              "\n",
              "  <div id=\"df-27aaa476-cd56-4125-b25e-47d081a3f429\">\n",
              "    <div class=\"colab-df-container\">\n",
              "      <div>\n",
              "<style scoped>\n",
              "    .dataframe tbody tr th:only-of-type {\n",
              "        vertical-align: middle;\n",
              "    }\n",
              "\n",
              "    .dataframe tbody tr th {\n",
              "        vertical-align: top;\n",
              "    }\n",
              "\n",
              "    .dataframe thead th {\n",
              "        text-align: right;\n",
              "    }\n",
              "</style>\n",
              "<table border=\"1\" class=\"dataframe\">\n",
              "  <thead>\n",
              "    <tr style=\"text-align: right;\">\n",
              "      <th></th>\n",
              "      <th>prefix</th>\n",
              "      <th>suffix</th>\n",
              "      <th>prefix times</th>\n",
              "      <th>suffix times</th>\n",
              "      <th>activity label</th>\n",
              "      <th>time label</th>\n",
              "      <th>start times</th>\n",
              "      <th>end times</th>\n",
              "    </tr>\n",
              "  </thead>\n",
              "  <tbody>\n",
              "    <tr>\n",
              "      <th>0</th>\n",
              "      <td>[0, 0, 0, 0, 1]</td>\n",
              "      <td>[3, 4, 0, 0, 0]</td>\n",
              "      <td>[0.0, 0.0, 0.0, 0.0, 0.0]</td>\n",
              "      <td>[0.10831792975970425, 0.7309732379651209, 0.0,...</td>\n",
              "      <td>2</td>\n",
              "      <td>NaT</td>\n",
              "      <td>2118-05-07 00:43:00</td>\n",
              "      <td>NaT</td>\n",
              "    </tr>\n",
              "    <tr>\n",
              "      <th>1</th>\n",
              "      <td>[0, 0, 0, 1, 2]</td>\n",
              "      <td>[4, 0, 0, 0, 0]</td>\n",
              "      <td>[0.0, 0.0, 0.0, 0.0, 0.09659380106619518]</td>\n",
              "      <td>[0.45981676444587316, 0.0, 0.0, 0.0, 0.0]</td>\n",
              "      <td>3</td>\n",
              "      <td>NaT</td>\n",
              "      <td>2200-02-24 19:13:00</td>\n",
              "      <td>NaT</td>\n",
              "    </tr>\n",
              "    <tr>\n",
              "      <th>2</th>\n",
              "      <td>[0, 0, 0, 1, 2]</td>\n",
              "      <td>[4, 0, 0, 0, 0]</td>\n",
              "      <td>[0.0, 0.0, 0.0, 0.0, 3.3486029628439016e-05]</td>\n",
              "      <td>[0.15964799485654585, 0.0, 0.0, 0.0, 0.0]</td>\n",
              "      <td>3</td>\n",
              "      <td>NaT</td>\n",
              "      <td>2196-07-26 23:45:00</td>\n",
              "      <td>NaT</td>\n",
              "    </tr>\n",
              "    <tr>\n",
              "      <th>3</th>\n",
              "      <td>[0, 0, 0, 1, 2]</td>\n",
              "      <td>[4, 0, 0, 0, 0]</td>\n",
              "      <td>[0.0, 0.0, 0.0, 0.0, 5.42473679980712e-05]</td>\n",
              "      <td>[0.42694687776259743, 0.0, 0.0, 0.0, 0.0]</td>\n",
              "      <td>3</td>\n",
              "      <td>NaT</td>\n",
              "      <td>2155-07-22 02:25:00</td>\n",
              "      <td>NaT</td>\n",
              "    </tr>\n",
              "    <tr>\n",
              "      <th>4</th>\n",
              "      <td>[0, 0, 0, 0, 1]</td>\n",
              "      <td>[3, 4, 0, 0, 0]</td>\n",
              "      <td>[0.0, 0.0, 0.0, 0.0, 0.0]</td>\n",
              "      <td>[0.1598100672399475, 0.8596399582094351, 0.0, ...</td>\n",
              "      <td>2</td>\n",
              "      <td>NaT</td>\n",
              "      <td>2103-02-19 23:07:00</td>\n",
              "      <td>NaT</td>\n",
              "    </tr>\n",
              "    <tr>\n",
              "      <th>...</th>\n",
              "      <td>...</td>\n",
              "      <td>...</td>\n",
              "      <td>...</td>\n",
              "      <td>...</td>\n",
              "      <td>...</td>\n",
              "      <td>...</td>\n",
              "      <td>...</td>\n",
              "      <td>...</td>\n",
              "    </tr>\n",
              "    <tr>\n",
              "      <th>1471</th>\n",
              "      <td>[0, 0, 1, 2, 3]</td>\n",
              "      <td>[0, 0, 0, 0, 0]</td>\n",
              "      <td>[0.0, 0.0, 0.0, 6.76417798494468e-05, 0.190498...</td>\n",
              "      <td>[0.0, 0.0, 0.0, 0.0, 0.0]</td>\n",
              "      <td>4</td>\n",
              "      <td>NaT</td>\n",
              "      <td>2201-05-21 15:11:00</td>\n",
              "      <td>NaT</td>\n",
              "    </tr>\n",
              "    <tr>\n",
              "      <th>1472</th>\n",
              "      <td>[0, 0, 0, 0, 1]</td>\n",
              "      <td>[3, 4, 0, 0, 0]</td>\n",
              "      <td>[0.0, 0.0, 0.0, 0.0, 0.0]</td>\n",
              "      <td>[0.4708926036057757, 0.7519488869243751, 0.0, ...</td>\n",
              "      <td>2</td>\n",
              "      <td>NaT</td>\n",
              "      <td>2185-12-07 17:07:00</td>\n",
              "      <td>NaT</td>\n",
              "    </tr>\n",
              "    <tr>\n",
              "      <th>1473</th>\n",
              "      <td>[0, 0, 0, 1, 2]</td>\n",
              "      <td>[4, 0, 0, 0, 0]</td>\n",
              "      <td>[0.0, 0.0, 0.0, 0.0, 4.219239733183316e-05]</td>\n",
              "      <td>[0.18303463794904765, 0.0, 0.0, 0.0, 0.0]</td>\n",
              "      <td>3</td>\n",
              "      <td>NaT</td>\n",
              "      <td>2196-05-10 12:35:00</td>\n",
              "      <td>NaT</td>\n",
              "    </tr>\n",
              "    <tr>\n",
              "      <th>1474</th>\n",
              "      <td>[0, 0, 0, 1, 2]</td>\n",
              "      <td>[4, 0, 0, 0, 0]</td>\n",
              "      <td>[0.0, 0.0, 0.0, 0.0, 0.054242010233330654]</td>\n",
              "      <td>[0.9180663827051354, 0.0, 0.0, 0.0, 0.0]</td>\n",
              "      <td>3</td>\n",
              "      <td>NaT</td>\n",
              "      <td>2101-08-23 16:43:00</td>\n",
              "      <td>NaT</td>\n",
              "    </tr>\n",
              "    <tr>\n",
              "      <th>1475</th>\n",
              "      <td>[0, 0, 1, 2, 3]</td>\n",
              "      <td>[0, 0, 0, 0, 0]</td>\n",
              "      <td>[0.0, 0.0, 0.0, 0.08428835489833642, 0.3123643...</td>\n",
              "      <td>[0.0, 0.0, 0.0, 0.0, 0.0]</td>\n",
              "      <td>4</td>\n",
              "      <td>NaT</td>\n",
              "      <td>2201-01-26 07:15:00</td>\n",
              "      <td>NaT</td>\n",
              "    </tr>\n",
              "  </tbody>\n",
              "</table>\n",
              "<p>1476 rows × 8 columns</p>\n",
              "</div>\n",
              "      <button class=\"colab-df-convert\" onclick=\"convertToInteractive('df-27aaa476-cd56-4125-b25e-47d081a3f429')\"\n",
              "              title=\"Convert this dataframe to an interactive table.\"\n",
              "              style=\"display:none;\">\n",
              "        \n",
              "  <svg xmlns=\"http://www.w3.org/2000/svg\" height=\"24px\"viewBox=\"0 0 24 24\"\n",
              "       width=\"24px\">\n",
              "    <path d=\"M0 0h24v24H0V0z\" fill=\"none\"/>\n",
              "    <path d=\"M18.56 5.44l.94 2.06.94-2.06 2.06-.94-2.06-.94-.94-2.06-.94 2.06-2.06.94zm-11 1L8.5 8.5l.94-2.06 2.06-.94-2.06-.94L8.5 2.5l-.94 2.06-2.06.94zm10 10l.94 2.06.94-2.06 2.06-.94-2.06-.94-.94-2.06-.94 2.06-2.06.94z\"/><path d=\"M17.41 7.96l-1.37-1.37c-.4-.4-.92-.59-1.43-.59-.52 0-1.04.2-1.43.59L10.3 9.45l-7.72 7.72c-.78.78-.78 2.05 0 2.83L4 21.41c.39.39.9.59 1.41.59.51 0 1.02-.2 1.41-.59l7.78-7.78 2.81-2.81c.8-.78.8-2.07 0-2.86zM5.41 20L4 18.59l7.72-7.72 1.47 1.35L5.41 20z\"/>\n",
              "  </svg>\n",
              "      </button>\n",
              "      \n",
              "  <style>\n",
              "    .colab-df-container {\n",
              "      display:flex;\n",
              "      flex-wrap:wrap;\n",
              "      gap: 12px;\n",
              "    }\n",
              "\n",
              "    .colab-df-convert {\n",
              "      background-color: #E8F0FE;\n",
              "      border: none;\n",
              "      border-radius: 50%;\n",
              "      cursor: pointer;\n",
              "      display: none;\n",
              "      fill: #1967D2;\n",
              "      height: 32px;\n",
              "      padding: 0 0 0 0;\n",
              "      width: 32px;\n",
              "    }\n",
              "\n",
              "    .colab-df-convert:hover {\n",
              "      background-color: #E2EBFA;\n",
              "      box-shadow: 0px 1px 2px rgba(60, 64, 67, 0.3), 0px 1px 3px 1px rgba(60, 64, 67, 0.15);\n",
              "      fill: #174EA6;\n",
              "    }\n",
              "\n",
              "    [theme=dark] .colab-df-convert {\n",
              "      background-color: #3B4455;\n",
              "      fill: #D2E3FC;\n",
              "    }\n",
              "\n",
              "    [theme=dark] .colab-df-convert:hover {\n",
              "      background-color: #434B5C;\n",
              "      box-shadow: 0px 1px 3px 1px rgba(0, 0, 0, 0.15);\n",
              "      filter: drop-shadow(0px 1px 2px rgba(0, 0, 0, 0.3));\n",
              "      fill: #FFFFFF;\n",
              "    }\n",
              "  </style>\n",
              "\n",
              "      <script>\n",
              "        const buttonEl =\n",
              "          document.querySelector('#df-27aaa476-cd56-4125-b25e-47d081a3f429 button.colab-df-convert');\n",
              "        buttonEl.style.display =\n",
              "          google.colab.kernel.accessAllowed ? 'block' : 'none';\n",
              "\n",
              "        async function convertToInteractive(key) {\n",
              "          const element = document.querySelector('#df-27aaa476-cd56-4125-b25e-47d081a3f429');\n",
              "          const dataTable =\n",
              "            await google.colab.kernel.invokeFunction('convertToInteractive',\n",
              "                                                     [key], {});\n",
              "          if (!dataTable) return;\n",
              "\n",
              "          const docLinkHtml = 'Like what you see? Visit the ' +\n",
              "            '<a target=\"_blank\" href=https://colab.research.google.com/notebooks/data_table.ipynb>data table notebook</a>'\n",
              "            + ' to learn more about interactive tables.';\n",
              "          element.innerHTML = '';\n",
              "          dataTable['output_type'] = 'display_data';\n",
              "          await google.colab.output.renderOutput(dataTable, element);\n",
              "          const docLink = document.createElement('div');\n",
              "          docLink.innerHTML = docLinkHtml;\n",
              "          element.appendChild(docLink);\n",
              "        }\n",
              "      </script>\n",
              "    </div>\n",
              "  </div>\n",
              "  "
            ]
          },
          "metadata": {},
          "execution_count": 156
        }
      ]
    },
    {
      "cell_type": "code",
      "source": [
        "test_start_times"
      ],
      "metadata": {
        "colab": {
          "base_uri": "https://localhost:8080/"
        },
        "id": "iTRO2JYJyLq7",
        "outputId": "50cc36ac-8ccb-4b7b-9280-0f47602c117d"
      },
      "execution_count": 157,
      "outputs": [
        {
          "output_type": "execute_result",
          "data": {
            "text/plain": [
              "array(['2118-05-07T00:43:00.000000000', '2200-02-24T19:13:00.000000000',\n",
              "       '2196-07-26T23:45:00.000000000', ...,\n",
              "       '2196-05-10T12:35:00.000000000', '2101-08-23T16:43:00.000000000',\n",
              "       '2201-01-26T07:15:00.000000000'], dtype='datetime64[ns]')"
            ]
          },
          "metadata": {},
          "execution_count": 157
        }
      ]
    },
    {
      "cell_type": "markdown",
      "source": [
        "##Section 5: Naiive timestamp imputation method"
      ],
      "metadata": {
        "id": "OKfnF1bd_nO5"
      }
    },
    {
      "cell_type": "code",
      "source": [
        "# calculate mean time delta for discharge and admission\n",
        "def admission_discharge_delta(el):\n",
        "  discharge_delta, admission_delta = 0, 0\n",
        "  unique_traces = el['trace'].unique()\n",
        "  n = len(unique_traces)\n",
        "\n",
        "  for t in unique_traces:\n",
        "    df = el[:][el.trace == t]\n",
        "    timestamps = [], []\n",
        "\n",
        "    for i in df.index:\n",
        "      timestamp = (df['timestamp'][i]).total_seconds()\n",
        "      timestamps.append(timestamp)\n",
        "    \n",
        "    admission_delta += timestamps[1] - timestamps[0]\n",
        "    discharge_delta += timestamps[-1] - timestamps[-2]\n",
        "\n",
        "  mean_admission_delta = admission_delta/n\n",
        "  mean_discharge_delta = discharge_delta/n\n",
        "\n",
        "\n",
        "  # return \n",
        "\n",
        "  \n",
        "\n",
        "\n",
        "admission_discharge_delta(train_x)"
      ],
      "metadata": {
        "id": "pnClausIwflV",
        "colab": {
          "base_uri": "https://localhost:8080/",
          "height": 321
        },
        "outputId": "6320686a-be6e-4047-fc90-58bceed88203"
      },
      "execution_count": 43,
      "outputs": [
        {
          "output_type": "error",
          "ename": "IndexError",
          "evalue": "ignored",
          "traceback": [
            "\u001b[0;31m---------------------------------------------------------------------------\u001b[0m",
            "\u001b[0;31mIndexError\u001b[0m                                Traceback (most recent call last)",
            "\u001b[0;32m<ipython-input-43-8b9507c21729>\u001b[0m in \u001b[0;36m<cell line: 27>\u001b[0;34m()\u001b[0m\n\u001b[1;32m     25\u001b[0m \u001b[0;34m\u001b[0m\u001b[0m\n\u001b[1;32m     26\u001b[0m \u001b[0;34m\u001b[0m\u001b[0m\n\u001b[0;32m---> 27\u001b[0;31m \u001b[0madmission_discharge_delta\u001b[0m\u001b[0;34m(\u001b[0m\u001b[0mtrain_x\u001b[0m\u001b[0;34m)\u001b[0m\u001b[0;34m\u001b[0m\u001b[0;34m\u001b[0m\u001b[0m\n\u001b[0m",
            "\u001b[0;32m<ipython-input-43-8b9507c21729>\u001b[0m in \u001b[0;36madmission_discharge_delta\u001b[0;34m(el)\u001b[0m\n\u001b[1;32m      2\u001b[0m \u001b[0;32mdef\u001b[0m \u001b[0madmission_discharge_delta\u001b[0m\u001b[0;34m(\u001b[0m\u001b[0mel\u001b[0m\u001b[0;34m)\u001b[0m\u001b[0;34m:\u001b[0m\u001b[0;34m\u001b[0m\u001b[0;34m\u001b[0m\u001b[0m\n\u001b[1;32m      3\u001b[0m   \u001b[0mdischarge_delta\u001b[0m\u001b[0;34m,\u001b[0m \u001b[0madmission_delta\u001b[0m \u001b[0;34m=\u001b[0m \u001b[0;36m0\u001b[0m\u001b[0;34m,\u001b[0m \u001b[0;36m0\u001b[0m\u001b[0;34m\u001b[0m\u001b[0;34m\u001b[0m\u001b[0m\n\u001b[0;32m----> 4\u001b[0;31m   \u001b[0munique_traces\u001b[0m \u001b[0;34m=\u001b[0m \u001b[0mel\u001b[0m\u001b[0;34m[\u001b[0m\u001b[0;34m'trace'\u001b[0m\u001b[0;34m]\u001b[0m\u001b[0;34m.\u001b[0m\u001b[0munique\u001b[0m\u001b[0;34m(\u001b[0m\u001b[0;34m)\u001b[0m\u001b[0;34m\u001b[0m\u001b[0;34m\u001b[0m\u001b[0m\n\u001b[0m\u001b[1;32m      5\u001b[0m   \u001b[0mn\u001b[0m \u001b[0;34m=\u001b[0m \u001b[0mlen\u001b[0m\u001b[0;34m(\u001b[0m\u001b[0munique_traces\u001b[0m\u001b[0;34m)\u001b[0m\u001b[0;34m\u001b[0m\u001b[0;34m\u001b[0m\u001b[0m\n\u001b[1;32m      6\u001b[0m \u001b[0;34m\u001b[0m\u001b[0m\n",
            "\u001b[0;31mIndexError\u001b[0m: only integers, slices (`:`), ellipsis (`...`), numpy.newaxis (`None`) and integer or boolean arrays are valid indices"
          ]
        }
      ]
    },
    {
      "cell_type": "code",
      "source": [
        "def naiive(p, s):\n",
        "  predictions = []\n",
        "  for i in range(len(p)):\n",
        "    # print(i,':')\n",
        "    # print(p[i][-1])\n",
        "    # print(start_time + pd.to_timedelta(p[i][-1] * 10_000_000_000, unit='s'))\n",
        "    # print(s[i][0])\n",
        "    # print(start_time + pd.to_timedelta(s[i][0] * 10_000_000_000, unit='s'))\n",
        "\n",
        "    if p[i][-1] != 0.0 and s[i][0] != 0:\n",
        "      prediction = p[i][-1] + (s[i][0] - p[i][-1])/2\n",
        "      seconds = test_start_times[i] + pd.to_timedelta(prediction * max_length, unit='s')\n",
        "      predictions.append(seconds)\n",
        "    else:\n",
        "      predictions.append(-1)\n",
        "\n",
        "  return predictions\n",
        "    \n",
        "naiive_predictions = naiive(test_x[2], test_x[3])"
      ],
      "metadata": {
        "id": "WkThQzTwGa-O"
      },
      "execution_count": 158,
      "outputs": []
    },
    {
      "cell_type": "code",
      "source": [
        "# def evaluate"
      ],
      "metadata": {
        "id": "Zzw2Mk9Zm9Al"
      },
      "execution_count": null,
      "outputs": []
    },
    {
      "cell_type": "markdown",
      "source": [
        "## Section 6: Predicting timestamp using LSTM "
      ],
      "metadata": {
        "id": "fAXPa0BGfVFz"
      }
    },
    {
      "cell_type": "code",
      "source": [
        "from keras.layers import Dropout, Input, Bidirectional, LSTM, average, Dense, concatenate\n",
        "from keras import Model\n",
        "\n",
        "prefix_events_input = Input(shape=(PREFIX_LENGTH, 1), name='prefix_events_input')\n",
        "suffix_events_input = Input(shape=(PREFIX_LENGTH, 1), name='suffix_events_input')\n",
        "\n",
        "prefix_times_input = Input(shape=(PREFIX_LENGTH, 1), name='prefix_times_input')\n",
        "suffix_times_input = Input(shape=(PREFIX_LENGTH, 1), name='suffix_times_input')\n",
        "\n",
        "lstm_layer = LSTM(96)\n",
        "\n",
        "prefix_events_lstm = Bidirectional(lstm_layer, name='prefix_events_lstm')(prefix_events_input)\n",
        "suffix_events_lstm = Bidirectional(lstm_layer, name='suffix_events_lstm')(suffix_events_input)\n",
        "prefix_times_lstm = Bidirectional(lstm_layer, name='prefix_times_lstm')(prefix_times_input)\n",
        "suffix_times_lstm = Bidirectional(lstm_layer, name='suffix_times_lstm')(suffix_times_input)\n",
        "\n",
        "\n",
        "dropout_prefix_events = Dropout(0)(prefix_events_lstm)\n",
        "dropout_suffix_events = Dropout(0)(suffix_events_lstm)\n",
        "dropout_prefix_times = Dropout(0)(prefix_times_lstm)\n",
        "dropout_suffix_times = Dropout(0)(suffix_times_lstm)\n",
        "\n",
        "\n",
        "merged = concatenate([dropout_prefix_events, dropout_suffix_events, dropout_prefix_times, dropout_suffix_times], name='merged')\n",
        "# merged = concatenate([dropout_prefix_times, dropout_suffix_times], name='merged')\n",
        "\n",
        "\n",
        "output = Dense(1, name='output')(merged)\n",
        "\n",
        "best_model = Model(\n",
        "    inputs=[prefix_events_input, suffix_events_input, prefix_times_input, suffix_times_input],\n",
        "    # inputs=[prefix_times_input, suffix_times_input],\n",
        "\n",
        "    outputs=output)\n",
        "best_model.compile(loss='mse', optimizer='adam', metrics=['mse'])\n",
        "best_model.summary()\n",
        "best_model.fit(\n",
        "    (train_x[0], train_x[1], train_x[2], train_x[3]),\n",
        "    # (train_x[2], train_x[3]),\n",
        "    train_y,\n",
        "    validation_data=((validation_x[0], validation_x[1], validation_x[2], validation_x[3]),\n",
        "    # validation_data=((validation_x[2], validation_x[3]),\n",
        "                     validation_y), epochs=10)\n"
      ],
      "metadata": {
        "colab": {
          "base_uri": "https://localhost:8080/"
        },
        "id": "vF6fv5kYfctS",
        "outputId": "33947578-049a-4b9b-9342-e157c11b08ae"
      },
      "execution_count": 159,
      "outputs": [
        {
          "output_type": "stream",
          "name": "stdout",
          "text": [
            "Model: \"model_2\"\n",
            "__________________________________________________________________________________________________\n",
            " Layer (type)                   Output Shape         Param #     Connected to                     \n",
            "==================================================================================================\n",
            " prefix_events_input (InputLaye  [(None, 5, 1)]      0           []                               \n",
            " r)                                                                                               \n",
            "                                                                                                  \n",
            " suffix_events_input (InputLaye  [(None, 5, 1)]      0           []                               \n",
            " r)                                                                                               \n",
            "                                                                                                  \n",
            " prefix_times_input (InputLayer  [(None, 5, 1)]      0           []                               \n",
            " )                                                                                                \n",
            "                                                                                                  \n",
            " suffix_times_input (InputLayer  [(None, 5, 1)]      0           []                               \n",
            " )                                                                                                \n",
            "                                                                                                  \n",
            " prefix_events_lstm (Bidirectio  (None, 192)         75264       ['prefix_events_input[0][0]']    \n",
            " nal)                                                                                             \n",
            "                                                                                                  \n",
            " suffix_events_lstm (Bidirectio  (None, 192)         75264       ['suffix_events_input[0][0]']    \n",
            " nal)                                                                                             \n",
            "                                                                                                  \n",
            " prefix_times_lstm (Bidirection  (None, 192)         75264       ['prefix_times_input[0][0]']     \n",
            " al)                                                                                              \n",
            "                                                                                                  \n",
            " suffix_times_lstm (Bidirection  (None, 192)         75264       ['suffix_times_input[0][0]']     \n",
            " al)                                                                                              \n",
            "                                                                                                  \n",
            " dropout_8 (Dropout)            (None, 192)          0           ['prefix_events_lstm[0][0]']     \n",
            "                                                                                                  \n",
            " dropout_9 (Dropout)            (None, 192)          0           ['suffix_events_lstm[0][0]']     \n",
            "                                                                                                  \n",
            " dropout_10 (Dropout)           (None, 192)          0           ['prefix_times_lstm[0][0]']      \n",
            "                                                                                                  \n",
            " dropout_11 (Dropout)           (None, 192)          0           ['suffix_times_lstm[0][0]']      \n",
            "                                                                                                  \n",
            " merged (Concatenate)           (None, 768)          0           ['dropout_8[0][0]',              \n",
            "                                                                  'dropout_9[0][0]',              \n",
            "                                                                  'dropout_10[0][0]',             \n",
            "                                                                  'dropout_11[0][0]']             \n",
            "                                                                                                  \n",
            " output (Dense)                 (None, 1)            769         ['merged[0][0]']                 \n",
            "                                                                                                  \n",
            "==================================================================================================\n",
            "Total params: 301,825\n",
            "Trainable params: 301,825\n",
            "Non-trainable params: 0\n",
            "__________________________________________________________________________________________________\n",
            "Epoch 1/10\n",
            "592/592 [==============================] - 46s 48ms/step - loss: 0.0115 - mse: 0.0115 - val_loss: 0.0100 - val_mse: 0.0100\n",
            "Epoch 2/10\n",
            "592/592 [==============================] - 24s 40ms/step - loss: 0.0100 - mse: 0.0100 - val_loss: 0.0100 - val_mse: 0.0100\n",
            "Epoch 3/10\n",
            "592/592 [==============================] - 25s 42ms/step - loss: 0.0100 - mse: 0.0100 - val_loss: 0.0100 - val_mse: 0.0100\n",
            "Epoch 4/10\n",
            "592/592 [==============================] - 25s 42ms/step - loss: 0.0098 - mse: 0.0098 - val_loss: 0.0098 - val_mse: 0.0098\n",
            "Epoch 5/10\n",
            "592/592 [==============================] - 26s 43ms/step - loss: 0.0098 - mse: 0.0098 - val_loss: 0.0099 - val_mse: 0.0099\n",
            "Epoch 6/10\n",
            "592/592 [==============================] - 44s 74ms/step - loss: 0.0097 - mse: 0.0097 - val_loss: 0.0097 - val_mse: 0.0097\n",
            "Epoch 7/10\n",
            "592/592 [==============================] - 23s 38ms/step - loss: 0.0097 - mse: 0.0097 - val_loss: 0.0097 - val_mse: 0.0097\n",
            "Epoch 8/10\n",
            "592/592 [==============================] - 25s 43ms/step - loss: 0.0097 - mse: 0.0097 - val_loss: 0.0098 - val_mse: 0.0098\n",
            "Epoch 9/10\n",
            "592/592 [==============================] - 23s 38ms/step - loss: 0.0097 - mse: 0.0097 - val_loss: 0.0097 - val_mse: 0.0097\n",
            "Epoch 10/10\n",
            "592/592 [==============================] - 29s 48ms/step - loss: 0.0096 - mse: 0.0096 - val_loss: 0.0096 - val_mse: 0.0096\n"
          ]
        },
        {
          "output_type": "execute_result",
          "data": {
            "text/plain": [
              "<keras.callbacks.History at 0x7f98302cf1c0>"
            ]
          },
          "metadata": {},
          "execution_count": 159
        }
      ]
    },
    {
      "cell_type": "markdown",
      "source": [
        "##Section 7: Evaluating the model"
      ],
      "metadata": {
        "id": "VotFhI5bGfMF"
      }
    },
    {
      "cell_type": "code",
      "source": [
        "def mean_squared_error(predictions):\n",
        "  seconds, minutes, hours, days = 0, 0, 0, 0\n",
        "  for p, t in zip(predictions, test_y):\n",
        "    if p != -1:\n",
        "      seconds += (p-t).total_seconds() ** 2\n",
        "  seconds = (seconds / len(predictions)) ** 0.5\n",
        "  minutes = seconds / 60\n",
        "  hours = minutes / 60\n",
        "  days = hours / 24\n",
        "  years = days / 365\n",
        "  \n",
        "  return seconds, minutes, hours, days, years\n"
      ],
      "metadata": {
        "id": "7hLNOIxM16mx"
      },
      "execution_count": 160,
      "outputs": []
    },
    {
      "cell_type": "code",
      "source": [
        "def predict(model):\n",
        "  predictions = model.predict([test_x[0], test_x[1], test_x[2], test_x[3]])\n",
        "  predicted_times = []\n",
        "  for i in range(len(predictions)):\n",
        "    seconds = test_start_times[i] + pd.to_timedelta(predictions[i] * max_length, unit='s')\n",
        "    predicted_times.append(seconds)\n",
        "  return predicted_times\n",
        "predictions = predict(best_model)"
      ],
      "metadata": {
        "id": "730zCXoSGe8-",
        "colab": {
          "base_uri": "https://localhost:8080/"
        },
        "outputId": "db20cd42-ecf8-4ede-ee61-237ec694f7c1"
      },
      "execution_count": 161,
      "outputs": [
        {
          "output_type": "stream",
          "name": "stdout",
          "text": [
            "47/47 [==============================] - 5s 10ms/step\n"
          ]
        }
      ]
    },
    {
      "cell_type": "code",
      "source": [
        "mean_squared_error(predictions)"
      ],
      "metadata": {
        "id": "mwdqcbnxso_7",
        "outputId": "35fe9397-91f0-41d6-cbbc-75584cc75e33",
        "colab": {
          "base_uri": "https://localhost:8080/"
        }
      },
      "execution_count": 162,
      "outputs": [
        {
          "output_type": "execute_result",
          "data": {
            "text/plain": [
              "(Float64Index([183720.16927558059], dtype='float64'),\n",
              " Float64Index([3062.0028212596762], dtype='float64'),\n",
              " Float64Index([51.03338035432794], dtype='float64'),\n",
              " Float64Index([2.1263908480969973], dtype='float64'),\n",
              " Float64Index([0.005825728350950678], dtype='float64'))"
            ]
          },
          "metadata": {},
          "execution_count": 162
        }
      ]
    },
    {
      "cell_type": "code",
      "source": [
        "mean_squared_error(naiive_predictions)"
      ],
      "metadata": {
        "colab": {
          "base_uri": "https://localhost:8080/"
        },
        "id": "SMLcJ-OazhXK",
        "outputId": "4d72dc10-cf6b-49e3-d8aa-42ae7ee12e5e"
      },
      "execution_count": 163,
      "outputs": [
        {
          "output_type": "execute_result",
          "data": {
            "text/plain": [
              "(Float64Index([89095.14692095011], dtype='float64'),\n",
              " Float64Index([1484.9191153491686], dtype='float64'),\n",
              " Float64Index([24.748651922486143], dtype='float64'),\n",
              " Float64Index([1.0311938301035892], dtype='float64'),\n",
              " Float64Index([0.0028251885756262717], dtype='float64'))"
            ]
          },
          "metadata": {},
          "execution_count": 163
        }
      ]
    }
  ],
  "metadata": {
    "kernelspec": {
      "display_name": "Python 3",
      "language": "python",
      "name": "python3"
    },
    "language_info": {
      "codemirror_mode": {
        "name": "ipython",
        "version": 3
      },
      "file_extension": ".py",
      "mimetype": "text/x-python",
      "name": "python",
      "nbconvert_exporter": "python",
      "pygments_lexer": "ipython3",
      "version": "3.10.2"
    },
    "orig_nbformat": 4,
    "vscode": {
      "interpreter": {
        "hash": "668626f72d98c3d20278a861d4c9cd1e9608e85361f1e74d685459c6ce5f80f9"
      }
    },
    "colab": {
      "provenance": [],
      "include_colab_link": true
    },
    "gpuClass": "standard",
    "accelerator": "TPU"
  },
  "nbformat": 4,
  "nbformat_minor": 0
}