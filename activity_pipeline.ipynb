{
  "cells": [
    {
      "cell_type": "markdown",
      "metadata": {
        "id": "view-in-github",
        "colab_type": "text"
      },
      "source": [
        "<a href=\"https://colab.research.google.com/github/adamzbikowski/Process-Mining-Dissertation/blob/main/activity_pipeline.ipynb\" target=\"_parent\"><img src=\"https://colab.research.google.com/assets/colab-badge.svg\" alt=\"Open In Colab\"/></a>"
      ]
    },
    {
      "cell_type": "markdown",
      "metadata": {
        "id": "_vJIqfLeCjHP"
      },
      "source": [
        "# Pipeline 1: predicting missing values for activity"
      ]
    },
    {
      "cell_type": "markdown",
      "source": [
        "##Section 0: Customisation"
      ],
      "metadata": {
        "id": "LZGZm2vxOFBT"
      }
    },
    {
      "cell_type": "markdown",
      "source": [
        "**Note on usage:**\n",
        "To customise the pipeline, only alter the parameters in this section."
      ],
      "metadata": {
        "id": "uuEFUnhyPLSz"
      }
    },
    {
      "cell_type": "code",
      "source": [
        "# The following parameters can be customised:\n",
        "\n",
        "# change depending on which branch the queries have been pushed to\n",
        "BRANCH = \"sql-queries\" \n",
        "\n",
        "# change this to change which query is being used\n",
        "QUERY_NAME = \"el_hypertension.sql\"\n",
        "\n",
        "# this assumes that the user has access to the mimic-iii dataset\n",
        "# through google BigQuery\n",
        "# replace project name to the project containing mimic-iii\n",
        "PROJECT_NAME = \"processmining-367815\" \n",
        "\n",
        "# change to alter the number of random traces being selected\n",
        "# set value to None in order to use the full dataset\n",
        "NUM_TRACES = 10000\n",
        "\n",
        "# IGNORE if event log does not include procedures\n",
        "# set to false if  \n",
        "CATEGORICAL_PROCEDURES = False\n",
        "\n",
        "# change to alter the prefix/suffix length\n",
        "PREFIX_LENGTH = 5\n",
        "\n",
        "# change to alter the size of the test and validation sets\n",
        "TEST_SIZE = 0.2\n",
        "VALIDATION_SIZE = 0.2\n",
        "\n",
        "# change to tune hyperparameters\n",
        "\n",
        "\n",
        "\n",
        "\n"
      ],
      "metadata": {
        "id": "7SRLZ8SUOEMp"
      },
      "execution_count": 32,
      "outputs": []
    },
    {
      "cell_type": "markdown",
      "metadata": {
        "id": "L27GXRjHCjHV"
      },
      "source": [
        "## Section 1: Loading event log"
      ]
    },
    {
      "cell_type": "markdown",
      "source": [
        "###1.1"
      ],
      "metadata": {
        "id": "9vuR0FKfBtms"
      }
    },
    {
      "cell_type": "code",
      "source": [
        "# installing prerequisites\n",
        "# certain packages are not installed by default on google colab\n",
        "!pip install pm4py\n",
        "!pip install -q -U keras-tuner"
      ],
      "metadata": {
        "colab": {
          "base_uri": "https://localhost:8080/"
        },
        "id": "JtmZ3GBVDj-s",
        "outputId": "f07b842f-5f71-4f2d-c1db-895c4b91caa8"
      },
      "execution_count": 2,
      "outputs": [
        {
          "output_type": "stream",
          "name": "stdout",
          "text": [
            "Looking in indexes: https://pypi.org/simple, https://us-python.pkg.dev/colab-wheels/public/simple/\n",
            "Collecting pm4py\n",
            "  Downloading pm4py-2.7.3-py3-none-any.whl (1.7 MB)\n",
            "\u001b[2K     \u001b[90m━━━━━━━━━━━━━━━━━━━━━━━━━━━━━━━━━━━━━━━━\u001b[0m \u001b[32m1.7/1.7 MB\u001b[0m \u001b[31m27.9 MB/s\u001b[0m eta \u001b[36m0:00:00\u001b[0m\n",
            "\u001b[?25hRequirement already satisfied: pydotplus in /usr/local/lib/python3.9/dist-packages (from pm4py) (2.0.2)\n",
            "Requirement already satisfied: lxml in /usr/local/lib/python3.9/dist-packages (from pm4py) (4.9.2)\n",
            "Requirement already satisfied: scipy in /usr/local/lib/python3.9/dist-packages (from pm4py) (1.10.1)\n",
            "Requirement already satisfied: networkx in /usr/local/lib/python3.9/dist-packages (from pm4py) (3.1)\n",
            "Requirement already satisfied: cvxopt in /usr/local/lib/python3.9/dist-packages (from pm4py) (1.3.0)\n",
            "Requirement already satisfied: graphviz in /usr/local/lib/python3.9/dist-packages (from pm4py) (0.20.1)\n",
            "Collecting stringdist\n",
            "  Downloading StringDist-1.0.9.tar.gz (7.4 kB)\n",
            "  Preparing metadata (setup.py) ... \u001b[?25l\u001b[?25hdone\n",
            "Collecting deprecation\n",
            "  Downloading deprecation-2.1.0-py2.py3-none-any.whl (11 kB)\n",
            "Requirement already satisfied: pytz in /usr/local/lib/python3.9/dist-packages (from pm4py) (2022.7.1)\n",
            "Requirement already satisfied: pandas in /usr/local/lib/python3.9/dist-packages (from pm4py) (1.5.3)\n",
            "Requirement already satisfied: tqdm in /usr/local/lib/python3.9/dist-packages (from pm4py) (4.65.0)\n",
            "Collecting intervaltree\n",
            "  Downloading intervaltree-3.1.0.tar.gz (32 kB)\n",
            "  Preparing metadata (setup.py) ... \u001b[?25l\u001b[?25hdone\n",
            "Requirement already satisfied: numpy in /usr/local/lib/python3.9/dist-packages (from pm4py) (1.22.4)\n",
            "Requirement already satisfied: matplotlib in /usr/local/lib/python3.9/dist-packages (from pm4py) (3.7.1)\n",
            "Requirement already satisfied: packaging in /usr/local/lib/python3.9/dist-packages (from deprecation->pm4py) (23.1)\n",
            "Requirement already satisfied: sortedcontainers<3.0,>=2.0 in /usr/local/lib/python3.9/dist-packages (from intervaltree->pm4py) (2.4.0)\n",
            "Requirement already satisfied: importlib-resources>=3.2.0 in /usr/local/lib/python3.9/dist-packages (from matplotlib->pm4py) (5.12.0)\n",
            "Requirement already satisfied: fonttools>=4.22.0 in /usr/local/lib/python3.9/dist-packages (from matplotlib->pm4py) (4.39.3)\n",
            "Requirement already satisfied: pillow>=6.2.0 in /usr/local/lib/python3.9/dist-packages (from matplotlib->pm4py) (8.4.0)\n",
            "Requirement already satisfied: kiwisolver>=1.0.1 in /usr/local/lib/python3.9/dist-packages (from matplotlib->pm4py) (1.4.4)\n",
            "Requirement already satisfied: cycler>=0.10 in /usr/local/lib/python3.9/dist-packages (from matplotlib->pm4py) (0.11.0)\n",
            "Requirement already satisfied: contourpy>=1.0.1 in /usr/local/lib/python3.9/dist-packages (from matplotlib->pm4py) (1.0.7)\n",
            "Requirement already satisfied: pyparsing>=2.3.1 in /usr/local/lib/python3.9/dist-packages (from matplotlib->pm4py) (3.0.9)\n",
            "Requirement already satisfied: python-dateutil>=2.7 in /usr/local/lib/python3.9/dist-packages (from matplotlib->pm4py) (2.8.2)\n",
            "Requirement already satisfied: zipp>=3.1.0 in /usr/local/lib/python3.9/dist-packages (from importlib-resources>=3.2.0->matplotlib->pm4py) (3.15.0)\n",
            "Requirement already satisfied: six>=1.5 in /usr/local/lib/python3.9/dist-packages (from python-dateutil>=2.7->matplotlib->pm4py) (1.16.0)\n",
            "Building wheels for collected packages: intervaltree, stringdist\n",
            "  Building wheel for intervaltree (setup.py) ... \u001b[?25l\u001b[?25hdone\n",
            "  Created wheel for intervaltree: filename=intervaltree-3.1.0-py2.py3-none-any.whl size=26114 sha256=ed2b656630f8fc60887b7ea2a51835b4bd7a1890d0680dc5d0aca0f79a34094d\n",
            "  Stored in directory: /root/.cache/pip/wheels/ab/fa/1b/75d9a713279796785711bd0bad8334aaace560c0bd28830c8c\n",
            "  Building wheel for stringdist (setup.py) ... \u001b[?25l\u001b[?25hdone\n",
            "  Created wheel for stringdist: filename=StringDist-1.0.9-cp39-cp39-linux_x86_64.whl size=24710 sha256=bc42c03b474a17c63b37506c88e367bb53773a79e07ab643d0aaea0ab03dc0e6\n",
            "  Stored in directory: /root/.cache/pip/wheels/77/24/44/b12b9612fd07e141e6b4f1bb2001c621515bd0cac1014a783a\n",
            "Successfully built intervaltree stringdist\n",
            "Installing collected packages: stringdist, intervaltree, deprecation, pm4py\n",
            "Successfully installed deprecation-2.1.0 intervaltree-3.1.0 pm4py-2.7.3 stringdist-1.0.9\n",
            "\u001b[2K     \u001b[90m━━━━━━━━━━━━━━━━━━━━━━━━━━━━━━━━━━━━━━━\u001b[0m \u001b[32m176.1/176.1 kB\u001b[0m \u001b[31m4.9 MB/s\u001b[0m eta \u001b[36m0:00:00\u001b[0m\n",
            "\u001b[?25h"
          ]
        }
      ]
    },
    {
      "cell_type": "code",
      "source": [
        "from google.colab import auth\n",
        "auth.authenticate_user()"
      ],
      "metadata": {
        "id": "IrTL5G7bD7W6"
      },
      "execution_count": 3,
      "outputs": []
    },
    {
      "cell_type": "code",
      "source": [
        "\n",
        "from google.cloud import bigquery\n",
        "client = bigquery.Client(project=PROJECT_NAME)"
      ],
      "metadata": {
        "id": "-aNc-OmPEAZq"
      },
      "execution_count": 4,
      "outputs": []
    },
    {
      "cell_type": "code",
      "source": [
        "import requests\n",
        "\n",
        "# read a query from the github repository\n",
        "url = f\"https://raw.githubusercontent.com/adamzbikowski/Process-Mining-Dissertation/{BRANCH}/sql_queries/{QUERY_NAME}\"\n",
        "query_bytes = requests.get(url).content\n",
        "\n",
        "# we must now decode this to turn the query into a string \n",
        "query = query_bytes.decode(\"utf-8\")"
      ],
      "metadata": {
        "id": "cLK5sJ_qwY5W"
      },
      "execution_count": 5,
      "outputs": []
    },
    {
      "cell_type": "markdown",
      "source": [
        "###1.2"
      ],
      "metadata": {
        "id": "77eoZypCBrLK"
      }
    },
    {
      "cell_type": "code",
      "execution_count": 6,
      "metadata": {
        "colab": {
          "base_uri": "https://localhost:8080/",
          "height": 0
        },
        "id": "CmSHODCZCjHW",
        "outputId": "0183f929-6fa7-4929-8573-9dd198a0d7da"
      },
      "outputs": [
        {
          "output_type": "execute_result",
          "data": {
            "text/plain": [
              "        patient     activity           timestamp\n",
              "0        112275  Ventilation 2128-12-20 14:50:00\n",
              "1        103165  Ventilation 2135-07-15 15:18:00\n",
              "2        123562  Ventilation 2164-09-17 07:30:00\n",
              "3        137949  Ventilation 2189-09-07 12:30:00\n",
              "4        117037  Ventilation 2138-07-15 17:21:00\n",
              "...         ...          ...                 ...\n",
              "127266   195900     Dialysis 2179-04-05 17:12:00\n",
              "127267   195900     Dialysis 2179-04-13 15:11:00\n",
              "127268   117774     Dialysis 2176-01-23 22:52:00\n",
              "127269   168176     Dialysis 2109-11-27 06:45:00\n",
              "127270   168176     Dialysis 2109-12-01 01:00:00\n",
              "\n",
              "[127271 rows x 3 columns]"
            ],
            "text/html": [
              "\n",
              "  <div id=\"df-e4f28673-b7a7-4dd3-b409-f6a752884d10\">\n",
              "    <div class=\"colab-df-container\">\n",
              "      <div>\n",
              "<style scoped>\n",
              "    .dataframe tbody tr th:only-of-type {\n",
              "        vertical-align: middle;\n",
              "    }\n",
              "\n",
              "    .dataframe tbody tr th {\n",
              "        vertical-align: top;\n",
              "    }\n",
              "\n",
              "    .dataframe thead th {\n",
              "        text-align: right;\n",
              "    }\n",
              "</style>\n",
              "<table border=\"1\" class=\"dataframe\">\n",
              "  <thead>\n",
              "    <tr style=\"text-align: right;\">\n",
              "      <th></th>\n",
              "      <th>patient</th>\n",
              "      <th>activity</th>\n",
              "      <th>timestamp</th>\n",
              "    </tr>\n",
              "  </thead>\n",
              "  <tbody>\n",
              "    <tr>\n",
              "      <th>0</th>\n",
              "      <td>112275</td>\n",
              "      <td>Ventilation</td>\n",
              "      <td>2128-12-20 14:50:00</td>\n",
              "    </tr>\n",
              "    <tr>\n",
              "      <th>1</th>\n",
              "      <td>103165</td>\n",
              "      <td>Ventilation</td>\n",
              "      <td>2135-07-15 15:18:00</td>\n",
              "    </tr>\n",
              "    <tr>\n",
              "      <th>2</th>\n",
              "      <td>123562</td>\n",
              "      <td>Ventilation</td>\n",
              "      <td>2164-09-17 07:30:00</td>\n",
              "    </tr>\n",
              "    <tr>\n",
              "      <th>3</th>\n",
              "      <td>137949</td>\n",
              "      <td>Ventilation</td>\n",
              "      <td>2189-09-07 12:30:00</td>\n",
              "    </tr>\n",
              "    <tr>\n",
              "      <th>4</th>\n",
              "      <td>117037</td>\n",
              "      <td>Ventilation</td>\n",
              "      <td>2138-07-15 17:21:00</td>\n",
              "    </tr>\n",
              "    <tr>\n",
              "      <th>...</th>\n",
              "      <td>...</td>\n",
              "      <td>...</td>\n",
              "      <td>...</td>\n",
              "    </tr>\n",
              "    <tr>\n",
              "      <th>127266</th>\n",
              "      <td>195900</td>\n",
              "      <td>Dialysis</td>\n",
              "      <td>2179-04-05 17:12:00</td>\n",
              "    </tr>\n",
              "    <tr>\n",
              "      <th>127267</th>\n",
              "      <td>195900</td>\n",
              "      <td>Dialysis</td>\n",
              "      <td>2179-04-13 15:11:00</td>\n",
              "    </tr>\n",
              "    <tr>\n",
              "      <th>127268</th>\n",
              "      <td>117774</td>\n",
              "      <td>Dialysis</td>\n",
              "      <td>2176-01-23 22:52:00</td>\n",
              "    </tr>\n",
              "    <tr>\n",
              "      <th>127269</th>\n",
              "      <td>168176</td>\n",
              "      <td>Dialysis</td>\n",
              "      <td>2109-11-27 06:45:00</td>\n",
              "    </tr>\n",
              "    <tr>\n",
              "      <th>127270</th>\n",
              "      <td>168176</td>\n",
              "      <td>Dialysis</td>\n",
              "      <td>2109-12-01 01:00:00</td>\n",
              "    </tr>\n",
              "  </tbody>\n",
              "</table>\n",
              "<p>127271 rows × 3 columns</p>\n",
              "</div>\n",
              "      <button class=\"colab-df-convert\" onclick=\"convertToInteractive('df-e4f28673-b7a7-4dd3-b409-f6a752884d10')\"\n",
              "              title=\"Convert this dataframe to an interactive table.\"\n",
              "              style=\"display:none;\">\n",
              "        \n",
              "  <svg xmlns=\"http://www.w3.org/2000/svg\" height=\"24px\"viewBox=\"0 0 24 24\"\n",
              "       width=\"24px\">\n",
              "    <path d=\"M0 0h24v24H0V0z\" fill=\"none\"/>\n",
              "    <path d=\"M18.56 5.44l.94 2.06.94-2.06 2.06-.94-2.06-.94-.94-2.06-.94 2.06-2.06.94zm-11 1L8.5 8.5l.94-2.06 2.06-.94-2.06-.94L8.5 2.5l-.94 2.06-2.06.94zm10 10l.94 2.06.94-2.06 2.06-.94-2.06-.94-.94-2.06-.94 2.06-2.06.94z\"/><path d=\"M17.41 7.96l-1.37-1.37c-.4-.4-.92-.59-1.43-.59-.52 0-1.04.2-1.43.59L10.3 9.45l-7.72 7.72c-.78.78-.78 2.05 0 2.83L4 21.41c.39.39.9.59 1.41.59.51 0 1.02-.2 1.41-.59l7.78-7.78 2.81-2.81c.8-.78.8-2.07 0-2.86zM5.41 20L4 18.59l7.72-7.72 1.47 1.35L5.41 20z\"/>\n",
              "  </svg>\n",
              "      </button>\n",
              "      \n",
              "  <style>\n",
              "    .colab-df-container {\n",
              "      display:flex;\n",
              "      flex-wrap:wrap;\n",
              "      gap: 12px;\n",
              "    }\n",
              "\n",
              "    .colab-df-convert {\n",
              "      background-color: #E8F0FE;\n",
              "      border: none;\n",
              "      border-radius: 50%;\n",
              "      cursor: pointer;\n",
              "      display: none;\n",
              "      fill: #1967D2;\n",
              "      height: 32px;\n",
              "      padding: 0 0 0 0;\n",
              "      width: 32px;\n",
              "    }\n",
              "\n",
              "    .colab-df-convert:hover {\n",
              "      background-color: #E2EBFA;\n",
              "      box-shadow: 0px 1px 2px rgba(60, 64, 67, 0.3), 0px 1px 3px 1px rgba(60, 64, 67, 0.15);\n",
              "      fill: #174EA6;\n",
              "    }\n",
              "\n",
              "    [theme=dark] .colab-df-convert {\n",
              "      background-color: #3B4455;\n",
              "      fill: #D2E3FC;\n",
              "    }\n",
              "\n",
              "    [theme=dark] .colab-df-convert:hover {\n",
              "      background-color: #434B5C;\n",
              "      box-shadow: 0px 1px 3px 1px rgba(0, 0, 0, 0.15);\n",
              "      filter: drop-shadow(0px 1px 2px rgba(0, 0, 0, 0.3));\n",
              "      fill: #FFFFFF;\n",
              "    }\n",
              "  </style>\n",
              "\n",
              "      <script>\n",
              "        const buttonEl =\n",
              "          document.querySelector('#df-e4f28673-b7a7-4dd3-b409-f6a752884d10 button.colab-df-convert');\n",
              "        buttonEl.style.display =\n",
              "          google.colab.kernel.accessAllowed ? 'block' : 'none';\n",
              "\n",
              "        async function convertToInteractive(key) {\n",
              "          const element = document.querySelector('#df-e4f28673-b7a7-4dd3-b409-f6a752884d10');\n",
              "          const dataTable =\n",
              "            await google.colab.kernel.invokeFunction('convertToInteractive',\n",
              "                                                     [key], {});\n",
              "          if (!dataTable) return;\n",
              "\n",
              "          const docLinkHtml = 'Like what you see? Visit the ' +\n",
              "            '<a target=\"_blank\" href=https://colab.research.google.com/notebooks/data_table.ipynb>data table notebook</a>'\n",
              "            + ' to learn more about interactive tables.';\n",
              "          element.innerHTML = '';\n",
              "          dataTable['output_type'] = 'display_data';\n",
              "          await google.colab.output.renderOutput(dataTable, element);\n",
              "          const docLink = document.createElement('div');\n",
              "          docLink.innerHTML = docLinkHtml;\n",
              "          element.appendChild(docLink);\n",
              "        }\n",
              "      </script>\n",
              "    </div>\n",
              "  </div>\n",
              "  "
            ]
          },
          "metadata": {},
          "execution_count": 6
        }
      ],
      "source": [
        "import pandas as pd\n",
        "\n",
        "# loading event log from mimic-iii using bigQuery\n",
        "event_log = client.query(query).to_dataframe()\n",
        "# convert timestamp from object to datetime64\n",
        "event_log[\"timestamp\"] = pd.to_datetime(event_log[\"timestamp\"])\n",
        "event_log\n"
      ]
    },
    {
      "cell_type": "markdown",
      "metadata": {
        "id": "E5nBYFkHCjHY"
      },
      "source": [
        "## Section 2: Process Discovery"
      ]
    },
    {
      "cell_type": "code",
      "execution_count": 7,
      "metadata": {
        "colab": {
          "base_uri": "https://localhost:8080/"
        },
        "id": "q__4BhKCCjHY",
        "outputId": "74e7760b-256c-4260-c827-3b27b5eb328b"
      },
      "outputs": [
        {
          "output_type": "stream",
          "name": "stderr",
          "text": [
            "<ipython-input-7-aedec179434f>:3: DeprecatedWarning: format_dataframe is deprecated as of 2.3.0 and will be removed in 3.0.0. the format_dataframe function does not need application anymore.\n",
            "  event_log = pm.format_dataframe(event_log, case_id='patient', activity_key='activity', timestamp_key='timestamp')\n"
          ]
        },
        {
          "output_type": "stream",
          "name": "stdout",
          "text": [
            "Number of cases: 20696\n",
            "Number of events: 127271\n",
            "Start events: {'Admitted': 20390, 'Entered ICU': 265, 'Discharged': 23, 'Ventilation': 18}\n",
            "End events: {'Discharged': 17501, 'Left ICU': 3193, 'Admitted': 2}\n"
          ]
        }
      ],
      "source": [
        "import pm4py as pm\n",
        "\n",
        "event_log = pm.format_dataframe(event_log, case_id='patient', activity_key='activity', timestamp_key='timestamp')\n",
        "# lets get some information about the event log\n",
        "n_events = len(event_log)\n",
        "n_cases = len(event_log.patient.unique())\n",
        "start_events = pm.get_start_activities(event_log)\n",
        "end_events = pm.get_end_activities(event_log)\n",
        "print(f\"Number of cases: {n_cases}\\nNumber of events: {n_events}\")\n",
        "print(f\"Start events: {start_events}\\nEnd events: {end_events}\")\n"
      ]
    },
    {
      "cell_type": "code",
      "execution_count": 8,
      "metadata": {
        "id": "aETYaI3-CjHZ"
      },
      "outputs": [],
      "source": [
        "# lets improve the event log by filtering out the cases that do not start or end with a patient being admitted or discharged\n",
        "# this will simplify the model\n",
        "# filtered_log = deepcopy(event_log)\n",
        "event_log = pm.filter_start_activities(event_log, ['Admitted'])\n",
        "event_log = pm.filter_end_activities(event_log,['Discharged'])\n",
        "# event_log = pm.filter_variants_top_k(event_log,50)\n",
        "# event_log = pm.filter_variants_by_coverage_percentage(event_log, 0.1)"
      ]
    },
    {
      "cell_type": "code",
      "source": [
        "n_events = len(event_log)\n",
        "n_cases = len(event_log.patient.unique())\n",
        "start_events = pm.get_start_activities(event_log)\n",
        "end_events = pm.get_end_activities(event_log)\n",
        "print(f\"Number of cases: {n_cases}\\nNumber of events: {n_events}\")\n",
        "print(f\"Start events: {start_events}\\nEnd events: {end_events}\")"
      ],
      "metadata": {
        "id": "5O3FQUeLAHW3",
        "outputId": "a15a339d-3a03-4844-e930-432fbfddc420",
        "colab": {
          "base_uri": "https://localhost:8080/"
        }
      },
      "execution_count": 9,
      "outputs": [
        {
          "output_type": "stream",
          "name": "stdout",
          "text": [
            "Number of cases: 17237\n",
            "Number of events: 103017\n",
            "Start events: {'Admitted': 17237}\n",
            "End events: {'Discharged': 17237}\n"
          ]
        }
      ]
    },
    {
      "cell_type": "code",
      "execution_count": 10,
      "metadata": {
        "id": "boYeNhZuCjHa"
      },
      "outputs": [],
      "source": [
        "net, initial_marking, final_marking = pm.discover_petri_net_alpha(event_log)"
      ]
    },
    {
      "cell_type": "code",
      "execution_count": 11,
      "metadata": {
        "colab": {
          "base_uri": "https://localhost:8080/",
          "height": 0
        },
        "id": "IIdzSIvdCjHa",
        "outputId": "5b0c0f83-d255-4597-8232-93699ed74303"
      },
      "outputs": [
        {
          "output_type": "display_data",
          "data": {
            "image/png": "[encoded data removed]",
            "text/plain": [
              "<IPython.core.display.Image object>"
            ]
          },
          "metadata": {}
        }
      ],
      "source": [
        "import graphviz\n",
        "pm.view_petri_net(petri_net=net)"
      ]
    },
    {
      "cell_type": "code",
      "source": [
        "# inductive miner\n",
        "# much better result than when using alpha miner, petri net \n",
        "net, initial_marking, final_marking = pm.discover_petri_net_inductive(event_log)\n",
        "pm.view_petri_net(petri_net=net)"
      ],
      "metadata": {
        "id": "f6fgpjqRKw67",
        "outputId": "9872388f-f441-48a2-a650-19e387eec279",
        "colab": {
          "base_uri": "https://localhost:8080/",
          "height": 0
        }
      },
      "execution_count": 12,
      "outputs": [
        {
          "output_type": "display_data",
          "data": {
            "image/png": "[encoded data removed]",
            "text/plain": [
              "<IPython.core.display.Image object>"
            ]
          },
          "metadata": {}
        }
      ]
    },
    {
      "cell_type": "code",
      "source": [
        "# heuristic miner\n",
        "heu_net = pm.discover_heuristics_net(event_log, dependency_threshold=0.99)\n",
        "pm.view_heuristics_net(heu_net)"
      ],
      "metadata": {
        "id": "SXk4_DHFLDpB",
        "outputId": "7bad15ad-81ff-41cf-f0b1-747a3a93213b",
        "colab": {
          "base_uri": "https://localhost:8080/",
          "height": 0
        }
      },
      "execution_count": 13,
      "outputs": [
        {
          "output_type": "display_data",
          "data": {
            "image/png": "[encoded data removed]",
            "text/plain": [
              "<IPython.core.display.Image object>"
            ]
          },
          "metadata": {}
        }
      ]
    },
    {
      "cell_type": "code",
      "source": [
        "# petri net from heuristics miner\n",
        "net, im, fm = pm.discover_petri_net_heuristics(event_log, dependency_threshold=0.99)\n",
        "pm.view_petri_net(net, im, fm)"
      ],
      "metadata": {
        "id": "EZOGRFF2LHwh",
        "outputId": "adfd5d1f-3560-403f-d62b-736cc46682bb",
        "colab": {
          "base_uri": "https://localhost:8080/",
          "height": 0
        }
      },
      "execution_count": 14,
      "outputs": [
        {
          "output_type": "display_data",
          "data": {
            "image/png": "[encoded data removed]",
            "text/plain": [
              "<IPython.core.display.Image object>"
            ]
          },
          "metadata": {}
        }
      ]
    },
    {
      "cell_type": "markdown",
      "source": [
        "## Section 3: Data Pre Processing\n",
        "\n"
      ],
      "metadata": {
        "id": "wQqrU3QsNC-4"
      }
    },
    {
      "cell_type": "code",
      "source": [
        "from pandas.core.window.ewm import partial\n",
        "import random\n",
        "\n",
        "def partial_log(el, n):\n",
        "\n",
        "  # select the first n cases to test the LSTM methodology\n",
        "  # lets first add a trace column to the event_log\n",
        "  el['trace'] = el.groupby(['patient']).ngroup()\n",
        "  el = el[['trace', 'activity', 'timestamp' ]].reset_index(drop=True)\n",
        "  # if n is None, return full event log\n",
        "  if n is None:\n",
        "    return el\n",
        "\n",
        "  # initialise random seed and array of traces\n",
        "  random.seed(9)\n",
        "  random_traces = []\n",
        "\n",
        "  for i in range(0,n):\n",
        "    random_traces.append(random.randrange(0,n_cases))\n",
        "\n",
        "  partial_el = event_log[event_log['trace'].isin(random_traces)]\n",
        "  return partial_el\n"
      ],
      "metadata": {
        "id": "Hs9nC7zuNGeg"
      },
      "execution_count": 33,
      "outputs": []
    },
    {
      "cell_type": "code",
      "source": [
        "partial_el = partial_log(event_log, NUM_TRACES)\n",
        "partial_el"
      ],
      "metadata": {
        "id": "7ReuwY8a68_9",
        "outputId": "c4143759-a83e-459f-aead-8c70f7bd8729",
        "colab": {
          "base_uri": "https://localhost:8080/",
          "height": 0
        }
      },
      "execution_count": 34,
      "outputs": [
        {
          "output_type": "execute_result",
          "data": {
            "text/plain": [
              "        patient     activity           timestamp case:concept:name  \\\n",
              "20       100012     Admitted 2177-03-12 11:48:00            100012   \n",
              "21       100012  Entered ICU 2177-03-14 10:52:23            100012   \n",
              "22       100012  Ventilation 2177-03-14 12:30:00            100012   \n",
              "23       100012           IV 2177-03-14 12:30:00            100012   \n",
              "24       100012  Ventilation 2177-03-14 16:10:00            100012   \n",
              "...         ...          ...                 ...               ...   \n",
              "127257   199979   Discharged 2182-02-10 14:50:00            199979   \n",
              "127263   199986     Admitted 2188-10-30 16:55:00            199986   \n",
              "127264   199986  Entered ICU 2188-10-30 16:55:35            199986   \n",
              "127265   199986     Left ICU 2188-10-31 16:14:16            199986   \n",
              "127266   199986   Discharged 2188-11-02 12:40:00            199986   \n",
              "\n",
              "       concept:name      time:timestamp  @@index  @@case_index  \\\n",
              "20         Admitted 2177-03-12 11:48:00       20             3   \n",
              "21      Entered ICU 2177-03-14 10:52:23       21             3   \n",
              "22      Ventilation 2177-03-14 12:30:00       22             3   \n",
              "23               IV 2177-03-14 12:30:00       23             3   \n",
              "24      Ventilation 2177-03-14 16:10:00       24             3   \n",
              "...             ...                 ...      ...           ...   \n",
              "127257   Discharged 2182-02-10 14:50:00   127257         20692   \n",
              "127263     Admitted 2188-10-30 16:55:00   127263         20694   \n",
              "127264  Entered ICU 2188-10-30 16:55:35   127264         20694   \n",
              "127265     Left ICU 2188-10-31 16:14:16   127265         20694   \n",
              "127266   Discharged 2188-11-02 12:40:00   127266         20694   \n",
              "\n",
              "           start_timestamp  trace  \n",
              "20     2177-03-12 11:48:00      3  \n",
              "21     2177-03-14 10:52:23      3  \n",
              "22     2177-03-14 12:30:00      3  \n",
              "23     2177-03-14 12:30:00      3  \n",
              "24     2177-03-14 16:10:00      3  \n",
              "...                    ...    ...  \n",
              "127257 2182-02-10 14:50:00  17233  \n",
              "127263 2188-10-30 16:55:00  17235  \n",
              "127264 2188-10-30 16:55:35  17235  \n",
              "127265 2188-10-31 16:14:16  17235  \n",
              "127266 2188-11-02 12:40:00  17235  \n",
              "\n",
              "[45479 rows x 10 columns]"
            ],
            "text/html": [
              "\n",
              "  <div id=\"df-ca540067-9937-455a-ad65-d26824e65041\">\n",
              "    <div class=\"colab-df-container\">\n",
              "      <div>\n",
              "<style scoped>\n",
              "    .dataframe tbody tr th:only-of-type {\n",
              "        vertical-align: middle;\n",
              "    }\n",
              "\n",
              "    .dataframe tbody tr th {\n",
              "        vertical-align: top;\n",
              "    }\n",
              "\n",
              "    .dataframe thead th {\n",
              "        text-align: right;\n",
              "    }\n",
              "</style>\n",
              "<table border=\"1\" class=\"dataframe\">\n",
              "  <thead>\n",
              "    <tr style=\"text-align: right;\">\n",
              "      <th></th>\n",
              "      <th>patient</th>\n",
              "      <th>activity</th>\n",
              "      <th>timestamp</th>\n",
              "      <th>case:concept:name</th>\n",
              "      <th>concept:name</th>\n",
              "      <th>time:timestamp</th>\n",
              "      <th>@@index</th>\n",
              "      <th>@@case_index</th>\n",
              "      <th>start_timestamp</th>\n",
              "      <th>trace</th>\n",
              "    </tr>\n",
              "  </thead>\n",
              "  <tbody>\n",
              "    <tr>\n",
              "      <th>20</th>\n",
              "      <td>100012</td>\n",
              "      <td>Admitted</td>\n",
              "      <td>2177-03-12 11:48:00</td>\n",
              "      <td>100012</td>\n",
              "      <td>Admitted</td>\n",
              "      <td>2177-03-12 11:48:00</td>\n",
              "      <td>20</td>\n",
              "      <td>3</td>\n",
              "      <td>2177-03-12 11:48:00</td>\n",
              "      <td>3</td>\n",
              "    </tr>\n",
              "    <tr>\n",
              "      <th>21</th>\n",
              "      <td>100012</td>\n",
              "      <td>Entered ICU</td>\n",
              "      <td>2177-03-14 10:52:23</td>\n",
              "      <td>100012</td>\n",
              "      <td>Entered ICU</td>\n",
              "      <td>2177-03-14 10:52:23</td>\n",
              "      <td>21</td>\n",
              "      <td>3</td>\n",
              "      <td>2177-03-14 10:52:23</td>\n",
              "      <td>3</td>\n",
              "    </tr>\n",
              "    <tr>\n",
              "      <th>22</th>\n",
              "      <td>100012</td>\n",
              "      <td>Ventilation</td>\n",
              "      <td>2177-03-14 12:30:00</td>\n",
              "      <td>100012</td>\n",
              "      <td>Ventilation</td>\n",
              "      <td>2177-03-14 12:30:00</td>\n",
              "      <td>22</td>\n",
              "      <td>3</td>\n",
              "      <td>2177-03-14 12:30:00</td>\n",
              "      <td>3</td>\n",
              "    </tr>\n",
              "    <tr>\n",
              "      <th>23</th>\n",
              "      <td>100012</td>\n",
              "      <td>IV</td>\n",
              "      <td>2177-03-14 12:30:00</td>\n",
              "      <td>100012</td>\n",
              "      <td>IV</td>\n",
              "      <td>2177-03-14 12:30:00</td>\n",
              "      <td>23</td>\n",
              "      <td>3</td>\n",
              "      <td>2177-03-14 12:30:00</td>\n",
              "      <td>3</td>\n",
              "    </tr>\n",
              "    <tr>\n",
              "      <th>24</th>\n",
              "      <td>100012</td>\n",
              "      <td>Ventilation</td>\n",
              "      <td>2177-03-14 16:10:00</td>\n",
              "      <td>100012</td>\n",
              "      <td>Ventilation</td>\n",
              "      <td>2177-03-14 16:10:00</td>\n",
              "      <td>24</td>\n",
              "      <td>3</td>\n",
              "      <td>2177-03-14 16:10:00</td>\n",
              "      <td>3</td>\n",
              "    </tr>\n",
              "    <tr>\n",
              "      <th>...</th>\n",
              "      <td>...</td>\n",
              "      <td>...</td>\n",
              "      <td>...</td>\n",
              "      <td>...</td>\n",
              "      <td>...</td>\n",
              "      <td>...</td>\n",
              "      <td>...</td>\n",
              "      <td>...</td>\n",
              "      <td>...</td>\n",
              "      <td>...</td>\n",
              "    </tr>\n",
              "    <tr>\n",
              "      <th>127257</th>\n",
              "      <td>199979</td>\n",
              "      <td>Discharged</td>\n",
              "      <td>2182-02-10 14:50:00</td>\n",
              "      <td>199979</td>\n",
              "      <td>Discharged</td>\n",
              "      <td>2182-02-10 14:50:00</td>\n",
              "      <td>127257</td>\n",
              "      <td>20692</td>\n",
              "      <td>2182-02-10 14:50:00</td>\n",
              "      <td>17233</td>\n",
              "    </tr>\n",
              "    <tr>\n",
              "      <th>127263</th>\n",
              "      <td>199986</td>\n",
              "      <td>Admitted</td>\n",
              "      <td>2188-10-30 16:55:00</td>\n",
              "      <td>199986</td>\n",
              "      <td>Admitted</td>\n",
              "      <td>2188-10-30 16:55:00</td>\n",
              "      <td>127263</td>\n",
              "      <td>20694</td>\n",
              "      <td>2188-10-30 16:55:00</td>\n",
              "      <td>17235</td>\n",
              "    </tr>\n",
              "    <tr>\n",
              "      <th>127264</th>\n",
              "      <td>199986</td>\n",
              "      <td>Entered ICU</td>\n",
              "      <td>2188-10-30 16:55:35</td>\n",
              "      <td>199986</td>\n",
              "      <td>Entered ICU</td>\n",
              "      <td>2188-10-30 16:55:35</td>\n",
              "      <td>127264</td>\n",
              "      <td>20694</td>\n",
              "      <td>2188-10-30 16:55:35</td>\n",
              "      <td>17235</td>\n",
              "    </tr>\n",
              "    <tr>\n",
              "      <th>127265</th>\n",
              "      <td>199986</td>\n",
              "      <td>Left ICU</td>\n",
              "      <td>2188-10-31 16:14:16</td>\n",
              "      <td>199986</td>\n",
              "      <td>Left ICU</td>\n",
              "      <td>2188-10-31 16:14:16</td>\n",
              "      <td>127265</td>\n",
              "      <td>20694</td>\n",
              "      <td>2188-10-31 16:14:16</td>\n",
              "      <td>17235</td>\n",
              "    </tr>\n",
              "    <tr>\n",
              "      <th>127266</th>\n",
              "      <td>199986</td>\n",
              "      <td>Discharged</td>\n",
              "      <td>2188-11-02 12:40:00</td>\n",
              "      <td>199986</td>\n",
              "      <td>Discharged</td>\n",
              "      <td>2188-11-02 12:40:00</td>\n",
              "      <td>127266</td>\n",
              "      <td>20694</td>\n",
              "      <td>2188-11-02 12:40:00</td>\n",
              "      <td>17235</td>\n",
              "    </tr>\n",
              "  </tbody>\n",
              "</table>\n",
              "<p>45479 rows × 10 columns</p>\n",
              "</div>\n",
              "      <button class=\"colab-df-convert\" onclick=\"convertToInteractive('df-ca540067-9937-455a-ad65-d26824e65041')\"\n",
              "              title=\"Convert this dataframe to an interactive table.\"\n",
              "              style=\"display:none;\">\n",
              "        \n",
              "  <svg xmlns=\"http://www.w3.org/2000/svg\" height=\"24px\"viewBox=\"0 0 24 24\"\n",
              "       width=\"24px\">\n",
              "    <path d=\"M0 0h24v24H0V0z\" fill=\"none\"/>\n",
              "    <path d=\"M18.56 5.44l.94 2.06.94-2.06 2.06-.94-2.06-.94-.94-2.06-.94 2.06-2.06.94zm-11 1L8.5 8.5l.94-2.06 2.06-.94-2.06-.94L8.5 2.5l-.94 2.06-2.06.94zm10 10l.94 2.06.94-2.06 2.06-.94-2.06-.94-.94-2.06-.94 2.06-2.06.94z\"/><path d=\"M17.41 7.96l-1.37-1.37c-.4-.4-.92-.59-1.43-.59-.52 0-1.04.2-1.43.59L10.3 9.45l-7.72 7.72c-.78.78-.78 2.05 0 2.83L4 21.41c.39.39.9.59 1.41.59.51 0 1.02-.2 1.41-.59l7.78-7.78 2.81-2.81c.8-.78.8-2.07 0-2.86zM5.41 20L4 18.59l7.72-7.72 1.47 1.35L5.41 20z\"/>\n",
              "  </svg>\n",
              "      </button>\n",
              "      \n",
              "  <style>\n",
              "    .colab-df-container {\n",
              "      display:flex;\n",
              "      flex-wrap:wrap;\n",
              "      gap: 12px;\n",
              "    }\n",
              "\n",
              "    .colab-df-convert {\n",
              "      background-color: #E8F0FE;\n",
              "      border: none;\n",
              "      border-radius: 50%;\n",
              "      cursor: pointer;\n",
              "      display: none;\n",
              "      fill: #1967D2;\n",
              "      height: 32px;\n",
              "      padding: 0 0 0 0;\n",
              "      width: 32px;\n",
              "    }\n",
              "\n",
              "    .colab-df-convert:hover {\n",
              "      background-color: #E2EBFA;\n",
              "      box-shadow: 0px 1px 2px rgba(60, 64, 67, 0.3), 0px 1px 3px 1px rgba(60, 64, 67, 0.15);\n",
              "      fill: #174EA6;\n",
              "    }\n",
              "\n",
              "    [theme=dark] .colab-df-convert {\n",
              "      background-color: #3B4455;\n",
              "      fill: #D2E3FC;\n",
              "    }\n",
              "\n",
              "    [theme=dark] .colab-df-convert:hover {\n",
              "      background-color: #434B5C;\n",
              "      box-shadow: 0px 1px 3px 1px rgba(0, 0, 0, 0.15);\n",
              "      filter: drop-shadow(0px 1px 2px rgba(0, 0, 0, 0.3));\n",
              "      fill: #FFFFFF;\n",
              "    }\n",
              "  </style>\n",
              "\n",
              "      <script>\n",
              "        const buttonEl =\n",
              "          document.querySelector('#df-ca540067-9937-455a-ad65-d26824e65041 button.colab-df-convert');\n",
              "        buttonEl.style.display =\n",
              "          google.colab.kernel.accessAllowed ? 'block' : 'none';\n",
              "\n",
              "        async function convertToInteractive(key) {\n",
              "          const element = document.querySelector('#df-ca540067-9937-455a-ad65-d26824e65041');\n",
              "          const dataTable =\n",
              "            await google.colab.kernel.invokeFunction('convertToInteractive',\n",
              "                                                     [key], {});\n",
              "          if (!dataTable) return;\n",
              "\n",
              "          const docLinkHtml = 'Like what you see? Visit the ' +\n",
              "            '<a target=\"_blank\" href=https://colab.research.google.com/notebooks/data_table.ipynb>data table notebook</a>'\n",
              "            + ' to learn more about interactive tables.';\n",
              "          element.innerHTML = '';\n",
              "          dataTable['output_type'] = 'display_data';\n",
              "          await google.colab.output.renderOutput(dataTable, element);\n",
              "          const docLink = document.createElement('div');\n",
              "          docLink.innerHTML = docLinkHtml;\n",
              "          element.appendChild(docLink);\n",
              "        }\n",
              "      </script>\n",
              "    </div>\n",
              "  </div>\n",
              "  "
            ]
          },
          "metadata": {},
          "execution_count": 34
        }
      ]
    },
    {
      "cell_type": "code",
      "source": [
        "if QUERY_NAME != 'el_procedures_2.sql':\n",
        "  CATEGORICAL_PROCEDURES = False\n",
        "\n",
        "if CATEGORICAL_PROCEDURES == False:\n",
        "    \n",
        "  # lets represent each activity using a statically defined number\n",
        "  # this will prevent the need for using an embedding layer when traing the LSTM\n",
        "  unique_activities = partial_el['activity'].unique()\n",
        "  n_activities = len(unique_activities) + 1\n",
        "  encode_activity = {unique_activities[i-1] : f'{i}' for i in range(1,n_activities)}\n",
        "\n",
        "  # lets also create a second dictionary that will be used to decode predicted activities\n",
        "  decode_activity = {f'{i}' : unique_activities[i-1] for i in range(1, len(unique_activities)+ 1)}\n",
        "\n",
        "else:\n",
        "  encode_activity = {\n",
        "      'Admitted': '1',\n",
        "      'Transfer': '2',\n",
        "      'Entered ICU': '3',\n",
        "      'Left ICU': '4',\n",
        "      'Discharged': '5',\n",
        "      'Peripheral Lines': '6',\n",
        "      'Invasive Lines': '6',\n",
        "      'Imaging': '7',\n",
        "      'Ventilation': '8',\n",
        "      'Intubation/Extubation': '8',\n",
        "      'Procedures': '9',\n",
        "      'Continuous Procedures': '9',\n",
        "      'Significant Events': '10',\n",
        "      'Dialysis': '11',\n",
        "      'CRRT Filter Change': '11',\n",
        "      'Peritoneal Dialysis': '11',\n",
        "      'Communication': '12'\n",
        "  }\n",
        "  decode_activity = {}\n",
        "\n",
        "encode_activity, decode_activity"
      ],
      "metadata": {
        "colab": {
          "base_uri": "https://localhost:8080/"
        },
        "id": "IGd5SwRG-_fI",
        "outputId": "3938d766-5d50-40bf-b57b-96f72782d40b"
      },
      "execution_count": 35,
      "outputs": [
        {
          "output_type": "execute_result",
          "data": {
            "text/plain": [
              "({'Admitted': '1',\n",
              "  'Entered ICU': '2',\n",
              "  'Ventilation': '3',\n",
              "  'IV': '4',\n",
              "  'Left ICU': '5',\n",
              "  'Discharged': '6',\n",
              "  'Dialysis': '7'},\n",
              " {'1': 'Admitted',\n",
              "  '2': 'Entered ICU',\n",
              "  '3': 'Ventilation',\n",
              "  '4': 'IV',\n",
              "  '5': 'Left ICU',\n",
              "  '6': 'Discharged',\n",
              "  '7': 'Dialysis'})"
            ]
          },
          "metadata": {},
          "execution_count": 35
        }
      ]
    },
    {
      "cell_type": "code",
      "source": [
        "# calculate time deltas for prefix and suffix sequences\n",
        "def calculate_time_deltas(p, s):\n",
        "  p_deltas, s_deltas = [], []\n",
        "  f = '%Y-%d-%m %H:%M:%S'\n",
        "  for i in range(PREFIX_LENGTH):\n",
        "    if p[i] == '0' or p[i+1] == '0':\n",
        "      p_deltas.append(0)\n",
        "\n",
        "    else:\n",
        "      delta = pd.to_datetime(p[i+1], format=f) - pd.to_datetime(p[i], format=f)\n",
        "      p_deltas.append(delta.total_seconds())\n",
        "\n",
        "  for i in range(PREFIX_LENGTH,0,-1):\n",
        "    if s[i] == '0' or s[i-1] == '0':\n",
        "      s_deltas.append(0)\n",
        "    else:\n",
        "      delta = pd.to_datetime(s[i], format=f) - pd.to_datetime(s[i-1], format=f)\n",
        "      s_deltas.append(delta.total_seconds())\n",
        "  \n",
        "  return p_deltas, s_deltas[::-1]"
      ],
      "metadata": {
        "id": "9ruIH6dH1UZP"
      },
      "execution_count": 36,
      "outputs": []
    },
    {
      "cell_type": "code",
      "source": [
        "import numpy as np\n",
        "\n",
        "# create a new labeled data frame\n",
        "def label(el):\n",
        "  # initialise data frame \n",
        " \n",
        "  prefix_arr, suffix_arr, prefix_times_arr, suffix_times_arr, label_arr = [], [], [], [], []\n",
        "  labeled_arr = []\n",
        "  unique_traces = el['trace'].unique()\n",
        "  traces = {x : pd.DataFrame() for x in unique_traces} \n",
        "\n",
        "  for t in unique_traces:\n",
        "    traces[t] = el[:][el.trace == t]  \n",
        "  \n",
        "  for t in unique_traces:\n",
        "    df = traces[t].sort_values(by='timestamp')\n",
        "    activities, timestamps = [], []\n",
        "\n",
        "    for i in df.index:\n",
        "      activity = encode_activity.get(df['activity'][i])\n",
        "      activities.append(activity)\n",
        "\n",
        "      timestamp = df['timestamp'][i]\n",
        "      timestamps.append(timestamp)\n",
        "\n",
        "    \n",
        "    length = len(activities)\n",
        "    \n",
        "    for i in range(length):\n",
        "\n",
        "      label = activities[i]\n",
        "      prefix = activities[:i]\n",
        "      prefix_times = timestamps[:i+1]\n",
        "\n",
        "      suffix = []\n",
        "      suffix_times = []\n",
        "\n",
        "      if i != length - 1:\n",
        "        suffix = activities[i+1:]\n",
        "\n",
        "      if i != length:\n",
        "        suffix_times = timestamps[i:]\n",
        "\n",
        "      padding = []\n",
        "\n",
        "      while len(prefix) + len(padding) < PREFIX_LENGTH:\n",
        "        padding.append('0')\n",
        "      \n",
        "      prefix = padding + prefix\n",
        "        \n",
        "      padding = []\n",
        "      \n",
        "      while len(prefix_times) + len(padding) < PREFIX_LENGTH+1:\n",
        "        padding.append('0')\n",
        "      \n",
        "      prefix_times =  padding + prefix_times\n",
        "\n",
        "      while len(suffix) < PREFIX_LENGTH:\n",
        "        suffix.append('0')\n",
        "\n",
        "      while len(suffix_times) < PREFIX_LENGTH +1:\n",
        "        suffix_times.append('0')\n",
        "\n",
        "      prefix_deltas, suffix_deltas = calculate_time_deltas(prefix_times, suffix_times)\n",
        "      # print(f'prefix t: {prefix_times} \\n suffix t: {suffix_times}')\n",
        "\n",
        "      prefix_arr.append(np.array(prefix[0:PREFIX_LENGTH], dtype=int))\n",
        "      suffix_arr.append(np.array(suffix[0:PREFIX_LENGTH], dtype=int))\n",
        "      prefix_times_arr.append(np.array(prefix_deltas))\n",
        "      suffix_times_arr.append(np.array(suffix_deltas))\n",
        "      label_arr.append(label)\n",
        "\n",
        "  return pd.DataFrame({'prefix' : prefix_arr, \n",
        "                       'suffix' : suffix_arr,\n",
        "                       'prefix time delta' : prefix_times_arr,\n",
        "                       'suffix time delta' : suffix_times_arr,\n",
        "                       'label' : label_arr})\n",
        " "
      ],
      "metadata": {
        "id": "aw2gXPwQ5BpM"
      },
      "execution_count": 37,
      "outputs": []
    },
    {
      "cell_type": "code",
      "source": [
        "from sklearn.model_selection import train_test_split\n",
        "\n",
        "# label event log\n",
        "labeled_el = label(partial_el)\n",
        "\n",
        "# split event log into a train and test set  \n",
        "train_el, test_el  = train_test_split(labeled_el, test_size=TEST_SIZE, random_state=9)\n",
        "train_el\n"
      ],
      "metadata": {
        "id": "wBTD25EXYtal",
        "outputId": "6c3cb6f7-8498-4432-f7e0-d5bdadc7590c",
        "colab": {
          "base_uri": "https://localhost:8080/",
          "height": 0
        }
      },
      "execution_count": 38,
      "outputs": [
        {
          "output_type": "execute_result",
          "data": {
            "text/plain": [
              "                prefix           suffix  \\\n",
              "15993  [0, 0, 1, 2, 5]  [0, 0, 0, 0, 0]   \n",
              "10303  [0, 0, 0, 0, 1]  [5, 2, 5, 6, 0]   \n",
              "21063  [0, 0, 0, 0, 1]  [4, 5, 6, 0, 0]   \n",
              "21805  [0, 0, 0, 0, 1]  [5, 2, 5, 6, 0]   \n",
              "22379  [1, 4, 2, 4, 4]  [4, 3, 4, 5, 6]   \n",
              "...                ...              ...   \n",
              "5014   [0, 0, 0, 1, 2]  [3, 4, 4, 4, 4]   \n",
              "42747  [0, 0, 1, 2, 4]  [4, 3, 4, 5, 6]   \n",
              "22584  [0, 0, 1, 2, 5]  [0, 0, 0, 0, 0]   \n",
              "501    [1, 2, 4, 4, 4]  [4, 2, 4, 5, 6]   \n",
              "20828  [1, 2, 4, 4, 4]  [3, 5, 6, 0, 0]   \n",
              "\n",
              "                                    prefix time delta  \\\n",
              "15993          [0.0, 0.0, 13716.0, 70293.0, 257751.0]   \n",
              "10303                  [0.0, 0.0, 0.0, 0.0, 413613.0]   \n",
              "21063                      [0.0, 0.0, 0.0, 0.0, 48.0]   \n",
              "21805                      [0.0, 0.0, 0.0, 0.0, 37.0]   \n",
              "22379     [173640.0, 45.0, 76815.0, 89040.0, 72540.0]   \n",
              "...                                               ...   \n",
              "5014                  [0.0, 0.0, 0.0, 8480.0, 7720.0]   \n",
              "42747             [0.0, 0.0, 33810.0, 1290.0, 5580.0]   \n",
              "22584           [0.0, 0.0, 143.0, 251728.0, 512169.0]   \n",
              "501    [1882682.0, 2998.0, 14160.0, 11040.0, 44580.0]   \n",
              "20828         [108.0, 8052.0, 60.0, 333360.0, 5340.0]   \n",
              "\n",
              "                                    suffix time delta label  \n",
              "15993                                 [0, 0, 0, 0, 0]     6  \n",
              "10303  [2787121.0, 782827.0, 137726.0, 875093.0, 0.0]     2  \n",
              "21063           [5292.0, 76882.0, 105218.0, 0.0, 0.0]     2  \n",
              "21805   [145042.0, 370918.0, 179012.0, 747691.0, 0.0]     2  \n",
              "22379     [60.0, 49980.0, 368700.0, 18952.0, 94628.0]     4  \n",
              "...                                               ...   ...  \n",
              "5014             [420.0, 120.0, 60.0, 300.0, 74880.0]     4  \n",
              "42747  [1800.0, 87300.0, 323640.0, 94323.0, 417717.0]     4  \n",
              "22584                                 [0, 0, 0, 0, 0]     6  \n",
              "501     [82800.0, 4529.0, 7051.0, 139167.0, 256233.0]     4  \n",
              "20828         [81180.0, 130426.0, 418154.0, 0.0, 0.0]     4  \n",
              "\n",
              "[36383 rows x 5 columns]"
            ],
            "text/html": [
              "\n",
              "  <div id=\"df-a89bc5b5-5258-47e3-87d1-43608d24690c\">\n",
              "    <div class=\"colab-df-container\">\n",
              "      <div>\n",
              "<style scoped>\n",
              "    .dataframe tbody tr th:only-of-type {\n",
              "        vertical-align: middle;\n",
              "    }\n",
              "\n",
              "    .dataframe tbody tr th {\n",
              "        vertical-align: top;\n",
              "    }\n",
              "\n",
              "    .dataframe thead th {\n",
              "        text-align: right;\n",
              "    }\n",
              "</style>\n",
              "<table border=\"1\" class=\"dataframe\">\n",
              "  <thead>\n",
              "    <tr style=\"text-align: right;\">\n",
              "      <th></th>\n",
              "      <th>prefix</th>\n",
              "      <th>suffix</th>\n",
              "      <th>prefix time delta</th>\n",
              "      <th>suffix time delta</th>\n",
              "      <th>label</th>\n",
              "    </tr>\n",
              "  </thead>\n",
              "  <tbody>\n",
              "    <tr>\n",
              "      <th>15993</th>\n",
              "      <td>[0, 0, 1, 2, 5]</td>\n",
              "      <td>[0, 0, 0, 0, 0]</td>\n",
              "      <td>[0.0, 0.0, 13716.0, 70293.0, 257751.0]</td>\n",
              "      <td>[0, 0, 0, 0, 0]</td>\n",
              "      <td>6</td>\n",
              "    </tr>\n",
              "    <tr>\n",
              "      <th>10303</th>\n",
              "      <td>[0, 0, 0, 0, 1]</td>\n",
              "      <td>[5, 2, 5, 6, 0]</td>\n",
              "      <td>[0.0, 0.0, 0.0, 0.0, 413613.0]</td>\n",
              "      <td>[2787121.0, 782827.0, 137726.0, 875093.0, 0.0]</td>\n",
              "      <td>2</td>\n",
              "    </tr>\n",
              "    <tr>\n",
              "      <th>21063</th>\n",
              "      <td>[0, 0, 0, 0, 1]</td>\n",
              "      <td>[4, 5, 6, 0, 0]</td>\n",
              "      <td>[0.0, 0.0, 0.0, 0.0, 48.0]</td>\n",
              "      <td>[5292.0, 76882.0, 105218.0, 0.0, 0.0]</td>\n",
              "      <td>2</td>\n",
              "    </tr>\n",
              "    <tr>\n",
              "      <th>21805</th>\n",
              "      <td>[0, 0, 0, 0, 1]</td>\n",
              "      <td>[5, 2, 5, 6, 0]</td>\n",
              "      <td>[0.0, 0.0, 0.0, 0.0, 37.0]</td>\n",
              "      <td>[145042.0, 370918.0, 179012.0, 747691.0, 0.0]</td>\n",
              "      <td>2</td>\n",
              "    </tr>\n",
              "    <tr>\n",
              "      <th>22379</th>\n",
              "      <td>[1, 4, 2, 4, 4]</td>\n",
              "      <td>[4, 3, 4, 5, 6]</td>\n",
              "      <td>[173640.0, 45.0, 76815.0, 89040.0, 72540.0]</td>\n",
              "      <td>[60.0, 49980.0, 368700.0, 18952.0, 94628.0]</td>\n",
              "      <td>4</td>\n",
              "    </tr>\n",
              "    <tr>\n",
              "      <th>...</th>\n",
              "      <td>...</td>\n",
              "      <td>...</td>\n",
              "      <td>...</td>\n",
              "      <td>...</td>\n",
              "      <td>...</td>\n",
              "    </tr>\n",
              "    <tr>\n",
              "      <th>5014</th>\n",
              "      <td>[0, 0, 0, 1, 2]</td>\n",
              "      <td>[3, 4, 4, 4, 4]</td>\n",
              "      <td>[0.0, 0.0, 0.0, 8480.0, 7720.0]</td>\n",
              "      <td>[420.0, 120.0, 60.0, 300.0, 74880.0]</td>\n",
              "      <td>4</td>\n",
              "    </tr>\n",
              "    <tr>\n",
              "      <th>42747</th>\n",
              "      <td>[0, 0, 1, 2, 4]</td>\n",
              "      <td>[4, 3, 4, 5, 6]</td>\n",
              "      <td>[0.0, 0.0, 33810.0, 1290.0, 5580.0]</td>\n",
              "      <td>[1800.0, 87300.0, 323640.0, 94323.0, 417717.0]</td>\n",
              "      <td>4</td>\n",
              "    </tr>\n",
              "    <tr>\n",
              "      <th>22584</th>\n",
              "      <td>[0, 0, 1, 2, 5]</td>\n",
              "      <td>[0, 0, 0, 0, 0]</td>\n",
              "      <td>[0.0, 0.0, 143.0, 251728.0, 512169.0]</td>\n",
              "      <td>[0, 0, 0, 0, 0]</td>\n",
              "      <td>6</td>\n",
              "    </tr>\n",
              "    <tr>\n",
              "      <th>501</th>\n",
              "      <td>[1, 2, 4, 4, 4]</td>\n",
              "      <td>[4, 2, 4, 5, 6]</td>\n",
              "      <td>[1882682.0, 2998.0, 14160.0, 11040.0, 44580.0]</td>\n",
              "      <td>[82800.0, 4529.0, 7051.0, 139167.0, 256233.0]</td>\n",
              "      <td>4</td>\n",
              "    </tr>\n",
              "    <tr>\n",
              "      <th>20828</th>\n",
              "      <td>[1, 2, 4, 4, 4]</td>\n",
              "      <td>[3, 5, 6, 0, 0]</td>\n",
              "      <td>[108.0, 8052.0, 60.0, 333360.0, 5340.0]</td>\n",
              "      <td>[81180.0, 130426.0, 418154.0, 0.0, 0.0]</td>\n",
              "      <td>4</td>\n",
              "    </tr>\n",
              "  </tbody>\n",
              "</table>\n",
              "<p>36383 rows × 5 columns</p>\n",
              "</div>\n",
              "      <button class=\"colab-df-convert\" onclick=\"convertToInteractive('df-a89bc5b5-5258-47e3-87d1-43608d24690c')\"\n",
              "              title=\"Convert this dataframe to an interactive table.\"\n",
              "              style=\"display:none;\">\n",
              "        \n",
              "  <svg xmlns=\"http://www.w3.org/2000/svg\" height=\"24px\"viewBox=\"0 0 24 24\"\n",
              "       width=\"24px\">\n",
              "    <path d=\"M0 0h24v24H0V0z\" fill=\"none\"/>\n",
              "    <path d=\"M18.56 5.44l.94 2.06.94-2.06 2.06-.94-2.06-.94-.94-2.06-.94 2.06-2.06.94zm-11 1L8.5 8.5l.94-2.06 2.06-.94-2.06-.94L8.5 2.5l-.94 2.06-2.06.94zm10 10l.94 2.06.94-2.06 2.06-.94-2.06-.94-.94-2.06-.94 2.06-2.06.94z\"/><path d=\"M17.41 7.96l-1.37-1.37c-.4-.4-.92-.59-1.43-.59-.52 0-1.04.2-1.43.59L10.3 9.45l-7.72 7.72c-.78.78-.78 2.05 0 2.83L4 21.41c.39.39.9.59 1.41.59.51 0 1.02-.2 1.41-.59l7.78-7.78 2.81-2.81c.8-.78.8-2.07 0-2.86zM5.41 20L4 18.59l7.72-7.72 1.47 1.35L5.41 20z\"/>\n",
              "  </svg>\n",
              "      </button>\n",
              "      \n",
              "  <style>\n",
              "    .colab-df-container {\n",
              "      display:flex;\n",
              "      flex-wrap:wrap;\n",
              "      gap: 12px;\n",
              "    }\n",
              "\n",
              "    .colab-df-convert {\n",
              "      background-color: #E8F0FE;\n",
              "      border: none;\n",
              "      border-radius: 50%;\n",
              "      cursor: pointer;\n",
              "      display: none;\n",
              "      fill: #1967D2;\n",
              "      height: 32px;\n",
              "      padding: 0 0 0 0;\n",
              "      width: 32px;\n",
              "    }\n",
              "\n",
              "    .colab-df-convert:hover {\n",
              "      background-color: #E2EBFA;\n",
              "      box-shadow: 0px 1px 2px rgba(60, 64, 67, 0.3), 0px 1px 3px 1px rgba(60, 64, 67, 0.15);\n",
              "      fill: #174EA6;\n",
              "    }\n",
              "\n",
              "    [theme=dark] .colab-df-convert {\n",
              "      background-color: #3B4455;\n",
              "      fill: #D2E3FC;\n",
              "    }\n",
              "\n",
              "    [theme=dark] .colab-df-convert:hover {\n",
              "      background-color: #434B5C;\n",
              "      box-shadow: 0px 1px 3px 1px rgba(0, 0, 0, 0.15);\n",
              "      filter: drop-shadow(0px 1px 2px rgba(0, 0, 0, 0.3));\n",
              "      fill: #FFFFFF;\n",
              "    }\n",
              "  </style>\n",
              "\n",
              "      <script>\n",
              "        const buttonEl =\n",
              "          document.querySelector('#df-a89bc5b5-5258-47e3-87d1-43608d24690c button.colab-df-convert');\n",
              "        buttonEl.style.display =\n",
              "          google.colab.kernel.accessAllowed ? 'block' : 'none';\n",
              "\n",
              "        async function convertToInteractive(key) {\n",
              "          const element = document.querySelector('#df-a89bc5b5-5258-47e3-87d1-43608d24690c');\n",
              "          const dataTable =\n",
              "            await google.colab.kernel.invokeFunction('convertToInteractive',\n",
              "                                                     [key], {});\n",
              "          if (!dataTable) return;\n",
              "\n",
              "          const docLinkHtml = 'Like what you see? Visit the ' +\n",
              "            '<a target=\"_blank\" href=https://colab.research.google.com/notebooks/data_table.ipynb>data table notebook</a>'\n",
              "            + ' to learn more about interactive tables.';\n",
              "          element.innerHTML = '';\n",
              "          dataTable['output_type'] = 'display_data';\n",
              "          await google.colab.output.renderOutput(dataTable, element);\n",
              "          const docLink = document.createElement('div');\n",
              "          docLink.innerHTML = docLinkHtml;\n",
              "          element.appendChild(docLink);\n",
              "        }\n",
              "      </script>\n",
              "    </div>\n",
              "  </div>\n",
              "  "
            ]
          },
          "metadata": {},
          "execution_count": 38
        }
      ]
    },
    {
      "cell_type": "code",
      "source": [
        "from copy import deepcopy\n",
        "\n",
        "# declare the label of each activity in the test set as missing\n",
        "# return actual labels as targets array for validation\n",
        "def missing(el):\n",
        " \n",
        "  # need to deepcopy targets to derefrence them from dataframe  \n",
        "  targets = deepcopy(el['label'])\n",
        "  el['label'] = 'missing'\n",
        "  return el, targets.to_numpy()"
      ],
      "metadata": {
        "id": "xA8IXkTpdN15"
      },
      "execution_count": 39,
      "outputs": []
    },
    {
      "cell_type": "code",
      "source": [
        "# train_targets = train_el['label'].to_numpy()\n",
        "test_el, test_targets = missing(test_el)\n",
        "test_el, test_targets"
      ],
      "metadata": {
        "id": "rnFG83cIgWs4",
        "colab": {
          "base_uri": "https://localhost:8080/"
        },
        "outputId": "c10c875e-0db9-47b6-9c4b-a09fb1dd05d3"
      },
      "execution_count": 40,
      "outputs": [
        {
          "output_type": "execute_result",
          "data": {
            "text/plain": [
              "(                prefix           suffix  \\\n",
              " 6688   [0, 0, 0, 1, 2]  [5, 6, 0, 0, 0]   \n",
              " 24745  [1, 2, 4, 4, 3]  [5, 6, 0, 0, 0]   \n",
              " 41688  [0, 0, 0, 0, 0]  [2, 5, 6, 0, 0]   \n",
              " 22179  [0, 0, 0, 0, 1]  [4, 4, 4, 5, 6]   \n",
              " 13497  [1, 2, 3, 4, 3]  [6, 0, 0, 0, 0]   \n",
              " ...                ...              ...   \n",
              " 13122  [1, 2, 3, 4, 4]  [4, 5, 6, 0, 0]   \n",
              " 13724  [1, 2, 3, 4, 3]  [5, 6, 0, 0, 0]   \n",
              " 40810  [0, 0, 1, 2, 5]  [0, 0, 0, 0, 0]   \n",
              " 37003  [1, 2, 3, 4, 4]  [4, 3, 3, 4, 5]   \n",
              " 43618  [1, 2, 4, 4, 4]  [4, 5, 2, 4, 5]   \n",
              " \n",
              "                                prefix time delta  \\\n",
              " 6688              [0.0, 0.0, 0.0, 147.0, 6513.0]   \n",
              " 24745  [773457.0, 303.0, 420.0, 499800.0, 360.0]   \n",
              " 41688                            [0, 0, 0, 0, 0]   \n",
              " 22179                 [0.0, 0.0, 0.0, 0.0, 74.0]   \n",
              " 13497  [13578.0, 11022.0, 0.0, 22440.0, 34020.0]   \n",
              " ...                                          ...   \n",
              " 13122     [401461.0, 7379.0, 1200.0, 60.0, 60.0]   \n",
              " 13724     [110.0, 3370.0, 0.0, 28620.0, 61260.0]   \n",
              " 40810     [0.0, 0.0, 14399.0, 95753.0, 532628.0]   \n",
              " 37003     [17458.0, 4262.0, 840.0, 60.0, 2460.0]   \n",
              " 43618    [148463.0, 277.0, 60.0, 6360.0, 4680.0]   \n",
              " \n",
              "                                     suffix time delta    label  \n",
              " 6688              [241678.0, 488942.0, 0.0, 0.0, 0.0]  missing  \n",
              " 24745             [459969.0, 347931.0, 0.0, 0.0, 0.0]  missing  \n",
              " 41688           [94.0, 1147265.0, 300201.0, 0.0, 0.0]  missing  \n",
              " 22179     [5086.0, 60.0, 192720.0, 49336.0, 431864.0]  missing  \n",
              " 13497                  [268516.0, 0.0, 0.0, 0.0, 0.0]  missing  \n",
              " ...                                               ...      ...  \n",
              " 13122          [63300.0, 38011.0, 244589.0, 0.0, 0.0]  missing  \n",
              " 13724              [19347.0, 182253.0, 0.0, 0.0, 0.0]  missing  \n",
              " 40810                                 [0, 0, 0, 0, 0]  missing  \n",
              " 37003   [30600.0, 99000.0, 80940.0, 94560.0, 24126.0]  missing  \n",
              " 43618  [3480.0, 204792.0, 1187840.0, 5728.0, 85373.0]  missing  \n",
              " \n",
              " [9096 rows x 5 columns],\n",
              " array(['4', '3', '1', ..., '6', '4', '4'], dtype=object))"
            ]
          },
          "metadata": {},
          "execution_count": 40
        }
      ]
    },
    {
      "cell_type": "code",
      "source": [
        "# create validation set\n",
        "train_el, validation_el = train_test_split(train_el, test_size=VALIDATION_SIZE, random_state=9)"
      ],
      "metadata": {
        "id": "p88RY8E-y-vK"
      },
      "execution_count": 41,
      "outputs": []
    },
    {
      "cell_type": "code",
      "source": [
        "from keras.utils import to_categorical\n",
        "\n",
        "def format_input(el, train=False):\n",
        "\n",
        "  prefix_x = np.array(el['prefix'])\n",
        "  prefix_x = np.stack(prefix_x)\n",
        "  prefix_x = prefix_x.reshape(prefix_x.shape[0], prefix_x.shape[1], 1)\n",
        "  \n",
        "  suffix_x = np.array(el['suffix'])\n",
        "  suffix_x = np.stack(suffix_x)\n",
        "  suffix_x = suffix_x.reshape(suffix_x.shape[0], suffix_x.shape[1], 1)\n",
        "\n",
        "  prefix_td = np.array(el['prefix time delta'])\n",
        "  prefix_td = np.stack(prefix_td)\n",
        "  prefix_td = prefix_td.reshape(prefix_td.shape[0], prefix_td.shape[1], 1)\n",
        "\n",
        "  suffix_td = np.array(el['suffix time delta'])\n",
        "  suffix_td = np.stack(suffix_td)\n",
        "  suffix_td = suffix_td.reshape(suffix_td.shape[0], suffix_td.shape[1], 1)\n",
        "\n",
        "  x = np.concatenate(([prefix_x], [suffix_x], [prefix_td], [suffix_td]))\n",
        "\n",
        "  y = np.array(el['label'])\n",
        "  y = np.stack(y)\n",
        "  \n",
        "  if train is False:\n",
        "    y_encoded = to_categorical(y, n_activities)\n",
        "    return x, y_encoded\n",
        "  \n",
        "  return x, y"
      ],
      "metadata": {
        "id": "nW4QoUeN7tD0"
      },
      "execution_count": 42,
      "outputs": []
    },
    {
      "cell_type": "code",
      "source": [
        "train_x, train_y = format_input(train_el) \n",
        "validation_x, validation_y = format_input(validation_el)\n",
        "test_x, test_y = format_input(test_el, train=True)\n",
        "test_x\n"
      ],
      "metadata": {
        "id": "gKFqX1mH8LON",
        "colab": {
          "base_uri": "https://localhost:8080/"
        },
        "outputId": "6fcc98ce-4414-4773-b124-fe1ef6dcb1f8"
      },
      "execution_count": 43,
      "outputs": [
        {
          "output_type": "execute_result",
          "data": {
            "text/plain": [
              "array([[[[0.000000e+00],\n",
              "         [0.000000e+00],\n",
              "         [0.000000e+00],\n",
              "         [1.000000e+00],\n",
              "         [2.000000e+00]],\n",
              "\n",
              "        [[1.000000e+00],\n",
              "         [2.000000e+00],\n",
              "         [4.000000e+00],\n",
              "         [4.000000e+00],\n",
              "         [3.000000e+00]],\n",
              "\n",
              "        [[0.000000e+00],\n",
              "         [0.000000e+00],\n",
              "         [0.000000e+00],\n",
              "         [0.000000e+00],\n",
              "         [0.000000e+00]],\n",
              "\n",
              "        ...,\n",
              "\n",
              "        [[0.000000e+00],\n",
              "         [0.000000e+00],\n",
              "         [1.000000e+00],\n",
              "         [2.000000e+00],\n",
              "         [5.000000e+00]],\n",
              "\n",
              "        [[1.000000e+00],\n",
              "         [2.000000e+00],\n",
              "         [3.000000e+00],\n",
              "         [4.000000e+00],\n",
              "         [4.000000e+00]],\n",
              "\n",
              "        [[1.000000e+00],\n",
              "         [2.000000e+00],\n",
              "         [4.000000e+00],\n",
              "         [4.000000e+00],\n",
              "         [4.000000e+00]]],\n",
              "\n",
              "\n",
              "       [[[5.000000e+00],\n",
              "         [6.000000e+00],\n",
              "         [0.000000e+00],\n",
              "         [0.000000e+00],\n",
              "         [0.000000e+00]],\n",
              "\n",
              "        [[5.000000e+00],\n",
              "         [6.000000e+00],\n",
              "         [0.000000e+00],\n",
              "         [0.000000e+00],\n",
              "         [0.000000e+00]],\n",
              "\n",
              "        [[2.000000e+00],\n",
              "         [5.000000e+00],\n",
              "         [6.000000e+00],\n",
              "         [0.000000e+00],\n",
              "         [0.000000e+00]],\n",
              "\n",
              "        ...,\n",
              "\n",
              "        [[0.000000e+00],\n",
              "         [0.000000e+00],\n",
              "         [0.000000e+00],\n",
              "         [0.000000e+00],\n",
              "         [0.000000e+00]],\n",
              "\n",
              "        [[4.000000e+00],\n",
              "         [3.000000e+00],\n",
              "         [3.000000e+00],\n",
              "         [4.000000e+00],\n",
              "         [5.000000e+00]],\n",
              "\n",
              "        [[4.000000e+00],\n",
              "         [5.000000e+00],\n",
              "         [2.000000e+00],\n",
              "         [4.000000e+00],\n",
              "         [5.000000e+00]]],\n",
              "\n",
              "\n",
              "       [[[0.000000e+00],\n",
              "         [0.000000e+00],\n",
              "         [0.000000e+00],\n",
              "         [1.470000e+02],\n",
              "         [6.513000e+03]],\n",
              "\n",
              "        [[7.734570e+05],\n",
              "         [3.030000e+02],\n",
              "         [4.200000e+02],\n",
              "         [4.998000e+05],\n",
              "         [3.600000e+02]],\n",
              "\n",
              "        [[0.000000e+00],\n",
              "         [0.000000e+00],\n",
              "         [0.000000e+00],\n",
              "         [0.000000e+00],\n",
              "         [0.000000e+00]],\n",
              "\n",
              "        ...,\n",
              "\n",
              "        [[0.000000e+00],\n",
              "         [0.000000e+00],\n",
              "         [1.439900e+04],\n",
              "         [9.575300e+04],\n",
              "         [5.326280e+05]],\n",
              "\n",
              "        [[1.745800e+04],\n",
              "         [4.262000e+03],\n",
              "         [8.400000e+02],\n",
              "         [6.000000e+01],\n",
              "         [2.460000e+03]],\n",
              "\n",
              "        [[1.484630e+05],\n",
              "         [2.770000e+02],\n",
              "         [6.000000e+01],\n",
              "         [6.360000e+03],\n",
              "         [4.680000e+03]]],\n",
              "\n",
              "\n",
              "       [[[2.416780e+05],\n",
              "         [4.889420e+05],\n",
              "         [0.000000e+00],\n",
              "         [0.000000e+00],\n",
              "         [0.000000e+00]],\n",
              "\n",
              "        [[4.599690e+05],\n",
              "         [3.479310e+05],\n",
              "         [0.000000e+00],\n",
              "         [0.000000e+00],\n",
              "         [0.000000e+00]],\n",
              "\n",
              "        [[9.400000e+01],\n",
              "         [1.147265e+06],\n",
              "         [3.002010e+05],\n",
              "         [0.000000e+00],\n",
              "         [0.000000e+00]],\n",
              "\n",
              "        ...,\n",
              "\n",
              "        [[0.000000e+00],\n",
              "         [0.000000e+00],\n",
              "         [0.000000e+00],\n",
              "         [0.000000e+00],\n",
              "         [0.000000e+00]],\n",
              "\n",
              "        [[3.060000e+04],\n",
              "         [9.900000e+04],\n",
              "         [8.094000e+04],\n",
              "         [9.456000e+04],\n",
              "         [2.412600e+04]],\n",
              "\n",
              "        [[3.480000e+03],\n",
              "         [2.047920e+05],\n",
              "         [1.187840e+06],\n",
              "         [5.728000e+03],\n",
              "         [8.537300e+04]]]])"
            ]
          },
          "metadata": {},
          "execution_count": 43
        }
      ]
    },
    {
      "cell_type": "markdown",
      "source": [
        "## Section 4: Predicting Missing Activities using LSTM"
      ],
      "metadata": {
        "id": "EXAnlX9-9ucz"
      }
    },
    {
      "cell_type": "markdown",
      "source": [
        "###4.1 Prefix LSTM"
      ],
      "metadata": {
        "id": "TFzjzYvHofju"
      }
    },
    {
      "cell_type": "code",
      "source": [
        "# forwards LSTM\n",
        "from numpy import array\n",
        "from keras.models import Sequential\n",
        "from keras.layers import LSTM, Dense, Softmax, Bidirectional, Embedding\n",
        "\n",
        "\n",
        "prefix_LSTM = Sequential()\n",
        "prefix_LSTM.add(Embedding(input_dim=n_activities, output_dim=50))\n",
        "prefix_LSTM.add(LSTM(50, activation='relu', return_sequences=False, input_shape=(PREFIX_LENGTH, 1)))\n",
        "prefix_LSTM.add(Dense(n_activities, activation='softmax'))\n",
        "\n",
        "prefix_LSTM.compile(optimizer='adam', loss='categorical_crossentropy', metrics=['accuracy'])\n",
        "prefix_LSTM.summary()\n",
        "prefix_LSTM.fit(train_x[0], train_y, validation_data=(validation_x[0], validation_y), epochs=10)\n"
      ],
      "metadata": {
        "id": "oCr7EikZNzvZ",
        "outputId": "70160f53-fb6b-4279-905c-d98ca39f1c46",
        "colab": {
          "base_uri": "https://localhost:8080/"
        }
      },
      "execution_count": null,
      "outputs": [
        {
          "output_type": "stream",
          "name": "stdout",
          "text": [
            "Model: \"sequential\"\n",
            "_________________________________________________________________\n",
            " Layer (type)                Output Shape              Param #   \n",
            "=================================================================\n",
            " embedding (Embedding)       (None, None, 50)          900       \n",
            "                                                                 \n",
            " lstm (LSTM)                 (None, 50)                20200     \n",
            "                                                                 \n",
            " dense (Dense)               (None, 18)                918       \n",
            "                                                                 \n",
            "=================================================================\n",
            "Total params: 22,018\n",
            "Trainable params: 22,018\n",
            "Non-trainable params: 0\n",
            "_________________________________________________________________\n",
            "Epoch 1/10\n",
            "1177/1177 [==============================] - 16s 11ms/step - loss: 1.5404 - accuracy: 0.4633 - val_loss: 1.4310 - val_accuracy: 0.5028\n",
            "Epoch 2/10\n",
            "1177/1177 [==============================] - 10s 8ms/step - loss: 1.4067 - accuracy: 0.4960 - val_loss: 1.4064 - val_accuracy: 0.5023\n",
            "Epoch 3/10\n",
            "1177/1177 [==============================] - 9s 8ms/step - loss: 1.3955 - accuracy: 0.4976 - val_loss: 1.4017 - val_accuracy: 0.5020\n",
            "Epoch 4/10\n",
            "1177/1177 [==============================] - 11s 9ms/step - loss: 1.3902 - accuracy: 0.4993 - val_loss: 1.4028 - val_accuracy: 0.5023\n",
            "Epoch 5/10\n",
            "1177/1177 [==============================] - 16s 13ms/step - loss: 1.3864 - accuracy: 0.5011 - val_loss: 1.3985 - val_accuracy: 0.4948\n",
            "Epoch 6/10\n",
            "1177/1177 [==============================] - 9s 8ms/step - loss: 1.3831 - accuracy: 0.5030 - val_loss: 1.3986 - val_accuracy: 0.5030\n",
            "Epoch 7/10\n",
            "1177/1177 [==============================] - 11s 10ms/step - loss: 1.3813 - accuracy: 0.5022 - val_loss: 1.3942 - val_accuracy: 0.4956\n",
            "Epoch 8/10\n",
            "1177/1177 [==============================] - 10s 8ms/step - loss: 1.3789 - accuracy: 0.5032 - val_loss: 1.4014 - val_accuracy: 0.5002\n",
            "Epoch 9/10\n",
            "1177/1177 [==============================] - 10s 9ms/step - loss: 1.3783 - accuracy: 0.5036 - val_loss: 1.3935 - val_accuracy: 0.5022\n",
            "Epoch 10/10\n",
            "1177/1177 [==============================] - 12s 10ms/step - loss: 1.3763 - accuracy: 0.5050 - val_loss: 1.3961 - val_accuracy: 0.5037\n"
          ]
        },
        {
          "output_type": "execute_result",
          "data": {
            "text/plain": [
              "<keras.callbacks.History at 0x7f963ed231c0>"
            ]
          },
          "metadata": {},
          "execution_count": 30
        }
      ]
    },
    {
      "cell_type": "markdown",
      "source": [
        "###4.2 Suffix LSTM"
      ],
      "metadata": {
        "id": "aGpe3K7XomJb"
      }
    },
    {
      "cell_type": "code",
      "source": [
        "# backwards LSTM\n",
        "\n",
        "suffix_LSTM = Sequential()\n",
        "suffix_LSTM.add(Embedding(input_dim=n_activities, output_dim=50))\n",
        "suffix_LSTM.add(LSTM(50, activation='relu', return_sequences=False, input_shape=(PREFIX_LENGTH, 1)))\n",
        "suffix_LSTM.add(Dense(n_activities, activation='softmax'))\n",
        "\n",
        "suffix_LSTM.compile(optimizer='adam', loss='categorical_crossentropy', metrics=['accuracy'])\n",
        "suffix_LSTM.summary()\n",
        "suffix_LSTM.fit(train_x[1], train_y, validation_data=(validation_x[1], validation_y), epochs=10)\n"
      ],
      "metadata": {
        "colab": {
          "base_uri": "https://localhost:8080/"
        },
        "id": "m6M3ftNNPzC4",
        "outputId": "6c0d9c52-5de4-4c3c-983d-ed54755bfbd9"
      },
      "execution_count": null,
      "outputs": [
        {
          "output_type": "stream",
          "name": "stdout",
          "text": [
            "Model: \"sequential_1\"\n",
            "_________________________________________________________________\n",
            " Layer (type)                Output Shape              Param #   \n",
            "=================================================================\n",
            " embedding_1 (Embedding)     (None, None, 50)          900       \n",
            "                                                                 \n",
            " lstm_1 (LSTM)               (None, 50)                20200     \n",
            "                                                                 \n",
            " dense_1 (Dense)             (None, 18)                918       \n",
            "                                                                 \n",
            "=================================================================\n",
            "Total params: 22,018\n",
            "Trainable params: 22,018\n",
            "Non-trainable params: 0\n",
            "_________________________________________________________________\n",
            "Epoch 1/10\n",
            "1177/1177 [==============================] - 15s 11ms/step - loss: 1.3643 - accuracy: 0.5302 - val_loss: 1.2374 - val_accuracy: 0.5639\n",
            "Epoch 2/10\n",
            "1177/1177 [==============================] - 11s 9ms/step - loss: 1.2076 - accuracy: 0.5707 - val_loss: 1.2256 - val_accuracy: 0.5635\n",
            "Epoch 3/10\n",
            "1177/1177 [==============================] - 10s 8ms/step - loss: 1.1955 - accuracy: 0.5751 - val_loss: 1.2096 - val_accuracy: 0.5704\n",
            "Epoch 4/10\n",
            "1177/1177 [==============================] - 12s 10ms/step - loss: 1.1863 - accuracy: 0.5740 - val_loss: 1.1918 - val_accuracy: 0.5715\n",
            "Epoch 5/10\n",
            "1177/1177 [==============================] - 9s 8ms/step - loss: 1.1775 - accuracy: 0.5790 - val_loss: 1.1854 - val_accuracy: 0.5773\n",
            "Epoch 6/10\n",
            "1177/1177 [==============================] - 11s 9ms/step - loss: 1.1724 - accuracy: 0.5804 - val_loss: 1.1847 - val_accuracy: 0.5762\n",
            "Epoch 7/10\n",
            "1177/1177 [==============================] - 11s 9ms/step - loss: 1.1657 - accuracy: 0.5824 - val_loss: 1.1770 - val_accuracy: 0.5792\n",
            "Epoch 8/10\n",
            "1177/1177 [==============================] - 9s 8ms/step - loss: 1.1614 - accuracy: 0.5846 - val_loss: 1.1749 - val_accuracy: 0.5817\n",
            "Epoch 9/10\n",
            "1177/1177 [==============================] - 12s 10ms/step - loss: 1.1569 - accuracy: 0.5842 - val_loss: 1.1754 - val_accuracy: 0.5819\n",
            "Epoch 10/10\n",
            "1177/1177 [==============================] - 12s 10ms/step - loss: 1.1532 - accuracy: 0.5863 - val_loss: 1.1672 - val_accuracy: 0.5803\n"
          ]
        },
        {
          "output_type": "execute_result",
          "data": {
            "text/plain": [
              "<keras.callbacks.History at 0x7f963f774910>"
            ]
          },
          "metadata": {},
          "execution_count": 31
        }
      ]
    },
    {
      "cell_type": "markdown",
      "source": [
        "###4.3 Bidirectional LSTM with activities"
      ],
      "metadata": {
        "id": "G50NuIbPosMC"
      }
    },
    {
      "cell_type": "code",
      "source": [
        "from pandas.core.internals import concat\n",
        "# Bidirectional LSTM\n",
        "from keras.layers import Bidirectional, LSTM, Dropout, Dense, Input, concatenate, average\n",
        "from keras import Model\n",
        "\n",
        "prefix_input = Input(shape=(PREFIX_LENGTH, 1), name='prefix_input')\n",
        "suffix_input = Input(shape=(PREFIX_LENGTH, 1), name='suffix_input')\n",
        "\n",
        "lstm_layer = LSTM(32)\n",
        "\n",
        "prefix_layer = Bidirectional(lstm_layer, name='prefix_lstm')(prefix_input)\n",
        "suffix_layer = Bidirectional(lstm_layer, name='suffix_lstm')(suffix_input)\n",
        "\n",
        "dropout_prefix = Dropout(0.2)(prefix_layer)\n",
        "dropout_suffix = Dropout(0.2)(suffix_layer)\n",
        "\n",
        "merged = concatenate([dropout_prefix, dropout_suffix], name='merged')\n",
        "\n",
        "output = Dense(n_activities, activation='softmax', name='output')(merged)\n",
        "\n",
        "bi_LSTM = Model(inputs=[prefix_input, suffix_input], outputs=output)\n",
        "bi_LSTM.compile(loss='categorical_crossentropy', optimizer='adam', metrics=['accuracy'])\n",
        "bi_LSTM.summary()\n",
        "bi_LSTM.fit((train_x[0], train_x[1]), train_y,  validation_data=((validation_x[0], validation_x[1]), validation_y), epochs=10)"
      ],
      "metadata": {
        "colab": {
          "base_uri": "https://localhost:8080/"
        },
        "id": "5hVt5Hezf2n0",
        "outputId": "f6baf6c0-8772-445e-ccd8-0f822a56841d"
      },
      "execution_count": null,
      "outputs": [
        {
          "output_type": "stream",
          "name": "stdout",
          "text": [
            "Model: \"model_20\"\n",
            "__________________________________________________________________________________________________\n",
            " Layer (type)                   Output Shape         Param #     Connected to                     \n",
            "==================================================================================================\n",
            " prefix_input (InputLayer)      [(None, 5, 1)]       0           []                               \n",
            "                                                                                                  \n",
            " suffix_input (InputLayer)      [(None, 5, 1)]       0           []                               \n",
            "                                                                                                  \n",
            " prefix_lstm (Bidirectional)    (None, 64)           8704        ['prefix_input[0][0]']           \n",
            "                                                                                                  \n",
            " suffix_lstm (Bidirectional)    (None, 64)           8704        ['suffix_input[0][0]']           \n",
            "                                                                                                  \n",
            " dropout_52 (Dropout)           (None, 64)           0           ['prefix_lstm[0][0]']            \n",
            "                                                                                                  \n",
            " dropout_53 (Dropout)           (None, 64)           0           ['suffix_lstm[0][0]']            \n",
            "                                                                                                  \n",
            " merged (Concatenate)           (None, 128)          0           ['dropout_52[0][0]',             \n",
            "                                                                  'dropout_53[0][0]']             \n",
            "                                                                                                  \n",
            " output (Dense)                 (None, 5)            645         ['merged[0][0]']                 \n",
            "                                                                                                  \n",
            "==================================================================================================\n",
            "Total params: 18,053\n",
            "Trainable params: 18,053\n",
            "Non-trainable params: 0\n",
            "__________________________________________________________________________________________________\n",
            "Epoch 1/10\n",
            "78/78 [==============================] - 9s 27ms/step - loss: 1.0382 - accuracy: 0.6990 - val_loss: 0.4923 - val_accuracy: 0.9792\n",
            "Epoch 2/10\n",
            "78/78 [==============================] - 1s 10ms/step - loss: 0.2841 - accuracy: 0.9639 - val_loss: 0.1104 - val_accuracy: 0.9728\n",
            "Epoch 3/10\n",
            "78/78 [==============================] - 1s 11ms/step - loss: 0.0810 - accuracy: 0.9787 - val_loss: 0.0459 - val_accuracy: 0.9824\n",
            "Epoch 4/10\n",
            "78/78 [==============================] - 1s 15ms/step - loss: 0.0414 - accuracy: 0.9892 - val_loss: 0.0242 - val_accuracy: 1.0000\n",
            "Epoch 5/10\n",
            "78/78 [==============================] - 1s 15ms/step - loss: 0.0270 - accuracy: 0.9940 - val_loss: 0.0158 - val_accuracy: 1.0000\n",
            "Epoch 6/10\n",
            "78/78 [==============================] - 1s 15ms/step - loss: 0.0188 - accuracy: 0.9980 - val_loss: 0.0099 - val_accuracy: 1.0000\n",
            "Epoch 7/10\n",
            "78/78 [==============================] - 1s 11ms/step - loss: 0.0111 - accuracy: 0.9984 - val_loss: 0.0070 - val_accuracy: 1.0000\n",
            "Epoch 8/10\n",
            "78/78 [==============================] - 1s 11ms/step - loss: 0.0099 - accuracy: 0.9992 - val_loss: 0.0049 - val_accuracy: 1.0000\n",
            "Epoch 9/10\n",
            "78/78 [==============================] - 1s 9ms/step - loss: 0.0070 - accuracy: 0.9992 - val_loss: 0.0038 - val_accuracy: 1.0000\n",
            "Epoch 10/10\n",
            "78/78 [==============================] - 1s 10ms/step - loss: 0.0051 - accuracy: 0.9996 - val_loss: 0.0030 - val_accuracy: 1.0000\n"
          ]
        },
        {
          "output_type": "execute_result",
          "data": {
            "text/plain": [
              "<keras.callbacks.History at 0x7fb5bf7fabb0>"
            ]
          },
          "metadata": {},
          "execution_count": 165
        }
      ]
    },
    {
      "cell_type": "markdown",
      "source": [
        "###4.4 Bi-directional LSTM with time deltas "
      ],
      "metadata": {
        "id": "bUGOG0PDTfz0"
      }
    },
    {
      "cell_type": "code",
      "source": [
        "prefix_input = Input(shape=(PREFIX_LENGTH, 1), name='prefix_input')\n",
        "suffix_input = Input(shape=(PREFIX_LENGTH, 1), name='suffix_input')\n",
        "\n",
        "lstm_layer = LSTM(32)\n",
        "\n",
        "prefix_layer = Bidirectional(lstm_layer, name='prefix_lstm')(prefix_input)\n",
        "suffix_layer = Bidirectional(lstm_layer, name='suffix_lstm')(suffix_input)\n",
        "\n",
        "dropout_prefix = Dropout(0.2)(prefix_layer)\n",
        "dropout_suffix = Dropout(0.2)(suffix_layer)\n",
        "\n",
        "merged = concatenate([dropout_prefix, dropout_suffix], name='merged')\n",
        "\n",
        "output = Dense(n_activities, activation='softmax', name='output')(merged)\n",
        "\n",
        "td_LSTM = Model(inputs=[prefix_input, suffix_input], outputs=output)\n",
        "td_LSTM.compile(loss='categorical_crossentropy', optimizer='adam', metrics=['accuracy'])\n",
        "td_LSTM.summary()\n",
        "td_LSTM.fit((train_x[2], train_x[3]), train_y,  validation_data=((validation_x[2], validation_x[3]), validation_y), epochs=10)"
      ],
      "metadata": {
        "colab": {
          "base_uri": "https://localhost:8080/"
        },
        "id": "uyshofNOTt_7",
        "outputId": "daf1e26f-5758-4237-9ca2-e35db2f01aed"
      },
      "execution_count": null,
      "outputs": [
        {
          "output_type": "stream",
          "name": "stdout",
          "text": [
            "Model: \"model_21\"\n",
            "__________________________________________________________________________________________________\n",
            " Layer (type)                   Output Shape         Param #     Connected to                     \n",
            "==================================================================================================\n",
            " prefix_input (InputLayer)      [(None, 5, 1)]       0           []                               \n",
            "                                                                                                  \n",
            " suffix_input (InputLayer)      [(None, 5, 1)]       0           []                               \n",
            "                                                                                                  \n",
            " prefix_lstm (Bidirectional)    (None, 64)           8704        ['prefix_input[0][0]']           \n",
            "                                                                                                  \n",
            " suffix_lstm (Bidirectional)    (None, 64)           8704        ['suffix_input[0][0]']           \n",
            "                                                                                                  \n",
            " dropout_54 (Dropout)           (None, 64)           0           ['prefix_lstm[0][0]']            \n",
            "                                                                                                  \n",
            " dropout_55 (Dropout)           (None, 64)           0           ['suffix_lstm[0][0]']            \n",
            "                                                                                                  \n",
            " merged (Concatenate)           (None, 128)          0           ['dropout_54[0][0]',             \n",
            "                                                                  'dropout_55[0][0]']             \n",
            "                                                                                                  \n",
            " output (Dense)                 (None, 5)            645         ['merged[0][0]']                 \n",
            "                                                                                                  \n",
            "==================================================================================================\n",
            "Total params: 18,053\n",
            "Trainable params: 18,053\n",
            "Non-trainable params: 0\n",
            "__________________________________________________________________________________________________\n",
            "Epoch 1/10\n",
            "78/78 [==============================] - 9s 27ms/step - loss: 0.8315 - accuracy: 0.7600 - val_loss: 0.2461 - val_accuracy: 0.9744\n",
            "Epoch 2/10\n",
            "78/78 [==============================] - 1s 13ms/step - loss: 0.1059 - accuracy: 0.9815 - val_loss: 0.0759 - val_accuracy: 0.9760\n",
            "Epoch 3/10\n",
            "78/78 [==============================] - 1s 15ms/step - loss: 0.0407 - accuracy: 0.9852 - val_loss: 0.0573 - val_accuracy: 0.9744\n",
            "Epoch 4/10\n",
            "78/78 [==============================] - 1s 15ms/step - loss: 0.0328 - accuracy: 0.9856 - val_loss: 0.0477 - val_accuracy: 0.9824\n",
            "Epoch 5/10\n",
            "78/78 [==============================] - 1s 13ms/step - loss: 0.0259 - accuracy: 0.9888 - val_loss: 0.0419 - val_accuracy: 0.9904\n",
            "Epoch 6/10\n",
            "78/78 [==============================] - 1s 10ms/step - loss: 0.0211 - accuracy: 0.9932 - val_loss: 0.0386 - val_accuracy: 0.9904\n",
            "Epoch 7/10\n",
            "78/78 [==============================] - 1s 9ms/step - loss: 0.0216 - accuracy: 0.9908 - val_loss: 0.0383 - val_accuracy: 0.9920\n",
            "Epoch 8/10\n",
            "78/78 [==============================] - 1s 10ms/step - loss: 0.0182 - accuracy: 0.9952 - val_loss: 0.0329 - val_accuracy: 0.9904\n",
            "Epoch 9/10\n",
            "78/78 [==============================] - 1s 9ms/step - loss: 0.0153 - accuracy: 0.9960 - val_loss: 0.0286 - val_accuracy: 0.9904\n",
            "Epoch 10/10\n",
            "78/78 [==============================] - 1s 10ms/step - loss: 0.0142 - accuracy: 0.9940 - val_loss: 0.0330 - val_accuracy: 0.9904\n"
          ]
        },
        {
          "output_type": "execute_result",
          "data": {
            "text/plain": [
              "<keras.callbacks.History at 0x7fb5b3d65cd0>"
            ]
          },
          "metadata": {},
          "execution_count": 166
        }
      ]
    },
    {
      "cell_type": "markdown",
      "source": [
        "###4.5 Bi-directional LSTM with both activities and timedeltas"
      ],
      "metadata": {
        "id": "57iYyLcgH8qe"
      }
    },
    {
      "cell_type": "markdown",
      "source": [
        "####4.5.1 original architecture"
      ],
      "metadata": {
        "id": "emd5L4seVkct"
      }
    },
    {
      "cell_type": "code",
      "source": [
        "# this LSTM takes additional two inputs:\n",
        "# time deltas for the prefix events\n",
        "# time deltas for the suffix events\n",
        "from keras.layers import LSTM, Dense, Bidirectional, average, Input, concatenate, Dropout\n",
        "from keras import Model\n",
        "\n",
        "\n",
        "prefix_events_input = Input(shape=(PREFIX_LENGTH, 1), name='prefix_events_input')\n",
        "suffix_events_input = Input(shape=(PREFIX_LENGTH, 1), name='suffix_events_input')\n",
        "\n",
        "prefix_deltas_input = Input(shape=(PREFIX_LENGTH, 1), name='prefix_deltas_input')\n",
        "suffix_deltas_input = Input(shape=(PREFIX_LENGTH, 1), name='suffix_deltas_input')\n",
        "\n",
        "merged_prefix = concatenate([prefix_events_input, prefix_deltas_input], axis=-1)\n",
        "merged_suffix = concatenate([suffix_events_input, suffix_deltas_input], axis=-1)\n",
        "\n",
        "lstm_layer = LSTM(32)\n",
        "\n",
        "prefix_layer = Bidirectional(lstm_layer, name='prefix_lstm')(merged_prefix)\n",
        "suffix_layer = Bidirectional(lstm_layer, name='suffix_lstm')(merged_suffix)\n",
        "\n",
        "dropout_prefix = Dropout(0.2)(prefix_layer)\n",
        "dropout_suffix = Dropout(0.2)(suffix_layer)\n",
        "\n",
        "merged = concatenate([dropout_prefix, dropout_suffix], name='merged')\n",
        "\n",
        "output = Dense(n_activities, activation='softmax', name='output')(merged)\n",
        "\n",
        "bi_LSTM_td = Model(\n",
        "    inputs=[prefix_events_input, suffix_events_input, prefix_deltas_input, suffix_deltas_input],\n",
        "    outputs=output)\n",
        "\n",
        "bi_LSTM_td.compile(loss='categorical_crossentropy', optimizer='adam', metrics=['accuracy'])\n",
        "bi_LSTM_td.summary()\n",
        "bi_LSTM_td.fit(\n",
        "    (train_x[0], train_x[1], train_x[2], train_x[3]),\n",
        "    train_y,\n",
        "    validation_data=((validation_x[0], validation_x[1], validation_x[2], validation_x[3]),\n",
        "                     validation_y), epochs=10)\n",
        "\n"
      ],
      "metadata": {
        "colab": {
          "base_uri": "https://localhost:8080/",
          "height": 1000
        },
        "id": "aQ9ET2h1IBUH",
        "outputId": "f8b8fea0-a6d5-4682-b7df-f0686414f525"
      },
      "execution_count": 30,
      "outputs": [
        {
          "output_type": "stream",
          "name": "stdout",
          "text": [
            "Model: \"model\"\n",
            "__________________________________________________________________________________________________\n",
            " Layer (type)                   Output Shape         Param #     Connected to                     \n",
            "==================================================================================================\n",
            " prefix_events_input (InputLaye  [(None, 1, 1)]      0           []                               \n",
            " r)                                                                                               \n",
            "                                                                                                  \n",
            " prefix_deltas_input (InputLaye  [(None, 1, 1)]      0           []                               \n",
            " r)                                                                                               \n",
            "                                                                                                  \n",
            " suffix_events_input (InputLaye  [(None, 1, 1)]      0           []                               \n",
            " r)                                                                                               \n",
            "                                                                                                  \n",
            " suffix_deltas_input (InputLaye  [(None, 1, 1)]      0           []                               \n",
            " r)                                                                                               \n",
            "                                                                                                  \n",
            " concatenate_2 (Concatenate)    (None, 1, 2)         0           ['prefix_events_input[0][0]',    \n",
            "                                                                  'prefix_deltas_input[0][0]']    \n",
            "                                                                                                  \n",
            " concatenate_3 (Concatenate)    (None, 1, 2)         0           ['suffix_events_input[0][0]',    \n",
            "                                                                  'suffix_deltas_input[0][0]']    \n",
            "                                                                                                  \n",
            " prefix_lstm (Bidirectional)    (None, 64)           8960        ['concatenate_2[0][0]']          \n",
            "                                                                                                  \n",
            " suffix_lstm (Bidirectional)    (None, 64)           8960        ['concatenate_3[0][0]']          \n",
            "                                                                                                  \n",
            " dropout (Dropout)              (None, 64)           0           ['prefix_lstm[0][0]']            \n",
            "                                                                                                  \n",
            " dropout_1 (Dropout)            (None, 64)           0           ['suffix_lstm[0][0]']            \n",
            "                                                                                                  \n",
            " merged (Concatenate)           (None, 128)          0           ['dropout[0][0]',                \n",
            "                                                                  'dropout_1[0][0]']              \n",
            "                                                                                                  \n",
            " output (Dense)                 (None, 9)            1161        ['merged[0][0]']                 \n",
            "                                                                                                  \n",
            "==================================================================================================\n",
            "Total params: 19,081\n",
            "Trainable params: 19,081\n",
            "Non-trainable params: 0\n",
            "__________________________________________________________________________________________________\n",
            "Epoch 1/10\n",
            "1018/1018 [==============================] - 32s 11ms/step - loss: 1.2205 - accuracy: 0.4852 - val_loss: 1.0987 - val_accuracy: 0.5176\n",
            "Epoch 2/10\n",
            "1018/1018 [==============================] - 10s 10ms/step - loss: 1.1013 - accuracy: 0.5020 - val_loss: 1.0919 - val_accuracy: 0.5180\n",
            "Epoch 3/10\n",
            "1018/1018 [==============================] - 9s 8ms/step - loss: 1.0877 - accuracy: 0.5096 - val_loss: 1.0884 - val_accuracy: 0.5189\n",
            "Epoch 4/10\n",
            "1018/1018 [==============================] - 10s 10ms/step - loss: 1.0867 - accuracy: 0.5090 - val_loss: 1.0895 - val_accuracy: 0.5187\n",
            "Epoch 5/10\n",
            "1014/1018 [============================>.] - ETA: 0s - loss: 1.0839 - accuracy: 0.5103"
          ]
        },
        {
          "output_type": "error",
          "ename": "KeyboardInterrupt",
          "evalue": "ignored",
          "traceback": [
            "\u001b[0;31m---------------------------------------------------------------------------\u001b[0m",
            "\u001b[0;31mKeyboardInterrupt\u001b[0m                         Traceback (most recent call last)",
            "\u001b[0;32m<ipython-input-30-7ad0adaa96df>\u001b[0m in \u001b[0;36m<cell line: 35>\u001b[0;34m()\u001b[0m\n\u001b[1;32m     33\u001b[0m \u001b[0mbi_LSTM_td\u001b[0m\u001b[0;34m.\u001b[0m\u001b[0mcompile\u001b[0m\u001b[0;34m(\u001b[0m\u001b[0mloss\u001b[0m\u001b[0;34m=\u001b[0m\u001b[0;34m'categorical_crossentropy'\u001b[0m\u001b[0;34m,\u001b[0m \u001b[0moptimizer\u001b[0m\u001b[0;34m=\u001b[0m\u001b[0;34m'adam'\u001b[0m\u001b[0;34m,\u001b[0m \u001b[0mmetrics\u001b[0m\u001b[0;34m=\u001b[0m\u001b[0;34m[\u001b[0m\u001b[0;34m'accuracy'\u001b[0m\u001b[0;34m]\u001b[0m\u001b[0;34m)\u001b[0m\u001b[0;34m\u001b[0m\u001b[0;34m\u001b[0m\u001b[0m\n\u001b[1;32m     34\u001b[0m \u001b[0mbi_LSTM_td\u001b[0m\u001b[0;34m.\u001b[0m\u001b[0msummary\u001b[0m\u001b[0;34m(\u001b[0m\u001b[0;34m)\u001b[0m\u001b[0;34m\u001b[0m\u001b[0;34m\u001b[0m\u001b[0m\n\u001b[0;32m---> 35\u001b[0;31m bi_LSTM_td.fit(\n\u001b[0m\u001b[1;32m     36\u001b[0m     \u001b[0;34m(\u001b[0m\u001b[0mtrain_x\u001b[0m\u001b[0;34m[\u001b[0m\u001b[0;36m0\u001b[0m\u001b[0;34m]\u001b[0m\u001b[0;34m,\u001b[0m \u001b[0mtrain_x\u001b[0m\u001b[0;34m[\u001b[0m\u001b[0;36m1\u001b[0m\u001b[0;34m]\u001b[0m\u001b[0;34m,\u001b[0m \u001b[0mtrain_x\u001b[0m\u001b[0;34m[\u001b[0m\u001b[0;36m2\u001b[0m\u001b[0;34m]\u001b[0m\u001b[0;34m,\u001b[0m \u001b[0mtrain_x\u001b[0m\u001b[0;34m[\u001b[0m\u001b[0;36m3\u001b[0m\u001b[0;34m]\u001b[0m\u001b[0;34m)\u001b[0m\u001b[0;34m,\u001b[0m\u001b[0;34m\u001b[0m\u001b[0;34m\u001b[0m\u001b[0m\n\u001b[1;32m     37\u001b[0m     \u001b[0mtrain_y\u001b[0m\u001b[0;34m,\u001b[0m\u001b[0;34m\u001b[0m\u001b[0;34m\u001b[0m\u001b[0m\n",
            "\u001b[0;32m/usr/local/lib/python3.9/dist-packages/keras/utils/traceback_utils.py\u001b[0m in \u001b[0;36merror_handler\u001b[0;34m(*args, **kwargs)\u001b[0m\n\u001b[1;32m     63\u001b[0m         \u001b[0mfiltered_tb\u001b[0m \u001b[0;34m=\u001b[0m \u001b[0;32mNone\u001b[0m\u001b[0;34m\u001b[0m\u001b[0;34m\u001b[0m\u001b[0m\n\u001b[1;32m     64\u001b[0m         \u001b[0;32mtry\u001b[0m\u001b[0;34m:\u001b[0m\u001b[0;34m\u001b[0m\u001b[0;34m\u001b[0m\u001b[0m\n\u001b[0;32m---> 65\u001b[0;31m             \u001b[0;32mreturn\u001b[0m \u001b[0mfn\u001b[0m\u001b[0;34m(\u001b[0m\u001b[0;34m*\u001b[0m\u001b[0margs\u001b[0m\u001b[0;34m,\u001b[0m \u001b[0;34m**\u001b[0m\u001b[0mkwargs\u001b[0m\u001b[0;34m)\u001b[0m\u001b[0;34m\u001b[0m\u001b[0;34m\u001b[0m\u001b[0m\n\u001b[0m\u001b[1;32m     66\u001b[0m         \u001b[0;32mexcept\u001b[0m \u001b[0mException\u001b[0m \u001b[0;32mas\u001b[0m \u001b[0me\u001b[0m\u001b[0;34m:\u001b[0m\u001b[0;34m\u001b[0m\u001b[0;34m\u001b[0m\u001b[0m\n\u001b[1;32m     67\u001b[0m             \u001b[0mfiltered_tb\u001b[0m \u001b[0;34m=\u001b[0m \u001b[0m_process_traceback_frames\u001b[0m\u001b[0;34m(\u001b[0m\u001b[0me\u001b[0m\u001b[0;34m.\u001b[0m\u001b[0m__traceback__\u001b[0m\u001b[0;34m)\u001b[0m\u001b[0;34m\u001b[0m\u001b[0;34m\u001b[0m\u001b[0m\n",
            "\u001b[0;32m/usr/local/lib/python3.9/dist-packages/keras/engine/training.py\u001b[0m in \u001b[0;36mfit\u001b[0;34m(self, x, y, batch_size, epochs, verbose, callbacks, validation_split, validation_data, shuffle, class_weight, sample_weight, initial_epoch, steps_per_epoch, validation_steps, validation_batch_size, validation_freq, max_queue_size, workers, use_multiprocessing)\u001b[0m\n\u001b[1;32m   1727\u001b[0m                             \u001b[0msteps_per_execution\u001b[0m\u001b[0;34m=\u001b[0m\u001b[0mself\u001b[0m\u001b[0;34m.\u001b[0m\u001b[0m_steps_per_execution\u001b[0m\u001b[0;34m,\u001b[0m\u001b[0;34m\u001b[0m\u001b[0;34m\u001b[0m\u001b[0m\n\u001b[1;32m   1728\u001b[0m                         )\n\u001b[0;32m-> 1729\u001b[0;31m                     val_logs = self.evaluate(\n\u001b[0m\u001b[1;32m   1730\u001b[0m                         \u001b[0mx\u001b[0m\u001b[0;34m=\u001b[0m\u001b[0mval_x\u001b[0m\u001b[0;34m,\u001b[0m\u001b[0;34m\u001b[0m\u001b[0;34m\u001b[0m\u001b[0m\n\u001b[1;32m   1731\u001b[0m                         \u001b[0my\u001b[0m\u001b[0;34m=\u001b[0m\u001b[0mval_y\u001b[0m\u001b[0;34m,\u001b[0m\u001b[0;34m\u001b[0m\u001b[0;34m\u001b[0m\u001b[0m\n",
            "\u001b[0;32m/usr/local/lib/python3.9/dist-packages/keras/utils/traceback_utils.py\u001b[0m in \u001b[0;36merror_handler\u001b[0;34m(*args, **kwargs)\u001b[0m\n\u001b[1;32m     63\u001b[0m         \u001b[0mfiltered_tb\u001b[0m \u001b[0;34m=\u001b[0m \u001b[0;32mNone\u001b[0m\u001b[0;34m\u001b[0m\u001b[0;34m\u001b[0m\u001b[0m\n\u001b[1;32m     64\u001b[0m         \u001b[0;32mtry\u001b[0m\u001b[0;34m:\u001b[0m\u001b[0;34m\u001b[0m\u001b[0;34m\u001b[0m\u001b[0m\n\u001b[0;32m---> 65\u001b[0;31m             \u001b[0;32mreturn\u001b[0m \u001b[0mfn\u001b[0m\u001b[0;34m(\u001b[0m\u001b[0;34m*\u001b[0m\u001b[0margs\u001b[0m\u001b[0;34m,\u001b[0m \u001b[0;34m**\u001b[0m\u001b[0mkwargs\u001b[0m\u001b[0;34m)\u001b[0m\u001b[0;34m\u001b[0m\u001b[0;34m\u001b[0m\u001b[0m\n\u001b[0m\u001b[1;32m     66\u001b[0m         \u001b[0;32mexcept\u001b[0m \u001b[0mException\u001b[0m \u001b[0;32mas\u001b[0m \u001b[0me\u001b[0m\u001b[0;34m:\u001b[0m\u001b[0;34m\u001b[0m\u001b[0;34m\u001b[0m\u001b[0m\n\u001b[1;32m     67\u001b[0m             \u001b[0mfiltered_tb\u001b[0m \u001b[0;34m=\u001b[0m \u001b[0m_process_traceback_frames\u001b[0m\u001b[0;34m(\u001b[0m\u001b[0me\u001b[0m\u001b[0;34m.\u001b[0m\u001b[0m__traceback__\u001b[0m\u001b[0;34m)\u001b[0m\u001b[0;34m\u001b[0m\u001b[0;34m\u001b[0m\u001b[0m\n",
            "\u001b[0;32m/usr/local/lib/python3.9/dist-packages/keras/engine/training.py\u001b[0m in \u001b[0;36mevaluate\u001b[0;34m(self, x, y, batch_size, verbose, sample_weight, steps, callbacks, max_queue_size, workers, use_multiprocessing, return_dict, **kwargs)\u001b[0m\n\u001b[1;32m   2070\u001b[0m                         ):\n\u001b[1;32m   2071\u001b[0m                             \u001b[0mcallbacks\u001b[0m\u001b[0;34m.\u001b[0m\u001b[0mon_test_batch_begin\u001b[0m\u001b[0;34m(\u001b[0m\u001b[0mstep\u001b[0m\u001b[0;34m)\u001b[0m\u001b[0;34m\u001b[0m\u001b[0;34m\u001b[0m\u001b[0m\n\u001b[0;32m-> 2072\u001b[0;31m                             \u001b[0mtmp_logs\u001b[0m \u001b[0;34m=\u001b[0m \u001b[0mself\u001b[0m\u001b[0;34m.\u001b[0m\u001b[0mtest_function\u001b[0m\u001b[0;34m(\u001b[0m\u001b[0miterator\u001b[0m\u001b[0;34m)\u001b[0m\u001b[0;34m\u001b[0m\u001b[0;34m\u001b[0m\u001b[0m\n\u001b[0m\u001b[1;32m   2073\u001b[0m                             \u001b[0;32mif\u001b[0m \u001b[0mdata_handler\u001b[0m\u001b[0;34m.\u001b[0m\u001b[0mshould_sync\u001b[0m\u001b[0;34m:\u001b[0m\u001b[0;34m\u001b[0m\u001b[0;34m\u001b[0m\u001b[0m\n\u001b[1;32m   2074\u001b[0m                                 \u001b[0mcontext\u001b[0m\u001b[0;34m.\u001b[0m\u001b[0masync_wait\u001b[0m\u001b[0;34m(\u001b[0m\u001b[0;34m)\u001b[0m\u001b[0;34m\u001b[0m\u001b[0;34m\u001b[0m\u001b[0m\n",
            "\u001b[0;32m/usr/local/lib/python3.9/dist-packages/tensorflow/python/util/traceback_utils.py\u001b[0m in \u001b[0;36merror_handler\u001b[0;34m(*args, **kwargs)\u001b[0m\n\u001b[1;32m    148\u001b[0m     \u001b[0mfiltered_tb\u001b[0m \u001b[0;34m=\u001b[0m \u001b[0;32mNone\u001b[0m\u001b[0;34m\u001b[0m\u001b[0;34m\u001b[0m\u001b[0m\n\u001b[1;32m    149\u001b[0m     \u001b[0;32mtry\u001b[0m\u001b[0;34m:\u001b[0m\u001b[0;34m\u001b[0m\u001b[0;34m\u001b[0m\u001b[0m\n\u001b[0;32m--> 150\u001b[0;31m       \u001b[0;32mreturn\u001b[0m \u001b[0mfn\u001b[0m\u001b[0;34m(\u001b[0m\u001b[0;34m*\u001b[0m\u001b[0margs\u001b[0m\u001b[0;34m,\u001b[0m \u001b[0;34m**\u001b[0m\u001b[0mkwargs\u001b[0m\u001b[0;34m)\u001b[0m\u001b[0;34m\u001b[0m\u001b[0;34m\u001b[0m\u001b[0m\n\u001b[0m\u001b[1;32m    151\u001b[0m     \u001b[0;32mexcept\u001b[0m \u001b[0mException\u001b[0m \u001b[0;32mas\u001b[0m \u001b[0me\u001b[0m\u001b[0;34m:\u001b[0m\u001b[0;34m\u001b[0m\u001b[0;34m\u001b[0m\u001b[0m\n\u001b[1;32m    152\u001b[0m       \u001b[0mfiltered_tb\u001b[0m \u001b[0;34m=\u001b[0m \u001b[0m_process_traceback_frames\u001b[0m\u001b[0;34m(\u001b[0m\u001b[0me\u001b[0m\u001b[0;34m.\u001b[0m\u001b[0m__traceback__\u001b[0m\u001b[0;34m)\u001b[0m\u001b[0;34m\u001b[0m\u001b[0;34m\u001b[0m\u001b[0m\n",
            "\u001b[0;32m/usr/local/lib/python3.9/dist-packages/tensorflow/python/eager/polymorphic_function/polymorphic_function.py\u001b[0m in \u001b[0;36m__call__\u001b[0;34m(self, *args, **kwds)\u001b[0m\n\u001b[1;32m    892\u001b[0m \u001b[0;34m\u001b[0m\u001b[0m\n\u001b[1;32m    893\u001b[0m       \u001b[0;32mwith\u001b[0m \u001b[0mOptionalXlaContext\u001b[0m\u001b[0;34m(\u001b[0m\u001b[0mself\u001b[0m\u001b[0;34m.\u001b[0m\u001b[0m_jit_compile\u001b[0m\u001b[0;34m)\u001b[0m\u001b[0;34m:\u001b[0m\u001b[0;34m\u001b[0m\u001b[0;34m\u001b[0m\u001b[0m\n\u001b[0;32m--> 894\u001b[0;31m         \u001b[0mresult\u001b[0m \u001b[0;34m=\u001b[0m \u001b[0mself\u001b[0m\u001b[0;34m.\u001b[0m\u001b[0m_call\u001b[0m\u001b[0;34m(\u001b[0m\u001b[0;34m*\u001b[0m\u001b[0margs\u001b[0m\u001b[0;34m,\u001b[0m \u001b[0;34m**\u001b[0m\u001b[0mkwds\u001b[0m\u001b[0;34m)\u001b[0m\u001b[0;34m\u001b[0m\u001b[0;34m\u001b[0m\u001b[0m\n\u001b[0m\u001b[1;32m    895\u001b[0m \u001b[0;34m\u001b[0m\u001b[0m\n\u001b[1;32m    896\u001b[0m       \u001b[0mnew_tracing_count\u001b[0m \u001b[0;34m=\u001b[0m \u001b[0mself\u001b[0m\u001b[0;34m.\u001b[0m\u001b[0mexperimental_get_tracing_count\u001b[0m\u001b[0;34m(\u001b[0m\u001b[0;34m)\u001b[0m\u001b[0;34m\u001b[0m\u001b[0;34m\u001b[0m\u001b[0m\n",
            "\u001b[0;32m/usr/local/lib/python3.9/dist-packages/tensorflow/python/eager/polymorphic_function/polymorphic_function.py\u001b[0m in \u001b[0;36m_call\u001b[0;34m(self, *args, **kwds)\u001b[0m\n\u001b[1;32m    931\u001b[0m       \u001b[0;31m# In this case we have not created variables on the first call. So we can\u001b[0m\u001b[0;34m\u001b[0m\u001b[0;34m\u001b[0m\u001b[0m\n\u001b[1;32m    932\u001b[0m       \u001b[0;31m# run the first trace but we should fail if variables are created.\u001b[0m\u001b[0;34m\u001b[0m\u001b[0;34m\u001b[0m\u001b[0m\n\u001b[0;32m--> 933\u001b[0;31m       \u001b[0mresults\u001b[0m \u001b[0;34m=\u001b[0m \u001b[0mself\u001b[0m\u001b[0;34m.\u001b[0m\u001b[0m_variable_creation_fn\u001b[0m\u001b[0;34m(\u001b[0m\u001b[0;34m*\u001b[0m\u001b[0margs\u001b[0m\u001b[0;34m,\u001b[0m \u001b[0;34m**\u001b[0m\u001b[0mkwds\u001b[0m\u001b[0;34m)\u001b[0m\u001b[0;34m\u001b[0m\u001b[0;34m\u001b[0m\u001b[0m\n\u001b[0m\u001b[1;32m    934\u001b[0m       \u001b[0;32mif\u001b[0m \u001b[0mself\u001b[0m\u001b[0;34m.\u001b[0m\u001b[0m_created_variables\u001b[0m \u001b[0;32mand\u001b[0m \u001b[0;32mnot\u001b[0m \u001b[0mALLOW_DYNAMIC_VARIABLE_CREATION\u001b[0m\u001b[0;34m:\u001b[0m\u001b[0;34m\u001b[0m\u001b[0;34m\u001b[0m\u001b[0m\n\u001b[1;32m    935\u001b[0m         raise ValueError(\"Creating variables on a non-first call to a function\"\n",
            "\u001b[0;32m/usr/local/lib/python3.9/dist-packages/tensorflow/python/eager/polymorphic_function/tracing_compiler.py\u001b[0m in \u001b[0;36m__call__\u001b[0;34m(self, *args, **kwargs)\u001b[0m\n\u001b[1;32m    141\u001b[0m       (concrete_function,\n\u001b[1;32m    142\u001b[0m        filtered_flat_args) = self._maybe_define_function(args, kwargs)\n\u001b[0;32m--> 143\u001b[0;31m     return concrete_function._call_flat(\n\u001b[0m\u001b[1;32m    144\u001b[0m         filtered_flat_args, captured_inputs=concrete_function.captured_inputs)  # pylint: disable=protected-access\n\u001b[1;32m    145\u001b[0m \u001b[0;34m\u001b[0m\u001b[0m\n",
            "\u001b[0;32m/usr/local/lib/python3.9/dist-packages/tensorflow/python/eager/polymorphic_function/monomorphic_function.py\u001b[0m in \u001b[0;36m_call_flat\u001b[0;34m(self, args, captured_inputs, cancellation_manager)\u001b[0m\n\u001b[1;32m   1755\u001b[0m         and executing_eagerly):\n\u001b[1;32m   1756\u001b[0m       \u001b[0;31m# No tape is watching; skip to running the function.\u001b[0m\u001b[0;34m\u001b[0m\u001b[0;34m\u001b[0m\u001b[0m\n\u001b[0;32m-> 1757\u001b[0;31m       return self._build_call_outputs(self._inference_function.call(\n\u001b[0m\u001b[1;32m   1758\u001b[0m           ctx, args, cancellation_manager=cancellation_manager))\n\u001b[1;32m   1759\u001b[0m     forward_backward = self._select_forward_and_backward_functions(\n",
            "\u001b[0;32m/usr/local/lib/python3.9/dist-packages/tensorflow/python/eager/polymorphic_function/monomorphic_function.py\u001b[0m in \u001b[0;36mcall\u001b[0;34m(self, ctx, args, cancellation_manager)\u001b[0m\n\u001b[1;32m    379\u001b[0m       \u001b[0;32mwith\u001b[0m \u001b[0m_InterpolateFunctionError\u001b[0m\u001b[0;34m(\u001b[0m\u001b[0mself\u001b[0m\u001b[0;34m)\u001b[0m\u001b[0;34m:\u001b[0m\u001b[0;34m\u001b[0m\u001b[0;34m\u001b[0m\u001b[0m\n\u001b[1;32m    380\u001b[0m         \u001b[0;32mif\u001b[0m \u001b[0mcancellation_manager\u001b[0m \u001b[0;32mis\u001b[0m \u001b[0;32mNone\u001b[0m\u001b[0;34m:\u001b[0m\u001b[0;34m\u001b[0m\u001b[0;34m\u001b[0m\u001b[0m\n\u001b[0;32m--> 381\u001b[0;31m           outputs = execute.execute(\n\u001b[0m\u001b[1;32m    382\u001b[0m               \u001b[0mstr\u001b[0m\u001b[0;34m(\u001b[0m\u001b[0mself\u001b[0m\u001b[0;34m.\u001b[0m\u001b[0msignature\u001b[0m\u001b[0;34m.\u001b[0m\u001b[0mname\u001b[0m\u001b[0;34m)\u001b[0m\u001b[0;34m,\u001b[0m\u001b[0;34m\u001b[0m\u001b[0;34m\u001b[0m\u001b[0m\n\u001b[1;32m    383\u001b[0m               \u001b[0mnum_outputs\u001b[0m\u001b[0;34m=\u001b[0m\u001b[0mself\u001b[0m\u001b[0;34m.\u001b[0m\u001b[0m_num_outputs\u001b[0m\u001b[0;34m,\u001b[0m\u001b[0;34m\u001b[0m\u001b[0;34m\u001b[0m\u001b[0m\n",
            "\u001b[0;32m/usr/local/lib/python3.9/dist-packages/tensorflow/python/eager/execute.py\u001b[0m in \u001b[0;36mquick_execute\u001b[0;34m(op_name, num_outputs, inputs, attrs, ctx, name)\u001b[0m\n\u001b[1;32m     50\u001b[0m   \u001b[0;32mtry\u001b[0m\u001b[0;34m:\u001b[0m\u001b[0;34m\u001b[0m\u001b[0;34m\u001b[0m\u001b[0m\n\u001b[1;32m     51\u001b[0m     \u001b[0mctx\u001b[0m\u001b[0;34m.\u001b[0m\u001b[0mensure_initialized\u001b[0m\u001b[0;34m(\u001b[0m\u001b[0;34m)\u001b[0m\u001b[0;34m\u001b[0m\u001b[0;34m\u001b[0m\u001b[0m\n\u001b[0;32m---> 52\u001b[0;31m     tensors = pywrap_tfe.TFE_Py_Execute(ctx._handle, device_name, op_name,\n\u001b[0m\u001b[1;32m     53\u001b[0m                                         inputs, attrs, num_outputs)\n\u001b[1;32m     54\u001b[0m   \u001b[0;32mexcept\u001b[0m \u001b[0mcore\u001b[0m\u001b[0;34m.\u001b[0m\u001b[0m_NotOkStatusException\u001b[0m \u001b[0;32mas\u001b[0m \u001b[0me\u001b[0m\u001b[0;34m:\u001b[0m\u001b[0;34m\u001b[0m\u001b[0;34m\u001b[0m\u001b[0m\n",
            "\u001b[0;31mKeyboardInterrupt\u001b[0m: "
          ]
        }
      ]
    },
    {
      "cell_type": "markdown",
      "source": [
        "####4.5.2 alternate architecture"
      ],
      "metadata": {
        "id": "kXTOAbTKVem1"
      }
    },
    {
      "cell_type": "code",
      "source": [
        "from keras.layers import LSTM, Dense, Bidirectional, average, Input, concatenate, Dropout\n",
        "from keras import Model\n",
        "\n",
        "prefix_events_input = Input(shape=(PREFIX_LENGTH, 1), name='prefix_events_input')\n",
        "suffix_events_input = Input(shape=(PREFIX_LENGTH, 1), name='suffix_events_input')\n",
        "\n",
        "prefix_deltas_input = Input(shape=(PREFIX_LENGTH, 1), name='prefix_deltas_input')\n",
        "suffix_deltas_input = Input(shape=(PREFIX_LENGTH, 1), name='suffix_deltas_input')\n",
        "\n",
        "\n",
        "lstm_layer = LSTM(32)\n",
        "\n",
        "prefix_events_lstm = Bidirectional(lstm_layer, name='prefix_events_lstm')(prefix_events_input)\n",
        "suffix_events_lstm = Bidirectional(lstm_layer, name='suffix_events_lstm')(suffix_events_input)\n",
        "prefix_deltas_lstm = Bidirectional(lstm_layer, name='prefix_deltas_lstm')(prefix_deltas_input)\n",
        "suffix_deltas_lstm = Bidirectional(lstm_layer, name='suffix_deltas_lstm')(suffix_deltas_input)\n",
        "\n",
        "\n",
        "dropout_prefix_events = Dropout(0.2)(prefix_events_lstm)\n",
        "dropout_suffix_events = Dropout(0.2)(suffix_events_lstm)\n",
        "dropout_prefix_deltas = Dropout(0.2)(prefix_deltas_lstm)\n",
        "dropout_suffix_deltas = Dropout(0.2)(suffix_deltas_lstm)\n",
        "\n",
        "\n",
        "\n",
        "merged = average([dropout_prefix_events, dropout_suffix_events, dropout_prefix_deltas, dropout_suffix_deltas], name='merged')\n",
        "\n",
        "output = Dense(n_activities, activation='softmax', name='output')(merged)\n",
        "\n",
        "bi_LSTM_td_2 = Model(\n",
        "    inputs=[prefix_events_input, suffix_events_input, prefix_deltas_input, suffix_deltas_input],\n",
        "    outputs=output)\n",
        "bi_LSTM_td_2.compile(loss='categorical_crossentropy', optimizer='adam', metrics=['accuracy'])\n",
        "bi_LSTM_td_2.summary()\n",
        "bi_LSTM_td_2.fit(\n",
        "    (train_x[0], train_x[1], train_x[2], train_x[3]),\n",
        "    train_y,\n",
        "    validation_data=((validation_x[0], validation_x[1], validation_x[2], validation_x[3]),\n",
        "                     validation_y), epochs=10)\n",
        "\n"
      ],
      "metadata": {
        "colab": {
          "base_uri": "https://localhost:8080/"
        },
        "outputId": "989b7558-f1ae-476d-ac31-f1a2779f254f",
        "id": "XDLjahJKUZIK"
      },
      "execution_count": 27,
      "outputs": [
        {
          "output_type": "stream",
          "name": "stdout",
          "text": [
            "Model: \"model\"\n",
            "__________________________________________________________________________________________________\n",
            " Layer (type)                   Output Shape         Param #     Connected to                     \n",
            "==================================================================================================\n",
            " prefix_events_input (InputLaye  [(None, 1, 1)]      0           []                               \n",
            " r)                                                                                               \n",
            "                                                                                                  \n",
            " suffix_events_input (InputLaye  [(None, 1, 1)]      0           []                               \n",
            " r)                                                                                               \n",
            "                                                                                                  \n",
            " prefix_deltas_input (InputLaye  [(None, 1, 1)]      0           []                               \n",
            " r)                                                                                               \n",
            "                                                                                                  \n",
            " suffix_deltas_input (InputLaye  [(None, 1, 1)]      0           []                               \n",
            " r)                                                                                               \n",
            "                                                                                                  \n",
            " prefix_events_lstm (Bidirectio  (None, 64)          8704        ['prefix_events_input[0][0]']    \n",
            " nal)                                                                                             \n",
            "                                                                                                  \n",
            " suffix_events_lstm (Bidirectio  (None, 64)          8704        ['suffix_events_input[0][0]']    \n",
            " nal)                                                                                             \n",
            "                                                                                                  \n",
            " prefix_deltas_lstm (Bidirectio  (None, 64)          8704        ['prefix_deltas_input[0][0]']    \n",
            " nal)                                                                                             \n",
            "                                                                                                  \n",
            " suffix_deltas_lstm (Bidirectio  (None, 64)          8704        ['suffix_deltas_input[0][0]']    \n",
            " nal)                                                                                             \n",
            "                                                                                                  \n",
            " dropout (Dropout)              (None, 64)           0           ['prefix_events_lstm[0][0]']     \n",
            "                                                                                                  \n",
            " dropout_1 (Dropout)            (None, 64)           0           ['suffix_events_lstm[0][0]']     \n",
            "                                                                                                  \n",
            " dropout_2 (Dropout)            (None, 64)           0           ['prefix_deltas_lstm[0][0]']     \n",
            "                                                                                                  \n",
            " dropout_3 (Dropout)            (None, 64)           0           ['suffix_deltas_lstm[0][0]']     \n",
            "                                                                                                  \n",
            " merged (Average)               (None, 64)           0           ['dropout[0][0]',                \n",
            "                                                                  'dropout_1[0][0]',              \n",
            "                                                                  'dropout_2[0][0]',              \n",
            "                                                                  'dropout_3[0][0]']              \n",
            "                                                                                                  \n",
            " output (Dense)                 (None, 8)            520         ['merged[0][0]']                 \n",
            "                                                                                                  \n",
            "==================================================================================================\n",
            "Total params: 35,336\n",
            "Trainable params: 35,336\n",
            "Non-trainable params: 0\n",
            "__________________________________________________________________________________________________\n",
            "Epoch 1/10\n",
            "910/910 [==============================] - 39s 20ms/step - loss: 1.1158 - accuracy: 0.5883 - val_loss: 0.8356 - val_accuracy: 0.7403\n",
            "Epoch 2/10\n",
            "910/910 [==============================] - 15s 16ms/step - loss: 0.7767 - accuracy: 0.7066 - val_loss: 0.7272 - val_accuracy: 0.7403\n",
            "Epoch 3/10\n",
            "910/910 [==============================] - 15s 17ms/step - loss: 0.6971 - accuracy: 0.7244 - val_loss: 0.6678 - val_accuracy: 0.7826\n",
            "Epoch 4/10\n",
            "910/910 [==============================] - 15s 16ms/step - loss: 0.6490 - accuracy: 0.7454 - val_loss: 0.6326 - val_accuracy: 0.7474\n",
            "Epoch 5/10\n",
            "910/910 [==============================] - 15s 16ms/step - loss: 0.6204 - accuracy: 0.7528 - val_loss: 0.6077 - val_accuracy: 0.7827\n",
            "Epoch 6/10\n",
            "910/910 [==============================] - 14s 16ms/step - loss: 0.5993 - accuracy: 0.7558 - val_loss: 0.5846 - val_accuracy: 0.7830\n",
            "Epoch 7/10\n",
            "910/910 [==============================] - 15s 16ms/step - loss: 0.5794 - accuracy: 0.7614 - val_loss: 0.5649 - val_accuracy: 0.7836\n",
            "Epoch 8/10\n",
            "910/910 [==============================] - 16s 18ms/step - loss: 0.5623 - accuracy: 0.7658 - val_loss: 0.5461 - val_accuracy: 0.7834\n",
            "Epoch 9/10\n",
            "910/910 [==============================] - 15s 16ms/step - loss: 0.5483 - accuracy: 0.7685 - val_loss: 0.5284 - val_accuracy: 0.7834\n",
            "Epoch 10/10\n",
            "910/910 [==============================] - 15s 16ms/step - loss: 0.5404 - accuracy: 0.7711 - val_loss: 0.5187 - val_accuracy: 0.7833\n"
          ]
        },
        {
          "output_type": "execute_result",
          "data": {
            "text/plain": [
              "<keras.callbacks.History at 0x7f75300a5e80>"
            ]
          },
          "metadata": {},
          "execution_count": 27
        }
      ]
    },
    {
      "cell_type": "markdown",
      "source": [
        "###4.6 Hyperparameter Tuning"
      ],
      "metadata": {
        "id": "7G4gN_9p1Frv"
      }
    },
    {
      "cell_type": "code",
      "source": [
        "import keras_tuner as kt\n",
        "\n",
        "def build_model(hp):\n",
        "  prefix_events_input = Input(shape=(PREFIX_LENGTH, 1), name='prefix_events_input')\n",
        "  suffix_events_input = Input(shape=(PREFIX_LENGTH, 1), name='suffix_events_input')\n",
        "\n",
        "  prefix_deltas_input = Input(shape=(PREFIX_LENGTH, 1), name='prefix_deltas_input')\n",
        "  suffix_deltas_input = Input(shape=(PREFIX_LENGTH, 1), name='suffix_deltas_input')\n",
        "\n",
        "\n",
        "  lstm_units = hp.Int('units', min_value=32, max_value=128, step=32)\n",
        "  lstm_layer = LSTM(lstm_units)\n",
        "\n",
        "  prefix_events_lstm = Bidirectional(lstm_layer, name='prefix_events_lstm')(prefix_events_input)\n",
        "  suffix_events_lstm = Bidirectional(lstm_layer, name='suffix_events_lstm')(suffix_events_input)\n",
        "  prefix_deltas_lstm = Bidirectional(lstm_layer, name='prefix_deltas_lstm')(prefix_deltas_input)\n",
        "  suffix_deltas_lstm = Bidirectional(lstm_layer, name='suffix_deltas_lstm')(suffix_deltas_input)\n",
        "\n",
        "  dropout_rates = [0.0,0.1,0.2,0.3,0.4,0.5]\n",
        "\n",
        "  dropout_rate_1 = hp.Choice('rate_1', values=dropout_rates)\n",
        "  dropout_rate_2 = hp.Choice('rate_2', values=dropout_rates)\n",
        "  dropout_rate_3 = hp.Choice('rate_3', values=dropout_rates)\n",
        "  dropout_rate_4 = hp.Choice('rate_4', values=dropout_rates)\n",
        "\n",
        "\n",
        "  dropout_prefix_events = Dropout(dropout_rate_1)(prefix_events_lstm)\n",
        "  dropout_suffix_events = Dropout(dropout_rate_2)(suffix_events_lstm)\n",
        "  dropout_prefix_deltas = Dropout(dropout_rate_3)(prefix_deltas_lstm)\n",
        "  dropout_suffix_deltas = Dropout(dropout_rate_4)(suffix_deltas_lstm)\n",
        "\n",
        "\n",
        "\n",
        "  merged = average([dropout_prefix_events, dropout_suffix_events, dropout_prefix_deltas, dropout_suffix_deltas], name='merged')\n",
        "\n",
        "  output = Dense(n_activities, activation='softmax', name='output')(merged)\n",
        "\n",
        "  model = Model(\n",
        "      inputs=[prefix_events_input, suffix_events_input, prefix_deltas_input, suffix_deltas_input],\n",
        "      outputs=output)\n",
        "\n",
        "  model.compile(loss='categorical_crossentropy', optimizer='adam', metrics=['accuracy'])\n",
        "  \n",
        "  return model\n",
        "  \n",
        "build_model(kt.HyperParameters())"
      ],
      "metadata": {
        "id": "kcPsWX781L33",
        "outputId": "7f92d9bf-c78d-4771-b1cc-ec490e130b52",
        "colab": {
          "base_uri": "https://localhost:8080/"
        }
      },
      "execution_count": 44,
      "outputs": [
        {
          "output_type": "execute_result",
          "data": {
            "text/plain": [
              "<keras.engine.functional.Functional at 0x7f7514dff580>"
            ]
          },
          "metadata": {},
          "execution_count": 44
        }
      ]
    },
    {
      "cell_type": "code",
      "source": [
        "import tensorflow as tf\n",
        "\n",
        "tuner = kt.Hyperband(\n",
        "    hypermodel=build_model,\n",
        "    objective='val_accuracy',\n",
        "    max_epochs=10,\n",
        "    seed=9\n",
        ")\n",
        "\n",
        "stop_early = tf.keras.callbacks.EarlyStopping(monitor='val_loss', patience=5)\n",
        "\n",
        "tuner.search(\n",
        "    (train_x[0], train_x[1], train_x[2], train_x[3]),\n",
        "    train_y,\n",
        "    validation_data=((validation_x[0], validation_x[1], validation_x[2], validation_x[3]),\n",
        "    validation_y),\n",
        "    epochs=10,\n",
        "    callbacks=[stop_early]\n",
        ")"
      ],
      "metadata": {
        "id": "bDdEBgZA9xka",
        "outputId": "f7822cfd-79ae-4278-a039-fc0cade8654b",
        "colab": {
          "base_uri": "https://localhost:8080/"
        }
      },
      "execution_count": 45,
      "outputs": [
        {
          "output_type": "stream",
          "name": "stdout",
          "text": [
            "Trial 30 Complete [00h 03m 36s]\n",
            "val_accuracy: 0.9244194030761719\n",
            "\n",
            "Best val_accuracy So Far: 0.9303284287452698\n",
            "Total elapsed time: 00h 48m 42s\n"
          ]
        }
      ]
    },
    {
      "cell_type": "code",
      "source": [
        "# best_model = tuner.get_best_models()\n",
        "best_hps=tuner.get_best_hyperparameters(num_trials=1)[0]\n",
        "best_hyperparameters = tuner.get_best_hyperparameters(1)[0]\n",
        "best_hyperparameters.values\n",
        "\n",
        "# {'units': 96,\n",
        "#  'rate_1': 0.5,\n",
        "#  'rate_2': 0.1,\n",
        "#  'rate_3': 0.0,\n",
        "#  'rate_4': 0.1,\n",
        "#  'tuner/epochs': 10,\n",
        "#  'tuner/initial_epoch': 4,\n",
        "#  'tuner/bracket': 1,\n",
        "#  'tuner/round': 1,\n",
        "#  'tuner/trial_id': '0018'}\n"
      ],
      "metadata": {
        "id": "IpPgCLxIAyrC",
        "colab": {
          "base_uri": "https://localhost:8080/"
        },
        "outputId": "d765d5f5-ab37-4d9b-c3f1-20064c84c3f0"
      },
      "execution_count": 46,
      "outputs": [
        {
          "output_type": "execute_result",
          "data": {
            "text/plain": [
              "{'units': 96,\n",
              " 'rate_1': 0.5,\n",
              " 'rate_2': 0.1,\n",
              " 'rate_3': 0.0,\n",
              " 'rate_4': 0.1,\n",
              " 'tuner/epochs': 10,\n",
              " 'tuner/initial_epoch': 4,\n",
              " 'tuner/bracket': 1,\n",
              " 'tuner/round': 1,\n",
              " 'tuner/trial_id': '0018'}"
            ]
          },
          "metadata": {},
          "execution_count": 46
        }
      ]
    },
    {
      "cell_type": "markdown",
      "source": [
        "###4.7 Best Model"
      ],
      "metadata": {
        "id": "4vl9_JPxubpz"
      }
    },
    {
      "cell_type": "code",
      "source": [
        "from keras.layers import Dropout, Input, Bidirectional, LSTM, average, Dense\n",
        "from keras import Model\n",
        "\n",
        "prefix_events_input = Input(shape=(PREFIX_LENGTH, 1), name='prefix_events_input')\n",
        "suffix_events_input = Input(shape=(PREFIX_LENGTH, 1), name='suffix_events_input')\n",
        "\n",
        "prefix_deltas_input = Input(shape=(PREFIX_LENGTH, 1), name='prefix_deltas_input')\n",
        "suffix_deltas_input = Input(shape=(PREFIX_LENGTH, 1), name='suffix_deltas_input')\n",
        "\n",
        "\n",
        "lstm_layer = LSTM(96)\n",
        "\n",
        "\n",
        "prefix_events_lstm = Bidirectional(lstm_layer, name='prefix_events_lstm')(prefix_events_input)\n",
        "suffix_events_lstm = Bidirectional(lstm_layer, name='suffix_events_lstm')(suffix_events_input)\n",
        "prefix_deltas_lstm = Bidirectional(lstm_layer, name='prefix_deltas_lstm')(prefix_deltas_input)\n",
        "suffix_deltas_lstm = Bidirectional(lstm_layer, name='suffix_deltas_lstm')(suffix_deltas_input)\n",
        "\n",
        "\n",
        "dropout_prefix_events = Dropout(0.5)(prefix_events_lstm)\n",
        "dropout_suffix_events = Dropout(0.1)(suffix_events_lstm)\n",
        "dropout_prefix_deltas = Dropout(0)(prefix_deltas_lstm)\n",
        "dropout_suffix_deltas = Dropout(0.1)(suffix_deltas_lstm)\n",
        "\n",
        "\n",
        "merged = average([dropout_prefix_events, dropout_suffix_events, dropout_prefix_deltas, dropout_suffix_deltas], name='merged')\n",
        "\n",
        "output = Dense(n_activities, activation='softmax', name='output')(merged)\n",
        "\n",
        "best_model = Model(\n",
        "    inputs=[prefix_events_input, suffix_events_input, prefix_deltas_input, suffix_deltas_input],\n",
        "    outputs=output)\n",
        "best_model.compile(loss='categorical_crossentropy', optimizer='adam', metrics=['accuracy'])\n",
        "best_model.summary()\n",
        "history = best_model.fit(\n",
        "    (train_x[0], train_x[1], train_x[2], train_x[3]),\n",
        "    train_y,\n",
        "    validation_data=((validation_x[0], validation_x[1], validation_x[2], validation_x[3]),\n",
        "                     validation_y), epochs=27)\n"
      ],
      "metadata": {
        "colab": {
          "base_uri": "https://localhost:8080/"
        },
        "id": "k-KcHTMMuar4",
        "outputId": "16b21a99-1613-4acc-bb5c-768ed88aa62e"
      },
      "execution_count": 51,
      "outputs": [
        {
          "output_type": "stream",
          "name": "stdout",
          "text": [
            "Model: \"model_4\"\n",
            "__________________________________________________________________________________________________\n",
            " Layer (type)                   Output Shape         Param #     Connected to                     \n",
            "==================================================================================================\n",
            " prefix_events_input (InputLaye  [(None, 5, 1)]      0           []                               \n",
            " r)                                                                                               \n",
            "                                                                                                  \n",
            " suffix_events_input (InputLaye  [(None, 5, 1)]      0           []                               \n",
            " r)                                                                                               \n",
            "                                                                                                  \n",
            " prefix_deltas_input (InputLaye  [(None, 5, 1)]      0           []                               \n",
            " r)                                                                                               \n",
            "                                                                                                  \n",
            " suffix_deltas_input (InputLaye  [(None, 5, 1)]      0           []                               \n",
            " r)                                                                                               \n",
            "                                                                                                  \n",
            " prefix_events_lstm (Bidirectio  (None, 192)         75264       ['prefix_events_input[0][0]']    \n",
            " nal)                                                                                             \n",
            "                                                                                                  \n",
            " suffix_events_lstm (Bidirectio  (None, 192)         75264       ['suffix_events_input[0][0]']    \n",
            " nal)                                                                                             \n",
            "                                                                                                  \n",
            " prefix_deltas_lstm (Bidirectio  (None, 192)         75264       ['prefix_deltas_input[0][0]']    \n",
            " nal)                                                                                             \n",
            "                                                                                                  \n",
            " suffix_deltas_lstm (Bidirectio  (None, 192)         75264       ['suffix_deltas_input[0][0]']    \n",
            " nal)                                                                                             \n",
            "                                                                                                  \n",
            " dropout_16 (Dropout)           (None, 192)          0           ['prefix_events_lstm[0][0]']     \n",
            "                                                                                                  \n",
            " dropout_17 (Dropout)           (None, 192)          0           ['suffix_events_lstm[0][0]']     \n",
            "                                                                                                  \n",
            " dropout_18 (Dropout)           (None, 192)          0           ['prefix_deltas_lstm[0][0]']     \n",
            "                                                                                                  \n",
            " dropout_19 (Dropout)           (None, 192)          0           ['suffix_deltas_lstm[0][0]']     \n",
            "                                                                                                  \n",
            " merged (Average)               (None, 192)          0           ['dropout_16[0][0]',             \n",
            "                                                                  'dropout_17[0][0]',             \n",
            "                                                                  'dropout_18[0][0]',             \n",
            "                                                                  'dropout_19[0][0]']             \n",
            "                                                                                                  \n",
            " output (Dense)                 (None, 8)            1544        ['merged[0][0]']                 \n",
            "                                                                                                  \n",
            "==================================================================================================\n",
            "Total params: 302,600\n",
            "Trainable params: 302,600\n",
            "Non-trainable params: 0\n",
            "__________________________________________________________________________________________________\n",
            "Epoch 1/50\n",
            "910/910 [==============================] - 34s 22ms/step - loss: 0.3473 - accuracy: 0.8841 - val_loss: 0.2300 - val_accuracy: 0.9160\n",
            "Epoch 2/50\n",
            "910/910 [==============================] - 17s 19ms/step - loss: 0.2269 - accuracy: 0.9134 - val_loss: 0.2071 - val_accuracy: 0.9200\n",
            "Epoch 3/50\n",
            "910/910 [==============================] - 17s 19ms/step - loss: 0.2119 - accuracy: 0.9175 - val_loss: 0.2035 - val_accuracy: 0.9193\n",
            "Epoch 4/50\n",
            "910/910 [==============================] - 16s 17ms/step - loss: 0.2010 - accuracy: 0.9197 - val_loss: 0.1858 - val_accuracy: 0.9270\n",
            "Epoch 5/50\n",
            "910/910 [==============================] - 16s 17ms/step - loss: 0.1933 - accuracy: 0.9228 - val_loss: 0.1826 - val_accuracy: 0.9257\n",
            "Epoch 6/50\n",
            "910/910 [==============================] - 16s 17ms/step - loss: 0.1898 - accuracy: 0.9236 - val_loss: 0.1840 - val_accuracy: 0.9268\n",
            "Epoch 7/50\n",
            "910/910 [==============================] - 17s 19ms/step - loss: 0.1877 - accuracy: 0.9254 - val_loss: 0.1796 - val_accuracy: 0.9287\n",
            "Epoch 8/50\n",
            "910/910 [==============================] - 16s 18ms/step - loss: 0.1846 - accuracy: 0.9255 - val_loss: 0.1821 - val_accuracy: 0.9276\n",
            "Epoch 9/50\n",
            "910/910 [==============================] - 17s 18ms/step - loss: 0.1827 - accuracy: 0.9260 - val_loss: 0.1755 - val_accuracy: 0.9287\n",
            "Epoch 10/50\n",
            "910/910 [==============================] - 16s 17ms/step - loss: 0.1825 - accuracy: 0.9254 - val_loss: 0.1730 - val_accuracy: 0.9291\n",
            "Epoch 11/50\n",
            "910/910 [==============================] - 16s 17ms/step - loss: 0.1811 - accuracy: 0.9265 - val_loss: 0.1760 - val_accuracy: 0.9280\n",
            "Epoch 12/50\n",
            "910/910 [==============================] - 16s 18ms/step - loss: 0.1791 - accuracy: 0.9264 - val_loss: 0.1757 - val_accuracy: 0.9279\n",
            "Epoch 13/50\n",
            "910/910 [==============================] - 16s 18ms/step - loss: 0.1793 - accuracy: 0.9264 - val_loss: 0.1750 - val_accuracy: 0.9276\n",
            "Epoch 14/50\n",
            "910/910 [==============================] - 17s 19ms/step - loss: 0.1801 - accuracy: 0.9258 - val_loss: 0.1763 - val_accuracy: 0.9279\n",
            "Epoch 15/50\n",
            "910/910 [==============================] - 16s 18ms/step - loss: 0.1776 - accuracy: 0.9271 - val_loss: 0.1724 - val_accuracy: 0.9298\n",
            "Epoch 16/50\n",
            "910/910 [==============================] - 16s 18ms/step - loss: 0.1772 - accuracy: 0.9269 - val_loss: 0.1709 - val_accuracy: 0.9294\n",
            "Epoch 17/50\n",
            "910/910 [==============================] - 17s 19ms/step - loss: 0.1853 - accuracy: 0.9247 - val_loss: 0.1836 - val_accuracy: 0.9244\n",
            "Epoch 18/50\n",
            "910/910 [==============================] - 17s 19ms/step - loss: 0.1831 - accuracy: 0.9243 - val_loss: 0.1742 - val_accuracy: 0.9269\n",
            "Epoch 19/50\n",
            "910/910 [==============================] - 16s 17ms/step - loss: 0.1804 - accuracy: 0.9260 - val_loss: 0.1738 - val_accuracy: 0.9309\n",
            "Epoch 20/50\n",
            "910/910 [==============================] - 16s 17ms/step - loss: 0.1786 - accuracy: 0.9266 - val_loss: 0.1730 - val_accuracy: 0.9279\n",
            "Epoch 21/50\n",
            "910/910 [==============================] - 16s 17ms/step - loss: 0.1782 - accuracy: 0.9268 - val_loss: 0.1705 - val_accuracy: 0.9291\n",
            "Epoch 22/50\n",
            "910/910 [==============================] - 16s 17ms/step - loss: 0.1750 - accuracy: 0.9281 - val_loss: 0.1742 - val_accuracy: 0.9287\n",
            "Epoch 23/50\n",
            "910/910 [==============================] - 16s 18ms/step - loss: 0.1754 - accuracy: 0.9282 - val_loss: 0.1703 - val_accuracy: 0.9295\n",
            "Epoch 24/50\n",
            "910/910 [==============================] - 16s 18ms/step - loss: 0.1740 - accuracy: 0.9272 - val_loss: 0.1760 - val_accuracy: 0.9206\n",
            "Epoch 25/50\n",
            "910/910 [==============================] - 16s 17ms/step - loss: 0.1739 - accuracy: 0.9275 - val_loss: 0.1708 - val_accuracy: 0.9288\n",
            "Epoch 26/50\n",
            "910/910 [==============================] - 15s 17ms/step - loss: 0.1740 - accuracy: 0.9279 - val_loss: 0.1708 - val_accuracy: 0.9284\n",
            "Epoch 27/50\n",
            "910/910 [==============================] - 16s 17ms/step - loss: 0.1728 - accuracy: 0.9285 - val_loss: 0.1690 - val_accuracy: 0.9294\n",
            "Epoch 28/50\n",
            "910/910 [==============================] - 16s 17ms/step - loss: 0.1717 - accuracy: 0.9283 - val_loss: 0.1683 - val_accuracy: 0.9310\n",
            "Epoch 29/50\n",
            "910/910 [==============================] - 16s 17ms/step - loss: 0.1722 - accuracy: 0.9289 - val_loss: 0.1683 - val_accuracy: 0.9298\n",
            "Epoch 30/50\n",
            "910/910 [==============================] - 17s 19ms/step - loss: 0.1713 - accuracy: 0.9287 - val_loss: 0.1679 - val_accuracy: 0.9306\n",
            "Epoch 31/50\n",
            "910/910 [==============================] - 15s 17ms/step - loss: 0.1703 - accuracy: 0.9295 - val_loss: 0.1689 - val_accuracy: 0.9283\n",
            "Epoch 32/50\n",
            "910/910 [==============================] - 16s 17ms/step - loss: 0.1715 - accuracy: 0.9285 - val_loss: 0.1686 - val_accuracy: 0.9302\n",
            "Epoch 33/50\n",
            "910/910 [==============================] - 16s 17ms/step - loss: 0.1708 - accuracy: 0.9287 - val_loss: 0.1688 - val_accuracy: 0.9281\n",
            "Epoch 34/50\n",
            "910/910 [==============================] - 16s 17ms/step - loss: 0.1704 - accuracy: 0.9296 - val_loss: 0.1720 - val_accuracy: 0.9269\n",
            "Epoch 35/50\n",
            "910/910 [==============================] - 15s 17ms/step - loss: 0.1697 - accuracy: 0.9288 - val_loss: 0.1690 - val_accuracy: 0.9294\n",
            "Epoch 36/50\n",
            "910/910 [==============================] - 16s 17ms/step - loss: 0.1705 - accuracy: 0.9281 - val_loss: 0.1670 - val_accuracy: 0.9294\n",
            "Epoch 37/50\n",
            "910/910 [==============================] - 17s 19ms/step - loss: 0.1767 - accuracy: 0.9266 - val_loss: 0.1673 - val_accuracy: 0.9281\n",
            "Epoch 38/50\n",
            "910/910 [==============================] - 15s 17ms/step - loss: 0.1710 - accuracy: 0.9285 - val_loss: 0.1691 - val_accuracy: 0.9295\n",
            "Epoch 39/50\n",
            "910/910 [==============================] - 15s 17ms/step - loss: 0.1700 - accuracy: 0.9288 - val_loss: 0.1688 - val_accuracy: 0.9262\n",
            "Epoch 40/50\n",
            "910/910 [==============================] - 15s 17ms/step - loss: 0.1687 - accuracy: 0.9296 - val_loss: 0.1692 - val_accuracy: 0.9283\n",
            "Epoch 41/50\n",
            "910/910 [==============================] - 16s 17ms/step - loss: 0.1697 - accuracy: 0.9282 - val_loss: 0.1672 - val_accuracy: 0.9299\n",
            "Epoch 42/50\n",
            "910/910 [==============================] - 16s 17ms/step - loss: 0.1709 - accuracy: 0.9277 - val_loss: 0.1673 - val_accuracy: 0.9305\n",
            "Epoch 43/50\n",
            "910/910 [==============================] - 17s 18ms/step - loss: 0.1695 - accuracy: 0.9283 - val_loss: 0.1676 - val_accuracy: 0.9296\n",
            "Epoch 44/50\n",
            "910/910 [==============================] - 17s 19ms/step - loss: 0.1691 - accuracy: 0.9282 - val_loss: 0.1666 - val_accuracy: 0.9299\n",
            "Epoch 45/50\n",
            "910/910 [==============================] - 16s 17ms/step - loss: 0.1693 - accuracy: 0.9278 - val_loss: 0.1674 - val_accuracy: 0.9296\n",
            "Epoch 46/50\n",
            "910/910 [==============================] - 16s 17ms/step - loss: 0.1688 - accuracy: 0.9280 - val_loss: 0.1661 - val_accuracy: 0.9279\n",
            "Epoch 47/50\n",
            "910/910 [==============================] - 15s 17ms/step - loss: 0.1679 - accuracy: 0.9288 - val_loss: 0.1667 - val_accuracy: 0.9294\n",
            "Epoch 48/50\n",
            "910/910 [==============================] - 15s 17ms/step - loss: 0.1681 - accuracy: 0.9287 - val_loss: 0.1664 - val_accuracy: 0.9306\n",
            "Epoch 49/50\n",
            "910/910 [==============================] - 16s 18ms/step - loss: 0.1705 - accuracy: 0.9278 - val_loss: 0.1742 - val_accuracy: 0.9274\n",
            "Epoch 50/50\n",
            "910/910 [==============================] - 17s 19ms/step - loss: 0.1725 - accuracy: 0.9293 - val_loss: 0.1666 - val_accuracy: 0.9285\n"
          ]
        }
      ]
    },
    {
      "cell_type": "code",
      "source": [
        "import keras\n",
        "from matplotlib import pyplot as plt\n",
        "# plt.plot([i * 100 for i in history.history['accuracy']])\n",
        "# plt.plot([i * 100 for i in history.history['val_accuracy']])\n",
        "\n",
        "fig, ax = plt.subplots()\n",
        "x = list(range(1,51))\n",
        "ax.plot(x, [i * 100 for i in history.history['accuracy']]\n",
        ")\n",
        "ax.plot(x, [i * 100 for i in history.history['val_accuracy']]\n",
        ")\n",
        "\n",
        "# Find the maximum value and its index\n",
        "ymax = np.max([i * 100 for i in history.history['val_accuracy']])\n",
        "imax = np.argmax([i * 100 for i in history.history['val_accuracy']])\n",
        "\n",
        "# Annotate the maximum value\n",
        "ax.annotate(f'Maximum Percentage of Correct Predictions: {round(ymax,2)} \\nEpoch: {x[imax]}\\n', \n",
        "            xy=(x[imax], ymax), xytext=(x[imax]-20, ymax-3),\n",
        "            arrowprops=dict(facecolor='black', arrowstyle='->'))\n",
        "\n",
        "plt.title('Perecentage of Correct Predictions per Epoch')\n",
        "plt.ylabel('Percentage of Correct Predictions')\n",
        "plt.xlabel('Epoch')\n",
        "plt.legend(['Training', 'Validation'], loc='lower right')\n",
        "\n",
        "plt.show()"
      ],
      "metadata": {
        "id": "3FCHOEz49uuT",
        "outputId": "43f92c09-fff5-4788-859a-7bd963c0ed3d",
        "colab": {
          "base_uri": "https://localhost:8080/",
          "height": 472
        }
      },
      "execution_count": 91,
      "outputs": [
        {
          "output_type": "display_data",
          "data": {
            "text/plain": [
              "<Figure size 640x480 with 1 Axes>"
            ],
            "image/png": "[encoded data removed]"
          },
          "metadata": {}
        }
      ]
    },
    {
      "cell_type": "code",
      "source": [
        "fig, ax = plt.subplots()\n",
        "x = list(range(1,51))\n",
        "ax.plot(x, history.history['loss'])\n",
        "ax.plot(x, history.history['val_loss'])\n",
        "\n",
        "plt.title('Loss per Epoch')\n",
        "plt.ylabel('Loss')\n",
        "plt.xlabel('Epoch')\n",
        "plt.legend(['Training', 'Validation'], loc='upper right')\n",
        "\n",
        "plt.show()"
      ],
      "metadata": {
        "id": "o3MBrNU2OE7F",
        "outputId": "31aa7e80-31ba-40bd-99a6-5f73af696082",
        "colab": {
          "base_uri": "https://localhost:8080/",
          "height": 472
        }
      },
      "execution_count": 95,
      "outputs": [
        {
          "output_type": "display_data",
          "data": {
            "text/plain": [
              "<Figure size 640x480 with 1 Axes>"
            ],
            "image/png": "[encoded data removed]"
          },
          "metadata": {}
        }
      ]
    },
    {
      "cell_type": "code",
      "source": [
        "pd.DataFrame(data={'accuracy' : history.history['accuracy'], 'val accuracy' : history.history['val_accuracy']\n",
        "                   ,'loss' : history.history['loss'], 'val loss' : history.history['val_loss']})"
      ],
      "metadata": {
        "id": "SJnTWj6CCfdn",
        "outputId": "6b1990f2-2b62-4651-8aff-fcb751c5e683",
        "colab": {
          "base_uri": "https://localhost:8080/",
          "height": 655
        }
      },
      "execution_count": 57,
      "outputs": [
        {
          "output_type": "execute_result",
          "data": {
            "text/plain": [
              "    accuracy  val accuracy      loss  val loss\n",
              "0   0.884148      0.916037  0.347268  0.230046\n",
              "1   0.913351      0.920022  0.226864  0.207123\n",
              "2   0.917543      0.919335  0.211867  0.203502\n",
              "3   0.919673      0.927030  0.200979  0.185845\n",
              "4   0.922765      0.925656  0.193272  0.182564\n",
              "5   0.923590      0.926756  0.189849  0.184009\n",
              "6   0.925411      0.928679  0.187713  0.179578\n",
              "7   0.925479      0.927580  0.184553  0.182057\n",
              "8   0.926029      0.928679  0.182723  0.175461\n",
              "9   0.925411      0.929092  0.182539  0.172953\n",
              "10  0.926510      0.927992  0.181090  0.176027\n",
              "11  0.926373      0.927855  0.179064  0.175698\n",
              "12  0.926407      0.927580  0.179267  0.174981\n",
              "13  0.925754      0.927855  0.180069  0.176294\n",
              "14  0.927094      0.929779  0.177635  0.172363\n",
              "15  0.926888      0.929366  0.177242  0.170941\n",
              "16  0.924689      0.924419  0.185295  0.183603\n",
              "17  0.924345      0.926893  0.183121  0.174163\n",
              "18  0.926029      0.930878  0.180372  0.173823\n",
              "19  0.926647      0.927855  0.178576  0.173018\n",
              "20  0.926750      0.929092  0.178198  0.170535\n",
              "21  0.928090      0.928679  0.174990  0.174197\n",
              "22  0.928159      0.929504  0.175375  0.170345\n",
              "23  0.927197      0.920572  0.173980  0.175984\n",
              "24  0.927541      0.928817  0.173917  0.170835\n",
              "25  0.927884      0.928405  0.173982  0.170795\n",
              "26  0.928537      0.929366  0.172818  0.168983\n",
              "27  0.928297      0.931016  0.171719  0.168293\n",
              "28  0.928881      0.929779  0.172214  0.168285\n",
              "29  0.928743      0.930603  0.171260  0.167866\n",
              "30  0.929499      0.928267  0.170268  0.168890\n",
              "31  0.928468      0.930191  0.171474  0.168588\n",
              "32  0.928743      0.928130  0.170778  0.168829\n",
              "33  0.929602      0.926893  0.170357  0.171956\n",
              "34  0.928778      0.929366  0.169679  0.169033\n",
              "35  0.928090      0.929366  0.170548  0.167026\n",
              "36  0.926647      0.928130  0.176710  0.167274\n",
              "37  0.928537      0.929504  0.170975  0.169092\n",
              "38  0.928778      0.926206  0.170018  0.168759\n",
              "39  0.929568      0.928267  0.168744  0.169213\n",
              "40  0.928159      0.929916  0.169732  0.167168\n",
              "41  0.927678      0.930466  0.170937  0.167263\n",
              "42  0.928331      0.929641  0.169497  0.167583\n",
              "43  0.928159      0.929916  0.169129  0.166575\n",
              "44  0.927850      0.929641  0.169285  0.167419\n",
              "45  0.928022      0.927855  0.168828  0.166071\n",
              "46  0.928812      0.929366  0.167949  0.166691\n",
              "47  0.928675      0.930603  0.168068  0.166428\n",
              "48  0.927850      0.927443  0.170549  0.174166\n",
              "49  0.929259      0.928542  0.172487  0.166637"
            ],
            "text/html": [
              "\n",
              "  <div id=\"df-fe84aa92-2fd6-4ac3-8dbd-50a0f49b481b\">\n",
              "    <div class=\"colab-df-container\">\n",
              "      <div>\n",
              "<style scoped>\n",
              "    .dataframe tbody tr th:only-of-type {\n",
              "        vertical-align: middle;\n",
              "    }\n",
              "\n",
              "    .dataframe tbody tr th {\n",
              "        vertical-align: top;\n",
              "    }\n",
              "\n",
              "    .dataframe thead th {\n",
              "        text-align: right;\n",
              "    }\n",
              "</style>\n",
              "<table border=\"1\" class=\"dataframe\">\n",
              "  <thead>\n",
              "    <tr style=\"text-align: right;\">\n",
              "      <th></th>\n",
              "      <th>accuracy</th>\n",
              "      <th>val accuracy</th>\n",
              "      <th>loss</th>\n",
              "      <th>val loss</th>\n",
              "    </tr>\n",
              "  </thead>\n",
              "  <tbody>\n",
              "    <tr>\n",
              "      <th>0</th>\n",
              "      <td>0.884148</td>\n",
              "      <td>0.916037</td>\n",
              "      <td>0.347268</td>\n",
              "      <td>0.230046</td>\n",
              "    </tr>\n",
              "    <tr>\n",
              "      <th>1</th>\n",
              "      <td>0.913351</td>\n",
              "      <td>0.920022</td>\n",
              "      <td>0.226864</td>\n",
              "      <td>0.207123</td>\n",
              "    </tr>\n",
              "    <tr>\n",
              "      <th>2</th>\n",
              "      <td>0.917543</td>\n",
              "      <td>0.919335</td>\n",
              "      <td>0.211867</td>\n",
              "      <td>0.203502</td>\n",
              "    </tr>\n",
              "    <tr>\n",
              "      <th>3</th>\n",
              "      <td>0.919673</td>\n",
              "      <td>0.927030</td>\n",
              "      <td>0.200979</td>\n",
              "      <td>0.185845</td>\n",
              "    </tr>\n",
              "    <tr>\n",
              "      <th>4</th>\n",
              "      <td>0.922765</td>\n",
              "      <td>0.925656</td>\n",
              "      <td>0.193272</td>\n",
              "      <td>0.182564</td>\n",
              "    </tr>\n",
              "    <tr>\n",
              "      <th>5</th>\n",
              "      <td>0.923590</td>\n",
              "      <td>0.926756</td>\n",
              "      <td>0.189849</td>\n",
              "      <td>0.184009</td>\n",
              "    </tr>\n",
              "    <tr>\n",
              "      <th>6</th>\n",
              "      <td>0.925411</td>\n",
              "      <td>0.928679</td>\n",
              "      <td>0.187713</td>\n",
              "      <td>0.179578</td>\n",
              "    </tr>\n",
              "    <tr>\n",
              "      <th>7</th>\n",
              "      <td>0.925479</td>\n",
              "      <td>0.927580</td>\n",
              "      <td>0.184553</td>\n",
              "      <td>0.182057</td>\n",
              "    </tr>\n",
              "    <tr>\n",
              "      <th>8</th>\n",
              "      <td>0.926029</td>\n",
              "      <td>0.928679</td>\n",
              "      <td>0.182723</td>\n",
              "      <td>0.175461</td>\n",
              "    </tr>\n",
              "    <tr>\n",
              "      <th>9</th>\n",
              "      <td>0.925411</td>\n",
              "      <td>0.929092</td>\n",
              "      <td>0.182539</td>\n",
              "      <td>0.172953</td>\n",
              "    </tr>\n",
              "    <tr>\n",
              "      <th>10</th>\n",
              "      <td>0.926510</td>\n",
              "      <td>0.927992</td>\n",
              "      <td>0.181090</td>\n",
              "      <td>0.176027</td>\n",
              "    </tr>\n",
              "    <tr>\n",
              "      <th>11</th>\n",
              "      <td>0.926373</td>\n",
              "      <td>0.927855</td>\n",
              "      <td>0.179064</td>\n",
              "      <td>0.175698</td>\n",
              "    </tr>\n",
              "    <tr>\n",
              "      <th>12</th>\n",
              "      <td>0.926407</td>\n",
              "      <td>0.927580</td>\n",
              "      <td>0.179267</td>\n",
              "      <td>0.174981</td>\n",
              "    </tr>\n",
              "    <tr>\n",
              "      <th>13</th>\n",
              "      <td>0.925754</td>\n",
              "      <td>0.927855</td>\n",
              "      <td>0.180069</td>\n",
              "      <td>0.176294</td>\n",
              "    </tr>\n",
              "    <tr>\n",
              "      <th>14</th>\n",
              "      <td>0.927094</td>\n",
              "      <td>0.929779</td>\n",
              "      <td>0.177635</td>\n",
              "      <td>0.172363</td>\n",
              "    </tr>\n",
              "    <tr>\n",
              "      <th>15</th>\n",
              "      <td>0.926888</td>\n",
              "      <td>0.929366</td>\n",
              "      <td>0.177242</td>\n",
              "      <td>0.170941</td>\n",
              "    </tr>\n",
              "    <tr>\n",
              "      <th>16</th>\n",
              "      <td>0.924689</td>\n",
              "      <td>0.924419</td>\n",
              "      <td>0.185295</td>\n",
              "      <td>0.183603</td>\n",
              "    </tr>\n",
              "    <tr>\n",
              "      <th>17</th>\n",
              "      <td>0.924345</td>\n",
              "      <td>0.926893</td>\n",
              "      <td>0.183121</td>\n",
              "      <td>0.174163</td>\n",
              "    </tr>\n",
              "    <tr>\n",
              "      <th>18</th>\n",
              "      <td>0.926029</td>\n",
              "      <td>0.930878</td>\n",
              "      <td>0.180372</td>\n",
              "      <td>0.173823</td>\n",
              "    </tr>\n",
              "    <tr>\n",
              "      <th>19</th>\n",
              "      <td>0.926647</td>\n",
              "      <td>0.927855</td>\n",
              "      <td>0.178576</td>\n",
              "      <td>0.173018</td>\n",
              "    </tr>\n",
              "    <tr>\n",
              "      <th>20</th>\n",
              "      <td>0.926750</td>\n",
              "      <td>0.929092</td>\n",
              "      <td>0.178198</td>\n",
              "      <td>0.170535</td>\n",
              "    </tr>\n",
              "    <tr>\n",
              "      <th>21</th>\n",
              "      <td>0.928090</td>\n",
              "      <td>0.928679</td>\n",
              "      <td>0.174990</td>\n",
              "      <td>0.174197</td>\n",
              "    </tr>\n",
              "    <tr>\n",
              "      <th>22</th>\n",
              "      <td>0.928159</td>\n",
              "      <td>0.929504</td>\n",
              "      <td>0.175375</td>\n",
              "      <td>0.170345</td>\n",
              "    </tr>\n",
              "    <tr>\n",
              "      <th>23</th>\n",
              "      <td>0.927197</td>\n",
              "      <td>0.920572</td>\n",
              "      <td>0.173980</td>\n",
              "      <td>0.175984</td>\n",
              "    </tr>\n",
              "    <tr>\n",
              "      <th>24</th>\n",
              "      <td>0.927541</td>\n",
              "      <td>0.928817</td>\n",
              "      <td>0.173917</td>\n",
              "      <td>0.170835</td>\n",
              "    </tr>\n",
              "    <tr>\n",
              "      <th>25</th>\n",
              "      <td>0.927884</td>\n",
              "      <td>0.928405</td>\n",
              "      <td>0.173982</td>\n",
              "      <td>0.170795</td>\n",
              "    </tr>\n",
              "    <tr>\n",
              "      <th>26</th>\n",
              "      <td>0.928537</td>\n",
              "      <td>0.929366</td>\n",
              "      <td>0.172818</td>\n",
              "      <td>0.168983</td>\n",
              "    </tr>\n",
              "    <tr>\n",
              "      <th>27</th>\n",
              "      <td>0.928297</td>\n",
              "      <td>0.931016</td>\n",
              "      <td>0.171719</td>\n",
              "      <td>0.168293</td>\n",
              "    </tr>\n",
              "    <tr>\n",
              "      <th>28</th>\n",
              "      <td>0.928881</td>\n",
              "      <td>0.929779</td>\n",
              "      <td>0.172214</td>\n",
              "      <td>0.168285</td>\n",
              "    </tr>\n",
              "    <tr>\n",
              "      <th>29</th>\n",
              "      <td>0.928743</td>\n",
              "      <td>0.930603</td>\n",
              "      <td>0.171260</td>\n",
              "      <td>0.167866</td>\n",
              "    </tr>\n",
              "    <tr>\n",
              "      <th>30</th>\n",
              "      <td>0.929499</td>\n",
              "      <td>0.928267</td>\n",
              "      <td>0.170268</td>\n",
              "      <td>0.168890</td>\n",
              "    </tr>\n",
              "    <tr>\n",
              "      <th>31</th>\n",
              "      <td>0.928468</td>\n",
              "      <td>0.930191</td>\n",
              "      <td>0.171474</td>\n",
              "      <td>0.168588</td>\n",
              "    </tr>\n",
              "    <tr>\n",
              "      <th>32</th>\n",
              "      <td>0.928743</td>\n",
              "      <td>0.928130</td>\n",
              "      <td>0.170778</td>\n",
              "      <td>0.168829</td>\n",
              "    </tr>\n",
              "    <tr>\n",
              "      <th>33</th>\n",
              "      <td>0.929602</td>\n",
              "      <td>0.926893</td>\n",
              "      <td>0.170357</td>\n",
              "      <td>0.171956</td>\n",
              "    </tr>\n",
              "    <tr>\n",
              "      <th>34</th>\n",
              "      <td>0.928778</td>\n",
              "      <td>0.929366</td>\n",
              "      <td>0.169679</td>\n",
              "      <td>0.169033</td>\n",
              "    </tr>\n",
              "    <tr>\n",
              "      <th>35</th>\n",
              "      <td>0.928090</td>\n",
              "      <td>0.929366</td>\n",
              "      <td>0.170548</td>\n",
              "      <td>0.167026</td>\n",
              "    </tr>\n",
              "    <tr>\n",
              "      <th>36</th>\n",
              "      <td>0.926647</td>\n",
              "      <td>0.928130</td>\n",
              "      <td>0.176710</td>\n",
              "      <td>0.167274</td>\n",
              "    </tr>\n",
              "    <tr>\n",
              "      <th>37</th>\n",
              "      <td>0.928537</td>\n",
              "      <td>0.929504</td>\n",
              "      <td>0.170975</td>\n",
              "      <td>0.169092</td>\n",
              "    </tr>\n",
              "    <tr>\n",
              "      <th>38</th>\n",
              "      <td>0.928778</td>\n",
              "      <td>0.926206</td>\n",
              "      <td>0.170018</td>\n",
              "      <td>0.168759</td>\n",
              "    </tr>\n",
              "    <tr>\n",
              "      <th>39</th>\n",
              "      <td>0.929568</td>\n",
              "      <td>0.928267</td>\n",
              "      <td>0.168744</td>\n",
              "      <td>0.169213</td>\n",
              "    </tr>\n",
              "    <tr>\n",
              "      <th>40</th>\n",
              "      <td>0.928159</td>\n",
              "      <td>0.929916</td>\n",
              "      <td>0.169732</td>\n",
              "      <td>0.167168</td>\n",
              "    </tr>\n",
              "    <tr>\n",
              "      <th>41</th>\n",
              "      <td>0.927678</td>\n",
              "      <td>0.930466</td>\n",
              "      <td>0.170937</td>\n",
              "      <td>0.167263</td>\n",
              "    </tr>\n",
              "    <tr>\n",
              "      <th>42</th>\n",
              "      <td>0.928331</td>\n",
              "      <td>0.929641</td>\n",
              "      <td>0.169497</td>\n",
              "      <td>0.167583</td>\n",
              "    </tr>\n",
              "    <tr>\n",
              "      <th>43</th>\n",
              "      <td>0.928159</td>\n",
              "      <td>0.929916</td>\n",
              "      <td>0.169129</td>\n",
              "      <td>0.166575</td>\n",
              "    </tr>\n",
              "    <tr>\n",
              "      <th>44</th>\n",
              "      <td>0.927850</td>\n",
              "      <td>0.929641</td>\n",
              "      <td>0.169285</td>\n",
              "      <td>0.167419</td>\n",
              "    </tr>\n",
              "    <tr>\n",
              "      <th>45</th>\n",
              "      <td>0.928022</td>\n",
              "      <td>0.927855</td>\n",
              "      <td>0.168828</td>\n",
              "      <td>0.166071</td>\n",
              "    </tr>\n",
              "    <tr>\n",
              "      <th>46</th>\n",
              "      <td>0.928812</td>\n",
              "      <td>0.929366</td>\n",
              "      <td>0.167949</td>\n",
              "      <td>0.166691</td>\n",
              "    </tr>\n",
              "    <tr>\n",
              "      <th>47</th>\n",
              "      <td>0.928675</td>\n",
              "      <td>0.930603</td>\n",
              "      <td>0.168068</td>\n",
              "      <td>0.166428</td>\n",
              "    </tr>\n",
              "    <tr>\n",
              "      <th>48</th>\n",
              "      <td>0.927850</td>\n",
              "      <td>0.927443</td>\n",
              "      <td>0.170549</td>\n",
              "      <td>0.174166</td>\n",
              "    </tr>\n",
              "    <tr>\n",
              "      <th>49</th>\n",
              "      <td>0.929259</td>\n",
              "      <td>0.928542</td>\n",
              "      <td>0.172487</td>\n",
              "      <td>0.166637</td>\n",
              "    </tr>\n",
              "  </tbody>\n",
              "</table>\n",
              "</div>\n",
              "      <button class=\"colab-df-convert\" onclick=\"convertToInteractive('df-fe84aa92-2fd6-4ac3-8dbd-50a0f49b481b')\"\n",
              "              title=\"Convert this dataframe to an interactive table.\"\n",
              "              style=\"display:none;\">\n",
              "        \n",
              "  <svg xmlns=\"http://www.w3.org/2000/svg\" height=\"24px\"viewBox=\"0 0 24 24\"\n",
              "       width=\"24px\">\n",
              "    <path d=\"M0 0h24v24H0V0z\" fill=\"none\"/>\n",
              "    <path d=\"M18.56 5.44l.94 2.06.94-2.06 2.06-.94-2.06-.94-.94-2.06-.94 2.06-2.06.94zm-11 1L8.5 8.5l.94-2.06 2.06-.94-2.06-.94L8.5 2.5l-.94 2.06-2.06.94zm10 10l.94 2.06.94-2.06 2.06-.94-2.06-.94-.94-2.06-.94 2.06-2.06.94z\"/><path d=\"M17.41 7.96l-1.37-1.37c-.4-.4-.92-.59-1.43-.59-.52 0-1.04.2-1.43.59L10.3 9.45l-7.72 7.72c-.78.78-.78 2.05 0 2.83L4 21.41c.39.39.9.59 1.41.59.51 0 1.02-.2 1.41-.59l7.78-7.78 2.81-2.81c.8-.78.8-2.07 0-2.86zM5.41 20L4 18.59l7.72-7.72 1.47 1.35L5.41 20z\"/>\n",
              "  </svg>\n",
              "      </button>\n",
              "      \n",
              "  <style>\n",
              "    .colab-df-container {\n",
              "      display:flex;\n",
              "      flex-wrap:wrap;\n",
              "      gap: 12px;\n",
              "    }\n",
              "\n",
              "    .colab-df-convert {\n",
              "      background-color: #E8F0FE;\n",
              "      border: none;\n",
              "      border-radius: 50%;\n",
              "      cursor: pointer;\n",
              "      display: none;\n",
              "      fill: #1967D2;\n",
              "      height: 32px;\n",
              "      padding: 0 0 0 0;\n",
              "      width: 32px;\n",
              "    }\n",
              "\n",
              "    .colab-df-convert:hover {\n",
              "      background-color: #E2EBFA;\n",
              "      box-shadow: 0px 1px 2px rgba(60, 64, 67, 0.3), 0px 1px 3px 1px rgba(60, 64, 67, 0.15);\n",
              "      fill: #174EA6;\n",
              "    }\n",
              "\n",
              "    [theme=dark] .colab-df-convert {\n",
              "      background-color: #3B4455;\n",
              "      fill: #D2E3FC;\n",
              "    }\n",
              "\n",
              "    [theme=dark] .colab-df-convert:hover {\n",
              "      background-color: #434B5C;\n",
              "      box-shadow: 0px 1px 3px 1px rgba(0, 0, 0, 0.15);\n",
              "      filter: drop-shadow(0px 1px 2px rgba(0, 0, 0, 0.3));\n",
              "      fill: #FFFFFF;\n",
              "    }\n",
              "  </style>\n",
              "\n",
              "      <script>\n",
              "        const buttonEl =\n",
              "          document.querySelector('#df-fe84aa92-2fd6-4ac3-8dbd-50a0f49b481b button.colab-df-convert');\n",
              "        buttonEl.style.display =\n",
              "          google.colab.kernel.accessAllowed ? 'block' : 'none';\n",
              "\n",
              "        async function convertToInteractive(key) {\n",
              "          const element = document.querySelector('#df-fe84aa92-2fd6-4ac3-8dbd-50a0f49b481b');\n",
              "          const dataTable =\n",
              "            await google.colab.kernel.invokeFunction('convertToInteractive',\n",
              "                                                     [key], {});\n",
              "          if (!dataTable) return;\n",
              "\n",
              "          const docLinkHtml = 'Like what you see? Visit the ' +\n",
              "            '<a target=\"_blank\" href=https://colab.research.google.com/notebooks/data_table.ipynb>data table notebook</a>'\n",
              "            + ' to learn more about interactive tables.';\n",
              "          element.innerHTML = '';\n",
              "          dataTable['output_type'] = 'display_data';\n",
              "          await google.colab.output.renderOutput(dataTable, element);\n",
              "          const docLink = document.createElement('div');\n",
              "          docLink.innerHTML = docLinkHtml;\n",
              "          element.appendChild(docLink);\n",
              "        }\n",
              "      </script>\n",
              "    </div>\n",
              "  </div>\n",
              "  "
            ]
          },
          "metadata": {},
          "execution_count": 57
        }
      ]
    },
    {
      "cell_type": "code",
      "source": [],
      "metadata": {
        "id": "dNXK-okvCohl"
      },
      "execution_count": null,
      "outputs": []
    },
    {
      "cell_type": "markdown",
      "source": [
        "##Section 5: Evaluation and Conformance Checking"
      ],
      "metadata": {
        "id": "aNoGbrOXPXlY"
      }
    },
    {
      "cell_type": "markdown",
      "source": [
        "###5.0"
      ],
      "metadata": {
        "id": "Ly1fbKzhFG9_"
      }
    },
    {
      "cell_type": "code",
      "source": [
        "def evaluate(predictions, verbose=False):\n",
        "  correct = 0 \n",
        "  incorrect = 0\n",
        "  for i in range(len(test_targets)):\n",
        "    prediction = np.argmax(predictions[i])\n",
        "    if int(prediction) == int(test_targets[i]):\n",
        "      correct += 1\n",
        "    else:\n",
        "      if verbose:\n",
        "        print(f\"predicted : {prediction}; expected : {test_targets[i]}\")\n",
        "      incorrect += 1\n",
        "\n",
        "\n",
        "  accuracy = correct/(correct + incorrect)\n",
        "  return accuracy"
      ],
      "metadata": {
        "id": "eY7I97Mtgc0o"
      },
      "execution_count": 29,
      "outputs": []
    },
    {
      "cell_type": "code",
      "source": [
        "def categoricalConfusionMatrix(predictions):\n",
        " activities = list(decode_activity.values())\n",
        "#  df = pd.DataFrame()\n",
        " for activity in activities:\n",
        "  #  initialise true and false positives and negatives\n",
        "   tp, tn, fp, fn = 0,0,0,0\n",
        "   activity_value = encode_activity.get(activity)\n",
        "   for i in range(len(test_targets)):\n",
        "     prediction = np.argmax(predictions[i])\n",
        "\n",
        "     if int(test_targets[i]) == int(activity_value):\n",
        "       #  true positive\n",
        "       if int(prediction) == int(test_targets[i]):\n",
        "         tp += 1\n",
        "       # false negative\n",
        "       else:\n",
        "         fn += 1\n",
        "     else:\n",
        "       if int(prediction) == int(test_targets[i]):\n",
        "         tn +=1\n",
        "       else:\n",
        "         fp +=1\n",
        "\n",
        "   print(f'{activity}:\\n true positives: {tp}\\n false positives: {fp}\\n true negatives: {tn}\\n false negatives: {fn}')\n",
        "   try:\n",
        "    recall = tp/(tp+fn)\n",
        "    precision = tp/(tp+fp)\n",
        "    f1 = 2*(precision * recall)/(precision+recall)\n",
        "   except ZeroDivisionError as e:\n",
        "     print(e)  \n",
        "   print(f'recall = {recall}\\n precision = {precision}\\n f1 score = {f1}')\n",
        "   \n",
        "\n",
        "\n",
        "\n",
        "\n",
        "\n",
        "     \n",
        "\n",
        "\n"
      ],
      "metadata": {
        "id": "gkbvGKFw95FM"
      },
      "execution_count": 30,
      "outputs": []
    },
    {
      "cell_type": "markdown",
      "source": [
        "###5.1 Original Models"
      ],
      "metadata": {
        "id": "QZ4Wmq9ZvPzw"
      }
    },
    {
      "cell_type": "code",
      "source": [
        "# prefix-LSTM\n",
        "predictions_prefix = prefix_LSTM.predict(test_x[0])\n",
        "evaluate(predictions_prefix)"
      ],
      "metadata": {
        "id": "kNtmthRhlzUT",
        "outputId": "5d369e3c-e67e-4bfe-fa2a-47116f052845",
        "colab": {
          "base_uri": "https://localhost:8080/"
        }
      },
      "execution_count": null,
      "outputs": [
        {
          "output_type": "stream",
          "name": "stdout",
          "text": [
            "43/43 [==============================] - 0s 3ms/step\n"
          ]
        },
        {
          "output_type": "execute_result",
          "data": {
            "text/plain": [
              "0.4670087976539589"
            ]
          },
          "metadata": {},
          "execution_count": 44
        }
      ]
    },
    {
      "cell_type": "code",
      "source": [
        "# suffix-LSTM\n",
        "predictions_suffix = suffix_LSTM.predict(test_x[1])\n",
        "evaluate(predictions_suffix)"
      ],
      "metadata": {
        "id": "uHygv6PVmHwN",
        "outputId": "ad689db8-5f08-4e68-bbf0-1d035685cac0",
        "colab": {
          "base_uri": "https://localhost:8080/"
        }
      },
      "execution_count": null,
      "outputs": [
        {
          "output_type": "stream",
          "name": "stdout",
          "text": [
            "43/43 [==============================] - 0s 3ms/step\n"
          ]
        },
        {
          "output_type": "execute_result",
          "data": {
            "text/plain": [
              "0.5681818181818182"
            ]
          },
          "metadata": {},
          "execution_count": 45
        }
      ]
    },
    {
      "cell_type": "code",
      "source": [
        "# averaging outputs\n",
        "predictions = []\n",
        "for p in zip(predictions_prefix, predictions_suffix):\n",
        " \n",
        "  arr = []\n",
        "  for i in range(0,4):\n",
        "    arr.append((p[0][i]+p[1][i])/2)\n",
        "  predictions += [arr]\n",
        "\n",
        "predictions = np.array(predictions)\n",
        "\n",
        "evaluate(predictions)"
      ],
      "metadata": {
        "id": "C7lXTArfl8QC",
        "outputId": "b3676a68-7ea9-4d26-e735-44f454d86fef",
        "colab": {
          "base_uri": "https://localhost:8080/",
          "height": 235
        }
      },
      "execution_count": null,
      "outputs": [
        {
          "output_type": "error",
          "ename": "NameError",
          "evalue": "ignored",
          "traceback": [
            "\u001b[0;31m---------------------------------------------------------------------------\u001b[0m",
            "\u001b[0;31mNameError\u001b[0m                                 Traceback (most recent call last)",
            "\u001b[0;32m<ipython-input-70-f0e8e8171203>\u001b[0m in \u001b[0;36m<cell line: 3>\u001b[0;34m()\u001b[0m\n\u001b[1;32m      1\u001b[0m \u001b[0;31m# averaging outputs\u001b[0m\u001b[0;34m\u001b[0m\u001b[0;34m\u001b[0m\u001b[0m\n\u001b[1;32m      2\u001b[0m \u001b[0mpredictions\u001b[0m \u001b[0;34m=\u001b[0m \u001b[0;34m[\u001b[0m\u001b[0;34m]\u001b[0m\u001b[0;34m\u001b[0m\u001b[0;34m\u001b[0m\u001b[0m\n\u001b[0;32m----> 3\u001b[0;31m \u001b[0;32mfor\u001b[0m \u001b[0mp\u001b[0m \u001b[0;32min\u001b[0m \u001b[0mzip\u001b[0m\u001b[0;34m(\u001b[0m\u001b[0mpredictions_prefix\u001b[0m\u001b[0;34m,\u001b[0m \u001b[0mpredictions_suffix\u001b[0m\u001b[0;34m)\u001b[0m\u001b[0;34m:\u001b[0m\u001b[0;34m\u001b[0m\u001b[0;34m\u001b[0m\u001b[0m\n\u001b[0m\u001b[1;32m      4\u001b[0m \u001b[0;34m\u001b[0m\u001b[0m\n\u001b[1;32m      5\u001b[0m   \u001b[0marr\u001b[0m \u001b[0;34m=\u001b[0m \u001b[0;34m[\u001b[0m\u001b[0;34m]\u001b[0m\u001b[0;34m\u001b[0m\u001b[0;34m\u001b[0m\u001b[0m\n",
            "\u001b[0;31mNameError\u001b[0m: name 'predictions_prefix' is not defined"
          ]
        }
      ]
    },
    {
      "cell_type": "code",
      "source": [
        "# bi-LSTM with activities\n",
        "predictions_bi = bi_LSTM.predict([test_x[0], test_x[1]])\n",
        "evaluate(predictions_bi)"
      ],
      "metadata": {
        "colab": {
          "base_uri": "https://localhost:8080/"
        },
        "id": "NeZBGY_TWXPL",
        "outputId": "68c66682-129b-4dae-bdb4-a577b3ee288f"
      },
      "execution_count": null,
      "outputs": [
        {
          "output_type": "stream",
          "name": "stderr",
          "text": [
            "WARNING:tensorflow:5 out of the last 13 calls to <function Model.make_predict_function.<locals>.predict_function at 0x7fb5a9f990d0> triggered tf.function retracing. Tracing is expensive and the excessive number of tracings could be due to (1) creating @tf.function repeatedly in a loop, (2) passing tensors with different shapes, (3) passing Python objects instead of tensors. For (1), please define your @tf.function outside of the loop. For (2), @tf.function has reduce_retracing=True option that can avoid unnecessary retracing. For (3), please refer to https://www.tensorflow.org/guide/function#controlling_retracing and https://www.tensorflow.org/api_docs/python/tf/function for  more details.\n"
          ]
        },
        {
          "output_type": "stream",
          "name": "stdout",
          "text": [
            "25/25 [==============================] - 2s 5ms/step\n"
          ]
        },
        {
          "output_type": "execute_result",
          "data": {
            "text/plain": [
              "1.0"
            ]
          },
          "metadata": {},
          "execution_count": 169
        }
      ]
    },
    {
      "cell_type": "code",
      "source": [
        "# bi-LSTM with time deltas\n",
        "predictions_td = td_LSTM.predict([test_x[2], test_x[3]])\n",
        "evaluate(predictions_td)\n"
      ],
      "metadata": {
        "id": "cHLWdwqrmAQC",
        "outputId": "159c4f6d-5744-412a-dd7d-aba0c2a6a54f",
        "colab": {
          "base_uri": "https://localhost:8080/"
        }
      },
      "execution_count": null,
      "outputs": [
        {
          "output_type": "stream",
          "name": "stdout",
          "text": [
            "25/25 [==============================] - 1s 3ms/step\n"
          ]
        },
        {
          "output_type": "execute_result",
          "data": {
            "text/plain": [
              "1.0"
            ]
          },
          "metadata": {},
          "execution_count": 170
        }
      ]
    },
    {
      "cell_type": "code",
      "source": [
        "# bi-LSTM with activities and time deltas 1\n",
        "predictions_bi_td = bi_LSTM_td.predict([test_x[0], test_x[1], test_x[2], test_x[3]])\n",
        "evaluate(predictions_bi_td)"
      ],
      "metadata": {
        "id": "4mZtYK3WRskJ",
        "outputId": "a4f1c0f4-43e7-49f3-fe62-fcede1acec8e",
        "colab": {
          "base_uri": "https://localhost:8080/"
        }
      },
      "execution_count": null,
      "outputs": [
        {
          "output_type": "stream",
          "name": "stdout",
          "text": [
            "25/25 [==============================] - 1s 4ms/step\n"
          ]
        },
        {
          "output_type": "execute_result",
          "data": {
            "text/plain": [
              "1.0"
            ]
          },
          "metadata": {},
          "execution_count": 171
        }
      ]
    },
    {
      "cell_type": "code",
      "source": [
        "# bi-LSTM with activities and time deltas 2\n",
        "predictions_bi_td_2 = bi_LSTM_td_2.predict([test_x[0], test_x[1], test_x[2], test_x[3]])\n",
        "evaluate(predictions_bi_td_2,verbose=False)"
      ],
      "metadata": {
        "colab": {
          "base_uri": "https://localhost:8080/"
        },
        "id": "BdxYKINyWvAK",
        "outputId": "99b58e27-6daf-4d98-f9e0-243c64d4b81d"
      },
      "execution_count": 31,
      "outputs": [
        {
          "output_type": "stream",
          "name": "stdout",
          "text": [
            "285/285 [==============================] - 2s 5ms/step\n"
          ]
        },
        {
          "output_type": "execute_result",
          "data": {
            "text/plain": [
              "0.7837510993843447"
            ]
          },
          "metadata": {},
          "execution_count": 31
        }
      ]
    },
    {
      "cell_type": "markdown",
      "source": [
        "###5.2 Best Model"
      ],
      "metadata": {
        "id": "3O7YMaQYvVC-"
      }
    },
    {
      "cell_type": "code",
      "source": [
        "# bi-LSTM with activities and time deltas 2\n",
        "predictions_best_model = best_model.predict([test_x[0], test_x[1], test_x[2], test_x[3]])\n",
        "evaluate(predictions_best_model,verbose=False)"
      ],
      "metadata": {
        "id": "dDH_vlp6vZq6",
        "outputId": "127fc2ba-026b-4f49-c576-0afee753a357",
        "colab": {
          "base_uri": "https://localhost:8080/"
        }
      },
      "execution_count": 48,
      "outputs": [
        {
          "output_type": "stream",
          "name": "stdout",
          "text": [
            "285/285 [==============================] - 4s 6ms/step\n"
          ]
        },
        {
          "output_type": "execute_result",
          "data": {
            "text/plain": [
              "0.9307387862796834"
            ]
          },
          "metadata": {},
          "execution_count": 48
        }
      ]
    },
    {
      "cell_type": "code",
      "source": [
        "categoricalConfusionMatrix(predictions_best_model)"
      ],
      "metadata": {
        "id": "Feu11aP2_JpH",
        "outputId": "91e7bade-cafd-4287-d323-9f62777c0d27",
        "colab": {
          "base_uri": "https://localhost:8080/"
        }
      },
      "execution_count": null,
      "outputs": [
        {
          "output_type": "stream",
          "name": "stdout",
          "text": [
            "Admitted:\n",
            " true positives: 1602\n",
            " false positives: 310\n",
            " true negatives: 6588\n",
            " false negatives: 0\n",
            "recall = 1.0\n",
            " precision = 0.8378661087866108\n",
            " f1 score = 0.9117814456459874\n",
            "Entered ICU:\n",
            " true positives: 1494\n",
            " false positives: 291\n",
            " true negatives: 6696\n",
            " false negatives: 19\n",
            "recall = 0.9874421678783873\n",
            " precision = 0.8369747899159664\n",
            " f1 score = 0.9060036385688296\n",
            "Transfer:\n",
            " true positives: 1718\n",
            " false positives: 151\n",
            " true negatives: 6472\n",
            " false negatives: 159\n",
            "recall = 0.9152903569525839\n",
            " precision = 0.9192081326912788\n",
            " f1 score = 0.9172450613988253\n",
            "Left ICU:\n",
            " true positives: 1567\n",
            " false positives: 303\n",
            " true negatives: 6623\n",
            " false negatives: 7\n",
            "recall = 0.9955527318932655\n",
            " precision = 0.8379679144385027\n",
            " f1 score = 0.9099883855981418\n",
            "Discharged:\n",
            " true positives: 1515\n",
            " false positives: 310\n",
            " true negatives: 6675\n",
            " false negatives: 0\n",
            "recall = 1.0\n",
            " precision = 0.8301369863013699\n",
            " f1 score = 0.907185628742515\n",
            "Peripheral Lines:\n",
            " true positives: 229\n",
            " false positives: 258\n",
            " true negatives: 7961\n",
            " false negatives: 52\n",
            "recall = 0.8149466192170819\n",
            " precision = 0.4702258726899384\n",
            " f1 score = 0.5963541666666667\n",
            "Procedures:\n",
            " true positives: 64\n",
            " false positives: 263\n",
            " true negatives: 8126\n",
            " false negatives: 47\n",
            "recall = 0.5765765765765766\n",
            " precision = 0.19571865443425077\n",
            " f1 score = 0.2922374429223744\n",
            "Imaging:\n",
            " true positives: 0\n",
            " false positives: 296\n",
            " true negatives: 8190\n",
            " false negatives: 14\n",
            "float division by zero\n",
            "recall = 0.0\n",
            " precision = 0.0\n",
            " f1 score = 0.2922374429223744\n",
            "Invasive Lines:\n",
            " true positives: 1\n",
            " false positives: 298\n",
            " true negatives: 8189\n",
            " false negatives: 12\n",
            "recall = 0.07692307692307693\n",
            " precision = 0.0033444816053511705\n",
            " f1 score = 0.006410256410256411\n"
          ]
        }
      ]
    }
  ],
  "metadata": {
    "kernelspec": {
      "display_name": "Python 3",
      "language": "python",
      "name": "python3"
    },
    "language_info": {
      "codemirror_mode": {
        "name": "ipython",
        "version": 3
      },
      "file_extension": ".py",
      "mimetype": "text/x-python",
      "name": "python",
      "nbconvert_exporter": "python",
      "pygments_lexer": "ipython3",
      "version": "3.10.2"
    },
    "orig_nbformat": 4,
    "vscode": {
      "interpreter": {
        "hash": "668626f72d98c3d20278a861d4c9cd1e9608e85361f1e74d685459c6ce5f80f9"
      }
    },
    "colab": {
      "provenance": [],
      "include_colab_link": true
    },
    "accelerator": "GPU",
    "gpuClass": "standard"
  },
  "nbformat": 4,
  "nbformat_minor": 0
}