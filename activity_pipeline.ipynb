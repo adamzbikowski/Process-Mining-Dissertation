{
  "cells": [
    {
      "cell_type": "markdown",
      "metadata": {
        "id": "view-in-github",
        "colab_type": "text"
      },
      "source": [
        "<a href=\"https://colab.research.google.com/github/adamzbikowski/Process-Mining-Dissertation/blob/main/activity_pipeline.ipynb\" target=\"_parent\"><img src=\"https://colab.research.google.com/assets/colab-badge.svg\" alt=\"Open In Colab\"/></a>"
      ]
    },
    {
      "cell_type": "markdown",
      "metadata": {
        "id": "_vJIqfLeCjHP"
      },
      "source": [
        "# Pipeline 1: predicting missing values for activity"
      ]
    },
    {
      "cell_type": "markdown",
      "source": [
        "##Section 0: Customisation"
      ],
      "metadata": {
        "id": "LZGZm2vxOFBT"
      }
    },
    {
      "cell_type": "markdown",
      "source": [
        "**Note on usage:**\n",
        "To customise the pipeline, only alter the parameters in this section."
      ],
      "metadata": {
        "id": "uuEFUnhyPLSz"
      }
    },
    {
      "cell_type": "code",
      "source": [
        "# The following parameters can be customised:\n",
        "\n",
        "# change depending on which branch the queries have been pushed to\n",
        "BRANCH = \"sql-queries\" \n",
        "\n",
        "# change this to change which query is being used\n",
        "QUERY_NAME = \"el_hypertension.sql\"\n",
        "\n",
        "# this assumes that the user has access to the mimic-iii dataset\n",
        "# through google BigQuery\n",
        "# replace project name to the project containing mimic-iii\n",
        "PROJECT_NAME = \"processmining-367815\" \n",
        "\n",
        "# change to alter the number of random traces being selected\n",
        "# set value to None in order to use the full dataset\n",
        "NUM_TRACES = 1000\n",
        "\n",
        "# IGNORE if event log does not include procedures\n",
        "# set to false if  \n",
        "CATEGORICAL_PROCEDURES = False\n",
        "\n",
        "# change to alter the prefix/suffix length\n",
        "PREFIX_LENGTH = 5\n",
        "\n",
        "# change to alter the size of the test and validation sets\n",
        "TEST_SIZE = 0.2\n",
        "VALIDATION_SIZE = 0.2\n",
        "\n",
        "# change to tune hyperparameters\n",
        "\n",
        "\n",
        "\n",
        "\n"
      ],
      "metadata": {
        "id": "7SRLZ8SUOEMp"
      },
      "execution_count": 153,
      "outputs": []
    },
    {
      "cell_type": "markdown",
      "metadata": {
        "id": "L27GXRjHCjHV"
      },
      "source": [
        "## Section 1: Loading event log"
      ]
    },
    {
      "cell_type": "markdown",
      "source": [
        "###1.1"
      ],
      "metadata": {
        "id": "9vuR0FKfBtms"
      }
    },
    {
      "cell_type": "code",
      "source": [
        "# installing prerequisites\n",
        "# certain packages are not installed by default on google colab\n",
        "!pip install pm4py\n",
        "!pip install -q -U keras-tuner"
      ],
      "metadata": {
        "colab": {
          "base_uri": "https://localhost:8080/"
        },
        "id": "JtmZ3GBVDj-s",
        "outputId": "633b6112-f776-4458-ed68-b093e2dfbb6d"
      },
      "execution_count": 116,
      "outputs": [
        {
          "output_type": "stream",
          "name": "stdout",
          "text": [
            "Looking in indexes: https://pypi.org/simple, https://us-python.pkg.dev/colab-wheels/public/simple/\n",
            "Requirement already satisfied: pm4py in /usr/local/lib/python3.9/dist-packages (2.7.3)\n",
            "Requirement already satisfied: pandas in /usr/local/lib/python3.9/dist-packages (from pm4py) (1.5.3)\n",
            "Requirement already satisfied: networkx in /usr/local/lib/python3.9/dist-packages (from pm4py) (3.1)\n",
            "Requirement already satisfied: scipy in /usr/local/lib/python3.9/dist-packages (from pm4py) (1.10.1)\n",
            "Requirement already satisfied: graphviz in /usr/local/lib/python3.9/dist-packages (from pm4py) (0.20.1)\n",
            "Requirement already satisfied: deprecation in /usr/local/lib/python3.9/dist-packages (from pm4py) (2.1.0)\n",
            "Requirement already satisfied: intervaltree in /usr/local/lib/python3.9/dist-packages (from pm4py) (3.1.0)\n",
            "Requirement already satisfied: matplotlib in /usr/local/lib/python3.9/dist-packages (from pm4py) (3.7.1)\n",
            "Requirement already satisfied: lxml in /usr/local/lib/python3.9/dist-packages (from pm4py) (4.9.2)\n",
            "Requirement already satisfied: pytz in /usr/local/lib/python3.9/dist-packages (from pm4py) (2022.7.1)\n",
            "Requirement already satisfied: stringdist in /usr/local/lib/python3.9/dist-packages (from pm4py) (1.0.9)\n",
            "Requirement already satisfied: tqdm in /usr/local/lib/python3.9/dist-packages (from pm4py) (4.65.0)\n",
            "Requirement already satisfied: cvxopt in /usr/local/lib/python3.9/dist-packages (from pm4py) (1.3.0)\n",
            "Requirement already satisfied: pydotplus in /usr/local/lib/python3.9/dist-packages (from pm4py) (2.0.2)\n",
            "Requirement already satisfied: numpy in /usr/local/lib/python3.9/dist-packages (from pm4py) (1.22.4)\n",
            "Requirement already satisfied: packaging in /usr/local/lib/python3.9/dist-packages (from deprecation->pm4py) (23.1)\n",
            "Requirement already satisfied: sortedcontainers<3.0,>=2.0 in /usr/local/lib/python3.9/dist-packages (from intervaltree->pm4py) (2.4.0)\n",
            "Requirement already satisfied: kiwisolver>=1.0.1 in /usr/local/lib/python3.9/dist-packages (from matplotlib->pm4py) (1.4.4)\n",
            "Requirement already satisfied: cycler>=0.10 in /usr/local/lib/python3.9/dist-packages (from matplotlib->pm4py) (0.11.0)\n",
            "Requirement already satisfied: contourpy>=1.0.1 in /usr/local/lib/python3.9/dist-packages (from matplotlib->pm4py) (1.0.7)\n",
            "Requirement already satisfied: python-dateutil>=2.7 in /usr/local/lib/python3.9/dist-packages (from matplotlib->pm4py) (2.8.2)\n",
            "Requirement already satisfied: importlib-resources>=3.2.0 in /usr/local/lib/python3.9/dist-packages (from matplotlib->pm4py) (5.12.0)\n",
            "Requirement already satisfied: pillow>=6.2.0 in /usr/local/lib/python3.9/dist-packages (from matplotlib->pm4py) (8.4.0)\n",
            "Requirement already satisfied: fonttools>=4.22.0 in /usr/local/lib/python3.9/dist-packages (from matplotlib->pm4py) (4.39.3)\n",
            "Requirement already satisfied: pyparsing>=2.3.1 in /usr/local/lib/python3.9/dist-packages (from matplotlib->pm4py) (3.0.9)\n",
            "Requirement already satisfied: zipp>=3.1.0 in /usr/local/lib/python3.9/dist-packages (from importlib-resources>=3.2.0->matplotlib->pm4py) (3.15.0)\n",
            "Requirement already satisfied: six>=1.5 in /usr/local/lib/python3.9/dist-packages (from python-dateutil>=2.7->matplotlib->pm4py) (1.16.0)\n"
          ]
        }
      ]
    },
    {
      "cell_type": "code",
      "source": [
        "from google.colab import auth\n",
        "auth.authenticate_user()"
      ],
      "metadata": {
        "id": "IrTL5G7bD7W6"
      },
      "execution_count": 123,
      "outputs": []
    },
    {
      "cell_type": "code",
      "source": [
        "\n",
        "from google.cloud import bigquery\n",
        "client = bigquery.Client(project=PROJECT_NAME)"
      ],
      "metadata": {
        "id": "-aNc-OmPEAZq"
      },
      "execution_count": 118,
      "outputs": []
    },
    {
      "cell_type": "code",
      "source": [
        "import requests\n",
        "\n",
        "# read a query from the github repository\n",
        "url = f\"https://raw.githubusercontent.com/adamzbikowski/Process-Mining-Dissertation/{BRANCH}/sql_queries/{QUERY_NAME}\"\n",
        "query_bytes = requests.get(url).content\n",
        "\n",
        "# we must now decode this to turn the query into a string \n",
        "query = query_bytes.decode(\"utf-8\")"
      ],
      "metadata": {
        "id": "cLK5sJ_qwY5W"
      },
      "execution_count": 124,
      "outputs": []
    },
    {
      "cell_type": "markdown",
      "source": [
        "###1.2"
      ],
      "metadata": {
        "id": "77eoZypCBrLK"
      }
    },
    {
      "cell_type": "code",
      "execution_count": 125,
      "metadata": {
        "colab": {
          "base_uri": "https://localhost:8080/",
          "height": 424
        },
        "id": "CmSHODCZCjHW",
        "outputId": "d1d1e0d3-0301-408a-b8a7-38fefe7d57c4"
      },
      "outputs": [
        {
          "output_type": "execute_result",
          "data": {
            "text/plain": [
              "       patient    activity           timestamp\n",
              "0       199270    Left ICU 2136-08-04 18:50:08\n",
              "1       112156    Left ICU 2132-10-26 21:47:01\n",
              "2       185179    Left ICU 2169-07-31 13:41:16\n",
              "3       178795    Left ICU 2147-09-18 17:26:50\n",
              "4       157527    Left ICU 2138-05-17 18:58:53\n",
              "...        ...         ...                 ...\n",
              "84433   182505  Discharged 2108-12-17 13:27:00\n",
              "84434   193195  Discharged 2109-05-30 11:40:00\n",
              "84435   110458  Discharged 2171-06-08 11:30:00\n",
              "84436   120514  Discharged 2163-09-09 17:30:00\n",
              "84437   178280  Discharged 2193-06-01 14:29:00\n",
              "\n",
              "[84438 rows x 3 columns]"
            ],
            "text/html": [
              "\n",
              "  <div id=\"df-b1022b1b-5604-4aa9-9e36-1504c878ea80\">\n",
              "    <div class=\"colab-df-container\">\n",
              "      <div>\n",
              "<style scoped>\n",
              "    .dataframe tbody tr th:only-of-type {\n",
              "        vertical-align: middle;\n",
              "    }\n",
              "\n",
              "    .dataframe tbody tr th {\n",
              "        vertical-align: top;\n",
              "    }\n",
              "\n",
              "    .dataframe thead th {\n",
              "        text-align: right;\n",
              "    }\n",
              "</style>\n",
              "<table border=\"1\" class=\"dataframe\">\n",
              "  <thead>\n",
              "    <tr style=\"text-align: right;\">\n",
              "      <th></th>\n",
              "      <th>patient</th>\n",
              "      <th>activity</th>\n",
              "      <th>timestamp</th>\n",
              "    </tr>\n",
              "  </thead>\n",
              "  <tbody>\n",
              "    <tr>\n",
              "      <th>0</th>\n",
              "      <td>199270</td>\n",
              "      <td>Left ICU</td>\n",
              "      <td>2136-08-04 18:50:08</td>\n",
              "    </tr>\n",
              "    <tr>\n",
              "      <th>1</th>\n",
              "      <td>112156</td>\n",
              "      <td>Left ICU</td>\n",
              "      <td>2132-10-26 21:47:01</td>\n",
              "    </tr>\n",
              "    <tr>\n",
              "      <th>2</th>\n",
              "      <td>185179</td>\n",
              "      <td>Left ICU</td>\n",
              "      <td>2169-07-31 13:41:16</td>\n",
              "    </tr>\n",
              "    <tr>\n",
              "      <th>3</th>\n",
              "      <td>178795</td>\n",
              "      <td>Left ICU</td>\n",
              "      <td>2147-09-18 17:26:50</td>\n",
              "    </tr>\n",
              "    <tr>\n",
              "      <th>4</th>\n",
              "      <td>157527</td>\n",
              "      <td>Left ICU</td>\n",
              "      <td>2138-05-17 18:58:53</td>\n",
              "    </tr>\n",
              "    <tr>\n",
              "      <th>...</th>\n",
              "      <td>...</td>\n",
              "      <td>...</td>\n",
              "      <td>...</td>\n",
              "    </tr>\n",
              "    <tr>\n",
              "      <th>84433</th>\n",
              "      <td>182505</td>\n",
              "      <td>Discharged</td>\n",
              "      <td>2108-12-17 13:27:00</td>\n",
              "    </tr>\n",
              "    <tr>\n",
              "      <th>84434</th>\n",
              "      <td>193195</td>\n",
              "      <td>Discharged</td>\n",
              "      <td>2109-05-30 11:40:00</td>\n",
              "    </tr>\n",
              "    <tr>\n",
              "      <th>84435</th>\n",
              "      <td>110458</td>\n",
              "      <td>Discharged</td>\n",
              "      <td>2171-06-08 11:30:00</td>\n",
              "    </tr>\n",
              "    <tr>\n",
              "      <th>84436</th>\n",
              "      <td>120514</td>\n",
              "      <td>Discharged</td>\n",
              "      <td>2163-09-09 17:30:00</td>\n",
              "    </tr>\n",
              "    <tr>\n",
              "      <th>84437</th>\n",
              "      <td>178280</td>\n",
              "      <td>Discharged</td>\n",
              "      <td>2193-06-01 14:29:00</td>\n",
              "    </tr>\n",
              "  </tbody>\n",
              "</table>\n",
              "<p>84438 rows × 3 columns</p>\n",
              "</div>\n",
              "      <button class=\"colab-df-convert\" onclick=\"convertToInteractive('df-b1022b1b-5604-4aa9-9e36-1504c878ea80')\"\n",
              "              title=\"Convert this dataframe to an interactive table.\"\n",
              "              style=\"display:none;\">\n",
              "        \n",
              "  <svg xmlns=\"http://www.w3.org/2000/svg\" height=\"24px\"viewBox=\"0 0 24 24\"\n",
              "       width=\"24px\">\n",
              "    <path d=\"M0 0h24v24H0V0z\" fill=\"none\"/>\n",
              "    <path d=\"M18.56 5.44l.94 2.06.94-2.06 2.06-.94-2.06-.94-.94-2.06-.94 2.06-2.06.94zm-11 1L8.5 8.5l.94-2.06 2.06-.94-2.06-.94L8.5 2.5l-.94 2.06-2.06.94zm10 10l.94 2.06.94-2.06 2.06-.94-2.06-.94-.94-2.06-.94 2.06-2.06.94z\"/><path d=\"M17.41 7.96l-1.37-1.37c-.4-.4-.92-.59-1.43-.59-.52 0-1.04.2-1.43.59L10.3 9.45l-7.72 7.72c-.78.78-.78 2.05 0 2.83L4 21.41c.39.39.9.59 1.41.59.51 0 1.02-.2 1.41-.59l7.78-7.78 2.81-2.81c.8-.78.8-2.07 0-2.86zM5.41 20L4 18.59l7.72-7.72 1.47 1.35L5.41 20z\"/>\n",
              "  </svg>\n",
              "      </button>\n",
              "      \n",
              "  <style>\n",
              "    .colab-df-container {\n",
              "      display:flex;\n",
              "      flex-wrap:wrap;\n",
              "      gap: 12px;\n",
              "    }\n",
              "\n",
              "    .colab-df-convert {\n",
              "      background-color: #E8F0FE;\n",
              "      border: none;\n",
              "      border-radius: 50%;\n",
              "      cursor: pointer;\n",
              "      display: none;\n",
              "      fill: #1967D2;\n",
              "      height: 32px;\n",
              "      padding: 0 0 0 0;\n",
              "      width: 32px;\n",
              "    }\n",
              "\n",
              "    .colab-df-convert:hover {\n",
              "      background-color: #E2EBFA;\n",
              "      box-shadow: 0px 1px 2px rgba(60, 64, 67, 0.3), 0px 1px 3px 1px rgba(60, 64, 67, 0.15);\n",
              "      fill: #174EA6;\n",
              "    }\n",
              "\n",
              "    [theme=dark] .colab-df-convert {\n",
              "      background-color: #3B4455;\n",
              "      fill: #D2E3FC;\n",
              "    }\n",
              "\n",
              "    [theme=dark] .colab-df-convert:hover {\n",
              "      background-color: #434B5C;\n",
              "      box-shadow: 0px 1px 3px 1px rgba(0, 0, 0, 0.15);\n",
              "      filter: drop-shadow(0px 1px 2px rgba(0, 0, 0, 0.3));\n",
              "      fill: #FFFFFF;\n",
              "    }\n",
              "  </style>\n",
              "\n",
              "      <script>\n",
              "        const buttonEl =\n",
              "          document.querySelector('#df-b1022b1b-5604-4aa9-9e36-1504c878ea80 button.colab-df-convert');\n",
              "        buttonEl.style.display =\n",
              "          google.colab.kernel.accessAllowed ? 'block' : 'none';\n",
              "\n",
              "        async function convertToInteractive(key) {\n",
              "          const element = document.querySelector('#df-b1022b1b-5604-4aa9-9e36-1504c878ea80');\n",
              "          const dataTable =\n",
              "            await google.colab.kernel.invokeFunction('convertToInteractive',\n",
              "                                                     [key], {});\n",
              "          if (!dataTable) return;\n",
              "\n",
              "          const docLinkHtml = 'Like what you see? Visit the ' +\n",
              "            '<a target=\"_blank\" href=https://colab.research.google.com/notebooks/data_table.ipynb>data table notebook</a>'\n",
              "            + ' to learn more about interactive tables.';\n",
              "          element.innerHTML = '';\n",
              "          dataTable['output_type'] = 'display_data';\n",
              "          await google.colab.output.renderOutput(dataTable, element);\n",
              "          const docLink = document.createElement('div');\n",
              "          docLink.innerHTML = docLinkHtml;\n",
              "          element.appendChild(docLink);\n",
              "        }\n",
              "      </script>\n",
              "    </div>\n",
              "  </div>\n",
              "  "
            ]
          },
          "metadata": {},
          "execution_count": 125
        }
      ],
      "source": [
        "import pandas as pd\n",
        "\n",
        "# loading event log from mimic-iii using bigQuery\n",
        "event_log = client.query(query).to_dataframe()\n",
        "# convert timestamp from object to datetime64\n",
        "event_log[\"timestamp\"] = pd.to_datetime(event_log[\"timestamp\"])\n",
        "event_log\n"
      ]
    },
    {
      "cell_type": "markdown",
      "metadata": {
        "id": "E5nBYFkHCjHY"
      },
      "source": [
        "## Section 2: Process Discovery"
      ]
    },
    {
      "cell_type": "code",
      "execution_count": 126,
      "metadata": {
        "colab": {
          "base_uri": "https://localhost:8080/"
        },
        "id": "q__4BhKCCjHY",
        "outputId": "b0059c50-3686-43eb-d637-c12acc7cdc3f"
      },
      "outputs": [
        {
          "output_type": "stream",
          "name": "stderr",
          "text": [
            "<ipython-input-126-aedec179434f>:3: DeprecatedWarning: format_dataframe is deprecated as of 2.3.0 and will be removed in 3.0.0. the format_dataframe function does not need application anymore.\n",
            "  event_log = pm.format_dataframe(event_log, case_id='patient', activity_key='activity', timestamp_key='timestamp')\n"
          ]
        },
        {
          "output_type": "stream",
          "name": "stdout",
          "text": [
            "Number of cases: 20696\n",
            "Number of events: 84438\n",
            "Start events: {'Admitted': 20321, 'Entered ICU': 352, 'Discharged': 23}\n",
            "End events: {'Discharged': 17501, 'Left ICU': 3193, 'Admitted': 2}\n"
          ]
        }
      ],
      "source": [
        "import pm4py as pm\n",
        "\n",
        "event_log = pm.format_dataframe(event_log, case_id='patient', activity_key='activity', timestamp_key='timestamp')\n",
        "# lets get some information about the event log\n",
        "n_events = len(event_log)\n",
        "n_cases = len(event_log.patient.unique())\n",
        "start_events = pm.get_start_activities(event_log)\n",
        "end_events = pm.get_end_activities(event_log)\n",
        "print(f\"Number of cases: {n_cases}\\nNumber of events: {n_events}\")\n",
        "print(f\"Start events: {start_events}\\nEnd events: {end_events}\")\n"
      ]
    },
    {
      "cell_type": "code",
      "execution_count": 127,
      "metadata": {
        "id": "aETYaI3-CjHZ"
      },
      "outputs": [],
      "source": [
        "# lets improve the event log by filtering out the cases that do not start or end with a patient being admitted or discharged\n",
        "# this will simplify the model\n",
        "# filtered_log = deepcopy(event_log)\n",
        "event_log = pm.filter_start_activities(event_log, ['Admitted'])\n",
        "event_log = pm.filter_end_activities(event_log,['Discharged'])\n",
        "# event_log = pm.filter_variants_top_k(event_log,50)\n",
        "# event_log = pm.filter_variants_by_coverage_percentage(event_log, 0.1)"
      ]
    },
    {
      "cell_type": "code",
      "source": [
        "n_events = len(event_log)\n",
        "n_cases = len(event_log.patient.unique())\n",
        "start_events = pm.get_start_activities(event_log)\n",
        "end_events = pm.get_end_activities(event_log)\n",
        "print(f\"Number of cases: {n_cases}\\nNumber of events: {n_events}\")\n",
        "print(f\"Start events: {start_events}\\nEnd events: {end_events}\")"
      ],
      "metadata": {
        "id": "5O3FQUeLAHW3",
        "outputId": "1a024e06-837e-41f2-cb45-ad89c8e9a2d1",
        "colab": {
          "base_uri": "https://localhost:8080/"
        }
      },
      "execution_count": 128,
      "outputs": [
        {
          "output_type": "stream",
          "name": "stdout",
          "text": [
            "Number of cases: 17163\n",
            "Number of events: 69708\n",
            "Start events: {'Admitted': 17163}\n",
            "End events: {'Discharged': 17163}\n"
          ]
        }
      ]
    },
    {
      "cell_type": "code",
      "execution_count": 129,
      "metadata": {
        "id": "boYeNhZuCjHa"
      },
      "outputs": [],
      "source": [
        "net, initial_marking, final_marking = pm.discover_petri_net_alpha(event_log)"
      ]
    },
    {
      "cell_type": "code",
      "execution_count": 130,
      "metadata": {
        "colab": {
          "base_uri": "https://localhost:8080/",
          "height": 0
        },
        "id": "IIdzSIvdCjHa",
        "outputId": "b7c1f0b9-691f-46ce-f744-cadd2b15cd56"
      },
      "outputs": [
        {
          "output_type": "display_data",
          "data": {
            "image/png": "[encoded data removed]",
            "text/plain": [
              "<IPython.core.display.Image object>"
            ]
          },
          "metadata": {}
        }
      ],
      "source": [
        "import graphviz\n",
        "pm.view_petri_net(petri_net=net)"
      ]
    },
    {
      "cell_type": "code",
      "source": [
        "# inductive miner\n",
        "# much better result than when using alpha miner, petri net \n",
        "net, initial_marking, final_marking = pm.discover_petri_net_inductive(event_log)\n",
        "pm.view_petri_net(petri_net=net)"
      ],
      "metadata": {
        "id": "f6fgpjqRKw67",
        "outputId": "6cefc79e-4208-4122-ca67-0658cc2ee135",
        "colab": {
          "base_uri": "https://localhost:8080/",
          "height": 0
        }
      },
      "execution_count": 131,
      "outputs": [
        {
          "output_type": "display_data",
          "data": {
            "image/png": "[encoded data removed]",
            "text/plain": [
              "<IPython.core.display.Image object>"
            ]
          },
          "metadata": {}
        }
      ]
    },
    {
      "cell_type": "code",
      "source": [
        "# heuristic miner\n",
        "heu_net = pm.discover_heuristics_net(event_log, dependency_threshold=0.99)\n",
        "pm.view_heuristics_net(heu_net)"
      ],
      "metadata": {
        "id": "SXk4_DHFLDpB",
        "outputId": "9894a27b-f0a9-479b-f47c-920a4fd9dd14",
        "colab": {
          "base_uri": "https://localhost:8080/",
          "height": 0
        }
      },
      "execution_count": 132,
      "outputs": [
        {
          "output_type": "display_data",
          "data": {
            "image/png": "[encoded data removed]",
            "text/plain": [
              "<IPython.core.display.Image object>"
            ]
          },
          "metadata": {}
        }
      ]
    },
    {
      "cell_type": "code",
      "source": [
        "# petri net from heuristics miner\n",
        "net, im, fm = pm.discover_petri_net_heuristics(event_log, dependency_threshold=0.99)\n",
        "pm.view_petri_net(net, im, fm)"
      ],
      "metadata": {
        "id": "EZOGRFF2LHwh",
        "outputId": "85f74726-8fb3-449b-e1cb-5917827200ca",
        "colab": {
          "base_uri": "https://localhost:8080/",
          "height": 0
        }
      },
      "execution_count": 133,
      "outputs": [
        {
          "output_type": "display_data",
          "data": {
            "image/png": "[encoded data removed]",
            "text/plain": [
              "<IPython.core.display.Image object>"
            ]
          },
          "metadata": {}
        }
      ]
    },
    {
      "cell_type": "markdown",
      "source": [
        "## Section 3: Data Pre Processing\n",
        "\n"
      ],
      "metadata": {
        "id": "wQqrU3QsNC-4"
      }
    },
    {
      "cell_type": "code",
      "source": [
        "from pandas.core.window.ewm import partial\n",
        "import random\n",
        "\n",
        "def partial_log(el, n):\n",
        "\n",
        "  # select the first n cases to test the LSTM methodology\n",
        "  # lets first add a trace column to the event_log\n",
        "  el['trace'] = el.groupby(['patient']).ngroup()\n",
        "  el = el[['trace', 'activity', 'timestamp' ]].reset_index(drop=True)\n",
        "  # if n is None, return full event log\n",
        "  if n is None:\n",
        "    return el\n",
        "\n",
        "  # initialise random seed and array of traces\n",
        "  random.seed(9)\n",
        "  random_traces = []\n",
        "\n",
        "  for i in range(0,n):\n",
        "    random_traces.append(random.randrange(0,n_cases))\n",
        "\n",
        "  partial_el = event_log[event_log['trace'].isin(random_traces)]\n",
        "  return partial_el\n"
      ],
      "metadata": {
        "id": "Hs9nC7zuNGeg"
      },
      "execution_count": 154,
      "outputs": []
    },
    {
      "cell_type": "code",
      "source": [
        "partial_el = partial_log(event_log, NUM_TRACES)\n",
        "partial_el"
      ],
      "metadata": {
        "id": "7ReuwY8a68_9",
        "outputId": "5a7fb3b5-249d-4191-840f-e40a2d97059c",
        "colab": {
          "base_uri": "https://localhost:8080/",
          "height": 0
        }
      },
      "execution_count": 155,
      "outputs": [
        {
          "output_type": "execute_result",
          "data": {
            "text/plain": [
              "       patient     activity           timestamp case:concept:name  \\\n",
              "76      100085     Admitted 2126-08-30 07:15:00            100085   \n",
              "77      100085  Entered ICU 2126-08-30 14:04:01            100085   \n",
              "78      100085     Left ICU 2126-08-31 17:25:41            100085   \n",
              "79      100085   Discharged 2126-09-08 14:45:00            100085   \n",
              "84      100094     Admitted 2109-06-06 10:21:00            100094   \n",
              "...        ...          ...                 ...               ...   \n",
              "84393   199947  Entered ICU 2109-06-25 17:01:42            199947   \n",
              "84394   199947     Left ICU 2109-06-29 18:08:59            199947   \n",
              "84395   199947  Entered ICU 2109-07-01 10:15:01            199947   \n",
              "84396   199947     Left ICU 2109-07-05 18:06:14            199947   \n",
              "84397   199947   Discharged 2109-07-09 16:20:00            199947   \n",
              "\n",
              "      concept:name      time:timestamp  @@index  @@case_index  \\\n",
              "76        Admitted 2126-08-30 07:15:00       76            18   \n",
              "77     Entered ICU 2126-08-30 14:04:01       77            18   \n",
              "78        Left ICU 2126-08-31 17:25:41       78            18   \n",
              "79      Discharged 2126-09-08 14:45:00       79            18   \n",
              "84        Admitted 2109-06-06 10:21:00       84            20   \n",
              "...            ...                 ...      ...           ...   \n",
              "84393  Entered ICU 2109-06-25 17:01:42    84393         20686   \n",
              "84394     Left ICU 2109-06-29 18:08:59    84394         20686   \n",
              "84395  Entered ICU 2109-07-01 10:15:01    84395         20686   \n",
              "84396     Left ICU 2109-07-05 18:06:14    84396         20686   \n",
              "84397   Discharged 2109-07-09 16:20:00    84397         20686   \n",
              "\n",
              "          start_timestamp  trace  \n",
              "76    2126-08-30 07:15:00     18  \n",
              "77    2126-08-30 14:04:01     18  \n",
              "78    2126-08-31 17:25:41     18  \n",
              "79    2126-09-08 14:45:00     18  \n",
              "84    2109-06-06 10:21:00     20  \n",
              "...                   ...    ...  \n",
              "84393 2109-06-25 17:01:42  17153  \n",
              "84394 2109-06-29 18:08:59  17153  \n",
              "84395 2109-07-01 10:15:01  17153  \n",
              "84396 2109-07-05 18:06:14  17153  \n",
              "84397 2109-07-09 16:20:00  17153  \n",
              "\n",
              "[3896 rows x 10 columns]"
            ],
            "text/html": [
              "\n",
              "  <div id=\"df-889e602b-d10f-44c2-8322-343d9aa45877\">\n",
              "    <div class=\"colab-df-container\">\n",
              "      <div>\n",
              "<style scoped>\n",
              "    .dataframe tbody tr th:only-of-type {\n",
              "        vertical-align: middle;\n",
              "    }\n",
              "\n",
              "    .dataframe tbody tr th {\n",
              "        vertical-align: top;\n",
              "    }\n",
              "\n",
              "    .dataframe thead th {\n",
              "        text-align: right;\n",
              "    }\n",
              "</style>\n",
              "<table border=\"1\" class=\"dataframe\">\n",
              "  <thead>\n",
              "    <tr style=\"text-align: right;\">\n",
              "      <th></th>\n",
              "      <th>patient</th>\n",
              "      <th>activity</th>\n",
              "      <th>timestamp</th>\n",
              "      <th>case:concept:name</th>\n",
              "      <th>concept:name</th>\n",
              "      <th>time:timestamp</th>\n",
              "      <th>@@index</th>\n",
              "      <th>@@case_index</th>\n",
              "      <th>start_timestamp</th>\n",
              "      <th>trace</th>\n",
              "    </tr>\n",
              "  </thead>\n",
              "  <tbody>\n",
              "    <tr>\n",
              "      <th>76</th>\n",
              "      <td>100085</td>\n",
              "      <td>Admitted</td>\n",
              "      <td>2126-08-30 07:15:00</td>\n",
              "      <td>100085</td>\n",
              "      <td>Admitted</td>\n",
              "      <td>2126-08-30 07:15:00</td>\n",
              "      <td>76</td>\n",
              "      <td>18</td>\n",
              "      <td>2126-08-30 07:15:00</td>\n",
              "      <td>18</td>\n",
              "    </tr>\n",
              "    <tr>\n",
              "      <th>77</th>\n",
              "      <td>100085</td>\n",
              "      <td>Entered ICU</td>\n",
              "      <td>2126-08-30 14:04:01</td>\n",
              "      <td>100085</td>\n",
              "      <td>Entered ICU</td>\n",
              "      <td>2126-08-30 14:04:01</td>\n",
              "      <td>77</td>\n",
              "      <td>18</td>\n",
              "      <td>2126-08-30 14:04:01</td>\n",
              "      <td>18</td>\n",
              "    </tr>\n",
              "    <tr>\n",
              "      <th>78</th>\n",
              "      <td>100085</td>\n",
              "      <td>Left ICU</td>\n",
              "      <td>2126-08-31 17:25:41</td>\n",
              "      <td>100085</td>\n",
              "      <td>Left ICU</td>\n",
              "      <td>2126-08-31 17:25:41</td>\n",
              "      <td>78</td>\n",
              "      <td>18</td>\n",
              "      <td>2126-08-31 17:25:41</td>\n",
              "      <td>18</td>\n",
              "    </tr>\n",
              "    <tr>\n",
              "      <th>79</th>\n",
              "      <td>100085</td>\n",
              "      <td>Discharged</td>\n",
              "      <td>2126-09-08 14:45:00</td>\n",
              "      <td>100085</td>\n",
              "      <td>Discharged</td>\n",
              "      <td>2126-09-08 14:45:00</td>\n",
              "      <td>79</td>\n",
              "      <td>18</td>\n",
              "      <td>2126-09-08 14:45:00</td>\n",
              "      <td>18</td>\n",
              "    </tr>\n",
              "    <tr>\n",
              "      <th>84</th>\n",
              "      <td>100094</td>\n",
              "      <td>Admitted</td>\n",
              "      <td>2109-06-06 10:21:00</td>\n",
              "      <td>100094</td>\n",
              "      <td>Admitted</td>\n",
              "      <td>2109-06-06 10:21:00</td>\n",
              "      <td>84</td>\n",
              "      <td>20</td>\n",
              "      <td>2109-06-06 10:21:00</td>\n",
              "      <td>20</td>\n",
              "    </tr>\n",
              "    <tr>\n",
              "      <th>...</th>\n",
              "      <td>...</td>\n",
              "      <td>...</td>\n",
              "      <td>...</td>\n",
              "      <td>...</td>\n",
              "      <td>...</td>\n",
              "      <td>...</td>\n",
              "      <td>...</td>\n",
              "      <td>...</td>\n",
              "      <td>...</td>\n",
              "      <td>...</td>\n",
              "    </tr>\n",
              "    <tr>\n",
              "      <th>84393</th>\n",
              "      <td>199947</td>\n",
              "      <td>Entered ICU</td>\n",
              "      <td>2109-06-25 17:01:42</td>\n",
              "      <td>199947</td>\n",
              "      <td>Entered ICU</td>\n",
              "      <td>2109-06-25 17:01:42</td>\n",
              "      <td>84393</td>\n",
              "      <td>20686</td>\n",
              "      <td>2109-06-25 17:01:42</td>\n",
              "      <td>17153</td>\n",
              "    </tr>\n",
              "    <tr>\n",
              "      <th>84394</th>\n",
              "      <td>199947</td>\n",
              "      <td>Left ICU</td>\n",
              "      <td>2109-06-29 18:08:59</td>\n",
              "      <td>199947</td>\n",
              "      <td>Left ICU</td>\n",
              "      <td>2109-06-29 18:08:59</td>\n",
              "      <td>84394</td>\n",
              "      <td>20686</td>\n",
              "      <td>2109-06-29 18:08:59</td>\n",
              "      <td>17153</td>\n",
              "    </tr>\n",
              "    <tr>\n",
              "      <th>84395</th>\n",
              "      <td>199947</td>\n",
              "      <td>Entered ICU</td>\n",
              "      <td>2109-07-01 10:15:01</td>\n",
              "      <td>199947</td>\n",
              "      <td>Entered ICU</td>\n",
              "      <td>2109-07-01 10:15:01</td>\n",
              "      <td>84395</td>\n",
              "      <td>20686</td>\n",
              "      <td>2109-07-01 10:15:01</td>\n",
              "      <td>17153</td>\n",
              "    </tr>\n",
              "    <tr>\n",
              "      <th>84396</th>\n",
              "      <td>199947</td>\n",
              "      <td>Left ICU</td>\n",
              "      <td>2109-07-05 18:06:14</td>\n",
              "      <td>199947</td>\n",
              "      <td>Left ICU</td>\n",
              "      <td>2109-07-05 18:06:14</td>\n",
              "      <td>84396</td>\n",
              "      <td>20686</td>\n",
              "      <td>2109-07-05 18:06:14</td>\n",
              "      <td>17153</td>\n",
              "    </tr>\n",
              "    <tr>\n",
              "      <th>84397</th>\n",
              "      <td>199947</td>\n",
              "      <td>Discharged</td>\n",
              "      <td>2109-07-09 16:20:00</td>\n",
              "      <td>199947</td>\n",
              "      <td>Discharged</td>\n",
              "      <td>2109-07-09 16:20:00</td>\n",
              "      <td>84397</td>\n",
              "      <td>20686</td>\n",
              "      <td>2109-07-09 16:20:00</td>\n",
              "      <td>17153</td>\n",
              "    </tr>\n",
              "  </tbody>\n",
              "</table>\n",
              "<p>3896 rows × 10 columns</p>\n",
              "</div>\n",
              "      <button class=\"colab-df-convert\" onclick=\"convertToInteractive('df-889e602b-d10f-44c2-8322-343d9aa45877')\"\n",
              "              title=\"Convert this dataframe to an interactive table.\"\n",
              "              style=\"display:none;\">\n",
              "        \n",
              "  <svg xmlns=\"http://www.w3.org/2000/svg\" height=\"24px\"viewBox=\"0 0 24 24\"\n",
              "       width=\"24px\">\n",
              "    <path d=\"M0 0h24v24H0V0z\" fill=\"none\"/>\n",
              "    <path d=\"M18.56 5.44l.94 2.06.94-2.06 2.06-.94-2.06-.94-.94-2.06-.94 2.06-2.06.94zm-11 1L8.5 8.5l.94-2.06 2.06-.94-2.06-.94L8.5 2.5l-.94 2.06-2.06.94zm10 10l.94 2.06.94-2.06 2.06-.94-2.06-.94-.94-2.06-.94 2.06-2.06.94z\"/><path d=\"M17.41 7.96l-1.37-1.37c-.4-.4-.92-.59-1.43-.59-.52 0-1.04.2-1.43.59L10.3 9.45l-7.72 7.72c-.78.78-.78 2.05 0 2.83L4 21.41c.39.39.9.59 1.41.59.51 0 1.02-.2 1.41-.59l7.78-7.78 2.81-2.81c.8-.78.8-2.07 0-2.86zM5.41 20L4 18.59l7.72-7.72 1.47 1.35L5.41 20z\"/>\n",
              "  </svg>\n",
              "      </button>\n",
              "      \n",
              "  <style>\n",
              "    .colab-df-container {\n",
              "      display:flex;\n",
              "      flex-wrap:wrap;\n",
              "      gap: 12px;\n",
              "    }\n",
              "\n",
              "    .colab-df-convert {\n",
              "      background-color: #E8F0FE;\n",
              "      border: none;\n",
              "      border-radius: 50%;\n",
              "      cursor: pointer;\n",
              "      display: none;\n",
              "      fill: #1967D2;\n",
              "      height: 32px;\n",
              "      padding: 0 0 0 0;\n",
              "      width: 32px;\n",
              "    }\n",
              "\n",
              "    .colab-df-convert:hover {\n",
              "      background-color: #E2EBFA;\n",
              "      box-shadow: 0px 1px 2px rgba(60, 64, 67, 0.3), 0px 1px 3px 1px rgba(60, 64, 67, 0.15);\n",
              "      fill: #174EA6;\n",
              "    }\n",
              "\n",
              "    [theme=dark] .colab-df-convert {\n",
              "      background-color: #3B4455;\n",
              "      fill: #D2E3FC;\n",
              "    }\n",
              "\n",
              "    [theme=dark] .colab-df-convert:hover {\n",
              "      background-color: #434B5C;\n",
              "      box-shadow: 0px 1px 3px 1px rgba(0, 0, 0, 0.15);\n",
              "      filter: drop-shadow(0px 1px 2px rgba(0, 0, 0, 0.3));\n",
              "      fill: #FFFFFF;\n",
              "    }\n",
              "  </style>\n",
              "\n",
              "      <script>\n",
              "        const buttonEl =\n",
              "          document.querySelector('#df-889e602b-d10f-44c2-8322-343d9aa45877 button.colab-df-convert');\n",
              "        buttonEl.style.display =\n",
              "          google.colab.kernel.accessAllowed ? 'block' : 'none';\n",
              "\n",
              "        async function convertToInteractive(key) {\n",
              "          const element = document.querySelector('#df-889e602b-d10f-44c2-8322-343d9aa45877');\n",
              "          const dataTable =\n",
              "            await google.colab.kernel.invokeFunction('convertToInteractive',\n",
              "                                                     [key], {});\n",
              "          if (!dataTable) return;\n",
              "\n",
              "          const docLinkHtml = 'Like what you see? Visit the ' +\n",
              "            '<a target=\"_blank\" href=https://colab.research.google.com/notebooks/data_table.ipynb>data table notebook</a>'\n",
              "            + ' to learn more about interactive tables.';\n",
              "          element.innerHTML = '';\n",
              "          dataTable['output_type'] = 'display_data';\n",
              "          await google.colab.output.renderOutput(dataTable, element);\n",
              "          const docLink = document.createElement('div');\n",
              "          docLink.innerHTML = docLinkHtml;\n",
              "          element.appendChild(docLink);\n",
              "        }\n",
              "      </script>\n",
              "    </div>\n",
              "  </div>\n",
              "  "
            ]
          },
          "metadata": {},
          "execution_count": 155
        }
      ]
    },
    {
      "cell_type": "code",
      "source": [
        "if QUERY_NAME != 'el_procedures_2.sql':\n",
        "  CATEGORICAL_PROCEDURES = False\n",
        "\n",
        "if CATEGORICAL_PROCEDURES == False:\n",
        "    \n",
        "  # lets represent each activity using a statically defined number\n",
        "  # this will prevent the need for using an embedding layer when traing the LSTM\n",
        "  unique_activities = partial_el['activity'].unique()\n",
        "  n_activities = len(unique_activities) + 1\n",
        "  encode_activity = {unique_activities[i-1] : f'{i}' for i in range(1,n_activities)}\n",
        "\n",
        "  # lets also create a second dictionary that will be used to decode predicted activities\n",
        "  decode_activity = {f'{i}' : unique_activities[i-1] for i in range(1, len(unique_activities)+ 1)}\n",
        "\n",
        "else:\n",
        "  encode_activity = {\n",
        "      'Admitted': '1',\n",
        "      'Transfer': '2',\n",
        "      'Entered ICU': '3',\n",
        "      'Left ICU': '4',\n",
        "      'Discharged': '5',\n",
        "      'Peripheral Lines': '6',\n",
        "      'Invasive Lines': '6',\n",
        "      'Imaging': '7',\n",
        "      'Ventilation': '8',\n",
        "      'Intubation/Extubation': '8',\n",
        "      'Procedures': '9',\n",
        "      'Continuous Procedures': '9',\n",
        "      'Significant Events': '10',\n",
        "      'Dialysis': '11',\n",
        "      'CRRT Filter Change': '11',\n",
        "      'Peritoneal Dialysis': '11',\n",
        "      'Communication': '12'\n",
        "  }\n",
        "  decode_activity = {}\n",
        "\n",
        "encode_activity, decode_activity"
      ],
      "metadata": {
        "colab": {
          "base_uri": "https://localhost:8080/"
        },
        "id": "IGd5SwRG-_fI",
        "outputId": "bab2bf5a-d871-4f3b-9e33-c29f2e07c06c"
      },
      "execution_count": 156,
      "outputs": [
        {
          "output_type": "execute_result",
          "data": {
            "text/plain": [
              "({'Admitted': '1', 'Entered ICU': '2', 'Left ICU': '3', 'Discharged': '4'},\n",
              " {'1': 'Admitted', '2': 'Entered ICU', '3': 'Left ICU', '4': 'Discharged'})"
            ]
          },
          "metadata": {},
          "execution_count": 156
        }
      ]
    },
    {
      "cell_type": "code",
      "source": [
        "# calculate time deltas for prefix and suffix sequences\n",
        "def calculate_time_deltas(p, s):\n",
        "  p_deltas, s_deltas = [], []\n",
        "  f = '%Y-%d-%m %H:%M:%S'\n",
        "  for i in range(PREFIX_LENGTH):\n",
        "    if p[i] == '0' or p[i+1] == '0':\n",
        "      p_deltas.append(0)\n",
        "\n",
        "    else:\n",
        "      delta = pd.to_datetime(p[i+1], format=f) - pd.to_datetime(p[i], format=f)\n",
        "      p_deltas.append(delta.total_seconds())\n",
        "\n",
        "  for i in range(PREFIX_LENGTH,0,-1):\n",
        "    if s[i] == '0' or s[i-1] == '0':\n",
        "      s_deltas.append(0)\n",
        "    else:\n",
        "      delta = pd.to_datetime(s[i], format=f) - pd.to_datetime(s[i-1], format=f)\n",
        "      s_deltas.append(delta.total_seconds())\n",
        "  \n",
        "  return p_deltas, s_deltas[::-1]"
      ],
      "metadata": {
        "id": "9ruIH6dH1UZP"
      },
      "execution_count": 157,
      "outputs": []
    },
    {
      "cell_type": "code",
      "source": [
        "import numpy as np\n",
        "\n",
        "# create a new labeled data frame\n",
        "def label(el):\n",
        "  # initialise data frame \n",
        " \n",
        "  prefix_arr, suffix_arr, prefix_times_arr, suffix_times_arr, label_arr = [], [], [], [], []\n",
        "  labeled_arr = []\n",
        "  unique_traces = el['trace'].unique()\n",
        "  traces = {x : pd.DataFrame() for x in unique_traces} \n",
        "\n",
        "  for t in unique_traces:\n",
        "    traces[t] = el[:][el.trace == t]  \n",
        "  \n",
        "  for t in unique_traces:\n",
        "    df = traces[t].sort_values(by='timestamp')\n",
        "    activities, timestamps = [], []\n",
        "\n",
        "    for i in df.index:\n",
        "      activity = encode_activity.get(df['activity'][i])\n",
        "      activities.append(activity)\n",
        "\n",
        "      timestamp = df['timestamp'][i]\n",
        "      timestamps.append(timestamp)\n",
        "\n",
        "    \n",
        "    length = len(activities)\n",
        "    \n",
        "    for i in range(length):\n",
        "\n",
        "      label = activities[i]\n",
        "      prefix = activities[:i]\n",
        "      prefix_times = timestamps[:i+1]\n",
        "\n",
        "      suffix = []\n",
        "      suffix_times = []\n",
        "\n",
        "      if i != length - 1:\n",
        "        suffix = activities[i+1:]\n",
        "\n",
        "      if i != length:\n",
        "        suffix_times = timestamps[i:]\n",
        "\n",
        "      padding = []\n",
        "\n",
        "      while len(prefix) + len(padding) < PREFIX_LENGTH:\n",
        "        padding.append('0')\n",
        "      \n",
        "      prefix = padding + prefix\n",
        "        \n",
        "      padding = []\n",
        "      \n",
        "      while len(prefix_times) + len(padding) < PREFIX_LENGTH+1:\n",
        "        padding.append('0')\n",
        "      \n",
        "      prefix_times =  padding + prefix_times\n",
        "\n",
        "      while len(suffix) < PREFIX_LENGTH:\n",
        "        suffix.append('0')\n",
        "\n",
        "      while len(suffix_times) < PREFIX_LENGTH +1:\n",
        "        suffix_times.append('0')\n",
        "\n",
        "      prefix_deltas, suffix_deltas = calculate_time_deltas(prefix_times, suffix_times)\n",
        "      # print(f'prefix t: {prefix_times} \\n suffix t: {suffix_times}')\n",
        "\n",
        "      prefix_arr.append(np.array(prefix[0:PREFIX_LENGTH], dtype=int))\n",
        "      suffix_arr.append(np.array(suffix[0:PREFIX_LENGTH], dtype=int))\n",
        "      prefix_times_arr.append(np.array(prefix_deltas))\n",
        "      suffix_times_arr.append(np.array(suffix_deltas))\n",
        "      label_arr.append(label)\n",
        "\n",
        "  return pd.DataFrame({'prefix' : prefix_arr, \n",
        "                       'suffix' : suffix_arr,\n",
        "                       'prefix time delta' : prefix_times_arr,\n",
        "                       'suffix time delta' : suffix_times_arr,\n",
        "                       'label' : label_arr})\n",
        " "
      ],
      "metadata": {
        "id": "aw2gXPwQ5BpM"
      },
      "execution_count": 158,
      "outputs": []
    },
    {
      "cell_type": "code",
      "source": [
        "from sklearn.model_selection import train_test_split\n",
        "\n",
        "# label event log\n",
        "labeled_el = label(partial_el)\n",
        "\n",
        "# split event log into a train and test set  \n",
        "train_el, test_el  = train_test_split(labeled_el, test_size=TEST_SIZE, random_state=9)\n",
        "train_el\n"
      ],
      "metadata": {
        "id": "wBTD25EXYtal",
        "outputId": "1943e053-3433-4836-fbb3-782573ab014e",
        "colab": {
          "base_uri": "https://localhost:8080/",
          "height": 0
        }
      },
      "execution_count": 159,
      "outputs": [
        {
          "output_type": "execute_result",
          "data": {
            "text/plain": [
              "               prefix           suffix                     prefix time delta  \\\n",
              "1413  [0, 0, 0, 0, 1]  [3, 4, 0, 0, 0]            [0.0, 0.0, 0.0, 0.0, 60.0]   \n",
              "1615  [0, 0, 1, 2, 3]  [0, 0, 0, 0, 0]  [0.0, 0.0, 74.0, 344373.0, 606373.0]   \n",
              "333   [0, 0, 0, 0, 1]  [3, 4, 0, 0, 0]        [0.0, 0.0, 0.0, 0.0, 328840.0]   \n",
              "1148  [0, 0, 0, 1, 2]  [4, 0, 0, 0, 0]      [0.0, 0.0, 0.0, 214.0, 149651.0]   \n",
              "3429  [0, 0, 1, 2, 3]  [0, 0, 0, 0, 0]  [0.0, 0.0, 32.0, 686666.0, 221822.0]   \n",
              "...               ...              ...                                   ...   \n",
              "2104  [0, 0, 0, 1, 2]  [4, 0, 0, 0, 0]       [0.0, 0.0, 0.0, 60.0, 187754.0]   \n",
              "501   [0, 0, 0, 0, 1]  [3, 4, 0, 0, 0]           [0.0, 0.0, 0.0, 0.0, 106.0]   \n",
              "2686  [0, 0, 0, 1, 2]  [4, 0, 0, 0, 0]   [0.0, 0.0, 0.0, 573832.0, 177499.0]   \n",
              "348   [0, 0, 0, 0, 0]  [2, 3, 4, 0, 0]                       [0, 0, 0, 0, 0]   \n",
              "382   [0, 0, 0, 0, 0]  [2, 3, 4, 0, 0]                       [0, 0, 0, 0, 0]   \n",
              "\n",
              "                             suffix time delta label  \n",
              "1413       [691980.0, 443940.0, 0.0, 0.0, 0.0]     2  \n",
              "1615                           [0, 0, 0, 0, 0]     4  \n",
              "333        [116823.0, 345317.0, 0.0, 0.0, 0.0]     2  \n",
              "1148            [342435.0, 0.0, 0.0, 0.0, 0.0]     3  \n",
              "3429                           [0, 0, 0, 0, 0]     4  \n",
              "...                                        ...   ...  \n",
              "2104            [238486.0, 0.0, 0.0, 0.0, 0.0]     3  \n",
              "501        [177938.0, 237396.0, 0.0, 0.0, 0.0]     2  \n",
              "2686            [268789.0, 0.0, 0.0, 0.0, 0.0]     3  \n",
              "348   [576997.0, 191166.0, 771437.0, 0.0, 0.0]     1  \n",
              "382    [65508.0, 112809.0, 167283.0, 0.0, 0.0]     1  \n",
              "\n",
              "[3116 rows x 5 columns]"
            ],
            "text/html": [
              "\n",
              "  <div id=\"df-74233205-7c4d-4973-81ca-d02f35e55795\">\n",
              "    <div class=\"colab-df-container\">\n",
              "      <div>\n",
              "<style scoped>\n",
              "    .dataframe tbody tr th:only-of-type {\n",
              "        vertical-align: middle;\n",
              "    }\n",
              "\n",
              "    .dataframe tbody tr th {\n",
              "        vertical-align: top;\n",
              "    }\n",
              "\n",
              "    .dataframe thead th {\n",
              "        text-align: right;\n",
              "    }\n",
              "</style>\n",
              "<table border=\"1\" class=\"dataframe\">\n",
              "  <thead>\n",
              "    <tr style=\"text-align: right;\">\n",
              "      <th></th>\n",
              "      <th>prefix</th>\n",
              "      <th>suffix</th>\n",
              "      <th>prefix time delta</th>\n",
              "      <th>suffix time delta</th>\n",
              "      <th>label</th>\n",
              "    </tr>\n",
              "  </thead>\n",
              "  <tbody>\n",
              "    <tr>\n",
              "      <th>1413</th>\n",
              "      <td>[0, 0, 0, 0, 1]</td>\n",
              "      <td>[3, 4, 0, 0, 0]</td>\n",
              "      <td>[0.0, 0.0, 0.0, 0.0, 60.0]</td>\n",
              "      <td>[691980.0, 443940.0, 0.0, 0.0, 0.0]</td>\n",
              "      <td>2</td>\n",
              "    </tr>\n",
              "    <tr>\n",
              "      <th>1615</th>\n",
              "      <td>[0, 0, 1, 2, 3]</td>\n",
              "      <td>[0, 0, 0, 0, 0]</td>\n",
              "      <td>[0.0, 0.0, 74.0, 344373.0, 606373.0]</td>\n",
              "      <td>[0, 0, 0, 0, 0]</td>\n",
              "      <td>4</td>\n",
              "    </tr>\n",
              "    <tr>\n",
              "      <th>333</th>\n",
              "      <td>[0, 0, 0, 0, 1]</td>\n",
              "      <td>[3, 4, 0, 0, 0]</td>\n",
              "      <td>[0.0, 0.0, 0.0, 0.0, 328840.0]</td>\n",
              "      <td>[116823.0, 345317.0, 0.0, 0.0, 0.0]</td>\n",
              "      <td>2</td>\n",
              "    </tr>\n",
              "    <tr>\n",
              "      <th>1148</th>\n",
              "      <td>[0, 0, 0, 1, 2]</td>\n",
              "      <td>[4, 0, 0, 0, 0]</td>\n",
              "      <td>[0.0, 0.0, 0.0, 214.0, 149651.0]</td>\n",
              "      <td>[342435.0, 0.0, 0.0, 0.0, 0.0]</td>\n",
              "      <td>3</td>\n",
              "    </tr>\n",
              "    <tr>\n",
              "      <th>3429</th>\n",
              "      <td>[0, 0, 1, 2, 3]</td>\n",
              "      <td>[0, 0, 0, 0, 0]</td>\n",
              "      <td>[0.0, 0.0, 32.0, 686666.0, 221822.0]</td>\n",
              "      <td>[0, 0, 0, 0, 0]</td>\n",
              "      <td>4</td>\n",
              "    </tr>\n",
              "    <tr>\n",
              "      <th>...</th>\n",
              "      <td>...</td>\n",
              "      <td>...</td>\n",
              "      <td>...</td>\n",
              "      <td>...</td>\n",
              "      <td>...</td>\n",
              "    </tr>\n",
              "    <tr>\n",
              "      <th>2104</th>\n",
              "      <td>[0, 0, 0, 1, 2]</td>\n",
              "      <td>[4, 0, 0, 0, 0]</td>\n",
              "      <td>[0.0, 0.0, 0.0, 60.0, 187754.0]</td>\n",
              "      <td>[238486.0, 0.0, 0.0, 0.0, 0.0]</td>\n",
              "      <td>3</td>\n",
              "    </tr>\n",
              "    <tr>\n",
              "      <th>501</th>\n",
              "      <td>[0, 0, 0, 0, 1]</td>\n",
              "      <td>[3, 4, 0, 0, 0]</td>\n",
              "      <td>[0.0, 0.0, 0.0, 0.0, 106.0]</td>\n",
              "      <td>[177938.0, 237396.0, 0.0, 0.0, 0.0]</td>\n",
              "      <td>2</td>\n",
              "    </tr>\n",
              "    <tr>\n",
              "      <th>2686</th>\n",
              "      <td>[0, 0, 0, 1, 2]</td>\n",
              "      <td>[4, 0, 0, 0, 0]</td>\n",
              "      <td>[0.0, 0.0, 0.0, 573832.0, 177499.0]</td>\n",
              "      <td>[268789.0, 0.0, 0.0, 0.0, 0.0]</td>\n",
              "      <td>3</td>\n",
              "    </tr>\n",
              "    <tr>\n",
              "      <th>348</th>\n",
              "      <td>[0, 0, 0, 0, 0]</td>\n",
              "      <td>[2, 3, 4, 0, 0]</td>\n",
              "      <td>[0, 0, 0, 0, 0]</td>\n",
              "      <td>[576997.0, 191166.0, 771437.0, 0.0, 0.0]</td>\n",
              "      <td>1</td>\n",
              "    </tr>\n",
              "    <tr>\n",
              "      <th>382</th>\n",
              "      <td>[0, 0, 0, 0, 0]</td>\n",
              "      <td>[2, 3, 4, 0, 0]</td>\n",
              "      <td>[0, 0, 0, 0, 0]</td>\n",
              "      <td>[65508.0, 112809.0, 167283.0, 0.0, 0.0]</td>\n",
              "      <td>1</td>\n",
              "    </tr>\n",
              "  </tbody>\n",
              "</table>\n",
              "<p>3116 rows × 5 columns</p>\n",
              "</div>\n",
              "      <button class=\"colab-df-convert\" onclick=\"convertToInteractive('df-74233205-7c4d-4973-81ca-d02f35e55795')\"\n",
              "              title=\"Convert this dataframe to an interactive table.\"\n",
              "              style=\"display:none;\">\n",
              "        \n",
              "  <svg xmlns=\"http://www.w3.org/2000/svg\" height=\"24px\"viewBox=\"0 0 24 24\"\n",
              "       width=\"24px\">\n",
              "    <path d=\"M0 0h24v24H0V0z\" fill=\"none\"/>\n",
              "    <path d=\"M18.56 5.44l.94 2.06.94-2.06 2.06-.94-2.06-.94-.94-2.06-.94 2.06-2.06.94zm-11 1L8.5 8.5l.94-2.06 2.06-.94-2.06-.94L8.5 2.5l-.94 2.06-2.06.94zm10 10l.94 2.06.94-2.06 2.06-.94-2.06-.94-.94-2.06-.94 2.06-2.06.94z\"/><path d=\"M17.41 7.96l-1.37-1.37c-.4-.4-.92-.59-1.43-.59-.52 0-1.04.2-1.43.59L10.3 9.45l-7.72 7.72c-.78.78-.78 2.05 0 2.83L4 21.41c.39.39.9.59 1.41.59.51 0 1.02-.2 1.41-.59l7.78-7.78 2.81-2.81c.8-.78.8-2.07 0-2.86zM5.41 20L4 18.59l7.72-7.72 1.47 1.35L5.41 20z\"/>\n",
              "  </svg>\n",
              "      </button>\n",
              "      \n",
              "  <style>\n",
              "    .colab-df-container {\n",
              "      display:flex;\n",
              "      flex-wrap:wrap;\n",
              "      gap: 12px;\n",
              "    }\n",
              "\n",
              "    .colab-df-convert {\n",
              "      background-color: #E8F0FE;\n",
              "      border: none;\n",
              "      border-radius: 50%;\n",
              "      cursor: pointer;\n",
              "      display: none;\n",
              "      fill: #1967D2;\n",
              "      height: 32px;\n",
              "      padding: 0 0 0 0;\n",
              "      width: 32px;\n",
              "    }\n",
              "\n",
              "    .colab-df-convert:hover {\n",
              "      background-color: #E2EBFA;\n",
              "      box-shadow: 0px 1px 2px rgba(60, 64, 67, 0.3), 0px 1px 3px 1px rgba(60, 64, 67, 0.15);\n",
              "      fill: #174EA6;\n",
              "    }\n",
              "\n",
              "    [theme=dark] .colab-df-convert {\n",
              "      background-color: #3B4455;\n",
              "      fill: #D2E3FC;\n",
              "    }\n",
              "\n",
              "    [theme=dark] .colab-df-convert:hover {\n",
              "      background-color: #434B5C;\n",
              "      box-shadow: 0px 1px 3px 1px rgba(0, 0, 0, 0.15);\n",
              "      filter: drop-shadow(0px 1px 2px rgba(0, 0, 0, 0.3));\n",
              "      fill: #FFFFFF;\n",
              "    }\n",
              "  </style>\n",
              "\n",
              "      <script>\n",
              "        const buttonEl =\n",
              "          document.querySelector('#df-74233205-7c4d-4973-81ca-d02f35e55795 button.colab-df-convert');\n",
              "        buttonEl.style.display =\n",
              "          google.colab.kernel.accessAllowed ? 'block' : 'none';\n",
              "\n",
              "        async function convertToInteractive(key) {\n",
              "          const element = document.querySelector('#df-74233205-7c4d-4973-81ca-d02f35e55795');\n",
              "          const dataTable =\n",
              "            await google.colab.kernel.invokeFunction('convertToInteractive',\n",
              "                                                     [key], {});\n",
              "          if (!dataTable) return;\n",
              "\n",
              "          const docLinkHtml = 'Like what you see? Visit the ' +\n",
              "            '<a target=\"_blank\" href=https://colab.research.google.com/notebooks/data_table.ipynb>data table notebook</a>'\n",
              "            + ' to learn more about interactive tables.';\n",
              "          element.innerHTML = '';\n",
              "          dataTable['output_type'] = 'display_data';\n",
              "          await google.colab.output.renderOutput(dataTable, element);\n",
              "          const docLink = document.createElement('div');\n",
              "          docLink.innerHTML = docLinkHtml;\n",
              "          element.appendChild(docLink);\n",
              "        }\n",
              "      </script>\n",
              "    </div>\n",
              "  </div>\n",
              "  "
            ]
          },
          "metadata": {},
          "execution_count": 159
        }
      ]
    },
    {
      "cell_type": "code",
      "source": [
        "from copy import deepcopy\n",
        "\n",
        "# declare the label of each activity in the test set as missing\n",
        "# return actual labels as targets array for validation\n",
        "def missing(el):\n",
        " \n",
        "  # need to deepcopy targets to derefrence them from dataframe  \n",
        "  targets = deepcopy(el['label'])\n",
        "  el['label'] = 'missing'\n",
        "  return el, targets.to_numpy()"
      ],
      "metadata": {
        "id": "xA8IXkTpdN15"
      },
      "execution_count": 160,
      "outputs": []
    },
    {
      "cell_type": "code",
      "source": [
        "# train_targets = train_el['label'].to_numpy()\n",
        "test_el, test_targets = missing(test_el)\n",
        "test_el, test_targets"
      ],
      "metadata": {
        "id": "rnFG83cIgWs4",
        "colab": {
          "base_uri": "https://localhost:8080/"
        },
        "outputId": "f5b0a571-a1ac-437b-bb29-4ce41659b07f"
      },
      "execution_count": 161,
      "outputs": [
        {
          "output_type": "execute_result",
          "data": {
            "text/plain": [
              "(               prefix           suffix  \\\n",
              " 2797  [0, 0, 0, 0, 1]  [3, 4, 0, 0, 0]   \n",
              " 3541  [0, 0, 1, 2, 3]  [0, 0, 0, 0, 0]   \n",
              " 1270  [0, 0, 0, 0, 0]  [2, 3, 2, 3, 4]   \n",
              " 2493  [0, 0, 1, 2, 3]  [0, 0, 0, 0, 0]   \n",
              " 1990  [0, 0, 0, 1, 2]  [4, 0, 0, 0, 0]   \n",
              " ...               ...              ...   \n",
              " 1300  [0, 0, 0, 1, 2]  [4, 0, 0, 0, 0]   \n",
              " 1021  [0, 0, 1, 2, 3]  [0, 0, 0, 0, 0]   \n",
              " 1345  [0, 0, 1, 2, 3]  [0, 0, 0, 0, 0]   \n",
              " 281   [0, 0, 0, 0, 1]  [3, 4, 0, 0, 0]   \n",
              " 722   [0, 0, 0, 1, 2]  [4, 0, 0, 0, 0]   \n",
              " \n",
              "                            prefix time delta  \\\n",
              " 2797              [0.0, 0.0, 0.0, 0.0, 60.0]   \n",
              " 3541  [0.0, 0.0, 126586.0, 53198.0, 61116.0]   \n",
              " 1270                         [0, 0, 0, 0, 0]   \n",
              " 2493    [0.0, 0.0, 32.0, 285729.0, 252679.0]   \n",
              " 1990          [0.0, 0.0, 0.0, 72.0, 75527.0]   \n",
              " ...                                      ...   \n",
              " 1300         [0.0, 0.0, 0.0, 68.0, 114842.0]   \n",
              " 1021    [0.0, 0.0, 62.0, 250426.0, 224652.0]   \n",
              " 1345   [0.0, 0.0, 117.0, 181083.0, 426900.0]   \n",
              " 281            [0.0, 0.0, 0.0, 0.0, 11962.0]   \n",
              " 722       [0.0, 0.0, 0.0, 42460.0, 133444.0]   \n",
              " \n",
              "                                   suffix time delta    label  \n",
              " 2797                  [54420.0, 0.0, 0.0, 0.0, 0.0]  missing  \n",
              " 3541                                [0, 0, 0, 0, 0]  missing  \n",
              " 1270  [111.0, 137819.0, 210542.0, 65964.0, 66464.0]  missing  \n",
              " 2493                                [0, 0, 0, 0, 0]  missing  \n",
              " 1990                  [65101.0, 0.0, 0.0, 0.0, 0.0]  missing  \n",
              " ...                                             ...      ...  \n",
              " 1300                  [43550.0, 0.0, 0.0, 0.0, 0.0]  missing  \n",
              " 1021                                [0, 0, 0, 0, 0]  missing  \n",
              " 1345                                [0, 0, 0, 0, 0]  missing  \n",
              " 281             [295319.0, 492519.0, 0.0, 0.0, 0.0]  missing  \n",
              " 722                  [157096.0, 0.0, 0.0, 0.0, 0.0]  missing  \n",
              " \n",
              " [780 rows x 5 columns],\n",
              " array(['2', '4', '1', '4', '3', '4', '3', '2', '4', '3', '1', '2', '3',\n",
              "        '2', '2', '3', '1', '4', '1', '1', '2', '2', '2', '3', '2', '2',\n",
              "        '2', '1', '2', '1', '4', '1', '4', '3', '1', '1', '4', '1', '2',\n",
              "        '1', '1', '3', '1', '1', '4', '1', '2', '3', '1', '3', '2', '2',\n",
              "        '1', '3', '3', '1', '3', '1', '4', '2', '3', '3', '4', '4', '2',\n",
              "        '3', '2', '3', '3', '4', '3', '2', '4', '2', '2', '3', '4', '4',\n",
              "        '2', '1', '4', '1', '2', '2', '2', '2', '3', '3', '1', '3', '3',\n",
              "        '2', '3', '2', '1', '3', '4', '1', '3', '3', '3', '1', '3', '4',\n",
              "        '3', '3', '3', '1', '3', '1', '1', '3', '3', '3', '2', '4', '1',\n",
              "        '2', '4', '3', '2', '3', '1', '2', '3', '4', '2', '1', '4', '1',\n",
              "        '3', '1', '2', '4', '1', '4', '3', '4', '3', '2', '1', '1', '4',\n",
              "        '2', '2', '2', '2', '3', '4', '2', '4', '3', '2', '4', '3', '2',\n",
              "        '4', '3', '2', '4', '3', '1', '1', '2', '3', '4', '4', '3', '3',\n",
              "        '4', '1', '1', '4', '1', '3', '4', '2', '4', '4', '2', '1', '2',\n",
              "        '1', '2', '3', '4', '4', '3', '2', '4', '3', '1', '4', '2', '1',\n",
              "        '1', '1', '3', '4', '3', '4', '2', '2', '4', '4', '1', '1', '3',\n",
              "        '2', '4', '1', '1', '4', '1', '2', '2', '4', '2', '4', '4', '2',\n",
              "        '2', '2', '4', '4', '3', '2', '1', '4', '4', '3', '1', '3', '1',\n",
              "        '4', '4', '4', '1', '3', '3', '1', '2', '3', '3', '4', '2', '3',\n",
              "        '1', '2', '4', '3', '1', '2', '1', '4', '1', '3', '2', '1', '1',\n",
              "        '2', '2', '3', '3', '1', '2', '2', '1', '4', '2', '1', '4', '1',\n",
              "        '4', '1', '4', '1', '3', '1', '4', '2', '1', '3', '4', '2', '2',\n",
              "        '4', '1', '1', '2', '1', '1', '1', '4', '2', '2', '2', '3', '2',\n",
              "        '3', '3', '4', '2', '3', '2', '4', '4', '3', '1', '3', '2', '3',\n",
              "        '4', '2', '4', '3', '4', '4', '4', '1', '1', '4', '4', '4', '1',\n",
              "        '3', '2', '2', '2', '2', '4', '3', '3', '3', '4', '3', '3', '3',\n",
              "        '2', '4', '4', '4', '1', '2', '2', '3', '1', '2', '4', '3', '2',\n",
              "        '1', '4', '2', '3', '4', '2', '3', '3', '2', '4', '3', '2', '1',\n",
              "        '1', '1', '1', '2', '3', '3', '4', '3', '2', '2', '3', '4', '3',\n",
              "        '1', '3', '3', '2', '2', '1', '4', '1', '3', '2', '1', '2', '3',\n",
              "        '3', '1', '3', '1', '4', '1', '1', '3', '2', '2', '2', '4', '3',\n",
              "        '3', '1', '2', '3', '3', '2', '3', '1', '3', '1', '1', '3', '3',\n",
              "        '4', '4', '2', '4', '3', '2', '1', '4', '4', '4', '2', '2', '4',\n",
              "        '2', '3', '2', '2', '4', '1', '3', '4', '4', '4', '3', '4', '1',\n",
              "        '3', '4', '3', '4', '2', '2', '4', '4', '2', '2', '1', '3', '2',\n",
              "        '4', '3', '4', '2', '4', '3', '4', '1', '4', '3', '1', '2', '2',\n",
              "        '4', '3', '4', '1', '2', '4', '1', '4', '1', '4', '3', '3', '3',\n",
              "        '3', '1', '1', '2', '4', '4', '1', '2', '1', '1', '4', '2', '2',\n",
              "        '3', '1', '2', '3', '4', '1', '2', '1', '1', '2', '4', '4', '1',\n",
              "        '2', '3', '1', '2', '4', '1', '2', '1', '2', '4', '2', '1', '4',\n",
              "        '2', '1', '4', '3', '4', '4', '3', '4', '4', '3', '1', '3', '1',\n",
              "        '1', '4', '2', '3', '3', '2', '3', '4', '4', '4', '3', '4', '1',\n",
              "        '1', '2', '2', '3', '2', '2', '1', '3', '1', '3', '1', '1', '3',\n",
              "        '1', '2', '4', '1', '1', '3', '4', '1', '1', '2', '3', '1', '4',\n",
              "        '1', '1', '1', '3', '1', '2', '1', '4', '2', '3', '1', '3', '3',\n",
              "        '2', '2', '4', '2', '1', '1', '4', '1', '4', '4', '4', '3', '4',\n",
              "        '2', '4', '2', '3', '2', '4', '2', '2', '2', '2', '1', '3', '2',\n",
              "        '3', '3', '1', '2', '3', '4', '3', '2', '4', '1', '3', '1', '2',\n",
              "        '3', '3', '1', '1', '1', '2', '1', '2', '3', '1', '1', '3', '1',\n",
              "        '4', '1', '4', '4', '3', '3', '2', '3', '3', '1', '4', '1', '4',\n",
              "        '4', '2', '1', '1', '1', '1', '3', '2', '3', '3', '2', '3', '3',\n",
              "        '3', '1', '3', '1', '4', '4', '1', '1', '1', '2', '4', '2', '2',\n",
              "        '1', '4', '1', '4', '2', '2', '3', '2', '4', '1', '2', '1', '3',\n",
              "        '2', '4', '4', '1', '4', '3', '4', '2', '2', '4', '3', '4', '2',\n",
              "        '3', '2', '1', '2', '2', '1', '4', '4', '2', '3', '2', '2', '2',\n",
              "        '3', '3', '2', '4', '4', '2', '4', '2', '4', '2', '1', '3', '1',\n",
              "        '2', '4', '1', '3', '4', '2', '2', '1', '3', '2', '1', '1', '1',\n",
              "        '4', '2', '4', '3', '3', '1', '4', '4', '1', '1', '4', '2', '2',\n",
              "        '1', '3', '1', '1', '4', '1', '3', '4', '2', '1', '3', '3', '1',\n",
              "        '3', '3', '2', '2', '1', '1', '1', '2', '3', '4', '4', '2', '3'],\n",
              "       dtype=object))"
            ]
          },
          "metadata": {},
          "execution_count": 161
        }
      ]
    },
    {
      "cell_type": "code",
      "source": [
        "# create validation set\n",
        "train_el, validation_el = train_test_split(train_el, test_size=VALIDATION_SIZE, random_state=9)"
      ],
      "metadata": {
        "id": "p88RY8E-y-vK"
      },
      "execution_count": 162,
      "outputs": []
    },
    {
      "cell_type": "code",
      "source": [
        "from keras.utils import to_categorical\n",
        "\n",
        "def format_input(el, train=False):\n",
        "\n",
        "  prefix_x = np.array(el['prefix'])\n",
        "  prefix_x = np.stack(prefix_x)\n",
        "  prefix_x = prefix_x.reshape(prefix_x.shape[0], prefix_x.shape[1], 1)\n",
        "  \n",
        "  suffix_x = np.array(el['suffix'])\n",
        "  suffix_x = np.stack(suffix_x)\n",
        "  suffix_x = suffix_x.reshape(suffix_x.shape[0], suffix_x.shape[1], 1)\n",
        "\n",
        "  prefix_td = np.array(el['prefix time delta'])\n",
        "  prefix_td = np.stack(prefix_td)\n",
        "  prefix_td = prefix_td.reshape(prefix_td.shape[0], prefix_td.shape[1], 1)\n",
        "\n",
        "  suffix_td = np.array(el['suffix time delta'])\n",
        "  suffix_td = np.stack(suffix_td)\n",
        "  suffix_td = suffix_td.reshape(suffix_td.shape[0], suffix_td.shape[1], 1)\n",
        "\n",
        "  x = np.concatenate(([prefix_x], [suffix_x], [prefix_td], [suffix_td]))\n",
        "\n",
        "  y = np.array(el['label'])\n",
        "  y = np.stack(y)\n",
        "  \n",
        "  if train is False:\n",
        "    y_encoded = to_categorical(y, n_activities)\n",
        "    return x, y_encoded\n",
        "  \n",
        "  return x, y"
      ],
      "metadata": {
        "id": "nW4QoUeN7tD0"
      },
      "execution_count": 163,
      "outputs": []
    },
    {
      "cell_type": "code",
      "source": [
        "train_x, train_y = format_input(train_el) \n",
        "validation_x, validation_y = format_input(validation_el)\n",
        "test_x, test_y = format_input(test_el, train=True)\n",
        "test_x\n"
      ],
      "metadata": {
        "id": "gKFqX1mH8LON",
        "colab": {
          "base_uri": "https://localhost:8080/"
        },
        "outputId": "044afac8-550c-4d1b-d1b7-2726d31e951d"
      },
      "execution_count": 164,
      "outputs": [
        {
          "output_type": "execute_result",
          "data": {
            "text/plain": [
              "array([[[[0.00000e+00],\n",
              "         [0.00000e+00],\n",
              "         [0.00000e+00],\n",
              "         [0.00000e+00],\n",
              "         [1.00000e+00]],\n",
              "\n",
              "        [[0.00000e+00],\n",
              "         [0.00000e+00],\n",
              "         [1.00000e+00],\n",
              "         [2.00000e+00],\n",
              "         [3.00000e+00]],\n",
              "\n",
              "        [[0.00000e+00],\n",
              "         [0.00000e+00],\n",
              "         [0.00000e+00],\n",
              "         [0.00000e+00],\n",
              "         [0.00000e+00]],\n",
              "\n",
              "        ...,\n",
              "\n",
              "        [[0.00000e+00],\n",
              "         [0.00000e+00],\n",
              "         [1.00000e+00],\n",
              "         [2.00000e+00],\n",
              "         [3.00000e+00]],\n",
              "\n",
              "        [[0.00000e+00],\n",
              "         [0.00000e+00],\n",
              "         [0.00000e+00],\n",
              "         [0.00000e+00],\n",
              "         [1.00000e+00]],\n",
              "\n",
              "        [[0.00000e+00],\n",
              "         [0.00000e+00],\n",
              "         [0.00000e+00],\n",
              "         [1.00000e+00],\n",
              "         [2.00000e+00]]],\n",
              "\n",
              "\n",
              "       [[[3.00000e+00],\n",
              "         [4.00000e+00],\n",
              "         [0.00000e+00],\n",
              "         [0.00000e+00],\n",
              "         [0.00000e+00]],\n",
              "\n",
              "        [[0.00000e+00],\n",
              "         [0.00000e+00],\n",
              "         [0.00000e+00],\n",
              "         [0.00000e+00],\n",
              "         [0.00000e+00]],\n",
              "\n",
              "        [[2.00000e+00],\n",
              "         [3.00000e+00],\n",
              "         [2.00000e+00],\n",
              "         [3.00000e+00],\n",
              "         [4.00000e+00]],\n",
              "\n",
              "        ...,\n",
              "\n",
              "        [[0.00000e+00],\n",
              "         [0.00000e+00],\n",
              "         [0.00000e+00],\n",
              "         [0.00000e+00],\n",
              "         [0.00000e+00]],\n",
              "\n",
              "        [[3.00000e+00],\n",
              "         [4.00000e+00],\n",
              "         [0.00000e+00],\n",
              "         [0.00000e+00],\n",
              "         [0.00000e+00]],\n",
              "\n",
              "        [[4.00000e+00],\n",
              "         [0.00000e+00],\n",
              "         [0.00000e+00],\n",
              "         [0.00000e+00],\n",
              "         [0.00000e+00]]],\n",
              "\n",
              "\n",
              "       [[[0.00000e+00],\n",
              "         [0.00000e+00],\n",
              "         [0.00000e+00],\n",
              "         [0.00000e+00],\n",
              "         [6.00000e+01]],\n",
              "\n",
              "        [[0.00000e+00],\n",
              "         [0.00000e+00],\n",
              "         [1.26586e+05],\n",
              "         [5.31980e+04],\n",
              "         [6.11160e+04]],\n",
              "\n",
              "        [[0.00000e+00],\n",
              "         [0.00000e+00],\n",
              "         [0.00000e+00],\n",
              "         [0.00000e+00],\n",
              "         [0.00000e+00]],\n",
              "\n",
              "        ...,\n",
              "\n",
              "        [[0.00000e+00],\n",
              "         [0.00000e+00],\n",
              "         [1.17000e+02],\n",
              "         [1.81083e+05],\n",
              "         [4.26900e+05]],\n",
              "\n",
              "        [[0.00000e+00],\n",
              "         [0.00000e+00],\n",
              "         [0.00000e+00],\n",
              "         [0.00000e+00],\n",
              "         [1.19620e+04]],\n",
              "\n",
              "        [[0.00000e+00],\n",
              "         [0.00000e+00],\n",
              "         [0.00000e+00],\n",
              "         [4.24600e+04],\n",
              "         [1.33444e+05]]],\n",
              "\n",
              "\n",
              "       [[[5.44200e+04],\n",
              "         [0.00000e+00],\n",
              "         [0.00000e+00],\n",
              "         [0.00000e+00],\n",
              "         [0.00000e+00]],\n",
              "\n",
              "        [[0.00000e+00],\n",
              "         [0.00000e+00],\n",
              "         [0.00000e+00],\n",
              "         [0.00000e+00],\n",
              "         [0.00000e+00]],\n",
              "\n",
              "        [[1.11000e+02],\n",
              "         [1.37819e+05],\n",
              "         [2.10542e+05],\n",
              "         [6.59640e+04],\n",
              "         [6.64640e+04]],\n",
              "\n",
              "        ...,\n",
              "\n",
              "        [[0.00000e+00],\n",
              "         [0.00000e+00],\n",
              "         [0.00000e+00],\n",
              "         [0.00000e+00],\n",
              "         [0.00000e+00]],\n",
              "\n",
              "        [[2.95319e+05],\n",
              "         [4.92519e+05],\n",
              "         [0.00000e+00],\n",
              "         [0.00000e+00],\n",
              "         [0.00000e+00]],\n",
              "\n",
              "        [[1.57096e+05],\n",
              "         [0.00000e+00],\n",
              "         [0.00000e+00],\n",
              "         [0.00000e+00],\n",
              "         [0.00000e+00]]]])"
            ]
          },
          "metadata": {},
          "execution_count": 164
        }
      ]
    },
    {
      "cell_type": "markdown",
      "source": [
        "## Section 4: Predicting Missing Activities using LSTM"
      ],
      "metadata": {
        "id": "EXAnlX9-9ucz"
      }
    },
    {
      "cell_type": "markdown",
      "source": [
        "###4.1 Prefix LSTM"
      ],
      "metadata": {
        "id": "TFzjzYvHofju"
      }
    },
    {
      "cell_type": "code",
      "source": [
        "# forwards LSTM\n",
        "from numpy import array\n",
        "from keras.models import Sequential\n",
        "from keras.layers import LSTM, Dense, Softmax, Bidirectional, Embedding\n",
        "\n",
        "\n",
        "prefix_LSTM = Sequential()\n",
        "prefix_LSTM.add(Embedding(input_dim=n_activities, output_dim=50))\n",
        "prefix_LSTM.add(LSTM(50, activation='relu', return_sequences=False, input_shape=(PREFIX_LENGTH, 1)))\n",
        "prefix_LSTM.add(Dense(n_activities, activation='softmax'))\n",
        "\n",
        "prefix_LSTM.compile(optimizer='adam', loss='categorical_crossentropy', metrics=['accuracy'])\n",
        "prefix_LSTM.summary()\n",
        "prefix_LSTM.fit(train_x[0], train_y, validation_data=(validation_x[0], validation_y), epochs=10)\n"
      ],
      "metadata": {
        "id": "oCr7EikZNzvZ",
        "outputId": "70160f53-fb6b-4279-905c-d98ca39f1c46",
        "colab": {
          "base_uri": "https://localhost:8080/"
        }
      },
      "execution_count": null,
      "outputs": [
        {
          "output_type": "stream",
          "name": "stdout",
          "text": [
            "Model: \"sequential\"\n",
            "_________________________________________________________________\n",
            " Layer (type)                Output Shape              Param #   \n",
            "=================================================================\n",
            " embedding (Embedding)       (None, None, 50)          900       \n",
            "                                                                 \n",
            " lstm (LSTM)                 (None, 50)                20200     \n",
            "                                                                 \n",
            " dense (Dense)               (None, 18)                918       \n",
            "                                                                 \n",
            "=================================================================\n",
            "Total params: 22,018\n",
            "Trainable params: 22,018\n",
            "Non-trainable params: 0\n",
            "_________________________________________________________________\n",
            "Epoch 1/10\n",
            "1177/1177 [==============================] - 16s 11ms/step - loss: 1.5404 - accuracy: 0.4633 - val_loss: 1.4310 - val_accuracy: 0.5028\n",
            "Epoch 2/10\n",
            "1177/1177 [==============================] - 10s 8ms/step - loss: 1.4067 - accuracy: 0.4960 - val_loss: 1.4064 - val_accuracy: 0.5023\n",
            "Epoch 3/10\n",
            "1177/1177 [==============================] - 9s 8ms/step - loss: 1.3955 - accuracy: 0.4976 - val_loss: 1.4017 - val_accuracy: 0.5020\n",
            "Epoch 4/10\n",
            "1177/1177 [==============================] - 11s 9ms/step - loss: 1.3902 - accuracy: 0.4993 - val_loss: 1.4028 - val_accuracy: 0.5023\n",
            "Epoch 5/10\n",
            "1177/1177 [==============================] - 16s 13ms/step - loss: 1.3864 - accuracy: 0.5011 - val_loss: 1.3985 - val_accuracy: 0.4948\n",
            "Epoch 6/10\n",
            "1177/1177 [==============================] - 9s 8ms/step - loss: 1.3831 - accuracy: 0.5030 - val_loss: 1.3986 - val_accuracy: 0.5030\n",
            "Epoch 7/10\n",
            "1177/1177 [==============================] - 11s 10ms/step - loss: 1.3813 - accuracy: 0.5022 - val_loss: 1.3942 - val_accuracy: 0.4956\n",
            "Epoch 8/10\n",
            "1177/1177 [==============================] - 10s 8ms/step - loss: 1.3789 - accuracy: 0.5032 - val_loss: 1.4014 - val_accuracy: 0.5002\n",
            "Epoch 9/10\n",
            "1177/1177 [==============================] - 10s 9ms/step - loss: 1.3783 - accuracy: 0.5036 - val_loss: 1.3935 - val_accuracy: 0.5022\n",
            "Epoch 10/10\n",
            "1177/1177 [==============================] - 12s 10ms/step - loss: 1.3763 - accuracy: 0.5050 - val_loss: 1.3961 - val_accuracy: 0.5037\n"
          ]
        },
        {
          "output_type": "execute_result",
          "data": {
            "text/plain": [
              "<keras.callbacks.History at 0x7f963ed231c0>"
            ]
          },
          "metadata": {},
          "execution_count": 30
        }
      ]
    },
    {
      "cell_type": "markdown",
      "source": [
        "###4.2 Suffix LSTM"
      ],
      "metadata": {
        "id": "aGpe3K7XomJb"
      }
    },
    {
      "cell_type": "code",
      "source": [
        "# backwards LSTM\n",
        "\n",
        "suffix_LSTM = Sequential()\n",
        "suffix_LSTM.add(Embedding(input_dim=n_activities, output_dim=50))\n",
        "suffix_LSTM.add(LSTM(50, activation='relu', return_sequences=False, input_shape=(PREFIX_LENGTH, 1)))\n",
        "suffix_LSTM.add(Dense(n_activities, activation='softmax'))\n",
        "\n",
        "suffix_LSTM.compile(optimizer='adam', loss='categorical_crossentropy', metrics=['accuracy'])\n",
        "suffix_LSTM.summary()\n",
        "suffix_LSTM.fit(train_x[1], train_y, validation_data=(validation_x[1], validation_y), epochs=10)\n"
      ],
      "metadata": {
        "colab": {
          "base_uri": "https://localhost:8080/"
        },
        "id": "m6M3ftNNPzC4",
        "outputId": "6c0d9c52-5de4-4c3c-983d-ed54755bfbd9"
      },
      "execution_count": null,
      "outputs": [
        {
          "output_type": "stream",
          "name": "stdout",
          "text": [
            "Model: \"sequential_1\"\n",
            "_________________________________________________________________\n",
            " Layer (type)                Output Shape              Param #   \n",
            "=================================================================\n",
            " embedding_1 (Embedding)     (None, None, 50)          900       \n",
            "                                                                 \n",
            " lstm_1 (LSTM)               (None, 50)                20200     \n",
            "                                                                 \n",
            " dense_1 (Dense)             (None, 18)                918       \n",
            "                                                                 \n",
            "=================================================================\n",
            "Total params: 22,018\n",
            "Trainable params: 22,018\n",
            "Non-trainable params: 0\n",
            "_________________________________________________________________\n",
            "Epoch 1/10\n",
            "1177/1177 [==============================] - 15s 11ms/step - loss: 1.3643 - accuracy: 0.5302 - val_loss: 1.2374 - val_accuracy: 0.5639\n",
            "Epoch 2/10\n",
            "1177/1177 [==============================] - 11s 9ms/step - loss: 1.2076 - accuracy: 0.5707 - val_loss: 1.2256 - val_accuracy: 0.5635\n",
            "Epoch 3/10\n",
            "1177/1177 [==============================] - 10s 8ms/step - loss: 1.1955 - accuracy: 0.5751 - val_loss: 1.2096 - val_accuracy: 0.5704\n",
            "Epoch 4/10\n",
            "1177/1177 [==============================] - 12s 10ms/step - loss: 1.1863 - accuracy: 0.5740 - val_loss: 1.1918 - val_accuracy: 0.5715\n",
            "Epoch 5/10\n",
            "1177/1177 [==============================] - 9s 8ms/step - loss: 1.1775 - accuracy: 0.5790 - val_loss: 1.1854 - val_accuracy: 0.5773\n",
            "Epoch 6/10\n",
            "1177/1177 [==============================] - 11s 9ms/step - loss: 1.1724 - accuracy: 0.5804 - val_loss: 1.1847 - val_accuracy: 0.5762\n",
            "Epoch 7/10\n",
            "1177/1177 [==============================] - 11s 9ms/step - loss: 1.1657 - accuracy: 0.5824 - val_loss: 1.1770 - val_accuracy: 0.5792\n",
            "Epoch 8/10\n",
            "1177/1177 [==============================] - 9s 8ms/step - loss: 1.1614 - accuracy: 0.5846 - val_loss: 1.1749 - val_accuracy: 0.5817\n",
            "Epoch 9/10\n",
            "1177/1177 [==============================] - 12s 10ms/step - loss: 1.1569 - accuracy: 0.5842 - val_loss: 1.1754 - val_accuracy: 0.5819\n",
            "Epoch 10/10\n",
            "1177/1177 [==============================] - 12s 10ms/step - loss: 1.1532 - accuracy: 0.5863 - val_loss: 1.1672 - val_accuracy: 0.5803\n"
          ]
        },
        {
          "output_type": "execute_result",
          "data": {
            "text/plain": [
              "<keras.callbacks.History at 0x7f963f774910>"
            ]
          },
          "metadata": {},
          "execution_count": 31
        }
      ]
    },
    {
      "cell_type": "markdown",
      "source": [
        "###4.3 Bidirectional LSTM with activities"
      ],
      "metadata": {
        "id": "G50NuIbPosMC"
      }
    },
    {
      "cell_type": "code",
      "source": [
        "from pandas.core.internals import concat\n",
        "# Bidirectional LSTM\n",
        "from keras.layers import Bidirectional, LSTM, Dropout, Dense, Input, concatenate, average\n",
        "from keras import Model\n",
        "\n",
        "prefix_input = Input(shape=(PREFIX_LENGTH, 1), name='prefix_input')\n",
        "suffix_input = Input(shape=(PREFIX_LENGTH, 1), name='suffix_input')\n",
        "\n",
        "lstm_layer = LSTM(32)\n",
        "\n",
        "prefix_layer = Bidirectional(lstm_layer, name='prefix_lstm')(prefix_input)\n",
        "suffix_layer = Bidirectional(lstm_layer, name='suffix_lstm')(suffix_input)\n",
        "\n",
        "dropout_prefix = Dropout(0.2)(prefix_layer)\n",
        "dropout_suffix = Dropout(0.2)(suffix_layer)\n",
        "\n",
        "merged = concatenate([dropout_prefix, dropout_suffix], name='merged')\n",
        "\n",
        "output = Dense(n_activities, activation='softmax', name='output')(merged)\n",
        "\n",
        "bi_LSTM = Model(inputs=[prefix_input, suffix_input], outputs=output)\n",
        "bi_LSTM.compile(loss='categorical_crossentropy', optimizer='adam', metrics=['accuracy'])\n",
        "bi_LSTM.summary()\n",
        "bi_LSTM.fit((train_x[0], train_x[1]), train_y,  validation_data=((validation_x[0], validation_x[1]), validation_y), epochs=10)"
      ],
      "metadata": {
        "colab": {
          "base_uri": "https://localhost:8080/"
        },
        "id": "5hVt5Hezf2n0",
        "outputId": "f6baf6c0-8772-445e-ccd8-0f822a56841d"
      },
      "execution_count": 165,
      "outputs": [
        {
          "output_type": "stream",
          "name": "stdout",
          "text": [
            "Model: \"model_20\"\n",
            "__________________________________________________________________________________________________\n",
            " Layer (type)                   Output Shape         Param #     Connected to                     \n",
            "==================================================================================================\n",
            " prefix_input (InputLayer)      [(None, 5, 1)]       0           []                               \n",
            "                                                                                                  \n",
            " suffix_input (InputLayer)      [(None, 5, 1)]       0           []                               \n",
            "                                                                                                  \n",
            " prefix_lstm (Bidirectional)    (None, 64)           8704        ['prefix_input[0][0]']           \n",
            "                                                                                                  \n",
            " suffix_lstm (Bidirectional)    (None, 64)           8704        ['suffix_input[0][0]']           \n",
            "                                                                                                  \n",
            " dropout_52 (Dropout)           (None, 64)           0           ['prefix_lstm[0][0]']            \n",
            "                                                                                                  \n",
            " dropout_53 (Dropout)           (None, 64)           0           ['suffix_lstm[0][0]']            \n",
            "                                                                                                  \n",
            " merged (Concatenate)           (None, 128)          0           ['dropout_52[0][0]',             \n",
            "                                                                  'dropout_53[0][0]']             \n",
            "                                                                                                  \n",
            " output (Dense)                 (None, 5)            645         ['merged[0][0]']                 \n",
            "                                                                                                  \n",
            "==================================================================================================\n",
            "Total params: 18,053\n",
            "Trainable params: 18,053\n",
            "Non-trainable params: 0\n",
            "__________________________________________________________________________________________________\n",
            "Epoch 1/10\n",
            "78/78 [==============================] - 9s 27ms/step - loss: 1.0382 - accuracy: 0.6990 - val_loss: 0.4923 - val_accuracy: 0.9792\n",
            "Epoch 2/10\n",
            "78/78 [==============================] - 1s 10ms/step - loss: 0.2841 - accuracy: 0.9639 - val_loss: 0.1104 - val_accuracy: 0.9728\n",
            "Epoch 3/10\n",
            "78/78 [==============================] - 1s 11ms/step - loss: 0.0810 - accuracy: 0.9787 - val_loss: 0.0459 - val_accuracy: 0.9824\n",
            "Epoch 4/10\n",
            "78/78 [==============================] - 1s 15ms/step - loss: 0.0414 - accuracy: 0.9892 - val_loss: 0.0242 - val_accuracy: 1.0000\n",
            "Epoch 5/10\n",
            "78/78 [==============================] - 1s 15ms/step - loss: 0.0270 - accuracy: 0.9940 - val_loss: 0.0158 - val_accuracy: 1.0000\n",
            "Epoch 6/10\n",
            "78/78 [==============================] - 1s 15ms/step - loss: 0.0188 - accuracy: 0.9980 - val_loss: 0.0099 - val_accuracy: 1.0000\n",
            "Epoch 7/10\n",
            "78/78 [==============================] - 1s 11ms/step - loss: 0.0111 - accuracy: 0.9984 - val_loss: 0.0070 - val_accuracy: 1.0000\n",
            "Epoch 8/10\n",
            "78/78 [==============================] - 1s 11ms/step - loss: 0.0099 - accuracy: 0.9992 - val_loss: 0.0049 - val_accuracy: 1.0000\n",
            "Epoch 9/10\n",
            "78/78 [==============================] - 1s 9ms/step - loss: 0.0070 - accuracy: 0.9992 - val_loss: 0.0038 - val_accuracy: 1.0000\n",
            "Epoch 10/10\n",
            "78/78 [==============================] - 1s 10ms/step - loss: 0.0051 - accuracy: 0.9996 - val_loss: 0.0030 - val_accuracy: 1.0000\n"
          ]
        },
        {
          "output_type": "execute_result",
          "data": {
            "text/plain": [
              "<keras.callbacks.History at 0x7fb5bf7fabb0>"
            ]
          },
          "metadata": {},
          "execution_count": 165
        }
      ]
    },
    {
      "cell_type": "markdown",
      "source": [
        "###4.4 Bi-directional LSTM with time deltas "
      ],
      "metadata": {
        "id": "bUGOG0PDTfz0"
      }
    },
    {
      "cell_type": "code",
      "source": [
        "prefix_input = Input(shape=(PREFIX_LENGTH, 1), name='prefix_input')\n",
        "suffix_input = Input(shape=(PREFIX_LENGTH, 1), name='suffix_input')\n",
        "\n",
        "lstm_layer = LSTM(32)\n",
        "\n",
        "prefix_layer = Bidirectional(lstm_layer, name='prefix_lstm')(prefix_input)\n",
        "suffix_layer = Bidirectional(lstm_layer, name='suffix_lstm')(suffix_input)\n",
        "\n",
        "dropout_prefix = Dropout(0.2)(prefix_layer)\n",
        "dropout_suffix = Dropout(0.2)(suffix_layer)\n",
        "\n",
        "merged = concatenate([dropout_prefix, dropout_suffix], name='merged')\n",
        "\n",
        "output = Dense(n_activities, activation='softmax', name='output')(merged)\n",
        "\n",
        "td_LSTM = Model(inputs=[prefix_input, suffix_input], outputs=output)\n",
        "td_LSTM.compile(loss='categorical_crossentropy', optimizer='adam', metrics=['accuracy'])\n",
        "td_LSTM.summary()\n",
        "td_LSTM.fit((train_x[2], train_x[3]), train_y,  validation_data=((validation_x[2], validation_x[3]), validation_y), epochs=10)"
      ],
      "metadata": {
        "colab": {
          "base_uri": "https://localhost:8080/"
        },
        "id": "uyshofNOTt_7",
        "outputId": "daf1e26f-5758-4237-9ca2-e35db2f01aed"
      },
      "execution_count": 166,
      "outputs": [
        {
          "output_type": "stream",
          "name": "stdout",
          "text": [
            "Model: \"model_21\"\n",
            "__________________________________________________________________________________________________\n",
            " Layer (type)                   Output Shape         Param #     Connected to                     \n",
            "==================================================================================================\n",
            " prefix_input (InputLayer)      [(None, 5, 1)]       0           []                               \n",
            "                                                                                                  \n",
            " suffix_input (InputLayer)      [(None, 5, 1)]       0           []                               \n",
            "                                                                                                  \n",
            " prefix_lstm (Bidirectional)    (None, 64)           8704        ['prefix_input[0][0]']           \n",
            "                                                                                                  \n",
            " suffix_lstm (Bidirectional)    (None, 64)           8704        ['suffix_input[0][0]']           \n",
            "                                                                                                  \n",
            " dropout_54 (Dropout)           (None, 64)           0           ['prefix_lstm[0][0]']            \n",
            "                                                                                                  \n",
            " dropout_55 (Dropout)           (None, 64)           0           ['suffix_lstm[0][0]']            \n",
            "                                                                                                  \n",
            " merged (Concatenate)           (None, 128)          0           ['dropout_54[0][0]',             \n",
            "                                                                  'dropout_55[0][0]']             \n",
            "                                                                                                  \n",
            " output (Dense)                 (None, 5)            645         ['merged[0][0]']                 \n",
            "                                                                                                  \n",
            "==================================================================================================\n",
            "Total params: 18,053\n",
            "Trainable params: 18,053\n",
            "Non-trainable params: 0\n",
            "__________________________________________________________________________________________________\n",
            "Epoch 1/10\n",
            "78/78 [==============================] - 9s 27ms/step - loss: 0.8315 - accuracy: 0.7600 - val_loss: 0.2461 - val_accuracy: 0.9744\n",
            "Epoch 2/10\n",
            "78/78 [==============================] - 1s 13ms/step - loss: 0.1059 - accuracy: 0.9815 - val_loss: 0.0759 - val_accuracy: 0.9760\n",
            "Epoch 3/10\n",
            "78/78 [==============================] - 1s 15ms/step - loss: 0.0407 - accuracy: 0.9852 - val_loss: 0.0573 - val_accuracy: 0.9744\n",
            "Epoch 4/10\n",
            "78/78 [==============================] - 1s 15ms/step - loss: 0.0328 - accuracy: 0.9856 - val_loss: 0.0477 - val_accuracy: 0.9824\n",
            "Epoch 5/10\n",
            "78/78 [==============================] - 1s 13ms/step - loss: 0.0259 - accuracy: 0.9888 - val_loss: 0.0419 - val_accuracy: 0.9904\n",
            "Epoch 6/10\n",
            "78/78 [==============================] - 1s 10ms/step - loss: 0.0211 - accuracy: 0.9932 - val_loss: 0.0386 - val_accuracy: 0.9904\n",
            "Epoch 7/10\n",
            "78/78 [==============================] - 1s 9ms/step - loss: 0.0216 - accuracy: 0.9908 - val_loss: 0.0383 - val_accuracy: 0.9920\n",
            "Epoch 8/10\n",
            "78/78 [==============================] - 1s 10ms/step - loss: 0.0182 - accuracy: 0.9952 - val_loss: 0.0329 - val_accuracy: 0.9904\n",
            "Epoch 9/10\n",
            "78/78 [==============================] - 1s 9ms/step - loss: 0.0153 - accuracy: 0.9960 - val_loss: 0.0286 - val_accuracy: 0.9904\n",
            "Epoch 10/10\n",
            "78/78 [==============================] - 1s 10ms/step - loss: 0.0142 - accuracy: 0.9940 - val_loss: 0.0330 - val_accuracy: 0.9904\n"
          ]
        },
        {
          "output_type": "execute_result",
          "data": {
            "text/plain": [
              "<keras.callbacks.History at 0x7fb5b3d65cd0>"
            ]
          },
          "metadata": {},
          "execution_count": 166
        }
      ]
    },
    {
      "cell_type": "markdown",
      "source": [
        "###4.5 Bi-directional LSTM with both activities and timedeltas"
      ],
      "metadata": {
        "id": "57iYyLcgH8qe"
      }
    },
    {
      "cell_type": "markdown",
      "source": [
        "####4.5.1 original architecture"
      ],
      "metadata": {
        "id": "emd5L4seVkct"
      }
    },
    {
      "cell_type": "code",
      "source": [
        "# this LSTM takes additional two inputs:\n",
        "# time deltas for the prefix events\n",
        "# time deltas for the suffix events\n",
        "from keras.layers import LSTM, Dense, Bidirectional, average, Input, concatenate\n",
        "from keras import Model\n",
        "\n",
        "\n",
        "prefix_events_input = Input(shape=(PREFIX_LENGTH, 1), name='prefix_events_input')\n",
        "suffix_events_input = Input(shape=(PREFIX_LENGTH, 1), name='suffix_events_input')\n",
        "\n",
        "prefix_deltas_input = Input(shape=(PREFIX_LENGTH, 1), name='prefix_deltas_input')\n",
        "suffix_deltas_input = Input(shape=(PREFIX_LENGTH, 1), name='suffix_deltas_input')\n",
        "\n",
        "merged_prefix = concatenate([prefix_events_input, prefix_deltas_input], axis=-1)\n",
        "merged_suffix = concatenate([suffix_events_input, suffix_deltas_input], axis=-1)\n",
        "\n",
        "lstm_layer = LSTM(32)\n",
        "\n",
        "prefix_layer = Bidirectional(lstm_layer, name='prefix_lstm')(merged_prefix)\n",
        "suffix_layer = Bidirectional(lstm_layer, name='suffix_lstm')(merged_suffix)\n",
        "\n",
        "dropout_prefix = Dropout(0.2)(prefix_layer)\n",
        "dropout_suffix = Dropout(0.2)(suffix_layer)\n",
        "\n",
        "merged = concatenate([dropout_prefix, dropout_suffix], name='merged')\n",
        "\n",
        "output = Dense(n_activities, activation='softmax', name='output')(merged)\n",
        "\n",
        "bi_LSTM_td = Model(\n",
        "    inputs=[prefix_events_input, suffix_events_input, prefix_deltas_input, suffix_deltas_input],\n",
        "    outputs=output)\n",
        "\n",
        "bi_LSTM_td.compile(loss='categorical_crossentropy', optimizer='adam', metrics=['accuracy'])\n",
        "bi_LSTM_td.summary()\n",
        "bi_LSTM_td.fit(\n",
        "    (train_x[0], train_x[1], train_x[2], train_x[3]),\n",
        "    train_y,\n",
        "    validation_data=((validation_x[0], validation_x[1], validation_x[2], validation_x[3]),\n",
        "                     validation_y), epochs=10)\n",
        "\n"
      ],
      "metadata": {
        "colab": {
          "base_uri": "https://localhost:8080/"
        },
        "id": "aQ9ET2h1IBUH",
        "outputId": "7881053d-5ddf-4e33-beb6-c05cfd598f02"
      },
      "execution_count": 167,
      "outputs": [
        {
          "output_type": "stream",
          "name": "stdout",
          "text": [
            "Model: \"model_22\"\n",
            "__________________________________________________________________________________________________\n",
            " Layer (type)                   Output Shape         Param #     Connected to                     \n",
            "==================================================================================================\n",
            " prefix_events_input (InputLaye  [(None, 5, 1)]      0           []                               \n",
            " r)                                                                                               \n",
            "                                                                                                  \n",
            " prefix_deltas_input (InputLaye  [(None, 5, 1)]      0           []                               \n",
            " r)                                                                                               \n",
            "                                                                                                  \n",
            " suffix_events_input (InputLaye  [(None, 5, 1)]      0           []                               \n",
            " r)                                                                                               \n",
            "                                                                                                  \n",
            " suffix_deltas_input (InputLaye  [(None, 5, 1)]      0           []                               \n",
            " r)                                                                                               \n",
            "                                                                                                  \n",
            " concatenate_10 (Concatenate)   (None, 5, 2)         0           ['prefix_events_input[0][0]',    \n",
            "                                                                  'prefix_deltas_input[0][0]']    \n",
            "                                                                                                  \n",
            " concatenate_11 (Concatenate)   (None, 5, 2)         0           ['suffix_events_input[0][0]',    \n",
            "                                                                  'suffix_deltas_input[0][0]']    \n",
            "                                                                                                  \n",
            " prefix_lstm (Bidirectional)    (None, 64)           8960        ['concatenate_10[0][0]']         \n",
            "                                                                                                  \n",
            " suffix_lstm (Bidirectional)    (None, 64)           8960        ['concatenate_11[0][0]']         \n",
            "                                                                                                  \n",
            " dropout_56 (Dropout)           (None, 64)           0           ['prefix_lstm[0][0]']            \n",
            "                                                                                                  \n",
            " dropout_57 (Dropout)           (None, 64)           0           ['suffix_lstm[0][0]']            \n",
            "                                                                                                  \n",
            " merged (Concatenate)           (None, 128)          0           ['dropout_56[0][0]',             \n",
            "                                                                  'dropout_57[0][0]']             \n",
            "                                                                                                  \n",
            " output (Dense)                 (None, 5)            645         ['merged[0][0]']                 \n",
            "                                                                                                  \n",
            "==================================================================================================\n",
            "Total params: 18,565\n",
            "Trainable params: 18,565\n",
            "Non-trainable params: 0\n",
            "__________________________________________________________________________________________________\n",
            "Epoch 1/10\n",
            "78/78 [==============================] - 10s 31ms/step - loss: 1.0059 - accuracy: 0.6043 - val_loss: 0.2769 - val_accuracy: 0.9663\n",
            "Epoch 2/10\n",
            "78/78 [==============================] - 1s 11ms/step - loss: 0.1223 - accuracy: 0.9775 - val_loss: 0.0715 - val_accuracy: 0.9744\n",
            "Epoch 3/10\n",
            "78/78 [==============================] - 1s 10ms/step - loss: 0.0466 - accuracy: 0.9839 - val_loss: 0.0553 - val_accuracy: 0.9792\n",
            "Epoch 4/10\n",
            "78/78 [==============================] - 1s 10ms/step - loss: 0.0368 - accuracy: 0.9827 - val_loss: 0.0462 - val_accuracy: 0.9808\n",
            "Epoch 5/10\n",
            "78/78 [==============================] - 1s 10ms/step - loss: 0.0291 - accuracy: 0.9868 - val_loss: 0.0321 - val_accuracy: 0.9808\n",
            "Epoch 6/10\n",
            "78/78 [==============================] - 1s 11ms/step - loss: 0.0237 - accuracy: 0.9884 - val_loss: 0.0260 - val_accuracy: 0.9856\n",
            "Epoch 7/10\n",
            "78/78 [==============================] - 1s 10ms/step - loss: 0.0208 - accuracy: 0.9904 - val_loss: 0.0265 - val_accuracy: 0.9968\n",
            "Epoch 8/10\n",
            "78/78 [==============================] - 1s 11ms/step - loss: 0.0183 - accuracy: 0.9932 - val_loss: 0.0221 - val_accuracy: 0.9968\n",
            "Epoch 9/10\n",
            "78/78 [==============================] - 1s 10ms/step - loss: 0.0177 - accuracy: 0.9924 - val_loss: 0.0206 - val_accuracy: 0.9968\n",
            "Epoch 10/10\n",
            "78/78 [==============================] - 1s 11ms/step - loss: 0.0149 - accuracy: 0.9944 - val_loss: 0.0188 - val_accuracy: 0.9968\n"
          ]
        },
        {
          "output_type": "execute_result",
          "data": {
            "text/plain": [
              "<keras.callbacks.History at 0x7fb5b0700a60>"
            ]
          },
          "metadata": {},
          "execution_count": 167
        }
      ]
    },
    {
      "cell_type": "markdown",
      "source": [
        "####4.5.2 alternate architecture"
      ],
      "metadata": {
        "id": "kXTOAbTKVem1"
      }
    },
    {
      "cell_type": "code",
      "source": [
        "from keras.layers import Dropout\n",
        "\n",
        "prefix_events_input = Input(shape=(PREFIX_LENGTH, 1), name='prefix_events_input')\n",
        "suffix_events_input = Input(shape=(PREFIX_LENGTH, 1), name='suffix_events_input')\n",
        "\n",
        "prefix_deltas_input = Input(shape=(PREFIX_LENGTH, 1), name='prefix_deltas_input')\n",
        "suffix_deltas_input = Input(shape=(PREFIX_LENGTH, 1), name='suffix_deltas_input')\n",
        "\n",
        "\n",
        "lstm_layer = LSTM(32)\n",
        "\n",
        "prefix_events_lstm = Bidirectional(lstm_layer, name='prefix_events_lstm')(prefix_events_input)\n",
        "suffix_events_lstm = Bidirectional(lstm_layer, name='suffix_events_lstm')(suffix_events_input)\n",
        "prefix_deltas_lstm = Bidirectional(lstm_layer, name='prefix_deltas_lstm')(prefix_deltas_input)\n",
        "suffix_deltas_lstm = Bidirectional(lstm_layer, name='suffix_deltas_lstm')(suffix_deltas_input)\n",
        "\n",
        "\n",
        "dropout_prefix_events = Dropout(0.2)(prefix_events_lstm)\n",
        "dropout_suffix_events = Dropout(0.2)(suffix_events_lstm)\n",
        "dropout_prefix_deltas = Dropout(0.2)(prefix_deltas_lstm)\n",
        "dropout_suffix_deltas = Dropout(0.2)(suffix_deltas_lstm)\n",
        "\n",
        "\n",
        "\n",
        "merged = average([dropout_prefix_events, dropout_suffix_events, dropout_prefix_deltas, dropout_suffix_deltas], name='merged')\n",
        "\n",
        "output = Dense(n_activities, activation='softmax', name='output')(merged)\n",
        "\n",
        "bi_LSTM_td_2 = Model(\n",
        "    inputs=[prefix_events_input, suffix_events_input, prefix_deltas_input, suffix_deltas_input],\n",
        "    outputs=output)\n",
        "bi_LSTM_td_2.compile(loss='categorical_crossentropy', optimizer='adam', metrics=['accuracy'])\n",
        "bi_LSTM_td_2.summary()\n",
        "bi_LSTM_td_2.fit(\n",
        "    (train_x[0], train_x[1], train_x[2], train_x[3]),\n",
        "    train_y,\n",
        "    validation_data=((validation_x[0], validation_x[1], validation_x[2], validation_x[3]),\n",
        "                     validation_y), epochs=10)\n",
        "\n"
      ],
      "metadata": {
        "colab": {
          "base_uri": "https://localhost:8080/"
        },
        "outputId": "a570e798-9667-40ad-b59d-c5c834e8f946",
        "id": "XDLjahJKUZIK"
      },
      "execution_count": 168,
      "outputs": [
        {
          "output_type": "stream",
          "name": "stdout",
          "text": [
            "Model: \"model_23\"\n",
            "__________________________________________________________________________________________________\n",
            " Layer (type)                   Output Shape         Param #     Connected to                     \n",
            "==================================================================================================\n",
            " prefix_events_input (InputLaye  [(None, 5, 1)]      0           []                               \n",
            " r)                                                                                               \n",
            "                                                                                                  \n",
            " suffix_events_input (InputLaye  [(None, 5, 1)]      0           []                               \n",
            " r)                                                                                               \n",
            "                                                                                                  \n",
            " prefix_deltas_input (InputLaye  [(None, 5, 1)]      0           []                               \n",
            " r)                                                                                               \n",
            "                                                                                                  \n",
            " suffix_deltas_input (InputLaye  [(None, 5, 1)]      0           []                               \n",
            " r)                                                                                               \n",
            "                                                                                                  \n",
            " prefix_events_lstm (Bidirectio  (None, 64)          8704        ['prefix_events_input[0][0]']    \n",
            " nal)                                                                                             \n",
            "                                                                                                  \n",
            " suffix_events_lstm (Bidirectio  (None, 64)          8704        ['suffix_events_input[0][0]']    \n",
            " nal)                                                                                             \n",
            "                                                                                                  \n",
            " prefix_deltas_lstm (Bidirectio  (None, 64)          8704        ['prefix_deltas_input[0][0]']    \n",
            " nal)                                                                                             \n",
            "                                                                                                  \n",
            " suffix_deltas_lstm (Bidirectio  (None, 64)          8704        ['suffix_deltas_input[0][0]']    \n",
            " nal)                                                                                             \n",
            "                                                                                                  \n",
            " dropout_58 (Dropout)           (None, 64)           0           ['prefix_events_lstm[0][0]']     \n",
            "                                                                                                  \n",
            " dropout_59 (Dropout)           (None, 64)           0           ['suffix_events_lstm[0][0]']     \n",
            "                                                                                                  \n",
            " dropout_60 (Dropout)           (None, 64)           0           ['prefix_deltas_lstm[0][0]']     \n",
            "                                                                                                  \n",
            " dropout_61 (Dropout)           (None, 64)           0           ['suffix_deltas_lstm[0][0]']     \n",
            "                                                                                                  \n",
            " merged (Average)               (None, 64)           0           ['dropout_58[0][0]',             \n",
            "                                                                  'dropout_59[0][0]',             \n",
            "                                                                  'dropout_60[0][0]',             \n",
            "                                                                  'dropout_61[0][0]']             \n",
            "                                                                                                  \n",
            " output (Dense)                 (None, 5)            325         ['merged[0][0]']                 \n",
            "                                                                                                  \n",
            "==================================================================================================\n",
            "Total params: 35,141\n",
            "Trainable params: 35,141\n",
            "Non-trainable params: 0\n",
            "__________________________________________________________________________________________________\n",
            "Epoch 1/10\n",
            "78/78 [==============================] - 19s 51ms/step - loss: 1.1738 - accuracy: 0.6493 - val_loss: 0.6308 - val_accuracy: 0.9872\n",
            "Epoch 2/10\n",
            "78/78 [==============================] - 1s 16ms/step - loss: 0.2976 - accuracy: 0.9791 - val_loss: 0.1363 - val_accuracy: 0.9728\n",
            "Epoch 3/10\n",
            "78/78 [==============================] - 1s 16ms/step - loss: 0.0994 - accuracy: 0.9787 - val_loss: 0.0761 - val_accuracy: 0.9696\n",
            "Epoch 4/10\n",
            "78/78 [==============================] - 1s 16ms/step - loss: 0.0592 - accuracy: 0.9843 - val_loss: 0.0537 - val_accuracy: 0.9824\n",
            "Epoch 5/10\n",
            "78/78 [==============================] - 1s 16ms/step - loss: 0.0419 - accuracy: 0.9900 - val_loss: 0.0378 - val_accuracy: 0.9920\n",
            "Epoch 6/10\n",
            "78/78 [==============================] - 1s 16ms/step - loss: 0.0301 - accuracy: 0.9940 - val_loss: 0.0310 - val_accuracy: 0.9920\n",
            "Epoch 7/10\n",
            "78/78 [==============================] - 2s 23ms/step - loss: 0.0246 - accuracy: 0.9968 - val_loss: 0.0230 - val_accuracy: 0.9968\n",
            "Epoch 8/10\n",
            "78/78 [==============================] - 2s 27ms/step - loss: 0.0191 - accuracy: 0.9972 - val_loss: 0.0186 - val_accuracy: 0.9968\n",
            "Epoch 9/10\n",
            "78/78 [==============================] - 1s 16ms/step - loss: 0.0158 - accuracy: 0.9988 - val_loss: 0.0146 - val_accuracy: 0.9968\n",
            "Epoch 10/10\n",
            "78/78 [==============================] - 1s 16ms/step - loss: 0.0119 - accuracy: 0.9996 - val_loss: 0.0123 - val_accuracy: 1.0000\n"
          ]
        },
        {
          "output_type": "execute_result",
          "data": {
            "text/plain": [
              "<keras.callbacks.History at 0x7fb5aea45520>"
            ]
          },
          "metadata": {},
          "execution_count": 168
        }
      ]
    },
    {
      "cell_type": "markdown",
      "source": [
        "###4.6 Hyperparameter Tuning"
      ],
      "metadata": {
        "id": "7G4gN_9p1Frv"
      }
    },
    {
      "cell_type": "code",
      "source": [
        "import keras_tuner as kt\n",
        "\n",
        "def build_model(hp):\n",
        "  prefix_events_input = Input(shape=(PREFIX_LENGTH, 1), name='prefix_events_input')\n",
        "  suffix_events_input = Input(shape=(PREFIX_LENGTH, 1), name='suffix_events_input')\n",
        "\n",
        "  prefix_deltas_input = Input(shape=(PREFIX_LENGTH, 1), name='prefix_deltas_input')\n",
        "  suffix_deltas_input = Input(shape=(PREFIX_LENGTH, 1), name='suffix_deltas_input')\n",
        "\n",
        "\n",
        "  lstm_units = hp.Int('units', min_value=32, max_value=128, step=32)\n",
        "  lstm_activation = hp.Choice('activation',values=['relu', 'tanh'])\n",
        "  lstm_layer = LSTM(lstm_units, activation=lstm_activation)\n",
        "\n",
        "  prefix_events_lstm = Bidirectional(lstm_layer, name='prefix_events_lstm')(prefix_events_input)\n",
        "  suffix_events_lstm = Bidirectional(lstm_layer, name='suffix_events_lstm')(suffix_events_input)\n",
        "  prefix_deltas_lstm = Bidirectional(lstm_layer, name='prefix_deltas_lstm')(prefix_deltas_input)\n",
        "  suffix_deltas_lstm = Bidirectional(lstm_layer, name='suffix_deltas_lstm')(suffix_deltas_input)\n",
        "\n",
        "  dropout_rates = [0.0,0.1,0.2,0.3,0.4,0.5]\n",
        "\n",
        "  dropout_rate_1 = hp.Choice('rate_1', values=dropout_rates)\n",
        "  dropout_rate_2 = hp.Choice('rate_2', values=dropout_rates)\n",
        "  dropout_rate_3 = hp.Choice('rate_3', values=dropout_rates)\n",
        "  dropout_rate_4 = hp.Choice('rate_4', values=dropout_rates)\n",
        "\n",
        "\n",
        "  dropout_prefix_events = Dropout(dropout_rate_1)(prefix_events_lstm)\n",
        "  dropout_suffix_events = Dropout(dropout_rate_2)(suffix_events_lstm)\n",
        "  dropout_prefix_deltas = Dropout(dropout_rate_3)(prefix_deltas_lstm)\n",
        "  dropout_suffix_deltas = Dropout(dropout_rate_4)(suffix_deltas_lstm)\n",
        "\n",
        "\n",
        "\n",
        "  merged = average([dropout_prefix_events, dropout_suffix_events, dropout_prefix_deltas, dropout_suffix_deltas], name='merged')\n",
        "\n",
        "  output = Dense(n_activities, activation='softmax', name='output')(merged)\n",
        "\n",
        "  model = Model(\n",
        "      inputs=[prefix_events_input, suffix_events_input, prefix_deltas_input, suffix_deltas_input],\n",
        "      outputs=output)\n",
        "\n",
        "  model.compile(loss='categorical_crossentropy', optimizer='adam', metrics=['accuracy'])\n",
        "  \n",
        "  return model\n",
        "  \n",
        "build_model(kt.HyperParameters())"
      ],
      "metadata": {
        "id": "kcPsWX781L33",
        "outputId": "fdd1c7ce-12d2-420b-d3d2-203c262b491a",
        "colab": {
          "base_uri": "https://localhost:8080/"
        }
      },
      "execution_count": null,
      "outputs": [
        {
          "output_type": "execute_result",
          "data": {
            "text/plain": [
              "<keras.engine.functional.Functional at 0x7f962d764340>"
            ]
          },
          "metadata": {},
          "execution_count": 40
        }
      ]
    },
    {
      "cell_type": "code",
      "source": [
        "# tuner = kt.BayesianOptimization(\n",
        "#     hypermodel=build_model,\n",
        "#     objective='val_accuracy',\n",
        "#     max_trials=10,\n",
        "#     seed=9,\n",
        "#     overwrite=True\n",
        "# )\n",
        "\n",
        "tuner = kt.Hyperband(\n",
        "    hypermodel=build_model,\n",
        "    objective='val_accuracy',\n",
        "    max_epochs=10,\n",
        "    seed=9\n",
        ")\n",
        "\n",
        "stop_early = tf.keras.callbacks.EarlyStopping(monitor='val_loss', patience=5)\n",
        "\n",
        "tuner.search(\n",
        "    (train_x[0], train_x[1], train_x[2], train_x[3]),\n",
        "    train_y,\n",
        "    validation_data=((validation_x[0], validation_x[1], validation_x[2], validation_x[3]),\n",
        "    validation_y),\n",
        "    epochs=10,\n",
        "    callbacks=[stop_early]\n",
        ")"
      ],
      "metadata": {
        "id": "bDdEBgZA9xka",
        "outputId": "cf1a6c8b-ff20-40e0-e050-742b6595a402",
        "colab": {
          "base_uri": "https://localhost:8080/"
        }
      },
      "execution_count": null,
      "outputs": [
        {
          "output_type": "stream",
          "name": "stdout",
          "text": [
            "Trial 30 Complete [00h 10m 19s]\n",
            "val_accuracy: 0.7047386169433594\n",
            "\n",
            "Best val_accuracy So Far: 0.708244800567627\n",
            "Total elapsed time: 02h 28m 26s\n"
          ]
        }
      ]
    },
    {
      "cell_type": "code",
      "source": [
        "# best_model = tuner.get_best_models()\n",
        "best_hps=tuner.get_best_hyperparameters(num_trials=1)[0]\n",
        "best_hyperparameters = tuner.get_best_hyperparameters(1)[0]\n",
        "best_hyperparameters.values\n",
        "\n",
        "# {'units': 96,\n",
        "#  'activation': 'tanh',\n",
        "#  'rate_1': 0.1,\n",
        "#  'rate_2': 0.2,\n",
        "#  'rate_3': 0.2,\n",
        "#  'rate_4': 0.2,\n",
        "#  'tuner/epochs': 10,\n",
        "#  'tuner/initial_epoch': 0,\n",
        "#  'tuner/bracket': 0,\n",
        "#  'tuner/round': 0}\n"
      ],
      "metadata": {
        "id": "IpPgCLxIAyrC",
        "colab": {
          "base_uri": "https://localhost:8080/"
        },
        "outputId": "84981229-0a66-41d9-b315-8fec211ec846"
      },
      "execution_count": null,
      "outputs": [
        {
          "output_type": "execute_result",
          "data": {
            "text/plain": [
              "{'units': 96,\n",
              " 'activation': 'tanh',\n",
              " 'rate_1': 0.1,\n",
              " 'rate_2': 0.2,\n",
              " 'rate_3': 0.2,\n",
              " 'rate_4': 0.2,\n",
              " 'tuner/epochs': 10,\n",
              " 'tuner/initial_epoch': 0,\n",
              " 'tuner/bracket': 0,\n",
              " 'tuner/round': 0}"
            ]
          },
          "metadata": {},
          "execution_count": 56
        }
      ]
    },
    {
      "cell_type": "markdown",
      "source": [
        "###4.7 Best Model"
      ],
      "metadata": {
        "id": "4vl9_JPxubpz"
      }
    },
    {
      "cell_type": "code",
      "source": [
        "from keras.layers import Dropout, Input, Bidirectional, LSTM, average, Dense\n",
        "from keras import Model\n",
        "\n",
        "prefix_events_input = Input(shape=(PREFIX_LENGTH, 1), name='prefix_events_input')\n",
        "suffix_events_input = Input(shape=(PREFIX_LENGTH, 1), name='suffix_events_input')\n",
        "\n",
        "prefix_deltas_input = Input(shape=(PREFIX_LENGTH, 1), name='prefix_deltas_input')\n",
        "suffix_deltas_input = Input(shape=(PREFIX_LENGTH, 1), name='suffix_deltas_input')\n",
        "\n",
        "\n",
        "lstm_layer = LSTM(96)\n",
        "\n",
        "\n",
        "prefix_events_lstm = Bidirectional(lstm_layer, name='prefix_events_lstm')(prefix_events_input)\n",
        "suffix_events_lstm = Bidirectional(lstm_layer, name='suffix_events_lstm')(suffix_events_input)\n",
        "prefix_deltas_lstm = Bidirectional(lstm_layer, name='prefix_deltas_lstm')(prefix_deltas_input)\n",
        "suffix_deltas_lstm = Bidirectional(lstm_layer, name='suffix_deltas_lstm')(suffix_deltas_input)\n",
        "\n",
        "\n",
        "dropout_prefix_events = Dropout(0.1)(prefix_events_lstm)\n",
        "dropout_suffix_events = Dropout(0.2)(suffix_events_lstm)\n",
        "dropout_prefix_deltas = Dropout(0.2)(prefix_deltas_lstm)\n",
        "dropout_suffix_deltas = Dropout(0.2)(suffix_deltas_lstm)\n",
        "\n",
        "\n",
        "merged = average([dropout_prefix_events, dropout_suffix_events, dropout_prefix_deltas, dropout_suffix_deltas], name='merged')\n",
        "\n",
        "output = Dense(n_activities, activation='softmax', name='output')(merged)\n",
        "\n",
        "best_model = Model(\n",
        "    inputs=[prefix_events_input, suffix_events_input, prefix_deltas_input, suffix_deltas_input],\n",
        "    outputs=output)\n",
        "best_model.compile(loss='categorical_crossentropy', optimizer='adam', metrics=['accuracy'])\n",
        "best_model.summary()\n",
        "best_model.fit(\n",
        "    (train_x[0], train_x[1], train_x[2], train_x[3]),\n",
        "    train_y,\n",
        "    validation_data=((validation_x[0], validation_x[1], validation_x[2], validation_x[3]),\n",
        "                     validation_y), epochs=10)\n"
      ],
      "metadata": {
        "colab": {
          "base_uri": "https://localhost:8080/"
        },
        "id": "k-KcHTMMuar4",
        "outputId": "0aaf4e31-6553-42ef-ced3-fc3904f62b9c"
      },
      "execution_count": null,
      "outputs": [
        {
          "output_type": "stream",
          "name": "stdout",
          "text": [
            "Model: \"model_6\"\n",
            "__________________________________________________________________________________________________\n",
            " Layer (type)                   Output Shape         Param #     Connected to                     \n",
            "==================================================================================================\n",
            " prefix_events_input (InputLaye  [(None, 5, 1)]      0           []                               \n",
            " r)                                                                                               \n",
            "                                                                                                  \n",
            " suffix_events_input (InputLaye  [(None, 5, 1)]      0           []                               \n",
            " r)                                                                                               \n",
            "                                                                                                  \n",
            " prefix_deltas_input (InputLaye  [(None, 5, 1)]      0           []                               \n",
            " r)                                                                                               \n",
            "                                                                                                  \n",
            " suffix_deltas_input (InputLaye  [(None, 5, 1)]      0           []                               \n",
            " r)                                                                                               \n",
            "                                                                                                  \n",
            " prefix_events_lstm (Bidirectio  (None, 192)         75264       ['prefix_events_input[0][0]']    \n",
            " nal)                                                                                             \n",
            "                                                                                                  \n",
            " suffix_events_lstm (Bidirectio  (None, 192)         75264       ['suffix_events_input[0][0]']    \n",
            " nal)                                                                                             \n",
            "                                                                                                  \n",
            " prefix_deltas_lstm (Bidirectio  (None, 192)         75264       ['prefix_deltas_input[0][0]']    \n",
            " nal)                                                                                             \n",
            "                                                                                                  \n",
            " suffix_deltas_lstm (Bidirectio  (None, 192)         75264       ['suffix_deltas_input[0][0]']    \n",
            " nal)                                                                                             \n",
            "                                                                                                  \n",
            " dropout_24 (Dropout)           (None, 192)          0           ['prefix_events_lstm[0][0]']     \n",
            "                                                                                                  \n",
            " dropout_25 (Dropout)           (None, 192)          0           ['suffix_events_lstm[0][0]']     \n",
            "                                                                                                  \n",
            " dropout_26 (Dropout)           (None, 192)          0           ['prefix_deltas_lstm[0][0]']     \n",
            "                                                                                                  \n",
            " dropout_27 (Dropout)           (None, 192)          0           ['suffix_deltas_lstm[0][0]']     \n",
            "                                                                                                  \n",
            " merged (Average)               (None, 192)          0           ['dropout_24[0][0]',             \n",
            "                                                                  'dropout_25[0][0]',             \n",
            "                                                                  'dropout_26[0][0]',             \n",
            "                                                                  'dropout_27[0][0]']             \n",
            "                                                                                                  \n",
            " output (Dense)                 (None, 10)           1930        ['merged[0][0]']                 \n",
            "                                                                                                  \n",
            "==================================================================================================\n",
            "Total params: 302,986\n",
            "Trainable params: 302,986\n",
            "Non-trainable params: 0\n",
            "__________________________________________________________________________________________________\n",
            "Epoch 1/10\n",
            "850/850 [==============================] - 37s 22ms/step - loss: 0.3000 - accuracy: 0.9204 - val_loss: 0.1132 - val_accuracy: 0.9663\n",
            "Epoch 2/10\n",
            "850/850 [==============================] - 16s 19ms/step - loss: 0.0888 - accuracy: 0.9721 - val_loss: 0.0638 - val_accuracy: 0.9787\n",
            "Epoch 3/10\n",
            "850/850 [==============================] - 15s 18ms/step - loss: 0.0672 - accuracy: 0.9779 - val_loss: 0.0543 - val_accuracy: 0.9825\n",
            "Epoch 4/10\n",
            "850/850 [==============================] - 15s 18ms/step - loss: 0.0571 - accuracy: 0.9804 - val_loss: 0.0516 - val_accuracy: 0.9831\n",
            "Epoch 5/10\n",
            "850/850 [==============================] - 15s 18ms/step - loss: 0.0526 - accuracy: 0.9816 - val_loss: 0.0501 - val_accuracy: 0.9818\n",
            "Epoch 6/10\n",
            "850/850 [==============================] - 15s 18ms/step - loss: 0.0818 - accuracy: 0.9712 - val_loss: 0.0599 - val_accuracy: 0.9775\n",
            "Epoch 7/10\n",
            "850/850 [==============================] - 15s 17ms/step - loss: 0.0556 - accuracy: 0.9804 - val_loss: 0.0493 - val_accuracy: 0.9816\n",
            "Epoch 8/10\n",
            "850/850 [==============================] - 15s 18ms/step - loss: 0.0501 - accuracy: 0.9814 - val_loss: 0.0480 - val_accuracy: 0.9825\n",
            "Epoch 9/10\n",
            "850/850 [==============================] - 15s 17ms/step - loss: 0.0467 - accuracy: 0.9826 - val_loss: 0.0470 - val_accuracy: 0.9832\n",
            "Epoch 10/10\n",
            "850/850 [==============================] - 20s 24ms/step - loss: 0.0461 - accuracy: 0.9816 - val_loss: 0.1088 - val_accuracy: 0.9644\n"
          ]
        },
        {
          "output_type": "execute_result",
          "data": {
            "text/plain": [
              "<keras.callbacks.History at 0x7f0207ff2f40>"
            ]
          },
          "metadata": {},
          "execution_count": 252
        }
      ]
    },
    {
      "cell_type": "markdown",
      "source": [
        "##Section 5: Evaluation and Conformance Checking"
      ],
      "metadata": {
        "id": "aNoGbrOXPXlY"
      }
    },
    {
      "cell_type": "markdown",
      "source": [
        "###5.0"
      ],
      "metadata": {
        "id": "Ly1fbKzhFG9_"
      }
    },
    {
      "cell_type": "code",
      "source": [
        "def evaluate(predictions, verbose=False):\n",
        "  correct = 0 \n",
        "  incorrect = 0\n",
        "  for i in range(len(test_targets)):\n",
        "    prediction = np.argmax(predictions[i])\n",
        "    if int(prediction) == int(test_targets[i]):\n",
        "      correct += 1\n",
        "    else:\n",
        "      if verbose:\n",
        "        print(f\"predicted : {prediction}; expected : {test_targets[i]}\")\n",
        "      incorrect += 1\n",
        "\n",
        "\n",
        "  accuracy = correct/(correct + incorrect)\n",
        "  return accuracy"
      ],
      "metadata": {
        "id": "eY7I97Mtgc0o"
      },
      "execution_count": 49,
      "outputs": []
    },
    {
      "cell_type": "code",
      "source": [
        "def categoricalConfusionMatrix(predictions):\n",
        " activities = list(decode_activity.values())\n",
        "#  df = pd.DataFrame()\n",
        " for activity in activities:\n",
        "  #  initialise true and false positives and negatives\n",
        "   tp, tn, fp, fn = 0,0,0,0\n",
        "   activity_value = encode_activity.get(activity)\n",
        "   for i in range(len(test_targets)):\n",
        "     prediction = np.argmax(predictions[i])\n",
        "\n",
        "     if int(test_targets[i]) == int(activity_value):\n",
        "       #  true positive\n",
        "       if int(prediction) == int(test_targets[i]):\n",
        "         tp += 1\n",
        "       # false negative\n",
        "       else:\n",
        "         fn += 1\n",
        "     else:\n",
        "       if int(prediction) == int(test_targets[i]):\n",
        "         tn +=1\n",
        "       else:\n",
        "         fp +=1\n",
        "\n",
        "   print(f'{activity}:\\n true positives: {tp}\\n false positives: {fp}\\n true negatives: {tn}\\n false negatives: {fn}')\n",
        "   try:\n",
        "    recall = tp/(tp+fn)\n",
        "    precision = tp/(tp+fp)\n",
        "    f1 = 2*(precision * recall)/(precision+recall)\n",
        "   except ZeroDivisionError as e:\n",
        "     print(e)  \n",
        "   print(f'recall = {recall}\\n precision = {precision}\\n f1 score = {f1}')\n",
        "   \n",
        "\n",
        "\n",
        "\n",
        "\n",
        "\n",
        "     \n",
        "\n",
        "\n"
      ],
      "metadata": {
        "id": "gkbvGKFw95FM"
      },
      "execution_count": null,
      "outputs": []
    },
    {
      "cell_type": "markdown",
      "source": [
        "###5.1 Original Models"
      ],
      "metadata": {
        "id": "QZ4Wmq9ZvPzw"
      }
    },
    {
      "cell_type": "code",
      "source": [
        "# prefix-LSTM\n",
        "predictions_prefix = prefix_LSTM.predict(test_x[0])\n",
        "evaluate(predictions_prefix)"
      ],
      "metadata": {
        "id": "kNtmthRhlzUT",
        "outputId": "5d369e3c-e67e-4bfe-fa2a-47116f052845",
        "colab": {
          "base_uri": "https://localhost:8080/"
        }
      },
      "execution_count": null,
      "outputs": [
        {
          "output_type": "stream",
          "name": "stdout",
          "text": [
            "43/43 [==============================] - 0s 3ms/step\n"
          ]
        },
        {
          "output_type": "execute_result",
          "data": {
            "text/plain": [
              "0.4670087976539589"
            ]
          },
          "metadata": {},
          "execution_count": 44
        }
      ]
    },
    {
      "cell_type": "code",
      "source": [
        "# suffix-LSTM\n",
        "predictions_suffix = suffix_LSTM.predict(test_x[1])\n",
        "evaluate(predictions_suffix)"
      ],
      "metadata": {
        "id": "uHygv6PVmHwN",
        "outputId": "ad689db8-5f08-4e68-bbf0-1d035685cac0",
        "colab": {
          "base_uri": "https://localhost:8080/"
        }
      },
      "execution_count": null,
      "outputs": [
        {
          "output_type": "stream",
          "name": "stdout",
          "text": [
            "43/43 [==============================] - 0s 3ms/step\n"
          ]
        },
        {
          "output_type": "execute_result",
          "data": {
            "text/plain": [
              "0.5681818181818182"
            ]
          },
          "metadata": {},
          "execution_count": 45
        }
      ]
    },
    {
      "cell_type": "code",
      "source": [
        "# averaging outputs\n",
        "predictions = []\n",
        "for p in zip(predictions_prefix, predictions_suffix):\n",
        " \n",
        "  arr = []\n",
        "  for i in range(0,4):\n",
        "    arr.append((p[0][i]+p[1][i])/2)\n",
        "  predictions += [arr]\n",
        "\n",
        "predictions = np.array(predictions)\n",
        "\n",
        "evaluate(predictions)"
      ],
      "metadata": {
        "id": "C7lXTArfl8QC",
        "outputId": "b3676a68-7ea9-4d26-e735-44f454d86fef",
        "colab": {
          "base_uri": "https://localhost:8080/",
          "height": 235
        }
      },
      "execution_count": 70,
      "outputs": [
        {
          "output_type": "error",
          "ename": "NameError",
          "evalue": "ignored",
          "traceback": [
            "\u001b[0;31m---------------------------------------------------------------------------\u001b[0m",
            "\u001b[0;31mNameError\u001b[0m                                 Traceback (most recent call last)",
            "\u001b[0;32m<ipython-input-70-f0e8e8171203>\u001b[0m in \u001b[0;36m<cell line: 3>\u001b[0;34m()\u001b[0m\n\u001b[1;32m      1\u001b[0m \u001b[0;31m# averaging outputs\u001b[0m\u001b[0;34m\u001b[0m\u001b[0;34m\u001b[0m\u001b[0m\n\u001b[1;32m      2\u001b[0m \u001b[0mpredictions\u001b[0m \u001b[0;34m=\u001b[0m \u001b[0;34m[\u001b[0m\u001b[0;34m]\u001b[0m\u001b[0;34m\u001b[0m\u001b[0;34m\u001b[0m\u001b[0m\n\u001b[0;32m----> 3\u001b[0;31m \u001b[0;32mfor\u001b[0m \u001b[0mp\u001b[0m \u001b[0;32min\u001b[0m \u001b[0mzip\u001b[0m\u001b[0;34m(\u001b[0m\u001b[0mpredictions_prefix\u001b[0m\u001b[0;34m,\u001b[0m \u001b[0mpredictions_suffix\u001b[0m\u001b[0;34m)\u001b[0m\u001b[0;34m:\u001b[0m\u001b[0;34m\u001b[0m\u001b[0;34m\u001b[0m\u001b[0m\n\u001b[0m\u001b[1;32m      4\u001b[0m \u001b[0;34m\u001b[0m\u001b[0m\n\u001b[1;32m      5\u001b[0m   \u001b[0marr\u001b[0m \u001b[0;34m=\u001b[0m \u001b[0;34m[\u001b[0m\u001b[0;34m]\u001b[0m\u001b[0;34m\u001b[0m\u001b[0;34m\u001b[0m\u001b[0m\n",
            "\u001b[0;31mNameError\u001b[0m: name 'predictions_prefix' is not defined"
          ]
        }
      ]
    },
    {
      "cell_type": "code",
      "source": [
        "# bi-LSTM with activities\n",
        "predictions_bi = bi_LSTM.predict([test_x[0], test_x[1]])\n",
        "evaluate(predictions_bi)"
      ],
      "metadata": {
        "colab": {
          "base_uri": "https://localhost:8080/"
        },
        "id": "NeZBGY_TWXPL",
        "outputId": "68c66682-129b-4dae-bdb4-a577b3ee288f"
      },
      "execution_count": 169,
      "outputs": [
        {
          "output_type": "stream",
          "name": "stderr",
          "text": [
            "WARNING:tensorflow:5 out of the last 13 calls to <function Model.make_predict_function.<locals>.predict_function at 0x7fb5a9f990d0> triggered tf.function retracing. Tracing is expensive and the excessive number of tracings could be due to (1) creating @tf.function repeatedly in a loop, (2) passing tensors with different shapes, (3) passing Python objects instead of tensors. For (1), please define your @tf.function outside of the loop. For (2), @tf.function has reduce_retracing=True option that can avoid unnecessary retracing. For (3), please refer to https://www.tensorflow.org/guide/function#controlling_retracing and https://www.tensorflow.org/api_docs/python/tf/function for  more details.\n"
          ]
        },
        {
          "output_type": "stream",
          "name": "stdout",
          "text": [
            "25/25 [==============================] - 2s 5ms/step\n"
          ]
        },
        {
          "output_type": "execute_result",
          "data": {
            "text/plain": [
              "1.0"
            ]
          },
          "metadata": {},
          "execution_count": 169
        }
      ]
    },
    {
      "cell_type": "code",
      "source": [
        "# bi-LSTM with time deltas\n",
        "predictions_td = td_LSTM.predict([test_x[2], test_x[3]])\n",
        "evaluate(predictions_td)\n"
      ],
      "metadata": {
        "id": "cHLWdwqrmAQC",
        "outputId": "159c4f6d-5744-412a-dd7d-aba0c2a6a54f",
        "colab": {
          "base_uri": "https://localhost:8080/"
        }
      },
      "execution_count": 170,
      "outputs": [
        {
          "output_type": "stream",
          "name": "stdout",
          "text": [
            "25/25 [==============================] - 1s 3ms/step\n"
          ]
        },
        {
          "output_type": "execute_result",
          "data": {
            "text/plain": [
              "1.0"
            ]
          },
          "metadata": {},
          "execution_count": 170
        }
      ]
    },
    {
      "cell_type": "code",
      "source": [
        "# bi-LSTM with activities and time deltas 1\n",
        "predictions_bi_td = bi_LSTM_td.predict([test_x[0], test_x[1], test_x[2], test_x[3]])\n",
        "evaluate(predictions_bi_td)"
      ],
      "metadata": {
        "id": "4mZtYK3WRskJ",
        "outputId": "a4f1c0f4-43e7-49f3-fe62-fcede1acec8e",
        "colab": {
          "base_uri": "https://localhost:8080/"
        }
      },
      "execution_count": 171,
      "outputs": [
        {
          "output_type": "stream",
          "name": "stdout",
          "text": [
            "25/25 [==============================] - 1s 4ms/step\n"
          ]
        },
        {
          "output_type": "execute_result",
          "data": {
            "text/plain": [
              "1.0"
            ]
          },
          "metadata": {},
          "execution_count": 171
        }
      ]
    },
    {
      "cell_type": "code",
      "source": [
        "# bi-LSTM with activities and time deltas 2\n",
        "predictions_bi_td_2 = bi_LSTM_td_2.predict([test_x[0], test_x[1], test_x[2], test_x[3]])\n",
        "evaluate(predictions_bi_td_2,verbose=False)"
      ],
      "metadata": {
        "colab": {
          "base_uri": "https://localhost:8080/"
        },
        "id": "BdxYKINyWvAK",
        "outputId": "c649fa5d-c251-4ca0-a76d-e5f84fa3ae6e"
      },
      "execution_count": 172,
      "outputs": [
        {
          "output_type": "stream",
          "name": "stdout",
          "text": [
            "25/25 [==============================] - 3s 6ms/step\n"
          ]
        },
        {
          "output_type": "execute_result",
          "data": {
            "text/plain": [
              "1.0"
            ]
          },
          "metadata": {},
          "execution_count": 172
        }
      ]
    },
    {
      "cell_type": "markdown",
      "source": [
        "###5.2 Best Model"
      ],
      "metadata": {
        "id": "3O7YMaQYvVC-"
      }
    },
    {
      "cell_type": "code",
      "source": [
        "# bi-LSTM with activities and time deltas 2\n",
        "predictions_best_model = best_model.predict([test_x[0], test_x[1], test_x[2], test_x[3]])\n",
        "evaluate(predictions_best_model,verbose=False)"
      ],
      "metadata": {
        "id": "dDH_vlp6vZq6",
        "outputId": "70d31514-9980-4ca2-af49-a43fd23cff56",
        "colab": {
          "base_uri": "https://localhost:8080/"
        }
      },
      "execution_count": null,
      "outputs": [
        {
          "output_type": "stream",
          "name": "stdout",
          "text": [
            "266/266 [==============================] - 5s 6ms/step\n"
          ]
        },
        {
          "output_type": "execute_result",
          "data": {
            "text/plain": [
              "0.9635294117647059"
            ]
          },
          "metadata": {},
          "execution_count": 255
        }
      ]
    },
    {
      "cell_type": "code",
      "source": [
        "categoricalConfusionMatrix(predictions_best_model)"
      ],
      "metadata": {
        "id": "Feu11aP2_JpH",
        "outputId": "91e7bade-cafd-4287-d323-9f62777c0d27",
        "colab": {
          "base_uri": "https://localhost:8080/"
        }
      },
      "execution_count": null,
      "outputs": [
        {
          "output_type": "stream",
          "name": "stdout",
          "text": [
            "Admitted:\n",
            " true positives: 1602\n",
            " false positives: 310\n",
            " true negatives: 6588\n",
            " false negatives: 0\n",
            "recall = 1.0\n",
            " precision = 0.8378661087866108\n",
            " f1 score = 0.9117814456459874\n",
            "Entered ICU:\n",
            " true positives: 1494\n",
            " false positives: 291\n",
            " true negatives: 6696\n",
            " false negatives: 19\n",
            "recall = 0.9874421678783873\n",
            " precision = 0.8369747899159664\n",
            " f1 score = 0.9060036385688296\n",
            "Transfer:\n",
            " true positives: 1718\n",
            " false positives: 151\n",
            " true negatives: 6472\n",
            " false negatives: 159\n",
            "recall = 0.9152903569525839\n",
            " precision = 0.9192081326912788\n",
            " f1 score = 0.9172450613988253\n",
            "Left ICU:\n",
            " true positives: 1567\n",
            " false positives: 303\n",
            " true negatives: 6623\n",
            " false negatives: 7\n",
            "recall = 0.9955527318932655\n",
            " precision = 0.8379679144385027\n",
            " f1 score = 0.9099883855981418\n",
            "Discharged:\n",
            " true positives: 1515\n",
            " false positives: 310\n",
            " true negatives: 6675\n",
            " false negatives: 0\n",
            "recall = 1.0\n",
            " precision = 0.8301369863013699\n",
            " f1 score = 0.907185628742515\n",
            "Peripheral Lines:\n",
            " true positives: 229\n",
            " false positives: 258\n",
            " true negatives: 7961\n",
            " false negatives: 52\n",
            "recall = 0.8149466192170819\n",
            " precision = 0.4702258726899384\n",
            " f1 score = 0.5963541666666667\n",
            "Procedures:\n",
            " true positives: 64\n",
            " false positives: 263\n",
            " true negatives: 8126\n",
            " false negatives: 47\n",
            "recall = 0.5765765765765766\n",
            " precision = 0.19571865443425077\n",
            " f1 score = 0.2922374429223744\n",
            "Imaging:\n",
            " true positives: 0\n",
            " false positives: 296\n",
            " true negatives: 8190\n",
            " false negatives: 14\n",
            "float division by zero\n",
            "recall = 0.0\n",
            " precision = 0.0\n",
            " f1 score = 0.2922374429223744\n",
            "Invasive Lines:\n",
            " true positives: 1\n",
            " false positives: 298\n",
            " true negatives: 8189\n",
            " false negatives: 12\n",
            "recall = 0.07692307692307693\n",
            " precision = 0.0033444816053511705\n",
            " f1 score = 0.006410256410256411\n"
          ]
        }
      ]
    }
  ],
  "metadata": {
    "kernelspec": {
      "display_name": "Python 3",
      "language": "python",
      "name": "python3"
    },
    "language_info": {
      "codemirror_mode": {
        "name": "ipython",
        "version": 3
      },
      "file_extension": ".py",
      "mimetype": "text/x-python",
      "name": "python",
      "nbconvert_exporter": "python",
      "pygments_lexer": "ipython3",
      "version": "3.10.2"
    },
    "orig_nbformat": 4,
    "vscode": {
      "interpreter": {
        "hash": "668626f72d98c3d20278a861d4c9cd1e9608e85361f1e74d685459c6ce5f80f9"
      }
    },
    "colab": {
      "provenance": [],
      "include_colab_link": true
    },
    "accelerator": "GPU",
    "gpuClass": "standard"
  },
  "nbformat": 4,
  "nbformat_minor": 0
}