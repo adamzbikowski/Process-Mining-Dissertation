{
  "cells": [
    {
      "cell_type": "markdown",
      "metadata": {
        "id": "view-in-github",
        "colab_type": "text"
      },
      "source": [
        "<a href=\"https://colab.research.google.com/github/adamzbikowski/Process-Mining-Dissertation/blob/main/activity_pipeline.ipynb\" target=\"_parent\"><img src=\"https://colab.research.google.com/assets/colab-badge.svg\" alt=\"Open In Colab\"/></a>"
      ]
    },
    {
      "cell_type": "markdown",
      "metadata": {
        "id": "_vJIqfLeCjHP"
      },
      "source": [
        "# Pipeline 1: predicting missing values for activity"
      ]
    },
    {
      "cell_type": "markdown",
      "source": [
        "##Section 0: Customisation"
      ],
      "metadata": {
        "id": "LZGZm2vxOFBT"
      }
    },
    {
      "cell_type": "markdown",
      "source": [
        "**Note on usage:**\n",
        "To customise the pipeline, only alter the parameters in this section."
      ],
      "metadata": {
        "id": "uuEFUnhyPLSz"
      }
    },
    {
      "cell_type": "code",
      "source": [
        "# The following parameters can be customised:\n",
        "\n",
        "# change depending on which branch the queries have been pushed to\n",
        "BRANCH = \"sql-queries\" \n",
        "\n",
        "# change this to change which query is being used\n",
        "QUERY_NAME = \"el_5.sql\"\n",
        "\n",
        "# change to alter the number of random traces being selected\n",
        "# set value to None in order to use the full dataset\n",
        "NUM_TRACES = 1000\n",
        "\n",
        "# change to alter the prefix/suffix length\n",
        "PREFIX_LENGTH = 5\n",
        "\n",
        "# change to alter the size of the test and validation sets\n",
        "TEST_SIZE = 0.2\n",
        "VALIDATION_SIZE = 0.2\n",
        "\n",
        "# change to tune hyperparameters\n",
        "\n",
        "\n",
        "\n",
        "\n"
      ],
      "metadata": {
        "id": "7SRLZ8SUOEMp"
      },
      "execution_count": 170,
      "outputs": []
    },
    {
      "cell_type": "markdown",
      "metadata": {
        "id": "L27GXRjHCjHV"
      },
      "source": [
        "## Section 1: Loading event log"
      ]
    },
    {
      "cell_type": "code",
      "source": [
        "# installing prerequisites\n",
        "# certain packages are not installed by default on google colab\n",
        "!pip install pm4py\n"
      ],
      "metadata": {
        "colab": {
          "base_uri": "https://localhost:8080/"
        },
        "id": "JtmZ3GBVDj-s",
        "outputId": "6fd1eeb1-c6f5-4ef5-9c67-3a8e043e2b1e"
      },
      "execution_count": 8,
      "outputs": [
        {
          "output_type": "stream",
          "name": "stdout",
          "text": [
            "Looking in indexes: https://pypi.org/simple, https://us-python.pkg.dev/colab-wheels/public/simple/\n",
            "Requirement already satisfied: pm4py in /usr/local/lib/python3.8/dist-packages (2.5.2)\n",
            "Requirement already satisfied: matplotlib in /usr/local/lib/python3.8/dist-packages (from pm4py) (3.5.3)\n",
            "Requirement already satisfied: numpy in /usr/local/lib/python3.8/dist-packages (from pm4py) (1.22.4)\n",
            "Requirement already satisfied: scipy in /usr/local/lib/python3.8/dist-packages (from pm4py) (1.7.3)\n",
            "Requirement already satisfied: networkx in /usr/local/lib/python3.8/dist-packages (from pm4py) (3.0)\n",
            "Requirement already satisfied: lxml in /usr/local/lib/python3.8/dist-packages (from pm4py) (4.9.2)\n",
            "Requirement already satisfied: tqdm in /usr/local/lib/python3.8/dist-packages (from pm4py) (4.64.1)\n",
            "Requirement already satisfied: pytz in /usr/local/lib/python3.8/dist-packages (from pm4py) (2022.7.1)\n",
            "Requirement already satisfied: intervaltree in /usr/local/lib/python3.8/dist-packages (from pm4py) (2.1.0)\n",
            "Requirement already satisfied: pydotplus in /usr/local/lib/python3.8/dist-packages (from pm4py) (2.0.2)\n",
            "Requirement already satisfied: graphviz in /usr/local/lib/python3.8/dist-packages (from pm4py) (0.10.1)\n",
            "Requirement already satisfied: pandas in /usr/local/lib/python3.8/dist-packages (from pm4py) (1.3.5)\n",
            "Requirement already satisfied: stringdist in /usr/local/lib/python3.8/dist-packages (from pm4py) (1.0.9)\n",
            "Requirement already satisfied: cvxopt in /usr/local/lib/python3.8/dist-packages (from pm4py) (1.3.0)\n",
            "Requirement already satisfied: deprecation in /usr/local/lib/python3.8/dist-packages (from pm4py) (2.1.0)\n",
            "Requirement already satisfied: packaging in /usr/local/lib/python3.8/dist-packages (from deprecation->pm4py) (23.0)\n",
            "Requirement already satisfied: sortedcontainers in /usr/local/lib/python3.8/dist-packages (from intervaltree->pm4py) (2.4.0)\n",
            "Requirement already satisfied: fonttools>=4.22.0 in /usr/local/lib/python3.8/dist-packages (from matplotlib->pm4py) (4.38.0)\n",
            "Requirement already satisfied: pillow>=6.2.0 in /usr/local/lib/python3.8/dist-packages (from matplotlib->pm4py) (7.1.2)\n",
            "Requirement already satisfied: kiwisolver>=1.0.1 in /usr/local/lib/python3.8/dist-packages (from matplotlib->pm4py) (1.4.4)\n",
            "Requirement already satisfied: python-dateutil>=2.7 in /usr/local/lib/python3.8/dist-packages (from matplotlib->pm4py) (2.8.2)\n",
            "Requirement already satisfied: pyparsing>=2.2.1 in /usr/local/lib/python3.8/dist-packages (from matplotlib->pm4py) (3.0.9)\n",
            "Requirement already satisfied: cycler>=0.10 in /usr/local/lib/python3.8/dist-packages (from matplotlib->pm4py) (0.11.0)\n",
            "Requirement already satisfied: six>=1.5 in /usr/local/lib/python3.8/dist-packages (from python-dateutil>=2.7->matplotlib->pm4py) (1.15.0)\n"
          ]
        }
      ]
    },
    {
      "cell_type": "code",
      "source": [
        "from google.colab import auth\n",
        "auth.authenticate_user()"
      ],
      "metadata": {
        "id": "IrTL5G7bD7W6"
      },
      "execution_count": 9,
      "outputs": []
    },
    {
      "cell_type": "code",
      "source": [
        "# this assumes that the user has access to the mimic-iii dataset \n",
        "# replace project name to the project containing mimic-iii\n",
        "project_name = \"processmining-367815\" \n",
        "from google.cloud import bigquery\n",
        "client = bigquery.Client(project=project_name)"
      ],
      "metadata": {
        "id": "-aNc-OmPEAZq"
      },
      "execution_count": 10,
      "outputs": []
    },
    {
      "cell_type": "code",
      "source": [
        "import requests\n",
        "\n",
        "# read a query from the github repository\n",
        "url = f\"https://raw.githubusercontent.com/adamzbikowski/Process-Mining-Dissertation/{BRANCH}/sql_queries/{QUERY_NAME}\"\n",
        "query_bytes = requests.get(url).content\n",
        "\n",
        "# we must now decode this to turn the query into a string \n",
        "query = query_bytes.decode(\"utf-8\")"
      ],
      "metadata": {
        "id": "cLK5sJ_qwY5W"
      },
      "execution_count": 11,
      "outputs": []
    },
    {
      "cell_type": "code",
      "execution_count": 12,
      "metadata": {
        "colab": {
          "base_uri": "https://localhost:8080/",
          "height": 0
        },
        "id": "CmSHODCZCjHW",
        "outputId": "d8c8ebcb-d787-40d2-e8fb-4d2e06eb9138"
      },
      "outputs": [
        {
          "output_type": "execute_result",
          "data": {
            "text/plain": [
              "        patient  activity           timestamp\n",
              "0        105764  Transfer 2134-03-01 00:38:40\n",
              "1        112013  Transfer 2187-02-12 00:42:40\n",
              "2        150193  Transfer 2192-06-01 01:13:39\n",
              "3        144980  Transfer 2169-08-14 00:30:19\n",
              "4        122192  Transfer 2120-04-15 00:32:00\n",
              "...         ...       ...                 ...\n",
              "230665   178246  Admitted 2134-10-29 07:15:00\n",
              "230666   148472  Admitted 2106-07-12 18:52:00\n",
              "230667   156806  Admitted 2123-09-08 06:45:00\n",
              "230668   100375  Admitted 2129-05-02 00:12:00\n",
              "230669   181473  Admitted 2145-11-22 20:18:00\n",
              "\n",
              "[230670 rows x 3 columns]"
            ],
            "text/html": [
              "\n",
              "  <div id=\"df-a6552fb2-4ad9-4910-a096-2e53eb945ac1\">\n",
              "    <div class=\"colab-df-container\">\n",
              "      <div>\n",
              "<style scoped>\n",
              "    .dataframe tbody tr th:only-of-type {\n",
              "        vertical-align: middle;\n",
              "    }\n",
              "\n",
              "    .dataframe tbody tr th {\n",
              "        vertical-align: top;\n",
              "    }\n",
              "\n",
              "    .dataframe thead th {\n",
              "        text-align: right;\n",
              "    }\n",
              "</style>\n",
              "<table border=\"1\" class=\"dataframe\">\n",
              "  <thead>\n",
              "    <tr style=\"text-align: right;\">\n",
              "      <th></th>\n",
              "      <th>patient</th>\n",
              "      <th>activity</th>\n",
              "      <th>timestamp</th>\n",
              "    </tr>\n",
              "  </thead>\n",
              "  <tbody>\n",
              "    <tr>\n",
              "      <th>0</th>\n",
              "      <td>105764</td>\n",
              "      <td>Transfer</td>\n",
              "      <td>2134-03-01 00:38:40</td>\n",
              "    </tr>\n",
              "    <tr>\n",
              "      <th>1</th>\n",
              "      <td>112013</td>\n",
              "      <td>Transfer</td>\n",
              "      <td>2187-02-12 00:42:40</td>\n",
              "    </tr>\n",
              "    <tr>\n",
              "      <th>2</th>\n",
              "      <td>150193</td>\n",
              "      <td>Transfer</td>\n",
              "      <td>2192-06-01 01:13:39</td>\n",
              "    </tr>\n",
              "    <tr>\n",
              "      <th>3</th>\n",
              "      <td>144980</td>\n",
              "      <td>Transfer</td>\n",
              "      <td>2169-08-14 00:30:19</td>\n",
              "    </tr>\n",
              "    <tr>\n",
              "      <th>4</th>\n",
              "      <td>122192</td>\n",
              "      <td>Transfer</td>\n",
              "      <td>2120-04-15 00:32:00</td>\n",
              "    </tr>\n",
              "    <tr>\n",
              "      <th>...</th>\n",
              "      <td>...</td>\n",
              "      <td>...</td>\n",
              "      <td>...</td>\n",
              "    </tr>\n",
              "    <tr>\n",
              "      <th>230665</th>\n",
              "      <td>178246</td>\n",
              "      <td>Admitted</td>\n",
              "      <td>2134-10-29 07:15:00</td>\n",
              "    </tr>\n",
              "    <tr>\n",
              "      <th>230666</th>\n",
              "      <td>148472</td>\n",
              "      <td>Admitted</td>\n",
              "      <td>2106-07-12 18:52:00</td>\n",
              "    </tr>\n",
              "    <tr>\n",
              "      <th>230667</th>\n",
              "      <td>156806</td>\n",
              "      <td>Admitted</td>\n",
              "      <td>2123-09-08 06:45:00</td>\n",
              "    </tr>\n",
              "    <tr>\n",
              "      <th>230668</th>\n",
              "      <td>100375</td>\n",
              "      <td>Admitted</td>\n",
              "      <td>2129-05-02 00:12:00</td>\n",
              "    </tr>\n",
              "    <tr>\n",
              "      <th>230669</th>\n",
              "      <td>181473</td>\n",
              "      <td>Admitted</td>\n",
              "      <td>2145-11-22 20:18:00</td>\n",
              "    </tr>\n",
              "  </tbody>\n",
              "</table>\n",
              "<p>230670 rows × 3 columns</p>\n",
              "</div>\n",
              "      <button class=\"colab-df-convert\" onclick=\"convertToInteractive('df-a6552fb2-4ad9-4910-a096-2e53eb945ac1')\"\n",
              "              title=\"Convert this dataframe to an interactive table.\"\n",
              "              style=\"display:none;\">\n",
              "        \n",
              "  <svg xmlns=\"http://www.w3.org/2000/svg\" height=\"24px\"viewBox=\"0 0 24 24\"\n",
              "       width=\"24px\">\n",
              "    <path d=\"M0 0h24v24H0V0z\" fill=\"none\"/>\n",
              "    <path d=\"M18.56 5.44l.94 2.06.94-2.06 2.06-.94-2.06-.94-.94-2.06-.94 2.06-2.06.94zm-11 1L8.5 8.5l.94-2.06 2.06-.94-2.06-.94L8.5 2.5l-.94 2.06-2.06.94zm10 10l.94 2.06.94-2.06 2.06-.94-2.06-.94-.94-2.06-.94 2.06-2.06.94z\"/><path d=\"M17.41 7.96l-1.37-1.37c-.4-.4-.92-.59-1.43-.59-.52 0-1.04.2-1.43.59L10.3 9.45l-7.72 7.72c-.78.78-.78 2.05 0 2.83L4 21.41c.39.39.9.59 1.41.59.51 0 1.02-.2 1.41-.59l7.78-7.78 2.81-2.81c.8-.78.8-2.07 0-2.86zM5.41 20L4 18.59l7.72-7.72 1.47 1.35L5.41 20z\"/>\n",
              "  </svg>\n",
              "      </button>\n",
              "      \n",
              "  <style>\n",
              "    .colab-df-container {\n",
              "      display:flex;\n",
              "      flex-wrap:wrap;\n",
              "      gap: 12px;\n",
              "    }\n",
              "\n",
              "    .colab-df-convert {\n",
              "      background-color: #E8F0FE;\n",
              "      border: none;\n",
              "      border-radius: 50%;\n",
              "      cursor: pointer;\n",
              "      display: none;\n",
              "      fill: #1967D2;\n",
              "      height: 32px;\n",
              "      padding: 0 0 0 0;\n",
              "      width: 32px;\n",
              "    }\n",
              "\n",
              "    .colab-df-convert:hover {\n",
              "      background-color: #E2EBFA;\n",
              "      box-shadow: 0px 1px 2px rgba(60, 64, 67, 0.3), 0px 1px 3px 1px rgba(60, 64, 67, 0.15);\n",
              "      fill: #174EA6;\n",
              "    }\n",
              "\n",
              "    [theme=dark] .colab-df-convert {\n",
              "      background-color: #3B4455;\n",
              "      fill: #D2E3FC;\n",
              "    }\n",
              "\n",
              "    [theme=dark] .colab-df-convert:hover {\n",
              "      background-color: #434B5C;\n",
              "      box-shadow: 0px 1px 3px 1px rgba(0, 0, 0, 0.15);\n",
              "      filter: drop-shadow(0px 1px 2px rgba(0, 0, 0, 0.3));\n",
              "      fill: #FFFFFF;\n",
              "    }\n",
              "  </style>\n",
              "\n",
              "      <script>\n",
              "        const buttonEl =\n",
              "          document.querySelector('#df-a6552fb2-4ad9-4910-a096-2e53eb945ac1 button.colab-df-convert');\n",
              "        buttonEl.style.display =\n",
              "          google.colab.kernel.accessAllowed ? 'block' : 'none';\n",
              "\n",
              "        async function convertToInteractive(key) {\n",
              "          const element = document.querySelector('#df-a6552fb2-4ad9-4910-a096-2e53eb945ac1');\n",
              "          const dataTable =\n",
              "            await google.colab.kernel.invokeFunction('convertToInteractive',\n",
              "                                                     [key], {});\n",
              "          if (!dataTable) return;\n",
              "\n",
              "          const docLinkHtml = 'Like what you see? Visit the ' +\n",
              "            '<a target=\"_blank\" href=https://colab.research.google.com/notebooks/data_table.ipynb>data table notebook</a>'\n",
              "            + ' to learn more about interactive tables.';\n",
              "          element.innerHTML = '';\n",
              "          dataTable['output_type'] = 'display_data';\n",
              "          await google.colab.output.renderOutput(dataTable, element);\n",
              "          const docLink = document.createElement('div');\n",
              "          docLink.innerHTML = docLinkHtml;\n",
              "          element.appendChild(docLink);\n",
              "        }\n",
              "      </script>\n",
              "    </div>\n",
              "  </div>\n",
              "  "
            ]
          },
          "metadata": {},
          "execution_count": 12
        }
      ],
      "source": [
        "import pandas as pd\n",
        "\n",
        "# loading event log from mimic-iii using bigQuery\n",
        "event_log = client.query(query).to_dataframe()\n",
        "# convert timestamp from object to datetime64\n",
        "event_log[\"timestamp\"] = pd.to_datetime(event_log[\"timestamp\"])\n",
        "event_log\n"
      ]
    },
    {
      "cell_type": "markdown",
      "metadata": {
        "id": "E5nBYFkHCjHY"
      },
      "source": [
        "## Section 2: Process Discovery"
      ]
    },
    {
      "cell_type": "code",
      "execution_count": 13,
      "metadata": {
        "colab": {
          "base_uri": "https://localhost:8080/"
        },
        "id": "q__4BhKCCjHY",
        "outputId": "12cbe159-00a9-40e5-cd4c-84bc3b2324a7"
      },
      "outputs": [
        {
          "output_type": "stream",
          "name": "stderr",
          "text": [
            "<ipython-input-13-aedec179434f>:3: DeprecatedWarning: format_dataframe is deprecated as of 2.3.0 and will be removed in 3.0.0. the format_dataframe function does not need application anymore.\n",
            "  event_log = pm.format_dataframe(event_log, case_id='patient', activity_key='activity', timestamp_key='timestamp')\n",
            "/usr/local/lib/python3.8/dist-packages/pm4py/utils.py:91: SettingWithCopyWarning: \n",
            "A value is trying to be set on a copy of a slice from a DataFrame.\n",
            "Try using .loc[row_indexer,col_indexer] = value instead\n",
            "\n",
            "See the caveats in the documentation: https://pandas.pydata.org/pandas-docs/stable/user_guide/indexing.html#returning-a-view-versus-a-copy\n",
            "  df[constants.CASE_CONCEPT_NAME] = df[constants.CASE_CONCEPT_NAME].astype(\"string\")\n",
            "/usr/local/lib/python3.8/dist-packages/pm4py/utils.py:93: SettingWithCopyWarning: \n",
            "A value is trying to be set on a copy of a slice from a DataFrame.\n",
            "Try using .loc[row_indexer,col_indexer] = value instead\n",
            "\n",
            "See the caveats in the documentation: https://pandas.pydata.org/pandas-docs/stable/user_guide/indexing.html#returning-a-view-versus-a-copy\n",
            "  df[xes_constants.DEFAULT_NAME_KEY] = df[xes_constants.DEFAULT_NAME_KEY].astype(\"string\")\n"
          ]
        },
        {
          "output_type": "stream",
          "name": "stdout",
          "text": [
            "Number of cases: 42652\n",
            "Number of events: 230668\n",
            "Start events: {'Admitted': 36389, 'Transfer': 6208, 'Discharged': 55}\n",
            "End events: {'Discharged': 35125, 'Left ICU': 7510, 'Transfer': 14, 'Admitted': 3}\n"
          ]
        }
      ],
      "source": [
        "import pm4py as pm\n",
        "\n",
        "event_log = pm.format_dataframe(event_log, case_id='patient', activity_key='activity', timestamp_key='timestamp')\n",
        "# lets get some information about the event log\n",
        "n_events = len(event_log)\n",
        "n_cases = len(event_log.patient.unique())\n",
        "start_events = pm.get_start_activities(event_log)\n",
        "end_events = pm.get_end_activities(event_log)\n",
        "print(f\"Number of cases: {n_cases}\\nNumber of events: {n_events}\")\n",
        "print(f\"Start events: {start_events}\\nEnd events: {end_events}\")\n"
      ]
    },
    {
      "cell_type": "code",
      "execution_count": 14,
      "metadata": {
        "id": "aETYaI3-CjHZ"
      },
      "outputs": [],
      "source": [
        "# lets improve the event log by filtering out the cases that do not start or end with a patient being admitted or discharged\n",
        "# this will simplify the model\n",
        "\n",
        "event_log = pm.filter_start_activities(event_log, ['Admitted'])\n",
        "event_log = pm.filter_end_activities(event_log,['Discharged'])"
      ]
    },
    {
      "cell_type": "code",
      "execution_count": 15,
      "metadata": {
        "id": "boYeNhZuCjHa",
        "colab": {
          "base_uri": "https://localhost:8080/"
        },
        "outputId": "fe9d9779-9ae6-4b4b-b6db-bd6023b068fc"
      },
      "outputs": [
        {
          "output_type": "stream",
          "name": "stderr",
          "text": [
            "/usr/local/lib/python3.8/dist-packages/pm4py/algo/discovery/dfg/adapters/pandas/df_statistics.py:73: SettingWithCopyWarning: \n",
            "A value is trying to be set on a copy of a slice from a DataFrame.\n",
            "Try using .loc[row_indexer,col_indexer] = value instead\n",
            "\n",
            "See the caveats in the documentation: https://pandas.pydata.org/pandas-docs/stable/user_guide/indexing.html#returning-a-view-versus-a-copy\n",
            "  df[start_timestamp_key] = df[timestamp_key]\n"
          ]
        }
      ],
      "source": [
        "net, initial_marking, final_marking = pm.discover_petri_net_alpha(event_log)"
      ]
    },
    {
      "cell_type": "code",
      "execution_count": 16,
      "metadata": {
        "colab": {
          "base_uri": "https://localhost:8080/",
          "height": 196
        },
        "id": "IIdzSIvdCjHa",
        "outputId": "48c8abda-bcc2-439f-9c40-bffc6b5cc69c"
      },
      "outputs": [
        {
          "output_type": "display_data",
          "data": {
            "image/png": "[encoded data removed]",
            "text/plain": [
              "<IPython.core.display.Image object>"
            ]
          },
          "metadata": {}
        }
      ],
      "source": [
        "import graphviz\n",
        "pm.view_petri_net(petri_net=net)"
      ]
    },
    {
      "cell_type": "code",
      "source": [
        "# inductive miner\n",
        "# much better result than when using alpha miner, petri net \n",
        "net, initial_marking, final_marking = pm.discover_petri_net_inductive(event_log)\n",
        "pm.view_petri_net(petri_net=net)"
      ],
      "metadata": {
        "id": "f6fgpjqRKw67",
        "outputId": "50f2635a-c5c4-4182-d0b4-31ffbe9f784a",
        "colab": {
          "base_uri": "https://localhost:8080/",
          "height": 339
        }
      },
      "execution_count": 17,
      "outputs": [
        {
          "output_type": "display_data",
          "data": {
            "image/png": "[encoded data removed]",
            "text/plain": [
              "<IPython.core.display.Image object>"
            ]
          },
          "metadata": {}
        }
      ]
    },
    {
      "cell_type": "code",
      "source": [
        "# heuristic miner\n",
        "heu_net = pm.discover_heuristics_net(event_log, dependency_threshold=0.99)\n",
        "pm.view_heuristics_net(heu_net)"
      ],
      "metadata": {
        "id": "SXk4_DHFLDpB",
        "outputId": "4085fa0e-83ec-44e2-9765-964fa539be3f",
        "colab": {
          "base_uri": "https://localhost:8080/",
          "height": 656
        }
      },
      "execution_count": 18,
      "outputs": [
        {
          "output_type": "display_data",
          "data": {
            "image/png": "[encoded data removed]",
            "text/plain": [
              "<IPython.core.display.Image object>"
            ]
          },
          "metadata": {}
        }
      ]
    },
    {
      "cell_type": "code",
      "source": [
        "# petri net from heuristics miner\n",
        "net, im, fm = pm.discover_petri_net_heuristics(event_log, dependency_threshold=0.99)\n",
        "pm.view_petri_net(net, im, fm)"
      ],
      "metadata": {
        "id": "EZOGRFF2LHwh",
        "outputId": "aea319da-d2cb-4883-bd18-6e409971bd1e",
        "colab": {
          "base_uri": "https://localhost:8080/",
          "height": 209
        }
      },
      "execution_count": 19,
      "outputs": [
        {
          "output_type": "display_data",
          "data": {
            "image/png": "[encoded data removed]",
            "text/plain": [
              "<IPython.core.display.Image object>"
            ]
          },
          "metadata": {}
        }
      ]
    },
    {
      "cell_type": "markdown",
      "source": [
        "## Section 3: Data Pre Processing\n",
        "\n"
      ],
      "metadata": {
        "id": "wQqrU3QsNC-4"
      }
    },
    {
      "cell_type": "code",
      "source": [
        "from pandas.core.window.ewm import partial\n",
        "import random\n",
        "\n",
        "def partial_log(el, n):\n",
        "\n",
        "  # select the first n cases to test the LSTM methodology\n",
        "  # lets first add a trace column to the event_log\n",
        "  el['trace'] = el.groupby(['patient']).ngroup()\n",
        "  el = el[['trace', 'activity', 'timestamp' ]].reset_index(drop=True)\n",
        "  # if n is None, return full event log\n",
        "  if n is None:\n",
        "    return el\n",
        "\n",
        "  # initialise random seed and array of traces\n",
        "  random.seed(9)\n",
        "  random_traces = []\n",
        "\n",
        "  for i in range(0,n):\n",
        "    random_traces.append(random.randrange(0,n_cases))\n",
        "\n",
        "  partial_el = event_log[event_log['trace'].isin(random_traces)]\n",
        "  return partial_el\n"
      ],
      "metadata": {
        "id": "Hs9nC7zuNGeg"
      },
      "execution_count": 171,
      "outputs": []
    },
    {
      "cell_type": "code",
      "source": [
        "partial_el = partial_log(event_log, NUM_TRACES)\n",
        "# partial_el"
      ],
      "metadata": {
        "id": "7ReuwY8a68_9"
      },
      "execution_count": 172,
      "outputs": []
    },
    {
      "cell_type": "code",
      "source": [
        "# lets represent each activity using a statically defined number\n",
        "# this will prevent the need for using an embedding layer when traing the LSTM\n",
        "unique_activities = partial_el['activity'].unique()\n",
        "n_activities = len(unique_activities) + 1\n",
        "encode_activity = {unique_activities[i-1] : f'{i}' for i in range(1,n_activities)}\n",
        "\n",
        "# lets also create a second dictionary that will be used to decode predicted activities\n",
        "decode_activity = {f'{i}' : unique_activities[i-1] for i in range(1, len(unique_activities)+ 1)}\n",
        "encode_activity, decode_activity\n"
      ],
      "metadata": {
        "colab": {
          "base_uri": "https://localhost:8080/"
        },
        "id": "IGd5SwRG-_fI",
        "outputId": "3eca7c2e-9d47-4028-c360-09d9e79aaa82"
      },
      "execution_count": 173,
      "outputs": [
        {
          "output_type": "execute_result",
          "data": {
            "text/plain": [
              "({'Admitted': '1',\n",
              "  'Transfer': '2',\n",
              "  'Entered ICU': '3',\n",
              "  'Left ICU': '4',\n",
              "  'Discharged': '5'},\n",
              " {'1': 'Admitted',\n",
              "  '2': 'Transfer',\n",
              "  '3': 'Entered ICU',\n",
              "  '4': 'Left ICU',\n",
              "  '5': 'Discharged'})"
            ]
          },
          "metadata": {},
          "execution_count": 173
        }
      ]
    },
    {
      "cell_type": "code",
      "source": [
        "# calculate time deltas for prefix and suffix sequences\n",
        "def calculate_time_deltas(p, s):\n",
        "  p_deltas, s_deltas = [], []\n",
        "  f = '%Y-%d-%m %H:%M:%S'\n",
        "  for i in range(PREFIX_LENGTH):\n",
        "    if p[i] == '0' or p[i+1] == '0':\n",
        "      p_deltas.append(0)\n",
        "\n",
        "    else:\n",
        "      delta = pd.to_datetime(p[i+1], format=f) - pd.to_datetime(p[i], format=f)\n",
        "      p_deltas.append(delta.total_seconds())\n",
        "\n",
        "  for i in range(PREFIX_LENGTH,0,-1):\n",
        "    if s[i] == '0' or s[i-1] == '0':\n",
        "      s_deltas.append(0)\n",
        "    else:\n",
        "      delta = pd.to_datetime(s[i], format=f) - pd.to_datetime(s[i-1], format=f)\n",
        "      s_deltas.append(delta.total_seconds())\n",
        "  \n",
        "  return p_deltas, s_deltas[::-1]"
      ],
      "metadata": {
        "id": "9ruIH6dH1UZP"
      },
      "execution_count": 174,
      "outputs": []
    },
    {
      "cell_type": "code",
      "source": [
        "import numpy as np\n",
        "\n",
        "# create a new labeled data frame\n",
        "def label(el):\n",
        "  # initialise data frame \n",
        " \n",
        "  prefix_arr, suffix_arr, prefix_times_arr, suffix_times_arr, label_arr = [], [], [], [], []\n",
        "  labeled_arr = []\n",
        "  unique_traces = el['trace'].unique()\n",
        "  traces = {x : pd.DataFrame() for x in unique_traces} \n",
        "\n",
        "  for t in unique_traces:\n",
        "    traces[t] = el[:][el.trace == t]  \n",
        "  \n",
        "  for t in unique_traces:\n",
        "    df = traces[t].sort_values(by='timestamp')\n",
        "    activities, timestamps = [], []\n",
        "\n",
        "    for i in df.index:\n",
        "      activity = encode_activity.get(df['activity'][i])\n",
        "      activities.append(activity)\n",
        "\n",
        "      timestamp = df['timestamp'][i]\n",
        "      timestamps.append(timestamp)\n",
        "\n",
        "    \n",
        "    length = len(activities)\n",
        "    \n",
        "    for i in range(length):\n",
        "\n",
        "      label = activities[i]\n",
        "      prefix = activities[:i]\n",
        "      prefix_times = timestamps[:i+1]\n",
        "\n",
        "      suffix = []\n",
        "      suffix_times = []\n",
        "\n",
        "      if i != length - 1:\n",
        "        suffix = activities[i+1:]\n",
        "\n",
        "      if i != length:\n",
        "        suffix_times = timestamps[i:]\n",
        "\n",
        "      padding = []\n",
        "\n",
        "      while len(prefix) + len(padding) < PREFIX_LENGTH:\n",
        "        padding.append('0')\n",
        "      \n",
        "      prefix = padding + prefix\n",
        "        \n",
        "      padding = []\n",
        "      \n",
        "      while len(prefix_times) + len(padding) < PREFIX_LENGTH+1:\n",
        "        padding.append('0')\n",
        "      \n",
        "      prefix_times =  padding + prefix_times\n",
        "\n",
        "      while len(suffix) < PREFIX_LENGTH:\n",
        "        suffix.append('0')\n",
        "\n",
        "      while len(suffix_times) < PREFIX_LENGTH +1:\n",
        "        suffix_times.append('0')\n",
        "\n",
        "      prefix_deltas, suffix_deltas = calculate_time_deltas(prefix_times, suffix_times)\n",
        "      # print(f'prefix t: {prefix_times} \\n suffix t: {suffix_times}')\n",
        "\n",
        "      prefix_arr.append(np.array(prefix[0:PREFIX_LENGTH], dtype=int))\n",
        "      suffix_arr.append(np.array(suffix[0:PREFIX_LENGTH], dtype=int))\n",
        "      prefix_times_arr.append(np.array(prefix_deltas))\n",
        "      suffix_times_arr.append(np.array(suffix_deltas))\n",
        "      label_arr.append(label)\n",
        "\n",
        "  return pd.DataFrame({'prefix' : prefix_arr, \n",
        "                       'suffix' : suffix_arr,\n",
        "                       'prefix time delta' : prefix_times_arr,\n",
        "                       'suffix time delta' : suffix_times_arr,\n",
        "                       'label' : label_arr})\n",
        " "
      ],
      "metadata": {
        "id": "aw2gXPwQ5BpM"
      },
      "execution_count": 175,
      "outputs": []
    },
    {
      "cell_type": "code",
      "source": [
        "from sklearn.model_selection import train_test_split\n",
        "\n",
        "# label event log\n",
        "labeled_el = label(partial_el)\n",
        "\n",
        "# split event log into a train and test set  \n",
        "train_el, test_el  = train_test_split(labeled_el, test_size=TEST_SIZE, random_state=9)\n",
        "train_el\n"
      ],
      "metadata": {
        "id": "wBTD25EXYtal",
        "outputId": "a6dc8f4e-1c62-479c-dd24-ebd545887362",
        "colab": {
          "base_uri": "https://localhost:8080/",
          "height": 0
        }
      },
      "execution_count": 176,
      "outputs": [
        {
          "output_type": "execute_result",
          "data": {
            "text/plain": [
              "               prefix           suffix  \\\n",
              "2989  [0, 0, 1, 2, 3]  [2, 2, 4, 5, 0]   \n",
              "3016  [0, 0, 1, 2, 3]  [2, 5, 0, 0, 0]   \n",
              "2437  [0, 0, 1, 2, 3]  [5, 0, 0, 0, 0]   \n",
              "748   [0, 1, 2, 3, 4]  [0, 0, 0, 0, 0]   \n",
              "2795  [0, 0, 0, 0, 0]  [2, 3, 4, 5, 0]   \n",
              "...               ...              ...   \n",
              "2104  [0, 0, 0, 1, 2]  [4, 5, 0, 0, 0]   \n",
              "501   [0, 0, 0, 0, 1]  [3, 4, 2, 5, 0]   \n",
              "2686  [0, 1, 2, 2, 3]  [5, 0, 0, 0, 0]   \n",
              "348   [0, 0, 0, 0, 1]  [3, 4, 3, 4, 5]   \n",
              "382   [1, 2, 2, 3, 4]  [0, 0, 0, 0, 0]   \n",
              "\n",
              "                                    prefix time delta  \\\n",
              "2989                  [0.0, 0.0, 105.0, 0.0, 71618.0]   \n",
              "3016                  [0.0, 0.0, 48.0, 0.0, 222644.0]   \n",
              "2437                  [0.0, 0.0, 36.0, 0.0, 121032.0]   \n",
              "748              [0.0, 81.0, 0.0, 656332.0, 264707.0]   \n",
              "2795                                  [0, 0, 0, 0, 0]   \n",
              "...                                               ...   \n",
              "2104                      [0.0, 0.0, 0.0, 121.0, 0.0]   \n",
              "501                       [0.0, 0.0, 0.0, 0.0, 102.0]   \n",
              "2686             [0.0, 57.0, 259683.0, 0.0, 334504.0]   \n",
              "348                       [0.0, 0.0, 0.0, 0.0, 109.0]   \n",
              "382   [132.0, 647562.0, 277993.0, 399026.0, 487467.0]   \n",
              "\n",
              "                                suffix time delta label  \n",
              "2989    [5420.0, 9135.0, 268454.0, 784608.0, 0.0]     2  \n",
              "3016         [982597.0, 1437651.0, 0.0, 0.0, 0.0]     4  \n",
              "2437               [273672.0, 0.0, 0.0, 0.0, 0.0]     4  \n",
              "748                               [0, 0, 0, 0, 0]     5  \n",
              "2795     [177.0, 97776.0, 86362.0, 439385.0, 0.0]     1  \n",
              "...                                           ...   ...  \n",
              "2104            [1546749.0, 950.0, 0.0, 0.0, 0.0]     3  \n",
              "501        [0.0, 257067.0, 320561.0, 3610.0, 0.0]     2  \n",
              "2686               [360956.0, 0.0, 0.0, 0.0, 0.0]     4  \n",
              "348   [0.0, 130327.0, 102003.0, 75081.0, 94900.0]     2  \n",
              "382                               [0, 0, 0, 0, 0]     5  \n",
              "\n",
              "[2934 rows x 5 columns]"
            ],
            "text/html": [
              "\n",
              "  <div id=\"df-f73120a2-536c-4419-8bb0-d7a5f8ee97a4\">\n",
              "    <div class=\"colab-df-container\">\n",
              "      <div>\n",
              "<style scoped>\n",
              "    .dataframe tbody tr th:only-of-type {\n",
              "        vertical-align: middle;\n",
              "    }\n",
              "\n",
              "    .dataframe tbody tr th {\n",
              "        vertical-align: top;\n",
              "    }\n",
              "\n",
              "    .dataframe thead th {\n",
              "        text-align: right;\n",
              "    }\n",
              "</style>\n",
              "<table border=\"1\" class=\"dataframe\">\n",
              "  <thead>\n",
              "    <tr style=\"text-align: right;\">\n",
              "      <th></th>\n",
              "      <th>prefix</th>\n",
              "      <th>suffix</th>\n",
              "      <th>prefix time delta</th>\n",
              "      <th>suffix time delta</th>\n",
              "      <th>label</th>\n",
              "    </tr>\n",
              "  </thead>\n",
              "  <tbody>\n",
              "    <tr>\n",
              "      <th>2989</th>\n",
              "      <td>[0, 0, 1, 2, 3]</td>\n",
              "      <td>[2, 2, 4, 5, 0]</td>\n",
              "      <td>[0.0, 0.0, 105.0, 0.0, 71618.0]</td>\n",
              "      <td>[5420.0, 9135.0, 268454.0, 784608.0, 0.0]</td>\n",
              "      <td>2</td>\n",
              "    </tr>\n",
              "    <tr>\n",
              "      <th>3016</th>\n",
              "      <td>[0, 0, 1, 2, 3]</td>\n",
              "      <td>[2, 5, 0, 0, 0]</td>\n",
              "      <td>[0.0, 0.0, 48.0, 0.0, 222644.0]</td>\n",
              "      <td>[982597.0, 1437651.0, 0.0, 0.0, 0.0]</td>\n",
              "      <td>4</td>\n",
              "    </tr>\n",
              "    <tr>\n",
              "      <th>2437</th>\n",
              "      <td>[0, 0, 1, 2, 3]</td>\n",
              "      <td>[5, 0, 0, 0, 0]</td>\n",
              "      <td>[0.0, 0.0, 36.0, 0.0, 121032.0]</td>\n",
              "      <td>[273672.0, 0.0, 0.0, 0.0, 0.0]</td>\n",
              "      <td>4</td>\n",
              "    </tr>\n",
              "    <tr>\n",
              "      <th>748</th>\n",
              "      <td>[0, 1, 2, 3, 4]</td>\n",
              "      <td>[0, 0, 0, 0, 0]</td>\n",
              "      <td>[0.0, 81.0, 0.0, 656332.0, 264707.0]</td>\n",
              "      <td>[0, 0, 0, 0, 0]</td>\n",
              "      <td>5</td>\n",
              "    </tr>\n",
              "    <tr>\n",
              "      <th>2795</th>\n",
              "      <td>[0, 0, 0, 0, 0]</td>\n",
              "      <td>[2, 3, 4, 5, 0]</td>\n",
              "      <td>[0, 0, 0, 0, 0]</td>\n",
              "      <td>[177.0, 97776.0, 86362.0, 439385.0, 0.0]</td>\n",
              "      <td>1</td>\n",
              "    </tr>\n",
              "    <tr>\n",
              "      <th>...</th>\n",
              "      <td>...</td>\n",
              "      <td>...</td>\n",
              "      <td>...</td>\n",
              "      <td>...</td>\n",
              "      <td>...</td>\n",
              "    </tr>\n",
              "    <tr>\n",
              "      <th>2104</th>\n",
              "      <td>[0, 0, 0, 1, 2]</td>\n",
              "      <td>[4, 5, 0, 0, 0]</td>\n",
              "      <td>[0.0, 0.0, 0.0, 121.0, 0.0]</td>\n",
              "      <td>[1546749.0, 950.0, 0.0, 0.0, 0.0]</td>\n",
              "      <td>3</td>\n",
              "    </tr>\n",
              "    <tr>\n",
              "      <th>501</th>\n",
              "      <td>[0, 0, 0, 0, 1]</td>\n",
              "      <td>[3, 4, 2, 5, 0]</td>\n",
              "      <td>[0.0, 0.0, 0.0, 0.0, 102.0]</td>\n",
              "      <td>[0.0, 257067.0, 320561.0, 3610.0, 0.0]</td>\n",
              "      <td>2</td>\n",
              "    </tr>\n",
              "    <tr>\n",
              "      <th>2686</th>\n",
              "      <td>[0, 1, 2, 2, 3]</td>\n",
              "      <td>[5, 0, 0, 0, 0]</td>\n",
              "      <td>[0.0, 57.0, 259683.0, 0.0, 334504.0]</td>\n",
              "      <td>[360956.0, 0.0, 0.0, 0.0, 0.0]</td>\n",
              "      <td>4</td>\n",
              "    </tr>\n",
              "    <tr>\n",
              "      <th>348</th>\n",
              "      <td>[0, 0, 0, 0, 1]</td>\n",
              "      <td>[3, 4, 3, 4, 5]</td>\n",
              "      <td>[0.0, 0.0, 0.0, 0.0, 109.0]</td>\n",
              "      <td>[0.0, 130327.0, 102003.0, 75081.0, 94900.0]</td>\n",
              "      <td>2</td>\n",
              "    </tr>\n",
              "    <tr>\n",
              "      <th>382</th>\n",
              "      <td>[1, 2, 2, 3, 4]</td>\n",
              "      <td>[0, 0, 0, 0, 0]</td>\n",
              "      <td>[132.0, 647562.0, 277993.0, 399026.0, 487467.0]</td>\n",
              "      <td>[0, 0, 0, 0, 0]</td>\n",
              "      <td>5</td>\n",
              "    </tr>\n",
              "  </tbody>\n",
              "</table>\n",
              "<p>2934 rows × 5 columns</p>\n",
              "</div>\n",
              "      <button class=\"colab-df-convert\" onclick=\"convertToInteractive('df-f73120a2-536c-4419-8bb0-d7a5f8ee97a4')\"\n",
              "              title=\"Convert this dataframe to an interactive table.\"\n",
              "              style=\"display:none;\">\n",
              "        \n",
              "  <svg xmlns=\"http://www.w3.org/2000/svg\" height=\"24px\"viewBox=\"0 0 24 24\"\n",
              "       width=\"24px\">\n",
              "    <path d=\"M0 0h24v24H0V0z\" fill=\"none\"/>\n",
              "    <path d=\"M18.56 5.44l.94 2.06.94-2.06 2.06-.94-2.06-.94-.94-2.06-.94 2.06-2.06.94zm-11 1L8.5 8.5l.94-2.06 2.06-.94-2.06-.94L8.5 2.5l-.94 2.06-2.06.94zm10 10l.94 2.06.94-2.06 2.06-.94-2.06-.94-.94-2.06-.94 2.06-2.06.94z\"/><path d=\"M17.41 7.96l-1.37-1.37c-.4-.4-.92-.59-1.43-.59-.52 0-1.04.2-1.43.59L10.3 9.45l-7.72 7.72c-.78.78-.78 2.05 0 2.83L4 21.41c.39.39.9.59 1.41.59.51 0 1.02-.2 1.41-.59l7.78-7.78 2.81-2.81c.8-.78.8-2.07 0-2.86zM5.41 20L4 18.59l7.72-7.72 1.47 1.35L5.41 20z\"/>\n",
              "  </svg>\n",
              "      </button>\n",
              "      \n",
              "  <style>\n",
              "    .colab-df-container {\n",
              "      display:flex;\n",
              "      flex-wrap:wrap;\n",
              "      gap: 12px;\n",
              "    }\n",
              "\n",
              "    .colab-df-convert {\n",
              "      background-color: #E8F0FE;\n",
              "      border: none;\n",
              "      border-radius: 50%;\n",
              "      cursor: pointer;\n",
              "      display: none;\n",
              "      fill: #1967D2;\n",
              "      height: 32px;\n",
              "      padding: 0 0 0 0;\n",
              "      width: 32px;\n",
              "    }\n",
              "\n",
              "    .colab-df-convert:hover {\n",
              "      background-color: #E2EBFA;\n",
              "      box-shadow: 0px 1px 2px rgba(60, 64, 67, 0.3), 0px 1px 3px 1px rgba(60, 64, 67, 0.15);\n",
              "      fill: #174EA6;\n",
              "    }\n",
              "\n",
              "    [theme=dark] .colab-df-convert {\n",
              "      background-color: #3B4455;\n",
              "      fill: #D2E3FC;\n",
              "    }\n",
              "\n",
              "    [theme=dark] .colab-df-convert:hover {\n",
              "      background-color: #434B5C;\n",
              "      box-shadow: 0px 1px 3px 1px rgba(0, 0, 0, 0.15);\n",
              "      filter: drop-shadow(0px 1px 2px rgba(0, 0, 0, 0.3));\n",
              "      fill: #FFFFFF;\n",
              "    }\n",
              "  </style>\n",
              "\n",
              "      <script>\n",
              "        const buttonEl =\n",
              "          document.querySelector('#df-f73120a2-536c-4419-8bb0-d7a5f8ee97a4 button.colab-df-convert');\n",
              "        buttonEl.style.display =\n",
              "          google.colab.kernel.accessAllowed ? 'block' : 'none';\n",
              "\n",
              "        async function convertToInteractive(key) {\n",
              "          const element = document.querySelector('#df-f73120a2-536c-4419-8bb0-d7a5f8ee97a4');\n",
              "          const dataTable =\n",
              "            await google.colab.kernel.invokeFunction('convertToInteractive',\n",
              "                                                     [key], {});\n",
              "          if (!dataTable) return;\n",
              "\n",
              "          const docLinkHtml = 'Like what you see? Visit the ' +\n",
              "            '<a target=\"_blank\" href=https://colab.research.google.com/notebooks/data_table.ipynb>data table notebook</a>'\n",
              "            + ' to learn more about interactive tables.';\n",
              "          element.innerHTML = '';\n",
              "          dataTable['output_type'] = 'display_data';\n",
              "          await google.colab.output.renderOutput(dataTable, element);\n",
              "          const docLink = document.createElement('div');\n",
              "          docLink.innerHTML = docLinkHtml;\n",
              "          element.appendChild(docLink);\n",
              "        }\n",
              "      </script>\n",
              "    </div>\n",
              "  </div>\n",
              "  "
            ]
          },
          "metadata": {},
          "execution_count": 176
        }
      ]
    },
    {
      "cell_type": "code",
      "source": [
        "from copy import deepcopy\n",
        "\n",
        "# declare the label of each activity in the test set as missing\n",
        "# return actual labels as targets array for validation\n",
        "def missing(el):\n",
        " \n",
        "  # need to deepcopy targets to derefrence them from dataframe  \n",
        "  targets = deepcopy(el['label'])\n",
        "  el['label'] = 'missing'\n",
        "  return el, targets.to_numpy()"
      ],
      "metadata": {
        "id": "xA8IXkTpdN15"
      },
      "execution_count": 177,
      "outputs": []
    },
    {
      "cell_type": "code",
      "source": [
        "# train_targets = train_el['label'].to_numpy()\n",
        "test_el, test_targets = missing(test_el)\n",
        "test_el, test_targets"
      ],
      "metadata": {
        "id": "rnFG83cIgWs4",
        "colab": {
          "base_uri": "https://localhost:8080/"
        },
        "outputId": "fcfbcdd0-fc1c-4acb-e092-c09d455afaad"
      },
      "execution_count": 178,
      "outputs": [
        {
          "output_type": "execute_result",
          "data": {
            "text/plain": [
              "(               prefix           suffix  \\\n",
              " 2138  [1, 2, 3, 4, 3]  [5, 0, 0, 0, 0]   \n",
              " 2372  [0, 0, 0, 0, 1]  [3, 4, 5, 0, 0]   \n",
              " 644   [0, 0, 0, 1, 2]  [4, 5, 0, 0, 0]   \n",
              " 1269  [0, 0, 0, 1, 2]  [4, 5, 0, 0, 0]   \n",
              " 286   [0, 0, 0, 0, 0]  [2, 3, 4, 5, 0]   \n",
              " ...               ...              ...   \n",
              " 1697  [0, 1, 2, 3, 4]  [0, 0, 0, 0, 0]   \n",
              " 3648  [0, 0, 1, 2, 3]  [5, 0, 0, 0, 0]   \n",
              " 1554  [0, 0, 1, 2, 3]  [5, 0, 0, 0, 0]   \n",
              " 2053  [0, 0, 0, 1, 2]  [4, 5, 0, 0, 0]   \n",
              " 2559  [0, 0, 0, 0, 0]  [2, 3, 4, 5, 0]   \n",
              " \n",
              "                                prefix time delta  \\\n",
              " 2138  [118.0, 0.0, 440946.0, 220992.0, 115487.0]   \n",
              " 2372                  [0.0, 0.0, 0.0, 0.0, 57.0]   \n",
              " 644             [0.0, 0.0, 0.0, 151.0, 332920.0]   \n",
              " 1269                  [0.0, 0.0, 0.0, 67.0, 0.0]   \n",
              " 286                              [0, 0, 0, 0, 0]   \n",
              " ...                                          ...   \n",
              " 1697         [0.0, 75.0, 0.0, 614631.0, 56994.0]   \n",
              " 3648         [0.0, 0.0, 60.0, 86160.0, 128700.0]   \n",
              " 1554             [0.0, 0.0, 59.0, 0.0, 101065.0]   \n",
              " 2053              [0.0, 0.0, 0.0, 59.0, 53968.0]   \n",
              " 2559                             [0, 0, 0, 0, 0]   \n",
              " \n",
              "                               suffix time delta    label  \n",
              " 2138            [1101657.0, 0.0, 0.0, 0.0, 0.0]  missing  \n",
              " 2372  [396617.0, 1238716.0, 322590.0, 0.0, 0.0]  missing  \n",
              " 644         [985840.0, 648969.0, 0.0, 0.0, 0.0]  missing  \n",
              " 1269         [100376.0, 82797.0, 0.0, 0.0, 0.0]  missing  \n",
              " 286       [103.0, 0.0, 518321.0, 852276.0, 0.0]  missing  \n",
              " ...                                         ...      ...  \n",
              " 1697                            [0, 0, 0, 0, 0]  missing  \n",
              " 3648              [30480.0, 0.0, 0.0, 0.0, 0.0]  missing  \n",
              " 1554             [413916.0, 0.0, 0.0, 0.0, 0.0]  missing  \n",
              " 2053        [116325.0, 491088.0, 0.0, 0.0, 0.0]  missing  \n",
              " 2559       [83.0, 0.0, 292250.0, 587027.0, 0.0]  missing  \n",
              " \n",
              " [734 rows x 5 columns],\n",
              " array(['4', '2', '3', '3', '1', '5', '1', '1', '5', '2', '4', '2', '3',\n",
              "        '5', '5', '2', '1', '4', '4', '2', '2', '5', '3', '3', '3', '2',\n",
              "        '4', '4', '2', '3', '5', '5', '1', '1', '5', '2', '4', '1', '2',\n",
              "        '3', '4', '4', '3', '4', '3', '2', '5', '4', '5', '5', '5', '1',\n",
              "        '2', '5', '5', '4', '4', '1', '3', '1', '4', '2', '1', '3', '3',\n",
              "        '2', '2', '4', '5', '5', '4', '1', '2', '4', '5', '5', '3', '3',\n",
              "        '3', '5', '2', '3', '1', '5', '1', '5', '3', '4', '2', '5', '3',\n",
              "        '4', '1', '3', '2', '4', '3', '3', '2', '4', '4', '4', '4', '1',\n",
              "        '3', '2', '5', '3', '3', '1', '4', '2', '3', '2', '1', '5', '5',\n",
              "        '3', '3', '4', '5', '3', '4', '4', '2', '3', '4', '3', '4', '2',\n",
              "        '4', '4', '3', '4', '2', '5', '3', '2', '2', '4', '2', '4', '4',\n",
              "        '4', '1', '5', '3', '2', '2', '2', '1', '5', '1', '4', '3', '5',\n",
              "        '3', '3', '4', '3', '2', '4', '2', '5', '5', '1', '5', '5', '3',\n",
              "        '5', '2', '4', '2', '4', '4', '1', '4', '1', '4', '3', '2', '5',\n",
              "        '5', '4', '1', '1', '4', '2', '4', '2', '4', '4', '4', '4', '3',\n",
              "        '2', '1', '4', '4', '1', '3', '4', '1', '2', '1', '4', '2', '2',\n",
              "        '2', '5', '1', '4', '1', '1', '5', '4', '2', '1', '4', '1', '2',\n",
              "        '1', '1', '3', '5', '4', '5', '2', '2', '2', '1', '2', '2', '3',\n",
              "        '2', '5', '5', '2', '5', '5', '2', '5', '3', '3', '4', '1', '1',\n",
              "        '2', '2', '1', '2', '5', '1', '2', '4', '5', '1', '2', '4', '3',\n",
              "        '3', '4', '1', '4', '1', '3', '5', '1', '1', '1', '2', '4', '1',\n",
              "        '2', '5', '2', '3', '4', '3', '3', '3', '4', '4', '4', '1', '2',\n",
              "        '5', '4', '2', '3', '1', '3', '1', '3', '2', '2', '4', '4', '2',\n",
              "        '4', '4', '3', '3', '4', '3', '3', '1', '4', '5', '1', '5', '2',\n",
              "        '1', '2', '4', '2', '2', '1', '2', '1', '5', '1', '3', '1', '3',\n",
              "        '4', '2', '3', '3', '3', '3', '4', '5', '4', '5', '2', '1', '5',\n",
              "        '4', '5', '3', '2', '1', '4', '5', '3', '4', '5', '3', '4', '2',\n",
              "        '2', '2', '2', '3', '5', '1', '2', '4', '1', '4', '2', '5', '5',\n",
              "        '2', '1', '1', '2', '1', '1', '5', '3', '3', '3', '3', '5', '2',\n",
              "        '5', '1', '5', '1', '2', '2', '2', '1', '1', '2', '5', '2', '3',\n",
              "        '2', '5', '2', '4', '1', '1', '5', '5', '2', '3', '1', '5', '5',\n",
              "        '5', '3', '2', '5', '4', '5', '3', '2', '5', '1', '4', '5', '2',\n",
              "        '5', '3', '2', '3', '3', '1', '2', '1', '3', '4', '5', '5', '5',\n",
              "        '2', '5', '2', '2', '3', '2', '3', '1', '3', '2', '3', '2', '2',\n",
              "        '3', '3', '5', '2', '2', '3', '4', '4', '1', '2', '2', '1', '1',\n",
              "        '2', '3', '1', '2', '1', '3', '5', '1', '2', '1', '3', '5', '3',\n",
              "        '2', '2', '2', '4', '4', '4', '5', '4', '3', '2', '2', '3', '4',\n",
              "        '4', '3', '2', '4', '1', '3', '2', '2', '5', '4', '1', '1', '1',\n",
              "        '3', '5', '2', '3', '5', '4', '2', '4', '5', '1', '2', '4', '3',\n",
              "        '2', '1', '5', '3', '2', '2', '3', '4', '4', '2', '5', '5', '2',\n",
              "        '1', '5', '4', '4', '4', '1', '3', '2', '4', '2', '3', '3', '1',\n",
              "        '3', '3', '1', '3', '2', '2', '5', '3', '1', '2', '2', '4', '2',\n",
              "        '2', '2', '4', '1', '4', '1', '5', '1', '1', '2', '1', '2', '5',\n",
              "        '4', '2', '4', '4', '5', '3', '3', '1', '4', '2', '1', '5', '2',\n",
              "        '2', '2', '5', '2', '4', '2', '5', '5', '3', '2', '2', '3', '5',\n",
              "        '2', '3', '5', '2', '2', '1', '3', '2', '1', '2', '5', '5', '3',\n",
              "        '3', '3', '1', '3', '1', '3', '5', '4', '2', '5', '2', '3', '2',\n",
              "        '3', '2', '2', '5', '3', '2', '3', '5', '1', '4', '4', '4', '2',\n",
              "        '3', '2', '3', '4', '3', '3', '5', '5', '2', '2', '2', '4', '4',\n",
              "        '1', '4', '4', '3', '3', '1', '3', '4', '5', '4', '3', '2', '5',\n",
              "        '5', '2', '3', '1', '4', '5', '4', '5', '4', '5', '3', '1', '2',\n",
              "        '2', '3', '1', '3', '2', '3', '1', '5', '2', '5', '1', '4', '2',\n",
              "        '4', '1', '2', '5', '1', '2', '2', '1', '2', '4', '1', '3', '3',\n",
              "        '4', '2', '4', '1', '2', '3', '2', '5', '1', '3', '2', '1', '3',\n",
              "        '1', '5', '4', '4', '2', '2', '1', '5', '1', '4', '1', '1', '5',\n",
              "        '2', '3', '3', '2', '3', '3', '2', '5', '2', '5', '2', '5', '5',\n",
              "        '2', '5', '4', '4', '3', '1'], dtype=object))"
            ]
          },
          "metadata": {},
          "execution_count": 178
        }
      ]
    },
    {
      "cell_type": "code",
      "source": [
        "# create validation set\n",
        "train_el, validation_el = train_test_split(train_el, test_size=VALIDATION_SIZE, random_state=9)"
      ],
      "metadata": {
        "id": "p88RY8E-y-vK"
      },
      "execution_count": 179,
      "outputs": []
    },
    {
      "cell_type": "code",
      "source": [
        "from keras.utils import to_categorical\n",
        "\n",
        "def format_input(el, train=False):\n",
        "\n",
        "  prefix_x = np.array(el['prefix'])\n",
        "  prefix_x = np.stack(prefix_x)\n",
        "  prefix_x = prefix_x.reshape(prefix_x.shape[0], prefix_x.shape[1], 1)\n",
        "  \n",
        "  suffix_x = np.array(el['suffix'])\n",
        "  suffix_x = np.stack(suffix_x)\n",
        "  suffix_x = suffix_x.reshape(suffix_x.shape[0], suffix_x.shape[1], 1)\n",
        "\n",
        "  prefix_td = np.array(el['prefix time delta'])\n",
        "  prefix_td = np.stack(prefix_td)\n",
        "  prefix_td = prefix_td.reshape(prefix_td.shape[0], prefix_td.shape[1], 1)\n",
        "\n",
        "  suffix_td = np.array(el['suffix time delta'])\n",
        "  suffix_td = np.stack(suffix_td)\n",
        "  suffix_td = suffix_td.reshape(suffix_td.shape[0], suffix_td.shape[1], 1)\n",
        "\n",
        "  x = np.concatenate(([prefix_x], [suffix_x], [prefix_td], [suffix_td]))\n",
        "\n",
        "  y = np.array(el['label'])\n",
        "  y = np.stack(y)\n",
        "  \n",
        "  if train is False:\n",
        "    y_encoded = to_categorical(y,n_activities)\n",
        "    return x, y_encoded\n",
        "  \n",
        "  return x, y"
      ],
      "metadata": {
        "id": "nW4QoUeN7tD0"
      },
      "execution_count": 180,
      "outputs": []
    },
    {
      "cell_type": "code",
      "source": [
        "train_x, train_y = format_input(train_el) \n",
        "validation_x, validation_y = format_input(validation_el)\n",
        "test_x, test_y = format_input(test_el, train=True)\n",
        "test_x\n"
      ],
      "metadata": {
        "id": "gKFqX1mH8LON",
        "colab": {
          "base_uri": "https://localhost:8080/"
        },
        "outputId": "a2ded3d0-0d37-4d78-b98d-691d59d5bb14"
      },
      "execution_count": 181,
      "outputs": [
        {
          "output_type": "execute_result",
          "data": {
            "text/plain": [
              "array([[[[1.000000e+00],\n",
              "         [2.000000e+00],\n",
              "         [3.000000e+00],\n",
              "         [4.000000e+00],\n",
              "         [3.000000e+00]],\n",
              "\n",
              "        [[0.000000e+00],\n",
              "         [0.000000e+00],\n",
              "         [0.000000e+00],\n",
              "         [0.000000e+00],\n",
              "         [1.000000e+00]],\n",
              "\n",
              "        [[0.000000e+00],\n",
              "         [0.000000e+00],\n",
              "         [0.000000e+00],\n",
              "         [1.000000e+00],\n",
              "         [2.000000e+00]],\n",
              "\n",
              "        ...,\n",
              "\n",
              "        [[0.000000e+00],\n",
              "         [0.000000e+00],\n",
              "         [1.000000e+00],\n",
              "         [2.000000e+00],\n",
              "         [3.000000e+00]],\n",
              "\n",
              "        [[0.000000e+00],\n",
              "         [0.000000e+00],\n",
              "         [0.000000e+00],\n",
              "         [1.000000e+00],\n",
              "         [2.000000e+00]],\n",
              "\n",
              "        [[0.000000e+00],\n",
              "         [0.000000e+00],\n",
              "         [0.000000e+00],\n",
              "         [0.000000e+00],\n",
              "         [0.000000e+00]]],\n",
              "\n",
              "\n",
              "       [[[5.000000e+00],\n",
              "         [0.000000e+00],\n",
              "         [0.000000e+00],\n",
              "         [0.000000e+00],\n",
              "         [0.000000e+00]],\n",
              "\n",
              "        [[3.000000e+00],\n",
              "         [4.000000e+00],\n",
              "         [5.000000e+00],\n",
              "         [0.000000e+00],\n",
              "         [0.000000e+00]],\n",
              "\n",
              "        [[4.000000e+00],\n",
              "         [5.000000e+00],\n",
              "         [0.000000e+00],\n",
              "         [0.000000e+00],\n",
              "         [0.000000e+00]],\n",
              "\n",
              "        ...,\n",
              "\n",
              "        [[5.000000e+00],\n",
              "         [0.000000e+00],\n",
              "         [0.000000e+00],\n",
              "         [0.000000e+00],\n",
              "         [0.000000e+00]],\n",
              "\n",
              "        [[4.000000e+00],\n",
              "         [5.000000e+00],\n",
              "         [0.000000e+00],\n",
              "         [0.000000e+00],\n",
              "         [0.000000e+00]],\n",
              "\n",
              "        [[2.000000e+00],\n",
              "         [3.000000e+00],\n",
              "         [4.000000e+00],\n",
              "         [5.000000e+00],\n",
              "         [0.000000e+00]]],\n",
              "\n",
              "\n",
              "       [[[1.180000e+02],\n",
              "         [0.000000e+00],\n",
              "         [4.409460e+05],\n",
              "         [2.209920e+05],\n",
              "         [1.154870e+05]],\n",
              "\n",
              "        [[0.000000e+00],\n",
              "         [0.000000e+00],\n",
              "         [0.000000e+00],\n",
              "         [0.000000e+00],\n",
              "         [5.700000e+01]],\n",
              "\n",
              "        [[0.000000e+00],\n",
              "         [0.000000e+00],\n",
              "         [0.000000e+00],\n",
              "         [1.510000e+02],\n",
              "         [3.329200e+05]],\n",
              "\n",
              "        ...,\n",
              "\n",
              "        [[0.000000e+00],\n",
              "         [0.000000e+00],\n",
              "         [5.900000e+01],\n",
              "         [0.000000e+00],\n",
              "         [1.010650e+05]],\n",
              "\n",
              "        [[0.000000e+00],\n",
              "         [0.000000e+00],\n",
              "         [0.000000e+00],\n",
              "         [5.900000e+01],\n",
              "         [5.396800e+04]],\n",
              "\n",
              "        [[0.000000e+00],\n",
              "         [0.000000e+00],\n",
              "         [0.000000e+00],\n",
              "         [0.000000e+00],\n",
              "         [0.000000e+00]]],\n",
              "\n",
              "\n",
              "       [[[1.101657e+06],\n",
              "         [0.000000e+00],\n",
              "         [0.000000e+00],\n",
              "         [0.000000e+00],\n",
              "         [0.000000e+00]],\n",
              "\n",
              "        [[3.966170e+05],\n",
              "         [1.238716e+06],\n",
              "         [3.225900e+05],\n",
              "         [0.000000e+00],\n",
              "         [0.000000e+00]],\n",
              "\n",
              "        [[9.858400e+05],\n",
              "         [6.489690e+05],\n",
              "         [0.000000e+00],\n",
              "         [0.000000e+00],\n",
              "         [0.000000e+00]],\n",
              "\n",
              "        ...,\n",
              "\n",
              "        [[4.139160e+05],\n",
              "         [0.000000e+00],\n",
              "         [0.000000e+00],\n",
              "         [0.000000e+00],\n",
              "         [0.000000e+00]],\n",
              "\n",
              "        [[1.163250e+05],\n",
              "         [4.910880e+05],\n",
              "         [0.000000e+00],\n",
              "         [0.000000e+00],\n",
              "         [0.000000e+00]],\n",
              "\n",
              "        [[8.300000e+01],\n",
              "         [0.000000e+00],\n",
              "         [2.922500e+05],\n",
              "         [5.870270e+05],\n",
              "         [0.000000e+00]]]])"
            ]
          },
          "metadata": {},
          "execution_count": 181
        }
      ]
    },
    {
      "cell_type": "markdown",
      "source": [
        "## Section 4: Predicting Missing Activities using LSTM"
      ],
      "metadata": {
        "id": "EXAnlX9-9ucz"
      }
    },
    {
      "cell_type": "markdown",
      "source": [
        "###4.1 Prefix LSTM"
      ],
      "metadata": {
        "id": "TFzjzYvHofju"
      }
    },
    {
      "cell_type": "code",
      "source": [
        "# forwards LSTM\n",
        "from numpy import array\n",
        "from keras.models import Sequential\n",
        "from keras.layers import LSTM, Dense, Softmax, Bidirectional, Embedding\n",
        "\n",
        "\n",
        "prefix_LSTM = Sequential()\n",
        "prefix_LSTM.add(Embedding(input_dim=n_activities, output_dim=50))\n",
        "prefix_LSTM.add(LSTM(50, activation='relu', return_sequences=False, input_shape=(PREFIX_LENGTH, 1)))\n",
        "prefix_LSTM.add(Dense(n_activities, activation='softmax'))\n",
        "\n",
        "prefix_LSTM.compile(optimizer='adam', loss='categorical_crossentropy', metrics=['accuracy'])\n",
        "prefix_LSTM.summary()\n",
        "prefix_LSTM.fit(train_x[0], train_y, validation_data=(validation_x[0], validation_y), epochs=10)\n"
      ],
      "metadata": {
        "id": "oCr7EikZNzvZ",
        "outputId": "d50df48c-28e2-47b0-d003-43d6d99da031",
        "colab": {
          "base_uri": "https://localhost:8080/"
        }
      },
      "execution_count": 182,
      "outputs": [
        {
          "output_type": "stream",
          "name": "stdout",
          "text": [
            "Model: \"sequential_6\"\n",
            "_________________________________________________________________\n",
            " Layer (type)                Output Shape              Param #   \n",
            "=================================================================\n",
            " embedding_6 (Embedding)     (None, None, 50)          300       \n",
            "                                                                 \n",
            " lstm_14 (LSTM)              (None, 50)                20200     \n",
            "                                                                 \n",
            " dense_6 (Dense)             (None, 6)                 306       \n",
            "                                                                 \n",
            "=================================================================\n",
            "Total params: 20,806\n",
            "Trainable params: 20,806\n",
            "Non-trainable params: 0\n",
            "_________________________________________________________________\n",
            "Epoch 1/10\n",
            "74/74 [==============================] - 4s 21ms/step - loss: 1.5660 - accuracy: 0.6689 - val_loss: 0.8908 - val_accuracy: 0.8790\n",
            "Epoch 2/10\n",
            "74/74 [==============================] - 1s 13ms/step - loss: 0.4615 - accuracy: 0.8871 - val_loss: 0.3697 - val_accuracy: 0.8825\n",
            "Epoch 3/10\n",
            "74/74 [==============================] - 1s 14ms/step - loss: 0.3246 - accuracy: 0.9101 - val_loss: 0.3234 - val_accuracy: 0.9080\n",
            "Epoch 4/10\n",
            "74/74 [==============================] - 1s 11ms/step - loss: 0.3122 - accuracy: 0.9127 - val_loss: 0.3194 - val_accuracy: 0.9046\n",
            "Epoch 5/10\n",
            "74/74 [==============================] - 1s 10ms/step - loss: 0.2976 - accuracy: 0.9152 - val_loss: 0.3125 - val_accuracy: 0.9046\n",
            "Epoch 6/10\n",
            "74/74 [==============================] - 1s 10ms/step - loss: 0.2954 - accuracy: 0.9161 - val_loss: 0.3095 - val_accuracy: 0.9046\n",
            "Epoch 7/10\n",
            "74/74 [==============================] - 1s 9ms/step - loss: 0.2884 - accuracy: 0.9161 - val_loss: 0.3153 - val_accuracy: 0.9046\n",
            "Epoch 8/10\n",
            "74/74 [==============================] - 1s 9ms/step - loss: 0.2881 - accuracy: 0.9165 - val_loss: 0.3048 - val_accuracy: 0.9046\n",
            "Epoch 9/10\n",
            "74/74 [==============================] - 1s 9ms/step - loss: 0.2863 - accuracy: 0.9165 - val_loss: 0.3013 - val_accuracy: 0.9046\n",
            "Epoch 10/10\n",
            "74/74 [==============================] - 1s 8ms/step - loss: 0.2853 - accuracy: 0.9156 - val_loss: 0.3000 - val_accuracy: 0.9046\n"
          ]
        },
        {
          "output_type": "execute_result",
          "data": {
            "text/plain": [
              "<keras.callbacks.History at 0x7f7f363ff640>"
            ]
          },
          "metadata": {},
          "execution_count": 182
        }
      ]
    },
    {
      "cell_type": "markdown",
      "source": [
        "###4.2 Suffix LSTM"
      ],
      "metadata": {
        "id": "aGpe3K7XomJb"
      }
    },
    {
      "cell_type": "code",
      "source": [
        "# backwards LSTM\n",
        "\n",
        "suffix_LSTM = Sequential()\n",
        "suffix_LSTM.add(Embedding(input_dim=n_activities, output_dim=50))\n",
        "suffix_LSTM.add(LSTM(50, activation='relu', return_sequences=False, input_shape=(PREFIX_LENGTH, 1)))\n",
        "suffix_LSTM.add(Dense(n_activities, activation='softmax'))\n",
        "\n",
        "suffix_LSTM.compile(optimizer='adam', loss='categorical_crossentropy', metrics=['accuracy'])\n",
        "suffix_LSTM.summary()\n",
        "suffix_LSTM.fit(train_x[1], train_y, validation_data=(validation_x[1], validation_y), epochs=10)\n"
      ],
      "metadata": {
        "colab": {
          "base_uri": "https://localhost:8080/"
        },
        "id": "m6M3ftNNPzC4",
        "outputId": "e39edc4a-f1af-492c-fc20-7ede71bb5bb6"
      },
      "execution_count": 183,
      "outputs": [
        {
          "output_type": "stream",
          "name": "stdout",
          "text": [
            "Model: \"sequential_7\"\n",
            "_________________________________________________________________\n",
            " Layer (type)                Output Shape              Param #   \n",
            "=================================================================\n",
            " embedding_7 (Embedding)     (None, None, 50)          300       \n",
            "                                                                 \n",
            " lstm_15 (LSTM)              (None, 50)                20200     \n",
            "                                                                 \n",
            " dense_7 (Dense)             (None, 6)                 306       \n",
            "                                                                 \n",
            "=================================================================\n",
            "Total params: 20,806\n",
            "Trainable params: 20,806\n",
            "Non-trainable params: 0\n",
            "_________________________________________________________________\n",
            "Epoch 1/10\n",
            "74/74 [==============================] - 3s 13ms/step - loss: 1.5355 - accuracy: 0.3975 - val_loss: 0.9260 - val_accuracy: 0.7121\n",
            "Epoch 2/10\n",
            "74/74 [==============================] - 1s 8ms/step - loss: 0.5918 - accuracy: 0.8598 - val_loss: 0.5054 - val_accuracy: 0.8756\n",
            "Epoch 3/10\n",
            "74/74 [==============================] - 1s 8ms/step - loss: 0.3766 - accuracy: 0.9156 - val_loss: 0.3537 - val_accuracy: 0.9148\n",
            "Epoch 4/10\n",
            "74/74 [==============================] - 1s 9ms/step - loss: 0.2827 - accuracy: 0.9271 - val_loss: 0.3026 - val_accuracy: 0.9250\n",
            "Epoch 5/10\n",
            "74/74 [==============================] - 1s 12ms/step - loss: 0.2662 - accuracy: 0.9331 - val_loss: 0.3003 - val_accuracy: 0.9250\n",
            "Epoch 6/10\n",
            "74/74 [==============================] - 1s 12ms/step - loss: 0.2537 - accuracy: 0.9331 - val_loss: 0.2959 - val_accuracy: 0.9267\n",
            "Epoch 7/10\n",
            "74/74 [==============================] - 1s 12ms/step - loss: 0.2491 - accuracy: 0.9331 - val_loss: 0.2907 - val_accuracy: 0.9267\n",
            "Epoch 8/10\n",
            "74/74 [==============================] - 1s 13ms/step - loss: 0.2494 - accuracy: 0.9331 - val_loss: 0.2813 - val_accuracy: 0.9267\n",
            "Epoch 9/10\n",
            "74/74 [==============================] - 1s 13ms/step - loss: 0.2494 - accuracy: 0.9331 - val_loss: 0.2929 - val_accuracy: 0.9250\n",
            "Epoch 10/10\n",
            "74/74 [==============================] - 1s 9ms/step - loss: 0.2448 - accuracy: 0.9335 - val_loss: 0.2698 - val_accuracy: 0.9267\n"
          ]
        },
        {
          "output_type": "execute_result",
          "data": {
            "text/plain": [
              "<keras.callbacks.History at 0x7f7f35ed1a00>"
            ]
          },
          "metadata": {},
          "execution_count": 183
        }
      ]
    },
    {
      "cell_type": "markdown",
      "source": [
        "###4.3 Bidirectional LSTM "
      ],
      "metadata": {
        "id": "G50NuIbPosMC"
      }
    },
    {
      "cell_type": "code",
      "source": [
        "from pandas.core.internals import concat\n",
        "# Bidirectional LSTM\n",
        "from keras.layers import Bidirectional, Input, concatenate, average\n",
        "from keras import Model\n",
        "\n",
        "prefix_input = Input(shape=(PREFIX_LENGTH, 1), name='prefix_input')\n",
        "suffix_input = Input(shape=(PREFIX_LENGTH, 1), name='suffix_input')\n",
        "\n",
        "lstm_layer = LSTM(50)\n",
        "\n",
        "prefix_layer = Bidirectional(lstm_layer, name='prefix_lstm')(prefix_input)\n",
        "suffix_layer = Bidirectional(lstm_layer, name='suffix_lstm')(suffix_input)\n",
        "\n",
        "merged = concatenate([prefix_layer, suffix_layer], name='merged')\n",
        "\n",
        "output = Dense(n_activities, activation='softmax', name='output')(merged)\n",
        "\n",
        "bi_LSTM = Model(inputs=[prefix_input, suffix_input], outputs=output)\n",
        "bi_LSTM.compile(loss='categorical_crossentropy', optimizer='adam', metrics=['accuracy'])\n",
        "bi_LSTM.summary()\n",
        "bi_LSTM.fit((train_x[0], train_x[1]), train_y,  validation_data=((validation_x[0], validation_x[1]), validation_y), epochs=10)"
      ],
      "metadata": {
        "colab": {
          "base_uri": "https://localhost:8080/"
        },
        "id": "5hVt5Hezf2n0",
        "outputId": "ffdc5107-a9a0-4128-959a-73ec11601e39"
      },
      "execution_count": 184,
      "outputs": [
        {
          "output_type": "stream",
          "name": "stdout",
          "text": [
            "Model: \"model_8\"\n",
            "__________________________________________________________________________________________________\n",
            " Layer (type)                   Output Shape         Param #     Connected to                     \n",
            "==================================================================================================\n",
            " prefix_input (InputLayer)      [(None, 5, 1)]       0           []                               \n",
            "                                                                                                  \n",
            " suffix_input (InputLayer)      [(None, 5, 1)]       0           []                               \n",
            "                                                                                                  \n",
            " prefix_lstm (Bidirectional)    (None, 100)          20800       ['prefix_input[0][0]']           \n",
            "                                                                                                  \n",
            " suffix_lstm (Bidirectional)    (None, 100)          20800       ['suffix_input[0][0]']           \n",
            "                                                                                                  \n",
            " merged (Concatenate)           (None, 200)          0           ['prefix_lstm[0][0]',            \n",
            "                                                                  'suffix_lstm[0][0]']            \n",
            "                                                                                                  \n",
            " output (Dense)                 (None, 6)            1206        ['merged[0][0]']                 \n",
            "                                                                                                  \n",
            "==================================================================================================\n",
            "Total params: 42,806\n",
            "Trainable params: 42,806\n",
            "Non-trainable params: 0\n",
            "__________________________________________________________________________________________________\n",
            "Epoch 1/10\n",
            "74/74 [==============================] - 15s 60ms/step - loss: 1.1173 - accuracy: 0.6297 - val_loss: 0.6111 - val_accuracy: 0.8603\n",
            "Epoch 2/10\n",
            "74/74 [==============================] - 1s 18ms/step - loss: 0.4341 - accuracy: 0.8850 - val_loss: 0.3493 - val_accuracy: 0.9029\n",
            "Epoch 3/10\n",
            "74/74 [==============================] - 1s 17ms/step - loss: 0.2574 - accuracy: 0.9195 - val_loss: 0.2348 - val_accuracy: 0.9182\n",
            "Epoch 4/10\n",
            "74/74 [==============================] - 1s 17ms/step - loss: 0.1955 - accuracy: 0.9288 - val_loss: 0.1918 - val_accuracy: 0.9182\n",
            "Epoch 5/10\n",
            "74/74 [==============================] - 1s 20ms/step - loss: 0.1712 - accuracy: 0.9318 - val_loss: 0.1725 - val_accuracy: 0.9438\n",
            "Epoch 6/10\n",
            "74/74 [==============================] - 2s 31ms/step - loss: 0.1583 - accuracy: 0.9408 - val_loss: 0.1704 - val_accuracy: 0.9421\n",
            "Epoch 7/10\n",
            "74/74 [==============================] - 2s 27ms/step - loss: 0.1498 - accuracy: 0.9391 - val_loss: 0.1515 - val_accuracy: 0.9421\n",
            "Epoch 8/10\n",
            "74/74 [==============================] - 1s 17ms/step - loss: 0.1439 - accuracy: 0.9412 - val_loss: 0.1437 - val_accuracy: 0.9250\n",
            "Epoch 9/10\n",
            "74/74 [==============================] - 1s 17ms/step - loss: 0.1312 - accuracy: 0.9472 - val_loss: 0.1355 - val_accuracy: 0.9489\n",
            "Epoch 10/10\n",
            "74/74 [==============================] - 1s 17ms/step - loss: 0.1237 - accuracy: 0.9493 - val_loss: 0.1286 - val_accuracy: 0.9438\n"
          ]
        },
        {
          "output_type": "execute_result",
          "data": {
            "text/plain": [
              "<keras.callbacks.History at 0x7f7f2f67fd30>"
            ]
          },
          "metadata": {},
          "execution_count": 184
        }
      ]
    },
    {
      "cell_type": "markdown",
      "source": [
        "###4.4 Bi-directional LSTM with timedeltas"
      ],
      "metadata": {
        "id": "57iYyLcgH8qe"
      }
    },
    {
      "cell_type": "code",
      "source": [
        "# this LSTM takes additional two inputs:\n",
        "# time deltas for the prefix events\n",
        "# time deltas for the suffix events\n",
        "\n",
        "prefix_events_input = Input(shape=(PREFIX_LENGTH, 1), name='prefix_events_input')\n",
        "suffix_events_input = Input(shape=(PREFIX_LENGTH, 1), name='suffix_events_input')\n",
        "\n",
        "prefix_deltas_input = Input(shape=(PREFIX_LENGTH, 1), name='prefix_deltas_input')\n",
        "suffix_deltas_input = Input(shape=(PREFIX_LENGTH, 1), name='suffix_deltas_input')\n",
        "\n",
        "merged_prefix = concatenate([prefix_events_input, prefix_deltas_input], axis=-1)\n",
        "merged_suffix = concatenate([suffix_events_input, suffix_deltas_input], axis=-1)\n",
        "\n",
        "lstm_layer = LSTM(50)\n",
        "\n",
        "prefix_layer = Bidirectional(lstm_layer, name='prefix_lstm')(merged_prefix)\n",
        "suffix_layer = Bidirectional(lstm_layer, name='suffix_lstm')(merged_suffix)\n",
        "\n",
        "merged = concatenate([prefix_layer, suffix_layer], name='merged')\n",
        "\n",
        "output = Dense(n_activities, activation='softmax', name='output')(merged)\n",
        "\n",
        "bi_LSTM_td = Model(\n",
        "    inputs=[prefix_events_input, suffix_events_input, prefix_deltas_input, suffix_deltas_input],\n",
        "    outputs=output)\n",
        "\n",
        "bi_LSTM_td.compile(loss='categorical_crossentropy', optimizer='adam', metrics=['accuracy'])\n",
        "bi_LSTM_td.summary()\n",
        "bi_LSTM_td.fit(\n",
        "    (train_x[0], train_x[1], train_x[2], train_x[3]),\n",
        "    train_y,\n",
        "    validation_data=((validation_x[0], validation_x[1], validation_x[2], validation_x[3]),\n",
        "                     validation_y), epochs=10)\n",
        "\n"
      ],
      "metadata": {
        "colab": {
          "base_uri": "https://localhost:8080/"
        },
        "id": "aQ9ET2h1IBUH",
        "outputId": "b3b4c0a7-5773-4d9c-a94b-d524fed17a5e"
      },
      "execution_count": 185,
      "outputs": [
        {
          "output_type": "stream",
          "name": "stdout",
          "text": [
            "Model: \"model_9\"\n",
            "__________________________________________________________________________________________________\n",
            " Layer (type)                   Output Shape         Param #     Connected to                     \n",
            "==================================================================================================\n",
            " prefix_events_input (InputLaye  [(None, 5, 1)]      0           []                               \n",
            " r)                                                                                               \n",
            "                                                                                                  \n",
            " prefix_deltas_input (InputLaye  [(None, 5, 1)]      0           []                               \n",
            " r)                                                                                               \n",
            "                                                                                                  \n",
            " suffix_events_input (InputLaye  [(None, 5, 1)]      0           []                               \n",
            " r)                                                                                               \n",
            "                                                                                                  \n",
            " suffix_deltas_input (InputLaye  [(None, 5, 1)]      0           []                               \n",
            " r)                                                                                               \n",
            "                                                                                                  \n",
            " concatenate_9 (Concatenate)    (None, 5, 2)         0           ['prefix_events_input[0][0]',    \n",
            "                                                                  'prefix_deltas_input[0][0]']    \n",
            "                                                                                                  \n",
            " concatenate_10 (Concatenate)   (None, 5, 2)         0           ['suffix_events_input[0][0]',    \n",
            "                                                                  'suffix_deltas_input[0][0]']    \n",
            "                                                                                                  \n",
            " prefix_lstm (Bidirectional)    (None, 100)          21200       ['concatenate_9[0][0]']          \n",
            "                                                                                                  \n",
            " suffix_lstm (Bidirectional)    (None, 100)          21200       ['concatenate_10[0][0]']         \n",
            "                                                                                                  \n",
            " merged (Concatenate)           (None, 200)          0           ['prefix_lstm[0][0]',            \n",
            "                                                                  'suffix_lstm[0][0]']            \n",
            "                                                                                                  \n",
            " output (Dense)                 (None, 6)            1206        ['merged[0][0]']                 \n",
            "                                                                                                  \n",
            "==================================================================================================\n",
            "Total params: 43,606\n",
            "Trainable params: 43,606\n",
            "Non-trainable params: 0\n",
            "__________________________________________________________________________________________________\n",
            "Epoch 1/10\n",
            "74/74 [==============================] - 13s 44ms/step - loss: 0.8994 - accuracy: 0.7563 - val_loss: 0.3375 - val_accuracy: 0.9046\n",
            "Epoch 2/10\n",
            "74/74 [==============================] - 1s 17ms/step - loss: 0.2319 - accuracy: 0.9207 - val_loss: 0.2044 - val_accuracy: 0.9199\n",
            "Epoch 3/10\n",
            "74/74 [==============================] - 1s 19ms/step - loss: 0.1692 - accuracy: 0.9280 - val_loss: 0.1854 - val_accuracy: 0.9336\n",
            "Epoch 4/10\n",
            "74/74 [==============================] - 1s 20ms/step - loss: 0.1576 - accuracy: 0.9365 - val_loss: 0.1553 - val_accuracy: 0.9284\n",
            "Epoch 5/10\n",
            "74/74 [==============================] - 3s 34ms/step - loss: 0.1481 - accuracy: 0.9378 - val_loss: 0.1443 - val_accuracy: 0.9353\n",
            "Epoch 6/10\n",
            "74/74 [==============================] - 2s 26ms/step - loss: 0.1400 - accuracy: 0.9408 - val_loss: 0.1404 - val_accuracy: 0.9370\n",
            "Epoch 7/10\n",
            "74/74 [==============================] - 1s 18ms/step - loss: 0.1306 - accuracy: 0.9403 - val_loss: 0.1363 - val_accuracy: 0.9506\n",
            "Epoch 8/10\n",
            "74/74 [==============================] - 1s 17ms/step - loss: 0.1282 - accuracy: 0.9429 - val_loss: 0.1297 - val_accuracy: 0.9438\n",
            "Epoch 9/10\n",
            "74/74 [==============================] - 1s 16ms/step - loss: 0.1246 - accuracy: 0.9421 - val_loss: 0.1373 - val_accuracy: 0.9421\n",
            "Epoch 10/10\n",
            "74/74 [==============================] - 1s 18ms/step - loss: 0.1232 - accuracy: 0.9442 - val_loss: 0.1289 - val_accuracy: 0.9591\n"
          ]
        },
        {
          "output_type": "execute_result",
          "data": {
            "text/plain": [
              "<keras.callbacks.History at 0x7f7f39e69ca0>"
            ]
          },
          "metadata": {},
          "execution_count": 185
        }
      ]
    },
    {
      "cell_type": "markdown",
      "source": [
        "##Section 5: Evaluation and Conformance Checking"
      ],
      "metadata": {
        "id": "aNoGbrOXPXlY"
      }
    },
    {
      "cell_type": "code",
      "source": [
        "def evaluate(predictions, verbose=False):\n",
        "  correct = 0 \n",
        "  incorrect = 0\n",
        "  for i in range(len(test_targets)):\n",
        "    prediction = np.argmax(predictions[i])\n",
        "    if int(prediction) == int(test_targets[i]):\n",
        "      correct += 1\n",
        "    else:\n",
        "      if verbose:\n",
        "        print(f\"predicted : {prediction}; expected : {test_targets[i]}\")\n",
        "      incorrect += 1\n",
        "\n",
        "\n",
        "  accuracy = correct/(correct + incorrect)\n",
        "  return accuracy"
      ],
      "metadata": {
        "id": "eY7I97Mtgc0o"
      },
      "execution_count": 186,
      "outputs": []
    },
    {
      "cell_type": "code",
      "source": [
        "# prefix-LSTM\n",
        "predictions_prefix = prefix_LSTM.predict(test_x[0])\n",
        "evaluate(predictions_prefix)"
      ],
      "metadata": {
        "id": "kNtmthRhlzUT",
        "outputId": "25e07d54-62ce-4433-84cb-fa1c1178d531",
        "colab": {
          "base_uri": "https://localhost:8080/"
        }
      },
      "execution_count": 187,
      "outputs": [
        {
          "output_type": "stream",
          "name": "stdout",
          "text": [
            "23/23 [==============================] - 0s 3ms/step\n"
          ]
        },
        {
          "output_type": "execute_result",
          "data": {
            "text/plain": [
              "0.9100817438692098"
            ]
          },
          "metadata": {},
          "execution_count": 187
        }
      ]
    },
    {
      "cell_type": "code",
      "source": [
        "# suffix-LSTM\n",
        "predictions_suffix = suffix_LSTM.predict(test_x[1])\n",
        "evaluate(predictions_suffix)"
      ],
      "metadata": {
        "id": "uHygv6PVmHwN",
        "outputId": "8815d292-b39d-4f2c-860a-8952b2bfe3d9",
        "colab": {
          "base_uri": "https://localhost:8080/"
        }
      },
      "execution_count": 188,
      "outputs": [
        {
          "output_type": "stream",
          "name": "stdout",
          "text": [
            "23/23 [==============================] - 0s 3ms/step\n"
          ]
        },
        {
          "output_type": "execute_result",
          "data": {
            "text/plain": [
              "0.9182561307901907"
            ]
          },
          "metadata": {},
          "execution_count": 188
        }
      ]
    },
    {
      "cell_type": "code",
      "source": [
        "# averaging outputs\n",
        "predictions = []\n",
        "for p in zip(predictions_prefix, predictions_suffix):\n",
        " \n",
        "  arr = []\n",
        "  for i in range(0,4):\n",
        "    arr.append((p[0][i]+p[1][i])/2)\n",
        "  predictions += [arr]\n",
        "\n",
        "predictions = np.array(predictions)\n",
        "\n",
        "evaluate(predictions)"
      ],
      "metadata": {
        "id": "C7lXTArfl8QC",
        "outputId": "933ecd7e-6879-4277-b5a2-2ed3ad836212",
        "colab": {
          "base_uri": "https://localhost:8080/"
        }
      },
      "execution_count": 189,
      "outputs": [
        {
          "output_type": "execute_result",
          "data": {
            "text/plain": [
              "0.5871934604904632"
            ]
          },
          "metadata": {},
          "execution_count": 189
        }
      ]
    },
    {
      "cell_type": "code",
      "source": [
        "# bi-LSTM\n",
        "predictions_bi = bi_LSTM.predict([test_x[0], test_x[1]])\n",
        "evaluate(predictions_bi)"
      ],
      "metadata": {
        "id": "cHLWdwqrmAQC",
        "outputId": "f51e269a-c5db-4cca-a89e-e942dc280fd5",
        "colab": {
          "base_uri": "https://localhost:8080/"
        }
      },
      "execution_count": 190,
      "outputs": [
        {
          "output_type": "stream",
          "name": "stdout",
          "text": [
            "23/23 [==============================] - 3s 9ms/step\n"
          ]
        },
        {
          "output_type": "execute_result",
          "data": {
            "text/plain": [
              "0.9550408719346049"
            ]
          },
          "metadata": {},
          "execution_count": 190
        }
      ]
    },
    {
      "cell_type": "code",
      "source": [
        "# bi-LSTM with time deltas\n",
        "predictions_bi_td = bi_LSTM_td.predict([test_x[0], test_x[1], test_x[2], test_x[3]])\n",
        "evaluate(predictions_bi_td)"
      ],
      "metadata": {
        "id": "4mZtYK3WRskJ",
        "outputId": "c7cfd6be-4977-40f5-c55c-cf92530f6a2e",
        "colab": {
          "base_uri": "https://localhost:8080/"
        }
      },
      "execution_count": 191,
      "outputs": [
        {
          "output_type": "stream",
          "name": "stdout",
          "text": [
            "23/23 [==============================] - 3s 6ms/step\n"
          ]
        },
        {
          "output_type": "execute_result",
          "data": {
            "text/plain": [
              "0.9591280653950953"
            ]
          },
          "metadata": {},
          "execution_count": 191
        }
      ]
    }
  ],
  "metadata": {
    "kernelspec": {
      "display_name": "Python 3",
      "language": "python",
      "name": "python3"
    },
    "language_info": {
      "codemirror_mode": {
        "name": "ipython",
        "version": 3
      },
      "file_extension": ".py",
      "mimetype": "text/x-python",
      "name": "python",
      "nbconvert_exporter": "python",
      "pygments_lexer": "ipython3",
      "version": "3.10.2"
    },
    "orig_nbformat": 4,
    "vscode": {
      "interpreter": {
        "hash": "668626f72d98c3d20278a861d4c9cd1e9608e85361f1e74d685459c6ce5f80f9"
      }
    },
    "colab": {
      "provenance": [],
      "include_colab_link": true
    },
    "accelerator": "TPU",
    "gpuClass": "standard"
  },
  "nbformat": 4,
  "nbformat_minor": 0
}