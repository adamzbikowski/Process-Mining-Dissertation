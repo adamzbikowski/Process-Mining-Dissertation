{
  "cells": [
    {
      "cell_type": "markdown",
      "metadata": {
        "id": "view-in-github",
        "colab_type": "text"
      },
      "source": [
        "<a href=\"https://colab.research.google.com/github/adamzbikowski/Process-Mining-Dissertation/blob/main/activity_pipeline.ipynb\" target=\"_parent\"><img src=\"https://colab.research.google.com/assets/colab-badge.svg\" alt=\"Open In Colab\"/></a>"
      ]
    },
    {
      "cell_type": "markdown",
      "metadata": {
        "id": "_vJIqfLeCjHP"
      },
      "source": [
        "# Pipeline 1: predicting missing values for activity"
      ]
    },
    {
      "cell_type": "markdown",
      "source": [
        "##Section 0: Customisation"
      ],
      "metadata": {
        "id": "LZGZm2vxOFBT"
      }
    },
    {
      "cell_type": "markdown",
      "source": [
        "**Note on usage:**\n",
        "To customise the pipeline, only alter the parameters in this section."
      ],
      "metadata": {
        "id": "uuEFUnhyPLSz"
      }
    },
    {
      "cell_type": "code",
      "source": [
        "# The following parameters can be customised:\n",
        "\n",
        "# change depending on which branch the queries have been pushed to\n",
        "BRANCH = \"sql-queries\" \n",
        "\n",
        "# change this to change which query is being used\n",
        "QUERY_NAME = \"el_hypertension.sql\"\n",
        "# QUERY_NAME = \"el_diabetes.sql\"\n",
        "# QUERY_NAME = \"el_congestive_heart_failure.sql\"\n",
        "# QUERY_NAME = \"el_kidney_failure.sql\"\n",
        "# QUERY_NAME = \"el_artial_fibrillation.sql\"\n",
        "\n",
        "# this assumes that the user has access to the mimic-iii dataset\n",
        "# through google BigQuery\n",
        "# replace project name to the project containing mimic-iii\n",
        "PROJECT_NAME = \"processmining-367815\" \n",
        "\n",
        "# change to alter the number of random traces being selected\n",
        "# set value to None in order to use the full dataset\n",
        "NUM_TRACES = 10000\n",
        "\n",
        "# IGNORE if event log does not include procedures\n",
        "# set to false if  \n",
        "CATEGORICAL_PROCEDURES = False\n",
        "\n",
        "# change to alter the prefix/suffix length\n",
        "PREFIX_LENGTH = 5\n",
        "\n",
        "# change to alter the size of the test and validation sets\n",
        "TEST_SIZE = 0.2\n",
        "VALIDATION_SIZE = 0.2"
      ],
      "metadata": {
        "id": "7SRLZ8SUOEMp"
      },
      "execution_count": 1,
      "outputs": []
    },
    {
      "cell_type": "markdown",
      "metadata": {
        "id": "L27GXRjHCjHV"
      },
      "source": [
        "## Section 1: Loading event log"
      ]
    },
    {
      "cell_type": "markdown",
      "source": [
        "###1.1"
      ],
      "metadata": {
        "id": "9vuR0FKfBtms"
      }
    },
    {
      "cell_type": "code",
      "source": [
        "# installing prerequisites\n",
        "# certain packages are not installed by default on google colab\n",
        "!pip install pm4py\n",
        "!pip install -q -U keras-tuner"
      ],
      "metadata": {
        "colab": {
          "base_uri": "https://localhost:8080/"
        },
        "id": "JtmZ3GBVDj-s",
        "outputId": "b114ed1e-ef58-4cad-fc00-a7ddef50d563"
      },
      "execution_count": 2,
      "outputs": [
        {
          "output_type": "stream",
          "name": "stdout",
          "text": [
            "Looking in indexes: https://pypi.org/simple, https://us-python.pkg.dev/colab-wheels/public/simple/\n",
            "Collecting pm4py\n",
            "  Downloading pm4py-2.7.3-py3-none-any.whl (1.7 MB)\n",
            "\u001b[2K     \u001b[90m━━━━━━━━━━━━━━━━━━━━━━━━━━━━━━━━━━━━━━━━\u001b[0m \u001b[32m1.7/1.7 MB\u001b[0m \u001b[31m14.3 MB/s\u001b[0m eta \u001b[36m0:00:00\u001b[0m\n",
            "\u001b[?25hCollecting deprecation (from pm4py)\n",
            "  Downloading deprecation-2.1.0-py2.py3-none-any.whl (11 kB)\n",
            "Requirement already satisfied: graphviz in /usr/local/lib/python3.10/dist-packages (from pm4py) (0.20.1)\n",
            "Collecting intervaltree (from pm4py)\n",
            "  Downloading intervaltree-3.1.0.tar.gz (32 kB)\n",
            "  Preparing metadata (setup.py) ... \u001b[?25l\u001b[?25hdone\n",
            "Requirement already satisfied: lxml in /usr/local/lib/python3.10/dist-packages (from pm4py) (4.9.2)\n",
            "Requirement already satisfied: matplotlib in /usr/local/lib/python3.10/dist-packages (from pm4py) (3.7.1)\n",
            "Requirement already satisfied: networkx in /usr/local/lib/python3.10/dist-packages (from pm4py) (3.1)\n",
            "Requirement already satisfied: numpy in /usr/local/lib/python3.10/dist-packages (from pm4py) (1.22.4)\n",
            "Requirement already satisfied: pandas in /usr/local/lib/python3.10/dist-packages (from pm4py) (1.5.3)\n",
            "Requirement already satisfied: pydotplus in /usr/local/lib/python3.10/dist-packages (from pm4py) (2.0.2)\n",
            "Requirement already satisfied: pytz in /usr/local/lib/python3.10/dist-packages (from pm4py) (2022.7.1)\n",
            "Requirement already satisfied: scipy in /usr/local/lib/python3.10/dist-packages (from pm4py) (1.10.1)\n",
            "Collecting stringdist (from pm4py)\n",
            "  Downloading StringDist-1.0.9.tar.gz (7.4 kB)\n",
            "  Preparing metadata (setup.py) ... \u001b[?25l\u001b[?25hdone\n",
            "Requirement already satisfied: tqdm in /usr/local/lib/python3.10/dist-packages (from pm4py) (4.65.0)\n",
            "Requirement already satisfied: cvxopt in /usr/local/lib/python3.10/dist-packages (from pm4py) (1.3.0)\n",
            "Requirement already satisfied: packaging in /usr/local/lib/python3.10/dist-packages (from deprecation->pm4py) (23.1)\n",
            "Requirement already satisfied: sortedcontainers<3.0,>=2.0 in /usr/local/lib/python3.10/dist-packages (from intervaltree->pm4py) (2.4.0)\n",
            "Requirement already satisfied: contourpy>=1.0.1 in /usr/local/lib/python3.10/dist-packages (from matplotlib->pm4py) (1.0.7)\n",
            "Requirement already satisfied: cycler>=0.10 in /usr/local/lib/python3.10/dist-packages (from matplotlib->pm4py) (0.11.0)\n",
            "Requirement already satisfied: fonttools>=4.22.0 in /usr/local/lib/python3.10/dist-packages (from matplotlib->pm4py) (4.39.3)\n",
            "Requirement already satisfied: kiwisolver>=1.0.1 in /usr/local/lib/python3.10/dist-packages (from matplotlib->pm4py) (1.4.4)\n",
            "Requirement already satisfied: pillow>=6.2.0 in /usr/local/lib/python3.10/dist-packages (from matplotlib->pm4py) (8.4.0)\n",
            "Requirement already satisfied: pyparsing>=2.3.1 in /usr/local/lib/python3.10/dist-packages (from matplotlib->pm4py) (3.0.9)\n",
            "Requirement already satisfied: python-dateutil>=2.7 in /usr/local/lib/python3.10/dist-packages (from matplotlib->pm4py) (2.8.2)\n",
            "Requirement already satisfied: six>=1.5 in /usr/local/lib/python3.10/dist-packages (from python-dateutil>=2.7->matplotlib->pm4py) (1.16.0)\n",
            "Building wheels for collected packages: intervaltree, stringdist\n",
            "  Building wheel for intervaltree (setup.py) ... \u001b[?25l\u001b[?25hdone\n",
            "  Created wheel for intervaltree: filename=intervaltree-3.1.0-py2.py3-none-any.whl size=26114 sha256=a3f28ea2930b1efcefd20b8f0c006a8162218e799937abaa0c16499120d1f01d\n",
            "  Stored in directory: /root/.cache/pip/wheels/fa/80/8c/43488a924a046b733b64de3fac99252674c892a4c3801c0a61\n",
            "  Building wheel for stringdist (setup.py) ... \u001b[?25l\u001b[?25hdone\n",
            "  Created wheel for stringdist: filename=StringDist-1.0.9-cp310-cp310-linux_x86_64.whl size=24953 sha256=6ab45f38fb0b80a147dd1729567482cb68c0ad6a50e8874a6c4b0f636371c578\n",
            "  Stored in directory: /root/.cache/pip/wheels/79/25/0a/4a0c2c7af31a8b473f6e10e30312396f31ae899722600d7b99\n",
            "Successfully built intervaltree stringdist\n",
            "Installing collected packages: stringdist, intervaltree, deprecation, pm4py\n",
            "Successfully installed deprecation-2.1.0 intervaltree-3.1.0 pm4py-2.7.3 stringdist-1.0.9\n",
            "\u001b[2K     \u001b[90m━━━━━━━━━━━━━━━━━━━━━━━━━━━━━━━━━━━━━━━\u001b[0m \u001b[32m176.1/176.1 kB\u001b[0m \u001b[31m3.7 MB/s\u001b[0m eta \u001b[36m0:00:00\u001b[0m\n",
            "\u001b[?25h"
          ]
        }
      ]
    },
    {
      "cell_type": "code",
      "source": [
        "# sign in to google account linked to physionet\n",
        "from google.colab import auth\n",
        "auth.authenticate_user()"
      ],
      "metadata": {
        "id": "IrTL5G7bD7W6"
      },
      "execution_count": 3,
      "outputs": []
    },
    {
      "cell_type": "code",
      "source": [
        "# connect to BigQuery\n",
        "from google.cloud import bigquery\n",
        "client = bigquery.Client(project=PROJECT_NAME)"
      ],
      "metadata": {
        "id": "-aNc-OmPEAZq"
      },
      "execution_count": 4,
      "outputs": []
    },
    {
      "cell_type": "code",
      "source": [
        "import requests\n",
        "\n",
        "# read a query from the github repository\n",
        "url = f\"https://raw.githubusercontent.com/adamzbikowski/Process-Mining-Dissertation/{BRANCH}/sql_queries/{QUERY_NAME}\"\n",
        "query_bytes = requests.get(url).content\n",
        "\n",
        "# we must now decode this to turn the query into a string \n",
        "query = query_bytes.decode(\"utf-8\")"
      ],
      "metadata": {
        "id": "cLK5sJ_qwY5W"
      },
      "execution_count": 5,
      "outputs": []
    },
    {
      "cell_type": "markdown",
      "source": [
        "###1.2"
      ],
      "metadata": {
        "id": "77eoZypCBrLK"
      }
    },
    {
      "cell_type": "code",
      "execution_count": 6,
      "metadata": {
        "colab": {
          "base_uri": "https://localhost:8080/",
          "height": 423
        },
        "id": "CmSHODCZCjHW",
        "outputId": "77e37781-23ba-412e-e63c-6816918079ce"
      },
      "outputs": [
        {
          "output_type": "execute_result",
          "data": {
            "text/plain": [
              "        patient  activity           timestamp\n",
              "0        120290  Dialysis 2201-02-09 01:41:00\n",
              "1        120290  Dialysis 2201-02-13 22:31:00\n",
              "2        136056  Dialysis 2190-02-16 10:30:00\n",
              "3        136056  Dialysis 2190-02-11 18:35:00\n",
              "4        136056  Dialysis 2190-02-13 20:30:00\n",
              "...         ...       ...                 ...\n",
              "127266   116847        IV 2195-03-05 18:31:00\n",
              "127267   155516        IV 2103-09-21 03:00:00\n",
              "127268   177751        IV 2189-02-09 20:00:00\n",
              "127269   121528        IV 2174-04-12 15:55:00\n",
              "127270   128608        IV 2152-12-06 16:00:00\n",
              "\n",
              "[127271 rows x 3 columns]"
            ],
            "text/html": [
              "\n",
              "  <div id=\"df-62ac7833-b870-4b68-a8d0-c57cd83e05e0\">\n",
              "    <div class=\"colab-df-container\">\n",
              "      <div>\n",
              "<style scoped>\n",
              "    .dataframe tbody tr th:only-of-type {\n",
              "        vertical-align: middle;\n",
              "    }\n",
              "\n",
              "    .dataframe tbody tr th {\n",
              "        vertical-align: top;\n",
              "    }\n",
              "\n",
              "    .dataframe thead th {\n",
              "        text-align: right;\n",
              "    }\n",
              "</style>\n",
              "<table border=\"1\" class=\"dataframe\">\n",
              "  <thead>\n",
              "    <tr style=\"text-align: right;\">\n",
              "      <th></th>\n",
              "      <th>patient</th>\n",
              "      <th>activity</th>\n",
              "      <th>timestamp</th>\n",
              "    </tr>\n",
              "  </thead>\n",
              "  <tbody>\n",
              "    <tr>\n",
              "      <th>0</th>\n",
              "      <td>120290</td>\n",
              "      <td>Dialysis</td>\n",
              "      <td>2201-02-09 01:41:00</td>\n",
              "    </tr>\n",
              "    <tr>\n",
              "      <th>1</th>\n",
              "      <td>120290</td>\n",
              "      <td>Dialysis</td>\n",
              "      <td>2201-02-13 22:31:00</td>\n",
              "    </tr>\n",
              "    <tr>\n",
              "      <th>2</th>\n",
              "      <td>136056</td>\n",
              "      <td>Dialysis</td>\n",
              "      <td>2190-02-16 10:30:00</td>\n",
              "    </tr>\n",
              "    <tr>\n",
              "      <th>3</th>\n",
              "      <td>136056</td>\n",
              "      <td>Dialysis</td>\n",
              "      <td>2190-02-11 18:35:00</td>\n",
              "    </tr>\n",
              "    <tr>\n",
              "      <th>4</th>\n",
              "      <td>136056</td>\n",
              "      <td>Dialysis</td>\n",
              "      <td>2190-02-13 20:30:00</td>\n",
              "    </tr>\n",
              "    <tr>\n",
              "      <th>...</th>\n",
              "      <td>...</td>\n",
              "      <td>...</td>\n",
              "      <td>...</td>\n",
              "    </tr>\n",
              "    <tr>\n",
              "      <th>127266</th>\n",
              "      <td>116847</td>\n",
              "      <td>IV</td>\n",
              "      <td>2195-03-05 18:31:00</td>\n",
              "    </tr>\n",
              "    <tr>\n",
              "      <th>127267</th>\n",
              "      <td>155516</td>\n",
              "      <td>IV</td>\n",
              "      <td>2103-09-21 03:00:00</td>\n",
              "    </tr>\n",
              "    <tr>\n",
              "      <th>127268</th>\n",
              "      <td>177751</td>\n",
              "      <td>IV</td>\n",
              "      <td>2189-02-09 20:00:00</td>\n",
              "    </tr>\n",
              "    <tr>\n",
              "      <th>127269</th>\n",
              "      <td>121528</td>\n",
              "      <td>IV</td>\n",
              "      <td>2174-04-12 15:55:00</td>\n",
              "    </tr>\n",
              "    <tr>\n",
              "      <th>127270</th>\n",
              "      <td>128608</td>\n",
              "      <td>IV</td>\n",
              "      <td>2152-12-06 16:00:00</td>\n",
              "    </tr>\n",
              "  </tbody>\n",
              "</table>\n",
              "<p>127271 rows × 3 columns</p>\n",
              "</div>\n",
              "      <button class=\"colab-df-convert\" onclick=\"convertToInteractive('df-62ac7833-b870-4b68-a8d0-c57cd83e05e0')\"\n",
              "              title=\"Convert this dataframe to an interactive table.\"\n",
              "              style=\"display:none;\">\n",
              "        \n",
              "  <svg xmlns=\"http://www.w3.org/2000/svg\" height=\"24px\"viewBox=\"0 0 24 24\"\n",
              "       width=\"24px\">\n",
              "    <path d=\"M0 0h24v24H0V0z\" fill=\"none\"/>\n",
              "    <path d=\"M18.56 5.44l.94 2.06.94-2.06 2.06-.94-2.06-.94-.94-2.06-.94 2.06-2.06.94zm-11 1L8.5 8.5l.94-2.06 2.06-.94-2.06-.94L8.5 2.5l-.94 2.06-2.06.94zm10 10l.94 2.06.94-2.06 2.06-.94-2.06-.94-.94-2.06-.94 2.06-2.06.94z\"/><path d=\"M17.41 7.96l-1.37-1.37c-.4-.4-.92-.59-1.43-.59-.52 0-1.04.2-1.43.59L10.3 9.45l-7.72 7.72c-.78.78-.78 2.05 0 2.83L4 21.41c.39.39.9.59 1.41.59.51 0 1.02-.2 1.41-.59l7.78-7.78 2.81-2.81c.8-.78.8-2.07 0-2.86zM5.41 20L4 18.59l7.72-7.72 1.47 1.35L5.41 20z\"/>\n",
              "  </svg>\n",
              "      </button>\n",
              "      \n",
              "  <style>\n",
              "    .colab-df-container {\n",
              "      display:flex;\n",
              "      flex-wrap:wrap;\n",
              "      gap: 12px;\n",
              "    }\n",
              "\n",
              "    .colab-df-convert {\n",
              "      background-color: #E8F0FE;\n",
              "      border: none;\n",
              "      border-radius: 50%;\n",
              "      cursor: pointer;\n",
              "      display: none;\n",
              "      fill: #1967D2;\n",
              "      height: 32px;\n",
              "      padding: 0 0 0 0;\n",
              "      width: 32px;\n",
              "    }\n",
              "\n",
              "    .colab-df-convert:hover {\n",
              "      background-color: #E2EBFA;\n",
              "      box-shadow: 0px 1px 2px rgba(60, 64, 67, 0.3), 0px 1px 3px 1px rgba(60, 64, 67, 0.15);\n",
              "      fill: #174EA6;\n",
              "    }\n",
              "\n",
              "    [theme=dark] .colab-df-convert {\n",
              "      background-color: #3B4455;\n",
              "      fill: #D2E3FC;\n",
              "    }\n",
              "\n",
              "    [theme=dark] .colab-df-convert:hover {\n",
              "      background-color: #434B5C;\n",
              "      box-shadow: 0px 1px 3px 1px rgba(0, 0, 0, 0.15);\n",
              "      filter: drop-shadow(0px 1px 2px rgba(0, 0, 0, 0.3));\n",
              "      fill: #FFFFFF;\n",
              "    }\n",
              "  </style>\n",
              "\n",
              "      <script>\n",
              "        const buttonEl =\n",
              "          document.querySelector('#df-62ac7833-b870-4b68-a8d0-c57cd83e05e0 button.colab-df-convert');\n",
              "        buttonEl.style.display =\n",
              "          google.colab.kernel.accessAllowed ? 'block' : 'none';\n",
              "\n",
              "        async function convertToInteractive(key) {\n",
              "          const element = document.querySelector('#df-62ac7833-b870-4b68-a8d0-c57cd83e05e0');\n",
              "          const dataTable =\n",
              "            await google.colab.kernel.invokeFunction('convertToInteractive',\n",
              "                                                     [key], {});\n",
              "          if (!dataTable) return;\n",
              "\n",
              "          const docLinkHtml = 'Like what you see? Visit the ' +\n",
              "            '<a target=\"_blank\" href=https://colab.research.google.com/notebooks/data_table.ipynb>data table notebook</a>'\n",
              "            + ' to learn more about interactive tables.';\n",
              "          element.innerHTML = '';\n",
              "          dataTable['output_type'] = 'display_data';\n",
              "          await google.colab.output.renderOutput(dataTable, element);\n",
              "          const docLink = document.createElement('div');\n",
              "          docLink.innerHTML = docLinkHtml;\n",
              "          element.appendChild(docLink);\n",
              "        }\n",
              "      </script>\n",
              "    </div>\n",
              "  </div>\n",
              "  "
            ]
          },
          "metadata": {},
          "execution_count": 6
        }
      ],
      "source": [
        "import pandas as pd\n",
        "\n",
        "# loading event log from mimic-iii using bigQuery\n",
        "event_log = client.query(query).to_dataframe()\n",
        "# convert timestamp from object to datetime64\n",
        "event_log[\"timestamp\"] = pd.to_datetime(event_log[\"timestamp\"])\n",
        "event_log\n"
      ]
    },
    {
      "cell_type": "markdown",
      "metadata": {
        "id": "E5nBYFkHCjHY"
      },
      "source": [
        "## Section 2: Process Discovery"
      ]
    },
    {
      "cell_type": "code",
      "execution_count": 7,
      "metadata": {
        "colab": {
          "base_uri": "https://localhost:8080/"
        },
        "id": "q__4BhKCCjHY",
        "outputId": "cd03b20e-0ca2-4e5e-aef3-f57c050bd629"
      },
      "outputs": [
        {
          "output_type": "stream",
          "name": "stderr",
          "text": [
            "<ipython-input-7-aedec179434f>:3: DeprecatedWarning: format_dataframe is deprecated as of 2.3.0 and will be removed in 3.0.0. the format_dataframe function does not need application anymore.\n",
            "  event_log = pm.format_dataframe(event_log, case_id='patient', activity_key='activity', timestamp_key='timestamp')\n"
          ]
        },
        {
          "output_type": "stream",
          "name": "stdout",
          "text": [
            "Number of cases: 20696\n",
            "Number of events: 127271\n",
            "Start events: {'Admitted': 20390, 'Entered ICU': 265, 'Discharged': 23, 'Ventilation': 18}\n",
            "End events: {'Discharged': 17501, 'Left ICU': 3193, 'Admitted': 2}\n"
          ]
        }
      ],
      "source": [
        "import pm4py as pm\n",
        "\n",
        "event_log = pm.format_dataframe(event_log, case_id='patient', activity_key='activity', timestamp_key='timestamp')\n",
        "# lets get some information about the event log\n",
        "n_events = len(event_log)\n",
        "n_cases = len(event_log.patient.unique())\n",
        "start_events = pm.get_start_activities(event_log)\n",
        "end_events = pm.get_end_activities(event_log)\n",
        "print(f\"Number of cases: {n_cases}\\nNumber of events: {n_events}\")\n",
        "print(f\"Start events: {start_events}\\nEnd events: {end_events}\")\n"
      ]
    },
    {
      "cell_type": "code",
      "execution_count": 8,
      "metadata": {
        "id": "aETYaI3-CjHZ"
      },
      "outputs": [],
      "source": [
        "# lets improve the event log by filtering out the cases that do not start or end with a patient being admitted or discharged\n",
        "# this will simplify the model\n",
        "event_log = pm.filter_start_activities(event_log, ['Admitted'])\n",
        "event_log = pm.filter_end_activities(event_log,['Discharged'])"
      ]
    },
    {
      "cell_type": "code",
      "source": [
        "# lets recalculate the number of traces\n",
        "n_events = len(event_log)\n",
        "n_cases = len(event_log.patient.unique())\n",
        "start_events = pm.get_start_activities(event_log)\n",
        "end_events = pm.get_end_activities(event_log)\n",
        "print(f\"Number of cases: {n_cases}\\nNumber of events: {n_events}\")\n",
        "print(f\"Start events: {start_events}\\nEnd events: {end_events}\")"
      ],
      "metadata": {
        "id": "5O3FQUeLAHW3",
        "outputId": "7eb4b03b-69d2-417c-9ce9-51f4d36ec70c",
        "colab": {
          "base_uri": "https://localhost:8080/"
        }
      },
      "execution_count": 9,
      "outputs": [
        {
          "output_type": "stream",
          "name": "stdout",
          "text": [
            "Number of cases: 17237\n",
            "Number of events: 103017\n",
            "Start events: {'Admitted': 17237}\n",
            "End events: {'Discharged': 17237}\n"
          ]
        }
      ]
    },
    {
      "cell_type": "code",
      "execution_count": 10,
      "metadata": {
        "id": "boYeNhZuCjHa",
        "colab": {
          "base_uri": "https://localhost:8080/",
          "height": 328
        },
        "outputId": "d653a894-ed07-43a9-b510-961b147e85eb"
      },
      "outputs": [
        {
          "output_type": "display_data",
          "data": {
            "image/png": "[encoded data removed]",
            "text/plain": [
              "<IPython.core.display.Image object>"
            ]
          },
          "metadata": {}
        }
      ],
      "source": [
        "# create petri net using alpha miner\n",
        "import graphviz\n",
        "net, initial_marking, final_marking = pm.discover_petri_net_alpha(event_log)\n",
        "pm.view_petri_net(petri_net=net)"
      ]
    },
    {
      "cell_type": "code",
      "source": [
        "# inductive miner\n",
        "# much better result than when using alpha miner\n",
        "net, initial_marking, final_marking = pm.discover_petri_net_inductive(event_log)\n",
        "pm.view_petri_net(petri_net=net)"
      ],
      "metadata": {
        "id": "f6fgpjqRKw67",
        "outputId": "3fe89b05-0351-4303-e73b-3a03f2cf8020",
        "colab": {
          "base_uri": "https://localhost:8080/",
          "height": 562
        }
      },
      "execution_count": 11,
      "outputs": [
        {
          "output_type": "display_data",
          "data": {
            "image/png": "[encoded data removed]",
            "text/plain": [
              "<IPython.core.display.Image object>"
            ]
          },
          "metadata": {}
        }
      ]
    },
    {
      "cell_type": "code",
      "source": [
        "# heuristic miner\n",
        "heu_net = pm.discover_heuristics_net(event_log, dependency_threshold=0.99)\n",
        "pm.view_heuristics_net(heu_net)"
      ],
      "metadata": {
        "id": "SXk4_DHFLDpB",
        "outputId": "08a94c54-2214-47d9-86b3-5403503b291c",
        "colab": {
          "base_uri": "https://localhost:8080/",
          "height": 888
        }
      },
      "execution_count": 12,
      "outputs": [
        {
          "output_type": "display_data",
          "data": {
            "image/png": "[encoded data removed]",
            "text/plain": [
              "<IPython.core.display.Image object>"
            ]
          },
          "metadata": {}
        }
      ]
    },
    {
      "cell_type": "code",
      "source": [
        "# petri net from heuristics miner\n",
        "net, im, fm = pm.discover_petri_net_heuristics(event_log, dependency_threshold=0.99)\n",
        "pm.view_petri_net(net, im, fm)"
      ],
      "metadata": {
        "id": "EZOGRFF2LHwh",
        "outputId": "48ce5937-2502-447b-c439-355f2e0c9ad5",
        "colab": {
          "base_uri": "https://localhost:8080/",
          "height": 228
        }
      },
      "execution_count": 13,
      "outputs": [
        {
          "output_type": "display_data",
          "data": {
            "image/png": "[encoded data removed]",
            "text/plain": [
              "<IPython.core.display.Image object>"
            ]
          },
          "metadata": {}
        }
      ]
    },
    {
      "cell_type": "code",
      "source": [
        "# apply alignments to test conformance\n",
        "def replay(el, pn, im, fm):\n",
        "  replay_result_alignments = pm.fitness_alignments(el, pn, im, fm)\n",
        "  return  replay_result_alignments['average_trace_fitness']"
      ],
      "metadata": {
        "id": "KF4OXqz4rgX4"
      },
      "execution_count": 14,
      "outputs": []
    },
    {
      "cell_type": "code",
      "source": [
        "replay(event_log, net, im, fm)"
      ],
      "metadata": {
        "id": "7WIfuGNIrjmv",
        "outputId": "75d37c51-c26e-4b39-8ca8-7acbf3789999",
        "colab": {
          "base_uri": "https://localhost:8080/",
          "height": 66,
          "referenced_widgets": [
            "0921074b105a49fa93231d0327b4305b",
            "020a50a0c2fe4dc2b1041162e35f4db3",
            "37b32efb0b284b768e90cd60e80b214d",
            "f07301e40a264dd1836f3682ea729d50",
            "2fb339d903bf4981b0313055252aa739",
            "d20cec06a25a4b289f2dd8c4483d3230",
            "ac31db43eb8548f58a2433475f7e49f5",
            "61986fb8c864425aac25ddaf47b94c6f",
            "c0819bb3afc449528673ec430e36faa7",
            "3039fec5240340f1a059de170f8aded2",
            "aef7b01c307c4cb4acb1c2e34c153a7b"
          ]
        }
      },
      "execution_count": 15,
      "outputs": [
        {
          "output_type": "display_data",
          "data": {
            "text/plain": [
              "aligning log, completed variants ::   0%|          | 0/1046 [00:00<?, ?it/s]"
            ],
            "application/vnd.jupyter.widget-view+json": {
              "version_major": 2,
              "version_minor": 0,
              "model_id": "0921074b105a49fa93231d0327b4305b"
            }
          },
          "metadata": {}
        },
        {
          "output_type": "execute_result",
          "data": {
            "text/plain": [
              "0.9674622768313287"
            ]
          },
          "metadata": {},
          "execution_count": 15
        }
      ]
    },
    {
      "cell_type": "markdown",
      "source": [
        "## Section 3: Data Pre Processing\n",
        "\n"
      ],
      "metadata": {
        "id": "wQqrU3QsNC-4"
      }
    },
    {
      "cell_type": "code",
      "source": [
        "from pandas.core.window.ewm import partial\n",
        "import random\n",
        "\n",
        "# function selects n cases from event log\n",
        "# returns a subset of the event log\n",
        "def partial_log(el, n):\n",
        "\n",
        "  # select the first n cases to test the LSTM methodology\n",
        "  # lets first add a trace column to the event_log\n",
        "  el['trace'] = el.groupby(['patient']).ngroup()\n",
        "  el = el[['trace', 'activity', 'timestamp' ]].reset_index(drop=True)\n",
        "  # if n is None, return full event log\n",
        "  if n is None:\n",
        "    return el\n",
        "\n",
        "  # initialise random seed and array of traces\n",
        "  random.seed(9)\n",
        "  random_traces = []\n",
        "\n",
        "  for i in range(0,n):\n",
        "    random_traces.append(random.randrange(0,n_cases))\n",
        "\n",
        "  partial_el = event_log[event_log['trace'].isin(random_traces)]\n",
        "  return partial_el\n"
      ],
      "metadata": {
        "id": "Hs9nC7zuNGeg"
      },
      "execution_count": 16,
      "outputs": []
    },
    {
      "cell_type": "code",
      "source": [
        "partial_el = partial_log(event_log, NUM_TRACES)\n",
        "partial_el"
      ],
      "metadata": {
        "id": "7ReuwY8a68_9",
        "outputId": "cbf5d259-b258-47d3-d1e9-5a73d47add70",
        "colab": {
          "base_uri": "https://localhost:8080/",
          "height": 467
        }
      },
      "execution_count": 17,
      "outputs": [
        {
          "output_type": "execute_result",
          "data": {
            "text/plain": [
              "        patient     activity           timestamp case:concept:name  \\\n",
              "20       100012     Admitted 2177-03-12 11:48:00            100012   \n",
              "21       100012  Entered ICU 2177-03-14 10:52:23            100012   \n",
              "22       100012  Ventilation 2177-03-14 12:30:00            100012   \n",
              "23       100012           IV 2177-03-14 12:30:00            100012   \n",
              "24       100012  Ventilation 2177-03-14 16:10:00            100012   \n",
              "...         ...          ...                 ...               ...   \n",
              "127257   199979   Discharged 2182-02-10 14:50:00            199979   \n",
              "127263   199986     Admitted 2188-10-30 16:55:00            199986   \n",
              "127264   199986  Entered ICU 2188-10-30 16:55:35            199986   \n",
              "127265   199986     Left ICU 2188-10-31 16:14:16            199986   \n",
              "127266   199986   Discharged 2188-11-02 12:40:00            199986   \n",
              "\n",
              "       concept:name      time:timestamp  @@index  @@case_index  \\\n",
              "20         Admitted 2177-03-12 11:48:00       20             3   \n",
              "21      Entered ICU 2177-03-14 10:52:23       21             3   \n",
              "22      Ventilation 2177-03-14 12:30:00       22             3   \n",
              "23               IV 2177-03-14 12:30:00       23             3   \n",
              "24      Ventilation 2177-03-14 16:10:00       24             3   \n",
              "...             ...                 ...      ...           ...   \n",
              "127257   Discharged 2182-02-10 14:50:00   127257         20692   \n",
              "127263     Admitted 2188-10-30 16:55:00   127263         20694   \n",
              "127264  Entered ICU 2188-10-30 16:55:35   127264         20694   \n",
              "127265     Left ICU 2188-10-31 16:14:16   127265         20694   \n",
              "127266   Discharged 2188-11-02 12:40:00   127266         20694   \n",
              "\n",
              "           start_timestamp  trace  \n",
              "20     2177-03-12 11:48:00      3  \n",
              "21     2177-03-14 10:52:23      3  \n",
              "22     2177-03-14 12:30:00      3  \n",
              "23     2177-03-14 12:30:00      3  \n",
              "24     2177-03-14 16:10:00      3  \n",
              "...                    ...    ...  \n",
              "127257 2182-02-10 14:50:00  17233  \n",
              "127263 2188-10-30 16:55:00  17235  \n",
              "127264 2188-10-30 16:55:35  17235  \n",
              "127265 2188-10-31 16:14:16  17235  \n",
              "127266 2188-11-02 12:40:00  17235  \n",
              "\n",
              "[45479 rows x 10 columns]"
            ],
            "text/html": [
              "\n",
              "  <div id=\"df-43b42842-891d-47a3-9288-520bc900562e\">\n",
              "    <div class=\"colab-df-container\">\n",
              "      <div>\n",
              "<style scoped>\n",
              "    .dataframe tbody tr th:only-of-type {\n",
              "        vertical-align: middle;\n",
              "    }\n",
              "\n",
              "    .dataframe tbody tr th {\n",
              "        vertical-align: top;\n",
              "    }\n",
              "\n",
              "    .dataframe thead th {\n",
              "        text-align: right;\n",
              "    }\n",
              "</style>\n",
              "<table border=\"1\" class=\"dataframe\">\n",
              "  <thead>\n",
              "    <tr style=\"text-align: right;\">\n",
              "      <th></th>\n",
              "      <th>patient</th>\n",
              "      <th>activity</th>\n",
              "      <th>timestamp</th>\n",
              "      <th>case:concept:name</th>\n",
              "      <th>concept:name</th>\n",
              "      <th>time:timestamp</th>\n",
              "      <th>@@index</th>\n",
              "      <th>@@case_index</th>\n",
              "      <th>start_timestamp</th>\n",
              "      <th>trace</th>\n",
              "    </tr>\n",
              "  </thead>\n",
              "  <tbody>\n",
              "    <tr>\n",
              "      <th>20</th>\n",
              "      <td>100012</td>\n",
              "      <td>Admitted</td>\n",
              "      <td>2177-03-12 11:48:00</td>\n",
              "      <td>100012</td>\n",
              "      <td>Admitted</td>\n",
              "      <td>2177-03-12 11:48:00</td>\n",
              "      <td>20</td>\n",
              "      <td>3</td>\n",
              "      <td>2177-03-12 11:48:00</td>\n",
              "      <td>3</td>\n",
              "    </tr>\n",
              "    <tr>\n",
              "      <th>21</th>\n",
              "      <td>100012</td>\n",
              "      <td>Entered ICU</td>\n",
              "      <td>2177-03-14 10:52:23</td>\n",
              "      <td>100012</td>\n",
              "      <td>Entered ICU</td>\n",
              "      <td>2177-03-14 10:52:23</td>\n",
              "      <td>21</td>\n",
              "      <td>3</td>\n",
              "      <td>2177-03-14 10:52:23</td>\n",
              "      <td>3</td>\n",
              "    </tr>\n",
              "    <tr>\n",
              "      <th>22</th>\n",
              "      <td>100012</td>\n",
              "      <td>Ventilation</td>\n",
              "      <td>2177-03-14 12:30:00</td>\n",
              "      <td>100012</td>\n",
              "      <td>Ventilation</td>\n",
              "      <td>2177-03-14 12:30:00</td>\n",
              "      <td>22</td>\n",
              "      <td>3</td>\n",
              "      <td>2177-03-14 12:30:00</td>\n",
              "      <td>3</td>\n",
              "    </tr>\n",
              "    <tr>\n",
              "      <th>23</th>\n",
              "      <td>100012</td>\n",
              "      <td>IV</td>\n",
              "      <td>2177-03-14 12:30:00</td>\n",
              "      <td>100012</td>\n",
              "      <td>IV</td>\n",
              "      <td>2177-03-14 12:30:00</td>\n",
              "      <td>23</td>\n",
              "      <td>3</td>\n",
              "      <td>2177-03-14 12:30:00</td>\n",
              "      <td>3</td>\n",
              "    </tr>\n",
              "    <tr>\n",
              "      <th>24</th>\n",
              "      <td>100012</td>\n",
              "      <td>Ventilation</td>\n",
              "      <td>2177-03-14 16:10:00</td>\n",
              "      <td>100012</td>\n",
              "      <td>Ventilation</td>\n",
              "      <td>2177-03-14 16:10:00</td>\n",
              "      <td>24</td>\n",
              "      <td>3</td>\n",
              "      <td>2177-03-14 16:10:00</td>\n",
              "      <td>3</td>\n",
              "    </tr>\n",
              "    <tr>\n",
              "      <th>...</th>\n",
              "      <td>...</td>\n",
              "      <td>...</td>\n",
              "      <td>...</td>\n",
              "      <td>...</td>\n",
              "      <td>...</td>\n",
              "      <td>...</td>\n",
              "      <td>...</td>\n",
              "      <td>...</td>\n",
              "      <td>...</td>\n",
              "      <td>...</td>\n",
              "    </tr>\n",
              "    <tr>\n",
              "      <th>127257</th>\n",
              "      <td>199979</td>\n",
              "      <td>Discharged</td>\n",
              "      <td>2182-02-10 14:50:00</td>\n",
              "      <td>199979</td>\n",
              "      <td>Discharged</td>\n",
              "      <td>2182-02-10 14:50:00</td>\n",
              "      <td>127257</td>\n",
              "      <td>20692</td>\n",
              "      <td>2182-02-10 14:50:00</td>\n",
              "      <td>17233</td>\n",
              "    </tr>\n",
              "    <tr>\n",
              "      <th>127263</th>\n",
              "      <td>199986</td>\n",
              "      <td>Admitted</td>\n",
              "      <td>2188-10-30 16:55:00</td>\n",
              "      <td>199986</td>\n",
              "      <td>Admitted</td>\n",
              "      <td>2188-10-30 16:55:00</td>\n",
              "      <td>127263</td>\n",
              "      <td>20694</td>\n",
              "      <td>2188-10-30 16:55:00</td>\n",
              "      <td>17235</td>\n",
              "    </tr>\n",
              "    <tr>\n",
              "      <th>127264</th>\n",
              "      <td>199986</td>\n",
              "      <td>Entered ICU</td>\n",
              "      <td>2188-10-30 16:55:35</td>\n",
              "      <td>199986</td>\n",
              "      <td>Entered ICU</td>\n",
              "      <td>2188-10-30 16:55:35</td>\n",
              "      <td>127264</td>\n",
              "      <td>20694</td>\n",
              "      <td>2188-10-30 16:55:35</td>\n",
              "      <td>17235</td>\n",
              "    </tr>\n",
              "    <tr>\n",
              "      <th>127265</th>\n",
              "      <td>199986</td>\n",
              "      <td>Left ICU</td>\n",
              "      <td>2188-10-31 16:14:16</td>\n",
              "      <td>199986</td>\n",
              "      <td>Left ICU</td>\n",
              "      <td>2188-10-31 16:14:16</td>\n",
              "      <td>127265</td>\n",
              "      <td>20694</td>\n",
              "      <td>2188-10-31 16:14:16</td>\n",
              "      <td>17235</td>\n",
              "    </tr>\n",
              "    <tr>\n",
              "      <th>127266</th>\n",
              "      <td>199986</td>\n",
              "      <td>Discharged</td>\n",
              "      <td>2188-11-02 12:40:00</td>\n",
              "      <td>199986</td>\n",
              "      <td>Discharged</td>\n",
              "      <td>2188-11-02 12:40:00</td>\n",
              "      <td>127266</td>\n",
              "      <td>20694</td>\n",
              "      <td>2188-11-02 12:40:00</td>\n",
              "      <td>17235</td>\n",
              "    </tr>\n",
              "  </tbody>\n",
              "</table>\n",
              "<p>45479 rows × 10 columns</p>\n",
              "</div>\n",
              "      <button class=\"colab-df-convert\" onclick=\"convertToInteractive('df-43b42842-891d-47a3-9288-520bc900562e')\"\n",
              "              title=\"Convert this dataframe to an interactive table.\"\n",
              "              style=\"display:none;\">\n",
              "        \n",
              "  <svg xmlns=\"http://www.w3.org/2000/svg\" height=\"24px\"viewBox=\"0 0 24 24\"\n",
              "       width=\"24px\">\n",
              "    <path d=\"M0 0h24v24H0V0z\" fill=\"none\"/>\n",
              "    <path d=\"M18.56 5.44l.94 2.06.94-2.06 2.06-.94-2.06-.94-.94-2.06-.94 2.06-2.06.94zm-11 1L8.5 8.5l.94-2.06 2.06-.94-2.06-.94L8.5 2.5l-.94 2.06-2.06.94zm10 10l.94 2.06.94-2.06 2.06-.94-2.06-.94-.94-2.06-.94 2.06-2.06.94z\"/><path d=\"M17.41 7.96l-1.37-1.37c-.4-.4-.92-.59-1.43-.59-.52 0-1.04.2-1.43.59L10.3 9.45l-7.72 7.72c-.78.78-.78 2.05 0 2.83L4 21.41c.39.39.9.59 1.41.59.51 0 1.02-.2 1.41-.59l7.78-7.78 2.81-2.81c.8-.78.8-2.07 0-2.86zM5.41 20L4 18.59l7.72-7.72 1.47 1.35L5.41 20z\"/>\n",
              "  </svg>\n",
              "      </button>\n",
              "      \n",
              "  <style>\n",
              "    .colab-df-container {\n",
              "      display:flex;\n",
              "      flex-wrap:wrap;\n",
              "      gap: 12px;\n",
              "    }\n",
              "\n",
              "    .colab-df-convert {\n",
              "      background-color: #E8F0FE;\n",
              "      border: none;\n",
              "      border-radius: 50%;\n",
              "      cursor: pointer;\n",
              "      display: none;\n",
              "      fill: #1967D2;\n",
              "      height: 32px;\n",
              "      padding: 0 0 0 0;\n",
              "      width: 32px;\n",
              "    }\n",
              "\n",
              "    .colab-df-convert:hover {\n",
              "      background-color: #E2EBFA;\n",
              "      box-shadow: 0px 1px 2px rgba(60, 64, 67, 0.3), 0px 1px 3px 1px rgba(60, 64, 67, 0.15);\n",
              "      fill: #174EA6;\n",
              "    }\n",
              "\n",
              "    [theme=dark] .colab-df-convert {\n",
              "      background-color: #3B4455;\n",
              "      fill: #D2E3FC;\n",
              "    }\n",
              "\n",
              "    [theme=dark] .colab-df-convert:hover {\n",
              "      background-color: #434B5C;\n",
              "      box-shadow: 0px 1px 3px 1px rgba(0, 0, 0, 0.15);\n",
              "      filter: drop-shadow(0px 1px 2px rgba(0, 0, 0, 0.3));\n",
              "      fill: #FFFFFF;\n",
              "    }\n",
              "  </style>\n",
              "\n",
              "      <script>\n",
              "        const buttonEl =\n",
              "          document.querySelector('#df-43b42842-891d-47a3-9288-520bc900562e button.colab-df-convert');\n",
              "        buttonEl.style.display =\n",
              "          google.colab.kernel.accessAllowed ? 'block' : 'none';\n",
              "\n",
              "        async function convertToInteractive(key) {\n",
              "          const element = document.querySelector('#df-43b42842-891d-47a3-9288-520bc900562e');\n",
              "          const dataTable =\n",
              "            await google.colab.kernel.invokeFunction('convertToInteractive',\n",
              "                                                     [key], {});\n",
              "          if (!dataTable) return;\n",
              "\n",
              "          const docLinkHtml = 'Like what you see? Visit the ' +\n",
              "            '<a target=\"_blank\" href=https://colab.research.google.com/notebooks/data_table.ipynb>data table notebook</a>'\n",
              "            + ' to learn more about interactive tables.';\n",
              "          element.innerHTML = '';\n",
              "          dataTable['output_type'] = 'display_data';\n",
              "          await google.colab.output.renderOutput(dataTable, element);\n",
              "          const docLink = document.createElement('div');\n",
              "          docLink.innerHTML = docLinkHtml;\n",
              "          element.appendChild(docLink);\n",
              "        }\n",
              "      </script>\n",
              "    </div>\n",
              "  </div>\n",
              "  "
            ]
          },
          "metadata": {},
          "execution_count": 17
        }
      ]
    },
    {
      "cell_type": "code",
      "source": [
        "\n",
        "# lets represent each activity using a statically defined number\n",
        "# this will prevent the need for using an embedding layer when traing the LSTM\n",
        "unique_activities = partial_el['activity'].unique()\n",
        "n_activities = len(unique_activities) + 1\n",
        "encode_activity = {unique_activities[i-1] : f'{i}' for i in range(1,n_activities)}\n",
        "\n",
        "# lets also create a second dictionary that will be used to decode predicted activities\n",
        "decode_activity = {f'{i}' : unique_activities[i-1] for i in range(1, len(unique_activities)+ 1)}\n",
        "\n",
        "encode_activity, decode_activity"
      ],
      "metadata": {
        "colab": {
          "base_uri": "https://localhost:8080/"
        },
        "id": "IGd5SwRG-_fI",
        "outputId": "932de346-7636-48ea-9390-e5d4291fd946"
      },
      "execution_count": 18,
      "outputs": [
        {
          "output_type": "execute_result",
          "data": {
            "text/plain": [
              "({'Admitted': '1',\n",
              "  'Entered ICU': '2',\n",
              "  'Ventilation': '3',\n",
              "  'IV': '4',\n",
              "  'Left ICU': '5',\n",
              "  'Discharged': '6',\n",
              "  'Dialysis': '7'},\n",
              " {'1': 'Admitted',\n",
              "  '2': 'Entered ICU',\n",
              "  '3': 'Ventilation',\n",
              "  '4': 'IV',\n",
              "  '5': 'Left ICU',\n",
              "  '6': 'Discharged',\n",
              "  '7': 'Dialysis'})"
            ]
          },
          "metadata": {},
          "execution_count": 18
        }
      ]
    },
    {
      "cell_type": "code",
      "source": [
        "from sklearn.model_selection import train_test_split\n",
        "# select train and test traces\n",
        "unique_traces = partial_el['trace'].unique()\n",
        "train_traces, test_traces = train_test_split(unique_traces, test_size=TEST_SIZE, random_state=9)\n",
        "\n",
        "# split event log using train and test traces\n",
        "train_el = partial_el.loc[partial_el['trace'].isin(train_traces)]\n",
        "test_el = partial_el.loc[partial_el['trace'].isin(test_traces)]"
      ],
      "metadata": {
        "id": "ePO5fDvCVVHE"
      },
      "execution_count": 19,
      "outputs": []
    },
    {
      "cell_type": "code",
      "source": [
        "# calculate time deltas for prefix and suffix sequences\n",
        "def calculate_time_deltas(p, s):\n",
        "  p_deltas, s_deltas = [], []\n",
        "  f = '%Y-%d-%m %H:%M:%S'\n",
        "  for i in range(PREFIX_LENGTH):\n",
        "    if p[i] == '0' or p[i+1] == '0':\n",
        "      p_deltas.append(0)\n",
        "\n",
        "    else:\n",
        "      delta = pd.to_datetime(p[i+1], format=f) - pd.to_datetime(p[i], format=f)\n",
        "      p_deltas.append(delta.total_seconds())\n",
        "\n",
        "  for i in range(PREFIX_LENGTH,0,-1):\n",
        "    if s[i] == '0' or s[i-1] == '0':\n",
        "      s_deltas.append(0)\n",
        "    else:\n",
        "      delta = pd.to_datetime(s[i], format=f) - pd.to_datetime(s[i-1], format=f)\n",
        "      s_deltas.append(delta.total_seconds())\n",
        "  \n",
        "  return p_deltas, s_deltas[::-1]"
      ],
      "metadata": {
        "id": "9ruIH6dH1UZP"
      },
      "execution_count": 22,
      "outputs": []
    },
    {
      "cell_type": "code",
      "source": [
        "import numpy as np\n",
        "\n",
        "# create a new labeled data frame\n",
        "def label(el):\n",
        "  # initialise data frame and lists\n",
        "  prefix_arr, suffix_arr, prefix_times_arr, suffix_times_arr, label_arr = [], [], [], [], []\n",
        "  labeled_arr = []\n",
        "  unique_traces = el['trace'].unique()\n",
        "  traces = {x : pd.DataFrame() for x in unique_traces} \n",
        "\n",
        "  for t in unique_traces:\n",
        "    traces[t] = el[:][el.trace == t]  \n",
        "  \n",
        "  for t in unique_traces:\n",
        "    # sort trace chronologically\n",
        "    df = traces[t].sort_values(by='timestamp')\n",
        "    activities, timestamps = [], []\n",
        "\n",
        "    for i in df.index:\n",
        "      activity = encode_activity.get(df['activity'][i])\n",
        "      activities.append(activity)\n",
        "\n",
        "      timestamp = df['timestamp'][i]\n",
        "      timestamps.append(timestamp)\n",
        "\n",
        "    \n",
        "    length = len(activities)\n",
        "\n",
        "    # for each event, find prefix and suffix sequences\n",
        "    for i in range(length):\n",
        "\n",
        "      label = activities[i]\n",
        "      prefix = activities[:i]\n",
        "      prefix_times = timestamps[:i+1]\n",
        "\n",
        "      suffix = []\n",
        "      suffix_times = []\n",
        "\n",
        "      if i != length - 1:\n",
        "        suffix = activities[i+1:]\n",
        "\n",
        "      if i != length:\n",
        "        suffix_times = timestamps[i:]\n",
        "\n",
        "      padding = []\n",
        "\n",
        "      while len(prefix) + len(padding) < PREFIX_LENGTH:\n",
        "        padding.append('0')\n",
        "      \n",
        "      prefix = padding + prefix\n",
        "        \n",
        "      padding = []\n",
        "      \n",
        "      while len(prefix_times) + len(padding) < PREFIX_LENGTH+1:\n",
        "        padding.append('0')\n",
        "      \n",
        "      prefix_times =  padding + prefix_times\n",
        "\n",
        "      while len(suffix) < PREFIX_LENGTH:\n",
        "        suffix.append('0')\n",
        "\n",
        "      while len(suffix_times) < PREFIX_LENGTH +1:\n",
        "        suffix_times.append('0')\n",
        "\n",
        "      prefix_deltas, suffix_deltas = calculate_time_deltas(prefix_times, suffix_times)\n",
        "\n",
        "      prefix_arr.append(np.array(prefix[0:PREFIX_LENGTH], dtype=int))\n",
        "      suffix_arr.append(np.array(suffix[0:PREFIX_LENGTH], dtype=int))\n",
        "      prefix_times_arr.append(np.array(prefix_deltas))\n",
        "      suffix_times_arr.append(np.array(suffix_deltas))\n",
        "      label_arr.append(label)\n",
        "\n",
        "  return pd.DataFrame({'prefix' : prefix_arr, \n",
        "                       'suffix' : suffix_arr,\n",
        "                       'prefix time delta' : prefix_times_arr,\n",
        "                       'suffix time delta' : suffix_times_arr,\n",
        "                       'label' : label_arr})\n",
        " "
      ],
      "metadata": {
        "id": "aw2gXPwQ5BpM"
      },
      "execution_count": 20,
      "outputs": []
    },
    {
      "cell_type": "code",
      "source": [
        "labeled_train = label(train_el)\n",
        "labeled_train"
      ],
      "metadata": {
        "id": "I9la1YOfW-vU",
        "colab": {
          "base_uri": "https://localhost:8080/",
          "height": 423
        },
        "outputId": "ae6ac291-aef6-4540-a131-b921225007b5"
      },
      "execution_count": 23,
      "outputs": [
        {
          "output_type": "execute_result",
          "data": {
            "text/plain": [
              "                prefix           suffix  \\\n",
              "0      [0, 0, 0, 0, 0]  [2, 3, 4, 3, 3]   \n",
              "1      [0, 0, 0, 0, 1]  [3, 4, 3, 3, 3]   \n",
              "2      [0, 0, 0, 1, 2]  [4, 3, 3, 3, 5]   \n",
              "3      [0, 0, 1, 2, 3]  [3, 3, 3, 5, 6]   \n",
              "4      [0, 1, 2, 3, 4]  [3, 3, 5, 6, 0]   \n",
              "...                ...              ...   \n",
              "36308  [1, 2, 3, 4, 4]  [0, 0, 0, 0, 0]   \n",
              "36309  [0, 0, 0, 0, 0]  [2, 5, 6, 0, 0]   \n",
              "36310  [0, 0, 0, 0, 1]  [5, 6, 0, 0, 0]   \n",
              "36311  [0, 0, 0, 1, 2]  [6, 0, 0, 0, 0]   \n",
              "36312  [0, 0, 1, 2, 5]  [0, 0, 0, 0, 0]   \n",
              "\n",
              "                             prefix time delta  \\\n",
              "0                              [0, 0, 0, 0, 0]   \n",
              "1               [0.0, 0.0, 0.0, 0.0, 169463.0]   \n",
              "2            [0.0, 0.0, 0.0, 169463.0, 5857.0]   \n",
              "3            [0.0, 0.0, 169463.0, 5857.0, 0.0]   \n",
              "4        [0.0, 169463.0, 5857.0, 0.0, 13200.0]   \n",
              "...                                        ...   \n",
              "36308  [115553.0, 13447.0, 5700.0, 60.0, 60.0]   \n",
              "36309                          [0, 0, 0, 0, 0]   \n",
              "36310               [0.0, 0.0, 0.0, 0.0, 35.0]   \n",
              "36311           [0.0, 0.0, 0.0, 35.0, 83921.0]   \n",
              "36312      [0.0, 0.0, 35.0, 83921.0, 159944.0]   \n",
              "\n",
              "                                     suffix time delta label  \n",
              "0            [169463.0, 5857.0, 0.0, 13200.0, 62400.0]     1  \n",
              "1             [5857.0, 0.0, 13200.0, 62400.0, 17400.0]     2  \n",
              "2           [0.0, 13200.0, 62400.0, 17400.0, 210135.0]     3  \n",
              "3      [13200.0, 62400.0, 17400.0, 210135.0, 395265.0]     4  \n",
              "4          [62400.0, 17400.0, 210135.0, 395265.0, 0.0]     3  \n",
              "...                                                ...   ...  \n",
              "36308                                  [0, 0, 0, 0, 0]     6  \n",
              "36309              [35.0, 83921.0, 159944.0, 0.0, 0.0]     1  \n",
              "36310               [83921.0, 159944.0, 0.0, 0.0, 0.0]     2  \n",
              "36311                   [159944.0, 0.0, 0.0, 0.0, 0.0]     5  \n",
              "36312                                  [0, 0, 0, 0, 0]     6  \n",
              "\n",
              "[36313 rows x 5 columns]"
            ],
            "text/html": [
              "\n",
              "  <div id=\"df-2e0662e8-391f-48ca-ab1e-2191911ad1f1\">\n",
              "    <div class=\"colab-df-container\">\n",
              "      <div>\n",
              "<style scoped>\n",
              "    .dataframe tbody tr th:only-of-type {\n",
              "        vertical-align: middle;\n",
              "    }\n",
              "\n",
              "    .dataframe tbody tr th {\n",
              "        vertical-align: top;\n",
              "    }\n",
              "\n",
              "    .dataframe thead th {\n",
              "        text-align: right;\n",
              "    }\n",
              "</style>\n",
              "<table border=\"1\" class=\"dataframe\">\n",
              "  <thead>\n",
              "    <tr style=\"text-align: right;\">\n",
              "      <th></th>\n",
              "      <th>prefix</th>\n",
              "      <th>suffix</th>\n",
              "      <th>prefix time delta</th>\n",
              "      <th>suffix time delta</th>\n",
              "      <th>label</th>\n",
              "    </tr>\n",
              "  </thead>\n",
              "  <tbody>\n",
              "    <tr>\n",
              "      <th>0</th>\n",
              "      <td>[0, 0, 0, 0, 0]</td>\n",
              "      <td>[2, 3, 4, 3, 3]</td>\n",
              "      <td>[0, 0, 0, 0, 0]</td>\n",
              "      <td>[169463.0, 5857.0, 0.0, 13200.0, 62400.0]</td>\n",
              "      <td>1</td>\n",
              "    </tr>\n",
              "    <tr>\n",
              "      <th>1</th>\n",
              "      <td>[0, 0, 0, 0, 1]</td>\n",
              "      <td>[3, 4, 3, 3, 3]</td>\n",
              "      <td>[0.0, 0.0, 0.0, 0.0, 169463.0]</td>\n",
              "      <td>[5857.0, 0.0, 13200.0, 62400.0, 17400.0]</td>\n",
              "      <td>2</td>\n",
              "    </tr>\n",
              "    <tr>\n",
              "      <th>2</th>\n",
              "      <td>[0, 0, 0, 1, 2]</td>\n",
              "      <td>[4, 3, 3, 3, 5]</td>\n",
              "      <td>[0.0, 0.0, 0.0, 169463.0, 5857.0]</td>\n",
              "      <td>[0.0, 13200.0, 62400.0, 17400.0, 210135.0]</td>\n",
              "      <td>3</td>\n",
              "    </tr>\n",
              "    <tr>\n",
              "      <th>3</th>\n",
              "      <td>[0, 0, 1, 2, 3]</td>\n",
              "      <td>[3, 3, 3, 5, 6]</td>\n",
              "      <td>[0.0, 0.0, 169463.0, 5857.0, 0.0]</td>\n",
              "      <td>[13200.0, 62400.0, 17400.0, 210135.0, 395265.0]</td>\n",
              "      <td>4</td>\n",
              "    </tr>\n",
              "    <tr>\n",
              "      <th>4</th>\n",
              "      <td>[0, 1, 2, 3, 4]</td>\n",
              "      <td>[3, 3, 5, 6, 0]</td>\n",
              "      <td>[0.0, 169463.0, 5857.0, 0.0, 13200.0]</td>\n",
              "      <td>[62400.0, 17400.0, 210135.0, 395265.0, 0.0]</td>\n",
              "      <td>3</td>\n",
              "    </tr>\n",
              "    <tr>\n",
              "      <th>...</th>\n",
              "      <td>...</td>\n",
              "      <td>...</td>\n",
              "      <td>...</td>\n",
              "      <td>...</td>\n",
              "      <td>...</td>\n",
              "    </tr>\n",
              "    <tr>\n",
              "      <th>36308</th>\n",
              "      <td>[1, 2, 3, 4, 4]</td>\n",
              "      <td>[0, 0, 0, 0, 0]</td>\n",
              "      <td>[115553.0, 13447.0, 5700.0, 60.0, 60.0]</td>\n",
              "      <td>[0, 0, 0, 0, 0]</td>\n",
              "      <td>6</td>\n",
              "    </tr>\n",
              "    <tr>\n",
              "      <th>36309</th>\n",
              "      <td>[0, 0, 0, 0, 0]</td>\n",
              "      <td>[2, 5, 6, 0, 0]</td>\n",
              "      <td>[0, 0, 0, 0, 0]</td>\n",
              "      <td>[35.0, 83921.0, 159944.0, 0.0, 0.0]</td>\n",
              "      <td>1</td>\n",
              "    </tr>\n",
              "    <tr>\n",
              "      <th>36310</th>\n",
              "      <td>[0, 0, 0, 0, 1]</td>\n",
              "      <td>[5, 6, 0, 0, 0]</td>\n",
              "      <td>[0.0, 0.0, 0.0, 0.0, 35.0]</td>\n",
              "      <td>[83921.0, 159944.0, 0.0, 0.0, 0.0]</td>\n",
              "      <td>2</td>\n",
              "    </tr>\n",
              "    <tr>\n",
              "      <th>36311</th>\n",
              "      <td>[0, 0, 0, 1, 2]</td>\n",
              "      <td>[6, 0, 0, 0, 0]</td>\n",
              "      <td>[0.0, 0.0, 0.0, 35.0, 83921.0]</td>\n",
              "      <td>[159944.0, 0.0, 0.0, 0.0, 0.0]</td>\n",
              "      <td>5</td>\n",
              "    </tr>\n",
              "    <tr>\n",
              "      <th>36312</th>\n",
              "      <td>[0, 0, 1, 2, 5]</td>\n",
              "      <td>[0, 0, 0, 0, 0]</td>\n",
              "      <td>[0.0, 0.0, 35.0, 83921.0, 159944.0]</td>\n",
              "      <td>[0, 0, 0, 0, 0]</td>\n",
              "      <td>6</td>\n",
              "    </tr>\n",
              "  </tbody>\n",
              "</table>\n",
              "<p>36313 rows × 5 columns</p>\n",
              "</div>\n",
              "      <button class=\"colab-df-convert\" onclick=\"convertToInteractive('df-2e0662e8-391f-48ca-ab1e-2191911ad1f1')\"\n",
              "              title=\"Convert this dataframe to an interactive table.\"\n",
              "              style=\"display:none;\">\n",
              "        \n",
              "  <svg xmlns=\"http://www.w3.org/2000/svg\" height=\"24px\"viewBox=\"0 0 24 24\"\n",
              "       width=\"24px\">\n",
              "    <path d=\"M0 0h24v24H0V0z\" fill=\"none\"/>\n",
              "    <path d=\"M18.56 5.44l.94 2.06.94-2.06 2.06-.94-2.06-.94-.94-2.06-.94 2.06-2.06.94zm-11 1L8.5 8.5l.94-2.06 2.06-.94-2.06-.94L8.5 2.5l-.94 2.06-2.06.94zm10 10l.94 2.06.94-2.06 2.06-.94-2.06-.94-.94-2.06-.94 2.06-2.06.94z\"/><path d=\"M17.41 7.96l-1.37-1.37c-.4-.4-.92-.59-1.43-.59-.52 0-1.04.2-1.43.59L10.3 9.45l-7.72 7.72c-.78.78-.78 2.05 0 2.83L4 21.41c.39.39.9.59 1.41.59.51 0 1.02-.2 1.41-.59l7.78-7.78 2.81-2.81c.8-.78.8-2.07 0-2.86zM5.41 20L4 18.59l7.72-7.72 1.47 1.35L5.41 20z\"/>\n",
              "  </svg>\n",
              "      </button>\n",
              "      \n",
              "  <style>\n",
              "    .colab-df-container {\n",
              "      display:flex;\n",
              "      flex-wrap:wrap;\n",
              "      gap: 12px;\n",
              "    }\n",
              "\n",
              "    .colab-df-convert {\n",
              "      background-color: #E8F0FE;\n",
              "      border: none;\n",
              "      border-radius: 50%;\n",
              "      cursor: pointer;\n",
              "      display: none;\n",
              "      fill: #1967D2;\n",
              "      height: 32px;\n",
              "      padding: 0 0 0 0;\n",
              "      width: 32px;\n",
              "    }\n",
              "\n",
              "    .colab-df-convert:hover {\n",
              "      background-color: #E2EBFA;\n",
              "      box-shadow: 0px 1px 2px rgba(60, 64, 67, 0.3), 0px 1px 3px 1px rgba(60, 64, 67, 0.15);\n",
              "      fill: #174EA6;\n",
              "    }\n",
              "\n",
              "    [theme=dark] .colab-df-convert {\n",
              "      background-color: #3B4455;\n",
              "      fill: #D2E3FC;\n",
              "    }\n",
              "\n",
              "    [theme=dark] .colab-df-convert:hover {\n",
              "      background-color: #434B5C;\n",
              "      box-shadow: 0px 1px 3px 1px rgba(0, 0, 0, 0.15);\n",
              "      filter: drop-shadow(0px 1px 2px rgba(0, 0, 0, 0.3));\n",
              "      fill: #FFFFFF;\n",
              "    }\n",
              "  </style>\n",
              "\n",
              "      <script>\n",
              "        const buttonEl =\n",
              "          document.querySelector('#df-2e0662e8-391f-48ca-ab1e-2191911ad1f1 button.colab-df-convert');\n",
              "        buttonEl.style.display =\n",
              "          google.colab.kernel.accessAllowed ? 'block' : 'none';\n",
              "\n",
              "        async function convertToInteractive(key) {\n",
              "          const element = document.querySelector('#df-2e0662e8-391f-48ca-ab1e-2191911ad1f1');\n",
              "          const dataTable =\n",
              "            await google.colab.kernel.invokeFunction('convertToInteractive',\n",
              "                                                     [key], {});\n",
              "          if (!dataTable) return;\n",
              "\n",
              "          const docLinkHtml = 'Like what you see? Visit the ' +\n",
              "            '<a target=\"_blank\" href=https://colab.research.google.com/notebooks/data_table.ipynb>data table notebook</a>'\n",
              "            + ' to learn more about interactive tables.';\n",
              "          element.innerHTML = '';\n",
              "          dataTable['output_type'] = 'display_data';\n",
              "          await google.colab.output.renderOutput(dataTable, element);\n",
              "          const docLink = document.createElement('div');\n",
              "          docLink.innerHTML = docLinkHtml;\n",
              "          element.appendChild(docLink);\n",
              "        }\n",
              "      </script>\n",
              "    </div>\n",
              "  </div>\n",
              "  "
            ]
          },
          "metadata": {},
          "execution_count": 23
        }
      ]
    },
    {
      "cell_type": "code",
      "source": [
        "from copy import deepcopy\n",
        "\n",
        "# randomly remove one activity label in each trace\n",
        "# return event log, and test targets\n",
        "def random_remove(el):\n",
        "  unique_traces_test = el['trace'].unique()\n",
        "  traces = {x : pd.DataFrame() for x in unique_traces_test}\n",
        "  df = pd.DataFrame(columns=['trace', 'activity', 'timestamp'])\n",
        "  random.seed = (9)\n",
        "  targets = []\n",
        "\n",
        "  for t in unique_traces_test:\n",
        "    traces[t] = deepcopy(test_el[:][test_el.trace == t])\n",
        "    trace_df = traces[t].sort_values(by='timestamp')\n",
        "    rand_index = random.randrange(0,len(trace_df.index))\n",
        "    targets.append(trace_df.iat[rand_index,1])\n",
        "    trace_df.iat[rand_index, 1] = np.nan\n",
        "    df = pd.concat([df, trace_df])\n",
        "\n",
        "  return df, targets"
      ],
      "metadata": {
        "id": "uHc_6b7lXdBr"
      },
      "execution_count": 24,
      "outputs": []
    },
    {
      "cell_type": "code",
      "source": [
        "test_el, test_targets = random_remove(test_el)"
      ],
      "metadata": {
        "id": "Ip1Dz3AyXgLD"
      },
      "execution_count": 26,
      "outputs": []
    },
    {
      "cell_type": "code",
      "source": [
        "def label_test(el):\n",
        "  prefix_arr, suffix_arr, prefix_times_arr, suffix_times_arr, label_arr = [], [], [], [], []\n",
        "  labeled_arr = []\n",
        "  unique_traces = el['trace'].unique()\n",
        "\n",
        "  for t in unique_traces:\n",
        "    df = el[:][el.trace == t]\n",
        "    activities, timestamps = [], []\n",
        "\n",
        "    for i in df.index:\n",
        "      activity = encode_activity.get(df['activity'][i])\n",
        "      activities.append(activity)\n",
        "\n",
        "      timestamp = df['timestamp'][i]\n",
        "      timestamps.append(timestamp)\n",
        "\n",
        "    length = len(timestamps)\n",
        "    order = 0\n",
        "    for i in range(length):\n",
        "      if pd.isnull(activities[i]):\n",
        "        order = i\n",
        "        break\n",
        "\n",
        "    label = activities[order]\n",
        "    prefix = activities[:order]\n",
        "    prefix_times = timestamps[:order+1]\n",
        "\n",
        "    suffix = []\n",
        "    suffix_times = []\n",
        "\n",
        "    if i != length - 1:\n",
        "      suffix = activities[order+1:]\n",
        "\n",
        "    if i != length:\n",
        "      suffix_times = timestamps[order:]\n",
        "\n",
        "    padding = []\n",
        "\n",
        "    while len(prefix) + len(padding) < PREFIX_LENGTH:\n",
        "      padding.append('0')\n",
        "    \n",
        "    prefix = padding + prefix\n",
        "      \n",
        "    padding = []\n",
        "    \n",
        "    while len(prefix_times) + len(padding) < PREFIX_LENGTH+1:\n",
        "      padding.append('0')\n",
        "    \n",
        "    prefix_times =  padding + prefix_times\n",
        "\n",
        "    while len(suffix) < PREFIX_LENGTH:\n",
        "      suffix.append('0')\n",
        "\n",
        "    while len(suffix_times) < PREFIX_LENGTH +1:\n",
        "      suffix_times.append('0')\n",
        "\n",
        "    prefix_deltas, suffix_deltas = calculate_time_deltas(prefix_times, suffix_times)\n",
        "\n",
        "    prefix_arr.append(np.array(prefix[0:PREFIX_LENGTH], dtype=int))\n",
        "    suffix_arr.append(np.array(suffix[0:PREFIX_LENGTH], dtype=int))\n",
        "    prefix_times_arr.append(np.array(prefix_deltas[:PREFIX_LENGTH]))\n",
        "    suffix_times_arr.append(np.array(suffix_deltas[:PREFIX_LENGTH]))\n",
        "    label_arr.append(label)\n",
        "  \n",
        "  return pd.DataFrame({'prefix' : prefix_arr, \n",
        "                       'suffix' : suffix_arr,\n",
        "                       'prefix time delta' : prefix_times_arr,\n",
        "                       'suffix time delta' : suffix_times_arr,\n",
        "                       'label' : label_arr})"
      ],
      "metadata": {
        "id": "uNHc9Po-X_Z8"
      },
      "execution_count": 27,
      "outputs": []
    },
    {
      "cell_type": "code",
      "source": [
        "labeled_test = label_test(test_el)\n",
        "labeled_test"
      ],
      "metadata": {
        "colab": {
          "base_uri": "https://localhost:8080/",
          "height": 423
        },
        "id": "w9fX8nvmXIU0",
        "outputId": "45f042e6-db4d-47a5-8cce-5b04b03ce1ef"
      },
      "execution_count": 28,
      "outputs": [
        {
          "output_type": "execute_result",
          "data": {
            "text/plain": [
              "               prefix           suffix  \\\n",
              "0     [0, 0, 0, 0, 1]  [5, 6, 0, 0, 0]   \n",
              "1     [1, 2, 3, 3, 4]  [5, 6, 0, 0, 0]   \n",
              "2     [0, 0, 1, 2, 3]  [4, 3, 4, 5, 6]   \n",
              "3     [0, 0, 0, 1, 2]  [6, 0, 0, 0, 0]   \n",
              "4     [0, 0, 0, 1, 2]  [4, 5, 6, 0, 0]   \n",
              "...               ...              ...   \n",
              "1511  [0, 0, 0, 1, 2]  [6, 0, 0, 0, 0]   \n",
              "1512  [0, 1, 2, 4, 4]  [5, 6, 0, 0, 0]   \n",
              "1513  [1, 2, 5, 2, 5]  [5, 6, 0, 0, 0]   \n",
              "1514  [0, 0, 1, 2, 5]  [5, 2, 5, 6, 0]   \n",
              "1515  [0, 0, 0, 1, 2]  [4, 5, 6, 0, 0]   \n",
              "\n",
              "                                   prefix time delta  \\\n",
              "0                       [0.0, 0.0, 0.0, 0.0, 2176.0]   \n",
              "1            [26557.0, 143.0, 60.0, 1140.0, 25200.0]   \n",
              "2                 [0.0, 0.0, 69222.0, 5958.0, 240.0]   \n",
              "3                    [0.0, 0.0, 0.0, 53.0, 333941.0]   \n",
              "4                     [0.0, 0.0, 0.0, 101.0, 9319.0]   \n",
              "...                                              ...   \n",
              "1511              [0.0, 0.0, 0.0, 33075.0, 774190.0]   \n",
              "1512             [0.0, 63.0, 8637.0, 60.0, 106800.0]   \n",
              "1513  [128.0, 242881.0, 98673.0, 349637.0, 144362.0]   \n",
              "1514            [0.0, 0.0, 78.0, 134028.0, 193457.0]   \n",
              "1515                 [0.0, 0.0, 0.0, 4853.0, 4627.0]   \n",
              "\n",
              "                                   suffix time delta label  \n",
              "0                [162634.0, 612310.0, 0.0, 0.0, 0.0]  None  \n",
              "1                [115960.0, 163700.0, 0.0, 0.0, 0.0]  None  \n",
              "2       [60.0, 62400.0, 11640.0, 89102.0, 1044958.0]  None  \n",
              "3                    [1088486.0, 0.0, 0.0, 0.0, 0.0]  None  \n",
              "4             [19260.0, 69666.0, 253074.0, 0.0, 0.0]  None  \n",
              "...                                              ...   ...  \n",
              "1511                  [333935.0, 0.0, 0.0, 0.0, 0.0]  None  \n",
              "1512               [1760.0, 155980.0, 0.0, 0.0, 0.0]  None  \n",
              "1513             [373873.0, 339226.0, 0.0, 0.0, 0.0]  None  \n",
              "1514  [1296812.0, 140879.0, 312502.0, 486344.0, 0.0]  None  \n",
              "1515         [30300.0, 134313.0, 675087.0, 0.0, 0.0]  None  \n",
              "\n",
              "[1516 rows x 5 columns]"
            ],
            "text/html": [
              "\n",
              "  <div id=\"df-4fda5b86-2473-4be7-be22-6129753bd7cb\">\n",
              "    <div class=\"colab-df-container\">\n",
              "      <div>\n",
              "<style scoped>\n",
              "    .dataframe tbody tr th:only-of-type {\n",
              "        vertical-align: middle;\n",
              "    }\n",
              "\n",
              "    .dataframe tbody tr th {\n",
              "        vertical-align: top;\n",
              "    }\n",
              "\n",
              "    .dataframe thead th {\n",
              "        text-align: right;\n",
              "    }\n",
              "</style>\n",
              "<table border=\"1\" class=\"dataframe\">\n",
              "  <thead>\n",
              "    <tr style=\"text-align: right;\">\n",
              "      <th></th>\n",
              "      <th>prefix</th>\n",
              "      <th>suffix</th>\n",
              "      <th>prefix time delta</th>\n",
              "      <th>suffix time delta</th>\n",
              "      <th>label</th>\n",
              "    </tr>\n",
              "  </thead>\n",
              "  <tbody>\n",
              "    <tr>\n",
              "      <th>0</th>\n",
              "      <td>[0, 0, 0, 0, 1]</td>\n",
              "      <td>[5, 6, 0, 0, 0]</td>\n",
              "      <td>[0.0, 0.0, 0.0, 0.0, 2176.0]</td>\n",
              "      <td>[162634.0, 612310.0, 0.0, 0.0, 0.0]</td>\n",
              "      <td>None</td>\n",
              "    </tr>\n",
              "    <tr>\n",
              "      <th>1</th>\n",
              "      <td>[1, 2, 3, 3, 4]</td>\n",
              "      <td>[5, 6, 0, 0, 0]</td>\n",
              "      <td>[26557.0, 143.0, 60.0, 1140.0, 25200.0]</td>\n",
              "      <td>[115960.0, 163700.0, 0.0, 0.0, 0.0]</td>\n",
              "      <td>None</td>\n",
              "    </tr>\n",
              "    <tr>\n",
              "      <th>2</th>\n",
              "      <td>[0, 0, 1, 2, 3]</td>\n",
              "      <td>[4, 3, 4, 5, 6]</td>\n",
              "      <td>[0.0, 0.0, 69222.0, 5958.0, 240.0]</td>\n",
              "      <td>[60.0, 62400.0, 11640.0, 89102.0, 1044958.0]</td>\n",
              "      <td>None</td>\n",
              "    </tr>\n",
              "    <tr>\n",
              "      <th>3</th>\n",
              "      <td>[0, 0, 0, 1, 2]</td>\n",
              "      <td>[6, 0, 0, 0, 0]</td>\n",
              "      <td>[0.0, 0.0, 0.0, 53.0, 333941.0]</td>\n",
              "      <td>[1088486.0, 0.0, 0.0, 0.0, 0.0]</td>\n",
              "      <td>None</td>\n",
              "    </tr>\n",
              "    <tr>\n",
              "      <th>4</th>\n",
              "      <td>[0, 0, 0, 1, 2]</td>\n",
              "      <td>[4, 5, 6, 0, 0]</td>\n",
              "      <td>[0.0, 0.0, 0.0, 101.0, 9319.0]</td>\n",
              "      <td>[19260.0, 69666.0, 253074.0, 0.0, 0.0]</td>\n",
              "      <td>None</td>\n",
              "    </tr>\n",
              "    <tr>\n",
              "      <th>...</th>\n",
              "      <td>...</td>\n",
              "      <td>...</td>\n",
              "      <td>...</td>\n",
              "      <td>...</td>\n",
              "      <td>...</td>\n",
              "    </tr>\n",
              "    <tr>\n",
              "      <th>1511</th>\n",
              "      <td>[0, 0, 0, 1, 2]</td>\n",
              "      <td>[6, 0, 0, 0, 0]</td>\n",
              "      <td>[0.0, 0.0, 0.0, 33075.0, 774190.0]</td>\n",
              "      <td>[333935.0, 0.0, 0.0, 0.0, 0.0]</td>\n",
              "      <td>None</td>\n",
              "    </tr>\n",
              "    <tr>\n",
              "      <th>1512</th>\n",
              "      <td>[0, 1, 2, 4, 4]</td>\n",
              "      <td>[5, 6, 0, 0, 0]</td>\n",
              "      <td>[0.0, 63.0, 8637.0, 60.0, 106800.0]</td>\n",
              "      <td>[1760.0, 155980.0, 0.0, 0.0, 0.0]</td>\n",
              "      <td>None</td>\n",
              "    </tr>\n",
              "    <tr>\n",
              "      <th>1513</th>\n",
              "      <td>[1, 2, 5, 2, 5]</td>\n",
              "      <td>[5, 6, 0, 0, 0]</td>\n",
              "      <td>[128.0, 242881.0, 98673.0, 349637.0, 144362.0]</td>\n",
              "      <td>[373873.0, 339226.0, 0.0, 0.0, 0.0]</td>\n",
              "      <td>None</td>\n",
              "    </tr>\n",
              "    <tr>\n",
              "      <th>1514</th>\n",
              "      <td>[0, 0, 1, 2, 5]</td>\n",
              "      <td>[5, 2, 5, 6, 0]</td>\n",
              "      <td>[0.0, 0.0, 78.0, 134028.0, 193457.0]</td>\n",
              "      <td>[1296812.0, 140879.0, 312502.0, 486344.0, 0.0]</td>\n",
              "      <td>None</td>\n",
              "    </tr>\n",
              "    <tr>\n",
              "      <th>1515</th>\n",
              "      <td>[0, 0, 0, 1, 2]</td>\n",
              "      <td>[4, 5, 6, 0, 0]</td>\n",
              "      <td>[0.0, 0.0, 0.0, 4853.0, 4627.0]</td>\n",
              "      <td>[30300.0, 134313.0, 675087.0, 0.0, 0.0]</td>\n",
              "      <td>None</td>\n",
              "    </tr>\n",
              "  </tbody>\n",
              "</table>\n",
              "<p>1516 rows × 5 columns</p>\n",
              "</div>\n",
              "      <button class=\"colab-df-convert\" onclick=\"convertToInteractive('df-4fda5b86-2473-4be7-be22-6129753bd7cb')\"\n",
              "              title=\"Convert this dataframe to an interactive table.\"\n",
              "              style=\"display:none;\">\n",
              "        \n",
              "  <svg xmlns=\"http://www.w3.org/2000/svg\" height=\"24px\"viewBox=\"0 0 24 24\"\n",
              "       width=\"24px\">\n",
              "    <path d=\"M0 0h24v24H0V0z\" fill=\"none\"/>\n",
              "    <path d=\"M18.56 5.44l.94 2.06.94-2.06 2.06-.94-2.06-.94-.94-2.06-.94 2.06-2.06.94zm-11 1L8.5 8.5l.94-2.06 2.06-.94-2.06-.94L8.5 2.5l-.94 2.06-2.06.94zm10 10l.94 2.06.94-2.06 2.06-.94-2.06-.94-.94-2.06-.94 2.06-2.06.94z\"/><path d=\"M17.41 7.96l-1.37-1.37c-.4-.4-.92-.59-1.43-.59-.52 0-1.04.2-1.43.59L10.3 9.45l-7.72 7.72c-.78.78-.78 2.05 0 2.83L4 21.41c.39.39.9.59 1.41.59.51 0 1.02-.2 1.41-.59l7.78-7.78 2.81-2.81c.8-.78.8-2.07 0-2.86zM5.41 20L4 18.59l7.72-7.72 1.47 1.35L5.41 20z\"/>\n",
              "  </svg>\n",
              "      </button>\n",
              "      \n",
              "  <style>\n",
              "    .colab-df-container {\n",
              "      display:flex;\n",
              "      flex-wrap:wrap;\n",
              "      gap: 12px;\n",
              "    }\n",
              "\n",
              "    .colab-df-convert {\n",
              "      background-color: #E8F0FE;\n",
              "      border: none;\n",
              "      border-radius: 50%;\n",
              "      cursor: pointer;\n",
              "      display: none;\n",
              "      fill: #1967D2;\n",
              "      height: 32px;\n",
              "      padding: 0 0 0 0;\n",
              "      width: 32px;\n",
              "    }\n",
              "\n",
              "    .colab-df-convert:hover {\n",
              "      background-color: #E2EBFA;\n",
              "      box-shadow: 0px 1px 2px rgba(60, 64, 67, 0.3), 0px 1px 3px 1px rgba(60, 64, 67, 0.15);\n",
              "      fill: #174EA6;\n",
              "    }\n",
              "\n",
              "    [theme=dark] .colab-df-convert {\n",
              "      background-color: #3B4455;\n",
              "      fill: #D2E3FC;\n",
              "    }\n",
              "\n",
              "    [theme=dark] .colab-df-convert:hover {\n",
              "      background-color: #434B5C;\n",
              "      box-shadow: 0px 1px 3px 1px rgba(0, 0, 0, 0.15);\n",
              "      filter: drop-shadow(0px 1px 2px rgba(0, 0, 0, 0.3));\n",
              "      fill: #FFFFFF;\n",
              "    }\n",
              "  </style>\n",
              "\n",
              "      <script>\n",
              "        const buttonEl =\n",
              "          document.querySelector('#df-4fda5b86-2473-4be7-be22-6129753bd7cb button.colab-df-convert');\n",
              "        buttonEl.style.display =\n",
              "          google.colab.kernel.accessAllowed ? 'block' : 'none';\n",
              "\n",
              "        async function convertToInteractive(key) {\n",
              "          const element = document.querySelector('#df-4fda5b86-2473-4be7-be22-6129753bd7cb');\n",
              "          const dataTable =\n",
              "            await google.colab.kernel.invokeFunction('convertToInteractive',\n",
              "                                                     [key], {});\n",
              "          if (!dataTable) return;\n",
              "\n",
              "          const docLinkHtml = 'Like what you see? Visit the ' +\n",
              "            '<a target=\"_blank\" href=https://colab.research.google.com/notebooks/data_table.ipynb>data table notebook</a>'\n",
              "            + ' to learn more about interactive tables.';\n",
              "          element.innerHTML = '';\n",
              "          dataTable['output_type'] = 'display_data';\n",
              "          await google.colab.output.renderOutput(dataTable, element);\n",
              "          const docLink = document.createElement('div');\n",
              "          docLink.innerHTML = docLinkHtml;\n",
              "          element.appendChild(docLink);\n",
              "        }\n",
              "      </script>\n",
              "    </div>\n",
              "  </div>\n",
              "  "
            ]
          },
          "metadata": {},
          "execution_count": 28
        }
      ]
    },
    {
      "cell_type": "code",
      "source": [
        "# create validation set\n",
        "train_el, validation_el = train_test_split(labeled_train, test_size=VALIDATION_SIZE, random_state=9)"
      ],
      "metadata": {
        "id": "p88RY8E-y-vK"
      },
      "execution_count": 29,
      "outputs": []
    },
    {
      "cell_type": "code",
      "source": [
        "from keras.utils import to_categorical\n",
        "\n",
        "# format input and one hot encode activity labels\n",
        "def format_input(el, train=False):\n",
        "\n",
        "  prefix_x = np.array(el['prefix'])\n",
        "  prefix_x = np.stack(prefix_x)\n",
        "  prefix_x = prefix_x.reshape(prefix_x.shape[0], prefix_x.shape[1], 1)\n",
        "  \n",
        "  suffix_x = np.array(el['suffix'])\n",
        "  suffix_x = np.stack(suffix_x)\n",
        "  suffix_x = suffix_x.reshape(suffix_x.shape[0], suffix_x.shape[1], 1)\n",
        "\n",
        "  prefix_td = np.array(el['prefix time delta'])\n",
        "  prefix_td = np.stack(prefix_td)\n",
        "  prefix_td = prefix_td.reshape(prefix_td.shape[0], prefix_td.shape[1], 1)\n",
        "\n",
        "  suffix_td = np.array(el['suffix time delta'])\n",
        "  suffix_td = np.stack(suffix_td)\n",
        "  suffix_td = suffix_td.reshape(suffix_td.shape[0], suffix_td.shape[1], 1)\n",
        "\n",
        "  x = np.concatenate(([prefix_x], [suffix_x], [prefix_td], [suffix_td]))\n",
        "\n",
        "  y = np.array(el['label'])\n",
        "  y = np.stack(y)\n",
        "  \n",
        "  if train is False:\n",
        "    y_encoded = to_categorical(y, n_activities)\n",
        "    return x, y_encoded\n",
        "  \n",
        "  return x, y"
      ],
      "metadata": {
        "id": "nW4QoUeN7tD0"
      },
      "execution_count": 31,
      "outputs": []
    },
    {
      "cell_type": "code",
      "source": [
        "train_x, train_y = format_input(train_el) \n",
        "validation_x, validation_y = format_input(validation_el)\n",
        "test_x, test_y = format_input(labeled_test, train=True)"
      ],
      "metadata": {
        "id": "gKFqX1mH8LON"
      },
      "execution_count": 32,
      "outputs": []
    },
    {
      "cell_type": "markdown",
      "source": [
        "## Section 4: Predicting Missing Activities using LSTM"
      ],
      "metadata": {
        "id": "EXAnlX9-9ucz"
      }
    },
    {
      "cell_type": "markdown",
      "source": [
        "###4.1 Prefix LSTM"
      ],
      "metadata": {
        "id": "TFzjzYvHofju"
      }
    },
    {
      "cell_type": "code",
      "source": [
        "# forwards LSTM\n",
        "from numpy import array\n",
        "from keras.models import Sequential\n",
        "from keras.layers import LSTM, Dense, Softmax, Bidirectional, Embedding\n",
        "\n",
        "\n",
        "prefix_LSTM = Sequential()\n",
        "prefix_LSTM.add(Embedding(input_dim=n_activities, output_dim=50))\n",
        "prefix_LSTM.add(LSTM(50, activation='relu', return_sequences=False, input_shape=(PREFIX_LENGTH, 1)))\n",
        "prefix_LSTM.add(Dense(n_activities, activation='softmax'))\n",
        "\n",
        "prefix_LSTM.compile(optimizer='adam', loss='categorical_crossentropy', metrics=['accuracy'])\n",
        "prefix_LSTM.summary()\n",
        "prefix_LSTM.fit(train_x[0], train_y, validation_data=(validation_x[0], validation_y), epochs=10)\n"
      ],
      "metadata": {
        "id": "oCr7EikZNzvZ",
        "outputId": "3c9a1ee9-b032-4c9c-96f9-ff45246b313c",
        "colab": {
          "base_uri": "https://localhost:8080/"
        }
      },
      "execution_count": 33,
      "outputs": [
        {
          "output_type": "stream",
          "name": "stderr",
          "text": [
            "WARNING:tensorflow:Layer lstm will not use cuDNN kernels since it doesn't meet the criteria. It will use a generic GPU kernel as fallback when running on GPU.\n"
          ]
        },
        {
          "output_type": "stream",
          "name": "stdout",
          "text": [
            "Model: \"sequential\"\n",
            "_________________________________________________________________\n",
            " Layer (type)                Output Shape              Param #   \n",
            "=================================================================\n",
            " embedding (Embedding)       (None, None, 50)          400       \n",
            "                                                                 \n",
            " lstm (LSTM)                 (None, 50)                20200     \n",
            "                                                                 \n",
            " dense (Dense)               (None, 8)                 408       \n",
            "                                                                 \n",
            "=================================================================\n",
            "Total params: 21,008\n",
            "Trainable params: 21,008\n",
            "Non-trainable params: 0\n",
            "_________________________________________________________________\n",
            "Epoch 1/10\n",
            "908/908 [==============================] - 27s 21ms/step - loss: 0.7959 - accuracy: 0.7034 - val_loss: 0.6707 - val_accuracy: 0.7372\n",
            "Epoch 2/10\n",
            "908/908 [==============================] - 21s 23ms/step - loss: 0.6740 - accuracy: 0.7252 - val_loss: 0.6555 - val_accuracy: 0.7374\n",
            "Epoch 3/10\n",
            "908/908 [==============================] - 17s 19ms/step - loss: 0.6662 - accuracy: 0.7271 - val_loss: 0.6572 - val_accuracy: 0.7374\n",
            "Epoch 4/10\n",
            "908/908 [==============================] - 16s 18ms/step - loss: 0.6614 - accuracy: 0.7280 - val_loss: 0.6535 - val_accuracy: 0.7329\n",
            "Epoch 5/10\n",
            "908/908 [==============================] - 17s 19ms/step - loss: 0.6596 - accuracy: 0.7293 - val_loss: 0.6488 - val_accuracy: 0.7384\n",
            "Epoch 6/10\n",
            "908/908 [==============================] - 19s 20ms/step - loss: 0.6574 - accuracy: 0.7302 - val_loss: 0.6495 - val_accuracy: 0.7384\n",
            "Epoch 7/10\n",
            "908/908 [==============================] - 17s 19ms/step - loss: 0.6561 - accuracy: 0.7291 - val_loss: 0.6497 - val_accuracy: 0.7391\n",
            "Epoch 8/10\n",
            "908/908 [==============================] - 17s 18ms/step - loss: 0.6544 - accuracy: 0.7306 - val_loss: 0.6480 - val_accuracy: 0.7329\n",
            "Epoch 9/10\n",
            "908/908 [==============================] - 16s 18ms/step - loss: 0.6539 - accuracy: 0.7307 - val_loss: 0.6463 - val_accuracy: 0.7391\n",
            "Epoch 10/10\n",
            "908/908 [==============================] - 16s 18ms/step - loss: 0.6536 - accuracy: 0.7308 - val_loss: 0.6475 - val_accuracy: 0.7391\n"
          ]
        },
        {
          "output_type": "execute_result",
          "data": {
            "text/plain": [
              "<keras.callbacks.History at 0x7fa2fca56080>"
            ]
          },
          "metadata": {},
          "execution_count": 33
        }
      ]
    },
    {
      "cell_type": "markdown",
      "source": [
        "###4.2 Suffix LSTM"
      ],
      "metadata": {
        "id": "aGpe3K7XomJb"
      }
    },
    {
      "cell_type": "code",
      "source": [
        "# backwards LSTM\n",
        "\n",
        "suffix_LSTM = Sequential()\n",
        "suffix_LSTM.add(Embedding(input_dim=n_activities, output_dim=50))\n",
        "suffix_LSTM.add(LSTM(50, activation='relu', return_sequences=False, input_shape=(PREFIX_LENGTH, 1)))\n",
        "suffix_LSTM.add(Dense(n_activities, activation='softmax'))\n",
        "\n",
        "suffix_LSTM.compile(optimizer='adam', loss='categorical_crossentropy', metrics=['accuracy'])\n",
        "suffix_LSTM.summary()\n",
        "suffix_LSTM.fit(train_x[1], train_y, validation_data=(validation_x[1], validation_y), epochs=10)\n"
      ],
      "metadata": {
        "colab": {
          "base_uri": "https://localhost:8080/"
        },
        "id": "m6M3ftNNPzC4",
        "outputId": "f10a9008-5aec-4dab-9f4d-bfa08f5e32e4"
      },
      "execution_count": 34,
      "outputs": [
        {
          "output_type": "stream",
          "name": "stderr",
          "text": [
            "WARNING:tensorflow:Layer lstm_1 will not use cuDNN kernels since it doesn't meet the criteria. It will use a generic GPU kernel as fallback when running on GPU.\n"
          ]
        },
        {
          "output_type": "stream",
          "name": "stdout",
          "text": [
            "Model: \"sequential_1\"\n",
            "_________________________________________________________________\n",
            " Layer (type)                Output Shape              Param #   \n",
            "=================================================================\n",
            " embedding_1 (Embedding)     (None, None, 50)          400       \n",
            "                                                                 \n",
            " lstm_1 (LSTM)               (None, 50)                20200     \n",
            "                                                                 \n",
            " dense_1 (Dense)             (None, 8)                 408       \n",
            "                                                                 \n",
            "=================================================================\n",
            "Total params: 21,008\n",
            "Trainable params: 21,008\n",
            "Non-trainable params: 0\n",
            "_________________________________________________________________\n",
            "Epoch 1/10\n",
            "908/908 [==============================] - 22s 22ms/step - loss: 0.6586 - accuracy: 0.7338 - val_loss: 0.5760 - val_accuracy: 0.7278\n",
            "Epoch 2/10\n",
            "908/908 [==============================] - 18s 19ms/step - loss: 0.5395 - accuracy: 0.7708 - val_loss: 0.5671 - val_accuracy: 0.7625\n",
            "Epoch 3/10\n",
            "908/908 [==============================] - 16s 18ms/step - loss: 0.5310 - accuracy: 0.7736 - val_loss: 0.5420 - val_accuracy: 0.7669\n",
            "Epoch 4/10\n",
            "908/908 [==============================] - 17s 19ms/step - loss: 0.5211 - accuracy: 0.7781 - val_loss: 0.5369 - val_accuracy: 0.7712\n",
            "Epoch 5/10\n",
            "908/908 [==============================] - 19s 21ms/step - loss: 0.5153 - accuracy: 0.7797 - val_loss: 0.5346 - val_accuracy: 0.7709\n",
            "Epoch 6/10\n",
            "908/908 [==============================] - 17s 19ms/step - loss: 0.5105 - accuracy: 0.7801 - val_loss: 0.5352 - val_accuracy: 0.7731\n",
            "Epoch 7/10\n",
            "908/908 [==============================] - 18s 19ms/step - loss: 0.5089 - accuracy: 0.7828 - val_loss: 0.5268 - val_accuracy: 0.7731\n",
            "Epoch 8/10\n",
            "908/908 [==============================] - 18s 20ms/step - loss: 0.5070 - accuracy: 0.7836 - val_loss: 0.5345 - val_accuracy: 0.7679\n",
            "Epoch 9/10\n",
            "908/908 [==============================] - 19s 21ms/step - loss: 0.5050 - accuracy: 0.7834 - val_loss: 0.5243 - val_accuracy: 0.7738\n",
            "Epoch 10/10\n",
            "908/908 [==============================] - 17s 18ms/step - loss: 0.5050 - accuracy: 0.7840 - val_loss: 0.5261 - val_accuracy: 0.7747\n"
          ]
        },
        {
          "output_type": "execute_result",
          "data": {
            "text/plain": [
              "<keras.callbacks.History at 0x7fa266ed7490>"
            ]
          },
          "metadata": {},
          "execution_count": 34
        }
      ]
    },
    {
      "cell_type": "markdown",
      "source": [
        "###4.3 Bidirectional LSTM with activities"
      ],
      "metadata": {
        "id": "G50NuIbPosMC"
      }
    },
    {
      "cell_type": "code",
      "source": [
        "from pandas.core.internals import concat\n",
        "from keras.layers import Bidirectional, LSTM, Dropout, Dense, Input, concatenate, average\n",
        "from keras import Model\n",
        "\n",
        "prefix_input = Input(shape=(PREFIX_LENGTH, 1), name='prefix_input')\n",
        "suffix_input = Input(shape=(PREFIX_LENGTH, 1), name='suffix_input')\n",
        "\n",
        "lstm_layer = LSTM(32)\n",
        "\n",
        "prefix_layer = Bidirectional(lstm_layer, name='prefix_lstm')(prefix_input)\n",
        "suffix_layer = Bidirectional(lstm_layer, name='suffix_lstm')(suffix_input)\n",
        "\n",
        "dropout_prefix = Dropout(0.2)(prefix_layer)\n",
        "dropout_suffix = Dropout(0.2)(suffix_layer)\n",
        "\n",
        "merged = concatenate([dropout_prefix, dropout_suffix], name='merged')\n",
        "\n",
        "output = Dense(n_activities, activation='softmax', name='output')(merged)\n",
        "\n",
        "bi_LSTM = Model(inputs=[prefix_input, suffix_input], outputs=output)\n",
        "bi_LSTM.compile(loss='categorical_crossentropy', optimizer='adam', metrics=['accuracy'])\n",
        "bi_LSTM.summary()\n",
        "bi_LSTM.fit((train_x[0], train_x[1]), train_y,  validation_data=((validation_x[0], validation_x[1]), validation_y), epochs=10)"
      ],
      "metadata": {
        "colab": {
          "base_uri": "https://localhost:8080/"
        },
        "id": "5hVt5Hezf2n0",
        "outputId": "51ded0c5-3d4f-40fb-8551-7c303cdcfa72"
      },
      "execution_count": 35,
      "outputs": [
        {
          "output_type": "stream",
          "name": "stdout",
          "text": [
            "Model: \"model\"\n",
            "__________________________________________________________________________________________________\n",
            " Layer (type)                   Output Shape         Param #     Connected to                     \n",
            "==================================================================================================\n",
            " prefix_input (InputLayer)      [(None, 5, 1)]       0           []                               \n",
            "                                                                                                  \n",
            " suffix_input (InputLayer)      [(None, 5, 1)]       0           []                               \n",
            "                                                                                                  \n",
            " prefix_lstm (Bidirectional)    (None, 64)           8704        ['prefix_input[0][0]']           \n",
            "                                                                                                  \n",
            " suffix_lstm (Bidirectional)    (None, 64)           8704        ['suffix_input[0][0]']           \n",
            "                                                                                                  \n",
            " dropout (Dropout)              (None, 64)           0           ['prefix_lstm[0][0]']            \n",
            "                                                                                                  \n",
            " dropout_1 (Dropout)            (None, 64)           0           ['suffix_lstm[0][0]']            \n",
            "                                                                                                  \n",
            " merged (Concatenate)           (None, 128)          0           ['dropout[0][0]',                \n",
            "                                                                  'dropout_1[0][0]']              \n",
            "                                                                                                  \n",
            " output (Dense)                 (None, 8)            1032        ['merged[0][0]']                 \n",
            "                                                                                                  \n",
            "==================================================================================================\n",
            "Total params: 18,440\n",
            "Trainable params: 18,440\n",
            "Non-trainable params: 0\n",
            "__________________________________________________________________________________________________\n",
            "Epoch 1/10\n",
            "908/908 [==============================] - 22s 14ms/step - loss: 0.4511 - accuracy: 0.8623 - val_loss: 0.2785 - val_accuracy: 0.8995\n",
            "Epoch 2/10\n",
            "908/908 [==============================] - 10s 11ms/step - loss: 0.2550 - accuracy: 0.9094 - val_loss: 0.2436 - val_accuracy: 0.9086\n",
            "Epoch 3/10\n",
            "908/908 [==============================] - 11s 12ms/step - loss: 0.2363 - accuracy: 0.9137 - val_loss: 0.2453 - val_accuracy: 0.9053\n",
            "Epoch 4/10\n",
            "908/908 [==============================] - 11s 12ms/step - loss: 0.2278 - accuracy: 0.9142 - val_loss: 0.2295 - val_accuracy: 0.9084\n",
            "Epoch 5/10\n",
            "908/908 [==============================] - 11s 13ms/step - loss: 0.2190 - accuracy: 0.9151 - val_loss: 0.2206 - val_accuracy: 0.9123\n",
            "Epoch 6/10\n",
            "908/908 [==============================] - 9s 10ms/step - loss: 0.2106 - accuracy: 0.9187 - val_loss: 0.2130 - val_accuracy: 0.9126\n",
            "Epoch 7/10\n",
            "908/908 [==============================] - 10s 11ms/step - loss: 0.2086 - accuracy: 0.9190 - val_loss: 0.2127 - val_accuracy: 0.9134\n",
            "Epoch 8/10\n",
            "908/908 [==============================] - 10s 11ms/step - loss: 0.2043 - accuracy: 0.9199 - val_loss: 0.2095 - val_accuracy: 0.9146\n",
            "Epoch 9/10\n",
            "908/908 [==============================] - 11s 12ms/step - loss: 0.2011 - accuracy: 0.9206 - val_loss: 0.2096 - val_accuracy: 0.9138\n",
            "Epoch 10/10\n",
            "908/908 [==============================] - 10s 11ms/step - loss: 0.1988 - accuracy: 0.9211 - val_loss: 0.2101 - val_accuracy: 0.9142\n"
          ]
        },
        {
          "output_type": "execute_result",
          "data": {
            "text/plain": [
              "<keras.callbacks.History at 0x7fa268495510>"
            ]
          },
          "metadata": {},
          "execution_count": 35
        }
      ]
    },
    {
      "cell_type": "markdown",
      "source": [
        "###4.4 Bi-directional LSTM with time deltas "
      ],
      "metadata": {
        "id": "bUGOG0PDTfz0"
      }
    },
    {
      "cell_type": "code",
      "source": [
        "prefix_input = Input(shape=(PREFIX_LENGTH, 1), name='prefix_input')\n",
        "suffix_input = Input(shape=(PREFIX_LENGTH, 1), name='suffix_input')\n",
        "\n",
        "lstm_layer = LSTM(32)\n",
        "\n",
        "prefix_layer = Bidirectional(lstm_layer, name='prefix_lstm')(prefix_input)\n",
        "suffix_layer = Bidirectional(lstm_layer, name='suffix_lstm')(suffix_input)\n",
        "\n",
        "dropout_prefix = Dropout(0.2)(prefix_layer)\n",
        "dropout_suffix = Dropout(0.2)(suffix_layer)\n",
        "\n",
        "merged = concatenate([dropout_prefix, dropout_suffix], name='merged')\n",
        "\n",
        "output = Dense(n_activities, activation='softmax', name='output')(merged)\n",
        "\n",
        "td_LSTM = Model(inputs=[prefix_input, suffix_input], outputs=output)\n",
        "td_LSTM.compile(loss='categorical_crossentropy', optimizer='adam', metrics=['accuracy'])\n",
        "td_LSTM.summary()\n",
        "td_LSTM.fit((train_x[2], train_x[3]), train_y,  validation_data=((validation_x[2], validation_x[3]), validation_y), epochs=10)"
      ],
      "metadata": {
        "colab": {
          "base_uri": "https://localhost:8080/"
        },
        "id": "uyshofNOTt_7",
        "outputId": "94fa6097-ec93-4a12-87b2-a8ed71146202"
      },
      "execution_count": 36,
      "outputs": [
        {
          "output_type": "stream",
          "name": "stdout",
          "text": [
            "Model: \"model_1\"\n",
            "__________________________________________________________________________________________________\n",
            " Layer (type)                   Output Shape         Param #     Connected to                     \n",
            "==================================================================================================\n",
            " prefix_input (InputLayer)      [(None, 5, 1)]       0           []                               \n",
            "                                                                                                  \n",
            " suffix_input (InputLayer)      [(None, 5, 1)]       0           []                               \n",
            "                                                                                                  \n",
            " prefix_lstm (Bidirectional)    (None, 64)           8704        ['prefix_input[0][0]']           \n",
            "                                                                                                  \n",
            " suffix_lstm (Bidirectional)    (None, 64)           8704        ['suffix_input[0][0]']           \n",
            "                                                                                                  \n",
            " dropout_2 (Dropout)            (None, 64)           0           ['prefix_lstm[0][0]']            \n",
            "                                                                                                  \n",
            " dropout_3 (Dropout)            (None, 64)           0           ['suffix_lstm[0][0]']            \n",
            "                                                                                                  \n",
            " merged (Concatenate)           (None, 128)          0           ['dropout_2[0][0]',              \n",
            "                                                                  'dropout_3[0][0]']              \n",
            "                                                                                                  \n",
            " output (Dense)                 (None, 8)            1032        ['merged[0][0]']                 \n",
            "                                                                                                  \n",
            "==================================================================================================\n",
            "Total params: 18,440\n",
            "Trainable params: 18,440\n",
            "Non-trainable params: 0\n",
            "__________________________________________________________________________________________________\n",
            "Epoch 1/10\n",
            "908/908 [==============================] - 21s 13ms/step - loss: 0.4247 - accuracy: 0.8614 - val_loss: 0.2801 - val_accuracy: 0.9040\n",
            "Epoch 2/10\n",
            "908/908 [==============================] - 11s 12ms/step - loss: 0.2765 - accuracy: 0.9073 - val_loss: 0.2676 - val_accuracy: 0.9039\n",
            "Epoch 3/10\n",
            "908/908 [==============================] - 11s 12ms/step - loss: 0.2663 - accuracy: 0.9080 - val_loss: 0.2589 - val_accuracy: 0.9043\n",
            "Epoch 4/10\n",
            "908/908 [==============================] - 9s 10ms/step - loss: 0.2606 - accuracy: 0.9085 - val_loss: 0.2603 - val_accuracy: 0.9079\n",
            "Epoch 5/10\n",
            "908/908 [==============================] - 10s 11ms/step - loss: 0.2578 - accuracy: 0.9079 - val_loss: 0.2620 - val_accuracy: 0.9039\n",
            "Epoch 6/10\n",
            "908/908 [==============================] - 11s 12ms/step - loss: 0.2558 - accuracy: 0.9069 - val_loss: 0.2588 - val_accuracy: 0.9035\n",
            "Epoch 7/10\n",
            "908/908 [==============================] - 11s 12ms/step - loss: 0.2549 - accuracy: 0.9078 - val_loss: 0.2556 - val_accuracy: 0.9046\n",
            "Epoch 8/10\n",
            "908/908 [==============================] - 9s 10ms/step - loss: 0.2546 - accuracy: 0.9078 - val_loss: 0.2531 - val_accuracy: 0.9058\n",
            "Epoch 9/10\n",
            "908/908 [==============================] - 11s 12ms/step - loss: 0.2531 - accuracy: 0.9082 - val_loss: 0.2612 - val_accuracy: 0.9042\n",
            "Epoch 10/10\n",
            "908/908 [==============================] - 11s 12ms/step - loss: 0.2527 - accuracy: 0.9078 - val_loss: 0.2577 - val_accuracy: 0.9036\n"
          ]
        },
        {
          "output_type": "execute_result",
          "data": {
            "text/plain": [
              "<keras.callbacks.History at 0x7fa273d011e0>"
            ]
          },
          "metadata": {},
          "execution_count": 36
        }
      ]
    },
    {
      "cell_type": "markdown",
      "source": [
        "###4.5 Bi-directional LSTM with both activities and timedeltas"
      ],
      "metadata": {
        "id": "57iYyLcgH8qe"
      }
    },
    {
      "cell_type": "markdown",
      "source": [
        "####4.5.1 original architecture"
      ],
      "metadata": {
        "id": "emd5L4seVkct"
      }
    },
    {
      "cell_type": "code",
      "source": [
        "# this LSTM takes additional two inputs:\n",
        "# time deltas for the prefix events\n",
        "# time deltas for the suffix events\n",
        "from keras.layers import LSTM, Dense, Bidirectional, average, Input, concatenate, Dropout\n",
        "from keras import Model\n",
        "\n",
        "\n",
        "prefix_events_input = Input(shape=(PREFIX_LENGTH, 1), name='prefix_events_input')\n",
        "suffix_events_input = Input(shape=(PREFIX_LENGTH, 1), name='suffix_events_input')\n",
        "\n",
        "prefix_deltas_input = Input(shape=(PREFIX_LENGTH, 1), name='prefix_deltas_input')\n",
        "suffix_deltas_input = Input(shape=(PREFIX_LENGTH, 1), name='suffix_deltas_input')\n",
        "\n",
        "merged_prefix = concatenate([prefix_events_input, prefix_deltas_input], axis=-1)\n",
        "merged_suffix = concatenate([suffix_events_input, suffix_deltas_input], axis=-1)\n",
        "\n",
        "lstm_layer = LSTM(32)\n",
        "\n",
        "prefix_layer = Bidirectional(lstm_layer, name='prefix_lstm')(merged_prefix)\n",
        "suffix_layer = Bidirectional(lstm_layer, name='suffix_lstm')(merged_suffix)\n",
        "\n",
        "dropout_prefix = Dropout(0.2)(prefix_layer)\n",
        "dropout_suffix = Dropout(0.2)(suffix_layer)\n",
        "\n",
        "merged = concatenate([dropout_prefix, dropout_suffix], name='merged')\n",
        "\n",
        "output = Dense(n_activities, activation='softmax', name='output')(merged)\n",
        "\n",
        "bi_LSTM_td = Model(\n",
        "    inputs=[prefix_events_input, suffix_events_input, prefix_deltas_input, suffix_deltas_input],\n",
        "    outputs=output)\n",
        "\n",
        "bi_LSTM_td.compile(loss='categorical_crossentropy', optimizer='adam', metrics=['accuracy'])\n",
        "bi_LSTM_td.summary()\n",
        "bi_LSTM_td.fit(\n",
        "    (train_x[0], train_x[1], train_x[2], train_x[3]),\n",
        "    train_y,\n",
        "    validation_data=((validation_x[0], validation_x[1], validation_x[2], validation_x[3]),\n",
        "                     validation_y), epochs=10)\n",
        "\n"
      ],
      "metadata": {
        "colab": {
          "base_uri": "https://localhost:8080/"
        },
        "id": "aQ9ET2h1IBUH",
        "outputId": "91b535bf-5580-4730-bece-aa28824cae77"
      },
      "execution_count": 37,
      "outputs": [
        {
          "output_type": "stream",
          "name": "stdout",
          "text": [
            "Model: \"model_2\"\n",
            "__________________________________________________________________________________________________\n",
            " Layer (type)                   Output Shape         Param #     Connected to                     \n",
            "==================================================================================================\n",
            " prefix_events_input (InputLaye  [(None, 5, 1)]      0           []                               \n",
            " r)                                                                                               \n",
            "                                                                                                  \n",
            " prefix_deltas_input (InputLaye  [(None, 5, 1)]      0           []                               \n",
            " r)                                                                                               \n",
            "                                                                                                  \n",
            " suffix_events_input (InputLaye  [(None, 5, 1)]      0           []                               \n",
            " r)                                                                                               \n",
            "                                                                                                  \n",
            " suffix_deltas_input (InputLaye  [(None, 5, 1)]      0           []                               \n",
            " r)                                                                                               \n",
            "                                                                                                  \n",
            " concatenate (Concatenate)      (None, 5, 2)         0           ['prefix_events_input[0][0]',    \n",
            "                                                                  'prefix_deltas_input[0][0]']    \n",
            "                                                                                                  \n",
            " concatenate_1 (Concatenate)    (None, 5, 2)         0           ['suffix_events_input[0][0]',    \n",
            "                                                                  'suffix_deltas_input[0][0]']    \n",
            "                                                                                                  \n",
            " prefix_lstm (Bidirectional)    (None, 64)           8960        ['concatenate[0][0]']            \n",
            "                                                                                                  \n",
            " suffix_lstm (Bidirectional)    (None, 64)           8960        ['concatenate_1[0][0]']          \n",
            "                                                                                                  \n",
            " dropout_4 (Dropout)            (None, 64)           0           ['prefix_lstm[0][0]']            \n",
            "                                                                                                  \n",
            " dropout_5 (Dropout)            (None, 64)           0           ['suffix_lstm[0][0]']            \n",
            "                                                                                                  \n",
            " merged (Concatenate)           (None, 128)          0           ['dropout_4[0][0]',              \n",
            "                                                                  'dropout_5[0][0]']              \n",
            "                                                                                                  \n",
            " output (Dense)                 (None, 8)            1032        ['merged[0][0]']                 \n",
            "                                                                                                  \n",
            "==================================================================================================\n",
            "Total params: 18,952\n",
            "Trainable params: 18,952\n",
            "Non-trainable params: 0\n",
            "__________________________________________________________________________________________________\n",
            "Epoch 1/10\n",
            "908/908 [==============================] - 20s 14ms/step - loss: 0.4218 - accuracy: 0.8645 - val_loss: 0.2688 - val_accuracy: 0.9067\n",
            "Epoch 2/10\n",
            "908/908 [==============================] - 11s 12ms/step - loss: 0.2652 - accuracy: 0.9083 - val_loss: 0.2571 - val_accuracy: 0.9068\n",
            "Epoch 3/10\n",
            "908/908 [==============================] - 10s 12ms/step - loss: 0.2579 - accuracy: 0.9092 - val_loss: 0.2555 - val_accuracy: 0.9069\n",
            "Epoch 4/10\n",
            "908/908 [==============================] - 9s 10ms/step - loss: 0.2519 - accuracy: 0.9100 - val_loss: 0.2500 - val_accuracy: 0.9071\n",
            "Epoch 5/10\n",
            "908/908 [==============================] - 11s 12ms/step - loss: 0.2490 - accuracy: 0.9099 - val_loss: 0.2459 - val_accuracy: 0.9069\n",
            "Epoch 6/10\n",
            "908/908 [==============================] - 11s 12ms/step - loss: 0.2450 - accuracy: 0.9104 - val_loss: 0.2452 - val_accuracy: 0.9075\n",
            "Epoch 7/10\n",
            "908/908 [==============================] - 11s 13ms/step - loss: 0.2400 - accuracy: 0.9112 - val_loss: 0.2450 - val_accuracy: 0.9073\n",
            "Epoch 8/10\n",
            "908/908 [==============================] - 9s 10ms/step - loss: 0.2397 - accuracy: 0.9116 - val_loss: 0.2454 - val_accuracy: 0.9078\n",
            "Epoch 9/10\n",
            "908/908 [==============================] - 10s 11ms/step - loss: 0.2389 - accuracy: 0.9114 - val_loss: 0.2401 - val_accuracy: 0.9075\n",
            "Epoch 10/10\n",
            "908/908 [==============================] - 10s 11ms/step - loss: 0.2375 - accuracy: 0.9119 - val_loss: 0.2377 - val_accuracy: 0.9102\n"
          ]
        },
        {
          "output_type": "execute_result",
          "data": {
            "text/plain": [
              "<keras.callbacks.History at 0x7fa271296320>"
            ]
          },
          "metadata": {},
          "execution_count": 37
        }
      ]
    },
    {
      "cell_type": "markdown",
      "source": [
        "####4.5.2 alternate architecture"
      ],
      "metadata": {
        "id": "kXTOAbTKVem1"
      }
    },
    {
      "cell_type": "code",
      "source": [
        "from keras.layers import LSTM, Dense, Bidirectional, average, Input, concatenate, Dropout\n",
        "from keras import Model\n",
        "\n",
        "prefix_events_input = Input(shape=(PREFIX_LENGTH, 1), name='prefix_events_input')\n",
        "suffix_events_input = Input(shape=(PREFIX_LENGTH, 1), name='suffix_events_input')\n",
        "\n",
        "prefix_deltas_input = Input(shape=(PREFIX_LENGTH, 1), name='prefix_deltas_input')\n",
        "suffix_deltas_input = Input(shape=(PREFIX_LENGTH, 1), name='suffix_deltas_input')\n",
        "\n",
        "\n",
        "lstm_layer = LSTM(32)\n",
        "\n",
        "prefix_events_lstm = Bidirectional(lstm_layer, name='prefix_events_lstm')(prefix_events_input)\n",
        "suffix_events_lstm = Bidirectional(lstm_layer, name='suffix_events_lstm')(suffix_events_input)\n",
        "prefix_deltas_lstm = Bidirectional(lstm_layer, name='prefix_deltas_lstm')(prefix_deltas_input)\n",
        "suffix_deltas_lstm = Bidirectional(lstm_layer, name='suffix_deltas_lstm')(suffix_deltas_input)\n",
        "\n",
        "\n",
        "dropout_prefix_events = Dropout(0.2)(prefix_events_lstm)\n",
        "dropout_suffix_events = Dropout(0.2)(suffix_events_lstm)\n",
        "dropout_prefix_deltas = Dropout(0.2)(prefix_deltas_lstm)\n",
        "dropout_suffix_deltas = Dropout(0.2)(suffix_deltas_lstm)\n",
        "\n",
        "\n",
        "\n",
        "merged = average([dropout_prefix_events, dropout_suffix_events, dropout_prefix_deltas, dropout_suffix_deltas], name='merged')\n",
        "\n",
        "output = Dense(n_activities, activation='softmax', name='output')(merged)\n",
        "\n",
        "bi_LSTM_td_2 = Model(\n",
        "    inputs=[prefix_events_input, suffix_events_input, prefix_deltas_input, suffix_deltas_input],\n",
        "    outputs=output)\n",
        "bi_LSTM_td_2.compile(loss='categorical_crossentropy', optimizer='adam', metrics=['accuracy'])\n",
        "bi_LSTM_td_2.summary()\n",
        "bi_LSTM_td_2.fit(\n",
        "    (train_x[0], train_x[1], train_x[2], train_x[3]),\n",
        "    train_y,\n",
        "    validation_data=((validation_x[0], validation_x[1], validation_x[2], validation_x[3]),\n",
        "                     validation_y), epochs=10)\n",
        "\n"
      ],
      "metadata": {
        "colab": {
          "base_uri": "https://localhost:8080/"
        },
        "outputId": "705aea78-dca4-413c-a838-e463b46a3b13",
        "id": "XDLjahJKUZIK"
      },
      "execution_count": 38,
      "outputs": [
        {
          "output_type": "stream",
          "name": "stdout",
          "text": [
            "Model: \"model_3\"\n",
            "__________________________________________________________________________________________________\n",
            " Layer (type)                   Output Shape         Param #     Connected to                     \n",
            "==================================================================================================\n",
            " prefix_events_input (InputLaye  [(None, 5, 1)]      0           []                               \n",
            " r)                                                                                               \n",
            "                                                                                                  \n",
            " suffix_events_input (InputLaye  [(None, 5, 1)]      0           []                               \n",
            " r)                                                                                               \n",
            "                                                                                                  \n",
            " prefix_deltas_input (InputLaye  [(None, 5, 1)]      0           []                               \n",
            " r)                                                                                               \n",
            "                                                                                                  \n",
            " suffix_deltas_input (InputLaye  [(None, 5, 1)]      0           []                               \n",
            " r)                                                                                               \n",
            "                                                                                                  \n",
            " prefix_events_lstm (Bidirectio  (None, 64)          8704        ['prefix_events_input[0][0]']    \n",
            " nal)                                                                                             \n",
            "                                                                                                  \n",
            " suffix_events_lstm (Bidirectio  (None, 64)          8704        ['suffix_events_input[0][0]']    \n",
            " nal)                                                                                             \n",
            "                                                                                                  \n",
            " prefix_deltas_lstm (Bidirectio  (None, 64)          8704        ['prefix_deltas_input[0][0]']    \n",
            " nal)                                                                                             \n",
            "                                                                                                  \n",
            " suffix_deltas_lstm (Bidirectio  (None, 64)          8704        ['suffix_deltas_input[0][0]']    \n",
            " nal)                                                                                             \n",
            "                                                                                                  \n",
            " dropout_6 (Dropout)            (None, 64)           0           ['prefix_events_lstm[0][0]']     \n",
            "                                                                                                  \n",
            " dropout_7 (Dropout)            (None, 64)           0           ['suffix_events_lstm[0][0]']     \n",
            "                                                                                                  \n",
            " dropout_8 (Dropout)            (None, 64)           0           ['prefix_deltas_lstm[0][0]']     \n",
            "                                                                                                  \n",
            " dropout_9 (Dropout)            (None, 64)           0           ['suffix_deltas_lstm[0][0]']     \n",
            "                                                                                                  \n",
            " merged (Average)               (None, 64)           0           ['dropout_6[0][0]',              \n",
            "                                                                  'dropout_7[0][0]',              \n",
            "                                                                  'dropout_8[0][0]',              \n",
            "                                                                  'dropout_9[0][0]']              \n",
            "                                                                                                  \n",
            " output (Dense)                 (None, 8)            520         ['merged[0][0]']                 \n",
            "                                                                                                  \n",
            "==================================================================================================\n",
            "Total params: 35,336\n",
            "Trainable params: 35,336\n",
            "Non-trainable params: 0\n",
            "__________________________________________________________________________________________________\n",
            "Epoch 1/10\n",
            "908/908 [==============================] - 35s 22ms/step - loss: 0.4746 - accuracy: 0.8606 - val_loss: 0.2802 - val_accuracy: 0.9029\n",
            "Epoch 2/10\n",
            "908/908 [==============================] - 17s 19ms/step - loss: 0.2626 - accuracy: 0.9084 - val_loss: 0.2423 - val_accuracy: 0.9105\n",
            "Epoch 3/10\n",
            "908/908 [==============================] - 16s 18ms/step - loss: 0.2334 - accuracy: 0.9151 - val_loss: 0.2308 - val_accuracy: 0.9141\n",
            "Epoch 4/10\n",
            "908/908 [==============================] - 18s 19ms/step - loss: 0.2214 - accuracy: 0.9178 - val_loss: 0.2254 - val_accuracy: 0.9146\n",
            "Epoch 5/10\n",
            "908/908 [==============================] - 16s 18ms/step - loss: 0.2151 - accuracy: 0.9185 - val_loss: 0.2155 - val_accuracy: 0.9156\n",
            "Epoch 6/10\n",
            "908/908 [==============================] - 18s 19ms/step - loss: 0.2072 - accuracy: 0.9187 - val_loss: 0.2098 - val_accuracy: 0.9157\n",
            "Epoch 7/10\n",
            "908/908 [==============================] - 17s 19ms/step - loss: 0.2008 - accuracy: 0.9212 - val_loss: 0.2052 - val_accuracy: 0.9156\n",
            "Epoch 8/10\n",
            "908/908 [==============================] - 16s 18ms/step - loss: 0.1982 - accuracy: 0.9230 - val_loss: 0.2025 - val_accuracy: 0.9197\n",
            "Epoch 9/10\n",
            "908/908 [==============================] - 16s 18ms/step - loss: 0.1946 - accuracy: 0.9235 - val_loss: 0.1995 - val_accuracy: 0.9201\n",
            "Epoch 10/10\n",
            "908/908 [==============================] - 16s 17ms/step - loss: 0.1907 - accuracy: 0.9241 - val_loss: 0.1939 - val_accuracy: 0.9257\n"
          ]
        },
        {
          "output_type": "execute_result",
          "data": {
            "text/plain": [
              "<keras.callbacks.History at 0x7fa27144dc00>"
            ]
          },
          "metadata": {},
          "execution_count": 38
        }
      ]
    },
    {
      "cell_type": "markdown",
      "source": [
        "###4.6 Hyperparameter Tuning"
      ],
      "metadata": {
        "id": "7G4gN_9p1Frv"
      }
    },
    {
      "cell_type": "code",
      "source": [
        "import keras_tuner as kt\n",
        "\n",
        "def build_model(hp):\n",
        "  prefix_events_input = Input(shape=(PREFIX_LENGTH, 1), name='prefix_events_input')\n",
        "  suffix_events_input = Input(shape=(PREFIX_LENGTH, 1), name='suffix_events_input')\n",
        "\n",
        "  prefix_deltas_input = Input(shape=(PREFIX_LENGTH, 1), name='prefix_deltas_input')\n",
        "  suffix_deltas_input = Input(shape=(PREFIX_LENGTH, 1), name='suffix_deltas_input')\n",
        "\n",
        "\n",
        "  lstm_units = hp.Int('units', min_value=32, max_value=128, step=32)\n",
        "  lstm_layer = LSTM(lstm_units)\n",
        "\n",
        "  prefix_events_lstm = Bidirectional(lstm_layer, name='prefix_events_lstm')(prefix_events_input)\n",
        "  suffix_events_lstm = Bidirectional(lstm_layer, name='suffix_events_lstm')(suffix_events_input)\n",
        "  prefix_deltas_lstm = Bidirectional(lstm_layer, name='prefix_deltas_lstm')(prefix_deltas_input)\n",
        "  suffix_deltas_lstm = Bidirectional(lstm_layer, name='suffix_deltas_lstm')(suffix_deltas_input)\n",
        "\n",
        "  dropout_rates = [0.0,0.1,0.2,0.3,0.4,0.5]\n",
        "\n",
        "  dropout_rate_1 = hp.Choice('rate_1', values=dropout_rates)\n",
        "  dropout_rate_2 = hp.Choice('rate_2', values=dropout_rates)\n",
        "  dropout_rate_3 = hp.Choice('rate_3', values=dropout_rates)\n",
        "  dropout_rate_4 = hp.Choice('rate_4', values=dropout_rates)\n",
        "\n",
        "\n",
        "  dropout_prefix_events = Dropout(dropout_rate_1)(prefix_events_lstm)\n",
        "  dropout_suffix_events = Dropout(dropout_rate_2)(suffix_events_lstm)\n",
        "  dropout_prefix_deltas = Dropout(dropout_rate_3)(prefix_deltas_lstm)\n",
        "  dropout_suffix_deltas = Dropout(dropout_rate_4)(suffix_deltas_lstm)\n",
        "\n",
        "\n",
        "\n",
        "  merged = average([dropout_prefix_events, dropout_suffix_events, dropout_prefix_deltas, dropout_suffix_deltas], name='merged')\n",
        "\n",
        "  output = Dense(n_activities, activation='softmax', name='output')(merged)\n",
        "\n",
        "  model = Model(\n",
        "      inputs=[prefix_events_input, suffix_events_input, prefix_deltas_input, suffix_deltas_input],\n",
        "      outputs=output)\n",
        "\n",
        "  model.compile(loss='categorical_crossentropy', optimizer='adam', metrics=['accuracy'])\n",
        "  \n",
        "  return model\n",
        "  \n",
        "build_model(kt.HyperParameters())"
      ],
      "metadata": {
        "id": "kcPsWX781L33",
        "outputId": "7f92d9bf-c78d-4771-b1cc-ec490e130b52",
        "colab": {
          "base_uri": "https://localhost:8080/"
        }
      },
      "execution_count": null,
      "outputs": [
        {
          "output_type": "execute_result",
          "data": {
            "text/plain": [
              "<keras.engine.functional.Functional at 0x7f7514dff580>"
            ]
          },
          "metadata": {},
          "execution_count": 44
        }
      ]
    },
    {
      "cell_type": "code",
      "source": [
        "import tensorflow as tf\n",
        "\n",
        "tuner = kt.Hyperband(\n",
        "    hypermodel=build_model,\n",
        "    objective='val_accuracy',\n",
        "    max_epochs=10,\n",
        "    seed=9\n",
        ")\n",
        "\n",
        "stop_early = tf.keras.callbacks.EarlyStopping(monitor='val_loss', patience=5)\n",
        "\n",
        "tuner.search(\n",
        "    (train_x[0], train_x[1], train_x[2], train_x[3]),\n",
        "    train_y,\n",
        "    validation_data=((validation_x[0], validation_x[1], validation_x[2], validation_x[3]),\n",
        "    validation_y),\n",
        "    epochs=10,\n",
        "    callbacks=[stop_early]\n",
        ")"
      ],
      "metadata": {
        "id": "bDdEBgZA9xka",
        "outputId": "f7822cfd-79ae-4278-a039-fc0cade8654b",
        "colab": {
          "base_uri": "https://localhost:8080/"
        }
      },
      "execution_count": null,
      "outputs": [
        {
          "output_type": "stream",
          "name": "stdout",
          "text": [
            "Trial 30 Complete [00h 03m 36s]\n",
            "val_accuracy: 0.9244194030761719\n",
            "\n",
            "Best val_accuracy So Far: 0.9303284287452698\n",
            "Total elapsed time: 00h 48m 42s\n"
          ]
        }
      ]
    },
    {
      "cell_type": "code",
      "source": [
        "# best_model = tuner.get_best_models()\n",
        "best_hps=tuner.get_best_hyperparameters(num_trials=1)[0]\n",
        "best_hyperparameters = tuner.get_best_hyperparameters(1)[0]\n",
        "best_hyperparameters.values\n",
        "\n",
        "# {'units': 96,\n",
        "#  'rate_1': 0.5,\n",
        "#  'rate_2': 0.1,\n",
        "#  'rate_3': 0.0,\n",
        "#  'rate_4': 0.1,\n",
        "#  'tuner/epochs': 10,\n",
        "#  'tuner/initial_epoch': 4,\n",
        "#  'tuner/bracket': 1,\n",
        "#  'tuner/round': 1,\n",
        "#  'tuner/trial_id': '0018'}\n"
      ],
      "metadata": {
        "id": "IpPgCLxIAyrC",
        "colab": {
          "base_uri": "https://localhost:8080/"
        },
        "outputId": "d765d5f5-ab37-4d9b-c3f1-20064c84c3f0"
      },
      "execution_count": null,
      "outputs": [
        {
          "output_type": "execute_result",
          "data": {
            "text/plain": [
              "{'units': 96,\n",
              " 'rate_1': 0.5,\n",
              " 'rate_2': 0.1,\n",
              " 'rate_3': 0.0,\n",
              " 'rate_4': 0.1,\n",
              " 'tuner/epochs': 10,\n",
              " 'tuner/initial_epoch': 4,\n",
              " 'tuner/bracket': 1,\n",
              " 'tuner/round': 1,\n",
              " 'tuner/trial_id': '0018'}"
            ]
          },
          "metadata": {},
          "execution_count": 46
        }
      ]
    },
    {
      "cell_type": "markdown",
      "source": [
        "###4.7 Best Model"
      ],
      "metadata": {
        "id": "4vl9_JPxubpz"
      }
    },
    {
      "cell_type": "code",
      "source": [
        "from keras.layers import Dropout, Input, Bidirectional, LSTM, average, Dense\n",
        "from keras import Model\n",
        "\n",
        "prefix_events_input = Input(shape=(PREFIX_LENGTH, 1), name='prefix_events_input')\n",
        "suffix_events_input = Input(shape=(PREFIX_LENGTH, 1), name='suffix_events_input')\n",
        "\n",
        "prefix_deltas_input = Input(shape=(PREFIX_LENGTH, 1), name='prefix_deltas_input')\n",
        "suffix_deltas_input = Input(shape=(PREFIX_LENGTH, 1), name='suffix_deltas_input')\n",
        "\n",
        "\n",
        "lstm_layer = LSTM(96)\n",
        "\n",
        "\n",
        "prefix_events_lstm = Bidirectional(lstm_layer, name='prefix_events_lstm')(prefix_events_input)\n",
        "suffix_events_lstm = Bidirectional(lstm_layer, name='suffix_events_lstm')(suffix_events_input)\n",
        "prefix_deltas_lstm = Bidirectional(lstm_layer, name='prefix_deltas_lstm')(prefix_deltas_input)\n",
        "suffix_deltas_lstm = Bidirectional(lstm_layer, name='suffix_deltas_lstm')(suffix_deltas_input)\n",
        "\n",
        "\n",
        "dropout_prefix_events = Dropout(0.5)(prefix_events_lstm)\n",
        "dropout_suffix_events = Dropout(0.1)(suffix_events_lstm)\n",
        "dropout_prefix_deltas = Dropout(0)(prefix_deltas_lstm)\n",
        "dropout_suffix_deltas = Dropout(0.1)(suffix_deltas_lstm)\n",
        "\n",
        "\n",
        "merged = average([dropout_prefix_events, dropout_suffix_events, dropout_prefix_deltas, dropout_suffix_deltas], name='merged')\n",
        "\n",
        "output = Dense(n_activities, activation='softmax', name='output')(merged)\n",
        "\n",
        "best_model = Model(\n",
        "    inputs=[prefix_events_input, suffix_events_input, prefix_deltas_input, suffix_deltas_input],\n",
        "    outputs=output)\n",
        "best_model.compile(loss='categorical_crossentropy', optimizer='adam', metrics=['accuracy'])\n",
        "best_model.summary()\n",
        "history = best_model.fit(\n",
        "    (train_x[0], train_x[1], train_x[2], train_x[3]),\n",
        "    train_y,\n",
        "    validation_data=((validation_x[0], validation_x[1], validation_x[2], validation_x[3]),\n",
        "                     validation_y), epochs=27)\n"
      ],
      "metadata": {
        "colab": {
          "base_uri": "https://localhost:8080/"
        },
        "id": "k-KcHTMMuar4",
        "outputId": "be9e1699-2538-4ffb-9d90-d9e3525892f0"
      },
      "execution_count": null,
      "outputs": [
        {
          "output_type": "stream",
          "name": "stdout",
          "text": [
            "Model: \"model\"\n",
            "__________________________________________________________________________________________________\n",
            " Layer (type)                   Output Shape         Param #     Connected to                     \n",
            "==================================================================================================\n",
            " prefix_events_input (InputLaye  [(None, 5, 1)]      0           []                               \n",
            " r)                                                                                               \n",
            "                                                                                                  \n",
            " suffix_events_input (InputLaye  [(None, 5, 1)]      0           []                               \n",
            " r)                                                                                               \n",
            "                                                                                                  \n",
            " prefix_deltas_input (InputLaye  [(None, 5, 1)]      0           []                               \n",
            " r)                                                                                               \n",
            "                                                                                                  \n",
            " suffix_deltas_input (InputLaye  [(None, 5, 1)]      0           []                               \n",
            " r)                                                                                               \n",
            "                                                                                                  \n",
            " prefix_events_lstm (Bidirectio  (None, 192)         75264       ['prefix_events_input[0][0]']    \n",
            " nal)                                                                                             \n",
            "                                                                                                  \n",
            " suffix_events_lstm (Bidirectio  (None, 192)         75264       ['suffix_events_input[0][0]']    \n",
            " nal)                                                                                             \n",
            "                                                                                                  \n",
            " prefix_deltas_lstm (Bidirectio  (None, 192)         75264       ['prefix_deltas_input[0][0]']    \n",
            " nal)                                                                                             \n",
            "                                                                                                  \n",
            " suffix_deltas_lstm (Bidirectio  (None, 192)         75264       ['suffix_deltas_input[0][0]']    \n",
            " nal)                                                                                             \n",
            "                                                                                                  \n",
            " dropout (Dropout)              (None, 192)          0           ['prefix_events_lstm[0][0]']     \n",
            "                                                                                                  \n",
            " dropout_1 (Dropout)            (None, 192)          0           ['suffix_events_lstm[0][0]']     \n",
            "                                                                                                  \n",
            " dropout_2 (Dropout)            (None, 192)          0           ['prefix_deltas_lstm[0][0]']     \n",
            "                                                                                                  \n",
            " dropout_3 (Dropout)            (None, 192)          0           ['suffix_deltas_lstm[0][0]']     \n",
            "                                                                                                  \n",
            " merged (Average)               (None, 192)          0           ['dropout[0][0]',                \n",
            "                                                                  'dropout_1[0][0]',              \n",
            "                                                                  'dropout_2[0][0]',              \n",
            "                                                                  'dropout_3[0][0]']              \n",
            "                                                                                                  \n",
            " output (Dense)                 (None, 8)            1544        ['merged[0][0]']                 \n",
            "                                                                                                  \n",
            "==================================================================================================\n",
            "Total params: 302,600\n",
            "Trainable params: 302,600\n",
            "Non-trainable params: 0\n",
            "__________________________________________________________________________________________________\n",
            "Epoch 1/27\n",
            "905/905 [==============================] - 37s 20ms/step - loss: 0.3361 - accuracy: 0.8918 - val_loss: 0.2385 - val_accuracy: 0.9102\n",
            "Epoch 2/27\n",
            "905/905 [==============================] - 23s 25ms/step - loss: 0.2203 - accuracy: 0.9177 - val_loss: 0.2290 - val_accuracy: 0.9117\n",
            "Epoch 3/27\n",
            "905/905 [==============================] - 14s 15ms/step - loss: 0.2066 - accuracy: 0.9209 - val_loss: 0.2246 - val_accuracy: 0.9141\n",
            "Epoch 4/27\n",
            "905/905 [==============================] - 14s 15ms/step - loss: 0.1949 - accuracy: 0.9225 - val_loss: 0.2000 - val_accuracy: 0.9244\n",
            "Epoch 5/27\n",
            "905/905 [==============================] - 14s 15ms/step - loss: 0.1849 - accuracy: 0.9266 - val_loss: 0.1977 - val_accuracy: 0.9247\n",
            "Epoch 6/27\n",
            "905/905 [==============================] - 14s 16ms/step - loss: 0.1823 - accuracy: 0.9267 - val_loss: 0.1892 - val_accuracy: 0.9246\n",
            "Epoch 7/27\n",
            "905/905 [==============================] - 14s 15ms/step - loss: 0.1786 - accuracy: 0.9284 - val_loss: 0.1919 - val_accuracy: 0.9247\n",
            "Epoch 8/27\n",
            "905/905 [==============================] - 14s 16ms/step - loss: 0.1786 - accuracy: 0.9280 - val_loss: 0.2073 - val_accuracy: 0.9164\n",
            "Epoch 9/27\n",
            "905/905 [==============================] - 16s 17ms/step - loss: 0.1762 - accuracy: 0.9282 - val_loss: 0.1897 - val_accuracy: 0.9260\n",
            "Epoch 10/27\n",
            "905/905 [==============================] - 14s 16ms/step - loss: 0.1741 - accuracy: 0.9293 - val_loss: 0.1902 - val_accuracy: 0.9242\n",
            "Epoch 11/27\n",
            "905/905 [==============================] - 14s 15ms/step - loss: 0.1726 - accuracy: 0.9289 - val_loss: 0.1852 - val_accuracy: 0.9271\n",
            "Epoch 12/27\n",
            "905/905 [==============================] - 15s 17ms/step - loss: 0.1713 - accuracy: 0.9299 - val_loss: 0.1892 - val_accuracy: 0.9250\n",
            "Epoch 13/27\n",
            "905/905 [==============================] - 15s 17ms/step - loss: 0.1705 - accuracy: 0.9298 - val_loss: 0.1831 - val_accuracy: 0.9268\n",
            "Epoch 14/27\n",
            "905/905 [==============================] - 14s 16ms/step - loss: 0.1701 - accuracy: 0.9297 - val_loss: 0.1839 - val_accuracy: 0.9282\n",
            "Epoch 15/27\n",
            "905/905 [==============================] - 14s 16ms/step - loss: 0.1705 - accuracy: 0.9310 - val_loss: 0.1819 - val_accuracy: 0.9268\n",
            "Epoch 16/27\n",
            "905/905 [==============================] - 14s 16ms/step - loss: 0.1698 - accuracy: 0.9298 - val_loss: 0.1810 - val_accuracy: 0.9291\n",
            "Epoch 17/27\n",
            "905/905 [==============================] - 14s 16ms/step - loss: 0.1695 - accuracy: 0.9304 - val_loss: 0.1813 - val_accuracy: 0.9275\n",
            "Epoch 18/27\n",
            "905/905 [==============================] - 14s 16ms/step - loss: 0.1688 - accuracy: 0.9302 - val_loss: 0.1804 - val_accuracy: 0.9276\n",
            "Epoch 19/27\n",
            "905/905 [==============================] - 14s 16ms/step - loss: 0.1681 - accuracy: 0.9304 - val_loss: 0.1824 - val_accuracy: 0.9258\n",
            "Epoch 20/27\n",
            "905/905 [==============================] - 14s 16ms/step - loss: 0.1672 - accuracy: 0.9299 - val_loss: 0.1803 - val_accuracy: 0.9253\n",
            "Epoch 21/27\n",
            "905/905 [==============================] - 14s 16ms/step - loss: 0.1658 - accuracy: 0.9304 - val_loss: 0.1795 - val_accuracy: 0.9286\n",
            "Epoch 22/27\n",
            "905/905 [==============================] - 14s 16ms/step - loss: 0.1657 - accuracy: 0.9310 - val_loss: 0.1851 - val_accuracy: 0.9264\n",
            "Epoch 23/27\n",
            "905/905 [==============================] - 16s 17ms/step - loss: 0.1740 - accuracy: 0.9279 - val_loss: 0.1875 - val_accuracy: 0.9261\n",
            "Epoch 24/27\n",
            "905/905 [==============================] - 14s 16ms/step - loss: 0.1700 - accuracy: 0.9299 - val_loss: 0.1829 - val_accuracy: 0.9278\n",
            "Epoch 25/27\n",
            "905/905 [==============================] - 14s 16ms/step - loss: 0.1674 - accuracy: 0.9313 - val_loss: 0.1831 - val_accuracy: 0.9262\n",
            "Epoch 26/27\n",
            "905/905 [==============================] - 14s 15ms/step - loss: 0.1663 - accuracy: 0.9309 - val_loss: 0.1810 - val_accuracy: 0.9261\n",
            "Epoch 27/27\n",
            "905/905 [==============================] - 14s 16ms/step - loss: 0.1659 - accuracy: 0.9305 - val_loss: 0.1808 - val_accuracy: 0.9282\n"
          ]
        }
      ]
    },
    {
      "cell_type": "code",
      "source": [
        "import keras\n",
        "from matplotlib import pyplot as plt\n",
        "# plt.plot([i * 100 for i in history.history['accuracy']])\n",
        "# plt.plot([i * 100 for i in history.history['val_accuracy']])\n",
        "\n",
        "fig, ax = plt.subplots()\n",
        "x = list(range(1,51))\n",
        "ax.plot(x, [i * 100 for i in history.history['accuracy']]\n",
        ")\n",
        "ax.plot(x, [i * 100 for i in history.history['val_accuracy']]\n",
        ")\n",
        "\n",
        "# Find the maximum value and its index\n",
        "ymax = np.max([i * 100 for i in history.history['val_accuracy']])\n",
        "imax = np.argmax([i * 100 for i in history.history['val_accuracy']])\n",
        "\n",
        "# Annotate the maximum value\n",
        "ax.annotate(f'Maximum Percentage of Correct Predictions: {round(ymax,2)} \\nEpoch: {x[imax]}\\n', \n",
        "            xy=(x[imax], ymax), xytext=(x[imax]-20, ymax-3),\n",
        "            arrowprops=dict(facecolor='black', arrowstyle='->'))\n",
        "\n",
        "plt.title('Perecentage of Correct Predictions per Epoch')\n",
        "plt.ylabel('Percentage of Correct Predictions')\n",
        "plt.xlabel('Epoch')\n",
        "plt.legend(['Training', 'Validation'], loc='lower right')\n",
        "\n",
        "plt.show()"
      ],
      "metadata": {
        "id": "3FCHOEz49uuT",
        "outputId": "43f92c09-fff5-4788-859a-7bd963c0ed3d",
        "colab": {
          "base_uri": "https://localhost:8080/",
          "height": 472
        }
      },
      "execution_count": null,
      "outputs": [
        {
          "output_type": "display_data",
          "data": {
            "text/plain": [
              "<Figure size 640x480 with 1 Axes>"
            ],
            "image/png": "[encoded data removed]"
          },
          "metadata": {}
        }
      ]
    },
    {
      "cell_type": "code",
      "source": [
        "fig, ax = plt.subplots()\n",
        "x = list(range(1,51))\n",
        "ax.plot(x, history.history['loss'])\n",
        "ax.plot(x, history.history['val_loss'])\n",
        "\n",
        "plt.title('Loss per Epoch')\n",
        "plt.ylabel('Loss')\n",
        "plt.xlabel('Epoch')\n",
        "plt.legend(['Training', 'Validation'], loc='upper right')\n",
        "\n",
        "plt.show()"
      ],
      "metadata": {
        "id": "o3MBrNU2OE7F",
        "outputId": "31aa7e80-31ba-40bd-99a6-5f73af696082",
        "colab": {
          "base_uri": "https://localhost:8080/",
          "height": 472
        }
      },
      "execution_count": null,
      "outputs": [
        {
          "output_type": "display_data",
          "data": {
            "text/plain": [
              "<Figure size 640x480 with 1 Axes>"
            ],
            "image/png": "[encoded data removed]"
          },
          "metadata": {}
        }
      ]
    },
    {
      "cell_type": "markdown",
      "source": [
        "##Section 5: Evaluation and Conformance Checking"
      ],
      "metadata": {
        "id": "aNoGbrOXPXlY"
      }
    },
    {
      "cell_type": "markdown",
      "source": [
        "###5.0 Evaluation functions"
      ],
      "metadata": {
        "id": "Ly1fbKzhFG9_"
      }
    },
    {
      "cell_type": "code",
      "source": [
        "# calculate percentage of correct predictions\n",
        "def evaluate(predictions, verbose=False):\n",
        "  correct = 0 \n",
        "  incorrect = 0\n",
        "  for i in range(len(test_targets)):\n",
        "    prediction = decode_activity.get(str(np.argmax(predictions[i])))\n",
        "    if prediction == test_targets[i]:\n",
        "      correct += 1\n",
        "    else:\n",
        "      if verbose:\n",
        "        print(f\"predicted : {prediction}; expected : {test_targets[i]}\")\n",
        "      incorrect += 1\n",
        "\n",
        "\n",
        "  accuracy = correct/(correct + incorrect)\n",
        "  return accuracy"
      ],
      "metadata": {
        "id": "eY7I97Mtgc0o"
      },
      "execution_count": 39,
      "outputs": []
    },
    {
      "cell_type": "code",
      "source": [
        "def categoricalConfusionMatrix(predictions):\n",
        " activities = list(decode_activity.values())\n",
        " for activity in activities:\n",
        "  #  initialise true and false positives and negatives\n",
        "   tp, tn, fp, fn = 0,0,0,0\n",
        "   activity_value = encode_activity.get(activity)\n",
        "   for i in range(len(test_targets)):\n",
        "     prediction = np.argmax(predictions[i])\n",
        "\n",
        "     if int(test_targets[i]) == int(activity_value):\n",
        "       #  true positive\n",
        "       if int(prediction) == int(test_targets[i]):\n",
        "         tp += 1\n",
        "       # false negative\n",
        "       else:\n",
        "         fn += 1\n",
        "     else:\n",
        "       if int(prediction) == int(test_targets[i]):\n",
        "         tn +=1\n",
        "       else:\n",
        "         fp +=1\n",
        "\n",
        "   print(f'{activity}:\\n true positives: {tp}\\n false positives: {fp}\\n true negatives: {tn}\\n false negatives: {fn}')\n",
        "   try:\n",
        "    recall = tp/(tp+fn)\n",
        "    precision = tp/(tp+fp)\n",
        "    f1 = 2*(precision * recall)/(precision+recall)\n",
        "   except ZeroDivisionError as e:\n",
        "     print(e)  \n",
        "   print(f'recall = {recall}\\n precision = {precision}\\n f1 score = {f1}')"
      ],
      "metadata": {
        "id": "gkbvGKFw95FM"
      },
      "execution_count": 40,
      "outputs": []
    },
    {
      "cell_type": "markdown",
      "source": [
        "###5.1 Original Models"
      ],
      "metadata": {
        "id": "QZ4Wmq9ZvPzw"
      }
    },
    {
      "cell_type": "code",
      "source": [
        "# prefix-LSTM\n",
        "predictions_prefix = prefix_LSTM.predict(test_x[0])\n",
        "evaluate(predictions_prefix)"
      ],
      "metadata": {
        "id": "kNtmthRhlzUT",
        "outputId": "0f49be0b-388a-43bc-8915-44300d1cc3a9",
        "colab": {
          "base_uri": "https://localhost:8080/"
        }
      },
      "execution_count": 41,
      "outputs": [
        {
          "output_type": "stream",
          "name": "stdout",
          "text": [
            "48/48 [==============================] - 0s 4ms/step\n"
          ]
        },
        {
          "output_type": "execute_result",
          "data": {
            "text/plain": [
              "0.7790237467018469"
            ]
          },
          "metadata": {},
          "execution_count": 41
        }
      ]
    },
    {
      "cell_type": "code",
      "source": [
        "# suffix-LSTM\n",
        "predictions_suffix = suffix_LSTM.predict(test_x[1])\n",
        "evaluate(predictions_suffix)"
      ],
      "metadata": {
        "id": "uHygv6PVmHwN",
        "outputId": "1aef6c4f-d578-46a2-9f62-43cd646d0b1a",
        "colab": {
          "base_uri": "https://localhost:8080/"
        }
      },
      "execution_count": 42,
      "outputs": [
        {
          "output_type": "stream",
          "name": "stdout",
          "text": [
            "48/48 [==============================] - 0s 4ms/step\n"
          ]
        },
        {
          "output_type": "execute_result",
          "data": {
            "text/plain": [
              "0.8337730870712401"
            ]
          },
          "metadata": {},
          "execution_count": 42
        }
      ]
    },
    {
      "cell_type": "code",
      "source": [
        "# averaging outputs\n",
        "predictions = []\n",
        "for p in zip(predictions_prefix, predictions_suffix):\n",
        " \n",
        "  arr = []\n",
        "  for i in range(0,4):\n",
        "    arr.append((p[0][i]+p[1][i])/2)\n",
        "  predictions += [arr]\n",
        "\n",
        "predictions = np.array(predictions)\n",
        "\n",
        "evaluate(predictions)"
      ],
      "metadata": {
        "id": "C7lXTArfl8QC",
        "outputId": "a25e8330-a6f5-4c19-9afe-5a9ff2431ec9",
        "colab": {
          "base_uri": "https://localhost:8080/"
        }
      },
      "execution_count": 43,
      "outputs": [
        {
          "output_type": "execute_result",
          "data": {
            "text/plain": [
              "0.45910290237467016"
            ]
          },
          "metadata": {},
          "execution_count": 43
        }
      ]
    },
    {
      "cell_type": "code",
      "source": [
        "# bi-LSTM with activities\n",
        "predictions_bi = bi_LSTM.predict([test_x[0], test_x[1]])\n",
        "evaluate(predictions_bi)"
      ],
      "metadata": {
        "colab": {
          "base_uri": "https://localhost:8080/"
        },
        "id": "NeZBGY_TWXPL",
        "outputId": "75362fe2-40fd-45d7-dff4-1c63d3d66fd3"
      },
      "execution_count": 44,
      "outputs": [
        {
          "output_type": "stream",
          "name": "stdout",
          "text": [
            "48/48 [==============================] - 2s 4ms/step\n"
          ]
        },
        {
          "output_type": "execute_result",
          "data": {
            "text/plain": [
              "0.9432717678100264"
            ]
          },
          "metadata": {},
          "execution_count": 44
        }
      ]
    },
    {
      "cell_type": "code",
      "source": [
        "# bi-LSTM with time deltas\n",
        "predictions_td = td_LSTM.predict([test_x[2], test_x[3]])\n",
        "evaluate(predictions_td)\n"
      ],
      "metadata": {
        "id": "cHLWdwqrmAQC",
        "outputId": "41b57214-356f-423f-e647-d432eacc9c41",
        "colab": {
          "base_uri": "https://localhost:8080/"
        }
      },
      "execution_count": 45,
      "outputs": [
        {
          "output_type": "stream",
          "name": "stdout",
          "text": [
            "48/48 [==============================] - 2s 4ms/step\n"
          ]
        },
        {
          "output_type": "execute_result",
          "data": {
            "text/plain": [
              "0.933377308707124"
            ]
          },
          "metadata": {},
          "execution_count": 45
        }
      ]
    },
    {
      "cell_type": "code",
      "source": [
        "# bi-LSTM with activities and time deltas 1\n",
        "predictions_bi_td = bi_LSTM_td.predict([test_x[0], test_x[1], test_x[2], test_x[3]])\n",
        "evaluate(predictions_bi_td)"
      ],
      "metadata": {
        "id": "4mZtYK3WRskJ",
        "outputId": "c6aea78e-8b32-4718-c3fb-ea07b046c36f",
        "colab": {
          "base_uri": "https://localhost:8080/"
        }
      },
      "execution_count": 46,
      "outputs": [
        {
          "output_type": "stream",
          "name": "stdout",
          "text": [
            "48/48 [==============================] - 2s 4ms/step\n"
          ]
        },
        {
          "output_type": "execute_result",
          "data": {
            "text/plain": [
              "0.9366754617414248"
            ]
          },
          "metadata": {},
          "execution_count": 46
        }
      ]
    },
    {
      "cell_type": "code",
      "source": [
        "# bi-LSTM with activities and time deltas 2\n",
        "predictions_bi_td_2 = bi_LSTM_td_2.predict([test_x[0], test_x[1], test_x[2], test_x[3]])\n",
        "evaluate(predictions_bi_td_2,verbose=False)"
      ],
      "metadata": {
        "colab": {
          "base_uri": "https://localhost:8080/"
        },
        "id": "BdxYKINyWvAK",
        "outputId": "76e62cdf-2de5-4cfd-f81f-b144a7b8472b"
      },
      "execution_count": 47,
      "outputs": [
        {
          "output_type": "stream",
          "name": "stdout",
          "text": [
            "48/48 [==============================] - 3s 5ms/step\n"
          ]
        },
        {
          "output_type": "execute_result",
          "data": {
            "text/plain": [
              "0.9478891820580475"
            ]
          },
          "metadata": {},
          "execution_count": 47
        }
      ]
    },
    {
      "cell_type": "markdown",
      "source": [
        "###5.2 Best Model"
      ],
      "metadata": {
        "id": "3O7YMaQYvVC-"
      }
    },
    {
      "cell_type": "code",
      "source": [
        "# bi-LSTM with activities and time deltas 2\n",
        "predictions_best_model = best_model.predict([test_x[0], test_x[1], test_x[2], test_x[3]])\n",
        "evaluate(predictions_best_model,verbose=True)"
      ],
      "metadata": {
        "id": "dDH_vlp6vZq6",
        "outputId": "20bf4667-3eb0-4f5d-e8dd-733fff3a8053",
        "colab": {
          "base_uri": "https://localhost:8080/"
        }
      },
      "execution_count": null,
      "outputs": [
        {
          "output_type": "stream",
          "name": "stdout",
          "text": [
            "48/48 [==============================] - 3s 5ms/step\n",
            "predicted : IV; expected : Ventilation\n",
            "predicted : IV; expected : Ventilation\n",
            "predicted : IV; expected : Ventilation\n",
            "predicted : IV; expected : Ventilation\n",
            "predicted : IV; expected : Ventilation\n",
            "predicted : IV; expected : Ventilation\n",
            "predicted : IV; expected : Ventilation\n",
            "predicted : IV; expected : Ventilation\n",
            "predicted : IV; expected : Ventilation\n",
            "predicted : IV; expected : Ventilation\n",
            "predicted : IV; expected : Ventilation\n",
            "predicted : IV; expected : Ventilation\n",
            "predicted : IV; expected : Ventilation\n",
            "predicted : Ventilation; expected : Entered ICU\n",
            "predicted : IV; expected : Ventilation\n",
            "predicted : IV; expected : Ventilation\n",
            "predicted : IV; expected : Ventilation\n",
            "predicted : IV; expected : Ventilation\n",
            "predicted : IV; expected : Ventilation\n",
            "predicted : IV; expected : Ventilation\n",
            "predicted : IV; expected : Ventilation\n",
            "predicted : IV; expected : Ventilation\n",
            "predicted : IV; expected : Ventilation\n",
            "predicted : IV; expected : Ventilation\n",
            "predicted : Dialysis; expected : IV\n",
            "predicted : IV; expected : Ventilation\n",
            "predicted : IV; expected : Ventilation\n",
            "predicted : IV; expected : Ventilation\n",
            "predicted : IV; expected : Ventilation\n",
            "predicted : IV; expected : Ventilation\n",
            "predicted : IV; expected : Ventilation\n",
            "predicted : IV; expected : Ventilation\n",
            "predicted : IV; expected : Ventilation\n",
            "predicted : IV; expected : Ventilation\n",
            "predicted : IV; expected : Ventilation\n",
            "predicted : IV; expected : Ventilation\n",
            "predicted : IV; expected : Ventilation\n",
            "predicted : IV; expected : Ventilation\n",
            "predicted : IV; expected : Ventilation\n",
            "predicted : IV; expected : Ventilation\n",
            "predicted : IV; expected : Ventilation\n",
            "predicted : IV; expected : Ventilation\n",
            "predicted : IV; expected : Ventilation\n",
            "predicted : IV; expected : Ventilation\n",
            "predicted : IV; expected : Ventilation\n",
            "predicted : IV; expected : Ventilation\n",
            "predicted : IV; expected : Ventilation\n",
            "predicted : IV; expected : Ventilation\n",
            "predicted : IV; expected : Ventilation\n",
            "predicted : IV; expected : Ventilation\n",
            "predicted : Entered ICU; expected : Ventilation\n",
            "predicted : IV; expected : Ventilation\n",
            "predicted : IV; expected : Ventilation\n",
            "predicted : IV; expected : Ventilation\n",
            "predicted : IV; expected : Ventilation\n",
            "predicted : IV; expected : Ventilation\n",
            "predicted : IV; expected : Ventilation\n",
            "predicted : IV; expected : Entered ICU\n",
            "predicted : IV; expected : Ventilation\n"
          ]
        },
        {
          "output_type": "execute_result",
          "data": {
            "text/plain": [
              "0.9610561056105611"
            ]
          },
          "metadata": {},
          "execution_count": 33
        }
      ]
    },
    {
      "cell_type": "code",
      "source": [
        "categoricalConfusionMatrix(predictions_best_model)"
      ],
      "metadata": {
        "id": "Feu11aP2_JpH",
        "outputId": "833211ae-95db-4a6b-e500-4c2d62ecc18e",
        "colab": {
          "base_uri": "https://localhost:8080/",
          "height": 287
        }
      },
      "execution_count": null,
      "outputs": [
        {
          "output_type": "error",
          "ename": "ValueError",
          "evalue": "ignored",
          "traceback": [
            "\u001b[0;31m---------------------------------------------------------------------------\u001b[0m",
            "\u001b[0;31mValueError\u001b[0m                                Traceback (most recent call last)",
            "\u001b[0;32m<ipython-input-159-00aa193ae087>\u001b[0m in \u001b[0;36m<cell line: 1>\u001b[0;34m()\u001b[0m\n\u001b[0;32m----> 1\u001b[0;31m \u001b[0mcategoricalConfusionMatrix\u001b[0m\u001b[0;34m(\u001b[0m\u001b[0mpredictions_best_model\u001b[0m\u001b[0;34m)\u001b[0m\u001b[0;34m\u001b[0m\u001b[0;34m\u001b[0m\u001b[0m\n\u001b[0m",
            "\u001b[0;32m<ipython-input-127-d33e5bd26e56>\u001b[0m in \u001b[0;36mcategoricalConfusionMatrix\u001b[0;34m(predictions)\u001b[0m\n\u001b[1;32m      9\u001b[0m      \u001b[0mprediction\u001b[0m \u001b[0;34m=\u001b[0m \u001b[0mnp\u001b[0m\u001b[0;34m.\u001b[0m\u001b[0margmax\u001b[0m\u001b[0;34m(\u001b[0m\u001b[0mpredictions\u001b[0m\u001b[0;34m[\u001b[0m\u001b[0mi\u001b[0m\u001b[0;34m]\u001b[0m\u001b[0;34m)\u001b[0m\u001b[0;34m\u001b[0m\u001b[0;34m\u001b[0m\u001b[0m\n\u001b[1;32m     10\u001b[0m \u001b[0;34m\u001b[0m\u001b[0m\n\u001b[0;32m---> 11\u001b[0;31m      \u001b[0;32mif\u001b[0m \u001b[0mint\u001b[0m\u001b[0;34m(\u001b[0m\u001b[0mtest_targets\u001b[0m\u001b[0;34m[\u001b[0m\u001b[0mi\u001b[0m\u001b[0;34m]\u001b[0m\u001b[0;34m)\u001b[0m \u001b[0;34m==\u001b[0m \u001b[0mint\u001b[0m\u001b[0;34m(\u001b[0m\u001b[0mactivity_value\u001b[0m\u001b[0;34m)\u001b[0m\u001b[0;34m:\u001b[0m\u001b[0;34m\u001b[0m\u001b[0;34m\u001b[0m\u001b[0m\n\u001b[0m\u001b[1;32m     12\u001b[0m        \u001b[0;31m#  true positive\u001b[0m\u001b[0;34m\u001b[0m\u001b[0;34m\u001b[0m\u001b[0m\n\u001b[1;32m     13\u001b[0m        \u001b[0;32mif\u001b[0m \u001b[0mint\u001b[0m\u001b[0;34m(\u001b[0m\u001b[0mprediction\u001b[0m\u001b[0;34m)\u001b[0m \u001b[0;34m==\u001b[0m \u001b[0mint\u001b[0m\u001b[0;34m(\u001b[0m\u001b[0mtest_targets\u001b[0m\u001b[0;34m[\u001b[0m\u001b[0mi\u001b[0m\u001b[0;34m]\u001b[0m\u001b[0;34m)\u001b[0m\u001b[0;34m:\u001b[0m\u001b[0;34m\u001b[0m\u001b[0;34m\u001b[0m\u001b[0m\n",
            "\u001b[0;31mValueError\u001b[0m: invalid literal for int() with base 10: 'Discharged'"
          ]
        }
      ]
    },
    {
      "cell_type": "markdown",
      "source": [],
      "metadata": {
        "id": "cus3U9xwlPEH"
      }
    },
    {
      "cell_type": "code",
      "source": [
        "predicted_labels = [decode_activity.get(str(np.argmax(i))) for i in predictions_best_model]"
      ],
      "metadata": {
        "id": "fsJHs54Unxam"
      },
      "execution_count": null,
      "outputs": []
    },
    {
      "cell_type": "code",
      "source": [
        "len(predicted_labels)"
      ],
      "metadata": {
        "id": "PABU2bDroXD6",
        "outputId": "5ae98927-bc5a-45f0-8db5-5fd25a629121",
        "colab": {
          "base_uri": "https://localhost:8080/"
        }
      },
      "execution_count": null,
      "outputs": [
        {
          "output_type": "execute_result",
          "data": {
            "text/plain": [
              "1515"
            ]
          },
          "metadata": {},
          "execution_count": 50
        }
      ]
    },
    {
      "cell_type": "code",
      "source": [
        "def split_missing_complete(el):\n",
        "  missing = el.loc[el['activity'].isnull()]\n",
        "  complete = el.loc[el['activity'].notnull()]\n",
        "  return missing, complete"
      ],
      "metadata": {
        "id": "XgLWy4mwnY0G"
      },
      "execution_count": null,
      "outputs": []
    },
    {
      "cell_type": "code",
      "source": [
        "missing_rows, complete_rows = split_missing_complete(test_el)\n",
        "missing_rows['activity'] = predicted_labels \n",
        "repaired_log = pd.concat([missing_rows, complete_rows])\n",
        "repaired_log"
      ],
      "metadata": {
        "id": "AoMvGGo3pI1P",
        "outputId": "0570fcb6-4a1a-4543-cfd6-0acfa1ef4fe2",
        "colab": {
          "base_uri": "https://localhost:8080/",
          "height": 939
        }
      },
      "execution_count": null,
      "outputs": [
        {
          "output_type": "stream",
          "name": "stderr",
          "text": [
            "<ipython-input-62-9d43e0f70cea>:2: SettingWithCopyWarning: \n",
            "A value is trying to be set on a copy of a slice from a DataFrame.\n",
            "Try using .loc[row_indexer,col_indexer] = value instead\n",
            "\n",
            "See the caveats in the documentation: https://pandas.pydata.org/pandas-docs/stable/user_guide/indexing.html#returning-a-view-versus-a-copy\n",
            "  missing_rows['activity'] = predicted_labels\n"
          ]
        },
        {
          "output_type": "execute_result",
          "data": {
            "text/plain": [
              "        trace    activity           timestamp  patient case:concept:name  \\\n",
              "134        20          IV 2109-06-06 16:00:00   100094            100094   \n",
              "240        33    Left ICU 2115-01-22 17:57:26   100146            100146   \n",
              "337        50    Admitted 2146-12-22 21:02:00   100225            100225   \n",
              "357        53    Left ICU 2102-04-23 21:30:32   100263            100263   \n",
              "402        61          IV 2201-04-30 20:49:00   100320            100320   \n",
              "...       ...         ...                 ...      ...               ...   \n",
              "127130  17212    Left ICU 2197-01-13 10:15:00   199882            199882   \n",
              "127131  17212  Discharged 2197-01-19 15:20:00   199882            199882   \n",
              "127205  17225    Admitted 2183-03-24 03:13:00   199941            199941   \n",
              "127207  17225    Left ICU 2183-03-27 14:28:43   199941            199941   \n",
              "127208  17225  Discharged 2183-03-28 16:08:00   199941            199941   \n",
              "\n",
              "       concept:name      time:timestamp   @@index  @@case_index  \\\n",
              "134              IV 2109-06-06 16:00:00     134.0          20.0   \n",
              "240        Left ICU 2115-01-22 17:57:26     240.0          35.0   \n",
              "337        Admitted 2146-12-22 21:02:00     337.0          52.0   \n",
              "357        Left ICU 2102-04-23 21:30:32     357.0          55.0   \n",
              "402     Ventilation 2201-04-30 20:49:00     402.0          64.0   \n",
              "...             ...                 ...       ...           ...   \n",
              "127130     Left ICU 2197-01-13 10:15:00  127130.0       20669.0   \n",
              "127131   Discharged 2197-01-19 15:20:00  127131.0       20669.0   \n",
              "127205     Admitted 2183-03-24 03:13:00  127205.0       20684.0   \n",
              "127207     Left ICU 2183-03-27 14:28:43  127207.0       20684.0   \n",
              "127208   Discharged 2183-03-28 16:08:00  127208.0       20684.0   \n",
              "\n",
              "           start_timestamp  \n",
              "134    2109-06-06 16:00:00  \n",
              "240    2115-01-22 17:57:26  \n",
              "337    2146-12-22 21:02:00  \n",
              "357    2102-04-23 21:30:32  \n",
              "402    2201-04-30 20:49:00  \n",
              "...                    ...  \n",
              "127130 2197-01-13 10:15:00  \n",
              "127131 2197-01-19 15:20:00  \n",
              "127205 2183-03-24 03:13:00  \n",
              "127207 2183-03-27 14:28:43  \n",
              "127208 2183-03-28 16:08:00  \n",
              "\n",
              "[9173 rows x 10 columns]"
            ],
            "text/html": [
              "\n",
              "  <div id=\"df-da5dbc91-850b-4124-9b56-9eb50e5f5bbc\">\n",
              "    <div class=\"colab-df-container\">\n",
              "      <div>\n",
              "<style scoped>\n",
              "    .dataframe tbody tr th:only-of-type {\n",
              "        vertical-align: middle;\n",
              "    }\n",
              "\n",
              "    .dataframe tbody tr th {\n",
              "        vertical-align: top;\n",
              "    }\n",
              "\n",
              "    .dataframe thead th {\n",
              "        text-align: right;\n",
              "    }\n",
              "</style>\n",
              "<table border=\"1\" class=\"dataframe\">\n",
              "  <thead>\n",
              "    <tr style=\"text-align: right;\">\n",
              "      <th></th>\n",
              "      <th>trace</th>\n",
              "      <th>activity</th>\n",
              "      <th>timestamp</th>\n",
              "      <th>patient</th>\n",
              "      <th>case:concept:name</th>\n",
              "      <th>concept:name</th>\n",
              "      <th>time:timestamp</th>\n",
              "      <th>@@index</th>\n",
              "      <th>@@case_index</th>\n",
              "      <th>start_timestamp</th>\n",
              "    </tr>\n",
              "  </thead>\n",
              "  <tbody>\n",
              "    <tr>\n",
              "      <th>134</th>\n",
              "      <td>20</td>\n",
              "      <td>IV</td>\n",
              "      <td>2109-06-06 16:00:00</td>\n",
              "      <td>100094</td>\n",
              "      <td>100094</td>\n",
              "      <td>IV</td>\n",
              "      <td>2109-06-06 16:00:00</td>\n",
              "      <td>134.0</td>\n",
              "      <td>20.0</td>\n",
              "      <td>2109-06-06 16:00:00</td>\n",
              "    </tr>\n",
              "    <tr>\n",
              "      <th>240</th>\n",
              "      <td>33</td>\n",
              "      <td>Left ICU</td>\n",
              "      <td>2115-01-22 17:57:26</td>\n",
              "      <td>100146</td>\n",
              "      <td>100146</td>\n",
              "      <td>Left ICU</td>\n",
              "      <td>2115-01-22 17:57:26</td>\n",
              "      <td>240.0</td>\n",
              "      <td>35.0</td>\n",
              "      <td>2115-01-22 17:57:26</td>\n",
              "    </tr>\n",
              "    <tr>\n",
              "      <th>337</th>\n",
              "      <td>50</td>\n",
              "      <td>Admitted</td>\n",
              "      <td>2146-12-22 21:02:00</td>\n",
              "      <td>100225</td>\n",
              "      <td>100225</td>\n",
              "      <td>Admitted</td>\n",
              "      <td>2146-12-22 21:02:00</td>\n",
              "      <td>337.0</td>\n",
              "      <td>52.0</td>\n",
              "      <td>2146-12-22 21:02:00</td>\n",
              "    </tr>\n",
              "    <tr>\n",
              "      <th>357</th>\n",
              "      <td>53</td>\n",
              "      <td>Left ICU</td>\n",
              "      <td>2102-04-23 21:30:32</td>\n",
              "      <td>100263</td>\n",
              "      <td>100263</td>\n",
              "      <td>Left ICU</td>\n",
              "      <td>2102-04-23 21:30:32</td>\n",
              "      <td>357.0</td>\n",
              "      <td>55.0</td>\n",
              "      <td>2102-04-23 21:30:32</td>\n",
              "    </tr>\n",
              "    <tr>\n",
              "      <th>402</th>\n",
              "      <td>61</td>\n",
              "      <td>IV</td>\n",
              "      <td>2201-04-30 20:49:00</td>\n",
              "      <td>100320</td>\n",
              "      <td>100320</td>\n",
              "      <td>Ventilation</td>\n",
              "      <td>2201-04-30 20:49:00</td>\n",
              "      <td>402.0</td>\n",
              "      <td>64.0</td>\n",
              "      <td>2201-04-30 20:49:00</td>\n",
              "    </tr>\n",
              "    <tr>\n",
              "      <th>...</th>\n",
              "      <td>...</td>\n",
              "      <td>...</td>\n",
              "      <td>...</td>\n",
              "      <td>...</td>\n",
              "      <td>...</td>\n",
              "      <td>...</td>\n",
              "      <td>...</td>\n",
              "      <td>...</td>\n",
              "      <td>...</td>\n",
              "      <td>...</td>\n",
              "    </tr>\n",
              "    <tr>\n",
              "      <th>127130</th>\n",
              "      <td>17212</td>\n",
              "      <td>Left ICU</td>\n",
              "      <td>2197-01-13 10:15:00</td>\n",
              "      <td>199882</td>\n",
              "      <td>199882</td>\n",
              "      <td>Left ICU</td>\n",
              "      <td>2197-01-13 10:15:00</td>\n",
              "      <td>127130.0</td>\n",
              "      <td>20669.0</td>\n",
              "      <td>2197-01-13 10:15:00</td>\n",
              "    </tr>\n",
              "    <tr>\n",
              "      <th>127131</th>\n",
              "      <td>17212</td>\n",
              "      <td>Discharged</td>\n",
              "      <td>2197-01-19 15:20:00</td>\n",
              "      <td>199882</td>\n",
              "      <td>199882</td>\n",
              "      <td>Discharged</td>\n",
              "      <td>2197-01-19 15:20:00</td>\n",
              "      <td>127131.0</td>\n",
              "      <td>20669.0</td>\n",
              "      <td>2197-01-19 15:20:00</td>\n",
              "    </tr>\n",
              "    <tr>\n",
              "      <th>127205</th>\n",
              "      <td>17225</td>\n",
              "      <td>Admitted</td>\n",
              "      <td>2183-03-24 03:13:00</td>\n",
              "      <td>199941</td>\n",
              "      <td>199941</td>\n",
              "      <td>Admitted</td>\n",
              "      <td>2183-03-24 03:13:00</td>\n",
              "      <td>127205.0</td>\n",
              "      <td>20684.0</td>\n",
              "      <td>2183-03-24 03:13:00</td>\n",
              "    </tr>\n",
              "    <tr>\n",
              "      <th>127207</th>\n",
              "      <td>17225</td>\n",
              "      <td>Left ICU</td>\n",
              "      <td>2183-03-27 14:28:43</td>\n",
              "      <td>199941</td>\n",
              "      <td>199941</td>\n",
              "      <td>Left ICU</td>\n",
              "      <td>2183-03-27 14:28:43</td>\n",
              "      <td>127207.0</td>\n",
              "      <td>20684.0</td>\n",
              "      <td>2183-03-27 14:28:43</td>\n",
              "    </tr>\n",
              "    <tr>\n",
              "      <th>127208</th>\n",
              "      <td>17225</td>\n",
              "      <td>Discharged</td>\n",
              "      <td>2183-03-28 16:08:00</td>\n",
              "      <td>199941</td>\n",
              "      <td>199941</td>\n",
              "      <td>Discharged</td>\n",
              "      <td>2183-03-28 16:08:00</td>\n",
              "      <td>127208.0</td>\n",
              "      <td>20684.0</td>\n",
              "      <td>2183-03-28 16:08:00</td>\n",
              "    </tr>\n",
              "  </tbody>\n",
              "</table>\n",
              "<p>9173 rows × 10 columns</p>\n",
              "</div>\n",
              "      <button class=\"colab-df-convert\" onclick=\"convertToInteractive('df-da5dbc91-850b-4124-9b56-9eb50e5f5bbc')\"\n",
              "              title=\"Convert this dataframe to an interactive table.\"\n",
              "              style=\"display:none;\">\n",
              "        \n",
              "  <svg xmlns=\"http://www.w3.org/2000/svg\" height=\"24px\"viewBox=\"0 0 24 24\"\n",
              "       width=\"24px\">\n",
              "    <path d=\"M0 0h24v24H0V0z\" fill=\"none\"/>\n",
              "    <path d=\"M18.56 5.44l.94 2.06.94-2.06 2.06-.94-2.06-.94-.94-2.06-.94 2.06-2.06.94zm-11 1L8.5 8.5l.94-2.06 2.06-.94-2.06-.94L8.5 2.5l-.94 2.06-2.06.94zm10 10l.94 2.06.94-2.06 2.06-.94-2.06-.94-.94-2.06-.94 2.06-2.06.94z\"/><path d=\"M17.41 7.96l-1.37-1.37c-.4-.4-.92-.59-1.43-.59-.52 0-1.04.2-1.43.59L10.3 9.45l-7.72 7.72c-.78.78-.78 2.05 0 2.83L4 21.41c.39.39.9.59 1.41.59.51 0 1.02-.2 1.41-.59l7.78-7.78 2.81-2.81c.8-.78.8-2.07 0-2.86zM5.41 20L4 18.59l7.72-7.72 1.47 1.35L5.41 20z\"/>\n",
              "  </svg>\n",
              "      </button>\n",
              "      \n",
              "  <style>\n",
              "    .colab-df-container {\n",
              "      display:flex;\n",
              "      flex-wrap:wrap;\n",
              "      gap: 12px;\n",
              "    }\n",
              "\n",
              "    .colab-df-convert {\n",
              "      background-color: #E8F0FE;\n",
              "      border: none;\n",
              "      border-radius: 50%;\n",
              "      cursor: pointer;\n",
              "      display: none;\n",
              "      fill: #1967D2;\n",
              "      height: 32px;\n",
              "      padding: 0 0 0 0;\n",
              "      width: 32px;\n",
              "    }\n",
              "\n",
              "    .colab-df-convert:hover {\n",
              "      background-color: #E2EBFA;\n",
              "      box-shadow: 0px 1px 2px rgba(60, 64, 67, 0.3), 0px 1px 3px 1px rgba(60, 64, 67, 0.15);\n",
              "      fill: #174EA6;\n",
              "    }\n",
              "\n",
              "    [theme=dark] .colab-df-convert {\n",
              "      background-color: #3B4455;\n",
              "      fill: #D2E3FC;\n",
              "    }\n",
              "\n",
              "    [theme=dark] .colab-df-convert:hover {\n",
              "      background-color: #434B5C;\n",
              "      box-shadow: 0px 1px 3px 1px rgba(0, 0, 0, 0.15);\n",
              "      filter: drop-shadow(0px 1px 2px rgba(0, 0, 0, 0.3));\n",
              "      fill: #FFFFFF;\n",
              "    }\n",
              "  </style>\n",
              "\n",
              "      <script>\n",
              "        const buttonEl =\n",
              "          document.querySelector('#df-da5dbc91-850b-4124-9b56-9eb50e5f5bbc button.colab-df-convert');\n",
              "        buttonEl.style.display =\n",
              "          google.colab.kernel.accessAllowed ? 'block' : 'none';\n",
              "\n",
              "        async function convertToInteractive(key) {\n",
              "          const element = document.querySelector('#df-da5dbc91-850b-4124-9b56-9eb50e5f5bbc');\n",
              "          const dataTable =\n",
              "            await google.colab.kernel.invokeFunction('convertToInteractive',\n",
              "                                                     [key], {});\n",
              "          if (!dataTable) return;\n",
              "\n",
              "          const docLinkHtml = 'Like what you see? Visit the ' +\n",
              "            '<a target=\"_blank\" href=https://colab.research.google.com/notebooks/data_table.ipynb>data table notebook</a>'\n",
              "            + ' to learn more about interactive tables.';\n",
              "          element.innerHTML = '';\n",
              "          dataTable['output_type'] = 'display_data';\n",
              "          await google.colab.output.renderOutput(dataTable, element);\n",
              "          const docLink = document.createElement('div');\n",
              "          docLink.innerHTML = docLinkHtml;\n",
              "          element.appendChild(docLink);\n",
              "        }\n",
              "      </script>\n",
              "    </div>\n",
              "  </div>\n",
              "  "
            ]
          },
          "metadata": {},
          "execution_count": 62
        }
      ]
    },
    {
      "cell_type": "code",
      "source": [
        "def replay_trace(el, pn, im, fm):\n",
        "  replay_result_alignments = pm.fitness_alignments(el, pn, im, fm, case_id_key='trace', activity_key='activity', timestamp_key='timestamp')\n",
        "  return  replay_result_alignments['average_trace_fitness']"
      ],
      "metadata": {
        "id": "ebFaDEa3sFCF"
      },
      "execution_count": null,
      "outputs": []
    },
    {
      "cell_type": "code",
      "source": [
        "replay_trace(repaired_log, net, im, fm)"
      ],
      "metadata": {
        "id": "0WEVVVSRlHM3",
        "outputId": "5a01d1a5-2d63-43db-969e-cc111d4469de",
        "colab": {
          "base_uri": "https://localhost:8080/",
          "height": 66,
          "referenced_widgets": [
            "f9191a7084f74ef08373ab1f8e36e798",
            "a695d8250ffe4dfdb14f39fd394eba04",
            "6ecedfc6b5f0435880f8c8c1d4c378d4",
            "402f2e98f05e44d6a42bdd1b9fa652eb",
            "6ebe4771b36340eab2f99355fb8a2829",
            "80c6ec5855d14640bcbf676dd5ee3397",
            "ff17b289d58d44d0ae45f1cdd340a91e",
            "7fc7fb0348b74971a56f939fd7da15ad",
            "1713c9bdcd0e43da8118e57d582d97ec",
            "10765824a7a0444d80f24c9a4f6ee77f",
            "d9615029b08345f5964e7eca722677a3"
          ]
        }
      },
      "execution_count": null,
      "outputs": [
        {
          "output_type": "display_data",
          "data": {
            "text/plain": [
              "aligning log, completed variants ::   0%|          | 0/282 [00:00<?, ?it/s]"
            ],
            "application/vnd.jupyter.widget-view+json": {
              "version_major": 2,
              "version_minor": 0,
              "model_id": "f9191a7084f74ef08373ab1f8e36e798"
            }
          },
          "metadata": {}
        },
        {
          "output_type": "execute_result",
          "data": {
            "text/plain": [
              "0.81948925762749"
            ]
          },
          "metadata": {},
          "execution_count": 63
        }
      ]
    }
  ],
  "metadata": {
    "kernelspec": {
      "display_name": "Python 3",
      "language": "python",
      "name": "python3"
    },
    "language_info": {
      "codemirror_mode": {
        "name": "ipython",
        "version": 3
      },
      "file_extension": ".py",
      "mimetype": "text/x-python",
      "name": "python",
      "nbconvert_exporter": "python",
      "pygments_lexer": "ipython3",
      "version": "3.10.2"
    },
    "orig_nbformat": 4,
    "vscode": {
      "interpreter": {
        "hash": "668626f72d98c3d20278a861d4c9cd1e9608e85361f1e74d685459c6ce5f80f9"
      }
    },
    "colab": {
      "provenance": [],
      "include_colab_link": true
    },
    "accelerator": "GPU",
    "gpuClass": "standard",
    "widgets": {
      "application/vnd.jupyter.widget-state+json": {
        "f9191a7084f74ef08373ab1f8e36e798": {
          "model_module": "@jupyter-widgets/controls",
          "model_name": "HBoxModel",
          "model_module_version": "1.5.0",
          "state": {
            "_dom_classes": [],
            "_model_module": "@jupyter-widgets/controls",
            "_model_module_version": "1.5.0",
            "_model_name": "HBoxModel",
            "_view_count": null,
            "_view_module": "@jupyter-widgets/controls",
            "_view_module_version": "1.5.0",
            "_view_name": "HBoxView",
            "box_style": "",
            "children": [
              "IPY_MODEL_a695d8250ffe4dfdb14f39fd394eba04",
              "IPY_MODEL_6ecedfc6b5f0435880f8c8c1d4c378d4",
              "IPY_MODEL_402f2e98f05e44d6a42bdd1b9fa652eb"
            ],
            "layout": "IPY_MODEL_6ebe4771b36340eab2f99355fb8a2829"
          }
        },
        "a695d8250ffe4dfdb14f39fd394eba04": {
          "model_module": "@jupyter-widgets/controls",
          "model_name": "HTMLModel",
          "model_module_version": "1.5.0",
          "state": {
            "_dom_classes": [],
            "_model_module": "@jupyter-widgets/controls",
            "_model_module_version": "1.5.0",
            "_model_name": "HTMLModel",
            "_view_count": null,
            "_view_module": "@jupyter-widgets/controls",
            "_view_module_version": "1.5.0",
            "_view_name": "HTMLView",
            "description": "",
            "description_tooltip": null,
            "layout": "IPY_MODEL_80c6ec5855d14640bcbf676dd5ee3397",
            "placeholder": "​",
            "style": "IPY_MODEL_ff17b289d58d44d0ae45f1cdd340a91e",
            "value": "aligning log, completed variants :: 100%"
          }
        },
        "6ecedfc6b5f0435880f8c8c1d4c378d4": {
          "model_module": "@jupyter-widgets/controls",
          "model_name": "FloatProgressModel",
          "model_module_version": "1.5.0",
          "state": {
            "_dom_classes": [],
            "_model_module": "@jupyter-widgets/controls",
            "_model_module_version": "1.5.0",
            "_model_name": "FloatProgressModel",
            "_view_count": null,
            "_view_module": "@jupyter-widgets/controls",
            "_view_module_version": "1.5.0",
            "_view_name": "ProgressView",
            "bar_style": "success",
            "description": "",
            "description_tooltip": null,
            "layout": "IPY_MODEL_7fc7fb0348b74971a56f939fd7da15ad",
            "max": 282,
            "min": 0,
            "orientation": "horizontal",
            "style": "IPY_MODEL_1713c9bdcd0e43da8118e57d582d97ec",
            "value": 282
          }
        },
        "402f2e98f05e44d6a42bdd1b9fa652eb": {
          "model_module": "@jupyter-widgets/controls",
          "model_name": "HTMLModel",
          "model_module_version": "1.5.0",
          "state": {
            "_dom_classes": [],
            "_model_module": "@jupyter-widgets/controls",
            "_model_module_version": "1.5.0",
            "_model_name": "HTMLModel",
            "_view_count": null,
            "_view_module": "@jupyter-widgets/controls",
            "_view_module_version": "1.5.0",
            "_view_name": "HTMLView",
            "description": "",
            "description_tooltip": null,
            "layout": "IPY_MODEL_10765824a7a0444d80f24c9a4f6ee77f",
            "placeholder": "​",
            "style": "IPY_MODEL_d9615029b08345f5964e7eca722677a3",
            "value": " 282/282 [00:04&lt;00:00, 109.46it/s]"
          }
        },
        "6ebe4771b36340eab2f99355fb8a2829": {
          "model_module": "@jupyter-widgets/base",
          "model_name": "LayoutModel",
          "model_module_version": "1.2.0",
          "state": {
            "_model_module": "@jupyter-widgets/base",
            "_model_module_version": "1.2.0",
            "_model_name": "LayoutModel",
            "_view_count": null,
            "_view_module": "@jupyter-widgets/base",
            "_view_module_version": "1.2.0",
            "_view_name": "LayoutView",
            "align_content": null,
            "align_items": null,
            "align_self": null,
            "border": null,
            "bottom": null,
            "display": null,
            "flex": null,
            "flex_flow": null,
            "grid_area": null,
            "grid_auto_columns": null,
            "grid_auto_flow": null,
            "grid_auto_rows": null,
            "grid_column": null,
            "grid_gap": null,
            "grid_row": null,
            "grid_template_areas": null,
            "grid_template_columns": null,
            "grid_template_rows": null,
            "height": null,
            "justify_content": null,
            "justify_items": null,
            "left": null,
            "margin": null,
            "max_height": null,
            "max_width": null,
            "min_height": null,
            "min_width": null,
            "object_fit": null,
            "object_position": null,
            "order": null,
            "overflow": null,
            "overflow_x": null,
            "overflow_y": null,
            "padding": null,
            "right": null,
            "top": null,
            "visibility": null,
            "width": null
          }
        },
        "80c6ec5855d14640bcbf676dd5ee3397": {
          "model_module": "@jupyter-widgets/base",
          "model_name": "LayoutModel",
          "model_module_version": "1.2.0",
          "state": {
            "_model_module": "@jupyter-widgets/base",
            "_model_module_version": "1.2.0",
            "_model_name": "LayoutModel",
            "_view_count": null,
            "_view_module": "@jupyter-widgets/base",
            "_view_module_version": "1.2.0",
            "_view_name": "LayoutView",
            "align_content": null,
            "align_items": null,
            "align_self": null,
            "border": null,
            "bottom": null,
            "display": null,
            "flex": null,
            "flex_flow": null,
            "grid_area": null,
            "grid_auto_columns": null,
            "grid_auto_flow": null,
            "grid_auto_rows": null,
            "grid_column": null,
            "grid_gap": null,
            "grid_row": null,
            "grid_template_areas": null,
            "grid_template_columns": null,
            "grid_template_rows": null,
            "height": null,
            "justify_content": null,
            "justify_items": null,
            "left": null,
            "margin": null,
            "max_height": null,
            "max_width": null,
            "min_height": null,
            "min_width": null,
            "object_fit": null,
            "object_position": null,
            "order": null,
            "overflow": null,
            "overflow_x": null,
            "overflow_y": null,
            "padding": null,
            "right": null,
            "top": null,
            "visibility": null,
            "width": null
          }
        },
        "ff17b289d58d44d0ae45f1cdd340a91e": {
          "model_module": "@jupyter-widgets/controls",
          "model_name": "DescriptionStyleModel",
          "model_module_version": "1.5.0",
          "state": {
            "_model_module": "@jupyter-widgets/controls",
            "_model_module_version": "1.5.0",
            "_model_name": "DescriptionStyleModel",
            "_view_count": null,
            "_view_module": "@jupyter-widgets/base",
            "_view_module_version": "1.2.0",
            "_view_name": "StyleView",
            "description_width": ""
          }
        },
        "7fc7fb0348b74971a56f939fd7da15ad": {
          "model_module": "@jupyter-widgets/base",
          "model_name": "LayoutModel",
          "model_module_version": "1.2.0",
          "state": {
            "_model_module": "@jupyter-widgets/base",
            "_model_module_version": "1.2.0",
            "_model_name": "LayoutModel",
            "_view_count": null,
            "_view_module": "@jupyter-widgets/base",
            "_view_module_version": "1.2.0",
            "_view_name": "LayoutView",
            "align_content": null,
            "align_items": null,
            "align_self": null,
            "border": null,
            "bottom": null,
            "display": null,
            "flex": null,
            "flex_flow": null,
            "grid_area": null,
            "grid_auto_columns": null,
            "grid_auto_flow": null,
            "grid_auto_rows": null,
            "grid_column": null,
            "grid_gap": null,
            "grid_row": null,
            "grid_template_areas": null,
            "grid_template_columns": null,
            "grid_template_rows": null,
            "height": null,
            "justify_content": null,
            "justify_items": null,
            "left": null,
            "margin": null,
            "max_height": null,
            "max_width": null,
            "min_height": null,
            "min_width": null,
            "object_fit": null,
            "object_position": null,
            "order": null,
            "overflow": null,
            "overflow_x": null,
            "overflow_y": null,
            "padding": null,
            "right": null,
            "top": null,
            "visibility": null,
            "width": null
          }
        },
        "1713c9bdcd0e43da8118e57d582d97ec": {
          "model_module": "@jupyter-widgets/controls",
          "model_name": "ProgressStyleModel",
          "model_module_version": "1.5.0",
          "state": {
            "_model_module": "@jupyter-widgets/controls",
            "_model_module_version": "1.5.0",
            "_model_name": "ProgressStyleModel",
            "_view_count": null,
            "_view_module": "@jupyter-widgets/base",
            "_view_module_version": "1.2.0",
            "_view_name": "StyleView",
            "bar_color": null,
            "description_width": ""
          }
        },
        "10765824a7a0444d80f24c9a4f6ee77f": {
          "model_module": "@jupyter-widgets/base",
          "model_name": "LayoutModel",
          "model_module_version": "1.2.0",
          "state": {
            "_model_module": "@jupyter-widgets/base",
            "_model_module_version": "1.2.0",
            "_model_name": "LayoutModel",
            "_view_count": null,
            "_view_module": "@jupyter-widgets/base",
            "_view_module_version": "1.2.0",
            "_view_name": "LayoutView",
            "align_content": null,
            "align_items": null,
            "align_self": null,
            "border": null,
            "bottom": null,
            "display": null,
            "flex": null,
            "flex_flow": null,
            "grid_area": null,
            "grid_auto_columns": null,
            "grid_auto_flow": null,
            "grid_auto_rows": null,
            "grid_column": null,
            "grid_gap": null,
            "grid_row": null,
            "grid_template_areas": null,
            "grid_template_columns": null,
            "grid_template_rows": null,
            "height": null,
            "justify_content": null,
            "justify_items": null,
            "left": null,
            "margin": null,
            "max_height": null,
            "max_width": null,
            "min_height": null,
            "min_width": null,
            "object_fit": null,
            "object_position": null,
            "order": null,
            "overflow": null,
            "overflow_x": null,
            "overflow_y": null,
            "padding": null,
            "right": null,
            "top": null,
            "visibility": null,
            "width": null
          }
        },
        "d9615029b08345f5964e7eca722677a3": {
          "model_module": "@jupyter-widgets/controls",
          "model_name": "DescriptionStyleModel",
          "model_module_version": "1.5.0",
          "state": {
            "_model_module": "@jupyter-widgets/controls",
            "_model_module_version": "1.5.0",
            "_model_name": "DescriptionStyleModel",
            "_view_count": null,
            "_view_module": "@jupyter-widgets/base",
            "_view_module_version": "1.2.0",
            "_view_name": "StyleView",
            "description_width": ""
          }
        },
        "0921074b105a49fa93231d0327b4305b": {
          "model_module": "@jupyter-widgets/controls",
          "model_name": "HBoxModel",
          "model_module_version": "1.5.0",
          "state": {
            "_dom_classes": [],
            "_model_module": "@jupyter-widgets/controls",
            "_model_module_version": "1.5.0",
            "_model_name": "HBoxModel",
            "_view_count": null,
            "_view_module": "@jupyter-widgets/controls",
            "_view_module_version": "1.5.0",
            "_view_name": "HBoxView",
            "box_style": "",
            "children": [
              "IPY_MODEL_020a50a0c2fe4dc2b1041162e35f4db3",
              "IPY_MODEL_37b32efb0b284b768e90cd60e80b214d",
              "IPY_MODEL_f07301e40a264dd1836f3682ea729d50"
            ],
            "layout": "IPY_MODEL_2fb339d903bf4981b0313055252aa739"
          }
        },
        "020a50a0c2fe4dc2b1041162e35f4db3": {
          "model_module": "@jupyter-widgets/controls",
          "model_name": "HTMLModel",
          "model_module_version": "1.5.0",
          "state": {
            "_dom_classes": [],
            "_model_module": "@jupyter-widgets/controls",
            "_model_module_version": "1.5.0",
            "_model_name": "HTMLModel",
            "_view_count": null,
            "_view_module": "@jupyter-widgets/controls",
            "_view_module_version": "1.5.0",
            "_view_name": "HTMLView",
            "description": "",
            "description_tooltip": null,
            "layout": "IPY_MODEL_d20cec06a25a4b289f2dd8c4483d3230",
            "placeholder": "​",
            "style": "IPY_MODEL_ac31db43eb8548f58a2433475f7e49f5",
            "value": "aligning log, completed variants :: 100%"
          }
        },
        "37b32efb0b284b768e90cd60e80b214d": {
          "model_module": "@jupyter-widgets/controls",
          "model_name": "FloatProgressModel",
          "model_module_version": "1.5.0",
          "state": {
            "_dom_classes": [],
            "_model_module": "@jupyter-widgets/controls",
            "_model_module_version": "1.5.0",
            "_model_name": "FloatProgressModel",
            "_view_count": null,
            "_view_module": "@jupyter-widgets/controls",
            "_view_module_version": "1.5.0",
            "_view_name": "ProgressView",
            "bar_style": "success",
            "description": "",
            "description_tooltip": null,
            "layout": "IPY_MODEL_61986fb8c864425aac25ddaf47b94c6f",
            "max": 1046,
            "min": 0,
            "orientation": "horizontal",
            "style": "IPY_MODEL_c0819bb3afc449528673ec430e36faa7",
            "value": 1046
          }
        },
        "f07301e40a264dd1836f3682ea729d50": {
          "model_module": "@jupyter-widgets/controls",
          "model_name": "HTMLModel",
          "model_module_version": "1.5.0",
          "state": {
            "_dom_classes": [],
            "_model_module": "@jupyter-widgets/controls",
            "_model_module_version": "1.5.0",
            "_model_name": "HTMLModel",
            "_view_count": null,
            "_view_module": "@jupyter-widgets/controls",
            "_view_module_version": "1.5.0",
            "_view_name": "HTMLView",
            "description": "",
            "description_tooltip": null,
            "layout": "IPY_MODEL_3039fec5240340f1a059de170f8aded2",
            "placeholder": "​",
            "style": "IPY_MODEL_aef7b01c307c4cb4acb1c2e34c153a7b",
            "value": " 1046/1046 [00:16&lt;00:00, 69.52it/s]"
          }
        },
        "2fb339d903bf4981b0313055252aa739": {
          "model_module": "@jupyter-widgets/base",
          "model_name": "LayoutModel",
          "model_module_version": "1.2.0",
          "state": {
            "_model_module": "@jupyter-widgets/base",
            "_model_module_version": "1.2.0",
            "_model_name": "LayoutModel",
            "_view_count": null,
            "_view_module": "@jupyter-widgets/base",
            "_view_module_version": "1.2.0",
            "_view_name": "LayoutView",
            "align_content": null,
            "align_items": null,
            "align_self": null,
            "border": null,
            "bottom": null,
            "display": null,
            "flex": null,
            "flex_flow": null,
            "grid_area": null,
            "grid_auto_columns": null,
            "grid_auto_flow": null,
            "grid_auto_rows": null,
            "grid_column": null,
            "grid_gap": null,
            "grid_row": null,
            "grid_template_areas": null,
            "grid_template_columns": null,
            "grid_template_rows": null,
            "height": null,
            "justify_content": null,
            "justify_items": null,
            "left": null,
            "margin": null,
            "max_height": null,
            "max_width": null,
            "min_height": null,
            "min_width": null,
            "object_fit": null,
            "object_position": null,
            "order": null,
            "overflow": null,
            "overflow_x": null,
            "overflow_y": null,
            "padding": null,
            "right": null,
            "top": null,
            "visibility": null,
            "width": null
          }
        },
        "d20cec06a25a4b289f2dd8c4483d3230": {
          "model_module": "@jupyter-widgets/base",
          "model_name": "LayoutModel",
          "model_module_version": "1.2.0",
          "state": {
            "_model_module": "@jupyter-widgets/base",
            "_model_module_version": "1.2.0",
            "_model_name": "LayoutModel",
            "_view_count": null,
            "_view_module": "@jupyter-widgets/base",
            "_view_module_version": "1.2.0",
            "_view_name": "LayoutView",
            "align_content": null,
            "align_items": null,
            "align_self": null,
            "border": null,
            "bottom": null,
            "display": null,
            "flex": null,
            "flex_flow": null,
            "grid_area": null,
            "grid_auto_columns": null,
            "grid_auto_flow": null,
            "grid_auto_rows": null,
            "grid_column": null,
            "grid_gap": null,
            "grid_row": null,
            "grid_template_areas": null,
            "grid_template_columns": null,
            "grid_template_rows": null,
            "height": null,
            "justify_content": null,
            "justify_items": null,
            "left": null,
            "margin": null,
            "max_height": null,
            "max_width": null,
            "min_height": null,
            "min_width": null,
            "object_fit": null,
            "object_position": null,
            "order": null,
            "overflow": null,
            "overflow_x": null,
            "overflow_y": null,
            "padding": null,
            "right": null,
            "top": null,
            "visibility": null,
            "width": null
          }
        },
        "ac31db43eb8548f58a2433475f7e49f5": {
          "model_module": "@jupyter-widgets/controls",
          "model_name": "DescriptionStyleModel",
          "model_module_version": "1.5.0",
          "state": {
            "_model_module": "@jupyter-widgets/controls",
            "_model_module_version": "1.5.0",
            "_model_name": "DescriptionStyleModel",
            "_view_count": null,
            "_view_module": "@jupyter-widgets/base",
            "_view_module_version": "1.2.0",
            "_view_name": "StyleView",
            "description_width": ""
          }
        },
        "61986fb8c864425aac25ddaf47b94c6f": {
          "model_module": "@jupyter-widgets/base",
          "model_name": "LayoutModel",
          "model_module_version": "1.2.0",
          "state": {
            "_model_module": "@jupyter-widgets/base",
            "_model_module_version": "1.2.0",
            "_model_name": "LayoutModel",
            "_view_count": null,
            "_view_module": "@jupyter-widgets/base",
            "_view_module_version": "1.2.0",
            "_view_name": "LayoutView",
            "align_content": null,
            "align_items": null,
            "align_self": null,
            "border": null,
            "bottom": null,
            "display": null,
            "flex": null,
            "flex_flow": null,
            "grid_area": null,
            "grid_auto_columns": null,
            "grid_auto_flow": null,
            "grid_auto_rows": null,
            "grid_column": null,
            "grid_gap": null,
            "grid_row": null,
            "grid_template_areas": null,
            "grid_template_columns": null,
            "grid_template_rows": null,
            "height": null,
            "justify_content": null,
            "justify_items": null,
            "left": null,
            "margin": null,
            "max_height": null,
            "max_width": null,
            "min_height": null,
            "min_width": null,
            "object_fit": null,
            "object_position": null,
            "order": null,
            "overflow": null,
            "overflow_x": null,
            "overflow_y": null,
            "padding": null,
            "right": null,
            "top": null,
            "visibility": null,
            "width": null
          }
        },
        "c0819bb3afc449528673ec430e36faa7": {
          "model_module": "@jupyter-widgets/controls",
          "model_name": "ProgressStyleModel",
          "model_module_version": "1.5.0",
          "state": {
            "_model_module": "@jupyter-widgets/controls",
            "_model_module_version": "1.5.0",
            "_model_name": "ProgressStyleModel",
            "_view_count": null,
            "_view_module": "@jupyter-widgets/base",
            "_view_module_version": "1.2.0",
            "_view_name": "StyleView",
            "bar_color": null,
            "description_width": ""
          }
        },
        "3039fec5240340f1a059de170f8aded2": {
          "model_module": "@jupyter-widgets/base",
          "model_name": "LayoutModel",
          "model_module_version": "1.2.0",
          "state": {
            "_model_module": "@jupyter-widgets/base",
            "_model_module_version": "1.2.0",
            "_model_name": "LayoutModel",
            "_view_count": null,
            "_view_module": "@jupyter-widgets/base",
            "_view_module_version": "1.2.0",
            "_view_name": "LayoutView",
            "align_content": null,
            "align_items": null,
            "align_self": null,
            "border": null,
            "bottom": null,
            "display": null,
            "flex": null,
            "flex_flow": null,
            "grid_area": null,
            "grid_auto_columns": null,
            "grid_auto_flow": null,
            "grid_auto_rows": null,
            "grid_column": null,
            "grid_gap": null,
            "grid_row": null,
            "grid_template_areas": null,
            "grid_template_columns": null,
            "grid_template_rows": null,
            "height": null,
            "justify_content": null,
            "justify_items": null,
            "left": null,
            "margin": null,
            "max_height": null,
            "max_width": null,
            "min_height": null,
            "min_width": null,
            "object_fit": null,
            "object_position": null,
            "order": null,
            "overflow": null,
            "overflow_x": null,
            "overflow_y": null,
            "padding": null,
            "right": null,
            "top": null,
            "visibility": null,
            "width": null
          }
        },
        "aef7b01c307c4cb4acb1c2e34c153a7b": {
          "model_module": "@jupyter-widgets/controls",
          "model_name": "DescriptionStyleModel",
          "model_module_version": "1.5.0",
          "state": {
            "_model_module": "@jupyter-widgets/controls",
            "_model_module_version": "1.5.0",
            "_model_name": "DescriptionStyleModel",
            "_view_count": null,
            "_view_module": "@jupyter-widgets/base",
            "_view_module_version": "1.2.0",
            "_view_name": "StyleView",
            "description_width": ""
          }
        }
      }
    }
  },
  "nbformat": 4,
  "nbformat_minor": 0
}