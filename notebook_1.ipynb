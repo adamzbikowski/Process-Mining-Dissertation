{
  "cells": [
    {
      "cell_type": "markdown",
      "metadata": {
        "id": "_vJIqfLeCjHP"
      },
      "source": [
        "# Notebook 1: predicting missing values for activity"
      ]
    },
    {
      "cell_type": "markdown",
      "metadata": {
        "id": "L27GXRjHCjHV"
      },
      "source": [
        "## Section 1: Loading event log"
      ]
    },
    {
      "cell_type": "code",
      "source": [
        "# installing prerequisites\n",
        "!pip install pm4py\n"
      ],
      "metadata": {
        "id": "JtmZ3GBVDj-s",
        "outputId": "641ca1ef-b426-41b5-8557-98073d7d3fcc",
        "colab": {
          "base_uri": "https://localhost:8080/"
        }
      },
      "execution_count": 1,
      "outputs": [
        {
          "output_type": "stream",
          "name": "stdout",
          "text": [
            "Looking in indexes: https://pypi.org/simple, https://us-python.pkg.dev/colab-wheels/public/simple/\n",
            "Collecting pm4py\n",
            "  Downloading pm4py-2.5.1-py3-none-any.whl (1.6 MB)\n",
            "\u001b[2K     \u001b[90m━━━━━━━━━━━━━━━━━━━━━━━━━━━━━━━━━━━━━━━━\u001b[0m \u001b[32m1.6/1.6 MB\u001b[0m \u001b[31m15.1 MB/s\u001b[0m eta \u001b[36m0:00:00\u001b[0m\n",
            "\u001b[?25hRequirement already satisfied: pytz in /usr/local/lib/python3.8/dist-packages (from pm4py) (2022.7.1)\n",
            "Requirement already satisfied: networkx in /usr/local/lib/python3.8/dist-packages (from pm4py) (3.0)\n",
            "Requirement already satisfied: pandas in /usr/local/lib/python3.8/dist-packages (from pm4py) (1.3.5)\n",
            "Requirement already satisfied: cvxopt in /usr/local/lib/python3.8/dist-packages (from pm4py) (1.3.0)\n",
            "Requirement already satisfied: numpy in /usr/local/lib/python3.8/dist-packages (from pm4py) (1.21.6)\n",
            "Requirement already satisfied: matplotlib in /usr/local/lib/python3.8/dist-packages (from pm4py) (3.2.2)\n",
            "Collecting stringdist\n",
            "  Downloading StringDist-1.0.9.tar.gz (7.4 kB)\n",
            "  Preparing metadata (setup.py) ... \u001b[?25l\u001b[?25hdone\n",
            "Requirement already satisfied: intervaltree in /usr/local/lib/python3.8/dist-packages (from pm4py) (2.1.0)\n",
            "Requirement already satisfied: tqdm in /usr/local/lib/python3.8/dist-packages (from pm4py) (4.64.1)\n",
            "Requirement already satisfied: lxml in /usr/local/lib/python3.8/dist-packages (from pm4py) (4.9.2)\n",
            "Requirement already satisfied: scipy in /usr/local/lib/python3.8/dist-packages (from pm4py) (1.7.3)\n",
            "Requirement already satisfied: graphviz in /usr/local/lib/python3.8/dist-packages (from pm4py) (0.10.1)\n",
            "Requirement already satisfied: pydotplus in /usr/local/lib/python3.8/dist-packages (from pm4py) (2.0.2)\n",
            "Collecting deprecation\n",
            "  Downloading deprecation-2.1.0-py2.py3-none-any.whl (11 kB)\n",
            "Requirement already satisfied: packaging in /usr/local/lib/python3.8/dist-packages (from deprecation->pm4py) (23.0)\n",
            "Requirement already satisfied: sortedcontainers in /usr/local/lib/python3.8/dist-packages (from intervaltree->pm4py) (2.4.0)\n",
            "Requirement already satisfied: cycler>=0.10 in /usr/local/lib/python3.8/dist-packages (from matplotlib->pm4py) (0.11.0)\n",
            "Requirement already satisfied: kiwisolver>=1.0.1 in /usr/local/lib/python3.8/dist-packages (from matplotlib->pm4py) (1.4.4)\n",
            "Requirement already satisfied: pyparsing!=2.0.4,!=2.1.2,!=2.1.6,>=2.0.1 in /usr/local/lib/python3.8/dist-packages (from matplotlib->pm4py) (3.0.9)\n",
            "Requirement already satisfied: python-dateutil>=2.1 in /usr/local/lib/python3.8/dist-packages (from matplotlib->pm4py) (2.8.2)\n",
            "Requirement already satisfied: six>=1.5 in /usr/local/lib/python3.8/dist-packages (from python-dateutil>=2.1->matplotlib->pm4py) (1.15.0)\n",
            "Building wheels for collected packages: stringdist\n",
            "  Building wheel for stringdist (setup.py) ... \u001b[?25l\u001b[?25hdone\n",
            "  Created wheel for stringdist: filename=StringDist-1.0.9-cp38-cp38-linux_x86_64.whl size=24936 sha256=9cecff8bcdbe58e79b43f4558455a49fce3d8f5eb84096f2262350f16a071977\n",
            "  Stored in directory: /root/.cache/pip/wheels/7a/64/e2/16f6a25a62a78f951c1715adb24ba2271ae9d7872f42378c3a\n",
            "Successfully built stringdist\n",
            "Installing collected packages: stringdist, deprecation, pm4py\n",
            "Successfully installed deprecation-2.1.0 pm4py-2.5.1 stringdist-1.0.9\n"
          ]
        }
      ]
    },
    {
      "cell_type": "code",
      "source": [
        "from google.colab import auth\n",
        "auth.authenticate_user()"
      ],
      "metadata": {
        "id": "IrTL5G7bD7W6"
      },
      "execution_count": 2,
      "outputs": []
    },
    {
      "cell_type": "code",
      "source": [
        "from google.cloud import bigquery\n",
        "client = bigquery.Client(project='processmining-367815')"
      ],
      "metadata": {
        "id": "-aNc-OmPEAZq"
      },
      "execution_count": 3,
      "outputs": []
    },
    {
      "cell_type": "code",
      "source": [
        "# this is the query that will be used when generating event log,\n",
        "# when generating new event logs, this is the only thing that will be changed\n",
        "query = ('''\n",
        "-- Events: Admitted, Discharged, Entered ICU, Left ICU,\n",
        "\n",
        "SELECT DISTINCT\n",
        "  admissions.HADM_ID AS patient,\n",
        "  \"Admitted\" AS activity,\n",
        "  string(admissions.ADMITTIME) AS timestamp\n",
        "  FROM \n",
        "    physionet-data.mimiciii_clinical.admissions,\n",
        "    physionet-data.mimiciii_clinical.diagnoses_icd\n",
        "  WHERE \n",
        "    -- admissions.admittime IS NOT NULL AND\n",
        "    diagnoses_icd.HADM_ID = admissions.HADM_ID\n",
        "    AND diagnoses_icd.icd9_code BETWEEN '390%' AND '460%'\n",
        "  \n",
        "UNION ALL\n",
        "\n",
        "SELECT DISTINCT\n",
        "  admissions.HADM_ID AS patient,\n",
        "  \"Discharged\" AS activity,\n",
        "  string(admissions.DISCHTIME) AS timestamp\n",
        "  FROM \n",
        "    physionet-data.mimiciii_clinical.admissions,\n",
        "    physionet-data.mimiciii_clinical.diagnoses_icd\n",
        "  WHERE \n",
        "    -- admissions.DISCHTIME IS NOT NULL AND\n",
        "    diagnoses_icd.HADM_ID = admissions.HADM_ID\n",
        "    AND diagnoses_icd.icd9_code BETWEEN '390%' AND '460%'\n",
        "\n",
        "UNION ALL \n",
        "\n",
        "SELECT DISTINCT\n",
        "  icustays.HADM_ID AS patient,\n",
        "  \"Entered ICU\" AS activity,\n",
        "  string(icustays.INTIME) AS timestamp\n",
        "  FROM \n",
        "    physionet-data.mimiciii_clinical.icustays,\n",
        "    physionet-data.mimiciii_clinical.diagnoses_icd\n",
        "  WHERE \n",
        "    -- icustays.INTIME IS NOT NULL AND\n",
        "    diagnoses_icd.HADM_ID = icustays.HADM_ID\n",
        "    AND diagnoses_icd.icd9_code BETWEEN '390%' AND '460%'\n",
        "\n",
        "UNION ALL\n",
        "\n",
        "SELECT DISTINCT\n",
        "  icustays.HADM_ID AS patient,\n",
        "  \"Left ICU\" AS activity,\n",
        "  string(icustays.OUTTIME) AS timestamp\n",
        "  FROM\n",
        "    physionet-data.mimiciii_clinical.icustays,\n",
        "    physionet-data.mimiciii_clinical.diagnoses_icd\n",
        "  WHERE \n",
        "    -- icustays.INTIME IS NOT NULL AND\n",
        "    diagnoses_icd.HADM_ID = icustays.HADM_ID\n",
        "    AND diagnoses_icd.icd9_code BETWEEN '390%' AND '460%'\n",
        "\n",
        "''')"
      ],
      "metadata": {
        "id": "rzmTMXahEHoR"
      },
      "execution_count": 4,
      "outputs": []
    },
    {
      "cell_type": "code",
      "execution_count": 5,
      "metadata": {
        "id": "CmSHODCZCjHW",
        "outputId": "244911bc-a4bd-4d86-8354-dcaeb7e5986c",
        "colab": {
          "base_uri": "https://localhost:8080/",
          "height": 424
        }
      },
      "outputs": [
        {
          "output_type": "execute_result",
          "data": {
            "text/plain": [
              "        patient     activity           timestamp\n",
              "84155    100001   Discharged 2117-09-17 16:45:00\n",
              "172025   100001     Left ICU 2117-09-15 17:57:14\n",
              "26434    100001     Admitted 2117-09-11 11:46:00\n",
              "126870   100001  Entered ICU 2117-09-11 11:47:35\n",
              "13798    100003     Admitted 2150-04-17 15:34:00\n",
              "...         ...          ...                 ...\n",
              "10764    199998     Admitted 2119-02-18 16:26:00\n",
              "29808    199999     Admitted 2136-04-04 23:37:00\n",
              "120950   199999  Entered ICU 2136-04-06 16:01:10\n",
              "56980    199999   Discharged 2136-04-10 12:10:00\n",
              "166105   199999     Left ICU 2136-04-10 12:12:22\n",
              "\n",
              "[175614 rows x 3 columns]"
            ],
            "text/html": [
              "\n",
              "  <div id=\"df-c7f64646-e39d-4329-a712-81f8e371f2c4\">\n",
              "    <div class=\"colab-df-container\">\n",
              "      <div>\n",
              "<style scoped>\n",
              "    .dataframe tbody tr th:only-of-type {\n",
              "        vertical-align: middle;\n",
              "    }\n",
              "\n",
              "    .dataframe tbody tr th {\n",
              "        vertical-align: top;\n",
              "    }\n",
              "\n",
              "    .dataframe thead th {\n",
              "        text-align: right;\n",
              "    }\n",
              "</style>\n",
              "<table border=\"1\" class=\"dataframe\">\n",
              "  <thead>\n",
              "    <tr style=\"text-align: right;\">\n",
              "      <th></th>\n",
              "      <th>patient</th>\n",
              "      <th>activity</th>\n",
              "      <th>timestamp</th>\n",
              "    </tr>\n",
              "  </thead>\n",
              "  <tbody>\n",
              "    <tr>\n",
              "      <th>84155</th>\n",
              "      <td>100001</td>\n",
              "      <td>Discharged</td>\n",
              "      <td>2117-09-17 16:45:00</td>\n",
              "    </tr>\n",
              "    <tr>\n",
              "      <th>172025</th>\n",
              "      <td>100001</td>\n",
              "      <td>Left ICU</td>\n",
              "      <td>2117-09-15 17:57:14</td>\n",
              "    </tr>\n",
              "    <tr>\n",
              "      <th>26434</th>\n",
              "      <td>100001</td>\n",
              "      <td>Admitted</td>\n",
              "      <td>2117-09-11 11:46:00</td>\n",
              "    </tr>\n",
              "    <tr>\n",
              "      <th>126870</th>\n",
              "      <td>100001</td>\n",
              "      <td>Entered ICU</td>\n",
              "      <td>2117-09-11 11:47:35</td>\n",
              "    </tr>\n",
              "    <tr>\n",
              "      <th>13798</th>\n",
              "      <td>100003</td>\n",
              "      <td>Admitted</td>\n",
              "      <td>2150-04-17 15:34:00</td>\n",
              "    </tr>\n",
              "    <tr>\n",
              "      <th>...</th>\n",
              "      <td>...</td>\n",
              "      <td>...</td>\n",
              "      <td>...</td>\n",
              "    </tr>\n",
              "    <tr>\n",
              "      <th>10764</th>\n",
              "      <td>199998</td>\n",
              "      <td>Admitted</td>\n",
              "      <td>2119-02-18 16:26:00</td>\n",
              "    </tr>\n",
              "    <tr>\n",
              "      <th>29808</th>\n",
              "      <td>199999</td>\n",
              "      <td>Admitted</td>\n",
              "      <td>2136-04-04 23:37:00</td>\n",
              "    </tr>\n",
              "    <tr>\n",
              "      <th>120950</th>\n",
              "      <td>199999</td>\n",
              "      <td>Entered ICU</td>\n",
              "      <td>2136-04-06 16:01:10</td>\n",
              "    </tr>\n",
              "    <tr>\n",
              "      <th>56980</th>\n",
              "      <td>199999</td>\n",
              "      <td>Discharged</td>\n",
              "      <td>2136-04-10 12:10:00</td>\n",
              "    </tr>\n",
              "    <tr>\n",
              "      <th>166105</th>\n",
              "      <td>199999</td>\n",
              "      <td>Left ICU</td>\n",
              "      <td>2136-04-10 12:12:22</td>\n",
              "    </tr>\n",
              "  </tbody>\n",
              "</table>\n",
              "<p>175614 rows × 3 columns</p>\n",
              "</div>\n",
              "      <button class=\"colab-df-convert\" onclick=\"convertToInteractive('df-c7f64646-e39d-4329-a712-81f8e371f2c4')\"\n",
              "              title=\"Convert this dataframe to an interactive table.\"\n",
              "              style=\"display:none;\">\n",
              "        \n",
              "  <svg xmlns=\"http://www.w3.org/2000/svg\" height=\"24px\"viewBox=\"0 0 24 24\"\n",
              "       width=\"24px\">\n",
              "    <path d=\"M0 0h24v24H0V0z\" fill=\"none\"/>\n",
              "    <path d=\"M18.56 5.44l.94 2.06.94-2.06 2.06-.94-2.06-.94-.94-2.06-.94 2.06-2.06.94zm-11 1L8.5 8.5l.94-2.06 2.06-.94-2.06-.94L8.5 2.5l-.94 2.06-2.06.94zm10 10l.94 2.06.94-2.06 2.06-.94-2.06-.94-.94-2.06-.94 2.06-2.06.94z\"/><path d=\"M17.41 7.96l-1.37-1.37c-.4-.4-.92-.59-1.43-.59-.52 0-1.04.2-1.43.59L10.3 9.45l-7.72 7.72c-.78.78-.78 2.05 0 2.83L4 21.41c.39.39.9.59 1.41.59.51 0 1.02-.2 1.41-.59l7.78-7.78 2.81-2.81c.8-.78.8-2.07 0-2.86zM5.41 20L4 18.59l7.72-7.72 1.47 1.35L5.41 20z\"/>\n",
              "  </svg>\n",
              "      </button>\n",
              "      \n",
              "  <style>\n",
              "    .colab-df-container {\n",
              "      display:flex;\n",
              "      flex-wrap:wrap;\n",
              "      gap: 12px;\n",
              "    }\n",
              "\n",
              "    .colab-df-convert {\n",
              "      background-color: #E8F0FE;\n",
              "      border: none;\n",
              "      border-radius: 50%;\n",
              "      cursor: pointer;\n",
              "      display: none;\n",
              "      fill: #1967D2;\n",
              "      height: 32px;\n",
              "      padding: 0 0 0 0;\n",
              "      width: 32px;\n",
              "    }\n",
              "\n",
              "    .colab-df-convert:hover {\n",
              "      background-color: #E2EBFA;\n",
              "      box-shadow: 0px 1px 2px rgba(60, 64, 67, 0.3), 0px 1px 3px 1px rgba(60, 64, 67, 0.15);\n",
              "      fill: #174EA6;\n",
              "    }\n",
              "\n",
              "    [theme=dark] .colab-df-convert {\n",
              "      background-color: #3B4455;\n",
              "      fill: #D2E3FC;\n",
              "    }\n",
              "\n",
              "    [theme=dark] .colab-df-convert:hover {\n",
              "      background-color: #434B5C;\n",
              "      box-shadow: 0px 1px 3px 1px rgba(0, 0, 0, 0.15);\n",
              "      filter: drop-shadow(0px 1px 2px rgba(0, 0, 0, 0.3));\n",
              "      fill: #FFFFFF;\n",
              "    }\n",
              "  </style>\n",
              "\n",
              "      <script>\n",
              "        const buttonEl =\n",
              "          document.querySelector('#df-c7f64646-e39d-4329-a712-81f8e371f2c4 button.colab-df-convert');\n",
              "        buttonEl.style.display =\n",
              "          google.colab.kernel.accessAllowed ? 'block' : 'none';\n",
              "\n",
              "        async function convertToInteractive(key) {\n",
              "          const element = document.querySelector('#df-c7f64646-e39d-4329-a712-81f8e371f2c4');\n",
              "          const dataTable =\n",
              "            await google.colab.kernel.invokeFunction('convertToInteractive',\n",
              "                                                     [key], {});\n",
              "          if (!dataTable) return;\n",
              "\n",
              "          const docLinkHtml = 'Like what you see? Visit the ' +\n",
              "            '<a target=\"_blank\" href=https://colab.research.google.com/notebooks/data_table.ipynb>data table notebook</a>'\n",
              "            + ' to learn more about interactive tables.';\n",
              "          element.innerHTML = '';\n",
              "          dataTable['output_type'] = 'display_data';\n",
              "          await google.colab.output.renderOutput(dataTable, element);\n",
              "          const docLink = document.createElement('div');\n",
              "          docLink.innerHTML = docLinkHtml;\n",
              "          element.appendChild(docLink);\n",
              "        }\n",
              "      </script>\n",
              "    </div>\n",
              "  </div>\n",
              "  "
            ]
          },
          "metadata": {},
          "execution_count": 5
        }
      ],
      "source": [
        "import pandas as pd\n",
        "\n",
        "# loading event log from bigQuery\n",
        "event_log = client.query(query).to_dataframe()\n",
        "event_log[\"timestamp\"] = pd.to_datetime(event_log[\"timestamp\"])\n",
        "event_log.sort_values(by=['patient'])\n",
        "# event_log.info()"
      ]
    },
    {
      "cell_type": "markdown",
      "metadata": {
        "id": "E5nBYFkHCjHY"
      },
      "source": [
        "## Section 2: process mining"
      ]
    },
    {
      "cell_type": "code",
      "execution_count": null,
      "metadata": {
        "id": "q__4BhKCCjHY"
      },
      "outputs": [],
      "source": [
        "import pm4py as pm\n",
        "\n",
        "event_log = pm.format_dataframe(event_log, case_id='patient', activity_key='activity', timestamp_key='timestamp')\n",
        "# lets get some information about the event log\n",
        "n_events = len(event_log)\n",
        "n_cases = len(event_log.patient.unique())\n",
        "start_events = pm.get_start_activities(event_log)\n",
        "end_events = pm.get_end_activities(event_log)\n",
        "print(f\"Number of cases: {n_cases}\\nNumber of events: {n_events}\")\n",
        "print(f\"Start events: {start_events}\\nEnd events: {end_events}\")\n"
      ]
    },
    {
      "cell_type": "code",
      "execution_count": null,
      "metadata": {
        "id": "aETYaI3-CjHZ"
      },
      "outputs": [],
      "source": [
        "# most cases start with a person being admitted to the hospital\n",
        "# interestingly, there are two cases were someone was discharged at first, these two cases might be anomalous. \n",
        "# lets first filter by these two cases:\n",
        "filter_by_discharged = pm.filter_start_activities(event_log, ['Discharged'])\n",
        "filter_by_discharged\n",
        "# event traces are as follows:\n",
        "# discharged --> admitted --> transfer --> entered ICU --> Left ICU --> Dead\n"
      ]
    },
    {
      "cell_type": "code",
      "execution_count": null,
      "metadata": {
        "id": "boYeNhZuCjHa"
      },
      "outputs": [],
      "source": [
        "net, initial_marking, final_marking = pm.discover_petri_net_alpha(event_log)"
      ]
    },
    {
      "cell_type": "code",
      "execution_count": null,
      "metadata": {
        "id": "IIdzSIvdCjHa"
      },
      "outputs": [],
      "source": [
        "import graphviz\n",
        "pm.view_petri_net(petri_net=net)"
      ]
    }
  ],
  "metadata": {
    "kernelspec": {
      "display_name": "Python 3",
      "language": "python",
      "name": "python3"
    },
    "language_info": {
      "codemirror_mode": {
        "name": "ipython",
        "version": 3
      },
      "file_extension": ".py",
      "mimetype": "text/x-python",
      "name": "python",
      "nbconvert_exporter": "python",
      "pygments_lexer": "ipython3",
      "version": "3.10.2"
    },
    "orig_nbformat": 4,
    "vscode": {
      "interpreter": {
        "hash": "668626f72d98c3d20278a861d4c9cd1e9608e85361f1e74d685459c6ce5f80f9"
      }
    },
    "colab": {
      "provenance": []
    }
  },
  "nbformat": 4,
  "nbformat_minor": 0
}