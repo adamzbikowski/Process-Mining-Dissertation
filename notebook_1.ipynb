{
 "cells": [
  {
   "attachments": {},
   "cell_type": "markdown",
   "metadata": {},
   "source": [
    "# Notebook 1: predicting missing values for activity"
   ]
  },
  {
   "attachments": {},
   "cell_type": "markdown",
   "metadata": {},
   "source": [
    "## Section 1: Loading event log"
   ]
  },
  {
   "cell_type": "code",
   "execution_count": null,
   "metadata": {},
   "outputs": [],
   "source": [
    "import pandas as pd\n",
    "# loading event log using HADM_ID (hospital admission ID) as subject\n",
    "event_log = pd.read_csv(\"event_logs\\HADM_ID_v3.csv\", parse_dates=[\"timestamp\"])\n",
    "\n",
    "event_log[\"timestamp\"] = pd.to_datetime(event_log[\"timestamp\"])\n",
    "event_log.sort_values(by=['patient'])\n",
    "# event_log\n",
    "# notice how some there are already some missing time stamps\n",
    "# this \n",
    "# event_log.info()"
   ]
  },
  {
   "attachments": {},
   "cell_type": "markdown",
   "metadata": {},
   "source": [
    "## Section 2: process mining"
   ]
  },
  {
   "cell_type": "code",
   "execution_count": null,
   "metadata": {},
   "outputs": [],
   "source": [
    "import pm4py as pm\n",
    "\n",
    "event_log = pm.format_dataframe(event_log, case_id='patient', activity_key='activity', timestamp_key='timestamp')\n",
    "# lets get some information about the event log\n",
    "n_events = len(event_log)\n",
    "n_cases = len(event_log.patient.unique())\n",
    "start_events = pm.get_start_activities(event_log)\n",
    "end_events = pm.get_end_activities(event_log)\n",
    "print(f\"Number of cases: {n_cases}\\nNumber of events: {n_events}\")\n",
    "print(f\"Start events: {start_events}\\nEnd events: {end_events}\")\n"
   ]
  },
  {
   "cell_type": "code",
   "execution_count": null,
   "metadata": {},
   "outputs": [],
   "source": [
    "# most cases start with a person being admitted to the hospital\n",
    "# interestingly, there are two cases were someone was discharged at first, these two cases might be anomalous. \n",
    "# lets first filter by these two cases:\n",
    "filter_by_discharged = pm.filter_start_activities(event_log, ['Discharged'])\n",
    "filter_by_discharged\n",
    "# event traces are as follows:\n",
    "# discharged --> admitted --> transfer --> entered ICU --> Left ICU --> Dead\n"
   ]
  },
  {
   "cell_type": "code",
   "execution_count": null,
   "metadata": {},
   "outputs": [],
   "source": [
    "net, initial_marking, final_marking = pm.discover_petri_net_alpha(event_log)"
   ]
  },
  {
   "cell_type": "code",
   "execution_count": null,
   "metadata": {},
   "outputs": [],
   "source": [
    "import graphviz\n",
    "pm.view_petri_net(petri_net=net)"
   ]
  }
 ],
 "metadata": {
  "kernelspec": {
   "display_name": "Python 3",
   "language": "python",
   "name": "python3"
  },
  "language_info": {
   "codemirror_mode": {
    "name": "ipython",
    "version": 3
   },
   "file_extension": ".py",
   "mimetype": "text/x-python",
   "name": "python",
   "nbconvert_exporter": "python",
   "pygments_lexer": "ipython3",
   "version": "3.10.2 (tags/v3.10.2:a58ebcc, Jan 17 2022, 14:12:15) [MSC v.1929 64 bit (AMD64)]"
  },
  "orig_nbformat": 4,
  "vscode": {
   "interpreter": {
    "hash": "668626f72d98c3d20278a861d4c9cd1e9608e85361f1e74d685459c6ce5f80f9"
   }
  }
 },
 "nbformat": 4,
 "nbformat_minor": 2
}
