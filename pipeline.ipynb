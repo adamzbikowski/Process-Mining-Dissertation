{
  "cells": [
    {
      "cell_type": "markdown",
      "metadata": {
        "id": "_vJIqfLeCjHP"
      },
      "source": [
        "# Pipeline 1: predicting missing values for activity"
      ]
    },
    {
      "cell_type": "markdown",
      "metadata": {
        "id": "L27GXRjHCjHV"
      },
      "source": [
        "## Section 1: Loading event log"
      ]
    },
    {
      "cell_type": "code",
      "source": [
        "# installing prerequisites\n",
        "# certain packages are not installed by default on google colab\n",
        "!pip install pm4py\n"
      ],
      "metadata": {
        "colab": {
          "base_uri": "https://localhost:8080/"
        },
        "id": "JtmZ3GBVDj-s",
        "outputId": "198b7dc2-bbe4-4708-d7b7-81d86fe81809"
      },
      "execution_count": 58,
      "outputs": [
        {
          "output_type": "stream",
          "name": "stdout",
          "text": [
            "Looking in indexes: https://pypi.org/simple, https://us-python.pkg.dev/colab-wheels/public/simple/\n",
            "Requirement already satisfied: pm4py in /usr/local/lib/python3.8/dist-packages (2.5.1)\n",
            "Requirement already satisfied: matplotlib in /usr/local/lib/python3.8/dist-packages (from pm4py) (3.2.2)\n",
            "Requirement already satisfied: pytz in /usr/local/lib/python3.8/dist-packages (from pm4py) (2022.7.1)\n",
            "Requirement already satisfied: graphviz in /usr/local/lib/python3.8/dist-packages (from pm4py) (0.10.1)\n",
            "Requirement already satisfied: intervaltree in /usr/local/lib/python3.8/dist-packages (from pm4py) (2.1.0)\n",
            "Requirement already satisfied: cvxopt in /usr/local/lib/python3.8/dist-packages (from pm4py) (1.3.0)\n",
            "Requirement already satisfied: numpy in /usr/local/lib/python3.8/dist-packages (from pm4py) (1.21.6)\n",
            "Requirement already satisfied: lxml in /usr/local/lib/python3.8/dist-packages (from pm4py) (4.9.2)\n",
            "Requirement already satisfied: deprecation in /usr/local/lib/python3.8/dist-packages (from pm4py) (2.1.0)\n",
            "Requirement already satisfied: tqdm in /usr/local/lib/python3.8/dist-packages (from pm4py) (4.64.1)\n",
            "Requirement already satisfied: stringdist in /usr/local/lib/python3.8/dist-packages (from pm4py) (1.0.9)\n",
            "Requirement already satisfied: networkx in /usr/local/lib/python3.8/dist-packages (from pm4py) (3.0)\n",
            "Requirement already satisfied: pandas in /usr/local/lib/python3.8/dist-packages (from pm4py) (1.3.5)\n",
            "Requirement already satisfied: pydotplus in /usr/local/lib/python3.8/dist-packages (from pm4py) (2.0.2)\n",
            "Requirement already satisfied: scipy in /usr/local/lib/python3.8/dist-packages (from pm4py) (1.7.3)\n",
            "Requirement already satisfied: packaging in /usr/local/lib/python3.8/dist-packages (from deprecation->pm4py) (23.0)\n",
            "Requirement already satisfied: sortedcontainers in /usr/local/lib/python3.8/dist-packages (from intervaltree->pm4py) (2.4.0)\n",
            "Requirement already satisfied: cycler>=0.10 in /usr/local/lib/python3.8/dist-packages (from matplotlib->pm4py) (0.11.0)\n",
            "Requirement already satisfied: pyparsing!=2.0.4,!=2.1.2,!=2.1.6,>=2.0.1 in /usr/local/lib/python3.8/dist-packages (from matplotlib->pm4py) (3.0.9)\n",
            "Requirement already satisfied: python-dateutil>=2.1 in /usr/local/lib/python3.8/dist-packages (from matplotlib->pm4py) (2.8.2)\n",
            "Requirement already satisfied: kiwisolver>=1.0.1 in /usr/local/lib/python3.8/dist-packages (from matplotlib->pm4py) (1.4.4)\n",
            "Requirement already satisfied: six>=1.5 in /usr/local/lib/python3.8/dist-packages (from python-dateutil>=2.1->matplotlib->pm4py) (1.15.0)\n"
          ]
        }
      ]
    },
    {
      "cell_type": "code",
      "source": [
        "from google.colab import auth\n",
        "auth.authenticate_user()"
      ],
      "metadata": {
        "id": "IrTL5G7bD7W6"
      },
      "execution_count": 59,
      "outputs": []
    },
    {
      "cell_type": "code",
      "source": [
        "from google.cloud import bigquery\n",
        "client = bigquery.Client(project='processmining-367815')"
      ],
      "metadata": {
        "id": "-aNc-OmPEAZq"
      },
      "execution_count": 60,
      "outputs": []
    },
    {
      "cell_type": "code",
      "source": [
        "import requests\n",
        "\n",
        "# read a query from the github repository\n",
        "# change depending on which branch the queries have been pushed to\n",
        "branch = \"sql-queries\" \n",
        "# change this to change which query is being used\n",
        "query_name = \"event_log_mvp.sql\"\n",
        "url = f\"https://raw.githubusercontent.com/adamzbikowski/Process-Mining-Dissertation/{branch}/sql_queries/{query_name}\"\n",
        "query_bytes = requests.get(url).content\n",
        "\n",
        "# we must now decode this to turn the query into a string \n",
        "query = query_bytes.decode(\"utf-8\")"
      ],
      "metadata": {
        "id": "cLK5sJ_qwY5W"
      },
      "execution_count": 106,
      "outputs": []
    },
    {
      "cell_type": "code",
      "execution_count": 107,
      "metadata": {
        "colab": {
          "base_uri": "https://localhost:8080/",
          "height": 423
        },
        "id": "CmSHODCZCjHW",
        "outputId": "edcb389b-5244-4c0f-c83e-485ce106e6c6"
      },
      "outputs": [
        {
          "output_type": "execute_result",
          "data": {
            "text/plain": [
              "        patient    activity           timestamp\n",
              "0        105764    Transfer 2134-03-01 00:38:40\n",
              "1        112013    Transfer 2187-02-12 00:42:40\n",
              "2        150193    Transfer 2192-06-01 01:13:39\n",
              "3        144980    Transfer 2169-08-14 00:30:19\n",
              "4        122192    Transfer 2120-04-15 00:32:00\n",
              "...         ...         ...                 ...\n",
              "140355   109352  Discharged 2167-04-16 17:10:00\n",
              "140356   166032  Discharged 2198-09-20 21:16:00\n",
              "140357   120514  Discharged 2163-09-09 17:30:00\n",
              "140358   175280  Discharged 2204-01-25 14:20:00\n",
              "140359   178280  Discharged 2193-06-01 14:29:00\n",
              "\n",
              "[140360 rows x 3 columns]"
            ],
            "text/html": [
              "\n",
              "  <div id=\"df-2a8e5dfc-9d2a-4c31-b3f4-0e0b277fc033\">\n",
              "    <div class=\"colab-df-container\">\n",
              "      <div>\n",
              "<style scoped>\n",
              "    .dataframe tbody tr th:only-of-type {\n",
              "        vertical-align: middle;\n",
              "    }\n",
              "\n",
              "    .dataframe tbody tr th {\n",
              "        vertical-align: top;\n",
              "    }\n",
              "\n",
              "    .dataframe thead th {\n",
              "        text-align: right;\n",
              "    }\n",
              "</style>\n",
              "<table border=\"1\" class=\"dataframe\">\n",
              "  <thead>\n",
              "    <tr style=\"text-align: right;\">\n",
              "      <th></th>\n",
              "      <th>patient</th>\n",
              "      <th>activity</th>\n",
              "      <th>timestamp</th>\n",
              "    </tr>\n",
              "  </thead>\n",
              "  <tbody>\n",
              "    <tr>\n",
              "      <th>0</th>\n",
              "      <td>105764</td>\n",
              "      <td>Transfer</td>\n",
              "      <td>2134-03-01 00:38:40</td>\n",
              "    </tr>\n",
              "    <tr>\n",
              "      <th>1</th>\n",
              "      <td>112013</td>\n",
              "      <td>Transfer</td>\n",
              "      <td>2187-02-12 00:42:40</td>\n",
              "    </tr>\n",
              "    <tr>\n",
              "      <th>2</th>\n",
              "      <td>150193</td>\n",
              "      <td>Transfer</td>\n",
              "      <td>2192-06-01 01:13:39</td>\n",
              "    </tr>\n",
              "    <tr>\n",
              "      <th>3</th>\n",
              "      <td>144980</td>\n",
              "      <td>Transfer</td>\n",
              "      <td>2169-08-14 00:30:19</td>\n",
              "    </tr>\n",
              "    <tr>\n",
              "      <th>4</th>\n",
              "      <td>122192</td>\n",
              "      <td>Transfer</td>\n",
              "      <td>2120-04-15 00:32:00</td>\n",
              "    </tr>\n",
              "    <tr>\n",
              "      <th>...</th>\n",
              "      <td>...</td>\n",
              "      <td>...</td>\n",
              "      <td>...</td>\n",
              "    </tr>\n",
              "    <tr>\n",
              "      <th>140355</th>\n",
              "      <td>109352</td>\n",
              "      <td>Discharged</td>\n",
              "      <td>2167-04-16 17:10:00</td>\n",
              "    </tr>\n",
              "    <tr>\n",
              "      <th>140356</th>\n",
              "      <td>166032</td>\n",
              "      <td>Discharged</td>\n",
              "      <td>2198-09-20 21:16:00</td>\n",
              "    </tr>\n",
              "    <tr>\n",
              "      <th>140357</th>\n",
              "      <td>120514</td>\n",
              "      <td>Discharged</td>\n",
              "      <td>2163-09-09 17:30:00</td>\n",
              "    </tr>\n",
              "    <tr>\n",
              "      <th>140358</th>\n",
              "      <td>175280</td>\n",
              "      <td>Discharged</td>\n",
              "      <td>2204-01-25 14:20:00</td>\n",
              "    </tr>\n",
              "    <tr>\n",
              "      <th>140359</th>\n",
              "      <td>178280</td>\n",
              "      <td>Discharged</td>\n",
              "      <td>2193-06-01 14:29:00</td>\n",
              "    </tr>\n",
              "  </tbody>\n",
              "</table>\n",
              "<p>140360 rows × 3 columns</p>\n",
              "</div>\n",
              "      <button class=\"colab-df-convert\" onclick=\"convertToInteractive('df-2a8e5dfc-9d2a-4c31-b3f4-0e0b277fc033')\"\n",
              "              title=\"Convert this dataframe to an interactive table.\"\n",
              "              style=\"display:none;\">\n",
              "        \n",
              "  <svg xmlns=\"http://www.w3.org/2000/svg\" height=\"24px\"viewBox=\"0 0 24 24\"\n",
              "       width=\"24px\">\n",
              "    <path d=\"M0 0h24v24H0V0z\" fill=\"none\"/>\n",
              "    <path d=\"M18.56 5.44l.94 2.06.94-2.06 2.06-.94-2.06-.94-.94-2.06-.94 2.06-2.06.94zm-11 1L8.5 8.5l.94-2.06 2.06-.94-2.06-.94L8.5 2.5l-.94 2.06-2.06.94zm10 10l.94 2.06.94-2.06 2.06-.94-2.06-.94-.94-2.06-.94 2.06-2.06.94z\"/><path d=\"M17.41 7.96l-1.37-1.37c-.4-.4-.92-.59-1.43-.59-.52 0-1.04.2-1.43.59L10.3 9.45l-7.72 7.72c-.78.78-.78 2.05 0 2.83L4 21.41c.39.39.9.59 1.41.59.51 0 1.02-.2 1.41-.59l7.78-7.78 2.81-2.81c.8-.78.8-2.07 0-2.86zM5.41 20L4 18.59l7.72-7.72 1.47 1.35L5.41 20z\"/>\n",
              "  </svg>\n",
              "      </button>\n",
              "      \n",
              "  <style>\n",
              "    .colab-df-container {\n",
              "      display:flex;\n",
              "      flex-wrap:wrap;\n",
              "      gap: 12px;\n",
              "    }\n",
              "\n",
              "    .colab-df-convert {\n",
              "      background-color: #E8F0FE;\n",
              "      border: none;\n",
              "      border-radius: 50%;\n",
              "      cursor: pointer;\n",
              "      display: none;\n",
              "      fill: #1967D2;\n",
              "      height: 32px;\n",
              "      padding: 0 0 0 0;\n",
              "      width: 32px;\n",
              "    }\n",
              "\n",
              "    .colab-df-convert:hover {\n",
              "      background-color: #E2EBFA;\n",
              "      box-shadow: 0px 1px 2px rgba(60, 64, 67, 0.3), 0px 1px 3px 1px rgba(60, 64, 67, 0.15);\n",
              "      fill: #174EA6;\n",
              "    }\n",
              "\n",
              "    [theme=dark] .colab-df-convert {\n",
              "      background-color: #3B4455;\n",
              "      fill: #D2E3FC;\n",
              "    }\n",
              "\n",
              "    [theme=dark] .colab-df-convert:hover {\n",
              "      background-color: #434B5C;\n",
              "      box-shadow: 0px 1px 3px 1px rgba(0, 0, 0, 0.15);\n",
              "      filter: drop-shadow(0px 1px 2px rgba(0, 0, 0, 0.3));\n",
              "      fill: #FFFFFF;\n",
              "    }\n",
              "  </style>\n",
              "\n",
              "      <script>\n",
              "        const buttonEl =\n",
              "          document.querySelector('#df-2a8e5dfc-9d2a-4c31-b3f4-0e0b277fc033 button.colab-df-convert');\n",
              "        buttonEl.style.display =\n",
              "          google.colab.kernel.accessAllowed ? 'block' : 'none';\n",
              "\n",
              "        async function convertToInteractive(key) {\n",
              "          const element = document.querySelector('#df-2a8e5dfc-9d2a-4c31-b3f4-0e0b277fc033');\n",
              "          const dataTable =\n",
              "            await google.colab.kernel.invokeFunction('convertToInteractive',\n",
              "                                                     [key], {});\n",
              "          if (!dataTable) return;\n",
              "\n",
              "          const docLinkHtml = 'Like what you see? Visit the ' +\n",
              "            '<a target=\"_blank\" href=https://colab.research.google.com/notebooks/data_table.ipynb>data table notebook</a>'\n",
              "            + ' to learn more about interactive tables.';\n",
              "          element.innerHTML = '';\n",
              "          dataTable['output_type'] = 'display_data';\n",
              "          await google.colab.output.renderOutput(dataTable, element);\n",
              "          const docLink = document.createElement('div');\n",
              "          docLink.innerHTML = docLinkHtml;\n",
              "          element.appendChild(docLink);\n",
              "        }\n",
              "      </script>\n",
              "    </div>\n",
              "  </div>\n",
              "  "
            ]
          },
          "metadata": {},
          "execution_count": 107
        }
      ],
      "source": [
        "import pandas as pd\n",
        "\n",
        "# loading event log from bigQuery\n",
        "event_log = client.query(query).to_dataframe()\n",
        "# convert timestamp from object to datetime64\n",
        "event_log[\"timestamp\"] = pd.to_datetime(event_log[\"timestamp\"])\n",
        "event_log\n"
      ]
    },
    {
      "cell_type": "markdown",
      "metadata": {
        "id": "E5nBYFkHCjHY"
      },
      "source": [
        "## Section 2: process mining"
      ]
    },
    {
      "cell_type": "code",
      "execution_count": 108,
      "metadata": {
        "colab": {
          "base_uri": "https://localhost:8080/"
        },
        "id": "q__4BhKCCjHY",
        "outputId": "4ef65d9d-82e8-4ed4-dec9-2bb27685d11d"
      },
      "outputs": [
        {
          "output_type": "stream",
          "name": "stderr",
          "text": [
            "<ipython-input-108-aedec179434f>:3: DeprecatedWarning: format_dataframe is deprecated as of 2.3.0 and will be removed in 3.0.0. the format_dataframe function does not need application anymore.\n",
            "  event_log = pm.format_dataframe(event_log, case_id='patient', activity_key='activity', timestamp_key='timestamp')\n"
          ]
        },
        {
          "output_type": "stream",
          "name": "stdout",
          "text": [
            "Number of cases: 42652\n",
            "Number of events: 140360\n",
            "Start events: {'Admitted': 36389, 'Transfer': 6208, 'Discharged': 55}\n",
            "End events: {'Discharged': 42563, 'Transfer': 85, 'Admitted': 4}\n"
          ]
        }
      ],
      "source": [
        "import pm4py as pm\n",
        "\n",
        "event_log = pm.format_dataframe(event_log, case_id='patient', activity_key='activity', timestamp_key='timestamp')\n",
        "# lets get some information about the event log\n",
        "n_events = len(event_log)\n",
        "n_cases = len(event_log.patient.unique())\n",
        "start_events = pm.get_start_activities(event_log)\n",
        "end_events = pm.get_end_activities(event_log)\n",
        "print(f\"Number of cases: {n_cases}\\nNumber of events: {n_events}\")\n",
        "print(f\"Start events: {start_events}\\nEnd events: {end_events}\")\n"
      ]
    },
    {
      "cell_type": "code",
      "execution_count": 116,
      "metadata": {
        "id": "aETYaI3-CjHZ"
      },
      "outputs": [],
      "source": [
        "# lets improve the event log by filtering out the cases that do not start or end with a patient being admitted or discharged\n",
        "# this will simplify the model\n",
        "\n",
        "event_log = pm.filter_start_activities(event_log, ['Admitted'])\n",
        "event_log = pm.filter_end_activities(event_log,['Discharged'])"
      ]
    },
    {
      "cell_type": "code",
      "execution_count": 111,
      "metadata": {
        "id": "boYeNhZuCjHa"
      },
      "outputs": [],
      "source": [
        "net, initial_marking, final_marking = pm.discover_petri_net_alpha(event_log)"
      ]
    },
    {
      "cell_type": "code",
      "execution_count": 112,
      "metadata": {
        "colab": {
          "base_uri": "https://localhost:8080/",
          "height": 172
        },
        "id": "IIdzSIvdCjHa",
        "outputId": "c1e5f72c-e0b7-4509-d35c-82b9e6174275"
      },
      "outputs": [
        {
          "output_type": "display_data",
          "data": {
            "image/png": "[encoded data removed]",
            "text/plain": [
              "<IPython.core.display.Image object>"
            ]
          },
          "metadata": {}
        }
      ],
      "source": [
        "import graphviz\n",
        "pm.view_petri_net(petri_net=net)"
      ]
    },
    {
      "cell_type": "code",
      "source": [
        "# inductive miner\n",
        "# much better result than when using alpha miner, petri net \n",
        "net, initial_marking, final_marking = pm.discover_petri_net_inductive(event_log)\n",
        "pm.view_petri_net(petri_net=net)"
      ],
      "metadata": {
        "id": "f6fgpjqRKw67",
        "outputId": "6ccd438b-7391-473d-e80f-f70c4801eb1f",
        "colab": {
          "base_uri": "https://localhost:8080/",
          "height": 148
        }
      },
      "execution_count": 113,
      "outputs": [
        {
          "output_type": "display_data",
          "data": {
            "image/png": "[encoded data removed]",
            "text/plain": [
              "<IPython.core.display.Image object>"
            ]
          },
          "metadata": {}
        }
      ]
    },
    {
      "cell_type": "code",
      "source": [
        "# heuristic miner\n",
        "heu_net = pm.discover_heuristics_net(event_log, dependency_threshold=0.99)\n",
        "pm.view_heuristics_net(heu_net)"
      ],
      "metadata": {
        "id": "SXk4_DHFLDpB",
        "outputId": "0ad8f268-a7a5-4905-fa4a-5c053bec221c",
        "colab": {
          "base_uri": "https://localhost:8080/",
          "height": 540
        }
      },
      "execution_count": 114,
      "outputs": [
        {
          "output_type": "display_data",
          "data": {
            "image/png": "[encoded data removed]",
            "text/plain": [
              "<IPython.core.display.Image object>"
            ]
          },
          "metadata": {}
        }
      ]
    },
    {
      "cell_type": "code",
      "source": [
        "# petri net from heuristics miner\n",
        "net, im, fm = pm.discover_petri_net_heuristics(event_log, dependency_threshold=0.99)\n",
        "pm.view_petri_net(net, im, fm)"
      ],
      "metadata": {
        "id": "EZOGRFF2LHwh",
        "outputId": "8408f81f-5060-4709-c44e-296018abb4e2",
        "colab": {
          "base_uri": "https://localhost:8080/",
          "height": 201
        }
      },
      "execution_count": 115,
      "outputs": [
        {
          "output_type": "display_data",
          "data": {
            "image/png": "[encoded data removed]",
            "text/plain": [
              "<IPython.core.display.Image object>"
            ]
          },
          "metadata": {}
        }
      ]
    },
    {
      "cell_type": "markdown",
      "source": [
        "## Section 3: Predicting Missing Activities"
      ],
      "metadata": {
        "id": "wQqrU3QsNC-4"
      }
    },
    {
      "cell_type": "code",
      "source": [
        "import random\n",
        "# select the first 100 cases to test the LSTM methodology\n",
        "# lets first add a trace column to the event_log\n",
        "event_log['trace'] = event_log.groupby(['patient']).ngroup()\n",
        "\n",
        "# we can now select 100 random traces,\n",
        "# this will be repeated with a a larger number of traces\n",
        "# lets first initialise a random seed\n",
        "random.seed(9)\n",
        "num_traces = 100\n",
        "random_traces = []\n",
        "\n",
        "for i in range(0,num_traces):\n",
        "  random_traces.append(random.randrange(0,n_cases))\n",
        "\n",
        "partial_event_log = event_log[event_log['trace'].isin(random_traces)]\n",
        "\n",
        "partial_event_log"
      ],
      "metadata": {
        "id": "Hs9nC7zuNGeg",
        "colab": {
          "base_uri": "https://localhost:8080/",
          "height": 834
        },
        "outputId": "90a0d972-69dc-4545-c261-66c1a74d1b1d"
      },
      "execution_count": 125,
      "outputs": [
        {
          "output_type": "execute_result",
          "data": {
            "text/plain": [
              "        patient    activity           timestamp case:concept:name  \\\n",
              "973      100685    Admitted 2184-09-30 22:49:00            100685   \n",
              "974      100685    Transfer 2184-09-30 22:51:07            100685   \n",
              "975      100685  Discharged 2184-10-05 18:35:00            100685   \n",
              "1316     100931    Admitted 2200-03-07 16:24:00            100931   \n",
              "1317     100931    Transfer 2200-03-07 16:25:01            100931   \n",
              "...         ...         ...                 ...               ...   \n",
              "136595   197249    Transfer 2119-02-14 18:19:36            197249   \n",
              "136596   197249  Discharged 2119-02-21 17:45:00            197249   \n",
              "140230   199911    Admitted 2196-05-10 12:35:00            199911   \n",
              "140231   199911    Transfer 2196-05-10 12:36:03            199911   \n",
              "140232   199911  Discharged 2196-05-13 16:30:00            199911   \n",
              "\n",
              "       concept:name      time:timestamp  @@index  @@case_index  \\\n",
              "973        Admitted 2184-09-30 22:49:00      973           291   \n",
              "974        Transfer 2184-09-30 22:51:07      974           291   \n",
              "975      Discharged 2184-10-05 18:35:00      975           291   \n",
              "1316       Admitted 2200-03-07 16:24:00     1316           395   \n",
              "1317       Transfer 2200-03-07 16:25:01     1317           395   \n",
              "...             ...                 ...      ...           ...   \n",
              "136595     Transfer 2119-02-14 18:19:36   136595         41506   \n",
              "136596   Discharged 2119-02-21 17:45:00   136596         41506   \n",
              "140230     Admitted 2196-05-10 12:35:00   140230         42611   \n",
              "140231     Transfer 2196-05-10 12:36:03   140231         42611   \n",
              "140232   Discharged 2196-05-13 16:30:00   140232         42611   \n",
              "\n",
              "           start_timestamp  trace  \n",
              "973    2184-09-30 22:49:00    253  \n",
              "974    2184-09-30 22:51:07    253  \n",
              "975    2184-10-05 18:35:00    253  \n",
              "1316   2200-03-07 16:24:00    345  \n",
              "1317   2200-03-07 16:25:01    345  \n",
              "...                    ...    ...  \n",
              "136595 2119-02-14 18:19:36  35374  \n",
              "136596 2119-02-21 17:45:00  35374  \n",
              "140230 2196-05-10 12:35:00  36324  \n",
              "140231 2196-05-10 12:36:03  36324  \n",
              "140232 2196-05-13 16:30:00  36324  \n",
              "\n",
              "[271 rows x 10 columns]"
            ],
            "text/html": [
              "\n",
              "  <div id=\"df-4aa7d9cf-792c-495a-b5ee-ebbc8690641e\">\n",
              "    <div class=\"colab-df-container\">\n",
              "      <div>\n",
              "<style scoped>\n",
              "    .dataframe tbody tr th:only-of-type {\n",
              "        vertical-align: middle;\n",
              "    }\n",
              "\n",
              "    .dataframe tbody tr th {\n",
              "        vertical-align: top;\n",
              "    }\n",
              "\n",
              "    .dataframe thead th {\n",
              "        text-align: right;\n",
              "    }\n",
              "</style>\n",
              "<table border=\"1\" class=\"dataframe\">\n",
              "  <thead>\n",
              "    <tr style=\"text-align: right;\">\n",
              "      <th></th>\n",
              "      <th>patient</th>\n",
              "      <th>activity</th>\n",
              "      <th>timestamp</th>\n",
              "      <th>case:concept:name</th>\n",
              "      <th>concept:name</th>\n",
              "      <th>time:timestamp</th>\n",
              "      <th>@@index</th>\n",
              "      <th>@@case_index</th>\n",
              "      <th>start_timestamp</th>\n",
              "      <th>trace</th>\n",
              "    </tr>\n",
              "  </thead>\n",
              "  <tbody>\n",
              "    <tr>\n",
              "      <th>973</th>\n",
              "      <td>100685</td>\n",
              "      <td>Admitted</td>\n",
              "      <td>2184-09-30 22:49:00</td>\n",
              "      <td>100685</td>\n",
              "      <td>Admitted</td>\n",
              "      <td>2184-09-30 22:49:00</td>\n",
              "      <td>973</td>\n",
              "      <td>291</td>\n",
              "      <td>2184-09-30 22:49:00</td>\n",
              "      <td>253</td>\n",
              "    </tr>\n",
              "    <tr>\n",
              "      <th>974</th>\n",
              "      <td>100685</td>\n",
              "      <td>Transfer</td>\n",
              "      <td>2184-09-30 22:51:07</td>\n",
              "      <td>100685</td>\n",
              "      <td>Transfer</td>\n",
              "      <td>2184-09-30 22:51:07</td>\n",
              "      <td>974</td>\n",
              "      <td>291</td>\n",
              "      <td>2184-09-30 22:51:07</td>\n",
              "      <td>253</td>\n",
              "    </tr>\n",
              "    <tr>\n",
              "      <th>975</th>\n",
              "      <td>100685</td>\n",
              "      <td>Discharged</td>\n",
              "      <td>2184-10-05 18:35:00</td>\n",
              "      <td>100685</td>\n",
              "      <td>Discharged</td>\n",
              "      <td>2184-10-05 18:35:00</td>\n",
              "      <td>975</td>\n",
              "      <td>291</td>\n",
              "      <td>2184-10-05 18:35:00</td>\n",
              "      <td>253</td>\n",
              "    </tr>\n",
              "    <tr>\n",
              "      <th>1316</th>\n",
              "      <td>100931</td>\n",
              "      <td>Admitted</td>\n",
              "      <td>2200-03-07 16:24:00</td>\n",
              "      <td>100931</td>\n",
              "      <td>Admitted</td>\n",
              "      <td>2200-03-07 16:24:00</td>\n",
              "      <td>1316</td>\n",
              "      <td>395</td>\n",
              "      <td>2200-03-07 16:24:00</td>\n",
              "      <td>345</td>\n",
              "    </tr>\n",
              "    <tr>\n",
              "      <th>1317</th>\n",
              "      <td>100931</td>\n",
              "      <td>Transfer</td>\n",
              "      <td>2200-03-07 16:25:01</td>\n",
              "      <td>100931</td>\n",
              "      <td>Transfer</td>\n",
              "      <td>2200-03-07 16:25:01</td>\n",
              "      <td>1317</td>\n",
              "      <td>395</td>\n",
              "      <td>2200-03-07 16:25:01</td>\n",
              "      <td>345</td>\n",
              "    </tr>\n",
              "    <tr>\n",
              "      <th>...</th>\n",
              "      <td>...</td>\n",
              "      <td>...</td>\n",
              "      <td>...</td>\n",
              "      <td>...</td>\n",
              "      <td>...</td>\n",
              "      <td>...</td>\n",
              "      <td>...</td>\n",
              "      <td>...</td>\n",
              "      <td>...</td>\n",
              "      <td>...</td>\n",
              "    </tr>\n",
              "    <tr>\n",
              "      <th>136595</th>\n",
              "      <td>197249</td>\n",
              "      <td>Transfer</td>\n",
              "      <td>2119-02-14 18:19:36</td>\n",
              "      <td>197249</td>\n",
              "      <td>Transfer</td>\n",
              "      <td>2119-02-14 18:19:36</td>\n",
              "      <td>136595</td>\n",
              "      <td>41506</td>\n",
              "      <td>2119-02-14 18:19:36</td>\n",
              "      <td>35374</td>\n",
              "    </tr>\n",
              "    <tr>\n",
              "      <th>136596</th>\n",
              "      <td>197249</td>\n",
              "      <td>Discharged</td>\n",
              "      <td>2119-02-21 17:45:00</td>\n",
              "      <td>197249</td>\n",
              "      <td>Discharged</td>\n",
              "      <td>2119-02-21 17:45:00</td>\n",
              "      <td>136596</td>\n",
              "      <td>41506</td>\n",
              "      <td>2119-02-21 17:45:00</td>\n",
              "      <td>35374</td>\n",
              "    </tr>\n",
              "    <tr>\n",
              "      <th>140230</th>\n",
              "      <td>199911</td>\n",
              "      <td>Admitted</td>\n",
              "      <td>2196-05-10 12:35:00</td>\n",
              "      <td>199911</td>\n",
              "      <td>Admitted</td>\n",
              "      <td>2196-05-10 12:35:00</td>\n",
              "      <td>140230</td>\n",
              "      <td>42611</td>\n",
              "      <td>2196-05-10 12:35:00</td>\n",
              "      <td>36324</td>\n",
              "    </tr>\n",
              "    <tr>\n",
              "      <th>140231</th>\n",
              "      <td>199911</td>\n",
              "      <td>Transfer</td>\n",
              "      <td>2196-05-10 12:36:03</td>\n",
              "      <td>199911</td>\n",
              "      <td>Transfer</td>\n",
              "      <td>2196-05-10 12:36:03</td>\n",
              "      <td>140231</td>\n",
              "      <td>42611</td>\n",
              "      <td>2196-05-10 12:36:03</td>\n",
              "      <td>36324</td>\n",
              "    </tr>\n",
              "    <tr>\n",
              "      <th>140232</th>\n",
              "      <td>199911</td>\n",
              "      <td>Discharged</td>\n",
              "      <td>2196-05-13 16:30:00</td>\n",
              "      <td>199911</td>\n",
              "      <td>Discharged</td>\n",
              "      <td>2196-05-13 16:30:00</td>\n",
              "      <td>140232</td>\n",
              "      <td>42611</td>\n",
              "      <td>2196-05-13 16:30:00</td>\n",
              "      <td>36324</td>\n",
              "    </tr>\n",
              "  </tbody>\n",
              "</table>\n",
              "<p>271 rows × 10 columns</p>\n",
              "</div>\n",
              "      <button class=\"colab-df-convert\" onclick=\"convertToInteractive('df-4aa7d9cf-792c-495a-b5ee-ebbc8690641e')\"\n",
              "              title=\"Convert this dataframe to an interactive table.\"\n",
              "              style=\"display:none;\">\n",
              "        \n",
              "  <svg xmlns=\"http://www.w3.org/2000/svg\" height=\"24px\"viewBox=\"0 0 24 24\"\n",
              "       width=\"24px\">\n",
              "    <path d=\"M0 0h24v24H0V0z\" fill=\"none\"/>\n",
              "    <path d=\"M18.56 5.44l.94 2.06.94-2.06 2.06-.94-2.06-.94-.94-2.06-.94 2.06-2.06.94zm-11 1L8.5 8.5l.94-2.06 2.06-.94-2.06-.94L8.5 2.5l-.94 2.06-2.06.94zm10 10l.94 2.06.94-2.06 2.06-.94-2.06-.94-.94-2.06-.94 2.06-2.06.94z\"/><path d=\"M17.41 7.96l-1.37-1.37c-.4-.4-.92-.59-1.43-.59-.52 0-1.04.2-1.43.59L10.3 9.45l-7.72 7.72c-.78.78-.78 2.05 0 2.83L4 21.41c.39.39.9.59 1.41.59.51 0 1.02-.2 1.41-.59l7.78-7.78 2.81-2.81c.8-.78.8-2.07 0-2.86zM5.41 20L4 18.59l7.72-7.72 1.47 1.35L5.41 20z\"/>\n",
              "  </svg>\n",
              "      </button>\n",
              "      \n",
              "  <style>\n",
              "    .colab-df-container {\n",
              "      display:flex;\n",
              "      flex-wrap:wrap;\n",
              "      gap: 12px;\n",
              "    }\n",
              "\n",
              "    .colab-df-convert {\n",
              "      background-color: #E8F0FE;\n",
              "      border: none;\n",
              "      border-radius: 50%;\n",
              "      cursor: pointer;\n",
              "      display: none;\n",
              "      fill: #1967D2;\n",
              "      height: 32px;\n",
              "      padding: 0 0 0 0;\n",
              "      width: 32px;\n",
              "    }\n",
              "\n",
              "    .colab-df-convert:hover {\n",
              "      background-color: #E2EBFA;\n",
              "      box-shadow: 0px 1px 2px rgba(60, 64, 67, 0.3), 0px 1px 3px 1px rgba(60, 64, 67, 0.15);\n",
              "      fill: #174EA6;\n",
              "    }\n",
              "\n",
              "    [theme=dark] .colab-df-convert {\n",
              "      background-color: #3B4455;\n",
              "      fill: #D2E3FC;\n",
              "    }\n",
              "\n",
              "    [theme=dark] .colab-df-convert:hover {\n",
              "      background-color: #434B5C;\n",
              "      box-shadow: 0px 1px 3px 1px rgba(0, 0, 0, 0.15);\n",
              "      filter: drop-shadow(0px 1px 2px rgba(0, 0, 0, 0.3));\n",
              "      fill: #FFFFFF;\n",
              "    }\n",
              "  </style>\n",
              "\n",
              "      <script>\n",
              "        const buttonEl =\n",
              "          document.querySelector('#df-4aa7d9cf-792c-495a-b5ee-ebbc8690641e button.colab-df-convert');\n",
              "        buttonEl.style.display =\n",
              "          google.colab.kernel.accessAllowed ? 'block' : 'none';\n",
              "\n",
              "        async function convertToInteractive(key) {\n",
              "          const element = document.querySelector('#df-4aa7d9cf-792c-495a-b5ee-ebbc8690641e');\n",
              "          const dataTable =\n",
              "            await google.colab.kernel.invokeFunction('convertToInteractive',\n",
              "                                                     [key], {});\n",
              "          if (!dataTable) return;\n",
              "\n",
              "          const docLinkHtml = 'Like what you see? Visit the ' +\n",
              "            '<a target=\"_blank\" href=https://colab.research.google.com/notebooks/data_table.ipynb>data table notebook</a>'\n",
              "            + ' to learn more about interactive tables.';\n",
              "          element.innerHTML = '';\n",
              "          dataTable['output_type'] = 'display_data';\n",
              "          await google.colab.output.renderOutput(dataTable, element);\n",
              "          const docLink = document.createElement('div');\n",
              "          docLink.innerHTML = docLinkHtml;\n",
              "          element.appendChild(docLink);\n",
              "        }\n",
              "      </script>\n",
              "    </div>\n",
              "  </div>\n",
              "  "
            ]
          },
          "metadata": {},
          "execution_count": 125
        }
      ]
    },
    {
      "cell_type": "code",
      "source": [
        "# split event log into a train and test set\n"
      ],
      "metadata": {
        "id": "-olYh5AyOJzp"
      },
      "execution_count": null,
      "outputs": []
    }
  ],
  "metadata": {
    "kernelspec": {
      "display_name": "Python 3",
      "language": "python",
      "name": "python3"
    },
    "language_info": {
      "codemirror_mode": {
        "name": "ipython",
        "version": 3
      },
      "file_extension": ".py",
      "mimetype": "text/x-python",
      "name": "python",
      "nbconvert_exporter": "python",
      "pygments_lexer": "ipython3",
      "version": "3.10.2"
    },
    "orig_nbformat": 4,
    "vscode": {
      "interpreter": {
        "hash": "668626f72d98c3d20278a861d4c9cd1e9608e85361f1e74d685459c6ce5f80f9"
      }
    },
    "colab": {
      "provenance": [],
      "toc_visible": true
    }
  },
  "nbformat": 4,
  "nbformat_minor": 0
}