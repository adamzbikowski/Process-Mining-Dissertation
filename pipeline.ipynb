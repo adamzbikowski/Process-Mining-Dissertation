{
  "cells": [
    {
      "cell_type": "markdown",
      "metadata": {
        "id": "view-in-github",
        "colab_type": "text"
      },
      "source": [
        "<a href=\"https://colab.research.google.com/github/adamzbikowski/Process-Mining-Dissertation/blob/main/pipeline.ipynb\" target=\"_parent\"><img src=\"https://colab.research.google.com/assets/colab-badge.svg\" alt=\"Open In Colab\"/></a>"
      ]
    },
    {
      "cell_type": "markdown",
      "metadata": {
        "id": "_vJIqfLeCjHP"
      },
      "source": [
        "# Pipeline 1: predicting missing values for activity"
      ]
    },
    {
      "cell_type": "markdown",
      "source": [
        "##Section 0: Customisation"
      ],
      "metadata": {
        "id": "LZGZm2vxOFBT"
      }
    },
    {
      "cell_type": "markdown",
      "source": [
        "**Note on usage:**\n",
        "To customise the pipeline, only alter the parameters in this section."
      ],
      "metadata": {
        "id": "uuEFUnhyPLSz"
      }
    },
    {
      "cell_type": "code",
      "source": [
        "# The following parameters can be customised:\n",
        "\n",
        "# change depending on which branch the queries have been pushed to\n",
        "BRANCH = \"sql-queries\" \n",
        "\n",
        "# change this to change which query is being used\n",
        "QUERY_NAME = \"event_log_mvp.sql\"\n",
        "\n",
        "# change to alter the number of random traces being selected\n",
        "NUM_TRACES = 100\n",
        "\n",
        "# change to alter the prefix/suffix length\n",
        "PREFIX_LENGTH = 5\n",
        "\n",
        "# change to alter the size of the test and validation sets\n",
        "TEST_SIZE = 0.2\n",
        "VALIDATION_SIZE = 0.2\n",
        "\n",
        "\n",
        "\n"
      ],
      "metadata": {
        "id": "7SRLZ8SUOEMp"
      },
      "execution_count": 70,
      "outputs": []
    },
    {
      "cell_type": "markdown",
      "metadata": {
        "id": "L27GXRjHCjHV"
      },
      "source": [
        "## Section 1: Loading event log"
      ]
    },
    {
      "cell_type": "code",
      "source": [
        "# installing prerequisites\n",
        "# certain packages are not installed by default on google colab\n",
        "!pip install pm4py\n"
      ],
      "metadata": {
        "colab": {
          "base_uri": "https://localhost:8080/"
        },
        "id": "JtmZ3GBVDj-s",
        "outputId": "ecf4cd5a-5c65-47cc-e8cc-b0289ba8b5ec"
      },
      "execution_count": 3,
      "outputs": [
        {
          "output_type": "stream",
          "name": "stdout",
          "text": [
            "Looking in indexes: https://pypi.org/simple, https://us-python.pkg.dev/colab-wheels/public/simple/\n",
            "Collecting pm4py\n",
            "  Downloading pm4py-2.5.2-py3-none-any.whl (1.6 MB)\n",
            "\u001b[2K     \u001b[90m━━━━━━━━━━━━━━━━━━━━━━━━━━━━━━━━━━━━━━━━\u001b[0m \u001b[32m1.6/1.6 MB\u001b[0m \u001b[31m21.0 MB/s\u001b[0m eta \u001b[36m0:00:00\u001b[0m\n",
            "\u001b[?25hRequirement already satisfied: graphviz in /usr/local/lib/python3.8/dist-packages (from pm4py) (0.10.1)\n",
            "Requirement already satisfied: lxml in /usr/local/lib/python3.8/dist-packages (from pm4py) (4.9.2)\n",
            "Requirement already satisfied: cvxopt in /usr/local/lib/python3.8/dist-packages (from pm4py) (1.3.0)\n",
            "Requirement already satisfied: pytz in /usr/local/lib/python3.8/dist-packages (from pm4py) (2022.7.1)\n",
            "Requirement already satisfied: pandas in /usr/local/lib/python3.8/dist-packages (from pm4py) (1.3.5)\n",
            "Requirement already satisfied: matplotlib in /usr/local/lib/python3.8/dist-packages (from pm4py) (3.2.2)\n",
            "Requirement already satisfied: numpy in /usr/local/lib/python3.8/dist-packages (from pm4py) (1.21.6)\n",
            "Requirement already satisfied: tqdm in /usr/local/lib/python3.8/dist-packages (from pm4py) (4.64.1)\n",
            "Collecting deprecation\n",
            "  Downloading deprecation-2.1.0-py2.py3-none-any.whl (11 kB)\n",
            "Requirement already satisfied: networkx in /usr/local/lib/python3.8/dist-packages (from pm4py) (3.0)\n",
            "Collecting stringdist\n",
            "  Downloading StringDist-1.0.9.tar.gz (7.4 kB)\n",
            "  Preparing metadata (setup.py) ... \u001b[?25l\u001b[?25hdone\n",
            "Requirement already satisfied: pydotplus in /usr/local/lib/python3.8/dist-packages (from pm4py) (2.0.2)\n",
            "Requirement already satisfied: scipy in /usr/local/lib/python3.8/dist-packages (from pm4py) (1.7.3)\n",
            "Requirement already satisfied: intervaltree in /usr/local/lib/python3.8/dist-packages (from pm4py) (2.1.0)\n",
            "Requirement already satisfied: packaging in /usr/local/lib/python3.8/dist-packages (from deprecation->pm4py) (23.0)\n",
            "Requirement already satisfied: sortedcontainers in /usr/local/lib/python3.8/dist-packages (from intervaltree->pm4py) (2.4.0)\n",
            "Requirement already satisfied: pyparsing!=2.0.4,!=2.1.2,!=2.1.6,>=2.0.1 in /usr/local/lib/python3.8/dist-packages (from matplotlib->pm4py) (3.0.9)\n",
            "Requirement already satisfied: python-dateutil>=2.1 in /usr/local/lib/python3.8/dist-packages (from matplotlib->pm4py) (2.8.2)\n",
            "Requirement already satisfied: cycler>=0.10 in /usr/local/lib/python3.8/dist-packages (from matplotlib->pm4py) (0.11.0)\n",
            "Requirement already satisfied: kiwisolver>=1.0.1 in /usr/local/lib/python3.8/dist-packages (from matplotlib->pm4py) (1.4.4)\n",
            "Requirement already satisfied: six>=1.5 in /usr/local/lib/python3.8/dist-packages (from python-dateutil>=2.1->matplotlib->pm4py) (1.15.0)\n",
            "Building wheels for collected packages: stringdist\n",
            "  Building wheel for stringdist (setup.py) ... \u001b[?25l\u001b[?25hdone\n",
            "  Created wheel for stringdist: filename=StringDist-1.0.9-cp38-cp38-linux_x86_64.whl size=24938 sha256=396b3c246a294974a090e5bfd8e647c35807a8afd3e7e9e1f5ef574f77d5c3fa\n",
            "  Stored in directory: /root/.cache/pip/wheels/7a/64/e2/16f6a25a62a78f951c1715adb24ba2271ae9d7872f42378c3a\n",
            "Successfully built stringdist\n",
            "Installing collected packages: stringdist, deprecation, pm4py\n",
            "Successfully installed deprecation-2.1.0 pm4py-2.5.2 stringdist-1.0.9\n"
          ]
        }
      ]
    },
    {
      "cell_type": "code",
      "source": [
        "from google.colab import auth\n",
        "auth.authenticate_user()"
      ],
      "metadata": {
        "id": "IrTL5G7bD7W6"
      },
      "execution_count": 4,
      "outputs": []
    },
    {
      "cell_type": "code",
      "source": [
        "# this assumes that the user has access to the mimic-iii dataset \n",
        "# replace project name to the project containing mimic-iii\n",
        "project_name = \"processmining-367815\" \n",
        "from google.cloud import bigquery\n",
        "client = bigquery.Client(project=project_name)"
      ],
      "metadata": {
        "id": "-aNc-OmPEAZq"
      },
      "execution_count": 57,
      "outputs": []
    },
    {
      "cell_type": "code",
      "source": [
        "import requests\n",
        "\n",
        "# read a query from the github repository\n",
        "url = f\"https://raw.githubusercontent.com/adamzbikowski/Process-Mining-Dissertation/{BRANCH}/sql_queries/{QUERY_NAME}\"\n",
        "query_bytes = requests.get(url).content\n",
        "\n",
        "# we must now decode this to turn the query into a string \n",
        "query = query_bytes.decode(\"utf-8\")"
      ],
      "metadata": {
        "id": "cLK5sJ_qwY5W"
      },
      "execution_count": 58,
      "outputs": []
    },
    {
      "cell_type": "code",
      "execution_count": 59,
      "metadata": {
        "colab": {
          "base_uri": "https://localhost:8080/",
          "height": 423
        },
        "id": "CmSHODCZCjHW",
        "outputId": "f1f329d9-34be-4fef-b1c9-bbcff1e5abe2"
      },
      "outputs": [
        {
          "output_type": "execute_result",
          "data": {
            "text/plain": [
              "        patient  activity           timestamp\n",
              "0        109129  Admitted 2188-07-11 00:58:00\n",
              "1        121510  Admitted 2133-04-16 21:12:00\n",
              "2        106469  Admitted 2109-02-16 23:14:00\n",
              "3        133732  Admitted 2167-10-06 18:35:00\n",
              "4        119601  Admitted 2198-02-09 14:58:00\n",
              "...         ...       ...                 ...\n",
              "140355   121061  Transfer 2126-07-06 22:00:47\n",
              "140356   150357  Transfer 2168-09-25 13:23:15\n",
              "140357   166021  Transfer 2146-09-15 03:16:45\n",
              "140358   137177  Transfer 2193-01-07 16:03:50\n",
              "140359   163110  Transfer 2170-11-14 17:12:12\n",
              "\n",
              "[140360 rows x 3 columns]"
            ],
            "text/html": [
              "\n",
              "  <div id=\"df-c075edcb-1700-4544-922e-7cc8eed0e921\">\n",
              "    <div class=\"colab-df-container\">\n",
              "      <div>\n",
              "<style scoped>\n",
              "    .dataframe tbody tr th:only-of-type {\n",
              "        vertical-align: middle;\n",
              "    }\n",
              "\n",
              "    .dataframe tbody tr th {\n",
              "        vertical-align: top;\n",
              "    }\n",
              "\n",
              "    .dataframe thead th {\n",
              "        text-align: right;\n",
              "    }\n",
              "</style>\n",
              "<table border=\"1\" class=\"dataframe\">\n",
              "  <thead>\n",
              "    <tr style=\"text-align: right;\">\n",
              "      <th></th>\n",
              "      <th>patient</th>\n",
              "      <th>activity</th>\n",
              "      <th>timestamp</th>\n",
              "    </tr>\n",
              "  </thead>\n",
              "  <tbody>\n",
              "    <tr>\n",
              "      <th>0</th>\n",
              "      <td>109129</td>\n",
              "      <td>Admitted</td>\n",
              "      <td>2188-07-11 00:58:00</td>\n",
              "    </tr>\n",
              "    <tr>\n",
              "      <th>1</th>\n",
              "      <td>121510</td>\n",
              "      <td>Admitted</td>\n",
              "      <td>2133-04-16 21:12:00</td>\n",
              "    </tr>\n",
              "    <tr>\n",
              "      <th>2</th>\n",
              "      <td>106469</td>\n",
              "      <td>Admitted</td>\n",
              "      <td>2109-02-16 23:14:00</td>\n",
              "    </tr>\n",
              "    <tr>\n",
              "      <th>3</th>\n",
              "      <td>133732</td>\n",
              "      <td>Admitted</td>\n",
              "      <td>2167-10-06 18:35:00</td>\n",
              "    </tr>\n",
              "    <tr>\n",
              "      <th>4</th>\n",
              "      <td>119601</td>\n",
              "      <td>Admitted</td>\n",
              "      <td>2198-02-09 14:58:00</td>\n",
              "    </tr>\n",
              "    <tr>\n",
              "      <th>...</th>\n",
              "      <td>...</td>\n",
              "      <td>...</td>\n",
              "      <td>...</td>\n",
              "    </tr>\n",
              "    <tr>\n",
              "      <th>140355</th>\n",
              "      <td>121061</td>\n",
              "      <td>Transfer</td>\n",
              "      <td>2126-07-06 22:00:47</td>\n",
              "    </tr>\n",
              "    <tr>\n",
              "      <th>140356</th>\n",
              "      <td>150357</td>\n",
              "      <td>Transfer</td>\n",
              "      <td>2168-09-25 13:23:15</td>\n",
              "    </tr>\n",
              "    <tr>\n",
              "      <th>140357</th>\n",
              "      <td>166021</td>\n",
              "      <td>Transfer</td>\n",
              "      <td>2146-09-15 03:16:45</td>\n",
              "    </tr>\n",
              "    <tr>\n",
              "      <th>140358</th>\n",
              "      <td>137177</td>\n",
              "      <td>Transfer</td>\n",
              "      <td>2193-01-07 16:03:50</td>\n",
              "    </tr>\n",
              "    <tr>\n",
              "      <th>140359</th>\n",
              "      <td>163110</td>\n",
              "      <td>Transfer</td>\n",
              "      <td>2170-11-14 17:12:12</td>\n",
              "    </tr>\n",
              "  </tbody>\n",
              "</table>\n",
              "<p>140360 rows × 3 columns</p>\n",
              "</div>\n",
              "      <button class=\"colab-df-convert\" onclick=\"convertToInteractive('df-c075edcb-1700-4544-922e-7cc8eed0e921')\"\n",
              "              title=\"Convert this dataframe to an interactive table.\"\n",
              "              style=\"display:none;\">\n",
              "        \n",
              "  <svg xmlns=\"http://www.w3.org/2000/svg\" height=\"24px\"viewBox=\"0 0 24 24\"\n",
              "       width=\"24px\">\n",
              "    <path d=\"M0 0h24v24H0V0z\" fill=\"none\"/>\n",
              "    <path d=\"M18.56 5.44l.94 2.06.94-2.06 2.06-.94-2.06-.94-.94-2.06-.94 2.06-2.06.94zm-11 1L8.5 8.5l.94-2.06 2.06-.94-2.06-.94L8.5 2.5l-.94 2.06-2.06.94zm10 10l.94 2.06.94-2.06 2.06-.94-2.06-.94-.94-2.06-.94 2.06-2.06.94z\"/><path d=\"M17.41 7.96l-1.37-1.37c-.4-.4-.92-.59-1.43-.59-.52 0-1.04.2-1.43.59L10.3 9.45l-7.72 7.72c-.78.78-.78 2.05 0 2.83L4 21.41c.39.39.9.59 1.41.59.51 0 1.02-.2 1.41-.59l7.78-7.78 2.81-2.81c.8-.78.8-2.07 0-2.86zM5.41 20L4 18.59l7.72-7.72 1.47 1.35L5.41 20z\"/>\n",
              "  </svg>\n",
              "      </button>\n",
              "      \n",
              "  <style>\n",
              "    .colab-df-container {\n",
              "      display:flex;\n",
              "      flex-wrap:wrap;\n",
              "      gap: 12px;\n",
              "    }\n",
              "\n",
              "    .colab-df-convert {\n",
              "      background-color: #E8F0FE;\n",
              "      border: none;\n",
              "      border-radius: 50%;\n",
              "      cursor: pointer;\n",
              "      display: none;\n",
              "      fill: #1967D2;\n",
              "      height: 32px;\n",
              "      padding: 0 0 0 0;\n",
              "      width: 32px;\n",
              "    }\n",
              "\n",
              "    .colab-df-convert:hover {\n",
              "      background-color: #E2EBFA;\n",
              "      box-shadow: 0px 1px 2px rgba(60, 64, 67, 0.3), 0px 1px 3px 1px rgba(60, 64, 67, 0.15);\n",
              "      fill: #174EA6;\n",
              "    }\n",
              "\n",
              "    [theme=dark] .colab-df-convert {\n",
              "      background-color: #3B4455;\n",
              "      fill: #D2E3FC;\n",
              "    }\n",
              "\n",
              "    [theme=dark] .colab-df-convert:hover {\n",
              "      background-color: #434B5C;\n",
              "      box-shadow: 0px 1px 3px 1px rgba(0, 0, 0, 0.15);\n",
              "      filter: drop-shadow(0px 1px 2px rgba(0, 0, 0, 0.3));\n",
              "      fill: #FFFFFF;\n",
              "    }\n",
              "  </style>\n",
              "\n",
              "      <script>\n",
              "        const buttonEl =\n",
              "          document.querySelector('#df-c075edcb-1700-4544-922e-7cc8eed0e921 button.colab-df-convert');\n",
              "        buttonEl.style.display =\n",
              "          google.colab.kernel.accessAllowed ? 'block' : 'none';\n",
              "\n",
              "        async function convertToInteractive(key) {\n",
              "          const element = document.querySelector('#df-c075edcb-1700-4544-922e-7cc8eed0e921');\n",
              "          const dataTable =\n",
              "            await google.colab.kernel.invokeFunction('convertToInteractive',\n",
              "                                                     [key], {});\n",
              "          if (!dataTable) return;\n",
              "\n",
              "          const docLinkHtml = 'Like what you see? Visit the ' +\n",
              "            '<a target=\"_blank\" href=https://colab.research.google.com/notebooks/data_table.ipynb>data table notebook</a>'\n",
              "            + ' to learn more about interactive tables.';\n",
              "          element.innerHTML = '';\n",
              "          dataTable['output_type'] = 'display_data';\n",
              "          await google.colab.output.renderOutput(dataTable, element);\n",
              "          const docLink = document.createElement('div');\n",
              "          docLink.innerHTML = docLinkHtml;\n",
              "          element.appendChild(docLink);\n",
              "        }\n",
              "      </script>\n",
              "    </div>\n",
              "  </div>\n",
              "  "
            ]
          },
          "metadata": {},
          "execution_count": 59
        }
      ],
      "source": [
        "import pandas as pd\n",
        "\n",
        "# loading event log from mimic-iii using bigQuery\n",
        "event_log = client.query(query).to_dataframe()\n",
        "# convert timestamp from object to datetime64\n",
        "event_log[\"timestamp\"] = pd.to_datetime(event_log[\"timestamp\"])\n",
        "event_log\n"
      ]
    },
    {
      "cell_type": "markdown",
      "metadata": {
        "id": "E5nBYFkHCjHY"
      },
      "source": [
        "## Section 2: Process Discovery"
      ]
    },
    {
      "cell_type": "code",
      "execution_count": 60,
      "metadata": {
        "colab": {
          "base_uri": "https://localhost:8080/"
        },
        "id": "q__4BhKCCjHY",
        "outputId": "71550a76-3766-478e-cccc-286c22a61f02"
      },
      "outputs": [
        {
          "output_type": "stream",
          "name": "stderr",
          "text": [
            "<ipython-input-60-aedec179434f>:3: DeprecatedWarning: format_dataframe is deprecated as of 2.3.0 and will be removed in 3.0.0. the format_dataframe function does not need application anymore.\n",
            "  event_log = pm.format_dataframe(event_log, case_id='patient', activity_key='activity', timestamp_key='timestamp')\n"
          ]
        },
        {
          "output_type": "stream",
          "name": "stdout",
          "text": [
            "Number of cases: 42652\n",
            "Number of events: 140360\n",
            "Start events: {'Admitted': 36881, 'Transfer': 5716, 'Discharged': 55}\n",
            "End events: {'Discharged': 42563, 'Transfer': 85, 'Admitted': 4}\n"
          ]
        }
      ],
      "source": [
        "import pm4py as pm\n",
        "\n",
        "event_log = pm.format_dataframe(event_log, case_id='patient', activity_key='activity', timestamp_key='timestamp')\n",
        "# lets get some information about the event log\n",
        "n_events = len(event_log)\n",
        "n_cases = len(event_log.patient.unique())\n",
        "start_events = pm.get_start_activities(event_log)\n",
        "end_events = pm.get_end_activities(event_log)\n",
        "print(f\"Number of cases: {n_cases}\\nNumber of events: {n_events}\")\n",
        "print(f\"Start events: {start_events}\\nEnd events: {end_events}\")\n"
      ]
    },
    {
      "cell_type": "code",
      "execution_count": 61,
      "metadata": {
        "id": "aETYaI3-CjHZ"
      },
      "outputs": [],
      "source": [
        "# lets improve the event log by filtering out the cases that do not start or end with a patient being admitted or discharged\n",
        "# this will simplify the model\n",
        "\n",
        "event_log = pm.filter_start_activities(event_log, ['Admitted'])\n",
        "event_log = pm.filter_end_activities(event_log,['Discharged'])"
      ]
    },
    {
      "cell_type": "code",
      "execution_count": 10,
      "metadata": {
        "id": "boYeNhZuCjHa",
        "colab": {
          "base_uri": "https://localhost:8080/"
        },
        "outputId": "2d34750b-f28e-4584-fb39-4233d5721d2d"
      },
      "outputs": [
        {
          "output_type": "stream",
          "name": "stderr",
          "text": [
            "/usr/local/lib/python3.8/dist-packages/pm4py/algo/discovery/dfg/adapters/pandas/df_statistics.py:73: SettingWithCopyWarning: \n",
            "A value is trying to be set on a copy of a slice from a DataFrame.\n",
            "Try using .loc[row_indexer,col_indexer] = value instead\n",
            "\n",
            "See the caveats in the documentation: https://pandas.pydata.org/pandas-docs/stable/user_guide/indexing.html#returning-a-view-versus-a-copy\n",
            "  df[start_timestamp_key] = df[timestamp_key]\n"
          ]
        }
      ],
      "source": [
        "net, initial_marking, final_marking = pm.discover_petri_net_alpha(event_log)"
      ]
    },
    {
      "cell_type": "code",
      "execution_count": 11,
      "metadata": {
        "colab": {
          "base_uri": "https://localhost:8080/",
          "height": 172
        },
        "id": "IIdzSIvdCjHa",
        "outputId": "bd1a6d95-eafb-458c-9cad-b3c6fc2678af"
      },
      "outputs": [
        {
          "output_type": "display_data",
          "data": {
            "image/png": "[encoded data removed]",
            "text/plain": [
              "<IPython.core.display.Image object>"
            ]
          },
          "metadata": {}
        }
      ],
      "source": [
        "import graphviz\n",
        "pm.view_petri_net(petri_net=net)"
      ]
    },
    {
      "cell_type": "code",
      "source": [
        "# inductive miner\n",
        "# much better result than when using alpha miner, petri net \n",
        "net, initial_marking, final_marking = pm.discover_petri_net_inductive(event_log)\n",
        "pm.view_petri_net(petri_net=net)"
      ],
      "metadata": {
        "id": "f6fgpjqRKw67",
        "outputId": "5f1db8d7-57c9-4dd6-dddb-9ba4c01bd332",
        "colab": {
          "base_uri": "https://localhost:8080/",
          "height": 196
        }
      },
      "execution_count": 12,
      "outputs": [
        {
          "output_type": "display_data",
          "data": {
            "image/png": "[encoded data removed]",
            "text/plain": [
              "<IPython.core.display.Image object>"
            ]
          },
          "metadata": {}
        }
      ]
    },
    {
      "cell_type": "code",
      "source": [
        "# heuristic miner\n",
        "heu_net = pm.discover_heuristics_net(event_log, dependency_threshold=0.99)\n",
        "pm.view_heuristics_net(heu_net)"
      ],
      "metadata": {
        "id": "SXk4_DHFLDpB",
        "outputId": "14ea2198-355f-469c-8dab-19f327170b8a",
        "colab": {
          "base_uri": "https://localhost:8080/",
          "height": 540
        }
      },
      "execution_count": 13,
      "outputs": [
        {
          "output_type": "display_data",
          "data": {
            "image/png": "[encoded data removed]",
            "text/plain": [
              "<IPython.core.display.Image object>"
            ]
          },
          "metadata": {}
        }
      ]
    },
    {
      "cell_type": "code",
      "source": [
        "# petri net from heuristics miner\n",
        "net, im, fm = pm.discover_petri_net_heuristics(event_log, dependency_threshold=0.99)\n",
        "pm.view_petri_net(net, im, fm)"
      ],
      "metadata": {
        "id": "EZOGRFF2LHwh",
        "outputId": "32541563-e032-45f1-8d10-702c8cb818a7",
        "colab": {
          "base_uri": "https://localhost:8080/",
          "height": 201
        }
      },
      "execution_count": 14,
      "outputs": [
        {
          "output_type": "display_data",
          "data": {
            "image/png": "[encoded data removed]",
            "text/plain": [
              "<IPython.core.display.Image object>"
            ]
          },
          "metadata": {}
        }
      ]
    },
    {
      "cell_type": "markdown",
      "source": [
        "## Section 3: Data Pre Processing\n",
        "\n"
      ],
      "metadata": {
        "id": "wQqrU3QsNC-4"
      }
    },
    {
      "cell_type": "code",
      "source": [
        "from pandas.core.window.ewm import partial\n",
        "import random\n",
        "# select the first 100 cases to test the LSTM methodology\n",
        "# lets first add a trace column to the event_log\n",
        "event_log['trace'] = event_log.groupby(['patient']).ngroup()\n",
        "\n",
        "# we can now select 100 random traces,\n",
        "# this will be repeated with a a larger number of traces\n",
        "# lets first initialise a random seed\n",
        "random.seed(9)\n",
        "random_traces = []\n",
        "\n",
        "for i in range(0,NUM_TRACES):\n",
        "  random_traces.append(random.randrange(0,n_cases))\n",
        "\n",
        "df = event_log[event_log['trace'].isin(random_traces)]\n",
        "partial_el = df[['trace', 'activity', 'timestamp' ]].reset_index(drop=True)\n",
        "partial_el"
      ],
      "metadata": {
        "id": "Hs9nC7zuNGeg",
        "colab": {
          "base_uri": "https://localhost:8080/",
          "height": 423
        },
        "outputId": "d65ae4ef-a8f4-4082-9901-5318eeadf33a"
      },
      "execution_count": 62,
      "outputs": [
        {
          "output_type": "execute_result",
          "data": {
            "text/plain": [
              "     trace    activity           timestamp\n",
              "0      253    Admitted 2187-07-25 11:58:00\n",
              "1      253    Transfer 2187-07-25 11:59:27\n",
              "2      253    Transfer 2187-07-26 11:56:57\n",
              "3      253  Discharged 2187-07-30 13:10:00\n",
              "4      345    Admitted 2108-01-10 22:33:00\n",
              "..     ...         ...                 ...\n",
              "291  36376    Admitted 2173-05-31 14:23:00\n",
              "292  36376    Transfer 2173-05-31 14:27:08\n",
              "293  36376    Transfer 2173-05-31 20:36:45\n",
              "294  36376    Transfer 2173-06-01 13:11:12\n",
              "295  36376  Discharged 2173-06-09 15:05:00\n",
              "\n",
              "[296 rows x 3 columns]"
            ],
            "text/html": [
              "\n",
              "  <div id=\"df-247ee3a5-45f4-4a6e-a9d7-4e036a1e3176\">\n",
              "    <div class=\"colab-df-container\">\n",
              "      <div>\n",
              "<style scoped>\n",
              "    .dataframe tbody tr th:only-of-type {\n",
              "        vertical-align: middle;\n",
              "    }\n",
              "\n",
              "    .dataframe tbody tr th {\n",
              "        vertical-align: top;\n",
              "    }\n",
              "\n",
              "    .dataframe thead th {\n",
              "        text-align: right;\n",
              "    }\n",
              "</style>\n",
              "<table border=\"1\" class=\"dataframe\">\n",
              "  <thead>\n",
              "    <tr style=\"text-align: right;\">\n",
              "      <th></th>\n",
              "      <th>trace</th>\n",
              "      <th>activity</th>\n",
              "      <th>timestamp</th>\n",
              "    </tr>\n",
              "  </thead>\n",
              "  <tbody>\n",
              "    <tr>\n",
              "      <th>0</th>\n",
              "      <td>253</td>\n",
              "      <td>Admitted</td>\n",
              "      <td>2187-07-25 11:58:00</td>\n",
              "    </tr>\n",
              "    <tr>\n",
              "      <th>1</th>\n",
              "      <td>253</td>\n",
              "      <td>Transfer</td>\n",
              "      <td>2187-07-25 11:59:27</td>\n",
              "    </tr>\n",
              "    <tr>\n",
              "      <th>2</th>\n",
              "      <td>253</td>\n",
              "      <td>Transfer</td>\n",
              "      <td>2187-07-26 11:56:57</td>\n",
              "    </tr>\n",
              "    <tr>\n",
              "      <th>3</th>\n",
              "      <td>253</td>\n",
              "      <td>Discharged</td>\n",
              "      <td>2187-07-30 13:10:00</td>\n",
              "    </tr>\n",
              "    <tr>\n",
              "      <th>4</th>\n",
              "      <td>345</td>\n",
              "      <td>Admitted</td>\n",
              "      <td>2108-01-10 22:33:00</td>\n",
              "    </tr>\n",
              "    <tr>\n",
              "      <th>...</th>\n",
              "      <td>...</td>\n",
              "      <td>...</td>\n",
              "      <td>...</td>\n",
              "    </tr>\n",
              "    <tr>\n",
              "      <th>291</th>\n",
              "      <td>36376</td>\n",
              "      <td>Admitted</td>\n",
              "      <td>2173-05-31 14:23:00</td>\n",
              "    </tr>\n",
              "    <tr>\n",
              "      <th>292</th>\n",
              "      <td>36376</td>\n",
              "      <td>Transfer</td>\n",
              "      <td>2173-05-31 14:27:08</td>\n",
              "    </tr>\n",
              "    <tr>\n",
              "      <th>293</th>\n",
              "      <td>36376</td>\n",
              "      <td>Transfer</td>\n",
              "      <td>2173-05-31 20:36:45</td>\n",
              "    </tr>\n",
              "    <tr>\n",
              "      <th>294</th>\n",
              "      <td>36376</td>\n",
              "      <td>Transfer</td>\n",
              "      <td>2173-06-01 13:11:12</td>\n",
              "    </tr>\n",
              "    <tr>\n",
              "      <th>295</th>\n",
              "      <td>36376</td>\n",
              "      <td>Discharged</td>\n",
              "      <td>2173-06-09 15:05:00</td>\n",
              "    </tr>\n",
              "  </tbody>\n",
              "</table>\n",
              "<p>296 rows × 3 columns</p>\n",
              "</div>\n",
              "      <button class=\"colab-df-convert\" onclick=\"convertToInteractive('df-247ee3a5-45f4-4a6e-a9d7-4e036a1e3176')\"\n",
              "              title=\"Convert this dataframe to an interactive table.\"\n",
              "              style=\"display:none;\">\n",
              "        \n",
              "  <svg xmlns=\"http://www.w3.org/2000/svg\" height=\"24px\"viewBox=\"0 0 24 24\"\n",
              "       width=\"24px\">\n",
              "    <path d=\"M0 0h24v24H0V0z\" fill=\"none\"/>\n",
              "    <path d=\"M18.56 5.44l.94 2.06.94-2.06 2.06-.94-2.06-.94-.94-2.06-.94 2.06-2.06.94zm-11 1L8.5 8.5l.94-2.06 2.06-.94-2.06-.94L8.5 2.5l-.94 2.06-2.06.94zm10 10l.94 2.06.94-2.06 2.06-.94-2.06-.94-.94-2.06-.94 2.06-2.06.94z\"/><path d=\"M17.41 7.96l-1.37-1.37c-.4-.4-.92-.59-1.43-.59-.52 0-1.04.2-1.43.59L10.3 9.45l-7.72 7.72c-.78.78-.78 2.05 0 2.83L4 21.41c.39.39.9.59 1.41.59.51 0 1.02-.2 1.41-.59l7.78-7.78 2.81-2.81c.8-.78.8-2.07 0-2.86zM5.41 20L4 18.59l7.72-7.72 1.47 1.35L5.41 20z\"/>\n",
              "  </svg>\n",
              "      </button>\n",
              "      \n",
              "  <style>\n",
              "    .colab-df-container {\n",
              "      display:flex;\n",
              "      flex-wrap:wrap;\n",
              "      gap: 12px;\n",
              "    }\n",
              "\n",
              "    .colab-df-convert {\n",
              "      background-color: #E8F0FE;\n",
              "      border: none;\n",
              "      border-radius: 50%;\n",
              "      cursor: pointer;\n",
              "      display: none;\n",
              "      fill: #1967D2;\n",
              "      height: 32px;\n",
              "      padding: 0 0 0 0;\n",
              "      width: 32px;\n",
              "    }\n",
              "\n",
              "    .colab-df-convert:hover {\n",
              "      background-color: #E2EBFA;\n",
              "      box-shadow: 0px 1px 2px rgba(60, 64, 67, 0.3), 0px 1px 3px 1px rgba(60, 64, 67, 0.15);\n",
              "      fill: #174EA6;\n",
              "    }\n",
              "\n",
              "    [theme=dark] .colab-df-convert {\n",
              "      background-color: #3B4455;\n",
              "      fill: #D2E3FC;\n",
              "    }\n",
              "\n",
              "    [theme=dark] .colab-df-convert:hover {\n",
              "      background-color: #434B5C;\n",
              "      box-shadow: 0px 1px 3px 1px rgba(0, 0, 0, 0.15);\n",
              "      filter: drop-shadow(0px 1px 2px rgba(0, 0, 0, 0.3));\n",
              "      fill: #FFFFFF;\n",
              "    }\n",
              "  </style>\n",
              "\n",
              "      <script>\n",
              "        const buttonEl =\n",
              "          document.querySelector('#df-247ee3a5-45f4-4a6e-a9d7-4e036a1e3176 button.colab-df-convert');\n",
              "        buttonEl.style.display =\n",
              "          google.colab.kernel.accessAllowed ? 'block' : 'none';\n",
              "\n",
              "        async function convertToInteractive(key) {\n",
              "          const element = document.querySelector('#df-247ee3a5-45f4-4a6e-a9d7-4e036a1e3176');\n",
              "          const dataTable =\n",
              "            await google.colab.kernel.invokeFunction('convertToInteractive',\n",
              "                                                     [key], {});\n",
              "          if (!dataTable) return;\n",
              "\n",
              "          const docLinkHtml = 'Like what you see? Visit the ' +\n",
              "            '<a target=\"_blank\" href=https://colab.research.google.com/notebooks/data_table.ipynb>data table notebook</a>'\n",
              "            + ' to learn more about interactive tables.';\n",
              "          element.innerHTML = '';\n",
              "          dataTable['output_type'] = 'display_data';\n",
              "          await google.colab.output.renderOutput(dataTable, element);\n",
              "          const docLink = document.createElement('div');\n",
              "          docLink.innerHTML = docLinkHtml;\n",
              "          element.appendChild(docLink);\n",
              "        }\n",
              "      </script>\n",
              "    </div>\n",
              "  </div>\n",
              "  "
            ]
          },
          "metadata": {},
          "execution_count": 62
        }
      ]
    },
    {
      "cell_type": "code",
      "source": [
        "# lets represent each activity using a statically defined number\n",
        "# this will prevent the need for using an embedding layer when traing the LSTM\n",
        "unique_activities = partial_el['activity'].unique()\n",
        "n_activities = len(unique_activities) + 1\n",
        "encode_activity = {unique_activities[i-1] : f'{i}' for i in range(1,n_activities)}\n",
        "\n",
        "# lets also create a second dictionary that will be used to decode predicted activities\n",
        "decode_activity = {f'{i}' : unique_activities[i-1] for i in range(1, len(unique_activities)+ 1)}\n",
        "encode_activity, decode_activity\n"
      ],
      "metadata": {
        "colab": {
          "base_uri": "https://localhost:8080/"
        },
        "id": "IGd5SwRG-_fI",
        "outputId": "09beab71-1496-4618-c657-8b9258a2175d"
      },
      "execution_count": 76,
      "outputs": [
        {
          "output_type": "execute_result",
          "data": {
            "text/plain": [
              "({'Admitted': '1', 'Transfer': '2', 'Discharged': '3'},\n",
              " {'1': 'Admitted', '2': 'Transfer', '3': 'Discharged'})"
            ]
          },
          "metadata": {},
          "execution_count": 76
        }
      ]
    },
    {
      "cell_type": "code",
      "source": [
        "import numpy as np\n",
        "# create a new labeled data frame\n",
        "\n",
        "def label(el):\n",
        "  # initialise data frame \n",
        " \n",
        "  prefix_arr, suffix_arr, label_arr = [], [], []\n",
        "  labeled_arr = []\n",
        "  unique_traces = el['trace'].unique()\n",
        "  traces = {x : pd.DataFrame() for x in unique_traces} \n",
        "\n",
        "  for t in unique_traces:\n",
        "    traces[t] = el[:][el.trace == t]  \n",
        "  \n",
        "  for t in unique_traces:\n",
        "    df = traces[t].sort_values(by='timestamp')\n",
        "    activities = []\n",
        "    for i in df.index:\n",
        "      activity = encode_activity.get(df['activity'][i])\n",
        "      activities.append(activity)\n",
        "    \n",
        "    length = len(activities)\n",
        "    \n",
        "    for i in range(length):\n",
        "\n",
        "      # prefix = activities[:i]\n",
        "      label = activities[i]\n",
        "      prefix = activities[:i]\n",
        "      suffix = []\n",
        "\n",
        "      if i != length - 1:\n",
        "        suffix = activities[i+1:]\n",
        "      padding = []\n",
        "\n",
        "      while len(prefix) + len(padding) < PREFIX_LENGTH:\n",
        "        padding.append('0')\n",
        "      \n",
        "      prefix = padding + prefix\n",
        "        \n",
        "      while len(suffix) < PREFIX_LENGTH:\n",
        "        suffix.append('0')\n",
        "\n",
        "      prefix_arr.append(np.array(prefix[0:PREFIX_LENGTH], dtype=int))\n",
        "      suffix_arr.append(np.array(suffix[0:PREFIX_LENGTH], dtype=int))\n",
        "      label_arr.append(label)\n",
        "\n",
        "  return pd.DataFrame({'prefix' : prefix_arr, \n",
        "                       'suffix' : suffix_arr,\n",
        "                       'label' : label_arr})\n",
        " "
      ],
      "metadata": {
        "id": "aw2gXPwQ5BpM"
      },
      "execution_count": 64,
      "outputs": []
    },
    {
      "cell_type": "code",
      "source": [
        "from sklearn.model_selection import train_test_split\n",
        "\n",
        "# label event log\n",
        "labeled_el = label(partial_el)\n",
        "\n",
        "# split event log into a train and test set  \n",
        "train_el, test_el  = train_test_split(labeled_el, test_size=TEST_SIZE, random_state=9)\n",
        "train_el\n"
      ],
      "metadata": {
        "id": "wBTD25EXYtal",
        "outputId": "5c778c45-383e-4e6c-c031-afb6e3284bbc",
        "colab": {
          "base_uri": "https://localhost:8080/",
          "height": 423
        }
      },
      "execution_count": 71,
      "outputs": [
        {
          "output_type": "execute_result",
          "data": {
            "text/plain": [
              "              prefix           suffix label\n",
              "69   [0, 0, 0, 0, 1]  [3, 0, 0, 0, 0]     2\n",
              "54   [0, 0, 0, 1, 2]  [0, 0, 0, 0, 0]     3\n",
              "99   [0, 0, 1, 2, 2]  [0, 0, 0, 0, 0]     3\n",
              "103  [0, 0, 0, 0, 0]  [2, 2, 3, 0, 0]     1\n",
              "240  [0, 0, 0, 0, 0]  [2, 2, 3, 0, 0]     1\n",
              "..               ...              ...   ...\n",
              "65   [0, 0, 0, 0, 0]  [2, 3, 0, 0, 0]     1\n",
              "125  [0, 0, 0, 0, 1]  [3, 0, 0, 0, 0]     2\n",
              "251  [0, 0, 0, 0, 0]  [2, 3, 0, 0, 0]     1\n",
              "56   [0, 0, 0, 0, 1]  [2, 3, 0, 0, 0]     2\n",
              "126  [0, 0, 0, 1, 2]  [0, 0, 0, 0, 0]     3\n",
              "\n",
              "[236 rows x 3 columns]"
            ],
            "text/html": [
              "\n",
              "  <div id=\"df-15b6a6f8-2137-4a07-af87-faed7bb748b0\">\n",
              "    <div class=\"colab-df-container\">\n",
              "      <div>\n",
              "<style scoped>\n",
              "    .dataframe tbody tr th:only-of-type {\n",
              "        vertical-align: middle;\n",
              "    }\n",
              "\n",
              "    .dataframe tbody tr th {\n",
              "        vertical-align: top;\n",
              "    }\n",
              "\n",
              "    .dataframe thead th {\n",
              "        text-align: right;\n",
              "    }\n",
              "</style>\n",
              "<table border=\"1\" class=\"dataframe\">\n",
              "  <thead>\n",
              "    <tr style=\"text-align: right;\">\n",
              "      <th></th>\n",
              "      <th>prefix</th>\n",
              "      <th>suffix</th>\n",
              "      <th>label</th>\n",
              "    </tr>\n",
              "  </thead>\n",
              "  <tbody>\n",
              "    <tr>\n",
              "      <th>69</th>\n",
              "      <td>[0, 0, 0, 0, 1]</td>\n",
              "      <td>[3, 0, 0, 0, 0]</td>\n",
              "      <td>2</td>\n",
              "    </tr>\n",
              "    <tr>\n",
              "      <th>54</th>\n",
              "      <td>[0, 0, 0, 1, 2]</td>\n",
              "      <td>[0, 0, 0, 0, 0]</td>\n",
              "      <td>3</td>\n",
              "    </tr>\n",
              "    <tr>\n",
              "      <th>99</th>\n",
              "      <td>[0, 0, 1, 2, 2]</td>\n",
              "      <td>[0, 0, 0, 0, 0]</td>\n",
              "      <td>3</td>\n",
              "    </tr>\n",
              "    <tr>\n",
              "      <th>103</th>\n",
              "      <td>[0, 0, 0, 0, 0]</td>\n",
              "      <td>[2, 2, 3, 0, 0]</td>\n",
              "      <td>1</td>\n",
              "    </tr>\n",
              "    <tr>\n",
              "      <th>240</th>\n",
              "      <td>[0, 0, 0, 0, 0]</td>\n",
              "      <td>[2, 2, 3, 0, 0]</td>\n",
              "      <td>1</td>\n",
              "    </tr>\n",
              "    <tr>\n",
              "      <th>...</th>\n",
              "      <td>...</td>\n",
              "      <td>...</td>\n",
              "      <td>...</td>\n",
              "    </tr>\n",
              "    <tr>\n",
              "      <th>65</th>\n",
              "      <td>[0, 0, 0, 0, 0]</td>\n",
              "      <td>[2, 3, 0, 0, 0]</td>\n",
              "      <td>1</td>\n",
              "    </tr>\n",
              "    <tr>\n",
              "      <th>125</th>\n",
              "      <td>[0, 0, 0, 0, 1]</td>\n",
              "      <td>[3, 0, 0, 0, 0]</td>\n",
              "      <td>2</td>\n",
              "    </tr>\n",
              "    <tr>\n",
              "      <th>251</th>\n",
              "      <td>[0, 0, 0, 0, 0]</td>\n",
              "      <td>[2, 3, 0, 0, 0]</td>\n",
              "      <td>1</td>\n",
              "    </tr>\n",
              "    <tr>\n",
              "      <th>56</th>\n",
              "      <td>[0, 0, 0, 0, 1]</td>\n",
              "      <td>[2, 3, 0, 0, 0]</td>\n",
              "      <td>2</td>\n",
              "    </tr>\n",
              "    <tr>\n",
              "      <th>126</th>\n",
              "      <td>[0, 0, 0, 1, 2]</td>\n",
              "      <td>[0, 0, 0, 0, 0]</td>\n",
              "      <td>3</td>\n",
              "    </tr>\n",
              "  </tbody>\n",
              "</table>\n",
              "<p>236 rows × 3 columns</p>\n",
              "</div>\n",
              "      <button class=\"colab-df-convert\" onclick=\"convertToInteractive('df-15b6a6f8-2137-4a07-af87-faed7bb748b0')\"\n",
              "              title=\"Convert this dataframe to an interactive table.\"\n",
              "              style=\"display:none;\">\n",
              "        \n",
              "  <svg xmlns=\"http://www.w3.org/2000/svg\" height=\"24px\"viewBox=\"0 0 24 24\"\n",
              "       width=\"24px\">\n",
              "    <path d=\"M0 0h24v24H0V0z\" fill=\"none\"/>\n",
              "    <path d=\"M18.56 5.44l.94 2.06.94-2.06 2.06-.94-2.06-.94-.94-2.06-.94 2.06-2.06.94zm-11 1L8.5 8.5l.94-2.06 2.06-.94-2.06-.94L8.5 2.5l-.94 2.06-2.06.94zm10 10l.94 2.06.94-2.06 2.06-.94-2.06-.94-.94-2.06-.94 2.06-2.06.94z\"/><path d=\"M17.41 7.96l-1.37-1.37c-.4-.4-.92-.59-1.43-.59-.52 0-1.04.2-1.43.59L10.3 9.45l-7.72 7.72c-.78.78-.78 2.05 0 2.83L4 21.41c.39.39.9.59 1.41.59.51 0 1.02-.2 1.41-.59l7.78-7.78 2.81-2.81c.8-.78.8-2.07 0-2.86zM5.41 20L4 18.59l7.72-7.72 1.47 1.35L5.41 20z\"/>\n",
              "  </svg>\n",
              "      </button>\n",
              "      \n",
              "  <style>\n",
              "    .colab-df-container {\n",
              "      display:flex;\n",
              "      flex-wrap:wrap;\n",
              "      gap: 12px;\n",
              "    }\n",
              "\n",
              "    .colab-df-convert {\n",
              "      background-color: #E8F0FE;\n",
              "      border: none;\n",
              "      border-radius: 50%;\n",
              "      cursor: pointer;\n",
              "      display: none;\n",
              "      fill: #1967D2;\n",
              "      height: 32px;\n",
              "      padding: 0 0 0 0;\n",
              "      width: 32px;\n",
              "    }\n",
              "\n",
              "    .colab-df-convert:hover {\n",
              "      background-color: #E2EBFA;\n",
              "      box-shadow: 0px 1px 2px rgba(60, 64, 67, 0.3), 0px 1px 3px 1px rgba(60, 64, 67, 0.15);\n",
              "      fill: #174EA6;\n",
              "    }\n",
              "\n",
              "    [theme=dark] .colab-df-convert {\n",
              "      background-color: #3B4455;\n",
              "      fill: #D2E3FC;\n",
              "    }\n",
              "\n",
              "    [theme=dark] .colab-df-convert:hover {\n",
              "      background-color: #434B5C;\n",
              "      box-shadow: 0px 1px 3px 1px rgba(0, 0, 0, 0.15);\n",
              "      filter: drop-shadow(0px 1px 2px rgba(0, 0, 0, 0.3));\n",
              "      fill: #FFFFFF;\n",
              "    }\n",
              "  </style>\n",
              "\n",
              "      <script>\n",
              "        const buttonEl =\n",
              "          document.querySelector('#df-15b6a6f8-2137-4a07-af87-faed7bb748b0 button.colab-df-convert');\n",
              "        buttonEl.style.display =\n",
              "          google.colab.kernel.accessAllowed ? 'block' : 'none';\n",
              "\n",
              "        async function convertToInteractive(key) {\n",
              "          const element = document.querySelector('#df-15b6a6f8-2137-4a07-af87-faed7bb748b0');\n",
              "          const dataTable =\n",
              "            await google.colab.kernel.invokeFunction('convertToInteractive',\n",
              "                                                     [key], {});\n",
              "          if (!dataTable) return;\n",
              "\n",
              "          const docLinkHtml = 'Like what you see? Visit the ' +\n",
              "            '<a target=\"_blank\" href=https://colab.research.google.com/notebooks/data_table.ipynb>data table notebook</a>'\n",
              "            + ' to learn more about interactive tables.';\n",
              "          element.innerHTML = '';\n",
              "          dataTable['output_type'] = 'display_data';\n",
              "          await google.colab.output.renderOutput(dataTable, element);\n",
              "          const docLink = document.createElement('div');\n",
              "          docLink.innerHTML = docLinkHtml;\n",
              "          element.appendChild(docLink);\n",
              "        }\n",
              "      </script>\n",
              "    </div>\n",
              "  </div>\n",
              "  "
            ]
          },
          "metadata": {},
          "execution_count": 71
        }
      ]
    },
    {
      "cell_type": "code",
      "source": [
        "from copy import deepcopy\n",
        "\n",
        "# declare the label of each activity in the test set as missing\n",
        "# return actual labels as targets array for validation\n",
        "def missing(el):\n",
        " \n",
        "  # need to deepcopy targets to derefrence them from dataframe  \n",
        "  targets = deepcopy(el['label'])\n",
        "  el['label'] = 'missing'\n",
        "  return el, targets.to_numpy()"
      ],
      "metadata": {
        "id": "xA8IXkTpdN15"
      },
      "execution_count": 72,
      "outputs": []
    },
    {
      "cell_type": "code",
      "source": [
        "# train_targets = train_el['label'].to_numpy()\n",
        "test_el, test_targets = missing(test_el)\n",
        "test_el, test_targets"
      ],
      "metadata": {
        "id": "rnFG83cIgWs4",
        "colab": {
          "base_uri": "https://localhost:8080/"
        },
        "outputId": "9f2a99de-9459-41e0-d5de-f5861f53e13d"
      },
      "execution_count": 73,
      "outputs": [
        {
          "output_type": "execute_result",
          "data": {
            "text/plain": [
              "(              prefix           suffix    label\n",
              " 95   [0, 0, 0, 1, 2]  [0, 0, 0, 0, 0]  missing\n",
              " 127  [0, 0, 0, 0, 0]  [2, 3, 0, 0, 0]  missing\n",
              " 31   [0, 0, 0, 1, 2]  [2, 2, 2, 3, 0]  missing\n",
              " 83   [0, 0, 1, 2, 2]  [2, 3, 0, 0, 0]  missing\n",
              " 291  [0, 0, 0, 0, 0]  [2, 2, 2, 3, 0]  missing\n",
              " 133  [0, 0, 1, 2, 2]  [0, 0, 0, 0, 0]  missing\n",
              " 89   [0, 0, 0, 0, 0]  [2, 2, 3, 0, 0]  missing\n",
              " 123  [0, 0, 1, 2, 2]  [0, 0, 0, 0, 0]  missing\n",
              " 124  [0, 0, 0, 0, 0]  [2, 3, 0, 0, 0]  missing\n",
              " 162  [0, 0, 0, 1, 2]  [0, 0, 0, 0, 0]  missing\n",
              " 88   [0, 0, 0, 1, 2]  [0, 0, 0, 0, 0]  missing\n",
              " 105  [0, 0, 0, 1, 2]  [3, 0, 0, 0, 0]  missing\n",
              " 281  [0, 0, 0, 1, 2]  [0, 0, 0, 0, 0]  missing\n",
              " 37   [0, 0, 0, 0, 1]  [2, 3, 0, 0, 0]  missing\n",
              " 177  [0, 0, 0, 0, 1]  [2, 3, 0, 0, 0]  missing\n",
              " 15   [0, 0, 0, 1, 2]  [3, 0, 0, 0, 0]  missing\n",
              " 201  [0, 0, 0, 0, 1]  [2, 3, 0, 0, 0]  missing\n",
              " 152  [0, 0, 0, 0, 1]  [2, 2, 3, 0, 0]  missing\n",
              " 172  [0, 0, 0, 1, 2]  [0, 0, 0, 0, 0]  missing\n",
              " 57   [0, 0, 0, 1, 2]  [3, 0, 0, 0, 0]  missing\n",
              " 81   [0, 0, 0, 0, 1]  [2, 2, 2, 3, 0]  missing\n",
              " 38   [0, 0, 0, 1, 2]  [3, 0, 0, 0, 0]  missing\n",
              " 269  [0, 0, 0, 1, 2]  [0, 0, 0, 0, 0]  missing\n",
              " 62   [0, 0, 0, 0, 0]  [2, 3, 0, 0, 0]  missing\n",
              " 220  [0, 0, 0, 1, 2]  [0, 0, 0, 0, 0]  missing\n",
              " 242  [0, 0, 0, 1, 2]  [3, 0, 0, 0, 0]  missing\n",
              " 159  [0, 0, 1, 2, 2]  [0, 0, 0, 0, 0]  missing\n",
              " 122  [0, 0, 0, 1, 2]  [3, 0, 0, 0, 0]  missing\n",
              " 80   [0, 0, 0, 0, 0]  [2, 2, 2, 2, 3]  missing\n",
              " 4    [0, 0, 0, 0, 0]  [2, 3, 0, 0, 0]  missing\n",
              " 39   [0, 0, 1, 2, 2]  [0, 0, 0, 0, 0]  missing\n",
              " 213  [0, 0, 0, 1, 2]  [3, 0, 0, 0, 0]  missing\n",
              " 17   [0, 0, 0, 0, 0]  [2, 3, 0, 0, 0]  missing\n",
              " 106  [0, 0, 1, 2, 2]  [0, 0, 0, 0, 0]  missing\n",
              " 101  [0, 0, 0, 0, 1]  [3, 0, 0, 0, 0]  missing\n",
              " 150  [0, 0, 0, 1, 2]  [0, 0, 0, 0, 0]  missing\n",
              " 183  [0, 0, 0, 0, 0]  [2, 3, 0, 0, 0]  missing\n",
              " 134  [0, 0, 0, 0, 0]  [2, 2, 3, 0, 0]  missing\n",
              " 75   [0, 1, 2, 2, 2]  [3, 0, 0, 0, 0]  missing\n",
              " 51   [0, 0, 0, 1, 2]  [0, 0, 0, 0, 0]  missing\n",
              " 104  [0, 0, 0, 0, 1]  [2, 3, 0, 0, 0]  missing\n",
              " 261  [0, 0, 0, 0, 0]  [2, 3, 0, 0, 0]  missing\n",
              " 259  [0, 0, 0, 0, 1]  [3, 0, 0, 0, 0]  missing\n",
              " 243  [0, 0, 1, 2, 2]  [0, 0, 0, 0, 0]  missing\n",
              " 131  [0, 0, 0, 0, 1]  [2, 3, 0, 0, 0]  missing\n",
              " 32   [0, 0, 1, 2, 2]  [2, 2, 3, 0, 0]  missing\n",
              " 236  [0, 0, 1, 2, 2]  [0, 0, 0, 0, 0]  missing\n",
              " 60   [0, 0, 0, 0, 1]  [3, 0, 0, 0, 0]  missing\n",
              " 153  [0, 0, 0, 1, 2]  [2, 3, 0, 0, 0]  missing\n",
              " 180  [0, 0, 0, 0, 0]  [2, 3, 0, 0, 0]  missing\n",
              " 71   [0, 0, 0, 0, 0]  [2, 2, 2, 2, 3]  missing\n",
              " 207  [0, 0, 1, 2, 2]  [0, 0, 0, 0, 0]  missing\n",
              " 279  [0, 0, 0, 0, 0]  [2, 3, 0, 0, 0]  missing\n",
              " 175  [0, 0, 0, 1, 2]  [0, 0, 0, 0, 0]  missing\n",
              " 217  [0, 0, 0, 1, 2]  [0, 0, 0, 0, 0]  missing\n",
              " 44   [0, 0, 0, 0, 1]  [3, 0, 0, 0, 0]  missing\n",
              " 215  [0, 0, 0, 0, 0]  [2, 3, 0, 0, 0]  missing\n",
              " 276  [0, 0, 0, 0, 0]  [2, 3, 0, 0, 0]  missing\n",
              " 171  [0, 0, 0, 0, 1]  [3, 0, 0, 0, 0]  missing\n",
              " 53   [0, 0, 0, 0, 1]  [3, 0, 0, 0, 0]  missing,\n",
              " array(['3', '1', '2', '2', '1', '3', '1', '3', '1', '3', '3', '2', '3',\n",
              "        '2', '2', '2', '2', '2', '3', '2', '2', '2', '3', '1', '3', '2',\n",
              "        '3', '2', '1', '1', '3', '2', '1', '3', '2', '3', '1', '1', '2',\n",
              "        '3', '2', '1', '2', '3', '2', '2', '3', '2', '2', '1', '1', '3',\n",
              "        '1', '3', '3', '2', '1', '1', '2', '2'], dtype=object))"
            ]
          },
          "metadata": {},
          "execution_count": 73
        }
      ]
    },
    {
      "cell_type": "code",
      "source": [
        "# create validation set\n",
        "train_el, validation_el = train_test_split(train_el, test_size=VALIDATION_SIZE, random_state=9)"
      ],
      "metadata": {
        "id": "p88RY8E-y-vK"
      },
      "execution_count": 74,
      "outputs": []
    },
    {
      "cell_type": "code",
      "source": [
        "from keras.utils import to_categorical\n",
        "\n",
        "def format_input(el, train=False):\n",
        "\n",
        "  prefix_x = np.array(el['prefix'])\n",
        "  prefix_x = np.stack(prefix_x)\n",
        "  prefix_x = prefix_x.reshape(prefix_x.shape[0], prefix_x.shape[1], 1)\n",
        "  \n",
        "  suffix_x = np.array(el['suffix'])\n",
        "  suffix_x = np.stack(suffix_x)\n",
        "  suffix_x = suffix_x.reshape(suffix_x.shape[0], suffix_x.shape[1], 1)\n",
        "\n",
        "  x = np.concatenate(([prefix_x], [suffix_x]))\n",
        "\n",
        "  y = np.array(el['label'])\n",
        "  y = np.stack(y)\n",
        "  \n",
        "  if train is False:\n",
        "    y_encoded = to_categorical(y,n_activities)\n",
        "    return x, y_encoded\n",
        "  \n",
        "  return x, y"
      ],
      "metadata": {
        "id": "nW4QoUeN7tD0"
      },
      "execution_count": 77,
      "outputs": []
    },
    {
      "cell_type": "code",
      "source": [
        "train_x, train_y = format_input(train_el) \n",
        "validation_x, validation_y = format_input(validation_el)\n",
        "test_x, test_y = format_input(test_el, train=True)\n"
      ],
      "metadata": {
        "id": "gKFqX1mH8LON"
      },
      "execution_count": 79,
      "outputs": []
    },
    {
      "cell_type": "markdown",
      "source": [
        "## Section 4: Predicting Missing Activities using LSTM"
      ],
      "metadata": {
        "id": "EXAnlX9-9ucz"
      }
    },
    {
      "cell_type": "code",
      "source": [
        "# forwards LSTM\n",
        "from numpy import array\n",
        "from keras.models import Sequential\n",
        "from keras.layers import LSTM, Dense, Softmax, Bidirectional, Embedding\n",
        "\n",
        "\n",
        "model = Sequential()\n",
        "model.add(Embedding(input_dim=n_activities, output_dim=50))\n",
        "model.add(LSTM(50, activation='relu', return_sequences=False, input_shape=(PREFIX_LENGTH, 1)))\n",
        "model.add(Dense(n_activities, activation='softmax'))\n",
        "\n",
        "model.compile(optimizer='adam', loss='categorical_crossentropy', metrics=['accuracy'])\n",
        "model.summary()\n",
        "model.fit(train_x[0], train_y, validation_data=(validation_x[0], validation_y), epochs=10)\n",
        "# model.fit(train_x[0], train, epochs=10)\n",
        "\n"
      ],
      "metadata": {
        "id": "oCr7EikZNzvZ",
        "outputId": "785e0aa5-b0a0-44e3-f57c-6011a3bdd288",
        "colab": {
          "base_uri": "https://localhost:8080/"
        }
      },
      "execution_count": 81,
      "outputs": [
        {
          "output_type": "stream",
          "name": "stdout",
          "text": [
            "Model: \"sequential_8\"\n",
            "_________________________________________________________________\n",
            " Layer (type)                Output Shape              Param #   \n",
            "=================================================================\n",
            " embedding_9 (Embedding)     (None, None, 50)          200       \n",
            "                                                                 \n",
            " lstm_8 (LSTM)               (None, 50)                20200     \n",
            "                                                                 \n",
            " dense_8 (Dense)             (None, 4)                 204       \n",
            "                                                                 \n",
            "=================================================================\n",
            "Total params: 20,604\n",
            "Trainable params: 20,604\n",
            "Non-trainable params: 0\n",
            "_________________________________________________________________\n",
            "Epoch 1/10\n",
            "6/6 [==============================] - 2s 83ms/step - loss: 1.3825 - accuracy: 0.3032 - val_loss: 1.3716 - val_accuracy: 0.2083\n",
            "Epoch 2/10\n",
            "6/6 [==============================] - 0s 15ms/step - loss: 1.3630 - accuracy: 0.4255 - val_loss: 1.3551 - val_accuracy: 0.5000\n",
            "Epoch 3/10\n",
            "6/6 [==============================] - 0s 14ms/step - loss: 1.3439 - accuracy: 0.6170 - val_loss: 1.3344 - val_accuracy: 0.5000\n",
            "Epoch 4/10\n",
            "6/6 [==============================] - 0s 14ms/step - loss: 1.3192 - accuracy: 0.5638 - val_loss: 1.3074 - val_accuracy: 0.4167\n",
            "Epoch 5/10\n",
            "6/6 [==============================] - 0s 15ms/step - loss: 1.2871 - accuracy: 0.5000 - val_loss: 1.2721 - val_accuracy: 0.4167\n",
            "Epoch 6/10\n",
            "6/6 [==============================] - 0s 16ms/step - loss: 1.2422 - accuracy: 0.5000 - val_loss: 1.2215 - val_accuracy: 0.4167\n",
            "Epoch 7/10\n",
            "6/6 [==============================] - 0s 14ms/step - loss: 1.1799 - accuracy: 0.5000 - val_loss: 1.1552 - val_accuracy: 0.4167\n",
            "Epoch 8/10\n",
            "6/6 [==============================] - 0s 16ms/step - loss: 1.0941 - accuracy: 0.5000 - val_loss: 1.0694 - val_accuracy: 0.4167\n",
            "Epoch 9/10\n",
            "6/6 [==============================] - 0s 14ms/step - loss: 0.9877 - accuracy: 0.5000 - val_loss: 0.9582 - val_accuracy: 0.4167\n",
            "Epoch 10/10\n",
            "6/6 [==============================] - 0s 14ms/step - loss: 0.8674 - accuracy: 0.5000 - val_loss: 0.7964 - val_accuracy: 0.4167\n"
          ]
        },
        {
          "output_type": "execute_result",
          "data": {
            "text/plain": [
              "<keras.callbacks.History at 0x7f8498e2c700>"
            ]
          },
          "metadata": {},
          "execution_count": 81
        }
      ]
    },
    {
      "cell_type": "code",
      "source": [
        "predictions_prefix = model.predict(test_x[0])\n",
        "# predictions"
      ],
      "metadata": {
        "id": "57gUZvKxw7b4",
        "colab": {
          "base_uri": "https://localhost:8080/"
        },
        "outputId": "ad173e00-0555-4054-c90c-47b46c4bb5e8"
      },
      "execution_count": 82,
      "outputs": [
        {
          "output_type": "stream",
          "name": "stdout",
          "text": [
            "2/2 [==============================] - 0s 10ms/step\n"
          ]
        }
      ]
    },
    {
      "cell_type": "code",
      "source": [
        "def evaluate(predictions, verbose=False):\n",
        "  correct = 0 \n",
        "  incorrect = 0\n",
        "  for i in range(len(test_targets)):\n",
        "    prediction = np.argmax(predictions[i])\n",
        "    if int(prediction) == int(test_targets[i]):\n",
        "      correct += 1\n",
        "    else:\n",
        "      if verbose:\n",
        "        print(f\"predicted : {prediction}; expected : {test_targets[i]}\")\n",
        "      incorrect += 1\n",
        "\n",
        "\n",
        "  accuracy = correct/(correct + incorrect)\n",
        "  return accuracy"
      ],
      "metadata": {
        "id": "chY_KuqZwm1J"
      },
      "execution_count": 83,
      "outputs": []
    },
    {
      "cell_type": "code",
      "source": [
        "evaluate(predictions_prefix)"
      ],
      "metadata": {
        "id": "rHxx_hWFoJ7J",
        "outputId": "0dbf50f0-acd1-40fd-f06f-5e2bf0a55968",
        "colab": {
          "base_uri": "https://localhost:8080/"
        }
      },
      "execution_count": 84,
      "outputs": [
        {
          "output_type": "execute_result",
          "data": {
            "text/plain": [
              "0.5"
            ]
          },
          "metadata": {},
          "execution_count": 84
        }
      ]
    },
    {
      "cell_type": "code",
      "source": [
        "# backwards LSTM\n",
        "from numpy import array\n",
        "from keras.models import Sequential\n",
        "from keras.layers import LSTM, Dense, Softmax, Bidirectional, Embedding\n",
        "\n",
        "\n",
        "model = Sequential()\n",
        "model.add(Embedding(input_dim=4, output_dim=50))\n",
        "model.add(LSTM(50, activation='relu', return_sequences=False, input_shape=(5, 1)))\n",
        "# model.add(Softmax())\n",
        "model.add(Dense(4, activation='softmax'))\n",
        "\n",
        "model.compile(optimizer='adam', loss='categorical_crossentropy', metrics=['accuracy'])\n",
        "model.summary()\n",
        "model.fit(train_x[1], train_y, validation_data=(validation_x[1], validation_y), epochs=10)\n",
        "# model.fit(train_x[0], train, epochs=10)\n",
        "\n"
      ],
      "metadata": {
        "colab": {
          "base_uri": "https://localhost:8080/"
        },
        "id": "m6M3ftNNPzC4",
        "outputId": "b982878a-a4b6-4427-bfd5-743e4415aab2"
      },
      "execution_count": 53,
      "outputs": [
        {
          "output_type": "stream",
          "name": "stdout",
          "text": [
            "Model: \"sequential_6\"\n",
            "_________________________________________________________________\n",
            " Layer (type)                Output Shape              Param #   \n",
            "=================================================================\n",
            " embedding_6 (Embedding)     (None, None, 50)          200       \n",
            "                                                                 \n",
            " lstm_6 (LSTM)               (None, 50)                20200     \n",
            "                                                                 \n",
            " dense_6 (Dense)             (None, 4)                 204       \n",
            "                                                                 \n",
            "=================================================================\n",
            "Total params: 20,604\n",
            "Trainable params: 20,604\n",
            "Non-trainable params: 0\n",
            "_________________________________________________________________\n",
            "Epoch 1/10\n",
            "56/56 [==============================] - 2s 12ms/step - loss: 1.2812 - accuracy: 0.3778 - val_loss: 1.0394 - val_accuracy: 0.4308\n",
            "Epoch 2/10\n",
            "56/56 [==============================] - 0s 7ms/step - loss: 0.4907 - accuracy: 0.7879 - val_loss: 0.2374 - val_accuracy: 0.9062\n",
            "Epoch 3/10\n",
            "56/56 [==============================] - 0s 8ms/step - loss: 0.2381 - accuracy: 0.9012 - val_loss: 0.2401 - val_accuracy: 0.9062\n",
            "Epoch 4/10\n",
            "56/56 [==============================] - 0s 7ms/step - loss: 0.2361 - accuracy: 0.9012 - val_loss: 0.2261 - val_accuracy: 0.9062\n",
            "Epoch 5/10\n",
            "56/56 [==============================] - 1s 10ms/step - loss: 0.2304 - accuracy: 0.9012 - val_loss: 0.2307 - val_accuracy: 0.9062\n",
            "Epoch 6/10\n",
            "56/56 [==============================] - 1s 10ms/step - loss: 0.2332 - accuracy: 0.9012 - val_loss: 0.2241 - val_accuracy: 0.9062\n",
            "Epoch 7/10\n",
            "56/56 [==============================] - 1s 10ms/step - loss: 0.2332 - accuracy: 0.9012 - val_loss: 0.2215 - val_accuracy: 0.9062\n",
            "Epoch 8/10\n",
            "56/56 [==============================] - 1s 12ms/step - loss: 0.2323 - accuracy: 0.9012 - val_loss: 0.2191 - val_accuracy: 0.9062\n",
            "Epoch 9/10\n",
            "56/56 [==============================] - 1s 13ms/step - loss: 0.2278 - accuracy: 0.9012 - val_loss: 0.2289 - val_accuracy: 0.9062\n",
            "Epoch 10/10\n",
            "56/56 [==============================] - 1s 11ms/step - loss: 0.2248 - accuracy: 0.9012 - val_loss: 0.2243 - val_accuracy: 0.9062\n"
          ]
        },
        {
          "output_type": "execute_result",
          "data": {
            "text/plain": [
              "<keras.callbacks.History at 0x7f8498e2c850>"
            ]
          },
          "metadata": {},
          "execution_count": 53
        }
      ]
    },
    {
      "cell_type": "code",
      "source": [
        "predictions_suffix = model.predict(test_x[1])"
      ],
      "metadata": {
        "colab": {
          "base_uri": "https://localhost:8080/"
        },
        "id": "GdB4Qu4eQJXk",
        "outputId": "97bfff58-4017-4149-d2cb-6c3bb9489234"
      },
      "execution_count": 51,
      "outputs": [
        {
          "output_type": "stream",
          "name": "stdout",
          "text": [
            "18/18 [==============================] - 0s 3ms/step\n"
          ]
        }
      ]
    },
    {
      "cell_type": "code",
      "source": [
        "evaluate(predictions_suffix)"
      ],
      "metadata": {
        "colab": {
          "base_uri": "https://localhost:8080/"
        },
        "id": "H0lEpkueQKYc",
        "outputId": "2c653c93-7f51-44d5-98e8-222462aace74"
      },
      "execution_count": 52,
      "outputs": [
        {
          "output_type": "execute_result",
          "data": {
            "text/plain": [
              "0.9285714285714286"
            ]
          },
          "metadata": {},
          "execution_count": 52
        }
      ]
    },
    {
      "cell_type": "code",
      "source": [
        "# averaging outputs\n",
        "predictions = []\n",
        "for p in zip(predictions_prefix, predictions_suffix):\n",
        " \n",
        "  arr = []\n",
        "  for i in range(0,4):\n",
        "    arr.append((p[0][i]+p[1][i])/2)\n",
        "  predictions += [arr]\n",
        "\n",
        "predictions = np.array(predictions)\n",
        "\n",
        "evaluate(predictions, verbose=True)\n"
      ],
      "metadata": {
        "id": "Vm8Ftz-LnZkQ",
        "outputId": "65d33274-9c3c-492d-ccb6-28c4e0410822",
        "colab": {
          "base_uri": "https://localhost:8080/"
        }
      },
      "execution_count": 46,
      "outputs": [
        {
          "output_type": "stream",
          "name": "stdout",
          "text": [
            "predicted : 3; expected : 2\n",
            "predicted : 3; expected : 2\n",
            "predicted : 3; expected : 2\n",
            "predicted : 3; expected : 2\n",
            "predicted : 3; expected : 2\n",
            "predicted : 3; expected : 2\n",
            "predicted : 3; expected : 2\n",
            "predicted : 3; expected : 2\n",
            "predicted : 3; expected : 2\n",
            "predicted : 3; expected : 2\n"
          ]
        },
        {
          "output_type": "execute_result",
          "data": {
            "text/plain": [
              "0.9821428571428571"
            ]
          },
          "metadata": {},
          "execution_count": 46
        }
      ]
    },
    {
      "cell_type": "code",
      "source": [
        "# Bidirectional LSTM\n",
        "from keras.layers import Bidirectional, Input, Concatenate, Average\n",
        "from keras import Model\n",
        "\n",
        "\n",
        "\n",
        "\n",
        "# define prefix and suffix layers\n",
        "prefix_input = Input(shape=(5,1), name='prefix_input')\n",
        "prefix_embedding = Embedding(input_dim=4, output_dim=50)(prefix_input)\n",
        "prefix_output = LSTM(50, activation='relu', return_sequences=False, name='prefix_LSTM')(prefix_embedding)\n",
        "\n",
        "suffix_input = Input(shape=(5,1), name='suffix_input')\n",
        "suffix_embedding = Embedding(input_dim=4, output_dim=50)(suffix_input)\n",
        "suffix_output = LSTM(50, activation='relu', return_sequences=False, name='suffix_LSTM', go_backwards=True)(suffix_embedding)\n",
        "\n",
        "merge_output = Average()([prefix_output, suffix_output])\n",
        "\n",
        "# softmax_output = Softmax()(merge_output)\n",
        "\n",
        "output = Dense(4, activation='softmax', name='output')(merge_output)\n",
        "\n",
        "model = Model(inputs=[prefix_input, suffix_input],outputs=output)\n",
        "model.compile(optimizer='adam', loss='mse', metrics='accuracy')\n",
        "model.summary()\n",
        "model.fit((train_x[0], train_x[1]), train_y, epochs=100)\n"
      ],
      "metadata": {
        "colab": {
          "base_uri": "https://localhost:8080/",
          "height": 381
        },
        "id": "BHZBDIzHPmlp",
        "outputId": "de3d97a5-bc5b-46e9-92f3-cbd933cc7293"
      },
      "execution_count": 54,
      "outputs": [
        {
          "output_type": "error",
          "ename": "ValueError",
          "evalue": "ignored",
          "traceback": [
            "\u001b[0;31m---------------------------------------------------------------------------\u001b[0m",
            "\u001b[0;31mValueError\u001b[0m                                Traceback (most recent call last)",
            "\u001b[0;32m<ipython-input-54-2ebf8ab33f25>\u001b[0m in \u001b[0;36m<module>\u001b[0;34m\u001b[0m\n\u001b[1;32m      9\u001b[0m \u001b[0mprefix_input\u001b[0m \u001b[0;34m=\u001b[0m \u001b[0mInput\u001b[0m\u001b[0;34m(\u001b[0m\u001b[0mshape\u001b[0m\u001b[0;34m=\u001b[0m\u001b[0;34m(\u001b[0m\u001b[0;36m5\u001b[0m\u001b[0;34m,\u001b[0m\u001b[0;36m1\u001b[0m\u001b[0;34m)\u001b[0m\u001b[0;34m,\u001b[0m \u001b[0mname\u001b[0m\u001b[0;34m=\u001b[0m\u001b[0;34m'prefix_input'\u001b[0m\u001b[0;34m)\u001b[0m\u001b[0;34m\u001b[0m\u001b[0;34m\u001b[0m\u001b[0m\n\u001b[1;32m     10\u001b[0m \u001b[0mprefix_embedding\u001b[0m \u001b[0;34m=\u001b[0m \u001b[0mEmbedding\u001b[0m\u001b[0;34m(\u001b[0m\u001b[0minput_dim\u001b[0m\u001b[0;34m=\u001b[0m\u001b[0;36m4\u001b[0m\u001b[0;34m,\u001b[0m \u001b[0moutput_dim\u001b[0m\u001b[0;34m=\u001b[0m\u001b[0;36m50\u001b[0m\u001b[0;34m)\u001b[0m\u001b[0;34m(\u001b[0m\u001b[0mprefix_input\u001b[0m\u001b[0;34m)\u001b[0m\u001b[0;34m\u001b[0m\u001b[0;34m\u001b[0m\u001b[0m\n\u001b[0;32m---> 11\u001b[0;31m \u001b[0mprefix_output\u001b[0m \u001b[0;34m=\u001b[0m \u001b[0mLSTM\u001b[0m\u001b[0;34m(\u001b[0m\u001b[0;36m50\u001b[0m\u001b[0;34m,\u001b[0m \u001b[0mactivation\u001b[0m\u001b[0;34m=\u001b[0m\u001b[0;34m'relu'\u001b[0m\u001b[0;34m,\u001b[0m \u001b[0mreturn_sequences\u001b[0m\u001b[0;34m=\u001b[0m\u001b[0;32mFalse\u001b[0m\u001b[0;34m,\u001b[0m \u001b[0mname\u001b[0m\u001b[0;34m=\u001b[0m\u001b[0;34m'prefix_LSTM'\u001b[0m\u001b[0;34m)\u001b[0m\u001b[0;34m(\u001b[0m\u001b[0mprefix_embedding\u001b[0m\u001b[0;34m)\u001b[0m\u001b[0;34m\u001b[0m\u001b[0;34m\u001b[0m\u001b[0m\n\u001b[0m\u001b[1;32m     12\u001b[0m \u001b[0;34m\u001b[0m\u001b[0m\n\u001b[1;32m     13\u001b[0m \u001b[0msuffix_input\u001b[0m \u001b[0;34m=\u001b[0m \u001b[0mInput\u001b[0m\u001b[0;34m(\u001b[0m\u001b[0mshape\u001b[0m\u001b[0;34m=\u001b[0m\u001b[0;34m(\u001b[0m\u001b[0;36m5\u001b[0m\u001b[0;34m,\u001b[0m\u001b[0;36m1\u001b[0m\u001b[0;34m)\u001b[0m\u001b[0;34m,\u001b[0m \u001b[0mname\u001b[0m\u001b[0;34m=\u001b[0m\u001b[0;34m'suffix_input'\u001b[0m\u001b[0;34m)\u001b[0m\u001b[0;34m\u001b[0m\u001b[0;34m\u001b[0m\u001b[0m\n",
            "\u001b[0;32m/usr/local/lib/python3.8/dist-packages/keras/layers/rnn/base_rnn.py\u001b[0m in \u001b[0;36m__call__\u001b[0;34m(self, inputs, initial_state, constants, **kwargs)\u001b[0m\n\u001b[1;32m    554\u001b[0m \u001b[0;34m\u001b[0m\u001b[0m\n\u001b[1;32m    555\u001b[0m         \u001b[0;32mif\u001b[0m \u001b[0minitial_state\u001b[0m \u001b[0;32mis\u001b[0m \u001b[0;32mNone\u001b[0m \u001b[0;32mand\u001b[0m \u001b[0mconstants\u001b[0m \u001b[0;32mis\u001b[0m \u001b[0;32mNone\u001b[0m\u001b[0;34m:\u001b[0m\u001b[0;34m\u001b[0m\u001b[0;34m\u001b[0m\u001b[0m\n\u001b[0;32m--> 556\u001b[0;31m             \u001b[0;32mreturn\u001b[0m \u001b[0msuper\u001b[0m\u001b[0;34m(\u001b[0m\u001b[0;34m)\u001b[0m\u001b[0;34m.\u001b[0m\u001b[0m__call__\u001b[0m\u001b[0;34m(\u001b[0m\u001b[0minputs\u001b[0m\u001b[0;34m,\u001b[0m \u001b[0;34m**\u001b[0m\u001b[0mkwargs\u001b[0m\u001b[0;34m)\u001b[0m\u001b[0;34m\u001b[0m\u001b[0;34m\u001b[0m\u001b[0m\n\u001b[0m\u001b[1;32m    557\u001b[0m \u001b[0;34m\u001b[0m\u001b[0m\n\u001b[1;32m    558\u001b[0m         \u001b[0;31m# If any of `initial_state` or `constants` are specified and are Keras\u001b[0m\u001b[0;34m\u001b[0m\u001b[0;34m\u001b[0m\u001b[0;34m\u001b[0m\u001b[0m\n",
            "\u001b[0;32m/usr/local/lib/python3.8/dist-packages/keras/utils/traceback_utils.py\u001b[0m in \u001b[0;36merror_handler\u001b[0;34m(*args, **kwargs)\u001b[0m\n\u001b[1;32m     68\u001b[0m             \u001b[0;31m# To get the full stack trace, call:\u001b[0m\u001b[0;34m\u001b[0m\u001b[0;34m\u001b[0m\u001b[0;34m\u001b[0m\u001b[0m\n\u001b[1;32m     69\u001b[0m             \u001b[0;31m# `tf.debugging.disable_traceback_filtering()`\u001b[0m\u001b[0;34m\u001b[0m\u001b[0;34m\u001b[0m\u001b[0;34m\u001b[0m\u001b[0m\n\u001b[0;32m---> 70\u001b[0;31m             \u001b[0;32mraise\u001b[0m \u001b[0me\u001b[0m\u001b[0;34m.\u001b[0m\u001b[0mwith_traceback\u001b[0m\u001b[0;34m(\u001b[0m\u001b[0mfiltered_tb\u001b[0m\u001b[0;34m)\u001b[0m \u001b[0;32mfrom\u001b[0m \u001b[0;32mNone\u001b[0m\u001b[0;34m\u001b[0m\u001b[0;34m\u001b[0m\u001b[0m\n\u001b[0m\u001b[1;32m     71\u001b[0m         \u001b[0;32mfinally\u001b[0m\u001b[0;34m:\u001b[0m\u001b[0;34m\u001b[0m\u001b[0;34m\u001b[0m\u001b[0m\n\u001b[1;32m     72\u001b[0m             \u001b[0;32mdel\u001b[0m \u001b[0mfiltered_tb\u001b[0m\u001b[0;34m\u001b[0m\u001b[0;34m\u001b[0m\u001b[0m\n",
            "\u001b[0;32m/usr/local/lib/python3.8/dist-packages/keras/engine/input_spec.py\u001b[0m in \u001b[0;36massert_input_compatibility\u001b[0;34m(input_spec, inputs, layer_name)\u001b[0m\n\u001b[1;32m    230\u001b[0m             \u001b[0mndim\u001b[0m \u001b[0;34m=\u001b[0m \u001b[0mshape\u001b[0m\u001b[0;34m.\u001b[0m\u001b[0mrank\u001b[0m\u001b[0;34m\u001b[0m\u001b[0;34m\u001b[0m\u001b[0m\n\u001b[1;32m    231\u001b[0m             \u001b[0;32mif\u001b[0m \u001b[0mndim\u001b[0m \u001b[0;34m!=\u001b[0m \u001b[0mspec\u001b[0m\u001b[0;34m.\u001b[0m\u001b[0mndim\u001b[0m\u001b[0;34m:\u001b[0m\u001b[0;34m\u001b[0m\u001b[0;34m\u001b[0m\u001b[0m\n\u001b[0;32m--> 232\u001b[0;31m                 raise ValueError(\n\u001b[0m\u001b[1;32m    233\u001b[0m                     \u001b[0;34mf'Input {input_index} of layer \"{layer_name}\" '\u001b[0m\u001b[0;34m\u001b[0m\u001b[0;34m\u001b[0m\u001b[0m\n\u001b[1;32m    234\u001b[0m                     \u001b[0;34m\"is incompatible with the layer: \"\u001b[0m\u001b[0;34m\u001b[0m\u001b[0;34m\u001b[0m\u001b[0m\n",
            "\u001b[0;31mValueError\u001b[0m: Input 0 of layer \"prefix_LSTM\" is incompatible with the layer: expected ndim=3, found ndim=4. Full shape received: (None, 5, 1, 50)"
          ]
        }
      ]
    }
  ],
  "metadata": {
    "kernelspec": {
      "display_name": "Python 3",
      "language": "python",
      "name": "python3"
    },
    "language_info": {
      "codemirror_mode": {
        "name": "ipython",
        "version": 3
      },
      "file_extension": ".py",
      "mimetype": "text/x-python",
      "name": "python",
      "nbconvert_exporter": "python",
      "pygments_lexer": "ipython3",
      "version": "3.10.2"
    },
    "orig_nbformat": 4,
    "vscode": {
      "interpreter": {
        "hash": "668626f72d98c3d20278a861d4c9cd1e9608e85361f1e74d685459c6ce5f80f9"
      }
    },
    "colab": {
      "provenance": [],
      "include_colab_link": true
    },
    "accelerator": "TPU",
    "gpuClass": "standard"
  },
  "nbformat": 4,
  "nbformat_minor": 0
}